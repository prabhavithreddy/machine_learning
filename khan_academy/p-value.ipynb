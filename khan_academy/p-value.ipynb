{
 "cells": [
  {
   "cell_type": "code",
   "execution_count": 1,
   "id": "8102d9c4",
   "metadata": {},
   "outputs": [],
   "source": [
    "import numpy as np\n",
    "from scipy.stats import norm, t"
   ]
  },
  {
   "cell_type": "code",
   "execution_count": 26,
   "id": "386f5824",
   "metadata": {},
   "outputs": [],
   "source": [
    "\n",
    "def get_p_value(p, n, ps):\n",
    "    p_s = ps\n",
    "    print(f\"Population mean: {p}\")\n",
    "    print(f\"Sampling Propotion: {p_s}\")\n",
    "    p_std = np.sqrt(p*(1-p))\n",
    "    print(f\"Population std: {p_std}\")\n",
    "    se = p_std/np.sqrt(n)\n",
    "    print(f\"Sampling Distribution Standard Error: {se}\")\n",
    "    z = np.round((p_s - p)/se,2)\n",
    "    print(f\"Z-score: {z}\")\n",
    "    p_value = np.round(norm.cdf(z),5)\n",
    "    print(f\"p_value: {p_value}\")"
   ]
  },
  {
   "cell_type": "code",
   "execution_count": 27,
   "id": "434d64e1",
   "metadata": {},
   "outputs": [
    {
     "name": "stdout",
     "output_type": "stream",
     "text": [
      "Population mean: 0.08\n",
      "Sampling Propotion: 0.046875\n",
      "Population std: 0.2712931993250107\n",
      "Sampling Distribution Standard Error: 0.023979157616563596\n",
      "Z-score: -1.38\n",
      "p_value: 0.08379\n"
     ]
    }
   ],
   "source": [
    "get_p_value(0.08, 128, 6/128)"
   ]
  },
  {
   "cell_type": "code",
   "execution_count": 28,
   "id": "a11388ea",
   "metadata": {},
   "outputs": [
    {
     "name": "stdout",
     "output_type": "stream",
     "text": [
      "Population mean: 0.06\n",
      "Sampling Propotion: 0.0875\n",
      "Population std: 0.23748684174075832\n",
      "Sampling Distribution Standard Error: 0.01532970971675589\n",
      "Z-score: 1.79\n",
      "p_value: 0.96327\n"
     ]
    }
   ],
   "source": [
    "p = 0.06\n",
    "n = 240\n",
    "ps = 21/n\n",
    "get_p_value(p, n, ps)"
   ]
  },
  {
   "cell_type": "code",
   "execution_count": 38,
   "id": "89e25b70",
   "metadata": {},
   "outputs": [
    {
     "data": {
      "text/plain": [
       "0.106"
      ]
     },
     "execution_count": 38,
     "metadata": {},
     "output_type": "execute_result"
    }
   ],
   "source": [
    "np.round(norm.cdf(-1.25),3)"
   ]
  },
  {
   "cell_type": "code",
   "execution_count": 46,
   "id": "277a484e",
   "metadata": {},
   "outputs": [
    {
     "data": {
      "text/plain": [
       "0.05876"
      ]
     },
     "execution_count": 46,
     "metadata": {},
     "output_type": "execute_result"
    }
   ],
   "source": [
    "np.round(norm.cdf(-1.89),5)*2"
   ]
  },
  {
   "cell_type": "code",
   "execution_count": 48,
   "id": "99c50401",
   "metadata": {},
   "outputs": [
    {
     "data": {
      "text/plain": [
       "0.05369999999999997"
      ]
     },
     "execution_count": 48,
     "metadata": {},
     "output_type": "execute_result"
    }
   ],
   "source": [
    "1 - np.round(norm.cdf(1.61),5)"
   ]
  },
  {
   "cell_type": "code",
   "execution_count": 60,
   "id": "f27a1d4d",
   "metadata": {},
   "outputs": [],
   "source": [
    "def get_p_value(m, n, sm, std):\n",
    "    print(f\"Population mean: {m}\")\n",
    "    print(f\"Sampling mean: {sm}\")\n",
    "    p_std = std\n",
    "    print(f\"Sample std: {p_std}\")\n",
    "    se = p_std/np.sqrt(n)\n",
    "    print(f\"Sampling Distribution Standard Error: {se}\")\n",
    "    t = np.round((sm - m)/se,5)\n",
    "    print(f\"t-score: {t}\")\n",
    "    #p_value = np.round(t.(z),5)\n",
    "    #print(f\"p_value: {p_value}\")"
   ]
  },
  {
   "cell_type": "code",
   "execution_count": 63,
   "id": "317fdc78",
   "metadata": {},
   "outputs": [
    {
     "name": "stdout",
     "output_type": "stream",
     "text": [
      "Population mean: 500\n",
      "Sampling mean: 497\n",
      "Sample std: 6\n",
      "Sampling Distribution Standard Error: 1.5\n",
      "t-score: -2.0\n"
     ]
    }
   ],
   "source": [
    "get_p_value(500, 16, 497, 6)"
   ]
  },
  {
   "cell_type": "code",
   "execution_count": 78,
   "id": "dc2e17bb",
   "metadata": {},
   "outputs": [
    {
     "data": {
      "text/plain": [
       "0.1006"
      ]
     },
     "execution_count": 78,
     "metadata": {},
     "output_type": "execute_result"
    }
   ],
   "source": [
    "np.round((1 - t.cdf(1.368, 10)),4)"
   ]
  },
  {
   "cell_type": "code",
   "execution_count": 69,
   "id": "bb4b7879",
   "metadata": {},
   "outputs": [
    {
     "data": {
      "text/plain": [
       "0.0149"
      ]
     },
     "execution_count": 69,
     "metadata": {},
     "output_type": "execute_result"
    }
   ],
   "source": [
    "np.round(t.cdf(-2.4, 15),4)"
   ]
  },
  {
   "cell_type": "code",
   "execution_count": null,
   "id": "8b6ce7f5",
   "metadata": {},
   "outputs": [],
   "source": []
  }
 ],
 "metadata": {
  "kernelspec": {
   "display_name": "Python 3",
   "language": "python",
   "name": "python3"
  },
  "language_info": {
   "codemirror_mode": {
    "name": "ipython",
    "version": 3
   },
   "file_extension": ".py",
   "mimetype": "text/x-python",
   "name": "python",
   "nbconvert_exporter": "python",
   "pygments_lexer": "ipython3",
   "version": "3.8.8"
  }
 },
 "nbformat": 4,
 "nbformat_minor": 5
}
