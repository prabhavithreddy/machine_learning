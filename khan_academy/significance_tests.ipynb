{
 "cells": [
  {
   "cell_type": "code",
   "execution_count": 1,
   "id": "7adc3164",
   "metadata": {},
   "outputs": [],
   "source": [
    "import numpy as np\n",
    "from scipy.stats import norm, t"
   ]
  },
  {
   "cell_type": "code",
   "execution_count": 2,
   "id": "14245703",
   "metadata": {},
   "outputs": [
    {
     "name": "stdout",
     "output_type": "stream",
     "text": [
      "0.75\n"
     ]
    }
   ],
   "source": [
    "p=0.8\n",
    "\n",
    "s_p = 48/64\n",
    "print(s_p)"
   ]
  },
  {
   "cell_type": "code",
   "execution_count": 8,
   "id": "b84b3e58",
   "metadata": {},
   "outputs": [
    {
     "data": {
      "text/plain": [
       "0.39999999999999997"
      ]
     },
     "execution_count": 8,
     "metadata": {},
     "output_type": "execute_result"
    }
   ],
   "source": [
    "#we dont have population standard deviation \n",
    "s_sd = np.sqrt(p*(1-p))\n",
    "s_sd"
   ]
  },
  {
   "cell_type": "code",
   "execution_count": 9,
   "id": "d4227c86",
   "metadata": {},
   "outputs": [
    {
     "data": {
      "text/plain": [
       "-1.0000000000000009"
      ]
     },
     "execution_count": 9,
     "metadata": {},
     "output_type": "execute_result"
    }
   ],
   "source": [
    "z = (s_p - p)/(s_sd/8)\n",
    "z"
   ]
  },
  {
   "cell_type": "code",
   "execution_count": 6,
   "id": "e2d45dd6",
   "metadata": {},
   "outputs": [
    {
     "data": {
      "text/plain": [
       "-1.8475208614068042"
      ]
     },
     "execution_count": 6,
     "metadata": {},
     "output_type": "execute_result"
    }
   ],
   "source": [
    "z*2"
   ]
  },
  {
   "cell_type": "code",
   "execution_count": 18,
   "id": "1bf5cb3c",
   "metadata": {},
   "outputs": [
    {
     "data": {
      "text/plain": [
       "-1.5"
      ]
     },
     "execution_count": 18,
     "metadata": {},
     "output_type": "execute_result"
    }
   ],
   "source": [
    "p = .2\n",
    "n = 100\n",
    "s_p = 14/n\n",
    "s_e = np.sqrt((p*(1-p))/n)\n",
    "np.round((s_p - p)/s_e,2)"
   ]
  },
  {
   "cell_type": "code",
   "execution_count": null,
   "id": "c7dc3b15",
   "metadata": {},
   "outputs": [],
   "source": []
  }
 ],
 "metadata": {
  "kernelspec": {
   "display_name": "Python 3",
   "language": "python",
   "name": "python3"
  },
  "language_info": {
   "codemirror_mode": {
    "name": "ipython",
    "version": 3
   },
   "file_extension": ".py",
   "mimetype": "text/x-python",
   "name": "python",
   "nbconvert_exporter": "python",
   "pygments_lexer": "ipython3",
   "version": "3.8.8"
  }
 },
 "nbformat": 4,
 "nbformat_minor": 5
}
