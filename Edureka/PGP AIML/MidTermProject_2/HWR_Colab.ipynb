{
  "cells": [
    {
      "cell_type": "code",
      "execution_count": 1,
      "id": "10c6fcf3",
      "metadata": {
        "id": "10c6fcf3"
      },
      "outputs": [],
      "source": [
        "import os\n",
        "import shutil\n",
        "from os import listdir\n",
        "\n",
        "import cv2\n",
        "\n",
        "import pandas as pd\n",
        "import numpy as np\n",
        "\n",
        "from sklearn.preprocessing import LabelEncoder, MinMaxScaler\n",
        "from sklearn.model_selection import train_test_split\n",
        "\n",
        "import tensorflow as tf\n",
        "from tensorflow.keras.layers import Dropout, LSTM, Bidirectional, Dense, Activation\n",
        "from tensorflow import keras\n",
        "from keras import backend\n",
        "from tensorflow.keras import layers\n",
        "\n",
        "import matplotlib.pyplot as plt\n",
        "import seaborn as sns\n",
        "\n",
        "import warnings\n",
        "warnings.filterwarnings(action='ignore')"
      ]
    },
    {
      "cell_type": "code",
      "source": [
        "from google.colab import drive\n",
        "drive.mount('/content/drive')\n",
        "!cp /content/drive/MyDrive/ML_Data/dataset.zip dataset.zip\n",
        "import zipfile\n",
        "with zipfile.ZipFile('dataset.zip', 'r') as zip_ref:\n",
        "    zip_ref.extractall('/content')"
      ],
      "metadata": {
        "colab": {
          "base_uri": "https://localhost:8080/"
        },
        "id": "JTfu_LFCfI0b",
        "outputId": "61cca64e-b7d5-4016-e8f7-2413c085ebe0"
      },
      "id": "JTfu_LFCfI0b",
      "execution_count": 6,
      "outputs": [
        {
          "output_type": "stream",
          "name": "stdout",
          "text": [
            "Mounted at /content/drive\n"
          ]
        }
      ]
    },
    {
      "cell_type": "markdown",
      "id": "a979dcef",
      "metadata": {
        "id": "a979dcef"
      },
      "source": [
        "### 1. Read the parase.txt file containing the image id and the respective word for that image and take the first 10000 instances for training and testing of the model"
      ]
    },
    {
      "cell_type": "code",
      "execution_count": 3,
      "id": "42d7d9ee",
      "metadata": {
        "id": "42d7d9ee"
      },
      "outputs": [],
      "source": [
        "total_number_of_images = 20000"
      ]
    },
    {
      "cell_type": "code",
      "execution_count": 8,
      "id": "91bd53ff",
      "metadata": {
        "id": "91bd53ff"
      },
      "outputs": [],
      "source": [
        "if not os.path.exists('/content/images.csv'):\n",
        "    counter = 0\n",
        "    image_df = pd.DataFrame()\n",
        "    with open('parser.txt', mode='r') as f:\n",
        "        while counter < total_number_of_images:\n",
        "            image_df = pd.concat([image_df, pd.DataFrame(f.readline().split()).T], axis=0)\n",
        "            counter+=1\n",
        "    image_df.to_csv('images.csv', index=False)\n",
        "else:\n",
        "    image_df = pd.read_csv('/content/images.csv', index_col=0)"
      ]
    },
    {
      "cell_type": "code",
      "execution_count": 9,
      "id": "c913269d",
      "metadata": {
        "colab": {
          "base_uri": "https://localhost:8080/"
        },
        "id": "c913269d",
        "outputId": "03ff2576-d172-4a89-cfc7-d47c22c5eeda"
      },
      "outputs": [
        {
          "output_type": "stream",
          "name": "stdout",
          "text": [
            "Shape of the image dataframe: (20000, 2)\n"
          ]
        }
      ],
      "source": [
        "print(f\"Shape of the image dataframe: {image_df.shape}\")"
      ]
    },
    {
      "cell_type": "code",
      "execution_count": 10,
      "id": "e8a13b97",
      "metadata": {
        "id": "e8a13b97"
      },
      "outputs": [],
      "source": [
        "df = image_df.copy()"
      ]
    },
    {
      "cell_type": "code",
      "execution_count": 11,
      "id": "1b29e43c",
      "metadata": {
        "colab": {
          "base_uri": "https://localhost:8080/",
          "height": 237
        },
        "id": "1b29e43c",
        "outputId": "ed972159-9097-4ccf-9a66-555b63286a34"
      },
      "outputs": [
        {
          "output_type": "execute_result",
          "data": {
            "text/html": [
              "\n",
              "  <div id=\"df-ca1d10de-57e3-4c32-a108-f8975edc76c0\">\n",
              "    <div class=\"colab-df-container\">\n",
              "      <div>\n",
              "<style scoped>\n",
              "    .dataframe tbody tr th:only-of-type {\n",
              "        vertical-align: middle;\n",
              "    }\n",
              "\n",
              "    .dataframe tbody tr th {\n",
              "        vertical-align: top;\n",
              "    }\n",
              "\n",
              "    .dataframe thead th {\n",
              "        text-align: right;\n",
              "    }\n",
              "</style>\n",
              "<table border=\"1\" class=\"dataframe\">\n",
              "  <thead>\n",
              "    <tr style=\"text-align: right;\">\n",
              "      <th></th>\n",
              "      <th>Status</th>\n",
              "      <th>Word</th>\n",
              "    </tr>\n",
              "    <tr>\n",
              "      <th>0</th>\n",
              "      <th></th>\n",
              "      <th></th>\n",
              "    </tr>\n",
              "  </thead>\n",
              "  <tbody>\n",
              "    <tr>\n",
              "      <th>a01-000u-00-00</th>\n",
              "      <td>ok</td>\n",
              "      <td>A</td>\n",
              "    </tr>\n",
              "    <tr>\n",
              "      <th>a01-000u-00-01</th>\n",
              "      <td>ok</td>\n",
              "      <td>MOVE</td>\n",
              "    </tr>\n",
              "    <tr>\n",
              "      <th>a01-000u-00-02</th>\n",
              "      <td>ok</td>\n",
              "      <td>to</td>\n",
              "    </tr>\n",
              "    <tr>\n",
              "      <th>a01-000u-00-03</th>\n",
              "      <td>ok</td>\n",
              "      <td>stop</td>\n",
              "    </tr>\n",
              "    <tr>\n",
              "      <th>a01-000u-00-04</th>\n",
              "      <td>ok</td>\n",
              "      <td>Mr.</td>\n",
              "    </tr>\n",
              "  </tbody>\n",
              "</table>\n",
              "</div>\n",
              "      <button class=\"colab-df-convert\" onclick=\"convertToInteractive('df-ca1d10de-57e3-4c32-a108-f8975edc76c0')\"\n",
              "              title=\"Convert this dataframe to an interactive table.\"\n",
              "              style=\"display:none;\">\n",
              "        \n",
              "  <svg xmlns=\"http://www.w3.org/2000/svg\" height=\"24px\"viewBox=\"0 0 24 24\"\n",
              "       width=\"24px\">\n",
              "    <path d=\"M0 0h24v24H0V0z\" fill=\"none\"/>\n",
              "    <path d=\"M18.56 5.44l.94 2.06.94-2.06 2.06-.94-2.06-.94-.94-2.06-.94 2.06-2.06.94zm-11 1L8.5 8.5l.94-2.06 2.06-.94-2.06-.94L8.5 2.5l-.94 2.06-2.06.94zm10 10l.94 2.06.94-2.06 2.06-.94-2.06-.94-.94-2.06-.94 2.06-2.06.94z\"/><path d=\"M17.41 7.96l-1.37-1.37c-.4-.4-.92-.59-1.43-.59-.52 0-1.04.2-1.43.59L10.3 9.45l-7.72 7.72c-.78.78-.78 2.05 0 2.83L4 21.41c.39.39.9.59 1.41.59.51 0 1.02-.2 1.41-.59l7.78-7.78 2.81-2.81c.8-.78.8-2.07 0-2.86zM5.41 20L4 18.59l7.72-7.72 1.47 1.35L5.41 20z\"/>\n",
              "  </svg>\n",
              "      </button>\n",
              "      \n",
              "  <style>\n",
              "    .colab-df-container {\n",
              "      display:flex;\n",
              "      flex-wrap:wrap;\n",
              "      gap: 12px;\n",
              "    }\n",
              "\n",
              "    .colab-df-convert {\n",
              "      background-color: #E8F0FE;\n",
              "      border: none;\n",
              "      border-radius: 50%;\n",
              "      cursor: pointer;\n",
              "      display: none;\n",
              "      fill: #1967D2;\n",
              "      height: 32px;\n",
              "      padding: 0 0 0 0;\n",
              "      width: 32px;\n",
              "    }\n",
              "\n",
              "    .colab-df-convert:hover {\n",
              "      background-color: #E2EBFA;\n",
              "      box-shadow: 0px 1px 2px rgba(60, 64, 67, 0.3), 0px 1px 3px 1px rgba(60, 64, 67, 0.15);\n",
              "      fill: #174EA6;\n",
              "    }\n",
              "\n",
              "    [theme=dark] .colab-df-convert {\n",
              "      background-color: #3B4455;\n",
              "      fill: #D2E3FC;\n",
              "    }\n",
              "\n",
              "    [theme=dark] .colab-df-convert:hover {\n",
              "      background-color: #434B5C;\n",
              "      box-shadow: 0px 1px 3px 1px rgba(0, 0, 0, 0.15);\n",
              "      filter: drop-shadow(0px 1px 2px rgba(0, 0, 0, 0.3));\n",
              "      fill: #FFFFFF;\n",
              "    }\n",
              "  </style>\n",
              "\n",
              "      <script>\n",
              "        const buttonEl =\n",
              "          document.querySelector('#df-ca1d10de-57e3-4c32-a108-f8975edc76c0 button.colab-df-convert');\n",
              "        buttonEl.style.display =\n",
              "          google.colab.kernel.accessAllowed ? 'block' : 'none';\n",
              "\n",
              "        async function convertToInteractive(key) {\n",
              "          const element = document.querySelector('#df-ca1d10de-57e3-4c32-a108-f8975edc76c0');\n",
              "          const dataTable =\n",
              "            await google.colab.kernel.invokeFunction('convertToInteractive',\n",
              "                                                     [key], {});\n",
              "          if (!dataTable) return;\n",
              "\n",
              "          const docLinkHtml = 'Like what you see? Visit the ' +\n",
              "            '<a target=\"_blank\" href=https://colab.research.google.com/notebooks/data_table.ipynb>data table notebook</a>'\n",
              "            + ' to learn more about interactive tables.';\n",
              "          element.innerHTML = '';\n",
              "          dataTable['output_type'] = 'display_data';\n",
              "          await google.colab.output.renderOutput(dataTable, element);\n",
              "          const docLink = document.createElement('div');\n",
              "          docLink.innerHTML = docLinkHtml;\n",
              "          element.appendChild(docLink);\n",
              "        }\n",
              "      </script>\n",
              "    </div>\n",
              "  </div>\n",
              "  "
            ],
            "text/plain": [
              "               Status  Word\n",
              "0                          \n",
              "a01-000u-00-00     ok     A\n",
              "a01-000u-00-01     ok  MOVE\n",
              "a01-000u-00-02     ok    to\n",
              "a01-000u-00-03     ok  stop\n",
              "a01-000u-00-04     ok   Mr."
            ]
          },
          "metadata": {},
          "execution_count": 11
        }
      ],
      "source": [
        "df.head()"
      ]
    },
    {
      "cell_type": "markdown",
      "id": "5b2e9ac5",
      "metadata": {
        "id": "5b2e9ac5"
      },
      "source": [
        "### EDA\n",
        "1. Check for Null, NA or error"
      ]
    },
    {
      "cell_type": "code",
      "execution_count": 12,
      "id": "96e719be",
      "metadata": {
        "colab": {
          "base_uri": "https://localhost:8080/"
        },
        "id": "96e719be",
        "outputId": "043102b1-9ad5-4ce4-8ba3-4ff1579e9cd2"
      },
      "outputs": [
        {
          "output_type": "execute_result",
          "data": {
            "text/plain": [
              "ok     17786\n",
              "err     2214\n",
              "Name: Status, dtype: int64"
            ]
          },
          "metadata": {},
          "execution_count": 12
        }
      ],
      "source": [
        "# Checkign the status counts\n",
        "df['Status'].value_counts()"
      ]
    },
    {
      "cell_type": "code",
      "execution_count": 13,
      "id": "f4ebf006",
      "metadata": {
        "scrolled": true,
        "colab": {
          "base_uri": "https://localhost:8080/"
        },
        "id": "f4ebf006",
        "outputId": "be066a1d-5a19-4bd4-e38a-69be22298db1"
      },
      "outputs": [
        {
          "output_type": "stream",
          "name": "stdout",
          "text": [
            "Shape of the datafram after dropping error: (17786, 2)\n"
          ]
        }
      ],
      "source": [
        "# Remove the images with err status\n",
        "\n",
        "df = df.drop(df[df['Status'] == 'err'].index, axis=0)\n",
        "print(f'Shape of the datafram after dropping error: {df.shape}')"
      ]
    },
    {
      "cell_type": "code",
      "execution_count": 14,
      "id": "2ddf9c76",
      "metadata": {
        "colab": {
          "base_uri": "https://localhost:8080/"
        },
        "id": "2ddf9c76",
        "outputId": "324a5019-61b3-4ead-8381-bb73790db17c"
      },
      "outputs": [
        {
          "output_type": "stream",
          "name": "stdout",
          "text": [
            "Shape of the datafram after Sampling: (12000, 2)\n"
          ]
        }
      ],
      "source": [
        "# Picking up 12k images for training, validation and testing\n",
        "df = df.sample(12000)\n",
        "print(f'Shape of the datafram after Sampling: {df.shape}')"
      ]
    },
    {
      "cell_type": "code",
      "execution_count": 15,
      "id": "2c159545",
      "metadata": {
        "colab": {
          "base_uri": "https://localhost:8080/"
        },
        "id": "2c159545",
        "outputId": "62d70833-1c4f-468e-abe4-287df565bd02"
      },
      "outputs": [
        {
          "output_type": "stream",
          "name": "stdout",
          "text": [
            "Are there any null words: False\n",
            "Are there any empty words: Status    False\n",
            "Word      False\n",
            "dtype: bool\n"
          ]
        }
      ],
      "source": [
        "# Check for null, or empty characters\n",
        "result = df['Word'].isna().any()\n",
        "print(f'Are there any null words: {result}')\n",
        "\n",
        "result = df[df['Word'].str.len() == 0].any()\n",
        "print(f'Are there any empty words: {result}')"
      ]
    },
    {
      "cell_type": "code",
      "execution_count": 16,
      "id": "6c444e88",
      "metadata": {
        "colab": {
          "base_uri": "https://localhost:8080/",
          "height": 237
        },
        "id": "6c444e88",
        "outputId": "c5167341-b2df-43e4-de6c-316dc2b818c3"
      },
      "outputs": [
        {
          "output_type": "execute_result",
          "data": {
            "text/html": [
              "\n",
              "  <div id=\"df-ae8c79ed-688e-4c04-bb9b-25901c25f662\">\n",
              "    <div class=\"colab-df-container\">\n",
              "      <div>\n",
              "<style scoped>\n",
              "    .dataframe tbody tr th:only-of-type {\n",
              "        vertical-align: middle;\n",
              "    }\n",
              "\n",
              "    .dataframe tbody tr th {\n",
              "        vertical-align: top;\n",
              "    }\n",
              "\n",
              "    .dataframe thead th {\n",
              "        text-align: right;\n",
              "    }\n",
              "</style>\n",
              "<table border=\"1\" class=\"dataframe\">\n",
              "  <thead>\n",
              "    <tr style=\"text-align: right;\">\n",
              "      <th></th>\n",
              "      <th>Word</th>\n",
              "    </tr>\n",
              "    <tr>\n",
              "      <th>0</th>\n",
              "      <th></th>\n",
              "    </tr>\n",
              "  </thead>\n",
              "  <tbody>\n",
              "    <tr>\n",
              "      <th>b03-098-02-05</th>\n",
              "      <td>the</td>\n",
              "    </tr>\n",
              "    <tr>\n",
              "      <th>a01-020u-07-03</th>\n",
              "      <td>The</td>\n",
              "    </tr>\n",
              "    <tr>\n",
              "      <th>a02-111-03-02</th>\n",
              "      <td>,</td>\n",
              "    </tr>\n",
              "    <tr>\n",
              "      <th>a05-069-02-00</th>\n",
              "      <td>the</td>\n",
              "    </tr>\n",
              "    <tr>\n",
              "      <th>a03-037-04-07</th>\n",
              "      <td>British</td>\n",
              "    </tr>\n",
              "  </tbody>\n",
              "</table>\n",
              "</div>\n",
              "      <button class=\"colab-df-convert\" onclick=\"convertToInteractive('df-ae8c79ed-688e-4c04-bb9b-25901c25f662')\"\n",
              "              title=\"Convert this dataframe to an interactive table.\"\n",
              "              style=\"display:none;\">\n",
              "        \n",
              "  <svg xmlns=\"http://www.w3.org/2000/svg\" height=\"24px\"viewBox=\"0 0 24 24\"\n",
              "       width=\"24px\">\n",
              "    <path d=\"M0 0h24v24H0V0z\" fill=\"none\"/>\n",
              "    <path d=\"M18.56 5.44l.94 2.06.94-2.06 2.06-.94-2.06-.94-.94-2.06-.94 2.06-2.06.94zm-11 1L8.5 8.5l.94-2.06 2.06-.94-2.06-.94L8.5 2.5l-.94 2.06-2.06.94zm10 10l.94 2.06.94-2.06 2.06-.94-2.06-.94-.94-2.06-.94 2.06-2.06.94z\"/><path d=\"M17.41 7.96l-1.37-1.37c-.4-.4-.92-.59-1.43-.59-.52 0-1.04.2-1.43.59L10.3 9.45l-7.72 7.72c-.78.78-.78 2.05 0 2.83L4 21.41c.39.39.9.59 1.41.59.51 0 1.02-.2 1.41-.59l7.78-7.78 2.81-2.81c.8-.78.8-2.07 0-2.86zM5.41 20L4 18.59l7.72-7.72 1.47 1.35L5.41 20z\"/>\n",
              "  </svg>\n",
              "      </button>\n",
              "      \n",
              "  <style>\n",
              "    .colab-df-container {\n",
              "      display:flex;\n",
              "      flex-wrap:wrap;\n",
              "      gap: 12px;\n",
              "    }\n",
              "\n",
              "    .colab-df-convert {\n",
              "      background-color: #E8F0FE;\n",
              "      border: none;\n",
              "      border-radius: 50%;\n",
              "      cursor: pointer;\n",
              "      display: none;\n",
              "      fill: #1967D2;\n",
              "      height: 32px;\n",
              "      padding: 0 0 0 0;\n",
              "      width: 32px;\n",
              "    }\n",
              "\n",
              "    .colab-df-convert:hover {\n",
              "      background-color: #E2EBFA;\n",
              "      box-shadow: 0px 1px 2px rgba(60, 64, 67, 0.3), 0px 1px 3px 1px rgba(60, 64, 67, 0.15);\n",
              "      fill: #174EA6;\n",
              "    }\n",
              "\n",
              "    [theme=dark] .colab-df-convert {\n",
              "      background-color: #3B4455;\n",
              "      fill: #D2E3FC;\n",
              "    }\n",
              "\n",
              "    [theme=dark] .colab-df-convert:hover {\n",
              "      background-color: #434B5C;\n",
              "      box-shadow: 0px 1px 3px 1px rgba(0, 0, 0, 0.15);\n",
              "      filter: drop-shadow(0px 1px 2px rgba(0, 0, 0, 0.3));\n",
              "      fill: #FFFFFF;\n",
              "    }\n",
              "  </style>\n",
              "\n",
              "      <script>\n",
              "        const buttonEl =\n",
              "          document.querySelector('#df-ae8c79ed-688e-4c04-bb9b-25901c25f662 button.colab-df-convert');\n",
              "        buttonEl.style.display =\n",
              "          google.colab.kernel.accessAllowed ? 'block' : 'none';\n",
              "\n",
              "        async function convertToInteractive(key) {\n",
              "          const element = document.querySelector('#df-ae8c79ed-688e-4c04-bb9b-25901c25f662');\n",
              "          const dataTable =\n",
              "            await google.colab.kernel.invokeFunction('convertToInteractive',\n",
              "                                                     [key], {});\n",
              "          if (!dataTable) return;\n",
              "\n",
              "          const docLinkHtml = 'Like what you see? Visit the ' +\n",
              "            '<a target=\"_blank\" href=https://colab.research.google.com/notebooks/data_table.ipynb>data table notebook</a>'\n",
              "            + ' to learn more about interactive tables.';\n",
              "          element.innerHTML = '';\n",
              "          dataTable['output_type'] = 'display_data';\n",
              "          await google.colab.output.renderOutput(dataTable, element);\n",
              "          const docLink = document.createElement('div');\n",
              "          docLink.innerHTML = docLinkHtml;\n",
              "          element.appendChild(docLink);\n",
              "        }\n",
              "      </script>\n",
              "    </div>\n",
              "  </div>\n",
              "  "
            ],
            "text/plain": [
              "                   Word\n",
              "0                      \n",
              "b03-098-02-05       the\n",
              "a01-020u-07-03      The\n",
              "a02-111-03-02         ,\n",
              "a05-069-02-00       the\n",
              "a03-037-04-07   British"
            ]
          },
          "metadata": {},
          "execution_count": 16
        }
      ],
      "source": [
        "# Drop of Status columns\n",
        "if 'Status' in df.columns:\n",
        "    df = df.drop(columns=['Status'], axis=1)\n",
        "df.head()"
      ]
    },
    {
      "cell_type": "code",
      "execution_count": 17,
      "id": "a3103e4e",
      "metadata": {
        "colab": {
          "base_uri": "https://localhost:8080/",
          "height": 237
        },
        "id": "a3103e4e",
        "outputId": "35a9ea51-4f99-4a5d-9b3e-c65920b3ecc5"
      },
      "outputs": [
        {
          "output_type": "execute_result",
          "data": {
            "text/html": [
              "\n",
              "  <div id=\"df-2bf0c0bb-20f9-43fb-bfd7-e734274d5b1f\">\n",
              "    <div class=\"colab-df-container\">\n",
              "      <div>\n",
              "<style scoped>\n",
              "    .dataframe tbody tr th:only-of-type {\n",
              "        vertical-align: middle;\n",
              "    }\n",
              "\n",
              "    .dataframe tbody tr th {\n",
              "        vertical-align: top;\n",
              "    }\n",
              "\n",
              "    .dataframe thead th {\n",
              "        text-align: right;\n",
              "    }\n",
              "</style>\n",
              "<table border=\"1\" class=\"dataframe\">\n",
              "  <thead>\n",
              "    <tr style=\"text-align: right;\">\n",
              "      <th></th>\n",
              "      <th>Word</th>\n",
              "      <th>Word_Length</th>\n",
              "    </tr>\n",
              "    <tr>\n",
              "      <th>0</th>\n",
              "      <th></th>\n",
              "      <th></th>\n",
              "    </tr>\n",
              "  </thead>\n",
              "  <tbody>\n",
              "    <tr>\n",
              "      <th>b03-098-02-05</th>\n",
              "      <td>the</td>\n",
              "      <td>3</td>\n",
              "    </tr>\n",
              "    <tr>\n",
              "      <th>a01-020u-07-03</th>\n",
              "      <td>The</td>\n",
              "      <td>3</td>\n",
              "    </tr>\n",
              "    <tr>\n",
              "      <th>a02-111-03-02</th>\n",
              "      <td>,</td>\n",
              "      <td>1</td>\n",
              "    </tr>\n",
              "    <tr>\n",
              "      <th>a05-069-02-00</th>\n",
              "      <td>the</td>\n",
              "      <td>3</td>\n",
              "    </tr>\n",
              "    <tr>\n",
              "      <th>a03-037-04-07</th>\n",
              "      <td>British</td>\n",
              "      <td>7</td>\n",
              "    </tr>\n",
              "  </tbody>\n",
              "</table>\n",
              "</div>\n",
              "      <button class=\"colab-df-convert\" onclick=\"convertToInteractive('df-2bf0c0bb-20f9-43fb-bfd7-e734274d5b1f')\"\n",
              "              title=\"Convert this dataframe to an interactive table.\"\n",
              "              style=\"display:none;\">\n",
              "        \n",
              "  <svg xmlns=\"http://www.w3.org/2000/svg\" height=\"24px\"viewBox=\"0 0 24 24\"\n",
              "       width=\"24px\">\n",
              "    <path d=\"M0 0h24v24H0V0z\" fill=\"none\"/>\n",
              "    <path d=\"M18.56 5.44l.94 2.06.94-2.06 2.06-.94-2.06-.94-.94-2.06-.94 2.06-2.06.94zm-11 1L8.5 8.5l.94-2.06 2.06-.94-2.06-.94L8.5 2.5l-.94 2.06-2.06.94zm10 10l.94 2.06.94-2.06 2.06-.94-2.06-.94-.94-2.06-.94 2.06-2.06.94z\"/><path d=\"M17.41 7.96l-1.37-1.37c-.4-.4-.92-.59-1.43-.59-.52 0-1.04.2-1.43.59L10.3 9.45l-7.72 7.72c-.78.78-.78 2.05 0 2.83L4 21.41c.39.39.9.59 1.41.59.51 0 1.02-.2 1.41-.59l7.78-7.78 2.81-2.81c.8-.78.8-2.07 0-2.86zM5.41 20L4 18.59l7.72-7.72 1.47 1.35L5.41 20z\"/>\n",
              "  </svg>\n",
              "      </button>\n",
              "      \n",
              "  <style>\n",
              "    .colab-df-container {\n",
              "      display:flex;\n",
              "      flex-wrap:wrap;\n",
              "      gap: 12px;\n",
              "    }\n",
              "\n",
              "    .colab-df-convert {\n",
              "      background-color: #E8F0FE;\n",
              "      border: none;\n",
              "      border-radius: 50%;\n",
              "      cursor: pointer;\n",
              "      display: none;\n",
              "      fill: #1967D2;\n",
              "      height: 32px;\n",
              "      padding: 0 0 0 0;\n",
              "      width: 32px;\n",
              "    }\n",
              "\n",
              "    .colab-df-convert:hover {\n",
              "      background-color: #E2EBFA;\n",
              "      box-shadow: 0px 1px 2px rgba(60, 64, 67, 0.3), 0px 1px 3px 1px rgba(60, 64, 67, 0.15);\n",
              "      fill: #174EA6;\n",
              "    }\n",
              "\n",
              "    [theme=dark] .colab-df-convert {\n",
              "      background-color: #3B4455;\n",
              "      fill: #D2E3FC;\n",
              "    }\n",
              "\n",
              "    [theme=dark] .colab-df-convert:hover {\n",
              "      background-color: #434B5C;\n",
              "      box-shadow: 0px 1px 3px 1px rgba(0, 0, 0, 0.15);\n",
              "      filter: drop-shadow(0px 1px 2px rgba(0, 0, 0, 0.3));\n",
              "      fill: #FFFFFF;\n",
              "    }\n",
              "  </style>\n",
              "\n",
              "      <script>\n",
              "        const buttonEl =\n",
              "          document.querySelector('#df-2bf0c0bb-20f9-43fb-bfd7-e734274d5b1f button.colab-df-convert');\n",
              "        buttonEl.style.display =\n",
              "          google.colab.kernel.accessAllowed ? 'block' : 'none';\n",
              "\n",
              "        async function convertToInteractive(key) {\n",
              "          const element = document.querySelector('#df-2bf0c0bb-20f9-43fb-bfd7-e734274d5b1f');\n",
              "          const dataTable =\n",
              "            await google.colab.kernel.invokeFunction('convertToInteractive',\n",
              "                                                     [key], {});\n",
              "          if (!dataTable) return;\n",
              "\n",
              "          const docLinkHtml = 'Like what you see? Visit the ' +\n",
              "            '<a target=\"_blank\" href=https://colab.research.google.com/notebooks/data_table.ipynb>data table notebook</a>'\n",
              "            + ' to learn more about interactive tables.';\n",
              "          element.innerHTML = '';\n",
              "          dataTable['output_type'] = 'display_data';\n",
              "          await google.colab.output.renderOutput(dataTable, element);\n",
              "          const docLink = document.createElement('div');\n",
              "          docLink.innerHTML = docLinkHtml;\n",
              "          element.appendChild(docLink);\n",
              "        }\n",
              "      </script>\n",
              "    </div>\n",
              "  </div>\n",
              "  "
            ],
            "text/plain": [
              "                   Word  Word_Length\n",
              "0                                   \n",
              "b03-098-02-05       the            3\n",
              "a01-020u-07-03      The            3\n",
              "a02-111-03-02         ,            1\n",
              "a05-069-02-00       the            3\n",
              "a03-037-04-07   British            7"
            ]
          },
          "metadata": {},
          "execution_count": 17
        }
      ],
      "source": [
        "# Get the length of the word\n",
        "df['Word'] = df['Word'].str.strip()\n",
        "df['Word_Length'] = df['Word'].str.len()\n",
        "df.head()"
      ]
    },
    {
      "cell_type": "code",
      "execution_count": 19,
      "id": "053c4d66",
      "metadata": {
        "colab": {
          "base_uri": "https://localhost:8080/"
        },
        "id": "053c4d66",
        "outputId": "6ba87b10-a79c-4f8e-8e45-e2753a1057f0"
      },
      "outputs": [
        {
          "output_type": "stream",
          "name": "stdout",
          "text": [
            "This path already has all the files\n"
          ]
        }
      ],
      "source": [
        "# copy the images to a particular folder if it is empty\n",
        "\n",
        "source_path = 'words\\words'\n",
        "dest_path = 'dataset'\n",
        "\n",
        "if len(listdir(dest_path)) != total_number_of_images:\n",
        "\n",
        "    for image_id in df.index.values:\n",
        "        metadata = image_id.split('-')\n",
        "        folder = metadata[0]\n",
        "        sub_folder = folder+'-'+metadata[1]\n",
        "        file_name = image_id+'.png'\n",
        "        full_path = os.path.join(source_path, folder, sub_folder, file_name)\n",
        "        shutil.copyfile(full_path, os.path.join(dest_path, file_name))\n",
        "else:\n",
        "    print('This path already has all the files')"
      ]
    },
    {
      "cell_type": "markdown",
      "id": "c2bd72c8",
      "metadata": {
        "id": "c2bd72c8"
      },
      "source": [
        "### 2. Images can be of different shape thus resize all your images to have same shape (for example = (128, 32))"
      ]
    },
    {
      "cell_type": "code",
      "execution_count": 20,
      "id": "04842583",
      "metadata": {
        "colab": {
          "base_uri": "https://localhost:8080/",
          "height": 237
        },
        "id": "04842583",
        "outputId": "fddde4a5-29e8-4d89-f2e2-127d8c914255"
      },
      "outputs": [
        {
          "output_type": "execute_result",
          "data": {
            "text/html": [
              "\n",
              "  <div id=\"df-2462f6f3-27c1-4e47-abb1-eb9423ac64d3\">\n",
              "    <div class=\"colab-df-container\">\n",
              "      <div>\n",
              "<style scoped>\n",
              "    .dataframe tbody tr th:only-of-type {\n",
              "        vertical-align: middle;\n",
              "    }\n",
              "\n",
              "    .dataframe tbody tr th {\n",
              "        vertical-align: top;\n",
              "    }\n",
              "\n",
              "    .dataframe thead th {\n",
              "        text-align: right;\n",
              "    }\n",
              "</style>\n",
              "<table border=\"1\" class=\"dataframe\">\n",
              "  <thead>\n",
              "    <tr style=\"text-align: right;\">\n",
              "      <th></th>\n",
              "      <th>Word</th>\n",
              "      <th>Word_Length</th>\n",
              "      <th>Image_Path</th>\n",
              "    </tr>\n",
              "    <tr>\n",
              "      <th>0</th>\n",
              "      <th></th>\n",
              "      <th></th>\n",
              "      <th></th>\n",
              "    </tr>\n",
              "  </thead>\n",
              "  <tbody>\n",
              "    <tr>\n",
              "      <th>b03-098-02-05</th>\n",
              "      <td>the</td>\n",
              "      <td>3</td>\n",
              "      <td>dataset\\b03-098-02-05.png</td>\n",
              "    </tr>\n",
              "    <tr>\n",
              "      <th>a01-020u-07-03</th>\n",
              "      <td>The</td>\n",
              "      <td>3</td>\n",
              "      <td>dataset\\a01-020u-07-03.png</td>\n",
              "    </tr>\n",
              "    <tr>\n",
              "      <th>a02-111-03-02</th>\n",
              "      <td>,</td>\n",
              "      <td>1</td>\n",
              "      <td>dataset\\a02-111-03-02.png</td>\n",
              "    </tr>\n",
              "    <tr>\n",
              "      <th>a05-069-02-00</th>\n",
              "      <td>the</td>\n",
              "      <td>3</td>\n",
              "      <td>dataset\\a05-069-02-00.png</td>\n",
              "    </tr>\n",
              "    <tr>\n",
              "      <th>a03-037-04-07</th>\n",
              "      <td>British</td>\n",
              "      <td>7</td>\n",
              "      <td>dataset\\a03-037-04-07.png</td>\n",
              "    </tr>\n",
              "  </tbody>\n",
              "</table>\n",
              "</div>\n",
              "      <button class=\"colab-df-convert\" onclick=\"convertToInteractive('df-2462f6f3-27c1-4e47-abb1-eb9423ac64d3')\"\n",
              "              title=\"Convert this dataframe to an interactive table.\"\n",
              "              style=\"display:none;\">\n",
              "        \n",
              "  <svg xmlns=\"http://www.w3.org/2000/svg\" height=\"24px\"viewBox=\"0 0 24 24\"\n",
              "       width=\"24px\">\n",
              "    <path d=\"M0 0h24v24H0V0z\" fill=\"none\"/>\n",
              "    <path d=\"M18.56 5.44l.94 2.06.94-2.06 2.06-.94-2.06-.94-.94-2.06-.94 2.06-2.06.94zm-11 1L8.5 8.5l.94-2.06 2.06-.94-2.06-.94L8.5 2.5l-.94 2.06-2.06.94zm10 10l.94 2.06.94-2.06 2.06-.94-2.06-.94-.94-2.06-.94 2.06-2.06.94z\"/><path d=\"M17.41 7.96l-1.37-1.37c-.4-.4-.92-.59-1.43-.59-.52 0-1.04.2-1.43.59L10.3 9.45l-7.72 7.72c-.78.78-.78 2.05 0 2.83L4 21.41c.39.39.9.59 1.41.59.51 0 1.02-.2 1.41-.59l7.78-7.78 2.81-2.81c.8-.78.8-2.07 0-2.86zM5.41 20L4 18.59l7.72-7.72 1.47 1.35L5.41 20z\"/>\n",
              "  </svg>\n",
              "      </button>\n",
              "      \n",
              "  <style>\n",
              "    .colab-df-container {\n",
              "      display:flex;\n",
              "      flex-wrap:wrap;\n",
              "      gap: 12px;\n",
              "    }\n",
              "\n",
              "    .colab-df-convert {\n",
              "      background-color: #E8F0FE;\n",
              "      border: none;\n",
              "      border-radius: 50%;\n",
              "      cursor: pointer;\n",
              "      display: none;\n",
              "      fill: #1967D2;\n",
              "      height: 32px;\n",
              "      padding: 0 0 0 0;\n",
              "      width: 32px;\n",
              "    }\n",
              "\n",
              "    .colab-df-convert:hover {\n",
              "      background-color: #E2EBFA;\n",
              "      box-shadow: 0px 1px 2px rgba(60, 64, 67, 0.3), 0px 1px 3px 1px rgba(60, 64, 67, 0.15);\n",
              "      fill: #174EA6;\n",
              "    }\n",
              "\n",
              "    [theme=dark] .colab-df-convert {\n",
              "      background-color: #3B4455;\n",
              "      fill: #D2E3FC;\n",
              "    }\n",
              "\n",
              "    [theme=dark] .colab-df-convert:hover {\n",
              "      background-color: #434B5C;\n",
              "      box-shadow: 0px 1px 3px 1px rgba(0, 0, 0, 0.15);\n",
              "      filter: drop-shadow(0px 1px 2px rgba(0, 0, 0, 0.3));\n",
              "      fill: #FFFFFF;\n",
              "    }\n",
              "  </style>\n",
              "\n",
              "      <script>\n",
              "        const buttonEl =\n",
              "          document.querySelector('#df-2462f6f3-27c1-4e47-abb1-eb9423ac64d3 button.colab-df-convert');\n",
              "        buttonEl.style.display =\n",
              "          google.colab.kernel.accessAllowed ? 'block' : 'none';\n",
              "\n",
              "        async function convertToInteractive(key) {\n",
              "          const element = document.querySelector('#df-2462f6f3-27c1-4e47-abb1-eb9423ac64d3');\n",
              "          const dataTable =\n",
              "            await google.colab.kernel.invokeFunction('convertToInteractive',\n",
              "                                                     [key], {});\n",
              "          if (!dataTable) return;\n",
              "\n",
              "          const docLinkHtml = 'Like what you see? Visit the ' +\n",
              "            '<a target=\"_blank\" href=https://colab.research.google.com/notebooks/data_table.ipynb>data table notebook</a>'\n",
              "            + ' to learn more about interactive tables.';\n",
              "          element.innerHTML = '';\n",
              "          dataTable['output_type'] = 'display_data';\n",
              "          await google.colab.output.renderOutput(dataTable, element);\n",
              "          const docLink = document.createElement('div');\n",
              "          docLink.innerHTML = docLinkHtml;\n",
              "          element.appendChild(docLink);\n",
              "        }\n",
              "      </script>\n",
              "    </div>\n",
              "  </div>\n",
              "  "
            ],
            "text/plain": [
              "                   Word  Word_Length                  Image_Path\n",
              "0                                                               \n",
              "b03-098-02-05       the            3   dataset\\b03-098-02-05.png\n",
              "a01-020u-07-03      The            3  dataset\\a01-020u-07-03.png\n",
              "a02-111-03-02         ,            1   dataset\\a02-111-03-02.png\n",
              "a05-069-02-00       the            3   dataset\\a05-069-02-00.png\n",
              "a03-037-04-07   British            7   dataset\\a03-037-04-07.png"
            ]
          },
          "metadata": {},
          "execution_count": 20
        }
      ],
      "source": [
        "df['Image_Path'] = dest_path+'\\\\'+ df.index+'.png'\n",
        "df.head()"
      ]
    },
    {
      "cell_type": "code",
      "execution_count": 21,
      "id": "d8aeef1b",
      "metadata": {
        "id": "d8aeef1b"
      },
      "outputs": [],
      "source": [
        "# Load the images to a dataset"
      ]
    },
    {
      "cell_type": "code",
      "execution_count": 22,
      "id": "8c9c4872",
      "metadata": {
        "colab": {
          "base_uri": "https://localhost:8080/",
          "height": 237
        },
        "id": "8c9c4872",
        "outputId": "5480769a-1236-4157-af96-1cf5202acee4"
      },
      "outputs": [
        {
          "output_type": "execute_result",
          "data": {
            "text/html": [
              "\n",
              "  <div id=\"df-b4a9e471-b8b5-4d21-a96d-0a07a9b4c7c2\">\n",
              "    <div class=\"colab-df-container\">\n",
              "      <div>\n",
              "<style scoped>\n",
              "    .dataframe tbody tr th:only-of-type {\n",
              "        vertical-align: middle;\n",
              "    }\n",
              "\n",
              "    .dataframe tbody tr th {\n",
              "        vertical-align: top;\n",
              "    }\n",
              "\n",
              "    .dataframe thead th {\n",
              "        text-align: right;\n",
              "    }\n",
              "</style>\n",
              "<table border=\"1\" class=\"dataframe\">\n",
              "  <thead>\n",
              "    <tr style=\"text-align: right;\">\n",
              "      <th></th>\n",
              "      <th>Word</th>\n",
              "      <th>Word_Length</th>\n",
              "      <th>Image_Path</th>\n",
              "      <th>Image</th>\n",
              "    </tr>\n",
              "    <tr>\n",
              "      <th>0</th>\n",
              "      <th></th>\n",
              "      <th></th>\n",
              "      <th></th>\n",
              "      <th></th>\n",
              "    </tr>\n",
              "  </thead>\n",
              "  <tbody>\n",
              "    <tr>\n",
              "      <th>b03-098-02-05</th>\n",
              "      <td>the</td>\n",
              "      <td>3</td>\n",
              "      <td>dataset\\b03-098-02-05.png</td>\n",
              "      <td>None</td>\n",
              "    </tr>\n",
              "    <tr>\n",
              "      <th>a01-020u-07-03</th>\n",
              "      <td>The</td>\n",
              "      <td>3</td>\n",
              "      <td>dataset\\a01-020u-07-03.png</td>\n",
              "      <td>None</td>\n",
              "    </tr>\n",
              "    <tr>\n",
              "      <th>a02-111-03-02</th>\n",
              "      <td>,</td>\n",
              "      <td>1</td>\n",
              "      <td>dataset\\a02-111-03-02.png</td>\n",
              "      <td>None</td>\n",
              "    </tr>\n",
              "    <tr>\n",
              "      <th>a05-069-02-00</th>\n",
              "      <td>the</td>\n",
              "      <td>3</td>\n",
              "      <td>dataset\\a05-069-02-00.png</td>\n",
              "      <td>None</td>\n",
              "    </tr>\n",
              "    <tr>\n",
              "      <th>a03-037-04-07</th>\n",
              "      <td>British</td>\n",
              "      <td>7</td>\n",
              "      <td>dataset\\a03-037-04-07.png</td>\n",
              "      <td>None</td>\n",
              "    </tr>\n",
              "  </tbody>\n",
              "</table>\n",
              "</div>\n",
              "      <button class=\"colab-df-convert\" onclick=\"convertToInteractive('df-b4a9e471-b8b5-4d21-a96d-0a07a9b4c7c2')\"\n",
              "              title=\"Convert this dataframe to an interactive table.\"\n",
              "              style=\"display:none;\">\n",
              "        \n",
              "  <svg xmlns=\"http://www.w3.org/2000/svg\" height=\"24px\"viewBox=\"0 0 24 24\"\n",
              "       width=\"24px\">\n",
              "    <path d=\"M0 0h24v24H0V0z\" fill=\"none\"/>\n",
              "    <path d=\"M18.56 5.44l.94 2.06.94-2.06 2.06-.94-2.06-.94-.94-2.06-.94 2.06-2.06.94zm-11 1L8.5 8.5l.94-2.06 2.06-.94-2.06-.94L8.5 2.5l-.94 2.06-2.06.94zm10 10l.94 2.06.94-2.06 2.06-.94-2.06-.94-.94-2.06-.94 2.06-2.06.94z\"/><path d=\"M17.41 7.96l-1.37-1.37c-.4-.4-.92-.59-1.43-.59-.52 0-1.04.2-1.43.59L10.3 9.45l-7.72 7.72c-.78.78-.78 2.05 0 2.83L4 21.41c.39.39.9.59 1.41.59.51 0 1.02-.2 1.41-.59l7.78-7.78 2.81-2.81c.8-.78.8-2.07 0-2.86zM5.41 20L4 18.59l7.72-7.72 1.47 1.35L5.41 20z\"/>\n",
              "  </svg>\n",
              "      </button>\n",
              "      \n",
              "  <style>\n",
              "    .colab-df-container {\n",
              "      display:flex;\n",
              "      flex-wrap:wrap;\n",
              "      gap: 12px;\n",
              "    }\n",
              "\n",
              "    .colab-df-convert {\n",
              "      background-color: #E8F0FE;\n",
              "      border: none;\n",
              "      border-radius: 50%;\n",
              "      cursor: pointer;\n",
              "      display: none;\n",
              "      fill: #1967D2;\n",
              "      height: 32px;\n",
              "      padding: 0 0 0 0;\n",
              "      width: 32px;\n",
              "    }\n",
              "\n",
              "    .colab-df-convert:hover {\n",
              "      background-color: #E2EBFA;\n",
              "      box-shadow: 0px 1px 2px rgba(60, 64, 67, 0.3), 0px 1px 3px 1px rgba(60, 64, 67, 0.15);\n",
              "      fill: #174EA6;\n",
              "    }\n",
              "\n",
              "    [theme=dark] .colab-df-convert {\n",
              "      background-color: #3B4455;\n",
              "      fill: #D2E3FC;\n",
              "    }\n",
              "\n",
              "    [theme=dark] .colab-df-convert:hover {\n",
              "      background-color: #434B5C;\n",
              "      box-shadow: 0px 1px 3px 1px rgba(0, 0, 0, 0.15);\n",
              "      filter: drop-shadow(0px 1px 2px rgba(0, 0, 0, 0.3));\n",
              "      fill: #FFFFFF;\n",
              "    }\n",
              "  </style>\n",
              "\n",
              "      <script>\n",
              "        const buttonEl =\n",
              "          document.querySelector('#df-b4a9e471-b8b5-4d21-a96d-0a07a9b4c7c2 button.colab-df-convert');\n",
              "        buttonEl.style.display =\n",
              "          google.colab.kernel.accessAllowed ? 'block' : 'none';\n",
              "\n",
              "        async function convertToInteractive(key) {\n",
              "          const element = document.querySelector('#df-b4a9e471-b8b5-4d21-a96d-0a07a9b4c7c2');\n",
              "          const dataTable =\n",
              "            await google.colab.kernel.invokeFunction('convertToInteractive',\n",
              "                                                     [key], {});\n",
              "          if (!dataTable) return;\n",
              "\n",
              "          const docLinkHtml = 'Like what you see? Visit the ' +\n",
              "            '<a target=\"_blank\" href=https://colab.research.google.com/notebooks/data_table.ipynb>data table notebook</a>'\n",
              "            + ' to learn more about interactive tables.';\n",
              "          element.innerHTML = '';\n",
              "          dataTable['output_type'] = 'display_data';\n",
              "          await google.colab.output.renderOutput(dataTable, element);\n",
              "          const docLink = document.createElement('div');\n",
              "          docLink.innerHTML = docLinkHtml;\n",
              "          element.appendChild(docLink);\n",
              "        }\n",
              "      </script>\n",
              "    </div>\n",
              "  </div>\n",
              "  "
            ],
            "text/plain": [
              "                   Word  Word_Length                  Image_Path Image\n",
              "0                                                                     \n",
              "b03-098-02-05       the            3   dataset\\b03-098-02-05.png  None\n",
              "a01-020u-07-03      The            3  dataset\\a01-020u-07-03.png  None\n",
              "a02-111-03-02         ,            1   dataset\\a02-111-03-02.png  None\n",
              "a05-069-02-00       the            3   dataset\\a05-069-02-00.png  None\n",
              "a03-037-04-07   British            7   dataset\\a03-037-04-07.png  None"
            ]
          },
          "metadata": {},
          "execution_count": 22
        }
      ],
      "source": [
        "df['Image'] = None\n",
        "df.head()"
      ]
    },
    {
      "cell_type": "code",
      "execution_count": 25,
      "id": "f12d2e9b",
      "metadata": {
        "colab": {
          "base_uri": "https://localhost:8080/"
        },
        "id": "f12d2e9b",
        "outputId": "f3880ccb-70af-4dc7-d1ae-32c1ee30bdb1"
      },
      "outputs": [
        {
          "output_type": "stream",
          "name": "stdout",
          "text": [
            "Failed to load Image/content/dataset/a01-117-05-02.png\n"
          ]
        }
      ],
      "source": [
        "Images = []\n",
        "image_shape = (128, 32)\n",
        "for index in df.index:\n",
        "    image_path = '/content/'+df.at[index, 'Image_Path'].replace('\\\\',\"/\")\n",
        "    image = cv2.imread(image_path, cv2.IMREAD_GRAYSCALE)\n",
        "    if image is not None:\n",
        "        try:\n",
        "            result = cv2.resize(image, image_shape)\n",
        "            result = cv2.rotate(result, cv2.ROTATE_90_CLOCKWISE)\n",
        "        except Exception as e:\n",
        "            result = np.zeros(image_shape)\n",
        "    else:\n",
        "        result = np.zeros(image_shape)\n",
        "        print(f'Failed to load Image{image_path}')\n",
        "    Images.append(result)\n",
        "    df.at[index, 'Image'] = result"
      ]
    },
    {
      "cell_type": "code",
      "execution_count": 26,
      "id": "cfcf4d79",
      "metadata": {
        "colab": {
          "base_uri": "https://localhost:8080/"
        },
        "id": "cfcf4d79",
        "outputId": "9feeaa21-14dc-4af7-b265-b287c66bb18c"
      },
      "outputs": [
        {
          "output_type": "stream",
          "name": "stdout",
          "text": [
            "Shape of Images: (12000, 128, 32)\n"
          ]
        }
      ],
      "source": [
        "Images = np.array(Images)\n",
        "print(f'Shape of Images: {Images.shape}')"
      ]
    },
    {
      "cell_type": "code",
      "execution_count": 27,
      "id": "6105b551",
      "metadata": {
        "id": "6105b551"
      },
      "outputs": [],
      "source": [
        "def prod(val) : \n",
        "    res = 1 \n",
        "    for ele in val: \n",
        "        res *= ele \n",
        "    return res "
      ]
    },
    {
      "cell_type": "code",
      "execution_count": 28,
      "id": "49481164",
      "metadata": {
        "colab": {
          "base_uri": "https://localhost:8080/"
        },
        "id": "49481164",
        "outputId": "9c8eb0fa-3684-4df2-9736-4dd3769adc68"
      },
      "outputs": [
        {
          "output_type": "execute_result",
          "data": {
            "text/plain": [
              "4096"
            ]
          },
          "metadata": {},
          "execution_count": 28
        }
      ],
      "source": [
        "df['Image'].apply(lambda x: prod(x.shape)).min()"
      ]
    },
    {
      "cell_type": "code",
      "execution_count": 48,
      "id": "2ad3f116",
      "metadata": {
        "colab": {
          "base_uri": "https://localhost:8080/",
          "height": 249
        },
        "id": "2ad3f116",
        "outputId": "2677fd8d-5b51-457f-a046-32c45ef9661a"
      },
      "outputs": [
        {
          "output_type": "execute_result",
          "data": {
            "text/html": [
              "\n",
              "  <div id=\"df-1642900b-b0af-45f8-89b1-3f39ccd115d3\">\n",
              "    <div class=\"colab-df-container\">\n",
              "      <div>\n",
              "<style scoped>\n",
              "    .dataframe tbody tr th:only-of-type {\n",
              "        vertical-align: middle;\n",
              "    }\n",
              "\n",
              "    .dataframe tbody tr th {\n",
              "        vertical-align: top;\n",
              "    }\n",
              "\n",
              "    .dataframe thead th {\n",
              "        text-align: right;\n",
              "    }\n",
              "</style>\n",
              "<table border=\"1\" class=\"dataframe\">\n",
              "  <thead>\n",
              "    <tr style=\"text-align: right;\">\n",
              "      <th></th>\n",
              "      <th>Word</th>\n",
              "      <th>Word_Length</th>\n",
              "      <th>Image_Path</th>\n",
              "      <th>Image</th>\n",
              "      <th>Image_Scaled</th>\n",
              "      <th>target</th>\n",
              "    </tr>\n",
              "  </thead>\n",
              "  <tbody>\n",
              "    <tr>\n",
              "      <th>0</th>\n",
              "      <td>the</td>\n",
              "      <td>3</td>\n",
              "      <td>dataset\\b03-098-02-05.png</td>\n",
              "      <td>[[243, 251, 251, 239, 244, 243, 240, 240, 245,...</td>\n",
              "      <td>[[0.9529411764705882, 0.984313725490196, 0.984...</td>\n",
              "      <td>[69, 57, 54, -1, -1, -1, -1, -1, -1, -1, -1, -...</td>\n",
              "    </tr>\n",
              "    <tr>\n",
              "      <th>1</th>\n",
              "      <td>The</td>\n",
              "      <td>3</td>\n",
              "      <td>dataset\\a01-020u-07-03.png</td>\n",
              "      <td>[[250, 250, 251, 251, 251, 251, 251, 251, 251,...</td>\n",
              "      <td>[[0.9803921568627451, 0.9803921568627451, 0.98...</td>\n",
              "      <td>[43, 57, 54, -1, -1, -1, -1, -1, -1, -1, -1, -...</td>\n",
              "    </tr>\n",
              "    <tr>\n",
              "      <th>2</th>\n",
              "      <td>,</td>\n",
              "      <td>1</td>\n",
              "      <td>dataset\\a02-111-03-02.png</td>\n",
              "      <td>[[142, 135, 120, 120, 134, 157, 188, 208, 215,...</td>\n",
              "      <td>[[0.5568627450980392, 0.5294117647058824, 0.47...</td>\n",
              "      <td>[7, -1, -1, -1, -1, -1, -1, -1, -1, -1, -1, -1...</td>\n",
              "    </tr>\n",
              "    <tr>\n",
              "      <th>3</th>\n",
              "      <td>the</td>\n",
              "      <td>3</td>\n",
              "      <td>dataset\\a05-069-02-00.png</td>\n",
              "      <td>[[247, 248, 248, 246, 248, 247, 244, 239, 243,...</td>\n",
              "      <td>[[0.9686274509803922, 0.9725490196078431, 0.97...</td>\n",
              "      <td>[69, 57, 54, -1, -1, -1, -1, -1, -1, -1, -1, -...</td>\n",
              "    </tr>\n",
              "    <tr>\n",
              "      <th>4</th>\n",
              "      <td>British</td>\n",
              "      <td>7</td>\n",
              "      <td>dataset\\a03-037-04-07.png</td>\n",
              "      <td>[[255, 253, 248, 246, 249, 246, 248, 249, 247,...</td>\n",
              "      <td>[[1.0, 0.9921568627450981, 0.9725490196078431,...</td>\n",
              "      <td>[25, 67, 58, 69, 58, 68, 57, -1, -1, -1, -1, -...</td>\n",
              "    </tr>\n",
              "  </tbody>\n",
              "</table>\n",
              "</div>\n",
              "      <button class=\"colab-df-convert\" onclick=\"convertToInteractive('df-1642900b-b0af-45f8-89b1-3f39ccd115d3')\"\n",
              "              title=\"Convert this dataframe to an interactive table.\"\n",
              "              style=\"display:none;\">\n",
              "        \n",
              "  <svg xmlns=\"http://www.w3.org/2000/svg\" height=\"24px\"viewBox=\"0 0 24 24\"\n",
              "       width=\"24px\">\n",
              "    <path d=\"M0 0h24v24H0V0z\" fill=\"none\"/>\n",
              "    <path d=\"M18.56 5.44l.94 2.06.94-2.06 2.06-.94-2.06-.94-.94-2.06-.94 2.06-2.06.94zm-11 1L8.5 8.5l.94-2.06 2.06-.94-2.06-.94L8.5 2.5l-.94 2.06-2.06.94zm10 10l.94 2.06.94-2.06 2.06-.94-2.06-.94-.94-2.06-.94 2.06-2.06.94z\"/><path d=\"M17.41 7.96l-1.37-1.37c-.4-.4-.92-.59-1.43-.59-.52 0-1.04.2-1.43.59L10.3 9.45l-7.72 7.72c-.78.78-.78 2.05 0 2.83L4 21.41c.39.39.9.59 1.41.59.51 0 1.02-.2 1.41-.59l7.78-7.78 2.81-2.81c.8-.78.8-2.07 0-2.86zM5.41 20L4 18.59l7.72-7.72 1.47 1.35L5.41 20z\"/>\n",
              "  </svg>\n",
              "      </button>\n",
              "      \n",
              "  <style>\n",
              "    .colab-df-container {\n",
              "      display:flex;\n",
              "      flex-wrap:wrap;\n",
              "      gap: 12px;\n",
              "    }\n",
              "\n",
              "    .colab-df-convert {\n",
              "      background-color: #E8F0FE;\n",
              "      border: none;\n",
              "      border-radius: 50%;\n",
              "      cursor: pointer;\n",
              "      display: none;\n",
              "      fill: #1967D2;\n",
              "      height: 32px;\n",
              "      padding: 0 0 0 0;\n",
              "      width: 32px;\n",
              "    }\n",
              "\n",
              "    .colab-df-convert:hover {\n",
              "      background-color: #E2EBFA;\n",
              "      box-shadow: 0px 1px 2px rgba(60, 64, 67, 0.3), 0px 1px 3px 1px rgba(60, 64, 67, 0.15);\n",
              "      fill: #174EA6;\n",
              "    }\n",
              "\n",
              "    [theme=dark] .colab-df-convert {\n",
              "      background-color: #3B4455;\n",
              "      fill: #D2E3FC;\n",
              "    }\n",
              "\n",
              "    [theme=dark] .colab-df-convert:hover {\n",
              "      background-color: #434B5C;\n",
              "      box-shadow: 0px 1px 3px 1px rgba(0, 0, 0, 0.15);\n",
              "      filter: drop-shadow(0px 1px 2px rgba(0, 0, 0, 0.3));\n",
              "      fill: #FFFFFF;\n",
              "    }\n",
              "  </style>\n",
              "\n",
              "      <script>\n",
              "        const buttonEl =\n",
              "          document.querySelector('#df-1642900b-b0af-45f8-89b1-3f39ccd115d3 button.colab-df-convert');\n",
              "        buttonEl.style.display =\n",
              "          google.colab.kernel.accessAllowed ? 'block' : 'none';\n",
              "\n",
              "        async function convertToInteractive(key) {\n",
              "          const element = document.querySelector('#df-1642900b-b0af-45f8-89b1-3f39ccd115d3');\n",
              "          const dataTable =\n",
              "            await google.colab.kernel.invokeFunction('convertToInteractive',\n",
              "                                                     [key], {});\n",
              "          if (!dataTable) return;\n",
              "\n",
              "          const docLinkHtml = 'Like what you see? Visit the ' +\n",
              "            '<a target=\"_blank\" href=https://colab.research.google.com/notebooks/data_table.ipynb>data table notebook</a>'\n",
              "            + ' to learn more about interactive tables.';\n",
              "          element.innerHTML = '';\n",
              "          dataTable['output_type'] = 'display_data';\n",
              "          await google.colab.output.renderOutput(dataTable, element);\n",
              "          const docLink = document.createElement('div');\n",
              "          docLink.innerHTML = docLinkHtml;\n",
              "          element.appendChild(docLink);\n",
              "        }\n",
              "      </script>\n",
              "    </div>\n",
              "  </div>\n",
              "  "
            ],
            "text/plain": [
              "      Word  ...                                             target\n",
              "0      the  ...  [69, 57, 54, -1, -1, -1, -1, -1, -1, -1, -1, -...\n",
              "1      The  ...  [43, 57, 54, -1, -1, -1, -1, -1, -1, -1, -1, -...\n",
              "2        ,  ...  [7, -1, -1, -1, -1, -1, -1, -1, -1, -1, -1, -1...\n",
              "3      the  ...  [69, 57, 54, -1, -1, -1, -1, -1, -1, -1, -1, -...\n",
              "4  British  ...  [25, 67, 58, 69, 58, 68, 57, -1, -1, -1, -1, -...\n",
              "\n",
              "[5 rows x 6 columns]"
            ]
          },
          "metadata": {},
          "execution_count": 48
        }
      ],
      "source": [
        "df = df.reset_index(drop=True)\n",
        "df.head()"
      ]
    },
    {
      "cell_type": "code",
      "execution_count": 30,
      "id": "d01977dd",
      "metadata": {
        "id": "d01977dd"
      },
      "outputs": [],
      "source": [
        "def show_image(image):\n",
        "    plt.imshow(image)\n",
        "    plt.show()"
      ]
    },
    {
      "cell_type": "code",
      "execution_count": 31,
      "id": "6045c063",
      "metadata": {
        "colab": {
          "base_uri": "https://localhost:8080/",
          "height": 268
        },
        "id": "6045c063",
        "outputId": "3c9554d1-0c10-490d-e0a0-4d9b11090fd1"
      },
      "outputs": [
        {
          "output_type": "display_data",
          "data": {
            "image/png": "[encoded data removed]",
            "text/plain": [
              "<Figure size 432x288 with 1 Axes>"
            ]
          },
          "metadata": {
            "needs_background": "light"
          }
        }
      ],
      "source": [
        "show_image(df['Image'][0])"
      ]
    },
    {
      "cell_type": "markdown",
      "id": "2345b9e0",
      "metadata": {
        "id": "2345b9e0"
      },
      "source": [
        "### 3. Currently, the pixel values are between 0 to 255, normalize the images so that the pixel values are in range 0 to 1 "
      ]
    },
    {
      "cell_type": "code",
      "execution_count": 32,
      "id": "96deaf81",
      "metadata": {
        "scrolled": true,
        "colab": {
          "base_uri": "https://localhost:8080/",
          "height": 237
        },
        "id": "96deaf81",
        "outputId": "a7775d2c-9c29-4e77-e85e-d0693bea62cf"
      },
      "outputs": [
        {
          "output_type": "execute_result",
          "data": {
            "text/html": [
              "\n",
              "  <div id=\"df-44447024-053f-49a7-8ef1-0c35679c8c68\">\n",
              "    <div class=\"colab-df-container\">\n",
              "      <div>\n",
              "<style scoped>\n",
              "    .dataframe tbody tr th:only-of-type {\n",
              "        vertical-align: middle;\n",
              "    }\n",
              "\n",
              "    .dataframe tbody tr th {\n",
              "        vertical-align: top;\n",
              "    }\n",
              "\n",
              "    .dataframe thead th {\n",
              "        text-align: right;\n",
              "    }\n",
              "</style>\n",
              "<table border=\"1\" class=\"dataframe\">\n",
              "  <thead>\n",
              "    <tr style=\"text-align: right;\">\n",
              "      <th></th>\n",
              "      <th>Word</th>\n",
              "      <th>Word_Length</th>\n",
              "      <th>Image_Path</th>\n",
              "      <th>Image</th>\n",
              "      <th>Image_Scaled</th>\n",
              "    </tr>\n",
              "    <tr>\n",
              "      <th>0</th>\n",
              "      <th></th>\n",
              "      <th></th>\n",
              "      <th></th>\n",
              "      <th></th>\n",
              "      <th></th>\n",
              "    </tr>\n",
              "  </thead>\n",
              "  <tbody>\n",
              "    <tr>\n",
              "      <th>b03-098-02-05</th>\n",
              "      <td>the</td>\n",
              "      <td>3</td>\n",
              "      <td>dataset\\b03-098-02-05.png</td>\n",
              "      <td>[[243, 251, 251, 239, 244, 243, 240, 240, 245,...</td>\n",
              "      <td>[[0.9529411764705882, 0.984313725490196, 0.984...</td>\n",
              "    </tr>\n",
              "    <tr>\n",
              "      <th>a01-020u-07-03</th>\n",
              "      <td>The</td>\n",
              "      <td>3</td>\n",
              "      <td>dataset\\a01-020u-07-03.png</td>\n",
              "      <td>[[250, 250, 251, 251, 251, 251, 251, 251, 251,...</td>\n",
              "      <td>[[0.9803921568627451, 0.9803921568627451, 0.98...</td>\n",
              "    </tr>\n",
              "    <tr>\n",
              "      <th>a02-111-03-02</th>\n",
              "      <td>,</td>\n",
              "      <td>1</td>\n",
              "      <td>dataset\\a02-111-03-02.png</td>\n",
              "      <td>[[142, 135, 120, 120, 134, 157, 188, 208, 215,...</td>\n",
              "      <td>[[0.5568627450980392, 0.5294117647058824, 0.47...</td>\n",
              "    </tr>\n",
              "    <tr>\n",
              "      <th>a05-069-02-00</th>\n",
              "      <td>the</td>\n",
              "      <td>3</td>\n",
              "      <td>dataset\\a05-069-02-00.png</td>\n",
              "      <td>[[247, 248, 248, 246, 248, 247, 244, 239, 243,...</td>\n",
              "      <td>[[0.9686274509803922, 0.9725490196078431, 0.97...</td>\n",
              "    </tr>\n",
              "    <tr>\n",
              "      <th>a03-037-04-07</th>\n",
              "      <td>British</td>\n",
              "      <td>7</td>\n",
              "      <td>dataset\\a03-037-04-07.png</td>\n",
              "      <td>[[255, 253, 248, 246, 249, 246, 248, 249, 247,...</td>\n",
              "      <td>[[1.0, 0.9921568627450981, 0.9725490196078431,...</td>\n",
              "    </tr>\n",
              "  </tbody>\n",
              "</table>\n",
              "</div>\n",
              "      <button class=\"colab-df-convert\" onclick=\"convertToInteractive('df-44447024-053f-49a7-8ef1-0c35679c8c68')\"\n",
              "              title=\"Convert this dataframe to an interactive table.\"\n",
              "              style=\"display:none;\">\n",
              "        \n",
              "  <svg xmlns=\"http://www.w3.org/2000/svg\" height=\"24px\"viewBox=\"0 0 24 24\"\n",
              "       width=\"24px\">\n",
              "    <path d=\"M0 0h24v24H0V0z\" fill=\"none\"/>\n",
              "    <path d=\"M18.56 5.44l.94 2.06.94-2.06 2.06-.94-2.06-.94-.94-2.06-.94 2.06-2.06.94zm-11 1L8.5 8.5l.94-2.06 2.06-.94-2.06-.94L8.5 2.5l-.94 2.06-2.06.94zm10 10l.94 2.06.94-2.06 2.06-.94-2.06-.94-.94-2.06-.94 2.06-2.06.94z\"/><path d=\"M17.41 7.96l-1.37-1.37c-.4-.4-.92-.59-1.43-.59-.52 0-1.04.2-1.43.59L10.3 9.45l-7.72 7.72c-.78.78-.78 2.05 0 2.83L4 21.41c.39.39.9.59 1.41.59.51 0 1.02-.2 1.41-.59l7.78-7.78 2.81-2.81c.8-.78.8-2.07 0-2.86zM5.41 20L4 18.59l7.72-7.72 1.47 1.35L5.41 20z\"/>\n",
              "  </svg>\n",
              "      </button>\n",
              "      \n",
              "  <style>\n",
              "    .colab-df-container {\n",
              "      display:flex;\n",
              "      flex-wrap:wrap;\n",
              "      gap: 12px;\n",
              "    }\n",
              "\n",
              "    .colab-df-convert {\n",
              "      background-color: #E8F0FE;\n",
              "      border: none;\n",
              "      border-radius: 50%;\n",
              "      cursor: pointer;\n",
              "      display: none;\n",
              "      fill: #1967D2;\n",
              "      height: 32px;\n",
              "      padding: 0 0 0 0;\n",
              "      width: 32px;\n",
              "    }\n",
              "\n",
              "    .colab-df-convert:hover {\n",
              "      background-color: #E2EBFA;\n",
              "      box-shadow: 0px 1px 2px rgba(60, 64, 67, 0.3), 0px 1px 3px 1px rgba(60, 64, 67, 0.15);\n",
              "      fill: #174EA6;\n",
              "    }\n",
              "\n",
              "    [theme=dark] .colab-df-convert {\n",
              "      background-color: #3B4455;\n",
              "      fill: #D2E3FC;\n",
              "    }\n",
              "\n",
              "    [theme=dark] .colab-df-convert:hover {\n",
              "      background-color: #434B5C;\n",
              "      box-shadow: 0px 1px 3px 1px rgba(0, 0, 0, 0.15);\n",
              "      filter: drop-shadow(0px 1px 2px rgba(0, 0, 0, 0.3));\n",
              "      fill: #FFFFFF;\n",
              "    }\n",
              "  </style>\n",
              "\n",
              "      <script>\n",
              "        const buttonEl =\n",
              "          document.querySelector('#df-44447024-053f-49a7-8ef1-0c35679c8c68 button.colab-df-convert');\n",
              "        buttonEl.style.display =\n",
              "          google.colab.kernel.accessAllowed ? 'block' : 'none';\n",
              "\n",
              "        async function convertToInteractive(key) {\n",
              "          const element = document.querySelector('#df-44447024-053f-49a7-8ef1-0c35679c8c68');\n",
              "          const dataTable =\n",
              "            await google.colab.kernel.invokeFunction('convertToInteractive',\n",
              "                                                     [key], {});\n",
              "          if (!dataTable) return;\n",
              "\n",
              "          const docLinkHtml = 'Like what you see? Visit the ' +\n",
              "            '<a target=\"_blank\" href=https://colab.research.google.com/notebooks/data_table.ipynb>data table notebook</a>'\n",
              "            + ' to learn more about interactive tables.';\n",
              "          element.innerHTML = '';\n",
              "          dataTable['output_type'] = 'display_data';\n",
              "          await google.colab.output.renderOutput(dataTable, element);\n",
              "          const docLink = document.createElement('div');\n",
              "          docLink.innerHTML = docLinkHtml;\n",
              "          element.appendChild(docLink);\n",
              "        }\n",
              "      </script>\n",
              "    </div>\n",
              "  </div>\n",
              "  "
            ],
            "text/plain": [
              "                   Word  ...                                       Image_Scaled\n",
              "0                        ...                                                   \n",
              "b03-098-02-05       the  ...  [[0.9529411764705882, 0.984313725490196, 0.984...\n",
              "a01-020u-07-03      The  ...  [[0.9803921568627451, 0.9803921568627451, 0.98...\n",
              "a02-111-03-02         ,  ...  [[0.5568627450980392, 0.5294117647058824, 0.47...\n",
              "a05-069-02-00       the  ...  [[0.9686274509803922, 0.9725490196078431, 0.97...\n",
              "a03-037-04-07   British  ...  [[1.0, 0.9921568627450981, 0.9725490196078431,...\n",
              "\n",
              "[5 rows x 5 columns]"
            ]
          },
          "metadata": {},
          "execution_count": 32
        }
      ],
      "source": [
        "df['Image_Scaled'] = df['Image'] / 255.\n",
        "Images = Images / 255.\n",
        "df.head()"
      ]
    },
    {
      "cell_type": "code",
      "execution_count": 33,
      "id": "ba79abc7",
      "metadata": {
        "colab": {
          "base_uri": "https://localhost:8080/",
          "height": 268
        },
        "id": "ba79abc7",
        "outputId": "c8d4c9b7-417a-4add-ecb9-a24e209467da"
      },
      "outputs": [
        {
          "output_type": "display_data",
          "data": {
            "image/png": "[encoded data removed]",
            "text/plain": [
              "<Figure size 432x288 with 1 Axes>"
            ]
          },
          "metadata": {
            "needs_background": "light"
          }
        }
      ],
      "source": [
        "show_image(df['Image'][0])"
      ]
    },
    {
      "cell_type": "markdown",
      "id": "ab4fbe9d",
      "metadata": {
        "id": "ab4fbe9d"
      },
      "source": [
        "### 4. Create a list of all characters and use the characters's index to encode the actual words into digits"
      ]
    },
    {
      "cell_type": "code",
      "execution_count": 34,
      "id": "baf61eba",
      "metadata": {
        "scrolled": true,
        "colab": {
          "base_uri": "https://localhost:8080/"
        },
        "id": "baf61eba",
        "outputId": "0c262dd9-c093-4cd9-9d20-aabf20464760"
      },
      "outputs": [
        {
          "output_type": "stream",
          "name": "stdout",
          "text": [
            "Characters : ['!', '\"', '#', \"'\", '(', ')', '*', ',', '-', '.']\n",
            "Total number of characters: 76\n"
          ]
        }
      ],
      "source": [
        "vocabulary = sorted(list(set(''.join(df['Word']))))\n",
        "char_to_number_dict = dict(zip(vocabulary, range(len(vocabulary))))\n",
        "number_to_char_dict = dict(zip(range(len(vocabulary)), vocabulary))\n",
        "characters = list(vocabulary)\n",
        "characters_length = len(characters)\n",
        "print(f'Characters : {characters[:10]}')\n",
        "print(f'Total number of characters: {characters_length}')"
      ]
    },
    {
      "cell_type": "code",
      "execution_count": 35,
      "id": "990a55c2",
      "metadata": {
        "colab": {
          "base_uri": "https://localhost:8080/"
        },
        "id": "990a55c2",
        "outputId": "1f3b5fd8-9e37-4d58-85a0-015bda00af62"
      },
      "outputs": [
        {
          "output_type": "execute_result",
          "data": {
            "text/plain": [
              "LabelEncoder()"
            ]
          },
          "metadata": {},
          "execution_count": 35
        }
      ],
      "source": [
        "le = LabelEncoder()\n",
        "le.fit(characters)"
      ]
    },
    {
      "cell_type": "code",
      "execution_count": 36,
      "id": "48da93fe",
      "metadata": {
        "colab": {
          "base_uri": "https://localhost:8080/"
        },
        "id": "48da93fe",
        "outputId": "71867135-98ab-4f7d-cc49-633713051679"
      },
      "outputs": [
        {
          "output_type": "execute_result",
          "data": {
            "text/plain": [
              "array([24, 25])"
            ]
          },
          "metadata": {},
          "execution_count": 36
        }
      ],
      "source": [
        "le.transform(['A','B'])"
      ]
    },
    {
      "cell_type": "markdown",
      "id": "825ade9e",
      "metadata": {
        "id": "825ade9e"
      },
      "source": [
        "### 5. Pad all the words to have a similar length"
      ]
    },
    {
      "cell_type": "code",
      "execution_count": 37,
      "id": "e70aa25e",
      "metadata": {
        "colab": {
          "base_uri": "https://localhost:8080/"
        },
        "id": "e70aa25e",
        "outputId": "7f5c9748-040e-4e99-e7b4-9c65905b4dab"
      },
      "outputs": [
        {
          "output_type": "stream",
          "name": "stdout",
          "text": [
            "16\n"
          ]
        }
      ],
      "source": [
        "# Finding the maximum length of a word\n",
        "maximum_word_length = df['Word'].str.len().max()\n",
        "print(maximum_word_length)"
      ]
    },
    {
      "cell_type": "code",
      "execution_count": 38,
      "id": "cb8eb8f5",
      "metadata": {
        "id": "cb8eb8f5"
      },
      "outputs": [],
      "source": [
        "def transform_word_to_array(word):\n",
        "    if not word:\n",
        "        return np.ones(maximum_word_length) * -1\n",
        "    \n",
        "    word_char = le.transform(list(word))\n",
        "    result = np.pad(word_char, (0, maximum_word_length - len(word_char)), 'constant', constant_values=(0, -1))\n",
        "    return result"
      ]
    },
    {
      "cell_type": "code",
      "execution_count": 39,
      "id": "6986ddf0",
      "metadata": {
        "colab": {
          "base_uri": "https://localhost:8080/"
        },
        "id": "6986ddf0",
        "outputId": "04339e38-daea-4730-b91b-8e00f762ccb0"
      },
      "outputs": [
        {
          "output_type": "stream",
          "name": "stdout",
          "text": [
            "[65 74 69 57 64 63 -1 -1 -1 -1 -1 -1 -1 -1 -1 -1]\n",
            "[39 74 69 57 64 63 -1 -1 -1 -1 -1 -1 -1 -1 -1 -1]\n",
            "[-1. -1. -1. -1. -1. -1. -1. -1. -1. -1. -1. -1. -1. -1. -1. -1.]\n"
          ]
        }
      ],
      "source": [
        "# Testing couple of words\n",
        "print(transform_word_to_array('python'))\n",
        "print(transform_word_to_array('Python'))\n",
        "print(transform_word_to_array(None))"
      ]
    },
    {
      "cell_type": "code",
      "execution_count": 40,
      "id": "c0c80f50",
      "metadata": {
        "colab": {
          "base_uri": "https://localhost:8080/",
          "height": 368
        },
        "id": "c0c80f50",
        "outputId": "0783500c-19e8-4ee2-ee30-ece7e6707caa"
      },
      "outputs": [
        {
          "output_type": "execute_result",
          "data": {
            "text/html": [
              "\n",
              "  <div id=\"df-7529ba53-01e0-40c4-bc45-c299cb5df5ef\">\n",
              "    <div class=\"colab-df-container\">\n",
              "      <div>\n",
              "<style scoped>\n",
              "    .dataframe tbody tr th:only-of-type {\n",
              "        vertical-align: middle;\n",
              "    }\n",
              "\n",
              "    .dataframe tbody tr th {\n",
              "        vertical-align: top;\n",
              "    }\n",
              "\n",
              "    .dataframe thead th {\n",
              "        text-align: right;\n",
              "    }\n",
              "</style>\n",
              "<table border=\"1\" class=\"dataframe\">\n",
              "  <thead>\n",
              "    <tr style=\"text-align: right;\">\n",
              "      <th></th>\n",
              "      <th>Word</th>\n",
              "      <th>Word_Length</th>\n",
              "      <th>Image_Path</th>\n",
              "      <th>Image</th>\n",
              "      <th>Image_Scaled</th>\n",
              "      <th>target</th>\n",
              "    </tr>\n",
              "    <tr>\n",
              "      <th>0</th>\n",
              "      <th></th>\n",
              "      <th></th>\n",
              "      <th></th>\n",
              "      <th></th>\n",
              "      <th></th>\n",
              "      <th></th>\n",
              "    </tr>\n",
              "  </thead>\n",
              "  <tbody>\n",
              "    <tr>\n",
              "      <th>b03-098-02-05</th>\n",
              "      <td>the</td>\n",
              "      <td>3</td>\n",
              "      <td>dataset\\b03-098-02-05.png</td>\n",
              "      <td>[[243, 251, 251, 239, 244, 243, 240, 240, 245,...</td>\n",
              "      <td>[[0.9529411764705882, 0.984313725490196, 0.984...</td>\n",
              "      <td>[69, 57, 54, -1, -1, -1, -1, -1, -1, -1, -1, -...</td>\n",
              "    </tr>\n",
              "    <tr>\n",
              "      <th>a01-020u-07-03</th>\n",
              "      <td>The</td>\n",
              "      <td>3</td>\n",
              "      <td>dataset\\a01-020u-07-03.png</td>\n",
              "      <td>[[250, 250, 251, 251, 251, 251, 251, 251, 251,...</td>\n",
              "      <td>[[0.9803921568627451, 0.9803921568627451, 0.98...</td>\n",
              "      <td>[43, 57, 54, -1, -1, -1, -1, -1, -1, -1, -1, -...</td>\n",
              "    </tr>\n",
              "    <tr>\n",
              "      <th>a02-111-03-02</th>\n",
              "      <td>,</td>\n",
              "      <td>1</td>\n",
              "      <td>dataset\\a02-111-03-02.png</td>\n",
              "      <td>[[142, 135, 120, 120, 134, 157, 188, 208, 215,...</td>\n",
              "      <td>[[0.5568627450980392, 0.5294117647058824, 0.47...</td>\n",
              "      <td>[7, -1, -1, -1, -1, -1, -1, -1, -1, -1, -1, -1...</td>\n",
              "    </tr>\n",
              "    <tr>\n",
              "      <th>a05-069-02-00</th>\n",
              "      <td>the</td>\n",
              "      <td>3</td>\n",
              "      <td>dataset\\a05-069-02-00.png</td>\n",
              "      <td>[[247, 248, 248, 246, 248, 247, 244, 239, 243,...</td>\n",
              "      <td>[[0.9686274509803922, 0.9725490196078431, 0.97...</td>\n",
              "      <td>[69, 57, 54, -1, -1, -1, -1, -1, -1, -1, -1, -...</td>\n",
              "    </tr>\n",
              "    <tr>\n",
              "      <th>a03-037-04-07</th>\n",
              "      <td>British</td>\n",
              "      <td>7</td>\n",
              "      <td>dataset\\a03-037-04-07.png</td>\n",
              "      <td>[[255, 253, 248, 246, 249, 246, 248, 249, 247,...</td>\n",
              "      <td>[[1.0, 0.9921568627450981, 0.9725490196078431,...</td>\n",
              "      <td>[25, 67, 58, 69, 58, 68, 57, -1, -1, -1, -1, -...</td>\n",
              "    </tr>\n",
              "  </tbody>\n",
              "</table>\n",
              "</div>\n",
              "      <button class=\"colab-df-convert\" onclick=\"convertToInteractive('df-7529ba53-01e0-40c4-bc45-c299cb5df5ef')\"\n",
              "              title=\"Convert this dataframe to an interactive table.\"\n",
              "              style=\"display:none;\">\n",
              "        \n",
              "  <svg xmlns=\"http://www.w3.org/2000/svg\" height=\"24px\"viewBox=\"0 0 24 24\"\n",
              "       width=\"24px\">\n",
              "    <path d=\"M0 0h24v24H0V0z\" fill=\"none\"/>\n",
              "    <path d=\"M18.56 5.44l.94 2.06.94-2.06 2.06-.94-2.06-.94-.94-2.06-.94 2.06-2.06.94zm-11 1L8.5 8.5l.94-2.06 2.06-.94-2.06-.94L8.5 2.5l-.94 2.06-2.06.94zm10 10l.94 2.06.94-2.06 2.06-.94-2.06-.94-.94-2.06-.94 2.06-2.06.94z\"/><path d=\"M17.41 7.96l-1.37-1.37c-.4-.4-.92-.59-1.43-.59-.52 0-1.04.2-1.43.59L10.3 9.45l-7.72 7.72c-.78.78-.78 2.05 0 2.83L4 21.41c.39.39.9.59 1.41.59.51 0 1.02-.2 1.41-.59l7.78-7.78 2.81-2.81c.8-.78.8-2.07 0-2.86zM5.41 20L4 18.59l7.72-7.72 1.47 1.35L5.41 20z\"/>\n",
              "  </svg>\n",
              "      </button>\n",
              "      \n",
              "  <style>\n",
              "    .colab-df-container {\n",
              "      display:flex;\n",
              "      flex-wrap:wrap;\n",
              "      gap: 12px;\n",
              "    }\n",
              "\n",
              "    .colab-df-convert {\n",
              "      background-color: #E8F0FE;\n",
              "      border: none;\n",
              "      border-radius: 50%;\n",
              "      cursor: pointer;\n",
              "      display: none;\n",
              "      fill: #1967D2;\n",
              "      height: 32px;\n",
              "      padding: 0 0 0 0;\n",
              "      width: 32px;\n",
              "    }\n",
              "\n",
              "    .colab-df-convert:hover {\n",
              "      background-color: #E2EBFA;\n",
              "      box-shadow: 0px 1px 2px rgba(60, 64, 67, 0.3), 0px 1px 3px 1px rgba(60, 64, 67, 0.15);\n",
              "      fill: #174EA6;\n",
              "    }\n",
              "\n",
              "    [theme=dark] .colab-df-convert {\n",
              "      background-color: #3B4455;\n",
              "      fill: #D2E3FC;\n",
              "    }\n",
              "\n",
              "    [theme=dark] .colab-df-convert:hover {\n",
              "      background-color: #434B5C;\n",
              "      box-shadow: 0px 1px 3px 1px rgba(0, 0, 0, 0.15);\n",
              "      filter: drop-shadow(0px 1px 2px rgba(0, 0, 0, 0.3));\n",
              "      fill: #FFFFFF;\n",
              "    }\n",
              "  </style>\n",
              "\n",
              "      <script>\n",
              "        const buttonEl =\n",
              "          document.querySelector('#df-7529ba53-01e0-40c4-bc45-c299cb5df5ef button.colab-df-convert');\n",
              "        buttonEl.style.display =\n",
              "          google.colab.kernel.accessAllowed ? 'block' : 'none';\n",
              "\n",
              "        async function convertToInteractive(key) {\n",
              "          const element = document.querySelector('#df-7529ba53-01e0-40c4-bc45-c299cb5df5ef');\n",
              "          const dataTable =\n",
              "            await google.colab.kernel.invokeFunction('convertToInteractive',\n",
              "                                                     [key], {});\n",
              "          if (!dataTable) return;\n",
              "\n",
              "          const docLinkHtml = 'Like what you see? Visit the ' +\n",
              "            '<a target=\"_blank\" href=https://colab.research.google.com/notebooks/data_table.ipynb>data table notebook</a>'\n",
              "            + ' to learn more about interactive tables.';\n",
              "          element.innerHTML = '';\n",
              "          dataTable['output_type'] = 'display_data';\n",
              "          await google.colab.output.renderOutput(dataTable, element);\n",
              "          const docLink = document.createElement('div');\n",
              "          docLink.innerHTML = docLinkHtml;\n",
              "          element.appendChild(docLink);\n",
              "        }\n",
              "      </script>\n",
              "    </div>\n",
              "  </div>\n",
              "  "
            ],
            "text/plain": [
              "                   Word  ...                                             target\n",
              "0                        ...                                                   \n",
              "b03-098-02-05       the  ...  [69, 57, 54, -1, -1, -1, -1, -1, -1, -1, -1, -...\n",
              "a01-020u-07-03      The  ...  [43, 57, 54, -1, -1, -1, -1, -1, -1, -1, -1, -...\n",
              "a02-111-03-02         ,  ...  [7, -1, -1, -1, -1, -1, -1, -1, -1, -1, -1, -1...\n",
              "a05-069-02-00       the  ...  [69, 57, 54, -1, -1, -1, -1, -1, -1, -1, -1, -...\n",
              "a03-037-04-07   British  ...  [25, 67, 58, 69, 58, 68, 57, -1, -1, -1, -1, -...\n",
              "\n",
              "[5 rows x 6 columns]"
            ]
          },
          "metadata": {},
          "execution_count": 40
        }
      ],
      "source": [
        "df['target'] = df['Word'].apply(transform_word_to_array)\n",
        "df.head()"
      ]
    },
    {
      "cell_type": "code",
      "execution_count": 41,
      "id": "84269ff6",
      "metadata": {
        "colab": {
          "base_uri": "https://localhost:8080/",
          "height": 368
        },
        "id": "84269ff6",
        "outputId": "a8cad300-0a95-42e8-d2df-2c854a0c3a95"
      },
      "outputs": [
        {
          "output_type": "execute_result",
          "data": {
            "text/html": [
              "\n",
              "  <div id=\"df-089351a7-f338-4fcf-af47-1322cabed7b7\">\n",
              "    <div class=\"colab-df-container\">\n",
              "      <div>\n",
              "<style scoped>\n",
              "    .dataframe tbody tr th:only-of-type {\n",
              "        vertical-align: middle;\n",
              "    }\n",
              "\n",
              "    .dataframe tbody tr th {\n",
              "        vertical-align: top;\n",
              "    }\n",
              "\n",
              "    .dataframe thead th {\n",
              "        text-align: right;\n",
              "    }\n",
              "</style>\n",
              "<table border=\"1\" class=\"dataframe\">\n",
              "  <thead>\n",
              "    <tr style=\"text-align: right;\">\n",
              "      <th></th>\n",
              "      <th>Word</th>\n",
              "      <th>Word_Length</th>\n",
              "      <th>Image_Path</th>\n",
              "      <th>Image</th>\n",
              "      <th>Image_Scaled</th>\n",
              "      <th>target</th>\n",
              "    </tr>\n",
              "    <tr>\n",
              "      <th>0</th>\n",
              "      <th></th>\n",
              "      <th></th>\n",
              "      <th></th>\n",
              "      <th></th>\n",
              "      <th></th>\n",
              "      <th></th>\n",
              "    </tr>\n",
              "  </thead>\n",
              "  <tbody>\n",
              "    <tr>\n",
              "      <th>b03-098-02-05</th>\n",
              "      <td>the</td>\n",
              "      <td>3</td>\n",
              "      <td>dataset\\b03-098-02-05.png</td>\n",
              "      <td>[[243, 251, 251, 239, 244, 243, 240, 240, 245,...</td>\n",
              "      <td>[[0.9529411764705882, 0.984313725490196, 0.984...</td>\n",
              "      <td>[69, 57, 54, -1, -1, -1, -1, -1, -1, -1, -1, -...</td>\n",
              "    </tr>\n",
              "    <tr>\n",
              "      <th>a01-020u-07-03</th>\n",
              "      <td>The</td>\n",
              "      <td>3</td>\n",
              "      <td>dataset\\a01-020u-07-03.png</td>\n",
              "      <td>[[250, 250, 251, 251, 251, 251, 251, 251, 251,...</td>\n",
              "      <td>[[0.9803921568627451, 0.9803921568627451, 0.98...</td>\n",
              "      <td>[43, 57, 54, -1, -1, -1, -1, -1, -1, -1, -1, -...</td>\n",
              "    </tr>\n",
              "    <tr>\n",
              "      <th>a02-111-03-02</th>\n",
              "      <td>,</td>\n",
              "      <td>1</td>\n",
              "      <td>dataset\\a02-111-03-02.png</td>\n",
              "      <td>[[142, 135, 120, 120, 134, 157, 188, 208, 215,...</td>\n",
              "      <td>[[0.5568627450980392, 0.5294117647058824, 0.47...</td>\n",
              "      <td>[7, -1, -1, -1, -1, -1, -1, -1, -1, -1, -1, -1...</td>\n",
              "    </tr>\n",
              "    <tr>\n",
              "      <th>a05-069-02-00</th>\n",
              "      <td>the</td>\n",
              "      <td>3</td>\n",
              "      <td>dataset\\a05-069-02-00.png</td>\n",
              "      <td>[[247, 248, 248, 246, 248, 247, 244, 239, 243,...</td>\n",
              "      <td>[[0.9686274509803922, 0.9725490196078431, 0.97...</td>\n",
              "      <td>[69, 57, 54, -1, -1, -1, -1, -1, -1, -1, -1, -...</td>\n",
              "    </tr>\n",
              "    <tr>\n",
              "      <th>a03-037-04-07</th>\n",
              "      <td>British</td>\n",
              "      <td>7</td>\n",
              "      <td>dataset\\a03-037-04-07.png</td>\n",
              "      <td>[[255, 253, 248, 246, 249, 246, 248, 249, 247,...</td>\n",
              "      <td>[[1.0, 0.9921568627450981, 0.9725490196078431,...</td>\n",
              "      <td>[25, 67, 58, 69, 58, 68, 57, -1, -1, -1, -1, -...</td>\n",
              "    </tr>\n",
              "  </tbody>\n",
              "</table>\n",
              "</div>\n",
              "      <button class=\"colab-df-convert\" onclick=\"convertToInteractive('df-089351a7-f338-4fcf-af47-1322cabed7b7')\"\n",
              "              title=\"Convert this dataframe to an interactive table.\"\n",
              "              style=\"display:none;\">\n",
              "        \n",
              "  <svg xmlns=\"http://www.w3.org/2000/svg\" height=\"24px\"viewBox=\"0 0 24 24\"\n",
              "       width=\"24px\">\n",
              "    <path d=\"M0 0h24v24H0V0z\" fill=\"none\"/>\n",
              "    <path d=\"M18.56 5.44l.94 2.06.94-2.06 2.06-.94-2.06-.94-.94-2.06-.94 2.06-2.06.94zm-11 1L8.5 8.5l.94-2.06 2.06-.94-2.06-.94L8.5 2.5l-.94 2.06-2.06.94zm10 10l.94 2.06.94-2.06 2.06-.94-2.06-.94-.94-2.06-.94 2.06-2.06.94z\"/><path d=\"M17.41 7.96l-1.37-1.37c-.4-.4-.92-.59-1.43-.59-.52 0-1.04.2-1.43.59L10.3 9.45l-7.72 7.72c-.78.78-.78 2.05 0 2.83L4 21.41c.39.39.9.59 1.41.59.51 0 1.02-.2 1.41-.59l7.78-7.78 2.81-2.81c.8-.78.8-2.07 0-2.86zM5.41 20L4 18.59l7.72-7.72 1.47 1.35L5.41 20z\"/>\n",
              "  </svg>\n",
              "      </button>\n",
              "      \n",
              "  <style>\n",
              "    .colab-df-container {\n",
              "      display:flex;\n",
              "      flex-wrap:wrap;\n",
              "      gap: 12px;\n",
              "    }\n",
              "\n",
              "    .colab-df-convert {\n",
              "      background-color: #E8F0FE;\n",
              "      border: none;\n",
              "      border-radius: 50%;\n",
              "      cursor: pointer;\n",
              "      display: none;\n",
              "      fill: #1967D2;\n",
              "      height: 32px;\n",
              "      padding: 0 0 0 0;\n",
              "      width: 32px;\n",
              "    }\n",
              "\n",
              "    .colab-df-convert:hover {\n",
              "      background-color: #E2EBFA;\n",
              "      box-shadow: 0px 1px 2px rgba(60, 64, 67, 0.3), 0px 1px 3px 1px rgba(60, 64, 67, 0.15);\n",
              "      fill: #174EA6;\n",
              "    }\n",
              "\n",
              "    [theme=dark] .colab-df-convert {\n",
              "      background-color: #3B4455;\n",
              "      fill: #D2E3FC;\n",
              "    }\n",
              "\n",
              "    [theme=dark] .colab-df-convert:hover {\n",
              "      background-color: #434B5C;\n",
              "      box-shadow: 0px 1px 3px 1px rgba(0, 0, 0, 0.15);\n",
              "      filter: drop-shadow(0px 1px 2px rgba(0, 0, 0, 0.3));\n",
              "      fill: #FFFFFF;\n",
              "    }\n",
              "  </style>\n",
              "\n",
              "      <script>\n",
              "        const buttonEl =\n",
              "          document.querySelector('#df-089351a7-f338-4fcf-af47-1322cabed7b7 button.colab-df-convert');\n",
              "        buttonEl.style.display =\n",
              "          google.colab.kernel.accessAllowed ? 'block' : 'none';\n",
              "\n",
              "        async function convertToInteractive(key) {\n",
              "          const element = document.querySelector('#df-089351a7-f338-4fcf-af47-1322cabed7b7');\n",
              "          const dataTable =\n",
              "            await google.colab.kernel.invokeFunction('convertToInteractive',\n",
              "                                                     [key], {});\n",
              "          if (!dataTable) return;\n",
              "\n",
              "          const docLinkHtml = 'Like what you see? Visit the ' +\n",
              "            '<a target=\"_blank\" href=https://colab.research.google.com/notebooks/data_table.ipynb>data table notebook</a>'\n",
              "            + ' to learn more about interactive tables.';\n",
              "          element.innerHTML = '';\n",
              "          dataTable['output_type'] = 'display_data';\n",
              "          await google.colab.output.renderOutput(dataTable, element);\n",
              "          const docLink = document.createElement('div');\n",
              "          docLink.innerHTML = docLinkHtml;\n",
              "          element.appendChild(docLink);\n",
              "        }\n",
              "      </script>\n",
              "    </div>\n",
              "  </div>\n",
              "  "
            ],
            "text/plain": [
              "                   Word  ...                                             target\n",
              "0                        ...                                                   \n",
              "b03-098-02-05       the  ...  [69, 57, 54, -1, -1, -1, -1, -1, -1, -1, -1, -...\n",
              "a01-020u-07-03      The  ...  [43, 57, 54, -1, -1, -1, -1, -1, -1, -1, -1, -...\n",
              "a02-111-03-02         ,  ...  [7, -1, -1, -1, -1, -1, -1, -1, -1, -1, -1, -1...\n",
              "a05-069-02-00       the  ...  [69, 57, 54, -1, -1, -1, -1, -1, -1, -1, -1, -...\n",
              "a03-037-04-07   British  ...  [25, 67, 58, 69, 58, 68, 57, -1, -1, -1, -1, -...\n",
              "\n",
              "[5 rows x 6 columns]"
            ]
          },
          "metadata": {},
          "execution_count": 41
        }
      ],
      "source": [
        "# Resetting index to access Images array\n",
        "#df = df.reset_index().drop(columns=['0'])\n",
        "df.head()"
      ]
    },
    {
      "cell_type": "markdown",
      "id": "c1952c79",
      "metadata": {
        "id": "c1952c79"
      },
      "source": [
        "### 6. Split your dataset for training, validation and testing"
      ]
    },
    {
      "cell_type": "code",
      "execution_count": 49,
      "id": "71aec838",
      "metadata": {
        "colab": {
          "base_uri": "https://localhost:8080/"
        },
        "id": "71aec838",
        "outputId": "c06fca87-90ee-457a-816c-366d0d3421e8"
      },
      "outputs": [
        {
          "output_type": "stream",
          "name": "stdout",
          "text": [
            "Shape of X_train is (11000, 3)\n",
            "Shape of X_test is (1000, 3)\n",
            "Shape of y_train is (11000, 16)\n",
            "Shape of y_test is (1000, 16)\n"
          ]
        }
      ],
      "source": [
        "# Splitting dataset into training and valid 11k, 1k\n",
        "\n",
        "X_df, X_valid_df, y, y_valid = train_test_split(df[['Word', 'Word_Length', 'Image_Scaled']], \n",
        "                                                      np.array(df['target'].to_list()), \n",
        "                                                      test_size=0.0833, \n",
        "                                                      random_state=42)\n",
        "print(f'Shape of X_train is {X_df.shape}')\n",
        "print(f'Shape of X_test is {X_valid_df.shape}')\n",
        "print(f'Shape of y_train is {y.shape}')\n",
        "print(f'Shape of y_test is {y_valid.shape}')"
      ]
    },
    {
      "cell_type": "code",
      "execution_count": 50,
      "id": "dcc3c7e5",
      "metadata": {
        "colab": {
          "base_uri": "https://localhost:8080/"
        },
        "id": "dcc3c7e5",
        "outputId": "7b5a3f3d-8420-49e8-c048-1f6d8e02838d"
      },
      "outputs": [
        {
          "output_type": "stream",
          "name": "stdout",
          "text": [
            "Shape of X_train is (9000, 3)\n",
            "Shape of X_test is (2000, 3)\n",
            "Shape of y_train is (9000, 16)\n",
            "Shape of y_test is (2000, 16)\n"
          ]
        }
      ],
      "source": [
        "# Splitting dataset into training and test 10k, 2k\n",
        "\n",
        "X_train_df, X_test_df, y_train, y_test = train_test_split(X_df, y, test_size=0.1818, random_state=42)\n",
        "print(f'Shape of X_train is {X_train_df.shape}')\n",
        "print(f'Shape of X_test is {X_test_df.shape}')\n",
        "print(f'Shape of y_train is {y_train.shape}')\n",
        "print(f'Shape of y_test is {y_test.shape}')"
      ]
    },
    {
      "cell_type": "code",
      "execution_count": 51,
      "id": "8d5374e5",
      "metadata": {
        "colab": {
          "base_uri": "https://localhost:8080/"
        },
        "id": "8d5374e5",
        "outputId": "6529515b-17cc-49e0-a56b-7c5299983c1f"
      },
      "outputs": [
        {
          "output_type": "stream",
          "name": "stdout",
          "text": [
            "Shape of X_train is (9000, 128, 32)\n",
            "Shape of y_train is (9000, 16)\n",
            "Shape of X_valid is (1000, 128, 32)\n",
            "Shape of y_valid is (1000, 16)\n",
            "Shape of X_test is (2000, 128, 32)\n",
            "Shape of y_test is (2000, 16)\n"
          ]
        }
      ],
      "source": [
        "X_train = Images[X_train_df.index]\n",
        "\n",
        "X_valid = Images[X_valid_df.index]\n",
        "\n",
        "X_test = Images[X_test_df.index]\n",
        "\n",
        "print(f'Shape of X_train is {X_train.shape}')\n",
        "print(f'Shape of y_train is {y_train.shape}')\n",
        "print(f'Shape of X_valid is {X_valid.shape}')\n",
        "print(f'Shape of y_valid is {y_valid.shape}')\n",
        "print(f'Shape of X_test is {X_test.shape}')\n",
        "print(f'Shape of y_test is {y_test.shape}')"
      ]
    },
    {
      "cell_type": "code",
      "execution_count": 52,
      "id": "2ad4dd03",
      "metadata": {
        "id": "2ad4dd03"
      },
      "outputs": [],
      "source": [
        "# This is for debugging\n",
        "#print(df['Image'].apply(lambda x: prod(x.shape)).min())\n",
        "#print(df['target'].apply(lambda x: prod(x.shape)).max())"
      ]
    },
    {
      "cell_type": "code",
      "execution_count": 53,
      "id": "1c2de5b9",
      "metadata": {
        "colab": {
          "base_uri": "https://localhost:8080/"
        },
        "id": "1c2de5b9",
        "outputId": "c879bdfc-627d-4352-b6c1-9e6305f8d059"
      },
      "outputs": [
        {
          "output_type": "stream",
          "name": "stdout",
          "text": [
            "(12000, 16)\n"
          ]
        }
      ],
      "source": [
        "target = []\n",
        "for value in df['target'].to_numpy():\n",
        "    target.append(value)\n",
        "target = np.array(target)\n",
        "print(target.shape)"
      ]
    },
    {
      "cell_type": "code",
      "execution_count": 54,
      "id": "c5ae579e",
      "metadata": {
        "colab": {
          "base_uri": "https://localhost:8080/"
        },
        "id": "c5ae579e",
        "outputId": "c76c286e-4e62-4b4d-9e03-cebbdd9a3731"
      },
      "outputs": [
        {
          "output_type": "execute_result",
          "data": {
            "text/plain": [
              "((9000, 128, 32), (9000, 16))"
            ]
          },
          "metadata": {},
          "execution_count": 54
        }
      ],
      "source": [
        "X_train.shape, y_train.shape"
      ]
    },
    {
      "cell_type": "markdown",
      "id": "6cc317e9",
      "metadata": {
        "id": "6cc317e9"
      },
      "source": [
        "### 7. Create a model for training:\n",
        "a) Add several CNN layers to extract the sequence of features\n",
        "\n",
        "b) Add Bi-LSTM layers to propagate through the sequence\n",
        "\n",
        "c) Add a dense layer (output layer) with total number of neurons as (total number of \n",
        "characters + 1) and the activation as softmax."
      ]
    },
    {
      "cell_type": "code",
      "execution_count": 55,
      "id": "f5f1d0d7",
      "metadata": {
        "scrolled": true,
        "colab": {
          "base_uri": "https://localhost:8080/"
        },
        "id": "f5f1d0d7",
        "outputId": "879f8117-7ca7-4d3e-bcd1-feccb9b572ac"
      },
      "outputs": [
        {
          "output_type": "stream",
          "name": "stdout",
          "text": [
            "Model: \"model\"\n",
            "_________________________________________________________________\n",
            " Layer (type)                Output Shape              Param #   \n",
            "=================================================================\n",
            " input_image (InputLayer)    [(None, 128, 32, 1)]      0         \n",
            "                                                                 \n",
            " Conv1 (Conv2D)              (None, 128, 32, 32)       320       \n",
            "                                                                 \n",
            " pool1 (MaxPooling2D)        (None, 64, 16, 32)        0         \n",
            "                                                                 \n",
            " batch_normalization (BatchN  (None, 64, 16, 32)       128       \n",
            " ormalization)                                                   \n",
            "                                                                 \n",
            " Conv2 (Conv2D)              (None, 64, 16, 64)        18496     \n",
            "                                                                 \n",
            " pool2 (MaxPooling2D)        (None, 32, 8, 64)         0         \n",
            "                                                                 \n",
            " batch_normalization_1 (Batc  (None, 32, 8, 64)        256       \n",
            " hNormalization)                                                 \n",
            "                                                                 \n",
            " Conv3 (Conv2D)              (None, 32, 8, 128)        73856     \n",
            "                                                                 \n",
            " pool3 (MaxPooling2D)        (None, 32, 4, 128)        0         \n",
            "                                                                 \n",
            " batch_normalization_2 (Batc  (None, 32, 4, 128)       512       \n",
            " hNormalization)                                                 \n",
            "                                                                 \n",
            " reshape (Reshape)           (None, 32, 512)           0         \n",
            "                                                                 \n",
            " dense1 (Dense)              (None, 32, 32)            16416     \n",
            "                                                                 \n",
            " dropout (Dropout)           (None, 32, 32)            0         \n",
            "                                                                 \n",
            " bidirectional (Bidirectiona  (None, 32, 256)          164864    \n",
            " l)                                                              \n",
            "                                                                 \n",
            " bidirectional_1 (Bidirectio  (None, 32, 256)          394240    \n",
            " nal)                                                            \n",
            "                                                                 \n",
            " dense2 (Dense)              (None, 32, 78)            20046     \n",
            "                                                                 \n",
            " softmax (Activation)        (None, 32, 78)            0         \n",
            "                                                                 \n",
            "=================================================================\n",
            "Total params: 689,134\n",
            "Trainable params: 688,686\n",
            "Non-trainable params: 448\n",
            "_________________________________________________________________\n"
          ]
        }
      ],
      "source": [
        "optimizer_name = 'Adam'\n",
        "image_width, image_height = X_train[0].shape[0], X_train[0].shape[1]\n",
        "input_img = keras.Input(shape=(image_width, image_height, 1), name = 'input_image')\n",
        "labels = keras.layers.Input(name='label', shape=(None, ))\n",
        "\n",
        "x = keras.layers.Conv2D(32,\n",
        "                       (3,3),\n",
        "                       activation='relu',\n",
        "                       kernel_initializer='he_normal',\n",
        "                        padding='same',\n",
        "                        name='Conv1')(input_img)\n",
        "x = keras.layers.MaxPool2D((2,2), name='pool1')(x)\n",
        "x = keras.layers.BatchNormalization()(x)\n",
        "\n",
        "x = keras.layers.Conv2D(64, \n",
        "                       (3,3),\n",
        "                       activation='relu',\n",
        "                       kernel_initializer = 'he_normal',\n",
        "                       padding='same',\n",
        "                       name='Conv2')(x)\n",
        "x = keras.layers.MaxPool2D((2,2), name='pool2')(x)\n",
        "x = keras.layers.BatchNormalization()(x)\n",
        "\n",
        "x = keras.layers.Conv2D(128, \n",
        "                       (3,3),\n",
        "                       activation='relu',\n",
        "                       kernel_initializer = 'he_normal',\n",
        "                       padding='same',\n",
        "                       name='Conv3')(x)\n",
        "x = keras.layers.MaxPool2D((1,2), name='pool3')(x)\n",
        "x = keras.layers.BatchNormalization()(x)\n",
        "\n",
        "new_shape = ((image_width // 4) , (image_height // 4) * 64)\n",
        "\n",
        "x = keras.layers.Reshape(target_shape = new_shape, name = 'reshape')(x)\n",
        "x = keras.layers.Dense(32, activation='relu', kernel_initializer='he_normal', name = 'dense1')(x)\n",
        "x = keras.layers.Dropout(0.2)(x)\n",
        "\n",
        "x = keras.layers.Bidirectional(\n",
        "        keras.layers.LSTM(128, return_sequences=True, dropout=0.25)\n",
        ")(x)\n",
        "\n",
        "x = keras.layers.Bidirectional(\n",
        "        keras.layers.LSTM(128, return_sequences=True, dropout=0.25)\n",
        ")(x)\n",
        "\n",
        "x = keras.layers.Dense(\n",
        "    characters_length + 2, name='dense2', kernel_initializer='he_normal'\n",
        ")(x)\n",
        "    \n",
        "y_pred = Activation('softmax', name='softmax')(x)    \n",
        "model = keras.Model(inputs = input_img, outputs = y_pred)    \n",
        "model.summary()"
      ]
    },
    {
      "cell_type": "code",
      "execution_count": 56,
      "id": "69b76030",
      "metadata": {
        "colab": {
          "base_uri": "https://localhost:8080/"
        },
        "id": "69b76030",
        "outputId": "beea0d91-8ed1-454e-ae5c-cd4a68199010"
      },
      "outputs": [
        {
          "output_type": "stream",
          "name": "stdout",
          "text": [
            "train_size: 9000\n",
            "valid_size: 1000\n"
          ]
        }
      ],
      "source": [
        "train_size = X_train.shape[0]\n",
        "print(f'train_size: {train_size}')\n",
        "\n",
        "valid_size = X_valid.shape[0]\n",
        "print(f'valid_size: {valid_size}')"
      ]
    },
    {
      "cell_type": "code",
      "execution_count": 57,
      "id": "deb963ff",
      "metadata": {
        "scrolled": true,
        "id": "deb963ff"
      },
      "outputs": [],
      "source": [
        "num_of_timestamps = 32\n",
        "train_label_len = np.zeros([train_size, 1])\n",
        "train_input_len = np.ones([train_size, 1])*(num_of_timestamps - 2)\n",
        "train_output = np.zeros([train_size])\n",
        "for i in range(y_train.shape[0]):\n",
        "    train_label_len[i] = len([x for x in y_train[i] if x > -1])    "
      ]
    },
    {
      "cell_type": "code",
      "execution_count": 58,
      "id": "f2090348",
      "metadata": {
        "id": "f2090348"
      },
      "outputs": [],
      "source": [
        "valid_label_len = np.zeros([valid_size, 1])\n",
        "valid_input_len = np.ones([valid_size, 1])*(num_of_timestamps - 2)\n",
        "valid_output = np.zeros([valid_size])\n",
        "for i in range(y_valid.shape[0]):\n",
        "    valid_label_len[i] = len([x for x in y_valid[i] if x > -1])"
      ]
    },
    {
      "cell_type": "code",
      "execution_count": 59,
      "id": "d1b33c7b",
      "metadata": {
        "id": "d1b33c7b"
      },
      "outputs": [],
      "source": [
        "def ctc_lambda_func(args):\n",
        "    y_pred, labels, input_length, label_length = args\n",
        "    # the 2 is critical here since the first couple outputs of the RNN\n",
        "    # tend to be garbage\n",
        "    print(y_pred)\n",
        "    y_pred = y_pred[:, 2:, :]\n",
        "    return backend.ctc_batch_cost(labels, y_pred, input_length, label_length)"
      ]
    },
    {
      "cell_type": "markdown",
      "id": "c532f0fa",
      "metadata": {
        "id": "c532f0fa"
      },
      "source": [
        "### 8. The out sequence from the output layer will be fed to the CTC layer. "
      ]
    },
    {
      "cell_type": "code",
      "execution_count": 61,
      "id": "412ed0b7",
      "metadata": {
        "colab": {
          "base_uri": "https://localhost:8080/"
        },
        "id": "412ed0b7",
        "outputId": "96d55dd4-1234-44f8-b30a-76bafedba93c"
      },
      "outputs": [
        {
          "output_type": "stream",
          "name": "stdout",
          "text": [
            "Tensor(\"Placeholder:0\", shape=(None, 32, 78), dtype=float32)\n"
          ]
        }
      ],
      "source": [
        "labels = keras.Input(name='gtruth_labels', shape=[maximum_word_length], dtype='float32')\n",
        "input_length = keras.Input(name='input_length', shape=[1], dtype='int64')\n",
        "label_length = keras.Input(name='label_length', shape=[1], dtype='int64')\n",
        "\n",
        "ctc_loss = layers.Lambda(ctc_lambda_func, output_shape = (1, ), name='ctc')([y_pred, labels, input_length, label_length])\n",
        "model_final = keras.Model(inputs=[input_img, labels, input_length, label_length], outputs = ctc_loss)"
      ]
    },
    {
      "cell_type": "code",
      "execution_count": 62,
      "id": "4708ebc8",
      "metadata": {
        "scrolled": true,
        "colab": {
          "base_uri": "https://localhost:8080/"
        },
        "id": "4708ebc8",
        "outputId": "1101fa92-400b-41d5-fcbd-75daadceef75"
      },
      "outputs": [
        {
          "output_type": "stream",
          "name": "stdout",
          "text": [
            "Epoch 1/10\n",
            "Tensor(\"model_1/softmax/Softmax:0\", shape=(None, 32, 78), dtype=float32)\n",
            "Tensor(\"model_1/softmax/Softmax:0\", shape=(None, 32, 78), dtype=float32)\n",
            "282/282 [==============================] - ETA: 0s - loss: 16.1731Tensor(\"model_1/softmax/Softmax:0\", shape=(None, 32, 78), dtype=float32)\n",
            "282/282 [==============================] - 30s 37ms/step - loss: 16.1731 - val_loss: 14.9164\n",
            "Epoch 2/10\n",
            "282/282 [==============================] - 9s 31ms/step - loss: 12.6145 - val_loss: 11.5127\n",
            "Epoch 3/10\n",
            "282/282 [==============================] - 9s 31ms/step - loss: 10.4925 - val_loss: 9.9450\n",
            "Epoch 4/10\n",
            "282/282 [==============================] - 9s 31ms/step - loss: 8.8002 - val_loss: 8.4229\n",
            "Epoch 5/10\n",
            "282/282 [==============================] - 9s 31ms/step - loss: 7.4477 - val_loss: 6.9036\n",
            "Epoch 6/10\n",
            "282/282 [==============================] - 9s 31ms/step - loss: 6.4736 - val_loss: 5.9880\n",
            "Epoch 7/10\n",
            "282/282 [==============================] - 9s 31ms/step - loss: 5.7747 - val_loss: 5.6503\n",
            "Epoch 8/10\n",
            "282/282 [==============================] - 10s 35ms/step - loss: 5.1839 - val_loss: 5.4948\n",
            "Epoch 9/10\n",
            "282/282 [==============================] - 9s 31ms/step - loss: 4.7341 - val_loss: 5.1190\n",
            "Epoch 10/10\n",
            "282/282 [==============================] - 9s 31ms/step - loss: 4.4157 - val_loss: 4.7158\n"
          ]
        },
        {
          "output_type": "execute_result",
          "data": {
            "text/plain": [
              "<keras.callbacks.History at 0x7f03fc19ee50>"
            ]
          },
          "metadata": {},
          "execution_count": 62
        }
      ],
      "source": [
        "# Train out model\n",
        "model_final.compile(loss={'ctc': lambda y_true, y_pred: y_pred}, optimizer=keras.optimizers.Adam())\n",
        "\n",
        "model_final.fit(x=[X_train, y_train, train_input_len, train_label_len], \n",
        "                y= train_output,\n",
        "                validation_data=([X_valid, y_valid, valid_input_len, valid_label_len],\n",
        "                valid_output),\n",
        "                epochs=10)"
      ]
    },
    {
      "cell_type": "code",
      "execution_count": 63,
      "id": "f55ce5d7",
      "metadata": {
        "id": "f55ce5d7"
      },
      "outputs": [],
      "source": [
        "def num_to_label(num):\n",
        "    return [number_to_char_dict[x] for x in num if x > -1]"
      ]
    },
    {
      "cell_type": "code",
      "execution_count": 64,
      "id": "6272396a",
      "metadata": {
        "id": "6272396a"
      },
      "outputs": [],
      "source": [
        "# Check the performance\n",
        "preds = model.predict(X_valid)\n",
        "decoded = backend.get_value(backend.ctc_decode(preds, input_length=np.ones(preds.shape[0])*preds.shape[1], \n",
        "                                   greedy=True)[0][0])\n",
        "\n",
        "prediction = []\n",
        "for i in range(valid_size):\n",
        "    prediction.append(num_to_label(decoded[i]))"
      ]
    },
    {
      "cell_type": "code",
      "execution_count": 65,
      "id": "0aec3e57",
      "metadata": {
        "scrolled": true,
        "colab": {
          "base_uri": "https://localhost:8080/"
        },
        "id": "0aec3e57",
        "outputId": "8d8b1553-cf11-4c17-de1b-c8f8fc3da392"
      },
      "outputs": [
        {
          "output_type": "stream",
          "name": "stdout",
          "text": [
            "Correct characters predicted : 52.50%\n",
            "Correct words predicted      : 0.00%\n"
          ]
        }
      ],
      "source": [
        "y_true = X_valid_df['Word'].to_numpy()\n",
        "correct_char = 0\n",
        "total_char = 0\n",
        "correct = 0\n",
        "\n",
        "for i in range(valid_size):\n",
        "    pr = prediction[i]\n",
        "    tr = y_true[i]\n",
        "    total_char += len(tr)\n",
        "    \n",
        "    for j in range(min(len(tr), len(pr))):\n",
        "        if tr[j] == pr[j]:\n",
        "            correct_char += 1\n",
        "            \n",
        "    if pr == tr :\n",
        "        correct += 1 \n",
        "    \n",
        "print('Correct characters predicted : %.2f%%' %(correct_char*100/total_char))\n",
        "print('Correct words predicted      : %.2f%%' %(correct*100/valid_size))"
      ]
    },
    {
      "cell_type": "markdown",
      "id": "264b1262",
      "metadata": {
        "id": "264b1262"
      },
      "source": [
        "### 9. Predict output using your model(do not use the last loss layer) on validation images, use ctc_decode to decode your output and then print the actual words using the indexes from your character's list."
      ]
    },
    {
      "cell_type": "code",
      "execution_count": 66,
      "id": "98cbe254",
      "metadata": {
        "colab": {
          "base_uri": "https://localhost:8080/",
          "height": 199
        },
        "id": "98cbe254",
        "outputId": "0c10cf6a-bc42-4c81-bace-e1296ec48055"
      },
      "outputs": [
        {
          "output_type": "display_data",
          "data": {
            "image/png": "[encoded data removed]",
            "text/plain": [
              "<Figure size 1080x720 with 6 Axes>"
            ]
          },
          "metadata": {
            "needs_background": "light"
          }
        }
      ],
      "source": [
        "test = X_test_df\n",
        "plt.figure(figsize=(15, 10))\n",
        "for i in range(6):\n",
        "    ax = plt.subplot(2, 3, i+1)\n",
        "    image = test.iloc[i, -1]\n",
        "    plt.imshow(cv2.rotate(image, cv2.ROTATE_90_COUNTERCLOCKWISE))\n",
        "    pred = model.predict(image.reshape(1, 128, 32, 1))\n",
        "    decoded = backend.get_value(backend.ctc_decode(pred, input_length=np.ones(pred.shape[0])*pred.shape[1], \n",
        "                                       greedy=True)[0][0])\n",
        "    plt.title(num_to_label(decoded[0]), fontsize=12)\n",
        "    plt.axis('off')\n",
        "    \n",
        "plt.subplots_adjust(wspace=0.2, hspace=-0.8)"
      ]
    },
    {
      "cell_type": "code",
      "execution_count": 67,
      "id": "c9c1f6af",
      "metadata": {
        "colab": {
          "base_uri": "https://localhost:8080/",
          "height": 206
        },
        "id": "c9c1f6af",
        "outputId": "5c52b88c-6bd2-4f3c-de41-5bbea857b214"
      },
      "outputs": [
        {
          "output_type": "execute_result",
          "data": {
            "text/html": [
              "\n",
              "  <div id=\"df-b48cf998-15e6-4ea2-89cf-0e346ec882fc\">\n",
              "    <div class=\"colab-df-container\">\n",
              "      <div>\n",
              "<style scoped>\n",
              "    .dataframe tbody tr th:only-of-type {\n",
              "        vertical-align: middle;\n",
              "    }\n",
              "\n",
              "    .dataframe tbody tr th {\n",
              "        vertical-align: top;\n",
              "    }\n",
              "\n",
              "    .dataframe thead th {\n",
              "        text-align: right;\n",
              "    }\n",
              "</style>\n",
              "<table border=\"1\" class=\"dataframe\">\n",
              "  <thead>\n",
              "    <tr style=\"text-align: right;\">\n",
              "      <th></th>\n",
              "      <th>Word</th>\n",
              "      <th>Word_Length</th>\n",
              "      <th>Image_Scaled</th>\n",
              "    </tr>\n",
              "  </thead>\n",
              "  <tbody>\n",
              "    <tr>\n",
              "      <th>6032</th>\n",
              "      <td>Mr.</td>\n",
              "      <td>3</td>\n",
              "      <td>[[1.0, 1.0, 0.9137254901960784, 0.619607843137...</td>\n",
              "    </tr>\n",
              "    <tr>\n",
              "      <th>3367</th>\n",
              "      <td>?</td>\n",
              "      <td>1</td>\n",
              "      <td>[[1.0, 1.0, 1.0, 1.0, 1.0, 1.0, 1.0, 1.0, 1.0,...</td>\n",
              "    </tr>\n",
              "    <tr>\n",
              "      <th>10607</th>\n",
              "      <td>.</td>\n",
              "      <td>1</td>\n",
              "      <td>[[0.8509803921568627, 0.8509803921568627, 0.83...</td>\n",
              "    </tr>\n",
              "    <tr>\n",
              "      <th>654</th>\n",
              "      <td>years</td>\n",
              "      <td>5</td>\n",
              "      <td>[[1.0, 0.996078431372549, 0.996078431372549, 0...</td>\n",
              "    </tr>\n",
              "    <tr>\n",
              "      <th>9615</th>\n",
              "      <td>v.</td>\n",
              "      <td>2</td>\n",
              "      <td>[[0.9450980392156862, 0.9568627450980393, 0.94...</td>\n",
              "    </tr>\n",
              "  </tbody>\n",
              "</table>\n",
              "</div>\n",
              "      <button class=\"colab-df-convert\" onclick=\"convertToInteractive('df-b48cf998-15e6-4ea2-89cf-0e346ec882fc')\"\n",
              "              title=\"Convert this dataframe to an interactive table.\"\n",
              "              style=\"display:none;\">\n",
              "        \n",
              "  <svg xmlns=\"http://www.w3.org/2000/svg\" height=\"24px\"viewBox=\"0 0 24 24\"\n",
              "       width=\"24px\">\n",
              "    <path d=\"M0 0h24v24H0V0z\" fill=\"none\"/>\n",
              "    <path d=\"M18.56 5.44l.94 2.06.94-2.06 2.06-.94-2.06-.94-.94-2.06-.94 2.06-2.06.94zm-11 1L8.5 8.5l.94-2.06 2.06-.94-2.06-.94L8.5 2.5l-.94 2.06-2.06.94zm10 10l.94 2.06.94-2.06 2.06-.94-2.06-.94-.94-2.06-.94 2.06-2.06.94z\"/><path d=\"M17.41 7.96l-1.37-1.37c-.4-.4-.92-.59-1.43-.59-.52 0-1.04.2-1.43.59L10.3 9.45l-7.72 7.72c-.78.78-.78 2.05 0 2.83L4 21.41c.39.39.9.59 1.41.59.51 0 1.02-.2 1.41-.59l7.78-7.78 2.81-2.81c.8-.78.8-2.07 0-2.86zM5.41 20L4 18.59l7.72-7.72 1.47 1.35L5.41 20z\"/>\n",
              "  </svg>\n",
              "      </button>\n",
              "      \n",
              "  <style>\n",
              "    .colab-df-container {\n",
              "      display:flex;\n",
              "      flex-wrap:wrap;\n",
              "      gap: 12px;\n",
              "    }\n",
              "\n",
              "    .colab-df-convert {\n",
              "      background-color: #E8F0FE;\n",
              "      border: none;\n",
              "      border-radius: 50%;\n",
              "      cursor: pointer;\n",
              "      display: none;\n",
              "      fill: #1967D2;\n",
              "      height: 32px;\n",
              "      padding: 0 0 0 0;\n",
              "      width: 32px;\n",
              "    }\n",
              "\n",
              "    .colab-df-convert:hover {\n",
              "      background-color: #E2EBFA;\n",
              "      box-shadow: 0px 1px 2px rgba(60, 64, 67, 0.3), 0px 1px 3px 1px rgba(60, 64, 67, 0.15);\n",
              "      fill: #174EA6;\n",
              "    }\n",
              "\n",
              "    [theme=dark] .colab-df-convert {\n",
              "      background-color: #3B4455;\n",
              "      fill: #D2E3FC;\n",
              "    }\n",
              "\n",
              "    [theme=dark] .colab-df-convert:hover {\n",
              "      background-color: #434B5C;\n",
              "      box-shadow: 0px 1px 3px 1px rgba(0, 0, 0, 0.15);\n",
              "      filter: drop-shadow(0px 1px 2px rgba(0, 0, 0, 0.3));\n",
              "      fill: #FFFFFF;\n",
              "    }\n",
              "  </style>\n",
              "\n",
              "      <script>\n",
              "        const buttonEl =\n",
              "          document.querySelector('#df-b48cf998-15e6-4ea2-89cf-0e346ec882fc button.colab-df-convert');\n",
              "        buttonEl.style.display =\n",
              "          google.colab.kernel.accessAllowed ? 'block' : 'none';\n",
              "\n",
              "        async function convertToInteractive(key) {\n",
              "          const element = document.querySelector('#df-b48cf998-15e6-4ea2-89cf-0e346ec882fc');\n",
              "          const dataTable =\n",
              "            await google.colab.kernel.invokeFunction('convertToInteractive',\n",
              "                                                     [key], {});\n",
              "          if (!dataTable) return;\n",
              "\n",
              "          const docLinkHtml = 'Like what you see? Visit the ' +\n",
              "            '<a target=\"_blank\" href=https://colab.research.google.com/notebooks/data_table.ipynb>data table notebook</a>'\n",
              "            + ' to learn more about interactive tables.';\n",
              "          element.innerHTML = '';\n",
              "          dataTable['output_type'] = 'display_data';\n",
              "          await google.colab.output.renderOutput(dataTable, element);\n",
              "          const docLink = document.createElement('div');\n",
              "          docLink.innerHTML = docLinkHtml;\n",
              "          element.appendChild(docLink);\n",
              "        }\n",
              "      </script>\n",
              "    </div>\n",
              "  </div>\n",
              "  "
            ],
            "text/plain": [
              "        Word  Word_Length                                       Image_Scaled\n",
              "6032     Mr.            3  [[1.0, 1.0, 0.9137254901960784, 0.619607843137...\n",
              "3367       ?            1  [[1.0, 1.0, 1.0, 1.0, 1.0, 1.0, 1.0, 1.0, 1.0,...\n",
              "10607      .            1  [[0.8509803921568627, 0.8509803921568627, 0.83...\n",
              "654    years            5  [[1.0, 0.996078431372549, 0.996078431372549, 0...\n",
              "9615      v.            2  [[0.9450980392156862, 0.9568627450980393, 0.94..."
            ]
          },
          "metadata": {},
          "execution_count": 67
        }
      ],
      "source": [
        "X_test_df.head()"
      ]
    },
    {
      "cell_type": "code",
      "execution_count": 68,
      "id": "9e4b3121",
      "metadata": {
        "colab": {
          "base_uri": "https://localhost:8080/",
          "height": 199
        },
        "id": "9e4b3121",
        "outputId": "4bb7b789-ed93-4720-986b-cd422fc49b82"
      },
      "outputs": [
        {
          "output_type": "display_data",
          "data": {
            "image/png": "[encoded data removed]",
            "text/plain": [
              "<Figure size 1080x720 with 6 Axes>"
            ]
          },
          "metadata": {
            "needs_background": "light"
          }
        }
      ],
      "source": [
        "test = X_train_df\n",
        "plt.figure(figsize=(15, 10))\n",
        "for i in range(6):\n",
        "    ax = plt.subplot(2, 3, i+1)\n",
        "    image = test.iloc[i, -1]\n",
        "    plt.imshow(cv2.rotate(image, cv2.ROTATE_90_COUNTERCLOCKWISE))\n",
        "    \n",
        "    plt.title(test.iloc[i, 0], fontsize=12)\n",
        "    plt.axis('off')\n",
        "    \n",
        "plt.subplots_adjust(wspace=0.2, hspace=-0.8)"
      ]
    },
    {
      "cell_type": "code",
      "execution_count": null,
      "id": "9851b2d4",
      "metadata": {
        "id": "9851b2d4"
      },
      "outputs": [],
      "source": [
        ""
      ]
    }
  ],
  "metadata": {
    "kernelspec": {
      "display_name": "Python 3",
      "language": "python",
      "name": "python3"
    },
    "language_info": {
      "codemirror_mode": {
        "name": "ipython",
        "version": 3
      },
      "file_extension": ".py",
      "mimetype": "text/x-python",
      "name": "python",
      "nbconvert_exporter": "python",
      "pygments_lexer": "ipython3",
      "version": "3.8.8"
    },
    "colab": {
      "name": "Solution.ipynb",
      "provenance": [],
      "collapsed_sections": []
    },
    "accelerator": "GPU"
  },
  "nbformat": 4,
  "nbformat_minor": 5
}