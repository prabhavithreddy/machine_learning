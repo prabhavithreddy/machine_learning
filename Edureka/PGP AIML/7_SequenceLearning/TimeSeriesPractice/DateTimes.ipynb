{
 "cells": [
  {
   "cell_type": "code",
   "execution_count": 2,
   "id": "268de09b",
   "metadata": {},
   "outputs": [
    {
     "name": "stdout",
     "output_type": "stream",
     "text": [
      "Arbitrary date:  2021-05-15 00:00:00\n",
      "Date and time:  2021-05-15 07:23:44\n",
      "Date right now:  2022-02-05 09:17:06.219210\n",
      "Date yesterday:  2022-02-04 09:17:06.219210\n"
     ]
    }
   ],
   "source": [
    "from datetime import datetime, timedelta\n",
    "\n",
    "# Arbitrary date\n",
    "print('Arbitrary date: ', end=' ')\n",
    "print(datetime(year=2021, month=5, day=15))\n",
    "\n",
    "# Arbitrary date and time\n",
    "\n",
    "print('Date and time: ', end=' ')\n",
    "print(datetime(year=2021, month=5, day=15, hour=7, minute=23, second=44))\n",
    "\n",
    "\n",
    "# Now\n",
    "print('Date right now: ', end=' ')\n",
    "print(datetime.now())\n",
    "\n",
    "\n",
    "# Yesterday\n",
    "print('Date yesterday: ', end=' ')\n",
    "print(datetime.now() - timedelta(days=1))"
   ]
  },
  {
   "cell_type": "code",
   "execution_count": 3,
   "id": "060fb878",
   "metadata": {},
   "outputs": [
    {
     "name": "stdout",
     "output_type": "stream",
     "text": [
      "2022 2 5 9 18 8\n"
     ]
    }
   ],
   "source": [
    "now = datetime.now()\n",
    "print(now.year, now.month, now.day, now.hour, now.minute, now.second)"
   ]
  },
  {
   "cell_type": "code",
   "execution_count": 5,
   "id": "5719c5e3",
   "metadata": {},
   "outputs": [
    {
     "data": {
      "text/plain": [
       "[datetime.datetime(2021, 7, 1, 0, 0),\n",
       " datetime.datetime(2021, 7, 2, 0, 0),\n",
       " datetime.datetime(2021, 7, 3, 0, 0)]"
      ]
     },
     "execution_count": 5,
     "metadata": {},
     "output_type": "execute_result"
    }
   ],
   "source": [
    "date_list = [\n",
    "    datetime(2021, 7, 1),\n",
    "    datetime(2021, 7, 2),\n",
    "    datetime(2021, 7, 3)\n",
    "]\n",
    "\n",
    "date_list"
   ]
  },
  {
   "cell_type": "code",
   "execution_count": 6,
   "id": "7351013c",
   "metadata": {},
   "outputs": [
    {
     "data": {
      "text/plain": [
       "array(['2021-07-01', '2021-07-02', '2021-07-03'], dtype='datetime64[D]')"
      ]
     },
     "execution_count": 6,
     "metadata": {},
     "output_type": "execute_result"
    }
   ],
   "source": [
    "import numpy as np\n",
    "date_list = np.array(['2021-07-01','2021-07-02','2021-07-03'], dtype='datetime64')\n",
    "date_list"
   ]
  },
  {
   "cell_type": "code",
   "execution_count": 7,
   "id": "c2ed1170",
   "metadata": {},
   "outputs": [
    {
     "data": {
      "text/plain": [
       "array(['2021-07-01T00:00:00', '2021-07-02T00:00:00',\n",
       "       '2021-07-03T00:00:00'], dtype='datetime64[s]')"
      ]
     },
     "execution_count": 7,
     "metadata": {},
     "output_type": "execute_result"
    }
   ],
   "source": [
    "date_list = np.array(['2021-07-01','2021-07-02','2021-07-03'], dtype='datetime64[s]')\n",
    "date_list"
   ]
  },
  {
   "cell_type": "code",
   "execution_count": 8,
   "id": "4c1995fb",
   "metadata": {},
   "outputs": [
    {
     "data": {
      "text/plain": [
       "array(['2021', '2021', '2021'], dtype='datetime64[Y]')"
      ]
     },
     "execution_count": 8,
     "metadata": {},
     "output_type": "execute_result"
    }
   ],
   "source": [
    "date_list = np.array(['2021-07-01','2021-07-02','2021-07-03'], dtype='datetime64[Y]')\n",
    "date_list"
   ]
  },
  {
   "cell_type": "code",
   "execution_count": 10,
   "id": "b3566ace",
   "metadata": {},
   "outputs": [
    {
     "data": {
      "text/plain": [
       "array(['2021-07-01', '2021-07-02', '2021-07-03', '2021-07-04'],\n",
       "      dtype='datetime64[D]')"
      ]
     },
     "execution_count": 10,
     "metadata": {},
     "output_type": "execute_result"
    }
   ],
   "source": [
    "date_list = np.arange('2021-07-01','2021-07-05', dtype='datetime64[D]')\n",
    "date_list"
   ]
  },
  {
   "cell_type": "code",
   "execution_count": 11,
   "id": "adc25796",
   "metadata": {},
   "outputs": [
    {
     "data": {
      "text/plain": [
       "DatetimeIndex(['2021-07-01', '2021-07-02', '2021-07-03', '2021-07-04',\n",
       "               '2021-07-05'],\n",
       "              dtype='datetime64[ns]', freq='D')"
      ]
     },
     "execution_count": 11,
     "metadata": {},
     "output_type": "execute_result"
    }
   ],
   "source": [
    "import pandas as pd\n",
    "date_list = pd.date_range(start='2021-07-01', end='2021-07-05')\n",
    "date_list"
   ]
  },
  {
   "cell_type": "code",
   "execution_count": 12,
   "id": "e1a5bfc6",
   "metadata": {},
   "outputs": [
    {
     "data": {
      "text/plain": [
       "DatetimeIndex(['2021-07-01', '2021-07-02', '2021-07-03', '2021-07-04',\n",
       "               '2021-07-05', '2021-07-06', '2021-07-07', '2021-07-08',\n",
       "               '2021-07-09', '2021-07-10'],\n",
       "              dtype='datetime64[ns]', freq='D')"
      ]
     },
     "execution_count": 12,
     "metadata": {},
     "output_type": "execute_result"
    }
   ],
   "source": [
    "date_list = pd.date_range(start='2021-07-01', periods=10, freq='D')\n",
    "date_list"
   ]
  },
  {
   "cell_type": "code",
   "execution_count": 13,
   "id": "5f8dde4a",
   "metadata": {},
   "outputs": [
    {
     "name": "stdout",
     "output_type": "stream",
     "text": [
      "Minumum date: 2021-07-01 00:00:00\n",
      "Maximum date: 2021-07-10 00:00:00\n"
     ]
    }
   ],
   "source": [
    "print(f'Minumum date: {date_list.min()}')\n",
    "print(f'Maximum date: {date_list.max()}')"
   ]
  },
  {
   "cell_type": "code",
   "execution_count": null,
   "id": "3b1c474a",
   "metadata": {},
   "outputs": [],
   "source": []
  }
 ],
 "metadata": {
  "kernelspec": {
   "display_name": "Python 3",
   "language": "python",
   "name": "python3"
  },
  "language_info": {
   "codemirror_mode": {
    "name": "ipython",
    "version": 3
   },
   "file_extension": ".py",
   "mimetype": "text/x-python",
   "name": "python",
   "nbconvert_exporter": "python",
   "pygments_lexer": "ipython3",
   "version": "3.8.8"
  }
 },
 "nbformat": 4,
 "nbformat_minor": 5
}
