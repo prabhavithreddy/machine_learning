{
 "cells": [
  {
   "cell_type": "code",
   "execution_count": 1,
   "id": "f57b8eb8",
   "metadata": {},
   "outputs": [],
   "source": [
    "import pandas as pd\n",
    "import numpy as np\n",
    "\n",
    "from sklearn.model_selection import TimeSeriesSplit"
   ]
  },
  {
   "cell_type": "code",
   "execution_count": 3,
   "id": "8966af83",
   "metadata": {},
   "outputs": [
    {
     "data": {
      "text/plain": [
       "DatetimeIndex(['2021-01-01', '2021-01-02', '2021-01-03', '2021-01-04',\n",
       "               '2021-01-05', '2021-01-06', '2021-01-07', '2021-01-08',\n",
       "               '2021-01-09', '2021-01-10',\n",
       "               ...\n",
       "               '2021-12-22', '2021-12-23', '2021-12-24', '2021-12-25',\n",
       "               '2021-12-26', '2021-12-27', '2021-12-28', '2021-12-29',\n",
       "               '2021-12-30', '2021-12-31'],\n",
       "              dtype='datetime64[ns]', length=365, freq='D')"
      ]
     },
     "execution_count": 3,
     "metadata": {},
     "output_type": "execute_result"
    }
   ],
   "source": [
    "date_list = pd.date_range(start='2021-01-01', end='2021-12-31', freq='D')\n",
    "date_list"
   ]
  },
  {
   "cell_type": "code",
   "execution_count": 4,
   "id": "1cfa6beb",
   "metadata": {},
   "outputs": [
    {
     "data": {
      "text/plain": [
       "array([11, 54, 23, 95, 68, 85, 38, 83, 66, 73])"
      ]
     },
     "execution_count": 4,
     "metadata": {},
     "output_type": "execute_result"
    }
   ],
   "source": [
    "y = np.random.randint(1,100, 365)\n",
    "y[:10]"
   ]
  },
  {
   "cell_type": "code",
   "execution_count": 5,
   "id": "d5556410",
   "metadata": {},
   "outputs": [
    {
     "data": {
      "text/html": [
       "<div>\n",
       "<style scoped>\n",
       "    .dataframe tbody tr th:only-of-type {\n",
       "        vertical-align: middle;\n",
       "    }\n",
       "\n",
       "    .dataframe tbody tr th {\n",
       "        vertical-align: top;\n",
       "    }\n",
       "\n",
       "    .dataframe thead th {\n",
       "        text-align: right;\n",
       "    }\n",
       "</style>\n",
       "<table border=\"1\" class=\"dataframe\">\n",
       "  <thead>\n",
       "    <tr style=\"text-align: right;\">\n",
       "      <th></th>\n",
       "    </tr>\n",
       "  </thead>\n",
       "  <tbody>\n",
       "    <tr>\n",
       "      <th>2021-01-01</th>\n",
       "    </tr>\n",
       "    <tr>\n",
       "      <th>2021-01-02</th>\n",
       "    </tr>\n",
       "    <tr>\n",
       "      <th>2021-01-03</th>\n",
       "    </tr>\n",
       "    <tr>\n",
       "      <th>2021-01-04</th>\n",
       "    </tr>\n",
       "    <tr>\n",
       "      <th>2021-01-05</th>\n",
       "    </tr>\n",
       "  </tbody>\n",
       "</table>\n",
       "</div>"
      ],
      "text/plain": [
       "Empty DataFrame\n",
       "Columns: []\n",
       "Index: [2021-01-01 00:00:00, 2021-01-02 00:00:00, 2021-01-03 00:00:00, 2021-01-04 00:00:00, 2021-01-05 00:00:00]"
      ]
     },
     "execution_count": 5,
     "metadata": {},
     "output_type": "execute_result"
    }
   ],
   "source": [
    "df = pd.DataFrame(index=date_list)\n",
    "df.head()"
   ]
  },
  {
   "cell_type": "code",
   "execution_count": 6,
   "id": "3a90d9c6",
   "metadata": {},
   "outputs": [
    {
     "data": {
      "text/html": [
       "<div>\n",
       "<style scoped>\n",
       "    .dataframe tbody tr th:only-of-type {\n",
       "        vertical-align: middle;\n",
       "    }\n",
       "\n",
       "    .dataframe tbody tr th {\n",
       "        vertical-align: top;\n",
       "    }\n",
       "\n",
       "    .dataframe thead th {\n",
       "        text-align: right;\n",
       "    }\n",
       "</style>\n",
       "<table border=\"1\" class=\"dataframe\">\n",
       "  <thead>\n",
       "    <tr style=\"text-align: right;\">\n",
       "      <th></th>\n",
       "      <th>y</th>\n",
       "    </tr>\n",
       "  </thead>\n",
       "  <tbody>\n",
       "    <tr>\n",
       "      <th>2021-01-01</th>\n",
       "      <td>11</td>\n",
       "    </tr>\n",
       "    <tr>\n",
       "      <th>2021-01-02</th>\n",
       "      <td>54</td>\n",
       "    </tr>\n",
       "    <tr>\n",
       "      <th>2021-01-03</th>\n",
       "      <td>23</td>\n",
       "    </tr>\n",
       "    <tr>\n",
       "      <th>2021-01-04</th>\n",
       "      <td>95</td>\n",
       "    </tr>\n",
       "    <tr>\n",
       "      <th>2021-01-05</th>\n",
       "      <td>68</td>\n",
       "    </tr>\n",
       "  </tbody>\n",
       "</table>\n",
       "</div>"
      ],
      "text/plain": [
       "             y\n",
       "2021-01-01  11\n",
       "2021-01-02  54\n",
       "2021-01-03  23\n",
       "2021-01-04  95\n",
       "2021-01-05  68"
      ]
     },
     "execution_count": 6,
     "metadata": {},
     "output_type": "execute_result"
    }
   ],
   "source": [
    "df['y'] = y\n",
    "df.head()"
   ]
  },
  {
   "cell_type": "code",
   "execution_count": 7,
   "id": "70fa0cd7",
   "metadata": {},
   "outputs": [
    {
     "name": "stdout",
     "output_type": "stream",
     "text": [
      "Help on class TimeSeriesSplit in module sklearn.model_selection._split:\n",
      "\n",
      "class TimeSeriesSplit(_BaseKFold)\n",
      " |  TimeSeriesSplit(n_splits=5, *, max_train_size=None)\n",
      " |  \n",
      " |  Time Series cross-validator\n",
      " |  \n",
      " |  .. versionadded:: 0.18\n",
      " |  \n",
      " |  Provides train/test indices to split time series data samples\n",
      " |  that are observed at fixed time intervals, in train/test sets.\n",
      " |  In each split, test indices must be higher than before, and thus shuffling\n",
      " |  in cross validator is inappropriate.\n",
      " |  \n",
      " |  This cross-validation object is a variation of :class:`KFold`.\n",
      " |  In the kth split, it returns first k folds as train set and the\n",
      " |  (k+1)th fold as test set.\n",
      " |  \n",
      " |  Note that unlike standard cross-validation methods, successive\n",
      " |  training sets are supersets of those that come before them.\n",
      " |  \n",
      " |  Read more in the :ref:`User Guide <cross_validation>`.\n",
      " |  \n",
      " |  Parameters\n",
      " |  ----------\n",
      " |  n_splits : int, default=5\n",
      " |      Number of splits. Must be at least 2.\n",
      " |  \n",
      " |      .. versionchanged:: 0.22\n",
      " |          ``n_splits`` default value changed from 3 to 5.\n",
      " |  \n",
      " |  max_train_size : int, default=None\n",
      " |      Maximum size for a single training set.\n",
      " |  \n",
      " |  Examples\n",
      " |  --------\n",
      " |  >>> import numpy as np\n",
      " |  >>> from sklearn.model_selection import TimeSeriesSplit\n",
      " |  >>> X = np.array([[1, 2], [3, 4], [1, 2], [3, 4], [1, 2], [3, 4]])\n",
      " |  >>> y = np.array([1, 2, 3, 4, 5, 6])\n",
      " |  >>> tscv = TimeSeriesSplit()\n",
      " |  >>> print(tscv)\n",
      " |  TimeSeriesSplit(max_train_size=None, n_splits=5)\n",
      " |  >>> for train_index, test_index in tscv.split(X):\n",
      " |  ...     print(\"TRAIN:\", train_index, \"TEST:\", test_index)\n",
      " |  ...     X_train, X_test = X[train_index], X[test_index]\n",
      " |  ...     y_train, y_test = y[train_index], y[test_index]\n",
      " |  TRAIN: [0] TEST: [1]\n",
      " |  TRAIN: [0 1] TEST: [2]\n",
      " |  TRAIN: [0 1 2] TEST: [3]\n",
      " |  TRAIN: [0 1 2 3] TEST: [4]\n",
      " |  TRAIN: [0 1 2 3 4] TEST: [5]\n",
      " |  \n",
      " |  Notes\n",
      " |  -----\n",
      " |  The training set has size ``i * n_samples // (n_splits + 1)\n",
      " |  + n_samples % (n_splits + 1)`` in the ``i``th split,\n",
      " |  with a test set of size ``n_samples//(n_splits + 1)``,\n",
      " |  where ``n_samples`` is the number of samples.\n",
      " |  \n",
      " |  Method resolution order:\n",
      " |      TimeSeriesSplit\n",
      " |      _BaseKFold\n",
      " |      BaseCrossValidator\n",
      " |      builtins.object\n",
      " |  \n",
      " |  Methods defined here:\n",
      " |  \n",
      " |  __init__(self, n_splits=5, *, max_train_size=None)\n",
      " |      Initialize self.  See help(type(self)) for accurate signature.\n",
      " |  \n",
      " |  split(self, X, y=None, groups=None)\n",
      " |      Generate indices to split data into training and test set.\n",
      " |      \n",
      " |      Parameters\n",
      " |      ----------\n",
      " |      X : array-like of shape (n_samples, n_features)\n",
      " |          Training data, where n_samples is the number of samples\n",
      " |          and n_features is the number of features.\n",
      " |      \n",
      " |      y : array-like of shape (n_samples,)\n",
      " |          Always ignored, exists for compatibility.\n",
      " |      \n",
      " |      groups : array-like of shape (n_samples,)\n",
      " |          Always ignored, exists for compatibility.\n",
      " |      \n",
      " |      Yields\n",
      " |      ------\n",
      " |      train : ndarray\n",
      " |          The training set indices for that split.\n",
      " |      \n",
      " |      test : ndarray\n",
      " |          The testing set indices for that split.\n",
      " |  \n",
      " |  ----------------------------------------------------------------------\n",
      " |  Data and other attributes defined here:\n",
      " |  \n",
      " |  __abstractmethods__ = frozenset()\n",
      " |  \n",
      " |  ----------------------------------------------------------------------\n",
      " |  Methods inherited from _BaseKFold:\n",
      " |  \n",
      " |  get_n_splits(self, X=None, y=None, groups=None)\n",
      " |      Returns the number of splitting iterations in the cross-validator\n",
      " |      \n",
      " |      Parameters\n",
      " |      ----------\n",
      " |      X : object\n",
      " |          Always ignored, exists for compatibility.\n",
      " |      \n",
      " |      y : object\n",
      " |          Always ignored, exists for compatibility.\n",
      " |      \n",
      " |      groups : object\n",
      " |          Always ignored, exists for compatibility.\n",
      " |      \n",
      " |      Returns\n",
      " |      -------\n",
      " |      n_splits : int\n",
      " |          Returns the number of splitting iterations in the cross-validator.\n",
      " |  \n",
      " |  ----------------------------------------------------------------------\n",
      " |  Methods inherited from BaseCrossValidator:\n",
      " |  \n",
      " |  __repr__(self)\n",
      " |      Return repr(self).\n",
      " |  \n",
      " |  ----------------------------------------------------------------------\n",
      " |  Data descriptors inherited from BaseCrossValidator:\n",
      " |  \n",
      " |  __dict__\n",
      " |      dictionary for instance variables (if defined)\n",
      " |  \n",
      " |  __weakref__\n",
      " |      list of weak references to the object (if defined)\n",
      "\n"
     ]
    }
   ],
   "source": [
    "help(TimeSeriesSplit)"
   ]
  },
  {
   "cell_type": "code",
   "execution_count": 8,
   "id": "676915b8",
   "metadata": {},
   "outputs": [
    {
     "name": "stdout",
     "output_type": "stream",
     "text": [
      "(300, 1)\n",
      "(65, 1)\n"
     ]
    }
   ],
   "source": [
    "train_data = df.iloc[:300, :]\n",
    "test_data = df.iloc[300:, :]\n",
    "\n",
    "print(train_data.shape)\n",
    "print(test_data.shape)"
   ]
  },
  {
   "cell_type": "code",
   "execution_count": 70,
   "id": "92654c61",
   "metadata": {
    "scrolled": true
   },
   "outputs": [
    {
     "name": "stdout",
     "output_type": "stream",
     "text": [
      "TRAIN:  [0 1 2 3 4 5 6 7 8 9] TEST: [10]\n",
      "TRAIN:  [ 0  1  2  3  4  5  6  7  8  9 10] TEST: [11]\n",
      "TRAIN:  [ 0  1  2  3  4  5  6  7  8  9 10 11] TEST: [12]\n",
      "TRAIN:  [ 0  1  2  3  4  5  6  7  8  9 10 11 12] TEST: [13]\n",
      "TRAIN:  [ 0  1  2  3  4  5  6  7  8  9 10 11 12 13] TEST: [14]\n",
      "TRAIN:  [ 0  1  2  3  4  5  6  7  8  9 10 11 12 13 14] TEST: [15]\n",
      "TRAIN:  [ 0  1  2  3  4  5  6  7  8  9 10 11 12 13 14 15] TEST: [16]\n",
      "TRAIN:  [ 0  1  2  3  4  5  6  7  8  9 10 11 12 13 14 15 16] TEST: [17]\n",
      "TRAIN:  [ 0  1  2  3  4  5  6  7  8  9 10 11 12 13 14 15 16 17] TEST: [18]\n",
      "TRAIN:  [ 0  1  2  3  4  5  6  7  8  9 10 11 12 13 14 15 16 17 18] TEST: [19]\n"
     ]
    }
   ],
   "source": [
    "X = train_data.index\n",
    "y = train_data['y']\n",
    "\n",
    "\n",
    "tscv = TimeSeriesSplit(n_splits=10)\n",
    "for train_index, test_index in tscv.split(X[:20]):\n",
    "    print('TRAIN: ', train_index, \"TEST:\", test_index)\n",
    "#    X_train, X_test = X[train_index], X[test_index]\n",
    "#    y_train, y_test = y[train_index], y[test_index]\n",
    "    \n",
    "    "
   ]
  },
  {
   "cell_type": "code",
   "execution_count": 63,
   "id": "0314d119",
   "metadata": {},
   "outputs": [],
   "source": [
    "def train_test_split(df, n=10):\n",
    "    df_length = df.shape[0]\n",
    "    i = n\n",
    "    train_index = []\n",
    "    test_index = []\n",
    "    initial_index = 0\n",
    "    while df_length - initial_index >= n:\n",
    "        train_index.append(np.arange(initial_index,i))\n",
    "        test_index.append(i)\n",
    "        initial_index = i\n",
    "        i+=n\n",
    "    train_index.append(np.arange(initial_index,df_length - 1))\n",
    "    test_index.append(df_length - 1)\n",
    "    return train_index, test_index"
   ]
  },
  {
   "cell_type": "code",
   "execution_count": 67,
   "id": "268aa614",
   "metadata": {},
   "outputs": [
    {
     "data": {
      "text/plain": [
       "([array([0, 1, 2, 3, 4, 5, 6, 7, 8, 9]),\n",
       "  array([10, 11, 12, 13, 14, 15, 16, 17, 18, 19]),\n",
       "  array([20, 21, 22, 23, 24, 25, 26, 27, 28, 29]),\n",
       "  array([30, 31, 32, 33, 34, 35, 36, 37, 38, 39]),\n",
       "  array([40, 41, 42, 43, 44, 45, 46, 47, 48, 49]),\n",
       "  array([50, 51, 52, 53, 54, 55, 56, 57, 58, 59]),\n",
       "  array([60, 61, 62, 63, 64, 65, 66, 67, 68, 69]),\n",
       "  array([70, 71, 72, 73, 74, 75, 76, 77, 78, 79]),\n",
       "  array([80, 81, 82, 83, 84, 85, 86, 87, 88, 89]),\n",
       "  array([90, 91, 92, 93, 94, 95, 96, 97, 98, 99]),\n",
       "  array([100])],\n",
       " [10, 20, 30, 40, 50, 60, 70, 80, 90, 100, 101])"
      ]
     },
     "execution_count": 67,
     "metadata": {},
     "output_type": "execute_result"
    }
   ],
   "source": [
    "train_test_split(X[:102])"
   ]
  },
  {
   "cell_type": "code",
   "execution_count": null,
   "id": "d1f61369",
   "metadata": {},
   "outputs": [],
   "source": []
  }
 ],
 "metadata": {
  "kernelspec": {
   "display_name": "Python 3",
   "language": "python",
   "name": "python3"
  },
  "language_info": {
   "codemirror_mode": {
    "name": "ipython",
    "version": 3
   },
   "file_extension": ".py",
   "mimetype": "text/x-python",
   "name": "python",
   "nbconvert_exporter": "python",
   "pygments_lexer": "ipython3",
   "version": "3.8.8"
  }
 },
 "nbformat": 4,
 "nbformat_minor": 5
}
