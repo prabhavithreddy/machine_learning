{
 "cells": [
  {
   "cell_type": "code",
   "execution_count": 3,
   "id": "cbdcd00e",
   "metadata": {},
   "outputs": [],
   "source": [
    "#!kaggle datasets download -d harrywang/housing"
   ]
  },
  {
   "cell_type": "code",
   "execution_count": 4,
   "id": "edbc98e6",
   "metadata": {},
   "outputs": [],
   "source": [
    "import numpy as np\n",
    "import pandas as pd\n",
    "import matplotlib.pyplot as plt\n",
    "import seaborn as sns\n",
    "import warnings\n",
    "warnings.filterwarnings('ignore')\n",
    "\n",
    "import tensorflow as tf\n",
    "from tensorflow import keras\n",
    "from tensorflow.keras import layers"
   ]
  },
  {
   "cell_type": "code",
   "execution_count": 5,
   "id": "d1cc3eef",
   "metadata": {},
   "outputs": [
    {
     "data": {
      "text/html": [
       "<div>\n",
       "<style scoped>\n",
       "    .dataframe tbody tr th:only-of-type {\n",
       "        vertical-align: middle;\n",
       "    }\n",
       "\n",
       "    .dataframe tbody tr th {\n",
       "        vertical-align: top;\n",
       "    }\n",
       "\n",
       "    .dataframe thead th {\n",
       "        text-align: right;\n",
       "    }\n",
       "</style>\n",
       "<table border=\"1\" class=\"dataframe\">\n",
       "  <thead>\n",
       "    <tr style=\"text-align: right;\">\n",
       "      <th></th>\n",
       "      <th>longitude</th>\n",
       "      <th>latitude</th>\n",
       "      <th>housing_median_age</th>\n",
       "      <th>total_rooms</th>\n",
       "      <th>total_bedrooms</th>\n",
       "      <th>population</th>\n",
       "      <th>households</th>\n",
       "      <th>median_income</th>\n",
       "      <th>median_house_value</th>\n",
       "      <th>ocean_proximity</th>\n",
       "    </tr>\n",
       "  </thead>\n",
       "  <tbody>\n",
       "    <tr>\n",
       "      <th>0</th>\n",
       "      <td>-122.23</td>\n",
       "      <td>37.88</td>\n",
       "      <td>41.0</td>\n",
       "      <td>880.0</td>\n",
       "      <td>129.0</td>\n",
       "      <td>322.0</td>\n",
       "      <td>126.0</td>\n",
       "      <td>8.3252</td>\n",
       "      <td>452600.0</td>\n",
       "      <td>NEAR BAY</td>\n",
       "    </tr>\n",
       "    <tr>\n",
       "      <th>1</th>\n",
       "      <td>-122.22</td>\n",
       "      <td>37.86</td>\n",
       "      <td>21.0</td>\n",
       "      <td>7099.0</td>\n",
       "      <td>1106.0</td>\n",
       "      <td>2401.0</td>\n",
       "      <td>1138.0</td>\n",
       "      <td>8.3014</td>\n",
       "      <td>358500.0</td>\n",
       "      <td>NEAR BAY</td>\n",
       "    </tr>\n",
       "    <tr>\n",
       "      <th>2</th>\n",
       "      <td>-122.24</td>\n",
       "      <td>37.85</td>\n",
       "      <td>52.0</td>\n",
       "      <td>1467.0</td>\n",
       "      <td>190.0</td>\n",
       "      <td>496.0</td>\n",
       "      <td>177.0</td>\n",
       "      <td>7.2574</td>\n",
       "      <td>352100.0</td>\n",
       "      <td>NEAR BAY</td>\n",
       "    </tr>\n",
       "    <tr>\n",
       "      <th>3</th>\n",
       "      <td>-122.25</td>\n",
       "      <td>37.85</td>\n",
       "      <td>52.0</td>\n",
       "      <td>1274.0</td>\n",
       "      <td>235.0</td>\n",
       "      <td>558.0</td>\n",
       "      <td>219.0</td>\n",
       "      <td>5.6431</td>\n",
       "      <td>341300.0</td>\n",
       "      <td>NEAR BAY</td>\n",
       "    </tr>\n",
       "    <tr>\n",
       "      <th>4</th>\n",
       "      <td>-122.25</td>\n",
       "      <td>37.85</td>\n",
       "      <td>52.0</td>\n",
       "      <td>1627.0</td>\n",
       "      <td>280.0</td>\n",
       "      <td>565.0</td>\n",
       "      <td>259.0</td>\n",
       "      <td>3.8462</td>\n",
       "      <td>342200.0</td>\n",
       "      <td>NEAR BAY</td>\n",
       "    </tr>\n",
       "  </tbody>\n",
       "</table>\n",
       "</div>"
      ],
      "text/plain": [
       "   longitude  latitude  housing_median_age  total_rooms  total_bedrooms  \\\n",
       "0    -122.23     37.88                41.0        880.0           129.0   \n",
       "1    -122.22     37.86                21.0       7099.0          1106.0   \n",
       "2    -122.24     37.85                52.0       1467.0           190.0   \n",
       "3    -122.25     37.85                52.0       1274.0           235.0   \n",
       "4    -122.25     37.85                52.0       1627.0           280.0   \n",
       "\n",
       "   population  households  median_income  median_house_value ocean_proximity  \n",
       "0       322.0       126.0         8.3252            452600.0        NEAR BAY  \n",
       "1      2401.0      1138.0         8.3014            358500.0        NEAR BAY  \n",
       "2       496.0       177.0         7.2574            352100.0        NEAR BAY  \n",
       "3       558.0       219.0         5.6431            341300.0        NEAR BAY  \n",
       "4       565.0       259.0         3.8462            342200.0        NEAR BAY  "
      ]
     },
     "execution_count": 5,
     "metadata": {},
     "output_type": "execute_result"
    }
   ],
   "source": [
    "df = pd.read_csv('housing/housing.csv')\n",
    "df.head()"
   ]
  },
  {
   "cell_type": "code",
   "execution_count": 6,
   "id": "5fbc98d2",
   "metadata": {},
   "outputs": [
    {
     "data": {
      "text/plain": [
       "(20640, 10)"
      ]
     },
     "execution_count": 6,
     "metadata": {},
     "output_type": "execute_result"
    }
   ],
   "source": [
    "#Shape of the dataset\n",
    "df.shape"
   ]
  },
  {
   "cell_type": "code",
   "execution_count": 8,
   "id": "65336f55",
   "metadata": {},
   "outputs": [],
   "source": [
    "df = df[['longitude', 'latitude', 'housing_median_age', 'total_rooms',\n",
    "       'total_bedrooms', 'population', 'households', 'median_income', 'ocean_proximity',\n",
    "       'median_house_value']]"
   ]
  },
  {
   "cell_type": "code",
   "execution_count": 9,
   "id": "bd8718ac",
   "metadata": {},
   "outputs": [
    {
     "data": {
      "text/html": [
       "<div>\n",
       "<style scoped>\n",
       "    .dataframe tbody tr th:only-of-type {\n",
       "        vertical-align: middle;\n",
       "    }\n",
       "\n",
       "    .dataframe tbody tr th {\n",
       "        vertical-align: top;\n",
       "    }\n",
       "\n",
       "    .dataframe thead th {\n",
       "        text-align: right;\n",
       "    }\n",
       "</style>\n",
       "<table border=\"1\" class=\"dataframe\">\n",
       "  <thead>\n",
       "    <tr style=\"text-align: right;\">\n",
       "      <th></th>\n",
       "      <th>longitude</th>\n",
       "      <th>latitude</th>\n",
       "      <th>housing_median_age</th>\n",
       "      <th>total_rooms</th>\n",
       "      <th>total_bedrooms</th>\n",
       "      <th>population</th>\n",
       "      <th>households</th>\n",
       "      <th>median_income</th>\n",
       "      <th>ocean_proximity</th>\n",
       "      <th>median_house_value</th>\n",
       "    </tr>\n",
       "  </thead>\n",
       "  <tbody>\n",
       "    <tr>\n",
       "      <th>0</th>\n",
       "      <td>-122.23</td>\n",
       "      <td>37.88</td>\n",
       "      <td>41.0</td>\n",
       "      <td>880.0</td>\n",
       "      <td>129.0</td>\n",
       "      <td>322.0</td>\n",
       "      <td>126.0</td>\n",
       "      <td>8.3252</td>\n",
       "      <td>NEAR BAY</td>\n",
       "      <td>452600.0</td>\n",
       "    </tr>\n",
       "    <tr>\n",
       "      <th>1</th>\n",
       "      <td>-122.22</td>\n",
       "      <td>37.86</td>\n",
       "      <td>21.0</td>\n",
       "      <td>7099.0</td>\n",
       "      <td>1106.0</td>\n",
       "      <td>2401.0</td>\n",
       "      <td>1138.0</td>\n",
       "      <td>8.3014</td>\n",
       "      <td>NEAR BAY</td>\n",
       "      <td>358500.0</td>\n",
       "    </tr>\n",
       "    <tr>\n",
       "      <th>2</th>\n",
       "      <td>-122.24</td>\n",
       "      <td>37.85</td>\n",
       "      <td>52.0</td>\n",
       "      <td>1467.0</td>\n",
       "      <td>190.0</td>\n",
       "      <td>496.0</td>\n",
       "      <td>177.0</td>\n",
       "      <td>7.2574</td>\n",
       "      <td>NEAR BAY</td>\n",
       "      <td>352100.0</td>\n",
       "    </tr>\n",
       "    <tr>\n",
       "      <th>3</th>\n",
       "      <td>-122.25</td>\n",
       "      <td>37.85</td>\n",
       "      <td>52.0</td>\n",
       "      <td>1274.0</td>\n",
       "      <td>235.0</td>\n",
       "      <td>558.0</td>\n",
       "      <td>219.0</td>\n",
       "      <td>5.6431</td>\n",
       "      <td>NEAR BAY</td>\n",
       "      <td>341300.0</td>\n",
       "    </tr>\n",
       "    <tr>\n",
       "      <th>4</th>\n",
       "      <td>-122.25</td>\n",
       "      <td>37.85</td>\n",
       "      <td>52.0</td>\n",
       "      <td>1627.0</td>\n",
       "      <td>280.0</td>\n",
       "      <td>565.0</td>\n",
       "      <td>259.0</td>\n",
       "      <td>3.8462</td>\n",
       "      <td>NEAR BAY</td>\n",
       "      <td>342200.0</td>\n",
       "    </tr>\n",
       "  </tbody>\n",
       "</table>\n",
       "</div>"
      ],
      "text/plain": [
       "   longitude  latitude  housing_median_age  total_rooms  total_bedrooms  \\\n",
       "0    -122.23     37.88                41.0        880.0           129.0   \n",
       "1    -122.22     37.86                21.0       7099.0          1106.0   \n",
       "2    -122.24     37.85                52.0       1467.0           190.0   \n",
       "3    -122.25     37.85                52.0       1274.0           235.0   \n",
       "4    -122.25     37.85                52.0       1627.0           280.0   \n",
       "\n",
       "   population  households  median_income ocean_proximity  median_house_value  \n",
       "0       322.0       126.0         8.3252        NEAR BAY            452600.0  \n",
       "1      2401.0      1138.0         8.3014        NEAR BAY            358500.0  \n",
       "2       496.0       177.0         7.2574        NEAR BAY            352100.0  \n",
       "3       558.0       219.0         5.6431        NEAR BAY            341300.0  \n",
       "4       565.0       259.0         3.8462        NEAR BAY            342200.0  "
      ]
     },
     "execution_count": 9,
     "metadata": {},
     "output_type": "execute_result"
    }
   ],
   "source": [
    "df.head()"
   ]
  },
  {
   "cell_type": "code",
   "execution_count": 14,
   "id": "e94e2fcf",
   "metadata": {},
   "outputs": [
    {
     "name": "stdout",
     "output_type": "stream",
     "text": [
      "Is Na longitude             False\n",
      "latitude              False\n",
      "housing_median_age    False\n",
      "total_rooms           False\n",
      "total_bedrooms         True\n",
      "population            False\n",
      "households            False\n",
      "median_income         False\n",
      "ocean_proximity       False\n",
      "median_house_value    False\n",
      "dtype: bool\n",
      "Is None longitude             False\n",
      "latitude              False\n",
      "housing_median_age    False\n",
      "total_rooms           False\n",
      "total_bedrooms         True\n",
      "population            False\n",
      "households            False\n",
      "median_income         False\n",
      "ocean_proximity       False\n",
      "median_house_value    False\n",
      "dtype: bool\n"
     ]
    }
   ],
   "source": [
    "# Check for missing values\n",
    "print(\"Is Na\",df.isna().any())\n",
    "print(\"Is None\", df.isnull().any())"
   ]
  },
  {
   "cell_type": "code",
   "execution_count": 16,
   "id": "b72049d3",
   "metadata": {},
   "outputs": [
    {
     "data": {
      "text/plain": [
       "207"
      ]
     },
     "execution_count": 16,
     "metadata": {},
     "output_type": "execute_result"
    }
   ],
   "source": [
    "#total bedrooms is having null values\n",
    "df['total_bedrooms'].isna().sum()"
   ]
  },
  {
   "cell_type": "code",
   "execution_count": 21,
   "id": "5cc468ad",
   "metadata": {},
   "outputs": [],
   "source": [
    "from sklearn.impute import SimpleImputer\n",
    "si = SimpleImputer(strategy='most_frequent')\n",
    "\n",
    "df['total_bedrooms'] = si.fit_transform(df['total_bedrooms'].values.reshape(-1,1))"
   ]
  },
  {
   "cell_type": "code",
   "execution_count": 23,
   "id": "4aa57259",
   "metadata": {},
   "outputs": [
    {
     "name": "stdout",
     "output_type": "stream",
     "text": [
      "Is Na longitude             False\n",
      "latitude              False\n",
      "housing_median_age    False\n",
      "total_rooms           False\n",
      "total_bedrooms        False\n",
      "population            False\n",
      "households            False\n",
      "median_income         False\n",
      "ocean_proximity       False\n",
      "median_house_value    False\n",
      "dtype: bool\n"
     ]
    }
   ],
   "source": [
    "#Checking for null values after imputation\n",
    "print(\"Is Na\",df.isna().any())"
   ]
  },
  {
   "cell_type": "code",
   "execution_count": 24,
   "id": "b77a1fa5",
   "metadata": {},
   "outputs": [
    {
     "data": {
      "text/html": [
       "<div>\n",
       "<style scoped>\n",
       "    .dataframe tbody tr th:only-of-type {\n",
       "        vertical-align: middle;\n",
       "    }\n",
       "\n",
       "    .dataframe tbody tr th {\n",
       "        vertical-align: top;\n",
       "    }\n",
       "\n",
       "    .dataframe thead th {\n",
       "        text-align: right;\n",
       "    }\n",
       "</style>\n",
       "<table border=\"1\" class=\"dataframe\">\n",
       "  <thead>\n",
       "    <tr style=\"text-align: right;\">\n",
       "      <th></th>\n",
       "      <th>count</th>\n",
       "      <th>mean</th>\n",
       "      <th>std</th>\n",
       "      <th>min</th>\n",
       "      <th>25%</th>\n",
       "      <th>50%</th>\n",
       "      <th>75%</th>\n",
       "      <th>max</th>\n",
       "    </tr>\n",
       "  </thead>\n",
       "  <tbody>\n",
       "    <tr>\n",
       "      <th>longitude</th>\n",
       "      <td>20640.0</td>\n",
       "      <td>-119.569704</td>\n",
       "      <td>2.003532</td>\n",
       "      <td>-124.3500</td>\n",
       "      <td>-121.8000</td>\n",
       "      <td>-118.4900</td>\n",
       "      <td>-118.01000</td>\n",
       "      <td>-114.3100</td>\n",
       "    </tr>\n",
       "    <tr>\n",
       "      <th>latitude</th>\n",
       "      <td>20640.0</td>\n",
       "      <td>35.631861</td>\n",
       "      <td>2.135952</td>\n",
       "      <td>32.5400</td>\n",
       "      <td>33.9300</td>\n",
       "      <td>34.2600</td>\n",
       "      <td>37.71000</td>\n",
       "      <td>41.9500</td>\n",
       "    </tr>\n",
       "    <tr>\n",
       "      <th>housing_median_age</th>\n",
       "      <td>20640.0</td>\n",
       "      <td>28.639486</td>\n",
       "      <td>12.585558</td>\n",
       "      <td>1.0000</td>\n",
       "      <td>18.0000</td>\n",
       "      <td>29.0000</td>\n",
       "      <td>37.00000</td>\n",
       "      <td>52.0000</td>\n",
       "    </tr>\n",
       "    <tr>\n",
       "      <th>total_rooms</th>\n",
       "      <td>20640.0</td>\n",
       "      <td>2635.763081</td>\n",
       "      <td>2181.615252</td>\n",
       "      <td>2.0000</td>\n",
       "      <td>1447.7500</td>\n",
       "      <td>2127.0000</td>\n",
       "      <td>3148.00000</td>\n",
       "      <td>39320.0000</td>\n",
       "    </tr>\n",
       "    <tr>\n",
       "      <th>total_bedrooms</th>\n",
       "      <td>20640.0</td>\n",
       "      <td>535.284351</td>\n",
       "      <td>420.053240</td>\n",
       "      <td>1.0000</td>\n",
       "      <td>292.0000</td>\n",
       "      <td>431.0000</td>\n",
       "      <td>643.25000</td>\n",
       "      <td>6445.0000</td>\n",
       "    </tr>\n",
       "    <tr>\n",
       "      <th>population</th>\n",
       "      <td>20640.0</td>\n",
       "      <td>1425.476744</td>\n",
       "      <td>1132.462122</td>\n",
       "      <td>3.0000</td>\n",
       "      <td>787.0000</td>\n",
       "      <td>1166.0000</td>\n",
       "      <td>1725.00000</td>\n",
       "      <td>35682.0000</td>\n",
       "    </tr>\n",
       "    <tr>\n",
       "      <th>households</th>\n",
       "      <td>20640.0</td>\n",
       "      <td>499.539680</td>\n",
       "      <td>382.329753</td>\n",
       "      <td>1.0000</td>\n",
       "      <td>280.0000</td>\n",
       "      <td>409.0000</td>\n",
       "      <td>605.00000</td>\n",
       "      <td>6082.0000</td>\n",
       "    </tr>\n",
       "    <tr>\n",
       "      <th>median_income</th>\n",
       "      <td>20640.0</td>\n",
       "      <td>3.870671</td>\n",
       "      <td>1.899822</td>\n",
       "      <td>0.4999</td>\n",
       "      <td>2.5634</td>\n",
       "      <td>3.5348</td>\n",
       "      <td>4.74325</td>\n",
       "      <td>15.0001</td>\n",
       "    </tr>\n",
       "    <tr>\n",
       "      <th>median_house_value</th>\n",
       "      <td>20640.0</td>\n",
       "      <td>206855.816909</td>\n",
       "      <td>115395.615874</td>\n",
       "      <td>14999.0000</td>\n",
       "      <td>119600.0000</td>\n",
       "      <td>179700.0000</td>\n",
       "      <td>264725.00000</td>\n",
       "      <td>500001.0000</td>\n",
       "    </tr>\n",
       "  </tbody>\n",
       "</table>\n",
       "</div>"
      ],
      "text/plain": [
       "                      count           mean            std         min  \\\n",
       "longitude           20640.0    -119.569704       2.003532   -124.3500   \n",
       "latitude            20640.0      35.631861       2.135952     32.5400   \n",
       "housing_median_age  20640.0      28.639486      12.585558      1.0000   \n",
       "total_rooms         20640.0    2635.763081    2181.615252      2.0000   \n",
       "total_bedrooms      20640.0     535.284351     420.053240      1.0000   \n",
       "population          20640.0    1425.476744    1132.462122      3.0000   \n",
       "households          20640.0     499.539680     382.329753      1.0000   \n",
       "median_income       20640.0       3.870671       1.899822      0.4999   \n",
       "median_house_value  20640.0  206855.816909  115395.615874  14999.0000   \n",
       "\n",
       "                            25%          50%           75%          max  \n",
       "longitude             -121.8000    -118.4900    -118.01000    -114.3100  \n",
       "latitude                33.9300      34.2600      37.71000      41.9500  \n",
       "housing_median_age      18.0000      29.0000      37.00000      52.0000  \n",
       "total_rooms           1447.7500    2127.0000    3148.00000   39320.0000  \n",
       "total_bedrooms         292.0000     431.0000     643.25000    6445.0000  \n",
       "population             787.0000    1166.0000    1725.00000   35682.0000  \n",
       "households             280.0000     409.0000     605.00000    6082.0000  \n",
       "median_income            2.5634       3.5348       4.74325      15.0001  \n",
       "median_house_value  119600.0000  179700.0000  264725.00000  500001.0000  "
      ]
     },
     "execution_count": 24,
     "metadata": {},
     "output_type": "execute_result"
    }
   ],
   "source": [
    "df.describe().T"
   ]
  },
  {
   "cell_type": "code",
   "execution_count": 29,
   "id": "db877440",
   "metadata": {},
   "outputs": [
    {
     "data": {
      "image/png": "[encoded data removed]",
      "text/plain": [
       "<Figure size 432x288 with 1 Axes>"
      ]
     },
     "metadata": {
      "needs_background": "light"
     },
     "output_type": "display_data"
    },
    {
     "data": {
      "image/png": "[encoded data removed]",
      "text/plain": [
       "<Figure size 432x288 with 1 Axes>"
      ]
     },
     "metadata": {
      "needs_background": "light"
     },
     "output_type": "display_data"
    },
    {
     "data": {
      "image/png": "[encoded data removed]",
      "text/plain": [
       "<Figure size 432x288 with 1 Axes>"
      ]
     },
     "metadata": {
      "needs_background": "light"
     },
     "output_type": "display_data"
    },
    {
     "data": {
      "image/png": "[encoded data removed]",
      "text/plain": [
       "<Figure size 432x288 with 1 Axes>"
      ]
     },
     "metadata": {
      "needs_background": "light"
     },
     "output_type": "display_data"
    },
    {
     "data": {
      "image/png": "[encoded data removed]",
      "text/plain": [
       "<Figure size 432x288 with 1 Axes>"
      ]
     },
     "metadata": {
      "needs_background": "light"
     },
     "output_type": "display_data"
    },
    {
     "data": {
      "image/png": "[encoded data removed]",
      "text/plain": [
       "<Figure size 432x288 with 1 Axes>"
      ]
     },
     "metadata": {
      "needs_background": "light"
     },
     "output_type": "display_data"
    },
    {
     "data": {
      "image/png": "[encoded data removed]",
      "text/plain": [
       "<Figure size 432x288 with 1 Axes>"
      ]
     },
     "metadata": {
      "needs_background": "light"
     },
     "output_type": "display_data"
    },
    {
     "data": {
      "image/png": "[encoded data removed]",
      "text/plain": [
       "<Figure size 432x288 with 1 Axes>"
      ]
     },
     "metadata": {
      "needs_background": "light"
     },
     "output_type": "display_data"
    },
    {
     "data": {
      "image/png": "[encoded data removed]",
      "text/plain": [
       "<Figure size 432x288 with 1 Axes>"
      ]
     },
     "metadata": {
      "needs_background": "light"
     },
     "output_type": "display_data"
    }
   ],
   "source": [
    "for column in df.select_dtypes(exclude='object').columns:\n",
    "    sns.distplot(df[column], kde=False)\n",
    "    plt.xlabel(column)\n",
    "    plt.title(f\"Distribution of {column}\")\n",
    "    plt.show()"
   ]
  },
  {
   "cell_type": "code",
   "execution_count": 30,
   "id": "fe2dfa20",
   "metadata": {},
   "outputs": [],
   "source": [
    "from sklearn.preprocessing import LabelEncoder\n",
    "le = LabelEncoder()\n",
    "df['ocean_proximity'] = le.fit_transform(df['ocean_proximity'])"
   ]
  },
  {
   "cell_type": "code",
   "execution_count": 31,
   "id": "c3ed7b3e",
   "metadata": {},
   "outputs": [
    {
     "data": {
      "text/html": [
       "<div>\n",
       "<style scoped>\n",
       "    .dataframe tbody tr th:only-of-type {\n",
       "        vertical-align: middle;\n",
       "    }\n",
       "\n",
       "    .dataframe tbody tr th {\n",
       "        vertical-align: top;\n",
       "    }\n",
       "\n",
       "    .dataframe thead th {\n",
       "        text-align: right;\n",
       "    }\n",
       "</style>\n",
       "<table border=\"1\" class=\"dataframe\">\n",
       "  <thead>\n",
       "    <tr style=\"text-align: right;\">\n",
       "      <th></th>\n",
       "      <th>longitude</th>\n",
       "      <th>latitude</th>\n",
       "      <th>housing_median_age</th>\n",
       "      <th>total_rooms</th>\n",
       "      <th>total_bedrooms</th>\n",
       "      <th>population</th>\n",
       "      <th>households</th>\n",
       "      <th>median_income</th>\n",
       "      <th>ocean_proximity</th>\n",
       "      <th>median_house_value</th>\n",
       "    </tr>\n",
       "  </thead>\n",
       "  <tbody>\n",
       "    <tr>\n",
       "      <th>0</th>\n",
       "      <td>-122.23</td>\n",
       "      <td>37.88</td>\n",
       "      <td>41.0</td>\n",
       "      <td>880.0</td>\n",
       "      <td>129.0</td>\n",
       "      <td>322.0</td>\n",
       "      <td>126.0</td>\n",
       "      <td>8.3252</td>\n",
       "      <td>3</td>\n",
       "      <td>452600.0</td>\n",
       "    </tr>\n",
       "    <tr>\n",
       "      <th>1</th>\n",
       "      <td>-122.22</td>\n",
       "      <td>37.86</td>\n",
       "      <td>21.0</td>\n",
       "      <td>7099.0</td>\n",
       "      <td>1106.0</td>\n",
       "      <td>2401.0</td>\n",
       "      <td>1138.0</td>\n",
       "      <td>8.3014</td>\n",
       "      <td>3</td>\n",
       "      <td>358500.0</td>\n",
       "    </tr>\n",
       "    <tr>\n",
       "      <th>2</th>\n",
       "      <td>-122.24</td>\n",
       "      <td>37.85</td>\n",
       "      <td>52.0</td>\n",
       "      <td>1467.0</td>\n",
       "      <td>190.0</td>\n",
       "      <td>496.0</td>\n",
       "      <td>177.0</td>\n",
       "      <td>7.2574</td>\n",
       "      <td>3</td>\n",
       "      <td>352100.0</td>\n",
       "    </tr>\n",
       "    <tr>\n",
       "      <th>3</th>\n",
       "      <td>-122.25</td>\n",
       "      <td>37.85</td>\n",
       "      <td>52.0</td>\n",
       "      <td>1274.0</td>\n",
       "      <td>235.0</td>\n",
       "      <td>558.0</td>\n",
       "      <td>219.0</td>\n",
       "      <td>5.6431</td>\n",
       "      <td>3</td>\n",
       "      <td>341300.0</td>\n",
       "    </tr>\n",
       "    <tr>\n",
       "      <th>4</th>\n",
       "      <td>-122.25</td>\n",
       "      <td>37.85</td>\n",
       "      <td>52.0</td>\n",
       "      <td>1627.0</td>\n",
       "      <td>280.0</td>\n",
       "      <td>565.0</td>\n",
       "      <td>259.0</td>\n",
       "      <td>3.8462</td>\n",
       "      <td>3</td>\n",
       "      <td>342200.0</td>\n",
       "    </tr>\n",
       "  </tbody>\n",
       "</table>\n",
       "</div>"
      ],
      "text/plain": [
       "   longitude  latitude  housing_median_age  total_rooms  total_bedrooms  \\\n",
       "0    -122.23     37.88                41.0        880.0           129.0   \n",
       "1    -122.22     37.86                21.0       7099.0          1106.0   \n",
       "2    -122.24     37.85                52.0       1467.0           190.0   \n",
       "3    -122.25     37.85                52.0       1274.0           235.0   \n",
       "4    -122.25     37.85                52.0       1627.0           280.0   \n",
       "\n",
       "   population  households  median_income  ocean_proximity  median_house_value  \n",
       "0       322.0       126.0         8.3252                3            452600.0  \n",
       "1      2401.0      1138.0         8.3014                3            358500.0  \n",
       "2       496.0       177.0         7.2574                3            352100.0  \n",
       "3       558.0       219.0         5.6431                3            341300.0  \n",
       "4       565.0       259.0         3.8462                3            342200.0  "
      ]
     },
     "execution_count": 31,
     "metadata": {},
     "output_type": "execute_result"
    }
   ],
   "source": [
    "df.head()"
   ]
  },
  {
   "cell_type": "code",
   "execution_count": 36,
   "id": "166698b7",
   "metadata": {},
   "outputs": [
    {
     "name": "stdout",
     "output_type": "stream",
     "text": [
      "longitude             float64\n",
      "latitude              float64\n",
      "housing_median_age    float64\n",
      "total_rooms           float64\n",
      "total_bedrooms        float64\n",
      "population            float64\n",
      "households            float64\n",
      "median_income         float64\n",
      "ocean_proximity         int32\n",
      "median_house_value    float64\n",
      "dtype: object\n"
     ]
    }
   ],
   "source": [
    "# Normalizing the data using MinMaxScaler\n",
    "from sklearn.preprocessing import MinMaxScaler\n",
    "print(df.dtypes)\n",
    "# All the datatypes should be numeric"
   ]
  },
  {
   "cell_type": "code",
   "execution_count": 39,
   "id": "64d67ba3",
   "metadata": {},
   "outputs": [
    {
     "name": "stdout",
     "output_type": "stream",
     "text": [
      "Index(['longitude', 'latitude', 'housing_median_age', 'total_rooms',\n",
      "       'total_bedrooms', 'population', 'households', 'median_income',\n",
      "       'ocean_proximity'],\n",
      "      dtype='object')\n"
     ]
    }
   ],
   "source": [
    "min_max_scaler = MinMaxScaler()\n",
    "columns = df.columns[:-1]\n",
    "print(columns)\n",
    "df[columns] = min_max_scaler.fit_transform(df[columns])"
   ]
  },
  {
   "cell_type": "code",
   "execution_count": 40,
   "id": "4f0f83ac",
   "metadata": {},
   "outputs": [
    {
     "data": {
      "text/html": [
       "<div>\n",
       "<style scoped>\n",
       "    .dataframe tbody tr th:only-of-type {\n",
       "        vertical-align: middle;\n",
       "    }\n",
       "\n",
       "    .dataframe tbody tr th {\n",
       "        vertical-align: top;\n",
       "    }\n",
       "\n",
       "    .dataframe thead th {\n",
       "        text-align: right;\n",
       "    }\n",
       "</style>\n",
       "<table border=\"1\" class=\"dataframe\">\n",
       "  <thead>\n",
       "    <tr style=\"text-align: right;\">\n",
       "      <th></th>\n",
       "      <th>longitude</th>\n",
       "      <th>latitude</th>\n",
       "      <th>housing_median_age</th>\n",
       "      <th>total_rooms</th>\n",
       "      <th>total_bedrooms</th>\n",
       "      <th>population</th>\n",
       "      <th>households</th>\n",
       "      <th>median_income</th>\n",
       "      <th>ocean_proximity</th>\n",
       "      <th>median_house_value</th>\n",
       "    </tr>\n",
       "  </thead>\n",
       "  <tbody>\n",
       "    <tr>\n",
       "      <th>0</th>\n",
       "      <td>0.211155</td>\n",
       "      <td>0.567481</td>\n",
       "      <td>0.784314</td>\n",
       "      <td>0.022331</td>\n",
       "      <td>0.019863</td>\n",
       "      <td>0.008941</td>\n",
       "      <td>0.020556</td>\n",
       "      <td>0.539668</td>\n",
       "      <td>0.75</td>\n",
       "      <td>452600.0</td>\n",
       "    </tr>\n",
       "    <tr>\n",
       "      <th>1</th>\n",
       "      <td>0.212151</td>\n",
       "      <td>0.565356</td>\n",
       "      <td>0.392157</td>\n",
       "      <td>0.180503</td>\n",
       "      <td>0.171477</td>\n",
       "      <td>0.067210</td>\n",
       "      <td>0.186976</td>\n",
       "      <td>0.538027</td>\n",
       "      <td>0.75</td>\n",
       "      <td>358500.0</td>\n",
       "    </tr>\n",
       "    <tr>\n",
       "      <th>2</th>\n",
       "      <td>0.210159</td>\n",
       "      <td>0.564293</td>\n",
       "      <td>1.000000</td>\n",
       "      <td>0.037260</td>\n",
       "      <td>0.029330</td>\n",
       "      <td>0.013818</td>\n",
       "      <td>0.028943</td>\n",
       "      <td>0.466028</td>\n",
       "      <td>0.75</td>\n",
       "      <td>352100.0</td>\n",
       "    </tr>\n",
       "    <tr>\n",
       "      <th>3</th>\n",
       "      <td>0.209163</td>\n",
       "      <td>0.564293</td>\n",
       "      <td>1.000000</td>\n",
       "      <td>0.032352</td>\n",
       "      <td>0.036313</td>\n",
       "      <td>0.015555</td>\n",
       "      <td>0.035849</td>\n",
       "      <td>0.354699</td>\n",
       "      <td>0.75</td>\n",
       "      <td>341300.0</td>\n",
       "    </tr>\n",
       "    <tr>\n",
       "      <th>4</th>\n",
       "      <td>0.209163</td>\n",
       "      <td>0.564293</td>\n",
       "      <td>1.000000</td>\n",
       "      <td>0.041330</td>\n",
       "      <td>0.043296</td>\n",
       "      <td>0.015752</td>\n",
       "      <td>0.042427</td>\n",
       "      <td>0.230776</td>\n",
       "      <td>0.75</td>\n",
       "      <td>342200.0</td>\n",
       "    </tr>\n",
       "  </tbody>\n",
       "</table>\n",
       "</div>"
      ],
      "text/plain": [
       "   longitude  latitude  housing_median_age  total_rooms  total_bedrooms  \\\n",
       "0   0.211155  0.567481            0.784314     0.022331        0.019863   \n",
       "1   0.212151  0.565356            0.392157     0.180503        0.171477   \n",
       "2   0.210159  0.564293            1.000000     0.037260        0.029330   \n",
       "3   0.209163  0.564293            1.000000     0.032352        0.036313   \n",
       "4   0.209163  0.564293            1.000000     0.041330        0.043296   \n",
       "\n",
       "   population  households  median_income  ocean_proximity  median_house_value  \n",
       "0    0.008941    0.020556       0.539668             0.75            452600.0  \n",
       "1    0.067210    0.186976       0.538027             0.75            358500.0  \n",
       "2    0.013818    0.028943       0.466028             0.75            352100.0  \n",
       "3    0.015555    0.035849       0.354699             0.75            341300.0  \n",
       "4    0.015752    0.042427       0.230776             0.75            342200.0  "
      ]
     },
     "execution_count": 40,
     "metadata": {},
     "output_type": "execute_result"
    }
   ],
   "source": [
    "df.head()"
   ]
  },
  {
   "cell_type": "code",
   "execution_count": 45,
   "id": "cbbf094a",
   "metadata": {},
   "outputs": [
    {
     "data": {
      "image/png": "[encoded data removed]",
      "text/plain": [
       "<Figure size 1080x360 with 1 Axes>"
      ]
     },
     "metadata": {
      "needs_background": "light"
     },
     "output_type": "display_data"
    }
   ],
   "source": [
    "# Checking the boxplot\n",
    "plt.figure(figsize=(15,5))\n",
    "df[columns].boxplot()\n",
    "plt.show()"
   ]
  },
  {
   "cell_type": "code",
   "execution_count": 46,
   "id": "5945e9a4",
   "metadata": {},
   "outputs": [
    {
     "name": "stdout",
     "output_type": "stream",
     "text": [
      "(16512, 9)\n",
      "(4128, 9)\n",
      "(16512,)\n",
      "(4128,)\n"
     ]
    }
   ],
   "source": [
    "from sklearn.model_selection import train_test_split\n",
    "X = df.iloc[:, :-1]\n",
    "y = df.iloc[:, -1]\n",
    "X_train, X_test, y_train, y_test = train_test_split(X, y, test_size=0.2, random_state=42)\n",
    "print(X_train.shape)\n",
    "print(X_test.shape)\n",
    "print(y_train.shape)\n",
    "print(y_test.shape)"
   ]
  },
  {
   "cell_type": "code",
   "execution_count": 52,
   "id": "2317c8e5",
   "metadata": {},
   "outputs": [],
   "source": [
    "import tensorflow_docs as tfdocs\n",
    "from tensorflow_docs import plots, modeling"
   ]
  },
  {
   "cell_type": "code",
   "execution_count": 88,
   "id": "99619965",
   "metadata": {},
   "outputs": [],
   "source": [
    "input_shape = [X_train.shape[1]]\n",
    "model = keras.Sequential([\n",
    "    layers.Dense(units=64, activation='relu', input_shape=input_shape),\n",
    "    layers.Dense(units=64, activation='relu'),\n",
    "    layers.Dense(units=1)\n",
    "])\n",
    "\n",
    "model.compile(optimizer='RMSprop', loss='mse', metrics=['mse', 'mae'])"
   ]
  },
  {
   "cell_type": "code",
   "execution_count": 89,
   "id": "3d36ad3a",
   "metadata": {
    "scrolled": true
   },
   "outputs": [
    {
     "name": "stdout",
     "output_type": "stream",
     "text": [
      "Epoch 1/100\n",
      "516/516 [==============================] - 1s 2ms/step - loss: 56180064256.0000 - mse: 56180064256.0000 - mae: 206916.1250 - val_loss: 50264993792.0000 - val_mse: 50264993792.0000 - val_mae: 202909.6406\n",
      "\n",
      "Epoch: 0, loss:56180064256.0000,  mae:206916.1250,  mse:56180064256.0000,  val_loss:50264993792.0000,  val_mae:202909.6406,  val_mse:50264993792.0000,  \n",
      ".Epoch 2/100\n",
      "516/516 [==============================] - 1s 1ms/step - loss: 54920994816.0000 - mse: 54920994816.0000 - mae: 203910.7500 - val_loss: 47935115264.0000 - val_mse: 47935115264.0000 - val_mae: 197223.2656\n",
      ".Epoch 3/100\n",
      "516/516 [==============================] - 1s 1ms/step - loss: 51008921600.0000 - mse: 51008921600.0000 - mae: 194230.1719 - val_loss: 42338795520.0000 - val_mse: 42338795520.0000 - val_mae: 182850.9531\n",
      ".Epoch 4/100\n",
      "516/516 [==============================] - 1s 1ms/step - loss: 43397152768.0000 - mse: 43397152768.0000 - mae: 173888.4844 - val_loss: 32970557440.0000 - val_mse: 32970557440.0000 - val_mae: 155908.2031\n",
      ".Epoch 5/100\n",
      "516/516 [==============================] - 1s 1ms/step - loss: 32390959104.0000 - mse: 32390959104.0000 - mae: 140781.4844 - val_loss: 21088389120.0000 - val_mse: 21088389120.0000 - val_mae: 114741.3594\n",
      ".Epoch 6/100\n",
      "516/516 [==============================] - 1s 1ms/step - loss: 20547809280.0000 - mse: 20547809280.0000 - mae: 104641.7422 - val_loss: 10809131008.0000 - val_mse: 10809131008.0000 - val_mae: 76389.1562\n",
      ".Epoch 7/100\n",
      "516/516 [==============================] - 1s 2ms/step - loss: 13294757888.0000 - mse: 13294757888.0000 - mae: 87413.9375 - val_loss: 7894512128.0000 - val_mse: 7894512128.0000 - val_mae: 68557.2109\n",
      ".Epoch 8/100\n",
      "516/516 [==============================] - 1s 1ms/step - loss: 12244554752.0000 - mse: 12244554752.0000 - mae: 87522.1406 - val_loss: 7647088640.0000 - val_mse: 7647088640.0000 - val_mae: 67631.1953\n",
      ".Epoch 9/100\n",
      "516/516 [==============================] - 1s 2ms/step - loss: 11998729216.0000 - mse: 11998729216.0000 - mae: 86545.3984 - val_loss: 7435037696.0000 - val_mse: 7435037696.0000 - val_mae: 67170.6016\n",
      ".Epoch 10/100\n",
      "516/516 [==============================] - 1s 1ms/step - loss: 11766573056.0000 - mse: 11766573056.0000 - mae: 86137.4688 - val_loss: 7171713536.0000 - val_mse: 7171713536.0000 - val_mae: 65685.8594\n",
      ".Epoch 11/100\n",
      "516/516 [==============================] - 1s 1ms/step - loss: 11530796032.0000 - mse: 11530796032.0000 - mae: 85117.2969 - val_loss: 6947971072.0000 - val_mse: 6947971072.0000 - val_mae: 64878.9297\n",
      ".Epoch 12/100\n",
      "516/516 [==============================] - 1s 1ms/step - loss: 11301684224.0000 - mse: 11301684224.0000 - mae: 84379.6562 - val_loss: 6717702144.0000 - val_mse: 6717702144.0000 - val_mae: 63907.0156\n",
      ".Epoch 13/100\n",
      "516/516 [==============================] - 1s 2ms/step - loss: 11074438144.0000 - mse: 11074438144.0000 - mae: 83557.8516 - val_loss: 6494086656.0000 - val_mse: 6494086656.0000 - val_mae: 62967.1016\n",
      ".Epoch 14/100\n",
      "516/516 [==============================] - 1s 1ms/step - loss: 10842801152.0000 - mse: 10842801152.0000 - mae: 82716.5078 - val_loss: 6258542592.0000 - val_mse: 6258542592.0000 - val_mae: 61918.7305\n",
      ".Epoch 15/100\n",
      "516/516 [==============================] - 1s 1ms/step - loss: 10603020288.0000 - mse: 10603020288.0000 - mae: 81896.1484 - val_loss: 6006311424.0000 - val_mse: 6006311424.0000 - val_mae: 60700.8008\n",
      ".Epoch 16/100\n",
      "516/516 [==============================] - 1s 1ms/step - loss: 10358084608.0000 - mse: 10358084608.0000 - mae: 80910.3438 - val_loss: 5760852992.0000 - val_mse: 5760852992.0000 - val_mae: 59551.8320\n",
      ".Epoch 17/100\n",
      "516/516 [==============================] - 1s 1ms/step - loss: 10105726976.0000 - mse: 10105726976.0000 - mae: 79983.3281 - val_loss: 5491428352.0000 - val_mse: 5491428352.0000 - val_mae: 58227.4531\n",
      ".Epoch 18/100\n",
      "516/516 [==============================] - 1s 1ms/step - loss: 9839723520.0000 - mse: 9839723520.0000 - mae: 78943.7266 - val_loss: 5215967232.0000 - val_mse: 5215967232.0000 - val_mae: 56717.2617\n",
      ".Epoch 19/100\n",
      "516/516 [==============================] - 1s 1ms/step - loss: 9568656384.0000 - mse: 9568656384.0000 - mae: 77806.5391 - val_loss: 4931710464.0000 - val_mse: 4931710464.0000 - val_mae: 55251.8594\n",
      ".Epoch 20/100\n",
      "516/516 [==============================] - 1s 1ms/step - loss: 9281841152.0000 - mse: 9281841152.0000 - mae: 76489.7734 - val_loss: 4650301440.0000 - val_mse: 4650301440.0000 - val_mae: 53964.7227\n",
      ".Epoch 21/100\n",
      "516/516 [==============================] - 1s 1ms/step - loss: 8990327808.0000 - mse: 8990327808.0000 - mae: 75386.5625 - val_loss: 4339941888.0000 - val_mse: 4339941888.0000 - val_mae: 52051.2305\n",
      "\n",
      "Epoch: 20, loss:8990327808.0000,  mae:75386.5625,  mse:8990327808.0000,  val_loss:4339941888.0000,  val_mae:52051.2305,  val_mse:4339941888.0000,  \n",
      ".Epoch 22/100\n",
      "516/516 [==============================] - 1s 1ms/step - loss: 8695647232.0000 - mse: 8695647232.0000 - mae: 73963.4141 - val_loss: 4034430976.0000 - val_mse: 4034430976.0000 - val_mae: 50216.2188\n",
      ".Epoch 23/100\n",
      "516/516 [==============================] - 1s 1ms/step - loss: 8395030528.0000 - mse: 8395030528.0000 - mae: 72520.0234 - val_loss: 3718572032.0000 - val_mse: 3718572032.0000 - val_mae: 48260.8828\n",
      ".Epoch 24/100\n",
      "516/516 [==============================] - 1s 1ms/step - loss: 8086707712.0000 - mse: 8086707712.0000 - mae: 70993.6953 - val_loss: 3401282560.0000 - val_mse: 3401282560.0000 - val_mae: 46193.9727\n",
      ".Epoch 25/100\n",
      "516/516 [==============================] - 1s 1ms/step - loss: 7769332224.0000 - mse: 7769332224.0000 - mae: 69326.6406 - val_loss: 3074709248.0000 - val_mse: 3074709248.0000 - val_mae: 43995.1055\n",
      ".Epoch 26/100\n",
      "516/516 [==============================] - 1s 1ms/step - loss: 7463129600.0000 - mse: 7463129600.0000 - mae: 67673.8828 - val_loss: 2770398208.0000 - val_mse: 2770398208.0000 - val_mae: 41817.6016\n",
      ".Epoch 27/100\n",
      "516/516 [==============================] - 1s 1ms/step - loss: 7177964032.0000 - mse: 7177964032.0000 - mae: 66186.4297 - val_loss: 2470025216.0000 - val_mse: 2470025216.0000 - val_mae: 39331.0547\n",
      ".Epoch 28/100\n",
      "516/516 [==============================] - 1s 1ms/step - loss: 6909234688.0000 - mse: 6909234688.0000 - mae: 64430.5273 - val_loss: 2216580352.0000 - val_mse: 2216580352.0000 - val_mae: 37221.0664\n",
      ".Epoch 29/100\n",
      "516/516 [==============================] - 1s 1ms/step - loss: 6668343296.0000 - mse: 6668343296.0000 - mae: 63069.1602 - val_loss: 1967533696.0000 - val_mse: 1967533696.0000 - val_mae: 34795.9219\n",
      ".Epoch 30/100\n",
      "516/516 [==============================] - 1s 1ms/step - loss: 6468979200.0000 - mse: 6468979200.0000 - mae: 61674.0547 - val_loss: 1773683584.0000 - val_mse: 1773683584.0000 - val_mae: 32794.7383\n",
      ".Epoch 31/100\n",
      "516/516 [==============================] - 1s 1ms/step - loss: 6306258944.0000 - mse: 6306258944.0000 - mae: 60546.3320 - val_loss: 1614286080.0000 - val_mse: 1614286080.0000 - val_mae: 30989.0234\n",
      ".Epoch 32/100\n",
      "516/516 [==============================] - 1s 1ms/step - loss: 6177787392.0000 - mse: 6177787392.0000 - mae: 59564.6562 - val_loss: 1490912640.0000 - val_mse: 1490912640.0000 - val_mae: 29506.6738\n",
      ".Epoch 33/100\n",
      "516/516 [==============================] - 1s 1ms/step - loss: 6079945728.0000 - mse: 6079945728.0000 - mae: 58700.9883 - val_loss: 1399048064.0000 - val_mse: 1399048064.0000 - val_mae: 28303.8574\n",
      ".Epoch 34/100\n",
      "516/516 [==============================] - 1s 1ms/step - loss: 6005760000.0000 - mse: 6005760000.0000 - mae: 58091.1367 - val_loss: 1327746176.0000 - val_mse: 1327746176.0000 - val_mae: 27324.5898\n",
      ".Epoch 35/100\n",
      "516/516 [==============================] - 1s 2ms/step - loss: 5955884544.0000 - mse: 5955884544.0000 - mae: 57647.4688 - val_loss: 1273464704.0000 - val_mse: 1273464704.0000 - val_mae: 26587.3320\n",
      ".Epoch 36/100\n",
      "516/516 [==============================] - 1s 2ms/step - loss: 5916945408.0000 - mse: 5916945408.0000 - mae: 57197.0859 - val_loss: 1233647360.0000 - val_mse: 1233647360.0000 - val_mae: 25999.5566\n",
      ".Epoch 37/100\n",
      "516/516 [==============================] - 1s 1ms/step - loss: 5889077248.0000 - mse: 5889077248.0000 - mae: 56940.9219 - val_loss: 1202320256.0000 - val_mse: 1202320256.0000 - val_mae: 25551.4980\n",
      ".Epoch 38/100\n"
     ]
    },
    {
     "name": "stdout",
     "output_type": "stream",
     "text": [
      "516/516 [==============================] - 1s 1ms/step - loss: 5865592832.0000 - mse: 5865592832.0000 - mae: 56691.7930 - val_loss: 1179342336.0000 - val_mse: 1179342336.0000 - val_mae: 25187.3574\n",
      ".Epoch 39/100\n",
      "516/516 [==============================] - 1s 1ms/step - loss: 5846624768.0000 - mse: 5846624768.0000 - mae: 56527.2617 - val_loss: 1157617792.0000 - val_mse: 1157617792.0000 - val_mae: 24902.0215\n",
      ".Epoch 40/100\n",
      "516/516 [==============================] - 1s 2ms/step - loss: 5829720576.0000 - mse: 5829720576.0000 - mae: 56367.0547 - val_loss: 1138494208.0000 - val_mse: 1138494208.0000 - val_mae: 24631.7129\n",
      ".Epoch 41/100\n",
      "516/516 [==============================] - 1s 1ms/step - loss: 5813703680.0000 - mse: 5813703680.0000 - mae: 56262.1992 - val_loss: 1121386624.0000 - val_mse: 1121386624.0000 - val_mae: 24449.1406\n",
      "\n",
      "Epoch: 40, loss:5813703680.0000,  mae:56262.1992,  mse:5813703680.0000,  val_loss:1121386624.0000,  val_mae:24449.1406,  val_mse:1121386624.0000,  \n",
      ".Epoch 42/100\n",
      "516/516 [==============================] - 1s 1ms/step - loss: 5798860800.0000 - mse: 5798860800.0000 - mae: 56091.4922 - val_loss: 1104508928.0000 - val_mse: 1104508928.0000 - val_mae: 24176.2441\n",
      ".Epoch 43/100\n",
      "516/516 [==============================] - 1s 1ms/step - loss: 5784120832.0000 - mse: 5784120832.0000 - mae: 55990.7656 - val_loss: 1091285888.0000 - val_mse: 1091285888.0000 - val_mae: 23993.4355\n",
      ".Epoch 44/100\n",
      "516/516 [==============================] - 1s 1ms/step - loss: 5770514944.0000 - mse: 5770514944.0000 - mae: 55916.3438 - val_loss: 1074307072.0000 - val_mse: 1074307072.0000 - val_mae: 23781.4746\n",
      ".Epoch 45/100\n",
      "516/516 [==============================] - 1s 1ms/step - loss: 5756670976.0000 - mse: 5756670976.0000 - mae: 55836.7070 - val_loss: 1058367616.0000 - val_mse: 1058367616.0000 - val_mae: 23593.2461\n",
      ".Epoch 46/100\n",
      "516/516 [==============================] - 1s 1ms/step - loss: 5743217152.0000 - mse: 5743217152.0000 - mae: 55665.1875 - val_loss: 1045591872.0000 - val_mse: 1045591872.0000 - val_mae: 23423.7734\n",
      ".Epoch 47/100\n",
      "516/516 [==============================] - 1s 1ms/step - loss: 5731682816.0000 - mse: 5731682816.0000 - mae: 55569.9961 - val_loss: 1036058240.0000 - val_mse: 1036058240.0000 - val_mae: 23296.6582\n",
      ".Epoch 48/100\n",
      "516/516 [==============================] - 1s 1ms/step - loss: 5718647296.0000 - mse: 5718647296.0000 - mae: 55536.2812 - val_loss: 1027612800.0000 - val_mse: 1027612800.0000 - val_mae: 23196.8496\n",
      ".Epoch 49/100\n",
      "516/516 [==============================] - 1s 1ms/step - loss: 5708265984.0000 - mse: 5708265984.0000 - mae: 55523.2109 - val_loss: 1008586624.0000 - val_mse: 1008586624.0000 - val_mae: 22986.1328\n",
      ".Epoch 50/100\n",
      "516/516 [==============================] - 1s 1ms/step - loss: 5694993408.0000 - mse: 5694993408.0000 - mae: 55440.3203 - val_loss: 998087552.0000 - val_mse: 998087552.0000 - val_mae: 22902.9336\n",
      ".Epoch 51/100\n",
      "516/516 [==============================] - 1s 1ms/step - loss: 5684188672.0000 - mse: 5684188672.0000 - mae: 55289.0039 - val_loss: 985256064.0000 - val_mse: 985256064.0000 - val_mae: 22714.9121\n",
      ".Epoch 52/100\n",
      "516/516 [==============================] - 1s 1ms/step - loss: 5670798336.0000 - mse: 5670798336.0000 - mae: 55279.8516 - val_loss: 972899456.0000 - val_mse: 972899456.0000 - val_mae: 22571.8145\n",
      ".Epoch 53/100\n",
      "516/516 [==============================] - 1s 2ms/step - loss: 5658330112.0000 - mse: 5658330112.0000 - mae: 55191.0039 - val_loss: 961189568.0000 - val_mse: 961189568.0000 - val_mae: 22423.3926\n",
      ".Epoch 54/100\n",
      "516/516 [==============================] - 1s 1ms/step - loss: 5645922304.0000 - mse: 5645922304.0000 - mae: 55155.0859 - val_loss: 951510208.0000 - val_mse: 951510208.0000 - val_mae: 22355.5918\n",
      ".Epoch 55/100\n",
      "516/516 [==============================] - 1s 1ms/step - loss: 5635677696.0000 - mse: 5635677696.0000 - mae: 55027.1328 - val_loss: 938035584.0000 - val_mse: 938035584.0000 - val_mae: 22157.8691\n",
      ".Epoch 56/100\n",
      "516/516 [==============================] - 1s 2ms/step - loss: 5623533056.0000 - mse: 5623533056.0000 - mae: 54940.3359 - val_loss: 927928000.0000 - val_mse: 927928000.0000 - val_mae: 22018.2422\n",
      ".Epoch 57/100\n",
      "516/516 [==============================] - 1s 2ms/step - loss: 5611573760.0000 - mse: 5611573760.0000 - mae: 54936.2852 - val_loss: 915448320.0000 - val_mse: 915448320.0000 - val_mae: 21903.8574\n",
      ".Epoch 58/100\n",
      "516/516 [==============================] - 1s 2ms/step - loss: 5599808512.0000 - mse: 5599808512.0000 - mae: 54818.6602 - val_loss: 904005440.0000 - val_mse: 904005440.0000 - val_mae: 21750.2598\n",
      ".Epoch 59/100\n",
      "516/516 [==============================] - 1s 2ms/step - loss: 5588215808.0000 - mse: 5588215808.0000 - mae: 54755.9922 - val_loss: 892814912.0000 - val_mse: 892814912.0000 - val_mae: 21620.5957\n",
      ".Epoch 60/100\n",
      "516/516 [==============================] - 1s 1ms/step - loss: 5576515072.0000 - mse: 5576515072.0000 - mae: 54651.1680 - val_loss: 881189184.0000 - val_mse: 881189184.0000 - val_mae: 21464.1953\n",
      ".Epoch 61/100\n",
      "516/516 [==============================] - 1s 2ms/step - loss: 5564884480.0000 - mse: 5564884480.0000 - mae: 54633.8320 - val_loss: 871822272.0000 - val_mse: 871822272.0000 - val_mae: 21382.3047\n",
      "\n",
      "Epoch: 60, loss:5564884480.0000,  mae:54633.8320,  mse:5564884480.0000,  val_loss:871822272.0000,  val_mae:21382.3047,  val_mse:871822272.0000,  \n",
      ".Epoch 62/100\n",
      "516/516 [==============================] - 1s 1ms/step - loss: 5553404416.0000 - mse: 5553404416.0000 - mae: 54516.4297 - val_loss: 859146368.0000 - val_mse: 859146368.0000 - val_mae: 21177.9180\n",
      ".Epoch 63/100\n",
      "516/516 [==============================] - 1s 1ms/step - loss: 5541294592.0000 - mse: 5541294592.0000 - mae: 54539.6953 - val_loss: 851868800.0000 - val_mse: 851868800.0000 - val_mae: 21155.5215\n",
      ".Epoch 64/100\n",
      "516/516 [==============================] - 1s 1ms/step - loss: 5530877952.0000 - mse: 5530877952.0000 - mae: 54373.1328 - val_loss: 837476032.0000 - val_mse: 837476032.0000 - val_mae: 20911.9824\n",
      ".Epoch 65/100\n",
      "516/516 [==============================] - 1s 1ms/step - loss: 5519447040.0000 - mse: 5519447040.0000 - mae: 54333.3516 - val_loss: 827873664.0000 - val_mse: 827873664.0000 - val_mae: 20780.1328\n",
      ".Epoch 66/100\n",
      "516/516 [==============================] - 1s 1ms/step - loss: 5508541440.0000 - mse: 5508541440.0000 - mae: 54286.4844 - val_loss: 815514048.0000 - val_mse: 815514048.0000 - val_mae: 20635.1660\n",
      ".Epoch 67/100\n",
      "516/516 [==============================] - 1s 1ms/step - loss: 5496062976.0000 - mse: 5496062976.0000 - mae: 54222.8984 - val_loss: 805807232.0000 - val_mse: 805807232.0000 - val_mae: 20553.8281\n",
      ".Epoch 68/100\n",
      "516/516 [==============================] - 1s 1ms/step - loss: 5484568064.0000 - mse: 5484568064.0000 - mae: 54129.8164 - val_loss: 794235392.0000 - val_mse: 794235392.0000 - val_mae: 20376.0508\n",
      ".Epoch 69/100\n",
      "516/516 [==============================] - 1s 1ms/step - loss: 5473562112.0000 - mse: 5473562112.0000 - mae: 54059.6445 - val_loss: 786620864.0000 - val_mse: 786620864.0000 - val_mae: 20253.5605\n",
      ".Epoch 70/100\n",
      "516/516 [==============================] - 1s 1ms/step - loss: 5462178816.0000 - mse: 5462178816.0000 - mae: 53990.9023 - val_loss: 776979328.0000 - val_mse: 776979328.0000 - val_mae: 20122.4414\n",
      ".Epoch 71/100\n",
      "516/516 [==============================] - 1s 1ms/step - loss: 5450714624.0000 - mse: 5450714624.0000 - mae: 53976.9805 - val_loss: 763038272.0000 - val_mse: 763038272.0000 - val_mae: 19977.0957\n",
      ".Epoch 72/100\n",
      "516/516 [==============================] - 1s 1ms/step - loss: 5439752192.0000 - mse: 5439752192.0000 - mae: 53866.1680 - val_loss: 753065088.0000 - val_mse: 753065088.0000 - val_mae: 19812.7949\n",
      ".Epoch 73/100\n",
      "516/516 [==============================] - 1s 1ms/step - loss: 5428908032.0000 - mse: 5428908032.0000 - mae: 53824.6055 - val_loss: 742416128.0000 - val_mse: 742416128.0000 - val_mae: 19704.5840\n",
      ".Epoch 74/100\n",
      "516/516 [==============================] - 1s 1ms/step - loss: 5417936896.0000 - mse: 5417936896.0000 - mae: 53745.3359 - val_loss: 731144064.0000 - val_mse: 731144064.0000 - val_mae: 19536.6016\n",
      ".Epoch 75/100\n",
      "516/516 [==============================] - 1s 1ms/step - loss: 5406536704.0000 - mse: 5406536704.0000 - mae: 53670.6055 - val_loss: 721265408.0000 - val_mse: 721265408.0000 - val_mae: 19422.4277\n"
     ]
    },
    {
     "name": "stdout",
     "output_type": "stream",
     "text": [
      ".Epoch 76/100\n",
      "516/516 [==============================] - 1s 1ms/step - loss: 5395912192.0000 - mse: 5395912192.0000 - mae: 53581.7500 - val_loss: 711475072.0000 - val_mse: 711475072.0000 - val_mae: 19262.9258\n",
      ".Epoch 77/100\n",
      "516/516 [==============================] - 1s 1ms/step - loss: 5384648704.0000 - mse: 5384648704.0000 - mae: 53577.8750 - val_loss: 700405696.0000 - val_mse: 700405696.0000 - val_mae: 19125.2949\n",
      ".Epoch 78/100\n",
      "516/516 [==============================] - 1s 1ms/step - loss: 5374331904.0000 - mse: 5374331904.0000 - mae: 53420.5156 - val_loss: 692177024.0000 - val_mse: 692177024.0000 - val_mae: 18985.4453\n",
      ".Epoch 79/100\n",
      "516/516 [==============================] - 1s 1ms/step - loss: 5363299840.0000 - mse: 5363299840.0000 - mae: 53399.8281 - val_loss: 680960320.0000 - val_mse: 680960320.0000 - val_mae: 18830.3809\n",
      ".Epoch 80/100\n",
      "516/516 [==============================] - 1s 1ms/step - loss: 5352432640.0000 - mse: 5352432640.0000 - mae: 53360.7188 - val_loss: 670611840.0000 - val_mse: 670611840.0000 - val_mae: 18721.8516\n",
      ".Epoch 81/100\n",
      "516/516 [==============================] - 1s 1ms/step - loss: 5340012544.0000 - mse: 5340012544.0000 - mae: 53204.9727 - val_loss: 668242880.0000 - val_mse: 668242880.0000 - val_mae: 18666.0586\n",
      "\n",
      "Epoch: 80, loss:5340012544.0000,  mae:53204.9727,  mse:5340012544.0000,  val_loss:668242880.0000,  val_mae:18666.0586,  val_mse:668242880.0000,  \n",
      ".Epoch 82/100\n",
      "516/516 [==============================] - 1s 1ms/step - loss: 5329606656.0000 - mse: 5329606656.0000 - mae: 53234.9062 - val_loss: 651333760.0000 - val_mse: 651333760.0000 - val_mae: 18421.3672\n",
      ".Epoch 83/100\n",
      "516/516 [==============================] - 1s 1ms/step - loss: 5318547456.0000 - mse: 5318547456.0000 - mae: 53140.9922 - val_loss: 640191808.0000 - val_mse: 640191808.0000 - val_mae: 18276.1777\n",
      ".Epoch 84/100\n",
      "516/516 [==============================] - 1s 1ms/step - loss: 5307633152.0000 - mse: 5307633152.0000 - mae: 53129.6094 - val_loss: 633484800.0000 - val_mse: 633484800.0000 - val_mae: 18234.4434\n",
      ".Epoch 85/100\n",
      "516/516 [==============================] - 1s 1ms/step - loss: 5299555840.0000 - mse: 5299555840.0000 - mae: 52966.1367 - val_loss: 620614400.0000 - val_mse: 620614400.0000 - val_mae: 17994.9766\n",
      ".Epoch 86/100\n",
      "516/516 [==============================] - 1s 1ms/step - loss: 5286800384.0000 - mse: 5286800384.0000 - mae: 52977.2812 - val_loss: 613915392.0000 - val_mse: 613915392.0000 - val_mae: 17957.1973\n",
      ".Epoch 87/100\n",
      "516/516 [==============================] - 1s 1ms/step - loss: 5276412928.0000 - mse: 5276412928.0000 - mae: 52838.2891 - val_loss: 601300800.0000 - val_mse: 601300800.0000 - val_mae: 17701.9805\n",
      ".Epoch 88/100\n",
      "516/516 [==============================] - 1s 1ms/step - loss: 5266869248.0000 - mse: 5266869248.0000 - mae: 52810.6836 - val_loss: 591418432.0000 - val_mse: 591418432.0000 - val_mae: 17560.8965\n",
      ".Epoch 89/100\n",
      "516/516 [==============================] - 1s 1ms/step - loss: 5255973376.0000 - mse: 5255973376.0000 - mae: 52680.7930 - val_loss: 582674368.0000 - val_mse: 582674368.0000 - val_mae: 17433.2598\n",
      ".Epoch 90/100\n",
      "516/516 [==============================] - 1s 1ms/step - loss: 5245329920.0000 - mse: 5245329920.0000 - mae: 52699.4453 - val_loss: 571740928.0000 - val_mse: 571740928.0000 - val_mae: 17274.0605\n",
      ".Epoch 91/100\n",
      "516/516 [==============================] - 1s 1ms/step - loss: 5232523776.0000 - mse: 5232523776.0000 - mae: 52584.4922 - val_loss: 565997248.0000 - val_mse: 565997248.0000 - val_mae: 17185.8965\n",
      ".Epoch 92/100\n",
      "516/516 [==============================] - 1s 1ms/step - loss: 5223195136.0000 - mse: 5223195136.0000 - mae: 52567.2969 - val_loss: 555254336.0000 - val_mse: 555254336.0000 - val_mae: 17023.2227\n",
      ".Epoch 93/100\n",
      "516/516 [==============================] - 1s 1ms/step - loss: 5212284416.0000 - mse: 5212284416.0000 - mae: 52502.5625 - val_loss: 545735168.0000 - val_mse: 545735168.0000 - val_mae: 16872.9141\n",
      ".Epoch 94/100\n",
      "516/516 [==============================] - 1s 1ms/step - loss: 5202215936.0000 - mse: 5202215936.0000 - mae: 52461.4961 - val_loss: 534718752.0000 - val_mse: 534718752.0000 - val_mae: 16734.0098\n",
      ".Epoch 95/100\n",
      "516/516 [==============================] - 1s 1ms/step - loss: 5193272320.0000 - mse: 5193272320.0000 - mae: 52289.9531 - val_loss: 526345152.0000 - val_mse: 526345152.0000 - val_mae: 16573.4688\n",
      ".Epoch 96/100\n",
      "516/516 [==============================] - 1s 1ms/step - loss: 5182516224.0000 - mse: 5182516224.0000 - mae: 52309.0547 - val_loss: 516222592.0000 - val_mse: 516222592.0000 - val_mae: 16424.7090\n",
      ".Epoch 97/100\n",
      "516/516 [==============================] - 1s 1ms/step - loss: 5172328960.0000 - mse: 5172328960.0000 - mae: 52226.7734 - val_loss: 506672096.0000 - val_mse: 506672096.0000 - val_mae: 16284.3428\n",
      ".Epoch 98/100\n",
      "516/516 [==============================] - 1s 1ms/step - loss: 5161798656.0000 - mse: 5161798656.0000 - mae: 52168.8438 - val_loss: 498614624.0000 - val_mse: 498614624.0000 - val_mae: 16178.6885\n",
      ".Epoch 99/100\n",
      "516/516 [==============================] - 1s 1ms/step - loss: 5151075328.0000 - mse: 5151075328.0000 - mae: 52100.6914 - val_loss: 490399584.0000 - val_mse: 490399584.0000 - val_mae: 16010.0996\n",
      ".Epoch 100/100\n",
      "516/516 [==============================] - 1s 1ms/step - loss: 5139455488.0000 - mse: 5139455488.0000 - mae: 52007.9102 - val_loss: 488988160.0000 - val_mse: 488988160.0000 - val_mae: 16003.3809\n",
      "."
     ]
    }
   ],
   "source": [
    "history = model.fit(X_train, \n",
    "                    y_train, \n",
    "                    validation_data=(X_test, y_test), \n",
    "                    epochs=100, \n",
    "                    callbacks=[modeling.EpochDots(20)],use_multiprocessing=True)"
   ]
  },
  {
   "cell_type": "code",
   "execution_count": 90,
   "id": "12f298c5",
   "metadata": {},
   "outputs": [
    {
     "data": {
      "image/png": "[encoded data removed]",
      "text/plain": [
       "<Figure size 432x288 with 1 Axes>"
      ]
     },
     "metadata": {
      "needs_background": "light"
     },
     "output_type": "display_data"
    }
   ],
   "source": [
    "history_df = pd.DataFrame(history.history)\n",
    "history_df.plot()\n",
    "plt.show()"
   ]
  },
  {
   "cell_type": "code",
   "execution_count": 91,
   "id": "10e52579",
   "metadata": {},
   "outputs": [
    {
     "data": {
      "image/png": "[encoded data removed]",
      "text/plain": [
       "<Figure size 432x288 with 1 Axes>"
      ]
     },
     "metadata": {
      "needs_background": "light"
     },
     "output_type": "display_data"
    }
   ],
   "source": [
    "plotter = tfdocs.plots.HistoryPlotter(smoothing_std=2)\n",
    "plotter.plot({'Basic':history}, metric='mae')\n",
    "plt.ylabel('MAE [Median House Value]')\n",
    "plt.show()"
   ]
  },
  {
   "cell_type": "code",
   "execution_count": 92,
   "id": "e28e3d33",
   "metadata": {},
   "outputs": [
    {
     "data": {
      "image/png": "[encoded data removed]",
      "text/plain": [
       "<Figure size 864x432 with 1 Axes>"
      ]
     },
     "metadata": {
      "needs_background": "light"
     },
     "output_type": "display_data"
    }
   ],
   "source": [
    "plt.figure(figsize=(12, 6))\n",
    "plotter = tfdocs.plots.HistoryPlotter(smoothing_std=2)\n",
    "plotter.plot({'Basic':history}, metric='mse')\n",
    "plt.ylabel('MAE [Median House Value]')\n",
    "plt.show()"
   ]
  },
  {
   "cell_type": "code",
   "execution_count": 93,
   "id": "2bc3d08a",
   "metadata": {},
   "outputs": [
    {
     "data": {
      "image/png": "[encoded data removed]",
      "text/plain": [
       "<Figure size 432x288 with 1 Axes>"
      ]
     },
     "metadata": {
      "needs_background": "light"
     },
     "output_type": "display_data"
    }
   ],
   "source": [
    "predictions = model.predict(X_test)\n",
    "error = y_test - predictions\n",
    "sns.distplot(error)\n",
    "plt.show()"
   ]
  },
  {
   "cell_type": "code",
   "execution_count": 94,
   "id": "8150d3e3",
   "metadata": {},
   "outputs": [
    {
     "data": {
      "text/plain": [
       "array([[ 71027.48],\n",
       "       [130367.23],\n",
       "       [262901.75],\n",
       "       ...,\n",
       "       [456959.94],\n",
       "       [112275.08],\n",
       "       [171650.1 ]], dtype=float32)"
      ]
     },
     "execution_count": 94,
     "metadata": {},
     "output_type": "execute_result"
    }
   ],
   "source": [
    "y_test"
   ]
  },
  {
   "cell_type": "code",
   "execution_count": 95,
   "id": "74b7f4eb",
   "metadata": {},
   "outputs": [
    {
     "data": {
      "text/plain": [
       "array([[ 72718.516],\n",
       "       [147571.5  ],\n",
       "       [262207.5  ],\n",
       "       ...,\n",
       "       [450034.7  ],\n",
       "       [147360.05 ],\n",
       "       [166708.4  ]], dtype=float32)"
      ]
     },
     "execution_count": 95,
     "metadata": {},
     "output_type": "execute_result"
    }
   ],
   "source": [
    "predictions"
   ]
  },
  {
   "cell_type": "code",
   "execution_count": null,
   "id": "081dedb8",
   "metadata": {},
   "outputs": [],
   "source": []
  }
 ],
 "metadata": {
  "kernelspec": {
   "display_name": "Python 3",
   "language": "python",
   "name": "python3"
  },
  "language_info": {
   "codemirror_mode": {
    "name": "ipython",
    "version": 3
   },
   "file_extension": ".py",
   "mimetype": "text/x-python",
   "name": "python",
   "nbconvert_exporter": "python",
   "pygments_lexer": "ipython3",
   "version": "3.8.8"
  }
 },
 "nbformat": 4,
 "nbformat_minor": 5
}
