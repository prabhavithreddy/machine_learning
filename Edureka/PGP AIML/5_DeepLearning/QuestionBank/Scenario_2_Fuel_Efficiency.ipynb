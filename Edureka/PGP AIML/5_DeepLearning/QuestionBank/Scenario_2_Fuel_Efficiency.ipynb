{
 "cells": [
  {
   "cell_type": "code",
   "execution_count": 1,
   "id": "ae7bc778",
   "metadata": {},
   "outputs": [],
   "source": [
    "import pandas as pd\n",
    "import numpy as np\n",
    "import matplotlib.pyplot as plt\n",
    "import seaborn as sns\n",
    "\n",
    "import warnings\n",
    "warnings.filterwarnings('ignore')\n",
    "\n",
    "import tensorflow as tf\n",
    "from tensorflow import keras\n",
    "from tensorflow.keras import layers, datasets\n",
    "\n",
    "from sklearn.metrics import confusion_matrix, classification_report"
   ]
  },
  {
   "cell_type": "code",
   "execution_count": 56,
   "id": "32568f81",
   "metadata": {},
   "outputs": [
    {
     "data": {
      "text/html": [
       "<div>\n",
       "<style scoped>\n",
       "    .dataframe tbody tr th:only-of-type {\n",
       "        vertical-align: middle;\n",
       "    }\n",
       "\n",
       "    .dataframe tbody tr th {\n",
       "        vertical-align: top;\n",
       "    }\n",
       "\n",
       "    .dataframe thead th {\n",
       "        text-align: right;\n",
       "    }\n",
       "</style>\n",
       "<table border=\"1\" class=\"dataframe\">\n",
       "  <thead>\n",
       "    <tr style=\"text-align: right;\">\n",
       "      <th></th>\n",
       "      <th>mpg</th>\n",
       "      <th>cylinders</th>\n",
       "      <th>displacement</th>\n",
       "      <th>horsepower</th>\n",
       "      <th>weight</th>\n",
       "      <th>acceleration</th>\n",
       "      <th>model year</th>\n",
       "      <th>origin</th>\n",
       "      <th>car name</th>\n",
       "    </tr>\n",
       "  </thead>\n",
       "  <tbody>\n",
       "    <tr>\n",
       "      <th>0</th>\n",
       "      <td>18.0</td>\n",
       "      <td>8</td>\n",
       "      <td>307.0</td>\n",
       "      <td>130</td>\n",
       "      <td>3504</td>\n",
       "      <td>12.0</td>\n",
       "      <td>70</td>\n",
       "      <td>1</td>\n",
       "      <td>chevrolet chevelle malibu</td>\n",
       "    </tr>\n",
       "    <tr>\n",
       "      <th>1</th>\n",
       "      <td>15.0</td>\n",
       "      <td>8</td>\n",
       "      <td>350.0</td>\n",
       "      <td>165</td>\n",
       "      <td>3693</td>\n",
       "      <td>11.5</td>\n",
       "      <td>70</td>\n",
       "      <td>1</td>\n",
       "      <td>buick skylark 320</td>\n",
       "    </tr>\n",
       "    <tr>\n",
       "      <th>2</th>\n",
       "      <td>18.0</td>\n",
       "      <td>8</td>\n",
       "      <td>318.0</td>\n",
       "      <td>150</td>\n",
       "      <td>3436</td>\n",
       "      <td>11.0</td>\n",
       "      <td>70</td>\n",
       "      <td>1</td>\n",
       "      <td>plymouth satellite</td>\n",
       "    </tr>\n",
       "    <tr>\n",
       "      <th>3</th>\n",
       "      <td>16.0</td>\n",
       "      <td>8</td>\n",
       "      <td>304.0</td>\n",
       "      <td>150</td>\n",
       "      <td>3433</td>\n",
       "      <td>12.0</td>\n",
       "      <td>70</td>\n",
       "      <td>1</td>\n",
       "      <td>amc rebel sst</td>\n",
       "    </tr>\n",
       "    <tr>\n",
       "      <th>4</th>\n",
       "      <td>17.0</td>\n",
       "      <td>8</td>\n",
       "      <td>302.0</td>\n",
       "      <td>140</td>\n",
       "      <td>3449</td>\n",
       "      <td>10.5</td>\n",
       "      <td>70</td>\n",
       "      <td>1</td>\n",
       "      <td>ford torino</td>\n",
       "    </tr>\n",
       "  </tbody>\n",
       "</table>\n",
       "</div>"
      ],
      "text/plain": [
       "    mpg  cylinders  displacement horsepower  weight  acceleration  model year  \\\n",
       "0  18.0          8         307.0        130    3504          12.0          70   \n",
       "1  15.0          8         350.0        165    3693          11.5          70   \n",
       "2  18.0          8         318.0        150    3436          11.0          70   \n",
       "3  16.0          8         304.0        150    3433          12.0          70   \n",
       "4  17.0          8         302.0        140    3449          10.5          70   \n",
       "\n",
       "   origin                   car name  \n",
       "0       1  chevrolet chevelle malibu  \n",
       "1       1          buick skylark 320  \n",
       "2       1         plymouth satellite  \n",
       "3       1              amc rebel sst  \n",
       "4       1                ford torino  "
      ]
     },
     "execution_count": 56,
     "metadata": {},
     "output_type": "execute_result"
    }
   ],
   "source": [
    "df = pd.read_csv('auto-mpg.csv')\n",
    "df.head()"
   ]
  },
  {
   "cell_type": "code",
   "execution_count": 57,
   "id": "9f8fd5d2",
   "metadata": {},
   "outputs": [
    {
     "data": {
      "text/html": [
       "<div>\n",
       "<style scoped>\n",
       "    .dataframe tbody tr th:only-of-type {\n",
       "        vertical-align: middle;\n",
       "    }\n",
       "\n",
       "    .dataframe tbody tr th {\n",
       "        vertical-align: top;\n",
       "    }\n",
       "\n",
       "    .dataframe thead th {\n",
       "        text-align: right;\n",
       "    }\n",
       "</style>\n",
       "<table border=\"1\" class=\"dataframe\">\n",
       "  <thead>\n",
       "    <tr style=\"text-align: right;\">\n",
       "      <th></th>\n",
       "      <th>count</th>\n",
       "      <th>mean</th>\n",
       "      <th>std</th>\n",
       "      <th>min</th>\n",
       "      <th>25%</th>\n",
       "      <th>50%</th>\n",
       "      <th>75%</th>\n",
       "      <th>max</th>\n",
       "    </tr>\n",
       "  </thead>\n",
       "  <tbody>\n",
       "    <tr>\n",
       "      <th>mpg</th>\n",
       "      <td>398.0</td>\n",
       "      <td>23.514573</td>\n",
       "      <td>7.815984</td>\n",
       "      <td>9.0</td>\n",
       "      <td>17.500</td>\n",
       "      <td>23.0</td>\n",
       "      <td>29.000</td>\n",
       "      <td>46.6</td>\n",
       "    </tr>\n",
       "    <tr>\n",
       "      <th>cylinders</th>\n",
       "      <td>398.0</td>\n",
       "      <td>5.454774</td>\n",
       "      <td>1.701004</td>\n",
       "      <td>3.0</td>\n",
       "      <td>4.000</td>\n",
       "      <td>4.0</td>\n",
       "      <td>8.000</td>\n",
       "      <td>8.0</td>\n",
       "    </tr>\n",
       "    <tr>\n",
       "      <th>displacement</th>\n",
       "      <td>398.0</td>\n",
       "      <td>193.425879</td>\n",
       "      <td>104.269838</td>\n",
       "      <td>68.0</td>\n",
       "      <td>104.250</td>\n",
       "      <td>148.5</td>\n",
       "      <td>262.000</td>\n",
       "      <td>455.0</td>\n",
       "    </tr>\n",
       "    <tr>\n",
       "      <th>weight</th>\n",
       "      <td>398.0</td>\n",
       "      <td>2970.424623</td>\n",
       "      <td>846.841774</td>\n",
       "      <td>1613.0</td>\n",
       "      <td>2223.750</td>\n",
       "      <td>2803.5</td>\n",
       "      <td>3608.000</td>\n",
       "      <td>5140.0</td>\n",
       "    </tr>\n",
       "    <tr>\n",
       "      <th>acceleration</th>\n",
       "      <td>398.0</td>\n",
       "      <td>15.568090</td>\n",
       "      <td>2.757689</td>\n",
       "      <td>8.0</td>\n",
       "      <td>13.825</td>\n",
       "      <td>15.5</td>\n",
       "      <td>17.175</td>\n",
       "      <td>24.8</td>\n",
       "    </tr>\n",
       "    <tr>\n",
       "      <th>model year</th>\n",
       "      <td>398.0</td>\n",
       "      <td>76.010050</td>\n",
       "      <td>3.697627</td>\n",
       "      <td>70.0</td>\n",
       "      <td>73.000</td>\n",
       "      <td>76.0</td>\n",
       "      <td>79.000</td>\n",
       "      <td>82.0</td>\n",
       "    </tr>\n",
       "    <tr>\n",
       "      <th>origin</th>\n",
       "      <td>398.0</td>\n",
       "      <td>1.572864</td>\n",
       "      <td>0.802055</td>\n",
       "      <td>1.0</td>\n",
       "      <td>1.000</td>\n",
       "      <td>1.0</td>\n",
       "      <td>2.000</td>\n",
       "      <td>3.0</td>\n",
       "    </tr>\n",
       "  </tbody>\n",
       "</table>\n",
       "</div>"
      ],
      "text/plain": [
       "              count         mean         std     min       25%     50%  \\\n",
       "mpg           398.0    23.514573    7.815984     9.0    17.500    23.0   \n",
       "cylinders     398.0     5.454774    1.701004     3.0     4.000     4.0   \n",
       "displacement  398.0   193.425879  104.269838    68.0   104.250   148.5   \n",
       "weight        398.0  2970.424623  846.841774  1613.0  2223.750  2803.5   \n",
       "acceleration  398.0    15.568090    2.757689     8.0    13.825    15.5   \n",
       "model year    398.0    76.010050    3.697627    70.0    73.000    76.0   \n",
       "origin        398.0     1.572864    0.802055     1.0     1.000     1.0   \n",
       "\n",
       "                   75%     max  \n",
       "mpg             29.000    46.6  \n",
       "cylinders        8.000     8.0  \n",
       "displacement   262.000   455.0  \n",
       "weight        3608.000  5140.0  \n",
       "acceleration    17.175    24.8  \n",
       "model year      79.000    82.0  \n",
       "origin           2.000     3.0  "
      ]
     },
     "execution_count": 57,
     "metadata": {},
     "output_type": "execute_result"
    }
   ],
   "source": [
    "df.describe().T"
   ]
  },
  {
   "cell_type": "code",
   "execution_count": 58,
   "id": "5ee53582",
   "metadata": {},
   "outputs": [
    {
     "data": {
      "text/plain": [
       "mpg             float64\n",
       "cylinders         int64\n",
       "displacement    float64\n",
       "horsepower       object\n",
       "weight            int64\n",
       "acceleration    float64\n",
       "model year        int64\n",
       "origin            int64\n",
       "car name         object\n",
       "dtype: object"
      ]
     },
     "execution_count": 58,
     "metadata": {},
     "output_type": "execute_result"
    }
   ],
   "source": [
    "df.dtypes"
   ]
  },
  {
   "cell_type": "code",
   "execution_count": 59,
   "id": "161c121f",
   "metadata": {},
   "outputs": [
    {
     "data": {
      "text/plain": [
       "mpg             False\n",
       "cylinders       False\n",
       "displacement    False\n",
       "horsepower      False\n",
       "weight          False\n",
       "acceleration    False\n",
       "model year      False\n",
       "origin          False\n",
       "car name        False\n",
       "dtype: bool"
      ]
     },
     "execution_count": 59,
     "metadata": {},
     "output_type": "execute_result"
    }
   ],
   "source": [
    "df.isna().any()"
   ]
  },
  {
   "cell_type": "code",
   "execution_count": 60,
   "id": "378a8c43",
   "metadata": {},
   "outputs": [],
   "source": [
    "# Making ? as None\n",
    "df.drop(df[df['horsepower'] == '?'].index, inplace=True)"
   ]
  },
  {
   "cell_type": "code",
   "execution_count": 61,
   "id": "d166a00c",
   "metadata": {},
   "outputs": [
    {
     "data": {
      "text/html": [
       "<div>\n",
       "<style scoped>\n",
       "    .dataframe tbody tr th:only-of-type {\n",
       "        vertical-align: middle;\n",
       "    }\n",
       "\n",
       "    .dataframe tbody tr th {\n",
       "        vertical-align: top;\n",
       "    }\n",
       "\n",
       "    .dataframe thead th {\n",
       "        text-align: right;\n",
       "    }\n",
       "</style>\n",
       "<table border=\"1\" class=\"dataframe\">\n",
       "  <thead>\n",
       "    <tr style=\"text-align: right;\">\n",
       "      <th></th>\n",
       "      <th>mpg</th>\n",
       "      <th>cylinders</th>\n",
       "      <th>displacement</th>\n",
       "      <th>horsepower</th>\n",
       "      <th>weight</th>\n",
       "      <th>acceleration</th>\n",
       "      <th>model year</th>\n",
       "      <th>origin</th>\n",
       "      <th>car name</th>\n",
       "    </tr>\n",
       "  </thead>\n",
       "  <tbody>\n",
       "  </tbody>\n",
       "</table>\n",
       "</div>"
      ],
      "text/plain": [
       "Empty DataFrame\n",
       "Columns: [mpg, cylinders, displacement, horsepower, weight, acceleration, model year, origin, car name]\n",
       "Index: []"
      ]
     },
     "execution_count": 61,
     "metadata": {},
     "output_type": "execute_result"
    }
   ],
   "source": [
    "df[df['horsepower'] == '?']"
   ]
  },
  {
   "cell_type": "code",
   "execution_count": 62,
   "id": "2022d430",
   "metadata": {},
   "outputs": [],
   "source": [
    "df['horsepower'] = df['horsepower'].astype('float')"
   ]
  },
  {
   "cell_type": "code",
   "execution_count": 63,
   "id": "568472e4",
   "metadata": {},
   "outputs": [
    {
     "data": {
      "text/plain": [
       "False"
      ]
     },
     "execution_count": 63,
     "metadata": {},
     "output_type": "execute_result"
    }
   ],
   "source": [
    "df['horsepower'].isnull().any()"
   ]
  },
  {
   "cell_type": "code",
   "execution_count": 64,
   "id": "f37815d0",
   "metadata": {},
   "outputs": [],
   "source": [
    "from sklearn.preprocessing import StandardScaler, LabelEncoder"
   ]
  },
  {
   "cell_type": "code",
   "execution_count": 65,
   "id": "90f5a2da",
   "metadata": {},
   "outputs": [],
   "source": [
    "le = LabelEncoder()\n",
    "df['car name'] = le.fit_transform(df['car name'])"
   ]
  },
  {
   "cell_type": "code",
   "execution_count": 66,
   "id": "de218c1a",
   "metadata": {},
   "outputs": [],
   "source": [
    "X = df.iloc[:, 1:]\n",
    "y = df.iloc[:, 0]"
   ]
  },
  {
   "cell_type": "code",
   "execution_count": 67,
   "id": "d11ff715",
   "metadata": {},
   "outputs": [
    {
     "data": {
      "text/html": [
       "<div>\n",
       "<style scoped>\n",
       "    .dataframe tbody tr th:only-of-type {\n",
       "        vertical-align: middle;\n",
       "    }\n",
       "\n",
       "    .dataframe tbody tr th {\n",
       "        vertical-align: top;\n",
       "    }\n",
       "\n",
       "    .dataframe thead th {\n",
       "        text-align: right;\n",
       "    }\n",
       "</style>\n",
       "<table border=\"1\" class=\"dataframe\">\n",
       "  <thead>\n",
       "    <tr style=\"text-align: right;\">\n",
       "      <th></th>\n",
       "      <th>mpg</th>\n",
       "      <th>cylinders</th>\n",
       "      <th>displacement</th>\n",
       "      <th>horsepower</th>\n",
       "      <th>weight</th>\n",
       "      <th>acceleration</th>\n",
       "      <th>model year</th>\n",
       "      <th>origin</th>\n",
       "      <th>car name</th>\n",
       "    </tr>\n",
       "  </thead>\n",
       "  <tbody>\n",
       "    <tr>\n",
       "      <th>0</th>\n",
       "      <td>18.0</td>\n",
       "      <td>8</td>\n",
       "      <td>307.0</td>\n",
       "      <td>130.0</td>\n",
       "      <td>3504</td>\n",
       "      <td>12.0</td>\n",
       "      <td>70</td>\n",
       "      <td>1</td>\n",
       "      <td>48</td>\n",
       "    </tr>\n",
       "    <tr>\n",
       "      <th>1</th>\n",
       "      <td>15.0</td>\n",
       "      <td>8</td>\n",
       "      <td>350.0</td>\n",
       "      <td>165.0</td>\n",
       "      <td>3693</td>\n",
       "      <td>11.5</td>\n",
       "      <td>70</td>\n",
       "      <td>1</td>\n",
       "      <td>35</td>\n",
       "    </tr>\n",
       "    <tr>\n",
       "      <th>2</th>\n",
       "      <td>18.0</td>\n",
       "      <td>8</td>\n",
       "      <td>318.0</td>\n",
       "      <td>150.0</td>\n",
       "      <td>3436</td>\n",
       "      <td>11.0</td>\n",
       "      <td>70</td>\n",
       "      <td>1</td>\n",
       "      <td>229</td>\n",
       "    </tr>\n",
       "    <tr>\n",
       "      <th>3</th>\n",
       "      <td>16.0</td>\n",
       "      <td>8</td>\n",
       "      <td>304.0</td>\n",
       "      <td>150.0</td>\n",
       "      <td>3433</td>\n",
       "      <td>12.0</td>\n",
       "      <td>70</td>\n",
       "      <td>1</td>\n",
       "      <td>13</td>\n",
       "    </tr>\n",
       "    <tr>\n",
       "      <th>4</th>\n",
       "      <td>17.0</td>\n",
       "      <td>8</td>\n",
       "      <td>302.0</td>\n",
       "      <td>140.0</td>\n",
       "      <td>3449</td>\n",
       "      <td>10.5</td>\n",
       "      <td>70</td>\n",
       "      <td>1</td>\n",
       "      <td>159</td>\n",
       "    </tr>\n",
       "  </tbody>\n",
       "</table>\n",
       "</div>"
      ],
      "text/plain": [
       "    mpg  cylinders  displacement  horsepower  weight  acceleration  \\\n",
       "0  18.0          8         307.0       130.0    3504          12.0   \n",
       "1  15.0          8         350.0       165.0    3693          11.5   \n",
       "2  18.0          8         318.0       150.0    3436          11.0   \n",
       "3  16.0          8         304.0       150.0    3433          12.0   \n",
       "4  17.0          8         302.0       140.0    3449          10.5   \n",
       "\n",
       "   model year  origin  car name  \n",
       "0          70       1        48  \n",
       "1          70       1        35  \n",
       "2          70       1       229  \n",
       "3          70       1        13  \n",
       "4          70       1       159  "
      ]
     },
     "execution_count": 67,
     "metadata": {},
     "output_type": "execute_result"
    }
   ],
   "source": [
    "df.head()"
   ]
  },
  {
   "cell_type": "code",
   "execution_count": 68,
   "id": "edaf4ca3",
   "metadata": {},
   "outputs": [],
   "source": [
    "ss = StandardScaler()\n",
    "X = ss.fit_transform(X)"
   ]
  },
  {
   "cell_type": "code",
   "execution_count": 72,
   "id": "37b62a0b",
   "metadata": {},
   "outputs": [
    {
     "data": {
      "text/plain": [
       "(392, 8)"
      ]
     },
     "execution_count": 72,
     "metadata": {},
     "output_type": "execute_result"
    }
   ],
   "source": [
    "X.shape"
   ]
  },
  {
   "cell_type": "code",
   "execution_count": 78,
   "id": "e413c28b",
   "metadata": {},
   "outputs": [],
   "source": [
    "from sklearn.model_selection import train_test_split\n",
    "X_train, X_test, y_train, y_test = train_test_split(X, y, test_size=0.2, random_state=42)"
   ]
  },
  {
   "cell_type": "code",
   "execution_count": 120,
   "id": "1430da59",
   "metadata": {},
   "outputs": [],
   "source": [
    "input_shape = [X.shape[1]]\n",
    "model = keras.Sequential([\n",
    "    layers.Dense(units=64, activation='relu', input_shape=input_shape),\n",
    "    layers.Dense(units=64, activation='relu'),\n",
    "    layers.Dense(units=1)\n",
    "])\n",
    "\n",
    "model.compile(optimizer='RMSprop',loss='mse' ,metrics=['mse','mae'])"
   ]
  },
  {
   "cell_type": "code",
   "execution_count": 121,
   "id": "b7a62603",
   "metadata": {},
   "outputs": [
    {
     "name": "stdout",
     "output_type": "stream",
     "text": [
      "Epoch 1/100\n",
      "10/10 [==============================] - 1s 21ms/step - loss: 592.8664 - mse: 592.8664 - mae: 23.0485 - val_loss: 514.8630 - val_mse: 514.8630 - val_mae: 21.5500\n",
      "\n",
      "Epoch: 0, loss:592.8664,  mae:23.0485,  mse:592.8664,  val_loss:514.8630,  val_mae:21.5500,  val_mse:514.8630,  \n",
      ".Epoch 2/100\n",
      "10/10 [==============================] - 0s 4ms/step - loss: 531.9174 - mse: 531.9174 - mae: 21.6677 - val_loss: 453.9713 - val_mse: 453.9713 - val_mae: 20.0828\n",
      ".Epoch 3/100\n",
      "10/10 [==============================] - 0s 5ms/step - loss: 467.2469 - mse: 467.2469 - mae: 20.1593 - val_loss: 386.9561 - val_mse: 386.9561 - val_mae: 18.3570\n",
      ".Epoch 4/100\n",
      "10/10 [==============================] - 0s 4ms/step - loss: 397.3621 - mse: 397.3621 - mae: 18.3731 - val_loss: 316.2430 - val_mse: 316.2430 - val_mae: 16.3468\n",
      ".Epoch 5/100\n",
      "10/10 [==============================] - 0s 6ms/step - loss: 323.6202 - mse: 323.6202 - mae: 16.3237 - val_loss: 245.1060 - val_mse: 245.1060 - val_mae: 14.1514\n",
      ".Epoch 6/100\n",
      "10/10 [==============================] - 0s 4ms/step - loss: 249.2178 - mse: 249.2178 - mae: 14.1301 - val_loss: 176.9209 - val_mse: 176.9209 - val_mae: 11.8742\n",
      ".Epoch 7/100\n",
      "10/10 [==============================] - 0s 4ms/step - loss: 179.2438 - mse: 179.2438 - mae: 11.8649 - val_loss: 117.6149 - val_mse: 117.6149 - val_mae: 9.6322\n",
      ".Epoch 8/100\n",
      "10/10 [==============================] - 0s 5ms/step - loss: 118.6114 - mse: 118.6114 - mae: 9.5739 - val_loss: 71.7843 - val_mse: 71.7843 - val_mae: 7.3492\n",
      ".Epoch 9/100\n",
      "10/10 [==============================] - 0s 5ms/step - loss: 72.9066 - mse: 72.9066 - mae: 7.3545 - val_loss: 44.5866 - val_mse: 44.5866 - val_mae: 5.6164\n",
      ".Epoch 10/100\n",
      "10/10 [==============================] - 0s 4ms/step - loss: 44.4365 - mse: 44.4365 - mae: 5.6059 - val_loss: 31.1063 - val_mse: 31.1063 - val_mae: 4.5255\n",
      ".Epoch 11/100\n",
      "10/10 [==============================] - 0s 4ms/step - loss: 30.1457 - mse: 30.1457 - mae: 4.4404 - val_loss: 26.7708 - val_mse: 26.7708 - val_mae: 4.2266\n",
      "\n",
      "Epoch: 10, loss:30.1457,  mae:4.4404,  mse:30.1457,  val_loss:26.7708,  val_mae:4.2266,  val_mse:26.7708,  \n",
      ".Epoch 12/100\n",
      "10/10 [==============================] - 0s 4ms/step - loss: 24.4596 - mse: 24.4596 - mae: 3.8992 - val_loss: 22.6830 - val_mse: 22.6830 - val_mae: 3.8341\n",
      ".Epoch 13/100\n",
      "10/10 [==============================] - 0s 5ms/step - loss: 20.9548 - mse: 20.9548 - mae: 3.5497 - val_loss: 20.2668 - val_mse: 20.2668 - val_mae: 3.6448\n",
      ".Epoch 14/100\n",
      "10/10 [==============================] - 0s 4ms/step - loss: 18.4551 - mse: 18.4551 - mae: 3.3054 - val_loss: 17.5786 - val_mse: 17.5786 - val_mae: 3.3852\n",
      ".Epoch 15/100\n",
      "10/10 [==============================] - 0s 4ms/step - loss: 16.4568 - mse: 16.4568 - mae: 3.0720 - val_loss: 15.5684 - val_mse: 15.5684 - val_mae: 3.1713\n",
      ".Epoch 16/100\n",
      "10/10 [==============================] - 0s 5ms/step - loss: 14.8433 - mse: 14.8433 - mae: 2.9324 - val_loss: 13.8334 - val_mse: 13.8334 - val_mae: 2.9436\n",
      ".Epoch 17/100\n",
      "10/10 [==============================] - 0s 4ms/step - loss: 13.5511 - mse: 13.5511 - mae: 2.7789 - val_loss: 12.7172 - val_mse: 12.7172 - val_mae: 2.8501\n",
      ".Epoch 18/100\n",
      "10/10 [==============================] - 0s 5ms/step - loss: 12.5835 - mse: 12.5835 - mae: 2.6713 - val_loss: 11.4343 - val_mse: 11.4343 - val_mae: 2.6547\n",
      ".Epoch 19/100\n",
      "10/10 [==============================] - 0s 5ms/step - loss: 11.8503 - mse: 11.8503 - mae: 2.5626 - val_loss: 10.6310 - val_mse: 10.6310 - val_mae: 2.5428\n",
      ".Epoch 20/100\n",
      "10/10 [==============================] - 0s 4ms/step - loss: 11.2162 - mse: 11.2162 - mae: 2.5025 - val_loss: 10.0887 - val_mse: 10.0887 - val_mae: 2.4395\n",
      ".Epoch 21/100\n",
      "10/10 [==============================] - 0s 4ms/step - loss: 10.4964 - mse: 10.4964 - mae: 2.4070 - val_loss: 10.3602 - val_mse: 10.3602 - val_mae: 2.4451\n",
      "\n",
      "Epoch: 20, loss:10.4964,  mae:2.4070,  mse:10.4964,  val_loss:10.3602,  val_mae:2.4451,  val_mse:10.3602,  \n",
      ".Epoch 22/100\n",
      "10/10 [==============================] - 0s 5ms/step - loss: 10.2119 - mse: 10.2119 - mae: 2.3358 - val_loss: 8.9997 - val_mse: 8.9997 - val_mae: 2.2254\n",
      ".Epoch 23/100\n",
      "10/10 [==============================] - 0s 4ms/step - loss: 9.6481 - mse: 9.6481 - mae: 2.2599 - val_loss: 8.7223 - val_mse: 8.7223 - val_mae: 2.1547\n",
      ".Epoch 24/100\n",
      "10/10 [==============================] - 0s 5ms/step - loss: 9.4769 - mse: 9.4769 - mae: 2.2255 - val_loss: 8.8577 - val_mse: 8.8577 - val_mae: 2.1469\n",
      ".Epoch 25/100\n",
      "10/10 [==============================] - 0s 4ms/step - loss: 9.0796 - mse: 9.0796 - mae: 2.2088 - val_loss: 8.1252 - val_mse: 8.1252 - val_mae: 2.0226\n",
      ".Epoch 26/100\n",
      "10/10 [==============================] - 0s 5ms/step - loss: 9.0089 - mse: 9.0089 - mae: 2.1688 - val_loss: 8.1753 - val_mse: 8.1753 - val_mae: 1.9864\n",
      ".Epoch 27/100\n",
      "10/10 [==============================] - 0s 4ms/step - loss: 8.8303 - mse: 8.8303 - mae: 2.1561 - val_loss: 7.8697 - val_mse: 7.8697 - val_mae: 1.9277\n",
      ".Epoch 28/100\n",
      "10/10 [==============================] - 0s 5ms/step - loss: 8.5086 - mse: 8.5086 - mae: 2.1121 - val_loss: 8.8126 - val_mse: 8.8126 - val_mae: 2.0907\n",
      ".Epoch 29/100\n",
      "10/10 [==============================] - 0s 4ms/step - loss: 8.5038 - mse: 8.5038 - mae: 2.1310 - val_loss: 7.7496 - val_mse: 7.7496 - val_mae: 1.9357\n",
      ".Epoch 30/100\n",
      "10/10 [==============================] - 0s 4ms/step - loss: 8.5050 - mse: 8.5050 - mae: 2.0909 - val_loss: 7.7036 - val_mse: 7.7036 - val_mae: 1.9021\n",
      ".Epoch 31/100\n",
      "10/10 [==============================] - 0s 4ms/step - loss: 8.2204 - mse: 8.2204 - mae: 2.0713 - val_loss: 7.7385 - val_mse: 7.7385 - val_mae: 1.9341\n",
      "\n",
      "Epoch: 30, loss:8.2204,  mae:2.0713,  mse:8.2204,  val_loss:7.7385,  val_mae:1.9341,  val_mse:7.7385,  \n",
      ".Epoch 32/100\n",
      "10/10 [==============================] - 0s 4ms/step - loss: 8.1588 - mse: 8.1588 - mae: 2.0347 - val_loss: 7.4591 - val_mse: 7.4591 - val_mae: 1.8488\n",
      ".Epoch 33/100\n",
      "10/10 [==============================] - 0s 4ms/step - loss: 8.2803 - mse: 8.2803 - mae: 2.0895 - val_loss: 7.3887 - val_mse: 7.3887 - val_mae: 1.8571\n",
      ".Epoch 34/100\n",
      "10/10 [==============================] - 0s 4ms/step - loss: 7.9656 - mse: 7.9656 - mae: 2.0416 - val_loss: 7.4514 - val_mse: 7.4514 - val_mae: 1.8807\n",
      ".Epoch 35/100\n",
      "10/10 [==============================] - 0s 4ms/step - loss: 7.8141 - mse: 7.8141 - mae: 2.0212 - val_loss: 7.1871 - val_mse: 7.1871 - val_mae: 1.8284\n",
      ".Epoch 36/100\n",
      "10/10 [==============================] - 0s 4ms/step - loss: 7.7268 - mse: 7.7268 - mae: 2.0425 - val_loss: 7.3088 - val_mse: 7.3088 - val_mae: 1.8641\n",
      ".Epoch 37/100\n",
      "10/10 [==============================] - 0s 4ms/step - loss: 7.6635 - mse: 7.6635 - mae: 2.0173 - val_loss: 7.1406 - val_mse: 7.1406 - val_mae: 1.8378\n",
      ".Epoch 38/100\n",
      "10/10 [==============================] - 0s 4ms/step - loss: 7.9192 - mse: 7.9192 - mae: 2.0403 - val_loss: 7.1875 - val_mse: 7.1875 - val_mae: 1.8559\n",
      ".Epoch 39/100\n",
      "10/10 [==============================] - 0s 4ms/step - loss: 7.5607 - mse: 7.5607 - mae: 1.9870 - val_loss: 8.1303 - val_mse: 8.1303 - val_mae: 2.0541\n",
      ".Epoch 40/100\n",
      "10/10 [==============================] - 0s 4ms/step - loss: 7.5125 - mse: 7.5125 - mae: 1.9956 - val_loss: 6.9624 - val_mse: 6.9624 - val_mae: 1.8111\n",
      ".Epoch 41/100\n",
      "10/10 [==============================] - 0s 4ms/step - loss: 7.4285 - mse: 7.4285 - mae: 1.9817 - val_loss: 7.2184 - val_mse: 7.2184 - val_mae: 1.8818\n",
      "\n",
      "Epoch: 40, loss:7.4285,  mae:1.9817,  mse:7.4285,  val_loss:7.2184,  val_mae:1.8818,  val_mse:7.2184,  \n",
      ".Epoch 42/100\n",
      "10/10 [==============================] - 0s 4ms/step - loss: 7.4942 - mse: 7.4942 - mae: 1.9664 - val_loss: 6.8821 - val_mse: 6.8821 - val_mae: 1.8070\n",
      ".Epoch 43/100\n",
      "10/10 [==============================] - 0s 4ms/step - loss: 7.3964 - mse: 7.3964 - mae: 1.9636 - val_loss: 7.4048 - val_mse: 7.4048 - val_mae: 1.9268\n",
      ".Epoch 44/100\n",
      "10/10 [==============================] - 0s 4ms/step - loss: 7.4276 - mse: 7.4276 - mae: 1.9427 - val_loss: 7.1434 - val_mse: 7.1434 - val_mae: 1.8743\n",
      ".Epoch 45/100\n",
      "10/10 [==============================] - 0s 4ms/step - loss: 7.0980 - mse: 7.0980 - mae: 1.9446 - val_loss: 6.7773 - val_mse: 6.7773 - val_mae: 1.8056\n",
      ".Epoch 46/100\n",
      "10/10 [==============================] - 0s 4ms/step - loss: 7.1116 - mse: 7.1116 - mae: 1.9427 - val_loss: 6.7151 - val_mse: 6.7151 - val_mae: 1.7938\n"
     ]
    },
    {
     "name": "stdout",
     "output_type": "stream",
     "text": [
      ".Epoch 47/100\n",
      "10/10 [==============================] - 0s 4ms/step - loss: 7.1909 - mse: 7.1909 - mae: 1.9316 - val_loss: 6.7981 - val_mse: 6.7981 - val_mae: 1.8205\n",
      ".Epoch 48/100\n",
      "10/10 [==============================] - 0s 4ms/step - loss: 7.0483 - mse: 7.0483 - mae: 1.9317 - val_loss: 7.3979 - val_mse: 7.3979 - val_mae: 1.9446\n",
      ".Epoch 49/100\n",
      "10/10 [==============================] - 0s 4ms/step - loss: 7.1729 - mse: 7.1729 - mae: 1.9486 - val_loss: 7.0615 - val_mse: 7.0615 - val_mae: 1.8875\n",
      ".Epoch 50/100\n",
      "10/10 [==============================] - 0s 4ms/step - loss: 7.0408 - mse: 7.0408 - mae: 1.9193 - val_loss: 6.7483 - val_mse: 6.7483 - val_mae: 1.8327\n",
      ".Epoch 51/100\n",
      "10/10 [==============================] - 0s 5ms/step - loss: 7.0294 - mse: 7.0294 - mae: 1.9161 - val_loss: 6.7053 - val_mse: 6.7053 - val_mae: 1.8165\n",
      "\n",
      "Epoch: 50, loss:7.0294,  mae:1.9161,  mse:7.0294,  val_loss:6.7053,  val_mae:1.8165,  val_mse:6.7053,  \n",
      ".Epoch 52/100\n",
      "10/10 [==============================] - 0s 5ms/step - loss: 6.8886 - mse: 6.8886 - mae: 1.9057 - val_loss: 6.6920 - val_mse: 6.6920 - val_mae: 1.8049\n",
      ".Epoch 53/100\n",
      "10/10 [==============================] - 0s 5ms/step - loss: 6.8860 - mse: 6.8860 - mae: 1.8904 - val_loss: 6.9436 - val_mse: 6.9436 - val_mae: 1.8576\n",
      ".Epoch 54/100\n",
      "10/10 [==============================] - 0s 4ms/step - loss: 6.9518 - mse: 6.9518 - mae: 1.8987 - val_loss: 6.6253 - val_mse: 6.6253 - val_mae: 1.8031\n",
      ".Epoch 55/100\n",
      "10/10 [==============================] - 0s 4ms/step - loss: 6.7665 - mse: 6.7665 - mae: 1.8768 - val_loss: 6.4916 - val_mse: 6.4916 - val_mae: 1.7696\n",
      ".Epoch 56/100\n",
      "10/10 [==============================] - 0s 4ms/step - loss: 7.1021 - mse: 7.1021 - mae: 1.9173 - val_loss: 6.6666 - val_mse: 6.6666 - val_mae: 1.8185\n",
      ".Epoch 57/100\n",
      "10/10 [==============================] - 0s 4ms/step - loss: 6.8249 - mse: 6.8249 - mae: 1.8831 - val_loss: 6.4968 - val_mse: 6.4968 - val_mae: 1.7679\n",
      ".Epoch 58/100\n",
      "10/10 [==============================] - 0s 4ms/step - loss: 6.8427 - mse: 6.8427 - mae: 1.9057 - val_loss: 6.6354 - val_mse: 6.6354 - val_mae: 1.8013\n",
      ".Epoch 59/100\n",
      "10/10 [==============================] - 0s 3ms/step - loss: 6.6836 - mse: 6.6836 - mae: 1.8807 - val_loss: 6.5440 - val_mse: 6.5440 - val_mae: 1.7942\n",
      ".Epoch 60/100\n",
      "10/10 [==============================] - 0s 7ms/step - loss: 6.6858 - mse: 6.6858 - mae: 1.8647 - val_loss: 6.7846 - val_mse: 6.7846 - val_mae: 1.8335\n",
      ".Epoch 61/100\n",
      "10/10 [==============================] - 0s 3ms/step - loss: 6.6934 - mse: 6.6934 - mae: 1.8896 - val_loss: 6.5090 - val_mse: 6.5090 - val_mae: 1.7872\n",
      "\n",
      "Epoch: 60, loss:6.6934,  mae:1.8896,  mse:6.6934,  val_loss:6.5090,  val_mae:1.7872,  val_mse:6.5090,  \n",
      ".Epoch 62/100\n",
      "10/10 [==============================] - 0s 4ms/step - loss: 6.6397 - mse: 6.6397 - mae: 1.8458 - val_loss: 6.6300 - val_mse: 6.6300 - val_mae: 1.7972\n",
      ".Epoch 63/100\n",
      "10/10 [==============================] - 0s 4ms/step - loss: 6.5753 - mse: 6.5753 - mae: 1.8467 - val_loss: 6.6688 - val_mse: 6.6688 - val_mae: 1.8289\n",
      ".Epoch 64/100\n",
      "10/10 [==============================] - 0s 3ms/step - loss: 6.6511 - mse: 6.6511 - mae: 1.8691 - val_loss: 6.4740 - val_mse: 6.4740 - val_mae: 1.7924\n",
      ".Epoch 65/100\n",
      "10/10 [==============================] - 0s 4ms/step - loss: 6.6185 - mse: 6.6185 - mae: 1.8698 - val_loss: 6.4124 - val_mse: 6.4124 - val_mae: 1.7759\n",
      ".Epoch 66/100\n",
      "10/10 [==============================] - 0s 4ms/step - loss: 6.3608 - mse: 6.3608 - mae: 1.8262 - val_loss: 6.7469 - val_mse: 6.7469 - val_mae: 1.8134\n",
      ".Epoch 67/100\n",
      "10/10 [==============================] - 0s 4ms/step - loss: 6.5257 - mse: 6.5257 - mae: 1.8421 - val_loss: 6.4533 - val_mse: 6.4533 - val_mae: 1.7745\n",
      ".Epoch 68/100\n",
      "10/10 [==============================] - 0s 4ms/step - loss: 6.6146 - mse: 6.6146 - mae: 1.8558 - val_loss: 6.8605 - val_mse: 6.8605 - val_mae: 1.8476\n",
      ".Epoch 69/100\n",
      "10/10 [==============================] - 0s 4ms/step - loss: 6.4353 - mse: 6.4353 - mae: 1.8524 - val_loss: 6.3895 - val_mse: 6.3895 - val_mae: 1.7595\n",
      ".Epoch 70/100\n",
      "10/10 [==============================] - 0s 4ms/step - loss: 6.4323 - mse: 6.4323 - mae: 1.8496 - val_loss: 6.3336 - val_mse: 6.3336 - val_mae: 1.7585\n",
      ".Epoch 71/100\n",
      "10/10 [==============================] - 0s 4ms/step - loss: 6.6462 - mse: 6.6462 - mae: 1.8656 - val_loss: 6.5683 - val_mse: 6.5683 - val_mae: 1.7979\n",
      "\n",
      "Epoch: 70, loss:6.6462,  mae:1.8656,  mse:6.6462,  val_loss:6.5683,  val_mae:1.7979,  val_mse:6.5683,  \n",
      ".Epoch 72/100\n",
      "10/10 [==============================] - 0s 4ms/step - loss: 6.6331 - mse: 6.6331 - mae: 1.8601 - val_loss: 6.4586 - val_mse: 6.4586 - val_mae: 1.7689\n",
      ".Epoch 73/100\n",
      "10/10 [==============================] - 0s 3ms/step - loss: 6.3369 - mse: 6.3369 - mae: 1.8308 - val_loss: 6.5273 - val_mse: 6.5273 - val_mae: 1.7980\n",
      ".Epoch 74/100\n",
      "10/10 [==============================] - 0s 4ms/step - loss: 6.3870 - mse: 6.3870 - mae: 1.8251 - val_loss: 6.2762 - val_mse: 6.2762 - val_mae: 1.7260\n",
      ".Epoch 75/100\n",
      "10/10 [==============================] - 0s 4ms/step - loss: 6.5790 - mse: 6.5790 - mae: 1.8533 - val_loss: 6.9718 - val_mse: 6.9718 - val_mae: 1.8859\n",
      ".Epoch 76/100\n",
      "10/10 [==============================] - 0s 4ms/step - loss: 6.3122 - mse: 6.3122 - mae: 1.8228 - val_loss: 6.3223 - val_mse: 6.3223 - val_mae: 1.7413\n",
      ".Epoch 77/100\n",
      "10/10 [==============================] - 0s 4ms/step - loss: 6.2847 - mse: 6.2847 - mae: 1.7992 - val_loss: 6.3435 - val_mse: 6.3435 - val_mae: 1.7424\n",
      ".Epoch 78/100\n",
      "10/10 [==============================] - 0s 4ms/step - loss: 6.2535 - mse: 6.2535 - mae: 1.8187 - val_loss: 6.5949 - val_mse: 6.5949 - val_mae: 1.8064\n",
      ".Epoch 79/100\n",
      "10/10 [==============================] - 0s 3ms/step - loss: 6.3472 - mse: 6.3472 - mae: 1.8209 - val_loss: 6.3265 - val_mse: 6.3265 - val_mae: 1.7704\n",
      ".Epoch 80/100\n",
      "10/10 [==============================] - 0s 4ms/step - loss: 6.2104 - mse: 6.2104 - mae: 1.8040 - val_loss: 6.8243 - val_mse: 6.8243 - val_mae: 1.8479\n",
      ".Epoch 81/100\n",
      "10/10 [==============================] - 0s 3ms/step - loss: 6.4120 - mse: 6.4120 - mae: 1.8346 - val_loss: 6.2828 - val_mse: 6.2828 - val_mae: 1.7411\n",
      "\n",
      "Epoch: 80, loss:6.4120,  mae:1.8346,  mse:6.4120,  val_loss:6.2828,  val_mae:1.7411,  val_mse:6.2828,  \n",
      ".Epoch 82/100\n",
      "10/10 [==============================] - 0s 4ms/step - loss: 6.1115 - mse: 6.1115 - mae: 1.7618 - val_loss: 6.5829 - val_mse: 6.5829 - val_mae: 1.7938\n",
      ".Epoch 83/100\n",
      "10/10 [==============================] - 0s 4ms/step - loss: 6.2555 - mse: 6.2555 - mae: 1.8183 - val_loss: 6.3225 - val_mse: 6.3225 - val_mae: 1.7668\n",
      ".Epoch 84/100\n",
      "10/10 [==============================] - 0s 4ms/step - loss: 6.1975 - mse: 6.1975 - mae: 1.7848 - val_loss: 6.7587 - val_mse: 6.7587 - val_mae: 1.8396\n",
      ".Epoch 85/100\n",
      "10/10 [==============================] - 0s 4ms/step - loss: 6.1956 - mse: 6.1956 - mae: 1.8031 - val_loss: 6.2824 - val_mse: 6.2824 - val_mae: 1.7454\n",
      ".Epoch 86/100\n",
      "10/10 [==============================] - 0s 4ms/step - loss: 6.2105 - mse: 6.2105 - mae: 1.8033 - val_loss: 6.5174 - val_mse: 6.5174 - val_mae: 1.7901\n",
      ".Epoch 87/100\n",
      "10/10 [==============================] - 0s 4ms/step - loss: 6.1388 - mse: 6.1388 - mae: 1.8029 - val_loss: 6.3372 - val_mse: 6.3372 - val_mae: 1.7782\n",
      ".Epoch 88/100\n",
      "10/10 [==============================] - 0s 4ms/step - loss: 6.1275 - mse: 6.1275 - mae: 1.7898 - val_loss: 6.2287 - val_mse: 6.2287 - val_mae: 1.7289\n",
      ".Epoch 89/100\n",
      "10/10 [==============================] - 0s 4ms/step - loss: 6.1431 - mse: 6.1431 - mae: 1.8039 - val_loss: 6.3580 - val_mse: 6.3580 - val_mae: 1.7538\n",
      ".Epoch 90/100\n",
      "10/10 [==============================] - 0s 4ms/step - loss: 5.9597 - mse: 5.9597 - mae: 1.7496 - val_loss: 6.8373 - val_mse: 6.8373 - val_mae: 1.8632\n",
      ".Epoch 91/100\n",
      "10/10 [==============================] - 0s 4ms/step - loss: 6.0332 - mse: 6.0332 - mae: 1.7810 - val_loss: 7.0345 - val_mse: 7.0345 - val_mae: 1.9016\n",
      "\n",
      "Epoch: 90, loss:6.0332,  mae:1.7810,  mse:6.0332,  val_loss:7.0345,  val_mae:1.9016,  val_mse:7.0345,  \n",
      ".Epoch 92/100\n",
      "10/10 [==============================] - 0s 4ms/step - loss: 6.0158 - mse: 6.0158 - mae: 1.7678 - val_loss: 6.4013 - val_mse: 6.4013 - val_mae: 1.7780\n",
      ".Epoch 93/100\n"
     ]
    },
    {
     "name": "stdout",
     "output_type": "stream",
     "text": [
      "10/10 [==============================] - 0s 4ms/step - loss: 6.0471 - mse: 6.0471 - mae: 1.7644 - val_loss: 6.2116 - val_mse: 6.2116 - val_mae: 1.7442\n",
      ".Epoch 94/100\n",
      "10/10 [==============================] - 0s 4ms/step - loss: 6.1293 - mse: 6.1293 - mae: 1.8003 - val_loss: 6.3493 - val_mse: 6.3493 - val_mae: 1.7561\n",
      ".Epoch 95/100\n",
      "10/10 [==============================] - 0s 4ms/step - loss: 5.8391 - mse: 5.8391 - mae: 1.7527 - val_loss: 6.3096 - val_mse: 6.3096 - val_mae: 1.7376\n",
      ".Epoch 96/100\n",
      "10/10 [==============================] - 0s 3ms/step - loss: 6.0434 - mse: 6.0434 - mae: 1.7702 - val_loss: 6.5074 - val_mse: 6.5074 - val_mae: 1.7767\n",
      ".Epoch 97/100\n",
      "10/10 [==============================] - 0s 4ms/step - loss: 6.0400 - mse: 6.0400 - mae: 1.7830 - val_loss: 6.5426 - val_mse: 6.5426 - val_mae: 1.7803\n",
      ".Epoch 98/100\n",
      "10/10 [==============================] - 0s 4ms/step - loss: 5.8867 - mse: 5.8867 - mae: 1.7528 - val_loss: 6.1736 - val_mse: 6.1736 - val_mae: 1.7228\n",
      ".Epoch 99/100\n",
      "10/10 [==============================] - ETA: 0s - loss: 5.7021 - mse: 5.7021 - mae: 1.797 - 0s 4ms/step - loss: 6.0296 - mse: 6.0296 - mae: 1.7416 - val_loss: 6.1644 - val_mse: 6.1644 - val_mae: 1.7285\n",
      ".Epoch 100/100\n",
      "10/10 [==============================] - 0s 4ms/step - loss: 5.9540 - mse: 5.9540 - mae: 1.7642 - val_loss: 6.2215 - val_mse: 6.2215 - val_mae: 1.7360\n",
      "."
     ]
    }
   ],
   "source": [
    "history = model.fit(X_train, y_train, epochs=100, validation_data=(X_test, y_test),\n",
    "                   callbacks=[tensorflow_docs.modeling.EpochDots(10)])"
   ]
  },
  {
   "cell_type": "code",
   "execution_count": 122,
   "id": "de46a929",
   "metadata": {},
   "outputs": [],
   "source": [
    "history_df = pd.DataFrame(history.history)"
   ]
  },
  {
   "cell_type": "code",
   "execution_count": 123,
   "id": "fbb9a78c",
   "metadata": {},
   "outputs": [
    {
     "data": {
      "image/png": "[encoded data removed]",
      "text/plain": [
       "<Figure size 432x288 with 1 Axes>"
      ]
     },
     "metadata": {
      "needs_background": "light"
     },
     "output_type": "display_data"
    }
   ],
   "source": [
    "history_df.plot()\n",
    "plt.show()"
   ]
  },
  {
   "cell_type": "code",
   "execution_count": 124,
   "id": "bce0d94e",
   "metadata": {},
   "outputs": [],
   "source": [
    "import tensorflow_docs as tfdocs\n",
    "import tensorflow_docs.plots\n",
    "import tensorflow_docs.modeling"
   ]
  },
  {
   "cell_type": "code",
   "execution_count": 125,
   "id": "29257621",
   "metadata": {},
   "outputs": [
    {
     "data": {
      "image/png": "[encoded data removed]",
      "text/plain": [
       "<Figure size 432x288 with 1 Axes>"
      ]
     },
     "metadata": {
      "needs_background": "light"
     },
     "output_type": "display_data"
    }
   ],
   "source": [
    "plotter = tfdocs.plots.HistoryPlotter(smoothing_std=2)\n",
    "plotter.plot({'Basic': history },metric='mae')\n",
    "plt.ylim([0,10])\n",
    "plt.ylabel('MAE [MPG]')\n",
    "plt.show()"
   ]
  },
  {
   "cell_type": "code",
   "execution_count": 127,
   "id": "74342491",
   "metadata": {},
   "outputs": [
    {
     "data": {
      "image/png": "[encoded data removed]",
      "text/plain": [
       "<Figure size 432x288 with 1 Axes>"
      ]
     },
     "metadata": {
      "needs_background": "light"
     },
     "output_type": "display_data"
    }
   ],
   "source": [
    "plotter = tfdocs.plots.HistoryPlotter(smoothing_std=2)\n",
    "plotter.plot({'Basic': history },metric='mse')\n",
    "plt.ylim([0,20])\n",
    "plt.ylabel('MAE [MPG]')\n",
    "plt.show()"
   ]
  },
  {
   "cell_type": "code",
   "execution_count": 132,
   "id": "810428ee",
   "metadata": {},
   "outputs": [
    {
     "data": {
      "text/plain": [
       "[<matplotlib.lines.Line2D at 0x1210e26e640>]"
      ]
     },
     "execution_count": 132,
     "metadata": {},
     "output_type": "execute_result"
    },
    {
     "data": {
      "image/png": "[encoded data removed]",
      "text/plain": [
       "<Figure size 432x288 with 1 Axes>"
      ]
     },
     "metadata": {
      "needs_background": "light"
     },
     "output_type": "display_data"
    }
   ],
   "source": [
    "test_prediction = model.predict(X_test).flatten()\n",
    "a = plt.axes(aspect='equal')\n",
    "plt.scatter(y_test, test_prediction)\n",
    "plt.xlabel('True Vlaues [MPG]')\n",
    "plt.ylabel('Predictions [MPG]')\n",
    "lims= [0, 40]\n",
    "plt.xlim(lims)\n",
    "plt.ylim(lims)\n",
    "plt.plot(lims, lims)"
   ]
  },
  {
   "cell_type": "code",
   "execution_count": null,
   "id": "66196cae",
   "metadata": {},
   "outputs": [],
   "source": []
  },
  {
   "cell_type": "code",
   "execution_count": null,
   "id": "2db723d4",
   "metadata": {},
   "outputs": [],
   "source": []
  }
 ],
 "metadata": {
  "kernelspec": {
   "display_name": "Python 3",
   "language": "python",
   "name": "python3"
  },
  "language_info": {
   "codemirror_mode": {
    "name": "ipython",
    "version": 3
   },
   "file_extension": ".py",
   "mimetype": "text/x-python",
   "name": "python",
   "nbconvert_exporter": "python",
   "pygments_lexer": "ipython3",
   "version": "3.8.8"
  }
 },
 "nbformat": 4,
 "nbformat_minor": 5
}
