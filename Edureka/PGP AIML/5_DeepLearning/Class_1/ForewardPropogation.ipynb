{
 "cells": [
  {
   "cell_type": "code",
   "execution_count": 2,
   "id": "ff146587",
   "metadata": {},
   "outputs": [],
   "source": [
    "import numpy as np"
   ]
  },
  {
   "cell_type": "code",
   "execution_count": 3,
   "id": "16fc17af",
   "metadata": {},
   "outputs": [],
   "source": [
    "input_data = np.array([2,3])\n",
    "\n",
    "weights = {\n",
    "    'node_0': np.array([1,1]),\n",
    "    'node_1': np.array([-1,1]),\n",
    "    'output': np.array([2,-1])\n",
    "}"
   ]
  },
  {
   "cell_type": "code",
   "execution_count": 5,
   "id": "00f680a8",
   "metadata": {},
   "outputs": [],
   "source": [
    "# calculate the hidded node values \n",
    "\n",
    "node_0_value = (input_data * weights['node_0']).sum()\n",
    "node_1_value = (input_data * weights['node_1']).sum()"
   ]
  },
  {
   "cell_type": "code",
   "execution_count": 6,
   "id": "899acf65",
   "metadata": {},
   "outputs": [
    {
     "data": {
      "text/plain": [
       "9"
      ]
     },
     "execution_count": 6,
     "metadata": {},
     "output_type": "execute_result"
    }
   ],
   "source": [
    "# get the hidden layer array\n",
    "\n",
    "hidden_layer_array = np.array([node_0_value, node_1_value])\n",
    "\n",
    "output_value = (hidden_layer_array * weights['output']).sum()\n",
    "output_value"
   ]
  },
  {
   "cell_type": "code",
   "execution_count": 7,
   "id": "9cbd599b",
   "metadata": {},
   "outputs": [],
   "source": [
    "def relu(number):\n",
    "    return max(0, number)"
   ]
  },
  {
   "cell_type": "code",
   "execution_count": 8,
   "id": "343bd794",
   "metadata": {},
   "outputs": [
    {
     "name": "stdout",
     "output_type": "stream",
     "text": [
      "0\n",
      "100\n"
     ]
    }
   ],
   "source": [
    "print(relu(-100))\n",
    "print(relu(100))"
   ]
  },
  {
   "cell_type": "code",
   "execution_count": 10,
   "id": "77e14613",
   "metadata": {},
   "outputs": [
    {
     "name": "stdout",
     "output_type": "stream",
     "text": [
      "node_0\n",
      "node_1\n",
      "output\n"
     ]
    }
   ],
   "source": [
    "for weight in weights:\n",
    "    print(weight)"
   ]
  },
  {
   "cell_type": "code",
   "execution_count": 33,
   "id": "42e56ade",
   "metadata": {},
   "outputs": [],
   "source": [
    "def calculate_weights(input_data_row, weights):\n",
    "\n",
    "    weights_count = len(weights)\n",
    "\n",
    "    sum_weights = []\n",
    "\n",
    "    for data in input_data_row:\n",
    "        hidden_layer_values = []\n",
    "        counter=1\n",
    "        for weight in weights:\n",
    "            if counter < weights_count:\n",
    "                weighted_sum = (data * weights[weight]).sum()\n",
    "                relu_value = relu(weighted_sum)\n",
    "                hidden_layer_values.append(relu_value)\n",
    "                counter+=1\n",
    "            else:\n",
    "                break\n",
    "        weighted_sum = (np.array(hidden_layer_values) * weights['output']).sum()\n",
    "        sum_weights.append(relu(weighted_sum))\n",
    "\n",
    "    print(sum_weights)\n",
    "        "
   ]
  },
  {
   "cell_type": "code",
   "execution_count": 39,
   "id": "6821a5a4",
   "metadata": {},
   "outputs": [
    {
     "name": "stdout",
     "output_type": "stream",
     "text": [
      "[52, 0, 148]\n"
     ]
    }
   ],
   "source": [
    "input_data_row = np.array([[3,5], [0,0], [8,4]])\n",
    "\n",
    "weights = {\n",
    "    'node_0': np.array([2,4]),\n",
    "    'node_1': np.array([4,-5]),\n",
    "    'output': np.array([2,7])\n",
    "}\n",
    "\n",
    "calculate_weights(input_data_row, weights)"
   ]
  },
  {
   "cell_type": "code",
   "execution_count": 36,
   "id": "88359e88",
   "metadata": {},
   "outputs": [
    {
     "name": "stdout",
     "output_type": "stream",
     "text": [
      "[9]\n"
     ]
    }
   ],
   "source": [
    "input_data_row = np.array([[2,3]])\n",
    "\n",
    "weights = {\n",
    "    'node_0': np.array([1,1]),\n",
    "    'node_1': np.array([-1,1]),\n",
    "    'output': np.array([2,-1])\n",
    "}\n",
    "\n",
    "calculate_weights(input_data_row, weights)"
   ]
  },
  {
   "cell_type": "code",
   "execution_count": 40,
   "id": "5b653f2d",
   "metadata": {},
   "outputs": [
    {
     "name": "stdout",
     "output_type": "stream",
     "text": [
      "[52]\n"
     ]
    }
   ],
   "source": [
    "input_data_row = np.array([[3,5]])\n",
    "\n",
    "weights = {\n",
    "    'node_0': np.array([2,4]),\n",
    "    'node_1': np.array([4,-5]),\n",
    "    'output': np.array([2,7])\n",
    "}\n",
    "\n",
    "calculate_weights(input_data_row, weights)"
   ]
  },
  {
   "cell_type": "markdown",
   "id": "bdc65d40",
   "metadata": {},
   "source": [
    "Gradient Descent and Back Propogation"
   ]
  },
  {
   "cell_type": "code",
   "execution_count": 51,
   "id": "9b331cf4",
   "metadata": {},
   "outputs": [],
   "source": [
    "weights = np.array([1,2])\n",
    "input_data = np.array([3,4])\n",
    "\n",
    "target = 6\n",
    "learning_rate = 0.01\n"
   ]
  },
  {
   "cell_type": "code",
   "execution_count": 52,
   "id": "32218d34",
   "metadata": {},
   "outputs": [],
   "source": [
    "# function to get the slope \n",
    "\n",
    "def get_slope(input_data, target, weights):\n",
    "    preds = (weights*input_data).sum()\n",
    "    error = preds - target\n",
    "    slope = 2*input_data*error\n",
    "    return slope"
   ]
  },
  {
   "cell_type": "code",
   "execution_count": 53,
   "id": "aa190062",
   "metadata": {},
   "outputs": [],
   "source": [
    "# function to get mse\n",
    "\n",
    "def get_mse(input_data, target, weights):\n",
    "    preds = (weights*input_data).sum()\n",
    "    error = preds - target\n",
    "    sse = (error**2).sum()\n",
    "    mse = sse/len(input_data)\n",
    "    return mse"
   ]
  },
  {
   "cell_type": "code",
   "execution_count": 54,
   "id": "52e693d8",
   "metadata": {},
   "outputs": [
    {
     "data": {
      "image/png": "[encoded data removed]",
      "text/plain": [
       "<Figure size 432x288 with 1 Axes>"
      ]
     },
     "metadata": {
      "needs_background": "light"
     },
     "output_type": "display_data"
    }
   ],
   "source": [
    "n_update = 20\n",
    "mse_hist=[]\n",
    "\n",
    "# iterate over the number of updates\n",
    "for i in range(n_update):\n",
    "    slope = get_slope(input_data, target, weights)\n",
    "    weights = weights - 0.01 * slope\n",
    "    mse = get_mse(input_data, target, weights)\n",
    "    mse_hist.append(mse)\n",
    "    \n",
    "# plot mse history \n",
    "import matplotlib.pyplot as plt\n",
    "\n",
    "plt.plot(mse_hist)\n",
    "plt.xlabel('iterations')\n",
    "plt.ylabel('MSE')\n",
    "\n",
    "plt.show()"
   ]
  },
  {
   "cell_type": "code",
   "execution_count": null,
   "id": "d195e9ea",
   "metadata": {},
   "outputs": [],
   "source": []
  }
 ],
 "metadata": {
  "kernelspec": {
   "display_name": "Python 3",
   "language": "python",
   "name": "python3"
  },
  "language_info": {
   "codemirror_mode": {
    "name": "ipython",
    "version": 3
   },
   "file_extension": ".py",
   "mimetype": "text/x-python",
   "name": "python",
   "nbconvert_exporter": "python",
   "pygments_lexer": "ipython3",
   "version": "3.8.8"
  }
 },
 "nbformat": 4,
 "nbformat_minor": 5
}
