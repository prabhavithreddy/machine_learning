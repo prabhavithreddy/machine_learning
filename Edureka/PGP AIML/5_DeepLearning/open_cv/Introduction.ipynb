{
 "cells": [
  {
   "cell_type": "code",
   "execution_count": 18,
   "id": "f6e6f759",
   "metadata": {},
   "outputs": [],
   "source": [
    "import matplotlib.pyplot as plt"
   ]
  },
  {
   "cell_type": "markdown",
   "id": "03a519ec",
   "metadata": {},
   "source": [
    "### Reading an image"
   ]
  },
  {
   "cell_type": "code",
   "execution_count": 4,
   "id": "9b81783f",
   "metadata": {},
   "outputs": [],
   "source": [
    "# Importing the OpevCV library\n",
    "import cv2"
   ]
  },
  {
   "cell_type": "code",
   "execution_count": 6,
   "id": "614e13ed",
   "metadata": {},
   "outputs": [
    {
     "name": "stdout",
     "output_type": "stream",
     "text": [
      "Height = 1603, Width = 2400\n"
     ]
    }
   ],
   "source": [
    "# Reading the image using imread() function\n",
    "image = cv2.imread('road.jpg')\n",
    "\n",
    "# Extracting the height and width of an image\n",
    "h,w = image.shape[:2]\n",
    "# Displaying the height and width\n",
    "print(f\"Height = {h}, Width = {w}\")"
   ]
  },
  {
   "cell_type": "code",
   "execution_count": 33,
   "id": "089bcf82",
   "metadata": {},
   "outputs": [],
   "source": [
    "def show_image(name):\n",
    "    image = cv2.imread(name)\n",
    "    cv2.imshow('name', image)\n",
    "    cv2.waitKey(0)\n",
    "    cv2.destroyAllWindows()"
   ]
  },
  {
   "cell_type": "markdown",
   "id": "093919a8",
   "metadata": {},
   "source": [
    "### Extracting the RGB values of a pixel"
   ]
  },
  {
   "cell_type": "code",
   "execution_count": 16,
   "id": "a87e4d52",
   "metadata": {},
   "outputs": [
    {
     "name": "stdout",
     "output_type": "stream",
     "text": [
      "R = 211, G = 172, B = 165\n",
      "B = 165\n"
     ]
    }
   ],
   "source": [
    "# Extracting RGB values\n",
    "# Here we have randomly chosen a pixel\n",
    "# by passing in 100, 100 for height and width.\n",
    "\n",
    "(B, G, R) = image[100, 100]\n",
    "\n",
    "# Displaying the pixel values\n",
    "print(f\"R = {R}, G = {G}, B = {B}\")\n",
    "\n",
    "# We can also pass the channel to extract\n",
    "# the value for a specific channel\n",
    "B = image[100,100,0]\n",
    "print(f\"B = {B}\")"
   ]
  },
  {
   "cell_type": "markdown",
   "id": "54b1508c",
   "metadata": {},
   "source": [
    "### Extracting the Region of Interest (ROI)"
   ]
  },
  {
   "cell_type": "code",
   "execution_count": 20,
   "id": "aac2b2d4",
   "metadata": {},
   "outputs": [],
   "source": [
    "# We will calculate the region of interest\n",
    "# by slicing the pixels of the image\n",
    "\n",
    "roi = image[100:500, 200:700]\n",
    "cv2.imwrite('roi.jpg', roi)"
   ]
  },
  {
   "cell_type": "markdown",
   "id": "ef70f008",
   "metadata": {},
   "source": [
    "### Resizing the Image"
   ]
  },
  {
   "cell_type": "code",
   "execution_count": 35,
   "id": "d23cb5c2",
   "metadata": {},
   "outputs": [
    {
     "data": {
      "text/plain": [
       "True"
      ]
     },
     "execution_count": 35,
     "metadata": {},
     "output_type": "execute_result"
    }
   ],
   "source": [
    "# resize() function takes 2 parameters,\n",
    "# the image and the dimensions\n",
    "resize = cv2.resize(image, (800, 800))\n",
    "cv2.imwrite('resize.jpg', resize)"
   ]
  },
  {
   "cell_type": "code",
   "execution_count": 36,
   "id": "5b0103ed",
   "metadata": {},
   "outputs": [
    {
     "data": {
      "text/plain": [
       "True"
      ]
     },
     "execution_count": 36,
     "metadata": {},
     "output_type": "execute_result"
    }
   ],
   "source": [
    "# Calculating the ratio\n",
    "ratio = 800 / w\n",
    "\n",
    "# Creating a tuple containing width and height\n",
    "dim = (800, int(h * ratio))\n",
    "\n",
    "# Resizing the image\n",
    "resize_aspect = cv2.resize(image, dim)\n",
    "cv2.imwrite('resize_aspect.jpg', resize_aspect)"
   ]
  },
  {
   "cell_type": "markdown",
   "id": "9dc8ae82",
   "metadata": {},
   "source": [
    "### Rotating the Image"
   ]
  },
  {
   "cell_type": "code",
   "execution_count": 37,
   "id": "624f3fae",
   "metadata": {},
   "outputs": [
    {
     "data": {
      "text/plain": [
       "True"
      ]
     },
     "execution_count": 37,
     "metadata": {},
     "output_type": "execute_result"
    }
   ],
   "source": [
    "# Calculating the center of the image\n",
    "center = (w // 2, h // 2)\n",
    "\n",
    "# Generating a rotation matrix\n",
    "matrix = cv2.getRotationMatrix2D(center, -45, 1.0)\n",
    "\n",
    "# Performing the affine transformation\n",
    "rotated = cv2.warpAffine(image, matrix, (w,h))\n",
    "\n",
    "cv2.imwrite('rotated.jpg', rotated)"
   ]
  },
  {
   "cell_type": "markdown",
   "id": "2c378357",
   "metadata": {},
   "source": [
    "### Drawing a Rectangle"
   ]
  },
  {
   "cell_type": "code",
   "execution_count": 39,
   "id": "d63565cf",
   "metadata": {},
   "outputs": [
    {
     "data": {
      "text/plain": [
       "True"
      ]
     },
     "execution_count": 39,
     "metadata": {},
     "output_type": "execute_result"
    }
   ],
   "source": [
    "# We are copying the original image,\n",
    "# as it is an in-place operation.\n",
    "output = image.copy()\n",
    "\n",
    "# Using the rectangle() function to create a rectangle.\n",
    "rectangle = cv2.rectangle(output, (1500, 900), (600, 400), (255, 0, 0), 2)\n",
    "\n",
    "cv2.imwrite('rectangle.jpg', rectangle)"
   ]
  },
  {
   "cell_type": "markdown",
   "id": "5b967cd8",
   "metadata": {},
   "source": [
    "### Displaying text"
   ]
  },
  {
   "cell_type": "code",
   "execution_count": 40,
   "id": "4f2827ac",
   "metadata": {},
   "outputs": [
    {
     "data": {
      "text/plain": [
       "True"
      ]
     },
     "execution_count": 40,
     "metadata": {},
     "output_type": "execute_result"
    }
   ],
   "source": [
    "# Copying the original image\n",
    "\n",
    "output = image.copy()\n",
    "\n",
    "# Adding the text using putText() function\n",
    "text = cv2.putText(output, 'OpenCV Demo', (500, 550), cv2.FONT_HERSHEY_SIMPLEX, 4, (0,0,255), 2)\n",
    "\n",
    "cv2.imwrite('text.jpg', text)"
   ]
  },
  {
   "cell_type": "code",
   "execution_count": null,
   "id": "5192ea24",
   "metadata": {},
   "outputs": [],
   "source": []
  }
 ],
 "metadata": {
  "kernelspec": {
   "display_name": "Python 3",
   "language": "python",
   "name": "python3"
  },
  "language_info": {
   "codemirror_mode": {
    "name": "ipython",
    "version": 3
   },
   "file_extension": ".py",
   "mimetype": "text/x-python",
   "name": "python",
   "nbconvert_exporter": "python",
   "pygments_lexer": "ipython3",
   "version": "3.8.8"
  }
 },
 "nbformat": 4,
 "nbformat_minor": 5
}
