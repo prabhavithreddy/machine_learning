{
 "cells": [
  {
   "cell_type": "code",
   "execution_count": 2,
   "id": "48aa9535",
   "metadata": {},
   "outputs": [],
   "source": [
    "import tensorflow as tf\n",
    "from tensorflow import keras\n",
    "from tensorflow.keras import layers"
   ]
  },
  {
   "cell_type": "code",
   "execution_count": 3,
   "id": "dfc0e93a",
   "metadata": {},
   "outputs": [
    {
     "name": "stdout",
     "output_type": "stream",
     "text": [
      "2.6.0\n"
     ]
    }
   ],
   "source": [
    "# Check tf.keras version\n",
    "print(tf.keras.__version__)"
   ]
  },
  {
   "cell_type": "code",
   "execution_count": 38,
   "id": "d958d1c7",
   "metadata": {},
   "outputs": [],
   "source": [
    "# Loading and splitting data into train and test\n",
    "mnist = keras.datasets.mnist"
   ]
  },
  {
   "cell_type": "code",
   "execution_count": 39,
   "id": "780c623f",
   "metadata": {},
   "outputs": [],
   "source": [
    "(X_train, Y_train), (X_test, Y_test) = mnist.load_data()"
   ]
  },
  {
   "cell_type": "code",
   "execution_count": 40,
   "id": "33670fb5",
   "metadata": {},
   "outputs": [
    {
     "name": "stdout",
     "output_type": "stream",
     "text": [
      "(60000, 28, 28)\n"
     ]
    }
   ],
   "source": [
    "print(X_train.shape)"
   ]
  },
  {
   "cell_type": "code",
   "execution_count": 41,
   "id": "a6f1bcf7",
   "metadata": {},
   "outputs": [
    {
     "name": "stdout",
     "output_type": "stream",
     "text": [
      "(10000, 28, 28)\n"
     ]
    }
   ],
   "source": [
    "print(X_test.shape)"
   ]
  },
  {
   "cell_type": "code",
   "execution_count": 42,
   "id": "9a30e902",
   "metadata": {
    "scrolled": true
   },
   "outputs": [],
   "source": [
    "X_train = X_train.reshape(60000, 784)\n",
    "X_test = X_test.reshape(10000, 784)"
   ]
  },
  {
   "cell_type": "code",
   "execution_count": 43,
   "id": "9fe64e27",
   "metadata": {},
   "outputs": [],
   "source": [
    "X_train = X_train.astype('float32')\n",
    "X_test = X_test.astype('float32')"
   ]
  },
  {
   "cell_type": "code",
   "execution_count": 44,
   "id": "38409013",
   "metadata": {},
   "outputs": [],
   "source": [
    "X_train /= 255\n",
    "X_test /= 255"
   ]
  },
  {
   "cell_type": "code",
   "execution_count": 45,
   "id": "a3ab86ce",
   "metadata": {},
   "outputs": [],
   "source": [
    "Y_train = tf.keras.utils.to_categorical(Y_train, 10)\n",
    "Y_test = tf.keras.utils.to_categorical(Y_test, 10)"
   ]
  },
  {
   "cell_type": "code",
   "execution_count": 48,
   "id": "ec77c856",
   "metadata": {},
   "outputs": [],
   "source": [
    "input_shape = [X_train.shape[1]]\n",
    "model = keras.Sequential([\n",
    "    layers.Dense(units=128, activation='relu', input_shape=input_shape),\n",
    "    layers.Dense(units=128, activation='relu'),\n",
    "    layers.Dense(units=10, activation='softmax')\n",
    "])"
   ]
  },
  {
   "cell_type": "code",
   "execution_count": 51,
   "id": "5f93016a",
   "metadata": {},
   "outputs": [],
   "source": [
    "model.compile(optimizer='SGD', loss='categorical_crossentropy', metrics=['accuracy'])"
   ]
  },
  {
   "cell_type": "code",
   "execution_count": 52,
   "id": "5acc4961",
   "metadata": {},
   "outputs": [
    {
     "name": "stdout",
     "output_type": "stream",
     "text": [
      "Epoch 1/200\n",
      "375/375 [==============================] - 2s 4ms/step - loss: 1.4730 - accuracy: 0.6256 - val_loss: 0.7544 - val_accuracy: 0.8278\n",
      "Epoch 2/200\n",
      "375/375 [==============================] - 1s 3ms/step - loss: 0.6026 - accuracy: 0.8471 - val_loss: 0.4552 - val_accuracy: 0.8832\n",
      "Epoch 3/200\n",
      "375/375 [==============================] - 1s 3ms/step - loss: 0.4396 - accuracy: 0.8809 - val_loss: 0.3757 - val_accuracy: 0.8982\n",
      "Epoch 4/200\n",
      "375/375 [==============================] - 1s 3ms/step - loss: 0.3798 - accuracy: 0.8937 - val_loss: 0.3381 - val_accuracy: 0.9058\n",
      "Epoch 5/200\n",
      "375/375 [==============================] - 1s 2ms/step - loss: 0.3466 - accuracy: 0.9021 - val_loss: 0.3145 - val_accuracy: 0.9110\n",
      "Epoch 6/200\n",
      "375/375 [==============================] - 1s 3ms/step - loss: 0.3237 - accuracy: 0.9082 - val_loss: 0.2969 - val_accuracy: 0.9151\n",
      "Epoch 7/200\n",
      "375/375 [==============================] - 1s 2ms/step - loss: 0.3064 - accuracy: 0.9127 - val_loss: 0.2836 - val_accuracy: 0.9178\n",
      "Epoch 8/200\n",
      "375/375 [==============================] - 1s 3ms/step - loss: 0.2914 - accuracy: 0.9179 - val_loss: 0.2717 - val_accuracy: 0.9223\n",
      "Epoch 9/200\n",
      "375/375 [==============================] - 1s 3ms/step - loss: 0.2788 - accuracy: 0.9205 - val_loss: 0.2611 - val_accuracy: 0.9249\n",
      "Epoch 10/200\n",
      "375/375 [==============================] - 1s 3ms/step - loss: 0.2672 - accuracy: 0.9236 - val_loss: 0.2533 - val_accuracy: 0.9271\n",
      "Epoch 11/200\n",
      "375/375 [==============================] - 1s 3ms/step - loss: 0.2570 - accuracy: 0.9270 - val_loss: 0.2442 - val_accuracy: 0.9287\n",
      "Epoch 12/200\n",
      "375/375 [==============================] - 1s 3ms/step - loss: 0.2477 - accuracy: 0.9293 - val_loss: 0.2369 - val_accuracy: 0.9319\n",
      "Epoch 13/200\n",
      "375/375 [==============================] - 1s 4ms/step - loss: 0.2390 - accuracy: 0.9317 - val_loss: 0.2293 - val_accuracy: 0.9344\n",
      "Epoch 14/200\n",
      "375/375 [==============================] - 1s 3ms/step - loss: 0.2309 - accuracy: 0.9347 - val_loss: 0.2232 - val_accuracy: 0.9362\n",
      "Epoch 15/200\n",
      "375/375 [==============================] - 1s 3ms/step - loss: 0.2235 - accuracy: 0.9358 - val_loss: 0.2163 - val_accuracy: 0.9384\n",
      "Epoch 16/200\n",
      "375/375 [==============================] - 1s 3ms/step - loss: 0.2164 - accuracy: 0.9379 - val_loss: 0.2117 - val_accuracy: 0.9401\n",
      "Epoch 17/200\n",
      "375/375 [==============================] - 1s 3ms/step - loss: 0.2097 - accuracy: 0.9397 - val_loss: 0.2061 - val_accuracy: 0.9413\n",
      "Epoch 18/200\n",
      "375/375 [==============================] - 1s 3ms/step - loss: 0.2033 - accuracy: 0.9413 - val_loss: 0.2020 - val_accuracy: 0.9430\n",
      "Epoch 19/200\n",
      "375/375 [==============================] - 1s 3ms/step - loss: 0.1979 - accuracy: 0.9426 - val_loss: 0.1958 - val_accuracy: 0.9449\n",
      "Epoch 20/200\n",
      "375/375 [==============================] - 1s 3ms/step - loss: 0.1922 - accuracy: 0.9446 - val_loss: 0.1931 - val_accuracy: 0.9458\n",
      "Epoch 21/200\n",
      "375/375 [==============================] - 1s 4ms/step - loss: 0.1869 - accuracy: 0.9458 - val_loss: 0.1872 - val_accuracy: 0.9474\n",
      "Epoch 22/200\n",
      "375/375 [==============================] - 1s 4ms/step - loss: 0.1820 - accuracy: 0.9477 - val_loss: 0.1846 - val_accuracy: 0.9471\n",
      "Epoch 23/200\n",
      "375/375 [==============================] - 2s 4ms/step - loss: 0.1776 - accuracy: 0.9486 - val_loss: 0.1806 - val_accuracy: 0.9495\n",
      "Epoch 24/200\n",
      "375/375 [==============================] - 2s 4ms/step - loss: 0.1730 - accuracy: 0.9498 - val_loss: 0.1766 - val_accuracy: 0.9513\n",
      "Epoch 25/200\n",
      "375/375 [==============================] - 1s 4ms/step - loss: 0.1685 - accuracy: 0.9517 - val_loss: 0.1750 - val_accuracy: 0.9512\n",
      "Epoch 26/200\n",
      "375/375 [==============================] - 2s 4ms/step - loss: 0.1644 - accuracy: 0.9521 - val_loss: 0.1704 - val_accuracy: 0.9524\n",
      "Epoch 27/200\n",
      "375/375 [==============================] - 1s 4ms/step - loss: 0.1607 - accuracy: 0.9539 - val_loss: 0.1678 - val_accuracy: 0.9528\n",
      "Epoch 28/200\n",
      "375/375 [==============================] - 1s 3ms/step - loss: 0.1572 - accuracy: 0.9548 - val_loss: 0.1645 - val_accuracy: 0.9545\n",
      "Epoch 29/200\n",
      "375/375 [==============================] - 1s 3ms/step - loss: 0.1535 - accuracy: 0.9560 - val_loss: 0.1621 - val_accuracy: 0.9542\n",
      "Epoch 30/200\n",
      "375/375 [==============================] - 1s 3ms/step - loss: 0.1502 - accuracy: 0.9568 - val_loss: 0.1598 - val_accuracy: 0.9552\n",
      "Epoch 31/200\n",
      "375/375 [==============================] - 1s 3ms/step - loss: 0.1470 - accuracy: 0.9579 - val_loss: 0.1575 - val_accuracy: 0.9557\n",
      "Epoch 32/200\n",
      "375/375 [==============================] - 1s 3ms/step - loss: 0.1437 - accuracy: 0.9585 - val_loss: 0.1546 - val_accuracy: 0.9576\n",
      "Epoch 33/200\n",
      "375/375 [==============================] - 1s 3ms/step - loss: 0.1407 - accuracy: 0.9595 - val_loss: 0.1526 - val_accuracy: 0.9581\n",
      "Epoch 34/200\n",
      "375/375 [==============================] - 1s 3ms/step - loss: 0.1379 - accuracy: 0.9605 - val_loss: 0.1500 - val_accuracy: 0.9582\n",
      "Epoch 35/200\n",
      "375/375 [==============================] - 1s 3ms/step - loss: 0.1350 - accuracy: 0.9609 - val_loss: 0.1481 - val_accuracy: 0.9584\n",
      "Epoch 36/200\n",
      "375/375 [==============================] - 1s 3ms/step - loss: 0.1324 - accuracy: 0.9622 - val_loss: 0.1466 - val_accuracy: 0.9588\n",
      "Epoch 37/200\n",
      "375/375 [==============================] - 1s 3ms/step - loss: 0.1298 - accuracy: 0.9624 - val_loss: 0.1441 - val_accuracy: 0.9593\n",
      "Epoch 38/200\n",
      "375/375 [==============================] - 1s 3ms/step - loss: 0.1272 - accuracy: 0.9636 - val_loss: 0.1422 - val_accuracy: 0.9601\n",
      "Epoch 39/200\n",
      "375/375 [==============================] - 1s 3ms/step - loss: 0.1245 - accuracy: 0.9641 - val_loss: 0.1410 - val_accuracy: 0.9598\n",
      "Epoch 40/200\n",
      "375/375 [==============================] - 1s 3ms/step - loss: 0.1223 - accuracy: 0.9651 - val_loss: 0.1389 - val_accuracy: 0.9608\n",
      "Epoch 41/200\n",
      "375/375 [==============================] - 1s 3ms/step - loss: 0.1199 - accuracy: 0.9657 - val_loss: 0.1384 - val_accuracy: 0.9607\n",
      "Epoch 42/200\n",
      "375/375 [==============================] - 1s 3ms/step - loss: 0.1178 - accuracy: 0.9663 - val_loss: 0.1358 - val_accuracy: 0.9607\n",
      "Epoch 43/200\n",
      "375/375 [==============================] - 1s 3ms/step - loss: 0.1156 - accuracy: 0.9669 - val_loss: 0.1351 - val_accuracy: 0.9622\n",
      "Epoch 44/200\n",
      "375/375 [==============================] - 1s 3ms/step - loss: 0.1137 - accuracy: 0.9680 - val_loss: 0.1328 - val_accuracy: 0.9629\n",
      "Epoch 45/200\n",
      "375/375 [==============================] - 1s 3ms/step - loss: 0.1115 - accuracy: 0.9687 - val_loss: 0.1319 - val_accuracy: 0.9632\n",
      "Epoch 46/200\n",
      "375/375 [==============================] - 1s 3ms/step - loss: 0.1094 - accuracy: 0.9688 - val_loss: 0.1302 - val_accuracy: 0.9628\n",
      "Epoch 47/200\n",
      "375/375 [==============================] - 1s 3ms/step - loss: 0.1077 - accuracy: 0.9699 - val_loss: 0.1302 - val_accuracy: 0.9628\n",
      "Epoch 48/200\n",
      "375/375 [==============================] - 1s 3ms/step - loss: 0.1059 - accuracy: 0.9704 - val_loss: 0.1276 - val_accuracy: 0.9638\n",
      "Epoch 49/200\n",
      "375/375 [==============================] - 1s 3ms/step - loss: 0.1041 - accuracy: 0.9710 - val_loss: 0.1268 - val_accuracy: 0.9638\n",
      "Epoch 50/200\n",
      "375/375 [==============================] - 1s 3ms/step - loss: 0.1023 - accuracy: 0.9714 - val_loss: 0.1254 - val_accuracy: 0.9644\n",
      "Epoch 51/200\n",
      "375/375 [==============================] - 2s 4ms/step - loss: 0.1006 - accuracy: 0.9716 - val_loss: 0.1247 - val_accuracy: 0.9653\n",
      "Epoch 52/200\n",
      "375/375 [==============================] - 1s 4ms/step - loss: 0.0989 - accuracy: 0.9725 - val_loss: 0.1230 - val_accuracy: 0.9643\n",
      "Epoch 53/200\n",
      "375/375 [==============================] - 1s 4ms/step - loss: 0.0972 - accuracy: 0.9725 - val_loss: 0.1219 - val_accuracy: 0.9656\n",
      "Epoch 54/200\n",
      "375/375 [==============================] - 1s 4ms/step - loss: 0.0958 - accuracy: 0.9735 - val_loss: 0.1216 - val_accuracy: 0.9657\n",
      "Epoch 55/200\n",
      "375/375 [==============================] - 1s 3ms/step - loss: 0.0942 - accuracy: 0.9739 - val_loss: 0.1200 - val_accuracy: 0.9654\n",
      "Epoch 56/200\n",
      "375/375 [==============================] - 1s 3ms/step - loss: 0.0927 - accuracy: 0.9743 - val_loss: 0.1201 - val_accuracy: 0.9655\n",
      "Epoch 57/200\n",
      "375/375 [==============================] - 1s 3ms/step - loss: 0.0914 - accuracy: 0.9745 - val_loss: 0.1196 - val_accuracy: 0.9648\n"
     ]
    },
    {
     "name": "stdout",
     "output_type": "stream",
     "text": [
      "Epoch 58/200\n",
      "375/375 [==============================] - 1s 3ms/step - loss: 0.0901 - accuracy: 0.9747 - val_loss: 0.1178 - val_accuracy: 0.9657\n",
      "Epoch 59/200\n",
      "375/375 [==============================] - 1s 3ms/step - loss: 0.0886 - accuracy: 0.9754 - val_loss: 0.1165 - val_accuracy: 0.9657\n",
      "Epoch 60/200\n",
      "375/375 [==============================] - 1s 3ms/step - loss: 0.0872 - accuracy: 0.9756 - val_loss: 0.1156 - val_accuracy: 0.9666\n",
      "Epoch 61/200\n",
      "375/375 [==============================] - 1s 4ms/step - loss: 0.0858 - accuracy: 0.9765 - val_loss: 0.1149 - val_accuracy: 0.9667\n",
      "Epoch 62/200\n",
      "375/375 [==============================] - 2s 5ms/step - loss: 0.0846 - accuracy: 0.9761 - val_loss: 0.1140 - val_accuracy: 0.9659\n",
      "Epoch 63/200\n",
      "375/375 [==============================] - 2s 5ms/step - loss: 0.0834 - accuracy: 0.9768 - val_loss: 0.1132 - val_accuracy: 0.9676\n",
      "Epoch 64/200\n",
      "375/375 [==============================] - 2s 5ms/step - loss: 0.0821 - accuracy: 0.9772 - val_loss: 0.1119 - val_accuracy: 0.9669\n",
      "Epoch 65/200\n",
      "375/375 [==============================] - 2s 5ms/step - loss: 0.0807 - accuracy: 0.9779 - val_loss: 0.1122 - val_accuracy: 0.9662\n",
      "Epoch 66/200\n",
      "375/375 [==============================] - 2s 4ms/step - loss: 0.0797 - accuracy: 0.9778 - val_loss: 0.1106 - val_accuracy: 0.9675\n",
      "Epoch 67/200\n",
      "375/375 [==============================] - 2s 6ms/step - loss: 0.0784 - accuracy: 0.9787 - val_loss: 0.1103 - val_accuracy: 0.9670\n",
      "Epoch 68/200\n",
      "375/375 [==============================] - 2s 4ms/step - loss: 0.0773 - accuracy: 0.9786 - val_loss: 0.1100 - val_accuracy: 0.9681\n",
      "Epoch 69/200\n",
      "375/375 [==============================] - 1s 4ms/step - loss: 0.0762 - accuracy: 0.9792 - val_loss: 0.1098 - val_accuracy: 0.9678\n",
      "Epoch 70/200\n",
      "375/375 [==============================] - 1s 4ms/step - loss: 0.0752 - accuracy: 0.9793 - val_loss: 0.1093 - val_accuracy: 0.9678\n",
      "Epoch 71/200\n",
      "375/375 [==============================] - 1s 4ms/step - loss: 0.0741 - accuracy: 0.9795 - val_loss: 0.1072 - val_accuracy: 0.9686\n",
      "Epoch 72/200\n",
      "375/375 [==============================] - 1s 4ms/step - loss: 0.0731 - accuracy: 0.9796 - val_loss: 0.1078 - val_accuracy: 0.9688oss: 0.0733 - accuracy: 0.\n",
      "Epoch 73/200\n",
      "375/375 [==============================] - 2s 4ms/step - loss: 0.0719 - accuracy: 0.9801 - val_loss: 0.1071 - val_accuracy: 0.9687\n",
      "Epoch 74/200\n",
      "375/375 [==============================] - 1s 3ms/step - loss: 0.0711 - accuracy: 0.9805 - val_loss: 0.1057 - val_accuracy: 0.9691\n",
      "Epoch 75/200\n",
      "375/375 [==============================] - 1s 4ms/step - loss: 0.0701 - accuracy: 0.9809 - val_loss: 0.1057 - val_accuracy: 0.9690\n",
      "Epoch 76/200\n",
      "375/375 [==============================] - 1s 3ms/step - loss: 0.0691 - accuracy: 0.9813 - val_loss: 0.1056 - val_accuracy: 0.9693\n",
      "Epoch 77/200\n",
      "375/375 [==============================] - 1s 4ms/step - loss: 0.0681 - accuracy: 0.9817 - val_loss: 0.1046 - val_accuracy: 0.9696\n",
      "Epoch 78/200\n",
      "375/375 [==============================] - 1s 3ms/step - loss: 0.0672 - accuracy: 0.9818 - val_loss: 0.1044 - val_accuracy: 0.9699\n",
      "Epoch 79/200\n",
      "375/375 [==============================] - 1s 4ms/step - loss: 0.0663 - accuracy: 0.9819 - val_loss: 0.1042 - val_accuracy: 0.9695\n",
      "Epoch 80/200\n",
      "375/375 [==============================] - 1s 4ms/step - loss: 0.0653 - accuracy: 0.9822 - val_loss: 0.1028 - val_accuracy: 0.9701\n",
      "Epoch 81/200\n",
      "375/375 [==============================] - 1s 3ms/step - loss: 0.0644 - accuracy: 0.9825 - val_loss: 0.1029 - val_accuracy: 0.9693\n",
      "Epoch 82/200\n",
      "375/375 [==============================] - 1s 3ms/step - loss: 0.0636 - accuracy: 0.9828 - val_loss: 0.1027 - val_accuracy: 0.9694\n",
      "Epoch 83/200\n",
      "375/375 [==============================] - 1s 3ms/step - loss: 0.0629 - accuracy: 0.9829 - val_loss: 0.1015 - val_accuracy: 0.9701\n",
      "Epoch 84/200\n",
      "375/375 [==============================] - 1s 3ms/step - loss: 0.0620 - accuracy: 0.9836 - val_loss: 0.1016 - val_accuracy: 0.9701\n",
      "Epoch 85/200\n",
      "375/375 [==============================] - 1s 3ms/step - loss: 0.0612 - accuracy: 0.9835 - val_loss: 0.1010 - val_accuracy: 0.9696\n",
      "Epoch 86/200\n",
      "375/375 [==============================] - 1s 3ms/step - loss: 0.0604 - accuracy: 0.9838 - val_loss: 0.1005 - val_accuracy: 0.9702\n",
      "Epoch 87/200\n",
      "375/375 [==============================] - 1s 3ms/step - loss: 0.0596 - accuracy: 0.9841 - val_loss: 0.1002 - val_accuracy: 0.9698\n",
      "Epoch 88/200\n",
      "375/375 [==============================] - 1s 3ms/step - loss: 0.0587 - accuracy: 0.9841 - val_loss: 0.1006 - val_accuracy: 0.9704\n",
      "Epoch 89/200\n",
      "375/375 [==============================] - 1s 3ms/step - loss: 0.0579 - accuracy: 0.9845 - val_loss: 0.0991 - val_accuracy: 0.9703\n",
      "Epoch 90/200\n",
      "375/375 [==============================] - 1s 3ms/step - loss: 0.0573 - accuracy: 0.9847 - val_loss: 0.0994 - val_accuracy: 0.9707\n",
      "Epoch 91/200\n",
      "375/375 [==============================] - 1s 3ms/step - loss: 0.0566 - accuracy: 0.9849 - val_loss: 0.0987 - val_accuracy: 0.9708\n",
      "Epoch 92/200\n",
      "375/375 [==============================] - 1s 3ms/step - loss: 0.0559 - accuracy: 0.9854 - val_loss: 0.0981 - val_accuracy: 0.9708\n",
      "Epoch 93/200\n",
      "375/375 [==============================] - 1s 3ms/step - loss: 0.0552 - accuracy: 0.9852 - val_loss: 0.0981 - val_accuracy: 0.9707\n",
      "Epoch 94/200\n",
      "375/375 [==============================] - 1s 3ms/step - loss: 0.0544 - accuracy: 0.9855 - val_loss: 0.0979 - val_accuracy: 0.9714\n",
      "Epoch 95/200\n",
      "375/375 [==============================] - 1s 3ms/step - loss: 0.0537 - accuracy: 0.9858 - val_loss: 0.0978 - val_accuracy: 0.9709\n",
      "Epoch 96/200\n",
      "375/375 [==============================] - 1s 3ms/step - loss: 0.0531 - accuracy: 0.9859 - val_loss: 0.0966 - val_accuracy: 0.9709\n",
      "Epoch 97/200\n",
      "375/375 [==============================] - 1s 3ms/step - loss: 0.0523 - accuracy: 0.9862 - val_loss: 0.0964 - val_accuracy: 0.9717\n",
      "Epoch 98/200\n",
      "375/375 [==============================] - 1s 3ms/step - loss: 0.0517 - accuracy: 0.9867 - val_loss: 0.0969 - val_accuracy: 0.9714\n",
      "Epoch 99/200\n",
      "375/375 [==============================] - 1s 3ms/step - loss: 0.0510 - accuracy: 0.9864 - val_loss: 0.0962 - val_accuracy: 0.9721\n",
      "Epoch 100/200\n",
      "375/375 [==============================] - 1s 3ms/step - loss: 0.0504 - accuracy: 0.9868 - val_loss: 0.0961 - val_accuracy: 0.9717\n",
      "Epoch 101/200\n",
      "375/375 [==============================] - 1s 3ms/step - loss: 0.0497 - accuracy: 0.9874 - val_loss: 0.0958 - val_accuracy: 0.9714\n",
      "Epoch 102/200\n",
      "375/375 [==============================] - 1s 3ms/step - loss: 0.0490 - accuracy: 0.9877 - val_loss: 0.0959 - val_accuracy: 0.9717\n",
      "Epoch 103/200\n",
      "375/375 [==============================] - 1s 3ms/step - loss: 0.0485 - accuracy: 0.9875 - val_loss: 0.0949 - val_accuracy: 0.9715\n",
      "Epoch 104/200\n",
      "375/375 [==============================] - 1s 3ms/step - loss: 0.0479 - accuracy: 0.9876 - val_loss: 0.0954 - val_accuracy: 0.9711\n",
      "Epoch 105/200\n",
      "375/375 [==============================] - 1s 3ms/step - loss: 0.0473 - accuracy: 0.9878 - val_loss: 0.0943 - val_accuracy: 0.9718\n",
      "Epoch 106/200\n",
      "375/375 [==============================] - 1s 3ms/step - loss: 0.0468 - accuracy: 0.9882 - val_loss: 0.0946 - val_accuracy: 0.9718\n",
      "Epoch 107/200\n",
      "375/375 [==============================] - 1s 3ms/step - loss: 0.0461 - accuracy: 0.9883 - val_loss: 0.0955 - val_accuracy: 0.9716\n",
      "Epoch 108/200\n",
      "375/375 [==============================] - 1s 3ms/step - loss: 0.0456 - accuracy: 0.9886 - val_loss: 0.0937 - val_accuracy: 0.9716\n",
      "Epoch 109/200\n",
      "375/375 [==============================] - 1s 3ms/step - loss: 0.0451 - accuracy: 0.9884 - val_loss: 0.0941 - val_accuracy: 0.9728\n",
      "Epoch 110/200\n",
      "375/375 [==============================] - 1s 3ms/step - loss: 0.0444 - accuracy: 0.9889 - val_loss: 0.0939 - val_accuracy: 0.9724\n",
      "Epoch 111/200\n",
      "375/375 [==============================] - 1s 3ms/step - loss: 0.0438 - accuracy: 0.9886 - val_loss: 0.0936 - val_accuracy: 0.9723\n",
      "Epoch 112/200\n",
      "375/375 [==============================] - 1s 3ms/step - loss: 0.0432 - accuracy: 0.9892 - val_loss: 0.0940 - val_accuracy: 0.9720\n",
      "Epoch 113/200\n",
      "375/375 [==============================] - 1s 3ms/step - loss: 0.0427 - accuracy: 0.9894 - val_loss: 0.0934 - val_accuracy: 0.9722\n",
      "Epoch 114/200\n",
      "375/375 [==============================] - 1s 3ms/step - loss: 0.0424 - accuracy: 0.9896 - val_loss: 0.0933 - val_accuracy: 0.9725\n",
      "Epoch 115/200\n",
      "375/375 [==============================] - 1s 3ms/step - loss: 0.0418 - accuracy: 0.9898 - val_loss: 0.0936 - val_accuracy: 0.9725\n",
      "Epoch 116/200\n",
      "375/375 [==============================] - 1s 4ms/step - loss: 0.0412 - accuracy: 0.9899 - val_loss: 0.0929 - val_accuracy: 0.9726\n",
      "Epoch 117/200\n",
      "375/375 [==============================] - 1s 3ms/step - loss: 0.0408 - accuracy: 0.9900 - val_loss: 0.0928 - val_accuracy: 0.9721\n",
      "Epoch 118/200\n",
      "375/375 [==============================] - 1s 3ms/step - loss: 0.0403 - accuracy: 0.9899 - val_loss: 0.0923 - val_accuracy: 0.9731\n",
      "Epoch 119/200\n",
      "375/375 [==============================] - 1s 3ms/step - loss: 0.0398 - accuracy: 0.9905 - val_loss: 0.0924 - val_accuracy: 0.9721\n",
      "Epoch 120/200\n",
      "375/375 [==============================] - 1s 3ms/step - loss: 0.0393 - accuracy: 0.9906 - val_loss: 0.0923 - val_accuracy: 0.9722\n",
      "Epoch 121/200\n",
      "375/375 [==============================] - 1s 3ms/step - loss: 0.0388 - accuracy: 0.9906 - val_loss: 0.0932 - val_accuracy: 0.9717\n",
      "Epoch 122/200\n",
      "375/375 [==============================] - 1s 3ms/step - loss: 0.0384 - accuracy: 0.9909 - val_loss: 0.0918 - val_accuracy: 0.9728\n",
      "Epoch 123/200\n",
      "375/375 [==============================] - 1s 3ms/step - loss: 0.0380 - accuracy: 0.9910 - val_loss: 0.0923 - val_accuracy: 0.9722\n",
      "Epoch 124/200\n",
      "375/375 [==============================] - 1s 3ms/step - loss: 0.0375 - accuracy: 0.9909 - val_loss: 0.0914 - val_accuracy: 0.9724\n",
      "Epoch 125/200\n",
      "375/375 [==============================] - 1s 3ms/step - loss: 0.0371 - accuracy: 0.9913 - val_loss: 0.0912 - val_accuracy: 0.9724\n",
      "Epoch 126/200\n",
      "375/375 [==============================] - 1s 3ms/step - loss: 0.0366 - accuracy: 0.9912 - val_loss: 0.0916 - val_accuracy: 0.9730\n",
      "Epoch 127/200\n",
      "375/375 [==============================] - 1s 3ms/step - loss: 0.0362 - accuracy: 0.9915 - val_loss: 0.0922 - val_accuracy: 0.9732\n",
      "Epoch 128/200\n",
      "375/375 [==============================] - 1s 3ms/step - loss: 0.0357 - accuracy: 0.9917 - val_loss: 0.0915 - val_accuracy: 0.9720\n",
      "Epoch 129/200\n",
      "375/375 [==============================] - 1s 3ms/step - loss: 0.0353 - accuracy: 0.9916 - val_loss: 0.0916 - val_accuracy: 0.9725\n",
      "Epoch 130/200\n",
      "375/375 [==============================] - 1s 3ms/step - loss: 0.0349 - accuracy: 0.9918 - val_loss: 0.0908 - val_accuracy: 0.9725\n",
      "Epoch 131/200\n",
      "375/375 [==============================] - 1s 3ms/step - loss: 0.0344 - accuracy: 0.9920 - val_loss: 0.0910 - val_accuracy: 0.9725\n",
      "Epoch 132/200\n",
      "375/375 [==============================] - 1s 4ms/step - loss: 0.0340 - accuracy: 0.9922 - val_loss: 0.0918 - val_accuracy: 0.9725\n",
      "Epoch 133/200\n",
      "375/375 [==============================] - 1s 3ms/step - loss: 0.0338 - accuracy: 0.9923 - val_loss: 0.0914 - val_accuracy: 0.9728\n",
      "Epoch 134/200\n",
      "375/375 [==============================] - 1s 3ms/step - loss: 0.0332 - accuracy: 0.9921 - val_loss: 0.0905 - val_accuracy: 0.9730\n",
      "Epoch 135/200\n",
      "375/375 [==============================] - 1s 3ms/step - loss: 0.0329 - accuracy: 0.9927 - val_loss: 0.0907 - val_accuracy: 0.9730\n",
      "Epoch 136/200\n",
      "375/375 [==============================] - 1s 3ms/step - loss: 0.0324 - accuracy: 0.9926 - val_loss: 0.0903 - val_accuracy: 0.9731\n",
      "Epoch 137/200\n",
      "375/375 [==============================] - 1s 3ms/step - loss: 0.0322 - accuracy: 0.9929 - val_loss: 0.0909 - val_accuracy: 0.9732\n",
      "Epoch 138/200\n",
      "375/375 [==============================] - 1s 3ms/step - loss: 0.0318 - accuracy: 0.9931 - val_loss: 0.0909 - val_accuracy: 0.9728\n",
      "Epoch 139/200\n",
      "375/375 [==============================] - 1s 2ms/step - loss: 0.0314 - accuracy: 0.9932 - val_loss: 0.0902 - val_accuracy: 0.9731\n",
      "Epoch 140/200\n",
      "375/375 [==============================] - 1s 3ms/step - loss: 0.0310 - accuracy: 0.9932 - val_loss: 0.0908 - val_accuracy: 0.9729\n",
      "Epoch 141/200\n",
      "375/375 [==============================] - 1s 3ms/step - loss: 0.0307 - accuracy: 0.9932 - val_loss: 0.0899 - val_accuracy: 0.9736\n",
      "Epoch 142/200\n",
      "375/375 [==============================] - 1s 3ms/step - loss: 0.0304 - accuracy: 0.9933 - val_loss: 0.0902 - val_accuracy: 0.9729\n",
      "Epoch 143/200\n",
      "375/375 [==============================] - 1s 3ms/step - loss: 0.0298 - accuracy: 0.9935 - val_loss: 0.0905 - val_accuracy: 0.9731\n",
      "Epoch 144/200\n",
      "375/375 [==============================] - 1s 4ms/step - loss: 0.0296 - accuracy: 0.9935 - val_loss: 0.0906 - val_accuracy: 0.9731\n",
      "Epoch 145/200\n",
      "375/375 [==============================] - 1s 4ms/step - loss: 0.0293 - accuracy: 0.9937 - val_loss: 0.0901 - val_accuracy: 0.9728\n",
      "Epoch 146/200\n",
      "375/375 [==============================] - 1s 3ms/step - loss: 0.0289 - accuracy: 0.9937 - val_loss: 0.0903 - val_accuracy: 0.9731\n",
      "Epoch 147/200\n",
      "375/375 [==============================] - 1s 3ms/step - loss: 0.0286 - accuracy: 0.9941 - val_loss: 0.0905 - val_accuracy: 0.9735\n",
      "Epoch 148/200\n",
      "375/375 [==============================] - 1s 3ms/step - loss: 0.0283 - accuracy: 0.9942 - val_loss: 0.0911 - val_accuracy: 0.9729\n",
      "Epoch 149/200\n",
      "375/375 [==============================] - 1s 3ms/step - loss: 0.0280 - accuracy: 0.9939 - val_loss: 0.0898 - val_accuracy: 0.9733\n",
      "Epoch 150/200\n",
      "375/375 [==============================] - 1s 3ms/step - loss: 0.0276 - accuracy: 0.9942 - val_loss: 0.0903 - val_accuracy: 0.9731\n",
      "Epoch 151/200\n",
      "375/375 [==============================] - 1s 3ms/step - loss: 0.0274 - accuracy: 0.9942 - val_loss: 0.0904 - val_accuracy: 0.9728\n",
      "Epoch 152/200\n",
      "375/375 [==============================] - 1s 3ms/step - loss: 0.0270 - accuracy: 0.9944 - val_loss: 0.0898 - val_accuracy: 0.9737\n",
      "Epoch 153/200\n",
      "375/375 [==============================] - 1s 4ms/step - loss: 0.0267 - accuracy: 0.9943 - val_loss: 0.0900 - val_accuracy: 0.9732\n",
      "Epoch 154/200\n",
      "375/375 [==============================] - 1s 3ms/step - loss: 0.0264 - accuracy: 0.9948 - val_loss: 0.0897 - val_accuracy: 0.9737\n",
      "Epoch 155/200\n",
      "375/375 [==============================] - 1s 3ms/step - loss: 0.0260 - accuracy: 0.9951 - val_loss: 0.0900 - val_accuracy: 0.9733\n",
      "Epoch 156/200\n",
      "375/375 [==============================] - 1s 3ms/step - loss: 0.0258 - accuracy: 0.9950 - val_loss: 0.0904 - val_accuracy: 0.9729\n",
      "Epoch 157/200\n",
      "375/375 [==============================] - 1s 3ms/step - loss: 0.0255 - accuracy: 0.9950 - val_loss: 0.0900 - val_accuracy: 0.9732\n",
      "Epoch 158/200\n",
      "375/375 [==============================] - 1s 3ms/step - loss: 0.0252 - accuracy: 0.9950 - val_loss: 0.0899 - val_accuracy: 0.9734\n",
      "Epoch 159/200\n",
      "375/375 [==============================] - 1s 3ms/step - loss: 0.0249 - accuracy: 0.9951 - val_loss: 0.0902 - val_accuracy: 0.9730\n",
      "Epoch 160/200\n",
      "375/375 [==============================] - 1s 3ms/step - loss: 0.0247 - accuracy: 0.9951 - val_loss: 0.0896 - val_accuracy: 0.9732\n",
      "Epoch 161/200\n",
      "375/375 [==============================] - 1s 3ms/step - loss: 0.0244 - accuracy: 0.9951 - val_loss: 0.0906 - val_accuracy: 0.9734\n",
      "Epoch 162/200\n",
      "375/375 [==============================] - 1s 3ms/step - loss: 0.0242 - accuracy: 0.9951 - val_loss: 0.0895 - val_accuracy: 0.9737\n",
      "Epoch 163/200\n",
      "375/375 [==============================] - 1s 3ms/step - loss: 0.0238 - accuracy: 0.9954 - val_loss: 0.0901 - val_accuracy: 0.9732\n",
      "Epoch 164/200\n",
      "375/375 [==============================] - 1s 3ms/step - loss: 0.0236 - accuracy: 0.9956 - val_loss: 0.0900 - val_accuracy: 0.9732\n",
      "Epoch 165/200\n",
      "375/375 [==============================] - 1s 3ms/step - loss: 0.0233 - accuracy: 0.9958 - val_loss: 0.0897 - val_accuracy: 0.9734\n",
      "Epoch 166/200\n",
      "375/375 [==============================] - 1s 3ms/step - loss: 0.0231 - accuracy: 0.9957 - val_loss: 0.0900 - val_accuracy: 0.9735\n",
      "Epoch 167/200\n",
      "375/375 [==============================] - 1s 3ms/step - loss: 0.0228 - accuracy: 0.9959 - val_loss: 0.0902 - val_accuracy: 0.9728\n",
      "Epoch 168/200\n",
      "375/375 [==============================] - 1s 3ms/step - loss: 0.0226 - accuracy: 0.9958 - val_loss: 0.0899 - val_accuracy: 0.9733\n",
      "Epoch 169/200\n",
      "375/375 [==============================] - 1s 4ms/step - loss: 0.0223 - accuracy: 0.9960 - val_loss: 0.0894 - val_accuracy: 0.9743\n",
      "Epoch 170/200\n"
     ]
    },
    {
     "name": "stdout",
     "output_type": "stream",
     "text": [
      "375/375 [==============================] - 1s 3ms/step - loss: 0.0220 - accuracy: 0.9960 - val_loss: 0.0897 - val_accuracy: 0.9736\n",
      "Epoch 171/200\n",
      "375/375 [==============================] - 1s 3ms/step - loss: 0.0218 - accuracy: 0.9963 - val_loss: 0.0900 - val_accuracy: 0.9731\n",
      "Epoch 172/200\n",
      "375/375 [==============================] - 1s 3ms/step - loss: 0.0216 - accuracy: 0.9962 - val_loss: 0.0901 - val_accuracy: 0.9732\n",
      "Epoch 173/200\n",
      "375/375 [==============================] - 1s 3ms/step - loss: 0.0213 - accuracy: 0.9964 - val_loss: 0.0907 - val_accuracy: 0.9729\n",
      "Epoch 174/200\n",
      "375/375 [==============================] - 1s 3ms/step - loss: 0.0211 - accuracy: 0.9965 - val_loss: 0.0906 - val_accuracy: 0.9732\n",
      "Epoch 175/200\n",
      "375/375 [==============================] - 1s 3ms/step - loss: 0.0208 - accuracy: 0.9964 - val_loss: 0.0900 - val_accuracy: 0.9733\n",
      "Epoch 176/200\n",
      "375/375 [==============================] - 1s 3ms/step - loss: 0.0206 - accuracy: 0.9966 - val_loss: 0.0901 - val_accuracy: 0.9728\n",
      "Epoch 177/200\n",
      "375/375 [==============================] - 1s 3ms/step - loss: 0.0204 - accuracy: 0.9965 - val_loss: 0.0904 - val_accuracy: 0.9738\n",
      "Epoch 178/200\n",
      "375/375 [==============================] - 1s 3ms/step - loss: 0.0201 - accuracy: 0.9966 - val_loss: 0.0902 - val_accuracy: 0.9732\n",
      "Epoch 179/200\n",
      "375/375 [==============================] - 1s 3ms/step - loss: 0.0199 - accuracy: 0.9966 - val_loss: 0.0901 - val_accuracy: 0.9736\n",
      "Epoch 180/200\n",
      "375/375 [==============================] - 1s 3ms/step - loss: 0.0197 - accuracy: 0.9968 - val_loss: 0.0899 - val_accuracy: 0.9737\n",
      "Epoch 181/200\n",
      "375/375 [==============================] - 1s 3ms/step - loss: 0.0195 - accuracy: 0.9970 - val_loss: 0.0904 - val_accuracy: 0.9736\n",
      "Epoch 182/200\n",
      "375/375 [==============================] - 1s 3ms/step - loss: 0.0193 - accuracy: 0.9971 - val_loss: 0.0903 - val_accuracy: 0.9737\n",
      "Epoch 183/200\n",
      "375/375 [==============================] - 1s 3ms/step - loss: 0.0190 - accuracy: 0.9970 - val_loss: 0.0904 - val_accuracy: 0.9732\n",
      "Epoch 184/200\n",
      "375/375 [==============================] - 1s 3ms/step - loss: 0.0188 - accuracy: 0.9973 - val_loss: 0.0899 - val_accuracy: 0.9736\n",
      "Epoch 185/200\n",
      "375/375 [==============================] - 1s 3ms/step - loss: 0.0186 - accuracy: 0.9970 - val_loss: 0.0907 - val_accuracy: 0.9731\n",
      "Epoch 186/200\n",
      "375/375 [==============================] - 1s 3ms/step - loss: 0.0185 - accuracy: 0.9971 - val_loss: 0.0904 - val_accuracy: 0.9734\n",
      "Epoch 187/200\n",
      "375/375 [==============================] - 1s 3ms/step - loss: 0.0182 - accuracy: 0.9974 - val_loss: 0.0912 - val_accuracy: 0.9735\n",
      "Epoch 188/200\n",
      "375/375 [==============================] - 1s 3ms/step - loss: 0.0181 - accuracy: 0.9973 - val_loss: 0.0904 - val_accuracy: 0.9741\n",
      "Epoch 189/200\n",
      "375/375 [==============================] - 1s 3ms/step - loss: 0.0178 - accuracy: 0.9974 - val_loss: 0.0904 - val_accuracy: 0.9737\n",
      "Epoch 190/200\n",
      "375/375 [==============================] - 1s 2ms/step - loss: 0.0176 - accuracy: 0.9975 - val_loss: 0.0904 - val_accuracy: 0.9732\n",
      "Epoch 191/200\n",
      "375/375 [==============================] - 1s 3ms/step - loss: 0.0175 - accuracy: 0.9975 - val_loss: 0.0904 - val_accuracy: 0.9743\n",
      "Epoch 192/200\n",
      "375/375 [==============================] - 1s 3ms/step - loss: 0.0173 - accuracy: 0.9976 - val_loss: 0.0901 - val_accuracy: 0.9733\n",
      "Epoch 193/200\n",
      "375/375 [==============================] - 1s 3ms/step - loss: 0.0171 - accuracy: 0.9976 - val_loss: 0.0904 - val_accuracy: 0.9737\n",
      "Epoch 194/200\n",
      "375/375 [==============================] - 1s 3ms/step - loss: 0.0169 - accuracy: 0.9977 - val_loss: 0.0908 - val_accuracy: 0.9737\n",
      "Epoch 195/200\n",
      "375/375 [==============================] - 1s 2ms/step - loss: 0.0167 - accuracy: 0.9978 - val_loss: 0.0908 - val_accuracy: 0.9737\n",
      "Epoch 196/200\n",
      "375/375 [==============================] - 1s 3ms/step - loss: 0.0166 - accuracy: 0.9977 - val_loss: 0.0905 - val_accuracy: 0.9738\n",
      "Epoch 197/200\n",
      "375/375 [==============================] - 1s 3ms/step - loss: 0.0164 - accuracy: 0.9977 - val_loss: 0.0905 - val_accuracy: 0.9738\n",
      "Epoch 198/200\n",
      "375/375 [==============================] - 1s 3ms/step - loss: 0.0162 - accuracy: 0.9979 - val_loss: 0.0914 - val_accuracy: 0.9735\n",
      "Epoch 199/200\n",
      "375/375 [==============================] - 1s 3ms/step - loss: 0.0161 - accuracy: 0.9979 - val_loss: 0.0909 - val_accuracy: 0.9743\n",
      "Epoch 200/200\n",
      "375/375 [==============================] - 1s 3ms/step - loss: 0.0159 - accuracy: 0.9979 - val_loss: 0.0911 - val_accuracy: 0.9737\n"
     ]
    },
    {
     "data": {
      "text/plain": [
       "<keras.callbacks.History at 0x1d926cba8b0>"
      ]
     },
     "execution_count": 52,
     "metadata": {},
     "output_type": "execute_result"
    }
   ],
   "source": [
    "model.fit(X_train, Y_train, validation_split=0.2, epochs=200, batch_size=128)"
   ]
  },
  {
   "cell_type": "code",
   "execution_count": 54,
   "id": "c7108012",
   "metadata": {},
   "outputs": [
    {
     "name": "stdout",
     "output_type": "stream",
     "text": [
      "313/313 [==============================] - 0s 1ms/step - loss: 0.0823 - accuracy: 0.9755\n",
      "0.08228957653045654 0.9754999876022339\n"
     ]
    }
   ],
   "source": [
    "test_loss, test_acc = model.evaluate(X_test, Y_test)\n",
    "print(test_loss, test_acc)"
   ]
  },
  {
   "cell_type": "code",
   "execution_count": 56,
   "id": "203d1b42",
   "metadata": {},
   "outputs": [
    {
     "name": "stdout",
     "output_type": "stream",
     "text": [
      "Model: \"sequential\"\n",
      "_________________________________________________________________\n",
      "Layer (type)                 Output Shape              Param #   \n",
      "=================================================================\n",
      "dense (Dense)                (None, 128)               100480    \n",
      "_________________________________________________________________\n",
      "dense_1 (Dense)              (None, 128)               16512     \n",
      "_________________________________________________________________\n",
      "dense_2 (Dense)              (None, 10)                1290      \n",
      "=================================================================\n",
      "Total params: 118,282\n",
      "Trainable params: 118,282\n",
      "Non-trainable params: 0\n",
      "_________________________________________________________________\n"
     ]
    }
   ],
   "source": [
    "model.summary()"
   ]
  },
  {
   "cell_type": "code",
   "execution_count": 67,
   "id": "150c7b8a",
   "metadata": {},
   "outputs": [],
   "source": [
    "from datetime import datetime\n",
    "log_dir = \"logs/scalar/\"+datetime.now().strftime(\"%Y%m%d-%H%M%S\")"
   ]
  },
  {
   "cell_type": "code",
   "execution_count": 68,
   "id": "d4374b9f",
   "metadata": {},
   "outputs": [],
   "source": [
    "tensor_board = keras.callbacks.TensorBoard(log_dir=log_dir)"
   ]
  },
  {
   "cell_type": "code",
   "execution_count": 69,
   "id": "f343b6a0",
   "metadata": {},
   "outputs": [],
   "source": [
    "training_history = model.fit(X_train, \n",
    "                             Y_train, \n",
    "                             epochs=100, \n",
    "                             batch_size=128,\n",
    "                             validation_data=(X_test, Y_test),\n",
    "                             callbacks=[tensor_board], verbose=0,)"
   ]
  },
  {
   "cell_type": "code",
   "execution_count": 70,
   "id": "bbb690e6",
   "metadata": {},
   "outputs": [
    {
     "name": "stdout",
     "output_type": "stream",
     "text": [
      "^C\n"
     ]
    }
   ],
   "source": [
    "#!tensorboard dev upload --logdir logs --name log_name --description Test"
   ]
  },
  {
   "cell_type": "code",
   "execution_count": null,
   "id": "b7835bba",
   "metadata": {},
   "outputs": [],
   "source": []
  }
 ],
 "metadata": {
  "kernelspec": {
   "display_name": "Python 3",
   "language": "python",
   "name": "python3"
  },
  "language_info": {
   "codemirror_mode": {
    "name": "ipython",
    "version": 3
   },
   "file_extension": ".py",
   "mimetype": "text/x-python",
   "name": "python",
   "nbconvert_exporter": "python",
   "pygments_lexer": "ipython3",
   "version": "3.8.8"
  }
 },
 "nbformat": 4,
 "nbformat_minor": 5
}
