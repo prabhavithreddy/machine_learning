{
 "cells": [
  {
   "cell_type": "code",
   "execution_count": 136,
   "id": "702b0fcf",
   "metadata": {},
   "outputs": [],
   "source": [
    "import numpy as np\n",
    "import pandas as pd\n",
    "\n",
    "from sklearn.metrics import make_scorer\n",
    "from sklearn.model_selection import cross_val_score\n",
    "from sklearn.model_selection import RandomizedSearchCV\n",
    "\n",
    "import sklearn_crfsuite\n",
    "from sklearn_crfsuite import scorers\n",
    "from sklearn_crfsuite import metrics\n",
    "\n",
    "import scipy\n",
    "from sklearn.model_selection import GridSearchCV"
   ]
  },
  {
   "cell_type": "markdown",
   "id": "19dce3ae",
   "metadata": {},
   "source": [
    "### Question 1.1: Read the tagged ConLL 2003 Data from this link:"
   ]
  },
  {
   "cell_type": "code",
   "execution_count": 162,
   "id": "2cc422f9",
   "metadata": {},
   "outputs": [],
   "source": [
    "# Downloaded the data from different source as the links in the pdf is not alive\n",
    "training_data_path = './conll003-en/train.txt'\n",
    "testing_data_path = './conll003-en/test.txt'"
   ]
  },
  {
   "cell_type": "code",
   "execution_count": 90,
   "id": "27be976e",
   "metadata": {},
   "outputs": [],
   "source": [
    "import requests\n",
    "\n",
    "def get_url_content(url):\n",
    "    content = None\n",
    "    if not url:\n",
    "        return content\n",
    "    else:\n",
    "        content = requests.get(url).text\n",
    "        return content\n",
    "    \n",
    "#get_file(training_data_url)"
   ]
  },
  {
   "cell_type": "code",
   "execution_count": 98,
   "id": "899fe875",
   "metadata": {},
   "outputs": [],
   "source": [
    "def get_file(file_path):\n",
    "    content = None\n",
    "    if not file_path:\n",
    "        return content\n",
    "    else:\n",
    "        with open(file_path, 'r') as f:\n",
    "            content = f.read()\n",
    "        return content"
   ]
  },
  {
   "cell_type": "code",
   "execution_count": 99,
   "id": "c14584c2",
   "metadata": {},
   "outputs": [],
   "source": [
    "training_data_content = get_file(training_data_path)\n",
    "testing_data_content = get_file(testing_data_path)"
   ]
  },
  {
   "cell_type": "code",
   "execution_count": 100,
   "id": "50c0d974",
   "metadata": {},
   "outputs": [],
   "source": [
    "def split_data(text):\n",
    "    data = []\n",
    "    if not text:\n",
    "        return list()\n",
    "    else:\n",
    "        split_text = text.split('\\n')[2:]\n",
    "        sub_data = []\n",
    "        for item in split_text:\n",
    "            if item == '':\n",
    "                data.append(sub_data)\n",
    "                sub_data = []\n",
    "            else:\n",
    "                sub_data.append(tuple(item.split()))\n",
    "        return data"
   ]
  },
  {
   "cell_type": "code",
   "execution_count": 101,
   "id": "5ad3813a",
   "metadata": {},
   "outputs": [
    {
     "name": "stdout",
     "output_type": "stream",
     "text": [
      "[('EU', 'NNP', 'B-NP', 'B-ORG'), ('rejects', 'VBZ', 'B-VP', 'O'), ('German', 'JJ', 'B-NP', 'B-MISC'), ('call', 'NN', 'I-NP', 'O'), ('to', 'TO', 'B-VP', 'O'), ('boycott', 'VB', 'I-VP', 'O'), ('British', 'JJ', 'B-NP', 'B-MISC'), ('lamb', 'NN', 'I-NP', 'O'), ('.', '.', 'O', 'O')]\n",
      "[('SOCCER', 'NN', 'B-NP', 'O'), ('-', ':', 'O', 'O'), ('JAPAN', 'NNP', 'B-NP', 'B-LOC'), ('GET', 'VB', 'B-VP', 'O'), ('LUCKY', 'NNP', 'B-NP', 'O'), ('WIN', 'NNP', 'I-NP', 'O'), (',', ',', 'O', 'O'), ('CHINA', 'NNP', 'B-NP', 'B-PER'), ('IN', 'IN', 'B-PP', 'O'), ('SURPRISE', 'DT', 'B-NP', 'O'), ('DEFEAT', 'NN', 'I-NP', 'O'), ('.', '.', 'O', 'O')]\n"
     ]
    }
   ],
   "source": [
    "training_data = split_data(training_data_content)\n",
    "testing_data = split_data(testing_data_content)\n",
    "print(training_data[0])\n",
    "print(testing_data[0])"
   ]
  },
  {
   "cell_type": "code",
   "execution_count": 88,
   "id": "a639a736",
   "metadata": {},
   "outputs": [
    {
     "data": {
      "text/plain": [
       "[[('EU', 'NNP', 'B-NP', 'B-ORG'),\n",
       "  ('rejects', 'VBZ', 'B-VP', 'O'),\n",
       "  ('German', 'JJ', 'B-NP', 'B-MISC'),\n",
       "  ('call', 'NN', 'I-NP', 'O'),\n",
       "  ('to', 'TO', 'B-VP', 'O'),\n",
       "  ('boycott', 'VB', 'I-VP', 'O'),\n",
       "  ('British', 'JJ', 'B-NP', 'B-MISC'),\n",
       "  ('lamb', 'NN', 'I-NP', 'O'),\n",
       "  ('.', '.', 'O', 'O')],\n",
       " [('Peter', 'NNP', 'B-NP', 'B-PER'), ('Blackburn', 'NNP', 'I-NP', 'I-PER')],\n",
       " [('BRUSSELS', 'NNP', 'B-NP', 'B-LOC'), ('1996-08-22', 'CD', 'I-NP', 'O')]]"
      ]
     },
     "execution_count": 88,
     "metadata": {},
     "output_type": "execute_result"
    }
   ],
   "source": [
    "training_data[:3]"
   ]
  },
  {
   "cell_type": "code",
   "execution_count": 114,
   "id": "6649726a",
   "metadata": {
    "scrolled": true
   },
   "outputs": [],
   "source": [
    "def create_data_frame(data):\n",
    "    data_frames = []\n",
    "    for sentences in data:\n",
    "        df = pd.DataFrame(data=sentences, columns=['word', 'pos', 'phrase', 'ner'])\n",
    "        data_frames.append(df)\n",
    "    return data_frames"
   ]
  },
  {
   "cell_type": "markdown",
   "id": "67e7224f",
   "metadata": {},
   "source": [
    "### Question 1.2: Define a CRF model with following parameters:"
   ]
  },
  {
   "cell_type": "code",
   "execution_count": 115,
   "id": "524bf7a4",
   "metadata": {},
   "outputs": [],
   "source": [
    "training_dfs = create_data_frame(training_data)\n",
    "testing_dfs = create_data_frame(testing_data)"
   ]
  },
  {
   "cell_type": "code",
   "execution_count": 116,
   "id": "ccba35aa",
   "metadata": {},
   "outputs": [
    {
     "data": {
      "text/html": [
       "<div>\n",
       "<style scoped>\n",
       "    .dataframe tbody tr th:only-of-type {\n",
       "        vertical-align: middle;\n",
       "    }\n",
       "\n",
       "    .dataframe tbody tr th {\n",
       "        vertical-align: top;\n",
       "    }\n",
       "\n",
       "    .dataframe thead th {\n",
       "        text-align: right;\n",
       "    }\n",
       "</style>\n",
       "<table border=\"1\" class=\"dataframe\">\n",
       "  <thead>\n",
       "    <tr style=\"text-align: right;\">\n",
       "      <th></th>\n",
       "      <th>word</th>\n",
       "      <th>pos</th>\n",
       "      <th>phrase</th>\n",
       "      <th>ner</th>\n",
       "    </tr>\n",
       "  </thead>\n",
       "  <tbody>\n",
       "    <tr>\n",
       "      <th>0</th>\n",
       "      <td>EU</td>\n",
       "      <td>NNP</td>\n",
       "      <td>B-NP</td>\n",
       "      <td>B-ORG</td>\n",
       "    </tr>\n",
       "    <tr>\n",
       "      <th>1</th>\n",
       "      <td>rejects</td>\n",
       "      <td>VBZ</td>\n",
       "      <td>B-VP</td>\n",
       "      <td>O</td>\n",
       "    </tr>\n",
       "    <tr>\n",
       "      <th>2</th>\n",
       "      <td>German</td>\n",
       "      <td>JJ</td>\n",
       "      <td>B-NP</td>\n",
       "      <td>B-MISC</td>\n",
       "    </tr>\n",
       "    <tr>\n",
       "      <th>3</th>\n",
       "      <td>call</td>\n",
       "      <td>NN</td>\n",
       "      <td>I-NP</td>\n",
       "      <td>O</td>\n",
       "    </tr>\n",
       "    <tr>\n",
       "      <th>4</th>\n",
       "      <td>to</td>\n",
       "      <td>TO</td>\n",
       "      <td>B-VP</td>\n",
       "      <td>O</td>\n",
       "    </tr>\n",
       "    <tr>\n",
       "      <th>5</th>\n",
       "      <td>boycott</td>\n",
       "      <td>VB</td>\n",
       "      <td>I-VP</td>\n",
       "      <td>O</td>\n",
       "    </tr>\n",
       "    <tr>\n",
       "      <th>6</th>\n",
       "      <td>British</td>\n",
       "      <td>JJ</td>\n",
       "      <td>B-NP</td>\n",
       "      <td>B-MISC</td>\n",
       "    </tr>\n",
       "    <tr>\n",
       "      <th>7</th>\n",
       "      <td>lamb</td>\n",
       "      <td>NN</td>\n",
       "      <td>I-NP</td>\n",
       "      <td>O</td>\n",
       "    </tr>\n",
       "    <tr>\n",
       "      <th>8</th>\n",
       "      <td>.</td>\n",
       "      <td>.</td>\n",
       "      <td>O</td>\n",
       "      <td>O</td>\n",
       "    </tr>\n",
       "  </tbody>\n",
       "</table>\n",
       "</div>"
      ],
      "text/plain": [
       "      word  pos phrase     ner\n",
       "0       EU  NNP   B-NP   B-ORG\n",
       "1  rejects  VBZ   B-VP       O\n",
       "2   German   JJ   B-NP  B-MISC\n",
       "3     call   NN   I-NP       O\n",
       "4       to   TO   B-VP       O\n",
       "5  boycott   VB   I-VP       O\n",
       "6  British   JJ   B-NP  B-MISC\n",
       "7     lamb   NN   I-NP       O\n",
       "8        .    .      O       O"
      ]
     },
     "execution_count": 116,
     "metadata": {},
     "output_type": "execute_result"
    }
   ],
   "source": [
    "training_dfs[0]"
   ]
  },
  {
   "cell_type": "code",
   "execution_count": 118,
   "id": "7b266416",
   "metadata": {},
   "outputs": [],
   "source": [
    "def get_labels(sentences):\n",
    "    all_labels = []\n",
    "    \n",
    "    for s_df in sentences:\n",
    "        labels = s_df.loc[:, 'ner'].tolist()\n",
    "        all_labels.append(labels)\n",
    "        \n",
    "    return all_labels \n",
    "\n",
    "\n",
    "def word2features(i, single_sent_df):\n",
    "    \n",
    "    word, postag = single_sent_df.iloc[i].loc[['word', 'pos']]\n",
    "    \n",
    "    features = {\n",
    "        'bias': 1.0,\n",
    "        'word.lower()': word.lower(),\n",
    "        'word[-3:]': word[-3:],\n",
    "        'word[-2:]': word[-2:],\n",
    "        'word.isupper()': word.isupper(),\n",
    "        'word.istitle()': word.istitle(),\n",
    "        'word.isdigit()': word.isdigit(),\n",
    "        'postag': postag,\n",
    "        'postag[:2]': postag[:2],\n",
    "    }\n",
    "    if i > 0:\n",
    "        word1, postag1 = single_sent_df.iloc[i-1].loc[['word', 'pos']]\n",
    "        \n",
    "        features.update({\n",
    "            '-1:word.lower()': word1.lower(),\n",
    "            '-1:word.istitle()': word1.istitle(),\n",
    "            '-1:word.isupper()': word1.isupper(),\n",
    "            '-1:postag': postag1,\n",
    "            '-1:postag[:2]': postag1[:2],\n",
    "        })\n",
    "    else:\n",
    "        features['BOS'] = True\n",
    "\n",
    "    if i < (single_sent_df.shape[0] - 1):\n",
    "        word1, postag1 = single_sent_df.iloc[i+1].loc[['word', 'pos']]\n",
    "        \n",
    "        features.update({\n",
    "            '+1:word.lower()': word1.lower(),\n",
    "            '+1:word.istitle()': word1.istitle(),\n",
    "            '+1:word.isupper()': word1.isupper(),\n",
    "            '+1:postag': postag1,\n",
    "            '+1:postag[:2]': postag1[:2],\n",
    "        })\n",
    "    else:\n",
    "        features['EOS'] = True\n",
    "\n",
    "    return features\n",
    "\n",
    "def sent2features(s_df):\n",
    "    features = s_df.index.map(lambda word_idx: word2features(word_idx, s_df))\n",
    "    return features.tolist()\n",
    "\n",
    "def get_feature_values(all_sents):\n",
    "    \n",
    "    all_features = [sent2features(s) for s in all_sents]    \n",
    "    return all_features"
   ]
  },
  {
   "cell_type": "code",
   "execution_count": 119,
   "id": "d83f7779",
   "metadata": {},
   "outputs": [],
   "source": [
    "X_train = get_feature_values(training_dfs)\n",
    "X_test = get_feature_values(testing_dfs)"
   ]
  },
  {
   "cell_type": "code",
   "execution_count": 120,
   "id": "5d81c5aa",
   "metadata": {},
   "outputs": [],
   "source": [
    "y_train, y_test = get_labels(training_dfs), get_labels(testing_dfs)"
   ]
  },
  {
   "cell_type": "code",
   "execution_count": 127,
   "id": "2f805244",
   "metadata": {},
   "outputs": [
    {
     "name": "stderr",
     "output_type": "stream",
     "text": [
      "C:\\Users\\vlekkala\\Anaconda3\\lib\\site-packages\\sklearn\\base.py:209: FutureWarning: From version 0.24, get_params will raise an AttributeError if a parameter cannot be retrieved as an instance attribute. Previously it would return None.\n",
      "  warnings.warn('From version 0.24, get_params will raise an '\n"
     ]
    },
    {
     "data": {
      "text/plain": [
       "CRF(algorithm='lbfgs', c1=0.1, c2=0.1, keep_tempfiles=None, max_iterations=100)"
      ]
     },
     "execution_count": 127,
     "metadata": {},
     "output_type": "execute_result"
    }
   ],
   "source": [
    "%%time\n",
    "crf = sklearn_crfsuite.CRF(\n",
    "    algorithm='lbfgs',\n",
    "    c1=0.1,\n",
    "    c2=0.1,\n",
    "    max_iterations=100\n",
    ")\n",
    "\n",
    "crf.fit(X_train, y_train)"
   ]
  },
  {
   "cell_type": "code",
   "execution_count": 128,
   "id": "f7b15e08",
   "metadata": {},
   "outputs": [
    {
     "data": {
      "text/plain": [
       "['B-ORG', 'B-MISC', 'B-PER', 'I-PER', 'B-LOC', 'I-ORG', 'I-MISC', 'I-LOC']"
      ]
     },
     "execution_count": 128,
     "metadata": {},
     "output_type": "execute_result"
    }
   ],
   "source": [
    "labels = list(crf.classes_)\n",
    "labels.remove('O')\n",
    "labels"
   ]
  },
  {
   "cell_type": "code",
   "execution_count": 129,
   "id": "248b8ebf",
   "metadata": {},
   "outputs": [
    {
     "data": {
      "text/plain": [
       "0.799606753645897"
      ]
     },
     "execution_count": 129,
     "metadata": {},
     "output_type": "execute_result"
    }
   ],
   "source": [
    "y_pred = crf.predict(X_test)\n",
    "metrics.flat_f1_score(y_test, y_pred, average='weighted', labels=labels)"
   ]
  },
  {
   "cell_type": "code",
   "execution_count": 130,
   "id": "fe8dfa5d",
   "metadata": {},
   "outputs": [
    {
     "name": "stderr",
     "output_type": "stream",
     "text": [
      "C:\\Users\\vlekkala\\Anaconda3\\lib\\site-packages\\sklearn\\utils\\validation.py:67: FutureWarning: Pass labels=['B-LOC', 'I-LOC', 'B-MISC', 'I-MISC', 'B-ORG', 'I-ORG', 'B-PER', 'I-PER'] as keyword args. From version 0.25 passing these as positional arguments will result in an error\n",
      "  warnings.warn(\"Pass {} as keyword args. From version 0.25 \"\n"
     ]
    },
    {
     "name": "stdout",
     "output_type": "stream",
     "text": [
      "              precision    recall  f1-score   support\n",
      "\n",
      "       B-LOC      0.862     0.806     0.833      1668\n",
      "       I-LOC      0.763     0.588     0.664       257\n",
      "      B-MISC      0.807     0.758     0.782       702\n",
      "      I-MISC      0.656     0.662     0.659       216\n",
      "       B-ORG      0.761     0.733     0.747      1661\n",
      "       I-ORG      0.658     0.745     0.699       835\n",
      "       B-PER      0.828     0.854     0.841      1617\n",
      "       I-PER      0.870     0.952     0.910      1156\n",
      "\n",
      "   micro avg      0.800     0.800     0.800      8112\n",
      "   macro avg      0.776     0.762     0.767      8112\n",
      "weighted avg      0.801     0.800     0.800      8112\n",
      "\n"
     ]
    }
   ],
   "source": [
    "sorted_labels = sorted(\n",
    "    labels,\n",
    "    key=lambda name: (name[1:], name[0])\n",
    ")\n",
    "report = metrics.flat_classification_report(y_test, y_pred, labels=sorted_labels, digits=3)\n",
    "print(report)"
   ]
  },
  {
   "cell_type": "markdown",
   "id": "ec8c7e4c",
   "metadata": {},
   "source": [
    "### Question 1.3:\n",
    "    Now that you have done a single model - try using Gridsearch to get the best parameters for our data. Use this \n",
    "    param grid:"
   ]
  },
  {
   "cell_type": "code",
   "execution_count": 140,
   "id": "1e483d78",
   "metadata": {},
   "outputs": [],
   "source": [
    "params_space = {\n",
    " 'c1': [scipy.stats.expon(scale=0.5)],\n",
    " 'c2': [scipy.stats.expon(scale=0.05)],\n",
    "}"
   ]
  },
  {
   "cell_type": "code",
   "execution_count": 150,
   "id": "7348189c",
   "metadata": {},
   "outputs": [],
   "source": [
    "f1_scorer = make_scorer(metrics.flat_f1_score,\n",
    "                        average='weighted', labels=labels)\n",
    "\n",
    "rs = GridSearchCV(crf, params_space, \n",
    " cv=3, \n",
    " verbose=1, \n",
    " scoring=f1_scorer)"
   ]
  },
  {
   "cell_type": "code",
   "execution_count": 164,
   "id": "a14ea923",
   "metadata": {
    "scrolled": true
   },
   "outputs": [
    {
     "name": "stderr",
     "output_type": "stream",
     "text": [
      "C:\\Users\\vlekkala\\Anaconda3\\lib\\site-packages\\sklearn\\base.py:209: FutureWarning: From version 0.24, get_params will raise an AttributeError if a parameter cannot be retrieved as an instance attribute. Previously it would return None.\n",
      "  warnings.warn('From version 0.24, get_params will raise an '\n",
      "[Parallel(n_jobs=1)]: Using backend SequentialBackend with 1 concurrent workers.\n"
     ]
    },
    {
     "name": "stdout",
     "output_type": "stream",
     "text": [
      "Fitting 3 folds for each of 1 candidates, totalling 3 fits\n"
     ]
    },
    {
     "name": "stderr",
     "output_type": "stream",
     "text": [
      "[Parallel(n_jobs=1)]: Done   3 out of   3 | elapsed:  1.3min finished\n"
     ]
    },
    {
     "name": "stdout",
     "output_type": "stream",
     "text": [
      "Wall time: 1min 52s\n"
     ]
    },
    {
     "data": {
      "text/plain": [
       "GridSearchCV(cv=3,\n",
       "             estimator=CRF(algorithm='lbfgs', c1=0.1, c2=0.1,\n",
       "                           keep_tempfiles=None, max_iterations=100),\n",
       "             param_grid={'c1': [<scipy.stats._distn_infrastructure.rv_frozen object at 0x0000021D20593760>],\n",
       "                         'c2': [<scipy.stats._distn_infrastructure.rv_frozen object at 0x0000021D20593D60>]},\n",
       "             scoring=make_scorer(flat_f1_score, average=weighted, labels=['B-ORG', 'B-MISC', 'B-PER', 'I-PER', 'B-LOC', 'I-ORG', 'I-MISC', 'I-LOC']),\n",
       "             verbose=1)"
      ]
     },
     "execution_count": 164,
     "metadata": {},
     "output_type": "execute_result"
    }
   ],
   "source": [
    "%%time\n",
    "rs.fit(X_train, y_train)"
   ]
  },
  {
   "cell_type": "code",
   "execution_count": 152,
   "id": "b807227b",
   "metadata": {},
   "outputs": [
    {
     "name": "stdout",
     "output_type": "stream",
     "text": [
      "best params: {'c1': <scipy.stats._distn_infrastructure.rv_frozen object at 0x0000021D20593760>, 'c2': <scipy.stats._distn_infrastructure.rv_frozen object at 0x0000021D20593D60>}\n",
      "best CV score: 0.8282424065619148\n"
     ]
    }
   ],
   "source": [
    "print('best params:', rs.best_params_)\n",
    "print('best CV score:', rs.best_score_)"
   ]
  },
  {
   "cell_type": "markdown",
   "id": "003f132a",
   "metadata": {},
   "source": [
    "### Question 1.4: \n",
    "For the best model that you have picked with Grid/Random Search, try getting the most important transition \n",
    "(top 5) features by using the transition_features_ method of the model class. Also, get the topmost \n",
    "(5) state feature using state_features_ method that tells you the most important words for specific NER. "
   ]
  },
  {
   "cell_type": "code",
   "execution_count": 160,
   "id": "03a877d0",
   "metadata": {},
   "outputs": [
    {
     "data": {
      "text/plain": [
       "{('B-PER', 'I-PER'): 9.584815,\n",
       " ('B-MISC', 'I-MISC'): 8.362803,\n",
       " ('B-ORG', 'I-ORG'): 8.250097,\n",
       " ('I-MISC', 'I-MISC'): 7.818891,\n",
       " ('B-LOC', 'I-LOC'): 7.437972,\n",
       " ('I-ORG', 'I-ORG'): 7.227358,\n",
       " ('I-PER', 'I-PER'): 6.856996,\n",
       " ('I-LOC', 'I-LOC'): 6.841813,\n",
       " ('O', 'B-PER'): 3.84517,\n",
       " ('O', 'O'): 3.449134}"
      ]
     },
     "execution_count": 160,
     "metadata": {},
     "output_type": "execute_result"
    }
   ],
   "source": [
    "x = crf.transition_features_\n",
    "{k: v for k, v in sorted(x.items(), key=lambda item: item[1], reverse=True)[:10]}"
   ]
  },
  {
   "cell_type": "code",
   "execution_count": 163,
   "id": "2895112a",
   "metadata": {},
   "outputs": [
    {
     "name": "stdout",
     "output_type": "stream",
     "text": [
      "Wall time: 17 ms\n"
     ]
    },
    {
     "data": {
      "text/plain": [
       "{('-1:word.lower():v', 'B-ORG'): 5.714631,\n",
       " ('+1:word.lower():1996-08-26', 'B-LOC'): 5.49878,\n",
       " ('word.lower():clinton', 'B-PER'): 5.465892,\n",
       " ('-1:word.lower():wisc', 'I-LOC'): 5.397224,\n",
       " ('-1:word.lower():colo', 'I-LOC'): 5.347955,\n",
       " ('word.lower():minister', 'O'): 5.346843,\n",
       " ('word[-3:]:day', 'O'): 5.285699,\n",
       " ('+1:word.lower():1996-08-27', 'B-LOC'): 5.257472,\n",
       " ('word.lower():hungary', 'B-LOC'): 5.040214,\n",
       " ('+1:word.lower():1996-08-25', 'B-LOC'): 5.006298}"
      ]
     },
     "execution_count": 163,
     "metadata": {},
     "output_type": "execute_result"
    }
   ],
   "source": [
    "x = crf.state_features_\n",
    "{k: v for k, v in sorted(x.items(), key=lambda item: item[1], reverse=True)[:10]}"
   ]
  },
  {
   "cell_type": "code",
   "execution_count": null,
   "id": "a8f0085e",
   "metadata": {},
   "outputs": [],
   "source": []
  }
 ],
 "metadata": {
  "kernelspec": {
   "display_name": "Python 3",
   "language": "python",
   "name": "python3"
  },
  "language_info": {
   "codemirror_mode": {
    "name": "ipython",
    "version": 3
   },
   "file_extension": ".py",
   "mimetype": "text/x-python",
   "name": "python",
   "nbconvert_exporter": "python",
   "pygments_lexer": "ipython3",
   "version": "3.8.8"
  }
 },
 "nbformat": 4,
 "nbformat_minor": 5
}
