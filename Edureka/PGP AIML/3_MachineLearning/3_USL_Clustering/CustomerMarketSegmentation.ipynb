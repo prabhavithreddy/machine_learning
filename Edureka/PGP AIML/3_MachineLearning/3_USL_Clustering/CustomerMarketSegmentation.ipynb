{
 "cells": [
  {
   "cell_type": "markdown",
   "metadata": {
    "id": "6YFakR0_VLSo"
   },
   "source": [
    "#**Scenario:** Unsupervised Learning: Customer Market Segmentation"
   ]
  },
  {
   "cell_type": "markdown",
   "metadata": {
    "id": "V3CgIqm2nNO9"
   },
   "source": [
    "\n",
    "\n",
    "The marketing department of any enterprise is responsible for promoting the products, ideas and mission of the enterprise, finding new customers, and reminding existing customers that you are in business\n",
    "\n",
    "###**Problem Statement:**\n",
    "\n",
    "You have been hired as a Data Scientist and have to perform Customer Market Segementation which will help the bank's marketing team to launch a targetted marketing ad campaign that is tailored to a specific group of customers. In simple words, the bank wants to divide their customers into atleast different groups for the ad-campaign to be successful\n",
    "\n",
    "This process is called **Market Segmentation** and it is crucial for maximizing marketing campaign conversion rate\n",
    "\n",
    "###**Aim:**\n",
    "\n",
    "In this demo, you have to build a clustering model to divide customer's into  distinctive groups"
   ]
  },
  {
   "cell_type": "markdown",
   "metadata": {
    "id": "Ko0v26EKVX4q"
   },
   "source": [
    "###**Dataset Description:**\n",
    "The [**data set**](https://www.dropbox.com/s/6v54wro81mlyp4x/marketing_data.csv) contains the following attributes:\n",
    "\n",
    "- **CUST_ID** -  Identification of Credit Card holder (Categorical)\n",
    "- **BALANCE** - Balance amount left in their account to make purchases\n",
    "- **BALANCE_FREQUENCY** - How frequently the Balance is updated, score between 0 and 1 (1 = frequently updated, 0 = not frequently updated)\n",
    "- **PURCHASES** - Amount of purchases made from account\n",
    "- **ONEOFF_PURCHASES** - Maximum purchase amount done in one-go\n",
    "- **INSTALLMENTS_PURCHASES** - Amount of purchase done in installment\n",
    "- **CASH_ADVANCE** -  Cash in advance given by the user\n",
    "- **PURCHASES_FREQUENCY** - How frequently the Purchases are being made, score between 0 and 1 (1 = frequently purchased, 0 = not frequently purchased)\n",
    "- **ONEOFF_PURCHASES_FREQUENCY** - How frequently Purchases are happening in one-go (1 = frequently purchased, 0 = not frequently purchased)\n",
    "- **PURCHASES_INSTALLMENTS_FREQUENCY** - How frequently purchases in installments are being done (1 = frequently done, 0 = not frequently done)\n",
    "- **CASH_ADVANCE_FREQUENCY** - How frequently the cash in advance being paid\n",
    "- **CASH_ADVANCE_TRX** - Number of Transactions made with \"Cash in Advanced\"\n",
    "- **PURCHASES_TRX** - Number of purchase transactions made\n",
    "- **CREDIT_LIMIT** - Limit of Credit Card for user\n",
    "- **PAYMENTS** - Amount of Payment done by user\n",
    "- **MINIMUM_PAYMENTS** - Minimum amount of payments made by user\n",
    "- **PRC_FULL_PAYMENT** - Percent of full payment paid by user\n",
    "- **TENURE** - Tenure of credit card service for user"
   ]
  },
  {
   "cell_type": "markdown",
   "metadata": {
    "id": "5hfyr_6PVTLd"
   },
   "source": [
    "###**Tasks to be performed:**\n",
    "- Import required libraries and load the data set from Dropbox\n",
    "- Perform Exploratory Data Analysis (EDA) on the data set\n",
    "  -  Generate a Data Report using Pandas Profiling and record your observations\n",
    "  - Plot **Univariate Distributions**\n",
    "    - What is the distribution of the Purchase & Purchases Frequency columns in the data set?\n",
    "    - What's the tenure of the credit card service for user?\n",
    "    \n",
    "  - Plot **Bi-Variate Distributions**\n",
    "    - How does the tenure of a credit card user affect its purchases?\n",
    "    - Analyse the data set for outliers using a Box Plot\n",
    "    \n",
    "- Pre-process that data set for modeling\n",
    "  - Handle Missing values present in the data set\n",
    "  - Deal with extreme values \n",
    "  - Perform scaling on the data set using StandardScaler\n",
    "- Modelling\n",
    "  - Build a K-Means Clustering Model and then, apply PCA to visualize the clusters and use Elbow Method to find optimal value of K \n",
    "  - Build a Hierarchial Model\n",
    "  - Build a DBSCAN Model\n",
    "  - Build a Spectral Clustering Model\n",
    "- Use **PyCaret** to build and analyze the models:\n",
    "\n",
    "  - Import PyCaret and load the data set\n",
    "  - Initialize or setup the environment \n",
    "  - Compare Multiple Models and their Accuracy Metrics\n",
    "  - Create the model\n",
    "  - Assign the model\n",
    "  - Plot the model\n"
   ]
  },
  {
   "cell_type": "markdown",
   "metadata": {
    "id": "GbO5UUpNqvlw"
   },
   "source": [
    "###**Install the required dependencies, import the required libraries and load the data set**\n"
   ]
  },
  {
   "cell_type": "markdown",
   "metadata": {
    "id": "egWlVE_Gs4Dz"
   },
   "source": [
    "####**Installing Dependencies**"
   ]
  },
  {
   "cell_type": "markdown",
   "metadata": {
    "id": "EoIsKOXbnata"
   },
   "source": [
    "**Note:** After Insalling Pandas Profiling, restart the kernel and run from the top excluding the installation cell\n",
    "\n",
    "- It's better to install all th libraries at the top"
   ]
  },
  {
   "cell_type": "code",
   "execution_count": 1,
   "metadata": {
    "colab": {
     "base_uri": "https://localhost:8080/"
    },
    "id": "b-n7zcFervZN",
    "outputId": "1daf5543-f77d-4510-9db4-de95ca3da301"
   },
   "outputs": [
    {
     "name": "stdout",
     "output_type": "stream",
     "text": [
      "Requirement already satisfied: pandas-profiling==2.7.1 in c:\\python36_64\\lib\\site-packages (2.7.1)\n",
      "Requirement already satisfied: matplotlib>=3.2.0 in c:\\python36_64\\lib\\site-packages (from pandas-profiling==2.7.1) (3.3.4)\n",
      "Requirement already satisfied: pandas!=1.0.0,!=1.0.1,!=1.0.2,>=0.25.3 in c:\\python36_64\\lib\\site-packages (from pandas-profiling==2.7.1) (1.1.5)\n",
      "Collecting visions[type_image_path]==0.4.1\n",
      "  Using cached visions-0.4.1-py3-none-any.whl (58 kB)\n",
      "Requirement already satisfied: jinja2>=2.11.1 in c:\\python36_64\\lib\\site-packages (from pandas-profiling==2.7.1) (3.0.1)\n",
      "Requirement already satisfied: astropy>=4.0 in c:\\python36_64\\lib\\site-packages (from pandas-profiling==2.7.1) (4.1)\n",
      "Requirement already satisfied: tangled-up-in-unicode>=0.0.4 in c:\\python36_64\\lib\\site-packages (from pandas-profiling==2.7.1) (0.1.0)\n",
      "Requirement already satisfied: confuse>=1.0.0 in c:\\python36_64\\lib\\site-packages (from pandas-profiling==2.7.1) (1.5.0)\n",
      "Requirement already satisfied: requests>=2.23.0 in c:\\python36_64\\lib\\site-packages (from pandas-profiling==2.7.1) (2.26.0)\n",
      "Requirement already satisfied: ipywidgets>=7.5.1 in c:\\python36_64\\lib\\site-packages (from pandas-profiling==2.7.1) (7.6.5)\n",
      "Requirement already satisfied: htmlmin>=0.1.12 in c:\\python36_64\\lib\\site-packages (from pandas-profiling==2.7.1) (0.1.12)\n",
      "Requirement already satisfied: numpy>=1.16.0 in c:\\python36_64\\lib\\site-packages (from pandas-profiling==2.7.1) (1.19.5)\n",
      "Requirement already satisfied: missingno>=0.4.2 in c:\\python36_64\\lib\\site-packages (from pandas-profiling==2.7.1) (0.5.0)\n",
      "Requirement already satisfied: tqdm>=4.43.0 in c:\\python36_64\\lib\\site-packages (from pandas-profiling==2.7.1) (4.50.2)\n",
      "Requirement already satisfied: phik>=0.9.10 in c:\\python36_64\\lib\\site-packages (from pandas-profiling==2.7.1) (0.12.0)\n",
      "Requirement already satisfied: scipy>=1.4.1 in c:\\python36_64\\lib\\site-packages (from pandas-profiling==2.7.1) (1.5.4)\n",
      "Requirement already satisfied: joblib in c:\\python36_64\\lib\\site-packages (from pandas-profiling==2.7.1) (1.0.1)\n",
      "Requirement already satisfied: attrs>=19.3.0 in c:\\python36_64\\lib\\site-packages (from visions[type_image_path]==0.4.1->pandas-profiling==2.7.1) (21.2.0)\n",
      "Requirement already satisfied: networkx>=2.4 in c:\\python36_64\\lib\\site-packages (from visions[type_image_path]==0.4.1->pandas-profiling==2.7.1) (2.5.1)\n",
      "Requirement already satisfied: Pillow in c:\\python36_64\\lib\\site-packages (from visions[type_image_path]==0.4.1->pandas-profiling==2.7.1) (8.2.0)"
     ]
    },
    {
     "name": "stderr",
     "output_type": "stream",
     "text": [
      "WARNING: Ignoring invalid distribution -wisted (c:\\python36_64\\lib\\site-packages)\n",
      "WARNING: Ignoring invalid distribution -wisted (c:\\python36_64\\lib\\site-packages)\n",
      "WARNING: Ignoring invalid distribution -wisted (c:\\python36_64\\lib\\site-packages)\n",
      "    WARNING: Ignoring invalid distribution -wisted (c:\\python36_64\\lib\\site-packages)\n",
      "WARNING: Ignoring invalid distribution -wisted (c:\\python36_64\\lib\\site-packages)\n",
      "WARNING: Ignoring invalid distribution -wisted (c:\\python36_64\\lib\\site-packages)\n",
      "WARNING: Ignoring invalid distribution -wisted (c:\\python36_64\\lib\\site-packages)\n"
     ]
    },
    {
     "name": "stdout",
     "output_type": "stream",
     "text": [
      "\n",
      "Requirement already satisfied: imagehash in c:\\python36_64\\lib\\site-packages (from visions[type_image_path]==0.4.1->pandas-profiling==2.7.1) (4.2.1)\n",
      "Requirement already satisfied: pyyaml in c:\\python36_64\\lib\\site-packages (from confuse>=1.0.0->pandas-profiling==2.7.1) (3.13)\n",
      "Requirement already satisfied: traitlets>=4.3.1 in c:\\python36_64\\lib\\site-packages (from ipywidgets>=7.5.1->pandas-profiling==2.7.1) (4.3.2)\n",
      "Requirement already satisfied: nbformat>=4.2.0 in c:\\python36_64\\lib\\site-packages (from ipywidgets>=7.5.1->pandas-profiling==2.7.1) (4.4.0)\n",
      "Requirement already satisfied: jupyterlab-widgets>=1.0.0 in c:\\python36_64\\lib\\site-packages (from ipywidgets>=7.5.1->pandas-profiling==2.7.1) (1.0.2)\n",
      "Requirement already satisfied: ipython>=4.0.0 in c:\\python36_64\\lib\\site-packages (from ipywidgets>=7.5.1->pandas-profiling==2.7.1) (6.5.0)\n",
      "Requirement already satisfied: widgetsnbextension~=3.5.0 in c:\\python36_64\\lib\\site-packages (from ipywidgets>=7.5.1->pandas-profiling==2.7.1) (3.5.1)\n",
      "Requirement already satisfied: ipython-genutils~=0.2.0 in c:\\python36_64\\lib\\site-packages (from ipywidgets>=7.5.1->pandas-profiling==2.7.1) (0.2.0)\n",
      "Requirement already satisfied: ipykernel>=4.5.1 in c:\\python36_64\\lib\\site-packages (from ipywidgets>=7.5.1->pandas-profiling==2.7.1) (5.5.5)\n",
      "Requirement already satisfied: tornado>=4.2 in c:\\python36_64\\lib\\site-packages (from ipykernel>=4.5.1->ipywidgets>=7.5.1->pandas-profiling==2.7.1) (6.1)\n",
      "Requirement already satisfied: jupyter-client in c:\\python36_64\\lib\\site-packages (from ipykernel>=4.5.1->ipywidgets>=7.5.1->pandas-profiling==2.7.1) (5.2.3)\n",
      "Requirement already satisfied: pickleshare in c:\\python36_64\\lib\\site-packages (from ipython>=4.0.0->ipywidgets>=7.5.1->pandas-profiling==2.7.1) (0.7.4)\n",
      "Requirement already satisfied: pygments in c:\\python36_64\\lib\\site-packages (from ipython>=4.0.0->ipywidgets>=7.5.1->pandas-profiling==2.7.1) (2.2.0)\n",
      "Requirement already satisfied: prompt-toolkit<2.0.0,>=1.0.15 in c:\\python36_64\\lib\\site-packages (from ipython>=4.0.0->ipywidgets>=7.5.1->pandas-profiling==2.7.1) (1.0.15)\n",
      "Requirement already satisfied: jedi>=0.10 in c:\\python36_64\\lib\\site-packages (from ipython>=4.0.0->ipywidgets>=7.5.1->pandas-profiling==2.7.1) (0.17.2)\n",
      "Requirement already satisfied: decorator in c:\\python36_64\\lib\\site-packages (from ipython>=4.0.0->ipywidgets>=7.5.1->pandas-profiling==2.7.1) (4.3.0)\n",
      "Requirement already satisfied: setuptools>=18.5 in c:\\python36_64\\lib\\site-packages (from ipython>=4.0.0->ipywidgets>=7.5.1->pandas-profiling==2.7.1) (54.2.0)\n",
      "Requirement already satisfied: colorama in c:\\python36_64\\lib\\site-packages (from ipython>=4.0.0->ipywidgets>=7.5.1->pandas-profiling==2.7.1) (0.3.9)\n",
      "Requirement already satisfied: backcall in c:\\python36_64\\lib\\site-packages (from ipython>=4.0.0->ipywidgets>=7.5.1->pandas-profiling==2.7.1) (0.1.0)\n",
      "Requirement already satisfied: simplegeneric>0.8 in c:\\python36_64\\lib\\site-packages (from ipython>=4.0.0->ipywidgets>=7.5.1->pandas-profiling==2.7.1) (0.8.1)\n",
      "Requirement already satisfied: parso<0.8.0,>=0.7.0 in c:\\python36_64\\lib\\site-packages (from jedi>=0.10->ipython>=4.0.0->ipywidgets>=7.5.1->pandas-profiling==2.7.1) (0.7.1)\n",
      "Requirement already satisfied: MarkupSafe>=2.0 in c:\\python36_64\\lib\\site-packages (from jinja2>=2.11.1->pandas-profiling==2.7.1) (2.0.1)\n",
      "Requirement already satisfied: python-dateutil>=2.1 in c:\\python36_64\\lib\\site-packages (from matplotlib>=3.2.0->pandas-profiling==2.7.1) (2.8.1)\n",
      "Requirement already satisfied: cycler>=0.10 in c:\\python36_64\\lib\\site-packages (from matplotlib>=3.2.0->pandas-profiling==2.7.1) (0.10.0)\n",
      "Requirement already satisfied: pyparsing!=2.0.4,!=2.1.2,!=2.1.6,>=2.0.3 in c:\\python36_64\\lib\\site-packages (from matplotlib>=3.2.0->pandas-profiling==2.7.1) (2.2.0)\n",
      "Requirement already satisfied: kiwisolver>=1.0.1 in c:\\python36_64\\lib\\site-packages (from matplotlib>=3.2.0->pandas-profiling==2.7.1) (1.0.1)\n",
      "Requirement already satisfied: six in c:\\python36_64\\lib\\site-packages (from cycler>=0.10->matplotlib>=3.2.0->pandas-profiling==2.7.1) (1.11.0)\n",
      "Requirement already satisfied: seaborn in c:\\python36_64\\lib\\site-packages (from missingno>=0.4.2->pandas-profiling==2.7.1) (0.11.0)\n",
      "Requirement already satisfied: jupyter-core in c:\\python36_64\\lib\\site-packages (from nbformat>=4.2.0->ipywidgets>=7.5.1->pandas-profiling==2.7.1) (4.4.0)\n",
      "Requirement already satisfied: jsonschema!=2.5.0,>=2.4 in c:\\python36_64\\lib\\site-packages (from nbformat>=4.2.0->ipywidgets>=7.5.1->pandas-profiling==2.7.1) (2.6.0)\n",
      "Requirement already satisfied: pytz>=2017.2 in c:\\python36_64\\lib\\site-packages (from pandas!=1.0.0,!=1.0.1,!=1.0.2,>=0.25.3->pandas-profiling==2.7.1) (2017.3)\n",
      "Requirement already satisfied: wcwidth in c:\\python36_64\\lib\\site-packages (from prompt-toolkit<2.0.0,>=1.0.15->ipython>=4.0.0->ipywidgets>=7.5.1->pandas-profiling==2.7.1) (0.1.7)\n",
      "Requirement already satisfied: urllib3<1.27,>=1.21.1 in c:\\python36_64\\lib\\site-packages (from requests>=2.23.0->pandas-profiling==2.7.1) (1.24.1)\n",
      "Requirement already satisfied: charset-normalizer~=2.0.0 in c:\\python36_64\\lib\\site-packages (from requests>=2.23.0->pandas-profiling==2.7.1) (2.0.5)\n",
      "Requirement already satisfied: idna<4,>=2.5 in c:\\python36_64\\lib\\site-packages (from requests>=2.23.0->pandas-profiling==2.7.1) (2.6)\n",
      "Requirement already satisfied: certifi>=2017.4.17 in c:\\python36_64\\lib\\site-packages (from requests>=2.23.0->pandas-profiling==2.7.1) (2019.11.28)\n",
      "Requirement already satisfied: notebook>=4.4.1 in c:\\python36_64\\lib\\site-packages (from widgetsnbextension~=3.5.0->ipywidgets>=7.5.1->pandas-profiling==2.7.1) (5.7.0)\n",
      "Requirement already satisfied: Send2Trash in c:\\python36_64\\lib\\site-packages (from notebook>=4.4.1->widgetsnbextension~=3.5.0->ipywidgets>=7.5.1->pandas-profiling==2.7.1) (1.5.0)\n",
      "Requirement already satisfied: pyzmq>=17 in c:\\python36_64\\lib\\site-packages (from notebook>=4.4.1->widgetsnbextension~=3.5.0->ipywidgets>=7.5.1->pandas-profiling==2.7.1) (17.1.2)\n",
      "Requirement already satisfied: nbconvert in c:\\python36_64\\lib\\site-packages (from notebook>=4.4.1->widgetsnbextension~=3.5.0->ipywidgets>=7.5.1->pandas-profiling==2.7.1) (5.4.0)\n",
      "Requirement already satisfied: terminado>=0.8.1 in c:\\python36_64\\lib\\site-packages (from notebook>=4.4.1->widgetsnbextension~=3.5.0->ipywidgets>=7.5.1->pandas-profiling==2.7.1) (0.8.1)\n",
      "Requirement already satisfied: prometheus-client in c:\\python36_64\\lib\\site-packages (from notebook>=4.4.1->widgetsnbextension~=3.5.0->ipywidgets>=7.5.1->pandas-profiling==2.7.1) (0.4.0)\n",
      "Requirement already satisfied: pywinpty>=0.5 in c:\\python36_64\\lib\\site-packages (from terminado>=0.8.1->notebook>=4.4.1->widgetsnbextension~=3.5.0->ipywidgets>=7.5.1->pandas-profiling==2.7.1) (0.5.4)\n",
      "Requirement already satisfied: PyWavelets in c:\\python36_64\\lib\\site-packages (from imagehash->visions[type_image_path]==0.4.1->pandas-profiling==2.7.1) (1.1.1)\n",
      "Requirement already satisfied: mistune>=0.8.1 in c:\\python36_64\\lib\\site-packages (from nbconvert->notebook>=4.4.1->widgetsnbextension~=3.5.0->ipywidgets>=7.5.1->pandas-profiling==2.7.1) (0.8.3)\n",
      "Requirement already satisfied: defusedxml in c:\\python36_64\\lib\\site-packages (from nbconvert->notebook>=4.4.1->widgetsnbextension~=3.5.0->ipywidgets>=7.5.1->pandas-profiling==2.7.1) (0.5.0)\n",
      "Requirement already satisfied: testpath in c:\\python36_64\\lib\\site-packages (from nbconvert->notebook>=4.4.1->widgetsnbextension~=3.5.0->ipywidgets>=7.5.1->pandas-profiling==2.7.1) (0.4.2)\n",
      "Requirement already satisfied: pandocfilters>=1.4.1 in c:\\python36_64\\lib\\site-packages (from nbconvert->notebook>=4.4.1->widgetsnbextension~=3.5.0->ipywidgets>=7.5.1->pandas-profiling==2.7.1) (1.4.2)\n",
      "Requirement already satisfied: bleach in c:\\python36_64\\lib\\site-packages (from nbconvert->notebook>=4.4.1->widgetsnbextension~=3.5.0->ipywidgets>=7.5.1->pandas-profiling==2.7.1) (3.0.0)\n",
      "Requirement already satisfied: entrypoints>=0.2.2 in c:\\python36_64\\lib\\site-packages (from nbconvert->notebook>=4.4.1->widgetsnbextension~=3.5.0->ipywidgets>=7.5.1->pandas-profiling==2.7.1) (0.2.3)\n",
      "Requirement already satisfied: webencodings in c:\\python36_64\\lib\\site-packages (from bleach->nbconvert->notebook>=4.4.1->widgetsnbextension~=3.5.0->ipywidgets>=7.5.1->pandas-profiling==2.7.1) (0.5.1)\n",
      "Installing collected packages: visions\n",
      "  Attempting uninstall: visions\n",
      "    Found existing installation: visions 0.7.4\n",
      "    Uninstalling visions-0.7.4:\n",
      "      Successfully uninstalled visions-0.7.4\n",
      "Successfully installed visions-0.4.1\n"
     ]
    }
   ],
   "source": [
    "#Intalling Pandas-Profiling\n",
    "\n",
    "!pip install pandas-profiling==2.7.1 "
   ]
  },
  {
   "cell_type": "code",
   "execution_count": 2,
   "metadata": {
    "colab": {
     "base_uri": "https://localhost:8080/"
    },
    "id": "gNlXwNIj8QQf",
    "outputId": "a9d5ba2e-9ca8-4cf3-ef18-6d000ff34abf"
   },
   "outputs": [
    {
     "name": "stdout",
     "output_type": "stream",
     "text": [
      "Collecting pycaret\n",
      "  Using cached pycaret-2.3.4-py3-none-any.whl (266 kB)\n",
      "Requirement already satisfied: numba<0.54 in c:\\python36_64\\lib\\site-packages (from pycaret) (0.35.0)\n",
      "Collecting Boruta\n",
      "  Using cached Boruta-0.3-py3-none-any.whl (56 kB)\n",
      "Requirement already satisfied: gensim<4.0.0 in c:\\python36_64\\lib\\site-packages (from pycaret) (3.8.3)\n",
      "Collecting umap-learn\n",
      "  Using cached umap_learn-0.5.1-py3-none-any.whl\n",
      "Requirement already satisfied: scipy<=1.5.4 in c:\\python36_64\\lib\\site-packages (from pycaret) (1.5.4)\n",
      "Collecting mlflow\n",
      "  Using cached mlflow-1.20.2-py3-none-any.whl (14.6 MB)\n",
      "Collecting yellowbrick>=1.0.1\n",
      "  Using cached yellowbrick-1.3.post1-py3-none-any.whl (271 kB)\n",
      "Collecting textblob\n",
      "  Using cached textblob-0.15.3-py2.py3-none-any.whl (636 kB)\n",
      "Collecting pandas-profiling>=2.8.0\n",
      "  Using cached pandas_profiling-3.1.0-py2.py3-none-any.whl (261 kB)\n",
      "Collecting cufflinks>=0.17.0\n",
      "  Using cached cufflinks-0.17.3-py3-none-any.whl\n",
      "Requirement already satisfied: joblib in c:\\python36_64\\lib\\site-packages (from pycaret) (1.0.1)\n",
      "Requirement already satisfied: pandas in c:\\python36_64\\lib\\site-packages (from pycaret) (1.1.5)\n",
      "Requirement already satisfied: plotly>=4.4.1 in c:\\python36_64\\lib\\site-packages (from pycaret) (4.14.3)\n",
      "Requirement already satisfied: IPython in c:\\python36_64\\lib\\site-packages (from pycaret) (6.5.0)\n",
      "Requirement already satisfied: numpy==1.19.5 in c:\\python36_64\\lib\\site-packages (from pycaret) (1.19.5)\n",
      "Requirement already satisfied: scikit-learn==0.23.2 in c:\\python36_64\\lib\\site-packages (from pycaret) (0.23.2)\n",
      "Collecting pyLDAvis\n",
      "  Using cached pyLDAvis-3.3.1.tar.gz (1.7 MB)\n",
      "  Installing build dependencies: started\n",
      "  Installing build dependencies: finished with status 'error'\n",
      "  Using cached pyLDAvis-3.3.0.tar.gz (1.7 MB)\n",
      "  Installing build dependencies: started\n",
      "  Installing build dependencies: finished with status 'error'\n",
      "  Using cached pyLDAvis-3.2.2-py2.py3-none-any.whl\n",
      "Requirement already satisfied: ipywidgets in c:\\python36_64\\lib\\site-packages (from pycaret) (7.6.5)\n",
      "Requirement already satisfied: nltk in c:\\python36_64\\lib\\site-packages (from pycaret) (3.4)\n",
      "Requirement already satisfied: spacy<2.4.0 in c:\\python36_64\\lib\\site-packages (from pycaret) (2.2.4)\n",
      "Requirement already satisfied: seaborn in c:\\python36_64\\lib\\site-packages (from pycaret) (0.11.0)\n",
      "Collecting pyod\n",
      "  Using cached pyod-0.9.3-py3-none-any.whl\n",
      "Collecting imbalanced-learn==0.7.0\n",
      "  Using cached imbalanced_learn-0.7.0-py3-none-any.whl (167 kB)\n",
      "Collecting kmodes>=0.10.1\n",
      "  Using cached kmodes-0.11.0-py2.py3-none-any.whl (18 kB)\n",
      "Collecting scikit-plot\n",
      "  Using cached scikit_plot-0.3.7-py3-none-any.whl (33 kB)\n",
      "Collecting wordcloud\n",
      "  Using cached wordcloud-1.8.1-cp36-cp36m-win_amd64.whl (154 kB)\n",
      "Collecting lightgbm>=2.3.1\n",
      "  Using cached lightgbm-3.2.1-py3-none-win_amd64.whl (1.0 MB)\n",
      "Collecting mlxtend>=0.17.0\n",
      "  Using cached mlxtend-0.19.0-py2.py3-none-any.whl (1.3 MB)\n",
      "Requirement already satisfied: matplotlib in c:\\python36_64\\lib\\site-packages (from pycaret) (3.3.4)\n",
      "Requirement already satisfied: threadpoolctl>=2.0.0 in c:\\python36_64\\lib\\site-packages (from scikit-learn==0.23.2->pycaret) (2.1.0)\n",
      "Requirement already satisfied: six>=1.9.0 in c:\\python36_64\\lib\\site-packages (from cufflinks>=0.17.0->pycaret) (1.11.0)\n",
      "Requirement already satisfied: setuptools>=34.4.1 in c:\\python36_64\\lib\\site-packages (from cufflinks>=0.17.0->pycaret) (54.2.0)\n",
      "Collecting colorlover>=0.2.1\n",
      "  Using cached colorlover-0.3.0-py3-none-any.whl (8.9 kB)\n",
      "Requirement already satisfied: smart-open>=1.8.1 in c:\\python36_64\\lib\\site-packages (from gensim<4.0.0->pycaret) (3.0.0)\n",
      "Requirement already satisfied: Cython==0.29.14 in c:\\python36_64\\lib\\site-packages (from gensim<4.0.0->pycaret) (0.29.14)\n",
      "Requirement already satisfied: colorama in c:\\python36_64\\lib\\site-packages (from IPython->pycaret) (0.3.9)\n",
      "Requirement already satisfied: prompt-toolkit<2.0.0,>=1.0.15 in c:\\python36_64\\lib\\site-packages (from IPython->pycaret) (1.0.15)\n",
      "Requirement already satisfied: traitlets>=4.2 in c:\\python36_64\\lib\\site-packages (from IPython->pycaret) (4.3.2)\n",
      "Requirement already satisfied: pygments in c:\\python36_64\\lib\\site-packages (from IPython->pycaret) (2.2.0)\n",
      "Requirement already satisfied: decorator in c:\\python36_64\\lib\\site-packages (from IPython->pycaret) (4.3.0)\n",
      "Requirement already satisfied: jedi>=0.10 in c:\\python36_64\\lib\\site-packages (from IPython->pycaret) (0.17.2)\n",
      "Requirement already satisfied: backcall in c:\\python36_64\\lib\\site-packages (from IPython->pycaret) (0.1.0)\n",
      "Requirement already satisfied: pickleshare in c:\\python36_64\\lib\\site-packages (from IPython->pycaret) (0.7.4)\n",
      "Requirement already satisfied: simplegeneric>0.8 in c:\\python36_64\\lib\\site-packages (from IPython->pycaret) (0.8.1)\n",
      "Requirement already satisfied: widgetsnbextension~=3.5.0 in c:\\python36_64\\lib\\site-packages (from ipywidgets->pycaret) (3.5.1)\n",
      "Requirement already satisfied: jupyterlab-widgets>=1.0.0 in c:\\python36_64\\lib\\site-packages (from ipywidgets->pycaret) (1.0.2)\n",
      "Requirement already satisfied: nbformat>=4.2.0 in c:\\python36_64\\lib\\site-packages (from ipywidgets->pycaret) (4.4.0)\n",
      "Requirement already satisfied: ipykernel>=4.5.1 in c:\\python36_64\\lib\\site-packages (from ipywidgets->pycaret) (5.5.5)\n",
      "Requirement already satisfied: ipython-genutils~=0.2.0 in c:\\python36_64\\lib\\site-packages (from ipywidgets->pycaret) (0.2.0)\n",
      "Requirement already satisfied: jupyter-client in c:\\python36_64\\lib\\site-packages (from ipykernel>=4.5.1->ipywidgets->pycaret) (5.2.3)\n",
      "Requirement already satisfied: tornado>=4.2 in c:\\python36_64\\lib\\site-packages (from ipykernel>=4.5.1->ipywidgets->pycaret) (6.1)\n",
      "Requirement already satisfied: parso<0.8.0,>=0.7.0 in c:\\python36_64\\lib\\site-packages (from jedi>=0.10->IPython->pycaret) (0.7.1)\n",
      "Requirement already satisfied: wheel in c:\\python36_64\\lib\\site-packages (from lightgbm>=2.3.1->pycaret) (0.32.3)\n",
      "Requirement already satisfied: kiwisolver>=1.0.1 in c:\\python36_64\\lib\\site-packages (from matplotlib->pycaret) (1.0.1)\n",
      "Requirement already satisfied: python-dateutil>=2.1 in c:\\python36_64\\lib\\site-packages (from matplotlib->pycaret) (2.8.1)\n",
      "Requirement already satisfied: pillow>=6.2.0 in c:\\python36_64\\lib\\site-packages (from matplotlib->pycaret) (8.2.0)\n",
      "Requirement already satisfied: pyparsing!=2.0.4,!=2.1.2,!=2.1.6,>=2.0.3 in c:\\python36_64\\lib\\site-packages (from matplotlib->pycaret) (2.2.0)\n",
      "Requirement already satisfied: cycler>=0.10 in c:\\python36_64\\lib\\site-packages (from matplotlib->pycaret) (0.10.0)\n",
      "Requirement already satisfied: jupyter-core in c:\\python36_64\\lib\\site-packages (from nbformat>=4.2.0->ipywidgets->pycaret) (4.4.0)\n",
      "Requirement already satisfied: jsonschema!=2.5.0,>=2.4 in c:\\python36_64\\lib\\site-packages (from nbformat>=4.2.0->ipywidgets->pycaret) (2.6.0)\n",
      "Requirement already satisfied: llvmlite in c:\\python36_64\\lib\\site-packages (from numba<0.54->pycaret) (0.36.0)\n",
      "Requirement already satisfied: pytz>=2017.2 in c:\\python36_64\\lib\\site-packages (from pandas->pycaret) (2017.3)\n",
      "Requirement already satisfied: requests>=2.24.0 in c:\\python36_64\\lib\\site-packages (from pandas-profiling>=2.8.0->pycaret) (2.26.0)\n",
      "Requirement already satisfied: tangled-up-in-unicode==0.1.0 in c:\\python36_64\\lib\\site-packages (from pandas-profiling>=2.8.0->pycaret) (0.1.0)\n",
      "Collecting pydantic>=1.8.1\n",
      "  Using cached pydantic-1.8.2-cp36-cp36m-win_amd64.whl (1.9 MB)\n",
      "Collecting PyYAML>=5.0.0\n",
      "  Using cached PyYAML-5.4.1-cp36-cp36m-win_amd64.whl (209 kB)\n",
      "Requirement already satisfied: jinja2>=2.11.1 in c:\\python36_64\\lib\\site-packages (from pandas-profiling>=2.8.0->pycaret) (3.0.1)\n",
      "Requirement already satisfied: tqdm>=4.48.2 in c:\\python36_64\\lib\\site-packages (from pandas-profiling>=2.8.0->pycaret) (4.50.2)\n",
      "Requirement already satisfied: multimethod>=1.4 in c:\\python36_64\\lib\\site-packages (from pandas-profiling>=2.8.0->pycaret) (1.4)\n",
      "Requirement already satisfied: missingno>=0.4.2 in c:\\python36_64\\lib\\site-packages (from pandas-profiling>=2.8.0->pycaret) (0.5.0)\n",
      "Requirement already satisfied: phik>=0.11.1 in c:\\python36_64\\lib\\site-packages (from pandas-profiling>=2.8.0->pycaret) (0.12.0)\n",
      "Requirement already satisfied: htmlmin>=0.1.12 in c:\\python36_64\\lib\\site-packages (from pandas-profiling>=2.8.0->pycaret) (0.1.12)\n",
      "Requirement already satisfied: markupsafe~=2.0.1 in c:\\python36_64\\lib\\site-packages (from pandas-profiling>=2.8.0->pycaret) (2.0.1)\n",
      "Collecting visions[type_image_path]==0.7.4\n",
      "  Using cached visions-0.7.4-py3-none-any.whl (102 kB)\n",
      "Requirement already satisfied: attrs>=19.3.0 in c:\\python36_64\\lib\\site-packages (from visions[type_image_path]==0.7.4->pandas-profiling>=2.8.0->pycaret) (21.2.0)\n",
      "Requirement already satisfied: networkx>=2.4 in c:\\python36_64\\lib\\site-packages (from visions[type_image_path]==0.7.4->pandas-profiling>=2.8.0->pycaret) (2.5.1)\n",
      "Requirement already satisfied: imagehash in c:\\python36_64\\lib\\site-packages (from visions[type_image_path]==0.7.4->pandas-profiling>=2.8.0->pycaret) (4.2.1)\n",
      "Requirement already satisfied: retrying>=1.3.3 in c:\\python36_64\\lib\\site-packages (from plotly>=4.4.1->pycaret) (1.3.3)\n",
      "Requirement already satisfied: wcwidth in c:\\python36_64\\lib\\site-packages (from prompt-toolkit<2.0.0,>=1.0.15->IPython->pycaret) (0.1.7)\n",
      "Collecting dataclasses>=0.6\n",
      "  Using cached dataclasses-0.8-py3-none-any.whl (19 kB)\n",
      "Requirement already satisfied: typing-extensions>=3.7.4.3 in c:\\python36_64\\lib\\site-packages (from pydantic>=1.8.1->pandas-profiling>=2.8.0->pycaret) (3.10.0.0)\n",
      "Requirement already satisfied: certifi>=2017.4.17 in c:\\python36_64\\lib\\site-packages (from requests>=2.24.0->pandas-profiling>=2.8.0->pycaret) (2019.11.28)\n",
      "Requirement already satisfied: charset-normalizer~=2.0.0 in c:\\python36_64\\lib\\site-packages (from requests>=2.24.0->pandas-profiling>=2.8.0->pycaret) (2.0.5)\n",
      "Requirement already satisfied: urllib3<1.27,>=1.21.1 in c:\\python36_64\\lib\\site-packages (from requests>=2.24.0->pandas-profiling>=2.8.0->pycaret) (1.24.1)\n",
      "Requirement already satisfied: idna<4,>=2.5 in c:\\python36_64\\lib\\site-packages (from requests>=2.24.0->pandas-profiling>=2.8.0->pycaret) (2.6)\n",
      "Requirement already satisfied: thinc==7.4.0 in c:\\python36_64\\lib\\site-packages (from spacy<2.4.0->pycaret) (7.4.0)\n",
      "Requirement already satisfied: murmurhash<1.1.0,>=0.28.0 in c:\\python36_64\\lib\\site-packages (from spacy<2.4.0->pycaret) (1.0.2)\n",
      "Requirement already satisfied: cymem<2.1.0,>=2.0.2 in c:\\python36_64\\lib\\site-packages (from spacy<2.4.0->pycaret) (2.0.3)\n",
      "Requirement already satisfied: srsly<1.1.0,>=1.0.2 in c:\\python36_64\\lib\\site-packages (from spacy<2.4.0->pycaret) (1.0.5)\n",
      "Requirement already satisfied: blis<0.5.0,>=0.4.0 in c:\\python36_64\\lib\\site-packages (from spacy<2.4.0->pycaret) (0.4.1)\n",
      "Requirement already satisfied: wasabi<1.1.0,>=0.4.0 in c:\\python36_64\\lib\\site-packages (from spacy<2.4.0->pycaret) (0.8.0)\n",
      "Requirement already satisfied: plac<1.2.0,>=0.9.6 in c:\\python36_64\\lib\\site-packages (from spacy<2.4.0->pycaret) (1.1.3)\n",
      "Requirement already satisfied: preshed<3.1.0,>=3.0.2 in c:\\python36_64\\lib\\site-packages (from spacy<2.4.0->pycaret) (3.0.2)\n",
      "Requirement already satisfied: catalogue<1.1.0,>=0.0.7 in c:\\python36_64\\lib\\site-packages (from spacy<2.4.0->pycaret) (1.0.0)\n",
      "Requirement already satisfied: importlib-metadata>=0.20 in c:\\python36_64\\lib\\site-packages (from catalogue<1.1.0,>=0.0.7->spacy<2.4.0->pycaret) (4.8.1)\n",
      "Requirement already satisfied: zipp>=0.5 in c:\\python36_64\\lib\\site-packages (from importlib-metadata>=0.20->catalogue<1.1.0,>=0.0.7->spacy<2.4.0->pycaret) (3.3.1)\n",
      "Requirement already satisfied: notebook>=4.4.1 in c:\\python36_64\\lib\\site-packages (from widgetsnbextension~=3.5.0->ipywidgets->pycaret) (5.7.0)\n",
      "Requirement already satisfied: Send2Trash in c:\\python36_64\\lib\\site-packages (from notebook>=4.4.1->widgetsnbextension~=3.5.0->ipywidgets->pycaret) (1.5.0)\n",
      "Requirement already satisfied: pyzmq>=17 in c:\\python36_64\\lib\\site-packages (from notebook>=4.4.1->widgetsnbextension~=3.5.0->ipywidgets->pycaret) (17.1.2)\n",
      "Requirement already satisfied: nbconvert in c:\\python36_64\\lib\\site-packages (from notebook>=4.4.1->widgetsnbextension~=3.5.0->ipywidgets->pycaret) (5.4.0)\n",
      "Requirement already satisfied: terminado>=0.8.1 in c:\\python36_64\\lib\\site-packages (from notebook>=4.4.1->widgetsnbextension~=3.5.0->ipywidgets->pycaret) (0.8.1)\n",
      "Requirement already satisfied: prometheus-client in c:\\python36_64\\lib\\site-packages (from notebook>=4.4.1->widgetsnbextension~=3.5.0->ipywidgets->pycaret) (0.4.0)\n",
      "Requirement already satisfied: pywinpty>=0.5 in c:\\python36_64\\lib\\site-packages (from terminado>=0.8.1->notebook>=4.4.1->widgetsnbextension~=3.5.0->ipywidgets->pycaret) (0.5.4)\n",
      "Requirement already satisfied: PyWavelets in c:\\python36_64\\lib\\site-packages (from imagehash->visions[type_image_path]==0.7.4->pandas-profiling>=2.8.0->pycaret) (1.1.1)\n",
      "Requirement already satisfied: gitpython>=2.1.0 in c:\\python36_64\\lib\\site-packages (from mlflow->pycaret) (3.1.17)\n",
      "Collecting databricks-cli>=0.8.7\n",
      "  Using cached databricks_cli-0.15.0-py3-none-any.whl\n",
      "Requirement already satisfied: Flask in c:\\python36_64\\lib\\site-packages (from mlflow->pycaret) (1.0.3)\n",
      "Requirement already satisfied: entrypoints in c:\\python36_64\\lib\\site-packages (from mlflow->pycaret) (0.2.3)\n",
      "Requirement already satisfied: click>=7.0 in c:\\python36_64\\lib\\site-packages (from mlflow->pycaret) (7.1.2)\n",
      "Collecting docker>=4.0.0\n",
      "  Using cached docker-5.0.2-py2.py3-none-any.whl (145 kB)\n",
      "Requirement already satisfied: cloudpickle in c:\\python36_64\\lib\\site-packages (from mlflow->pycaret) (0.2.2)\n",
      "Collecting sqlparse>=0.3.1\n",
      "  Using cached sqlparse-0.4.2-py3-none-any.whl (42 kB)\n",
      "Collecting alembic<=1.4.1\n",
      "  Using cached alembic-1.4.1-py2.py3-none-any.whl\n",
      "Requirement already satisfied: packaging in c:\\python36_64\\lib\\site-packages (from mlflow->pycaret) (18.0)\n",
      "Requirement already satisfied: protobuf>=3.7.0 in c:\\python36_64\\lib\\site-packages (from mlflow->pycaret) (3.17.3)\n",
      "Requirement already satisfied: sqlalchemy in c:\\python36_64\\lib\\site-packages (from mlflow->pycaret) (1.3.12)\n",
      "Collecting querystring-parser\n",
      "  Using cached querystring_parser-1.2.4-py2.py3-none-any.whl (7.9 kB)\n",
      "Collecting waitress\n",
      "  Using cached waitress-2.0.0-py3-none-any.whl (56 kB)\n",
      "Collecting prometheus-flask-exporter\n",
      "  Using cached prometheus_flask_exporter-0.18.2-py3-none-any.whl\n",
      "Collecting Mako\n",
      "  Using cached Mako-1.1.5-py2.py3-none-any.whl (75 kB)\n",
      "Collecting python-editor>=0.3\n",
      "  Using cached python_editor-1.0.4-py3-none-any.whl (4.9 kB)\n",
      "Requirement already satisfied: tabulate>=0.7.7 in c:\\python36_64\\lib\\site-packages (from databricks-cli>=0.8.7->mlflow->pycaret) (0.8.9)\n",
      "Requirement already satisfied: websocket-client>=0.32.0 in c:\\python36_64\\lib\\site-packages (from docker>=4.0.0->mlflow->pycaret) (1.2.1)\n",
      "Collecting pywin32==227\n",
      "  Using cached pywin32-227-cp36-cp36m-win_amd64.whl (9.1 MB)\n",
      "Requirement already satisfied: gitdb<5,>=4.0.1 in c:\\python36_64\\lib\\site-packages (from gitpython>=2.1.0->mlflow->pycaret) (4.0.7)\n",
      "Requirement already satisfied: smmap<5,>=3.0.1 in c:\\python36_64\\lib\\site-packages (from gitdb<5,>=4.0.1->gitpython>=2.1.0->mlflow->pycaret) (4.0.0)\n",
      "Requirement already satisfied: Werkzeug>=0.14 in c:\\python36_64\\lib\\site-packages (from Flask->mlflow->pycaret) (0.16.0)\n",
      "Requirement already satisfied: itsdangerous>=0.24 in c:\\python36_64\\lib\\site-packages (from Flask->mlflow->pycaret) (1.1.0)\n",
      "Requirement already satisfied: bleach in c:\\python36_64\\lib\\site-packages (from nbconvert->notebook>=4.4.1->widgetsnbextension~=3.5.0->ipywidgets->pycaret) (3.0.0)\n",
      "Requirement already satisfied: defusedxml in c:\\python36_64\\lib\\site-packages (from nbconvert->notebook>=4.4.1->widgetsnbextension~=3.5.0->ipywidgets->pycaret) (0.5.0)\n",
      "Requirement already satisfied: pandocfilters>=1.4.1 in c:\\python36_64\\lib\\site-packages (from nbconvert->notebook>=4.4.1->widgetsnbextension~=3.5.0->ipywidgets->pycaret) (1.4.2)\n",
      "Requirement already satisfied: testpath in c:\\python36_64\\lib\\site-packages (from nbconvert->notebook>=4.4.1->widgetsnbextension~=3.5.0->ipywidgets->pycaret) (0.4.2)\n",
      "Requirement already satisfied: mistune>=0.8.1 in c:\\python36_64\\lib\\site-packages (from nbconvert->notebook>=4.4.1->widgetsnbextension~=3.5.0->ipywidgets->pycaret) (0.8.3)\n",
      "Requirement already satisfied: webencodings in c:\\python36_64\\lib\\site-packages (from bleach->nbconvert->notebook>=4.4.1->widgetsnbextension~=3.5.0->ipywidgets->pycaret) (0.5.1)\n",
      "Requirement already satisfied: singledispatch in c:\\python36_64\\lib\\site-packages (from nltk->pycaret) (3.4.0.3)\n",
      "Requirement already satisfied: future in c:\\python36_64\\lib\\site-packages (from pyLDAvis->pycaret) (0.18.2)\n",
      "Requirement already satisfied: numexpr in c:\\python36_64\\lib\\site-packages (from pyLDAvis->pycaret) (2.6.8)\n",
      "Collecting funcy\n",
      "  Using cached funcy-1.16-py2.py3-none-any.whl (32 kB)\n",
      "Requirement already satisfied: statsmodels in c:\\python36_64\\lib\\site-packages (from pyod->pycaret) (0.12.2)\n",
      "Requirement already satisfied: patsy>=0.5 in c:\\python36_64\\lib\\site-packages (from statsmodels->pyod->pycaret) (0.5.1)\n",
      "Collecting numba<0.54\n",
      "  Using cached numba-0.53.1-cp36-cp36m-win_amd64.whl (2.3 MB)\n",
      "Collecting pynndescent>=0.5\n",
      "  Using cached pynndescent-0.5.4-py3-none-any.whl\n",
      "Installing collected packages: visions, pywin32, python-editor, numba, Mako, dataclasses, waitress, sqlparse, querystring-parser, PyYAML, pynndescent, pydantic, prometheus-flask-exporter, funcy, docker, databricks-cli, colorlover, alembic, yellowbrick, wordcloud, umap-learn, textblob, scikit-plot, pyod, pyLDAvis, pandas-profiling, mlxtend, mlflow, lightgbm, kmodes, imbalanced-learn, cufflinks, Boruta, pycaret\n",
      "  Attempting uninstall: visions\n",
      "    Found existing installation: visions 0.4.1\n",
      "    Uninstalling visions-0.4.1:\n",
      "      Successfully uninstalled visions-0.4.1\n",
      "  Attempting uninstall: pywin32\n",
      "    Found existing installation: pywin32 221\n"
     ]
    },
    {
     "name": "stderr",
     "output_type": "stream",
     "text": [
      "WARNING: Ignoring invalid distribution -wisted (c:\\python36_64\\lib\\site-packages)\n",
      "WARNING: Ignoring invalid distribution -wisted (c:\\python36_64\\lib\\site-packages)\n",
      "  ERROR: Command errored out with exit status 1:\n",
      "   command: 'c:\\python36_64\\python.exe' 'c:\\python36_64\\lib\\site-packages\\pip' install --ignore-installed --no-user --prefix 'C:\\Users\\vlekkala\\AppData\\Local\\Temp\\1\\pip-build-env-1m96_hzt\\overlay' --no-warn-script-location --no-binary :none: --only-binary :none: -i https://pypi.org/simple --trusted-host pypi.python.org --trusted-host pypi.org --trusted-host files.pythonhosted.org -- setuptools\n",
      "       cwd: None\n",
      "  Complete output (33 lines):\n",
      "  Traceback (most recent call last):\n",
      "    File \"c:\\python36_64\\lib\\runpy.py\", line 193, in _run_module_as_main\n",
      "      \"__main__\", mod_spec)\n",
      "    File \"c:\\python36_64\\lib\\runpy.py\", line 85, in _run_code\n",
      "      exec(code, run_globals)\n",
      "    File \"c:\\python36_64\\lib\\site-packages\\pip\\__main__.py\", line 31, in <module>\n",
      "      sys.exit(_main())\n",
      "    File \"c:\\python36_64\\lib\\site-packages\\pip\\_internal\\cli\\main.py\", line 68, in main\n",
      "      command = create_command(cmd_name, isolated=(\"--isolated\" in cmd_args))\n",
      "    File \"c:\\python36_64\\lib\\site-packages\\pip\\_internal\\commands\\__init__.py\", line 94, in create_command\n",
      "      module = importlib.import_module(module_path)\n",
      "    File \"c:\\python36_64\\lib\\importlib\\__init__.py\", line 126, in import_module\n",
      "      return _bootstrap._gcd_import(name[level:], package, level)\n",
      "    File \"<frozen importlib._bootstrap>\", line 978, in _gcd_import\n",
      "    File \"<frozen importlib._bootstrap>\", line 961, in _find_and_load\n",
      "    File \"<frozen importlib._bootstrap>\", line 950, in _find_and_load_unlocked\n",
      "    File \"<frozen importlib._bootstrap>\", line 655, in _load_unlocked\n",
      "    File \"<frozen importlib._bootstrap_external>\", line 678, in exec_module\n",
      "    File \"<frozen importlib._bootstrap>\", line 205, in _call_with_frames_removed\n",
      "    File \"c:\\python36_64\\lib\\site-packages\\pip\\_internal\\commands\\install.py\", line 14, in <module>\n",
      "      from pip._internal.cli.req_command import (\n",
      "    File \"c:\\python36_64\\lib\\site-packages\\pip\\_internal\\cli\\req_command.py\", line 21, in <module>\n",
      "      from pip._internal.index.package_finder import PackageFinder\n",
      "    File \"c:\\python36_64\\lib\\site-packages\\pip\\_internal\\index\\package_finder.py\", line 32, in <module>\n",
      "      from pip._internal.req import InstallRequirement\n",
      "    File \"c:\\python36_64\\lib\\site-packages\\pip\\_internal\\req\\__init__.py\", line 8, in <module>\n",
      "      from .req_install import InstallRequirement\n",
      "    File \"c:\\python36_64\\lib\\site-packages\\pip\\_internal\\req\\req_install.py\", line 8, in <module>\n",
      "      import uuid\n",
      "    File \"c:\\python36_64\\lib\\site-packages\\uuid.py\", line 138\n",
      "      if not 0 <= time_low < 1<<32L:\n",
      "                                  ^\n",
      "  SyntaxError: invalid syntax\n",
      "  ----------------------------------------\n",
      "WARNING: Discarding https://files.pythonhosted.org/packages/03/a5/15a0da6b0150b8b68610cc78af80364a80a9a4c8b6dd5ee549b8989d4b60/pyLDAvis-3.3.1.tar.gz#sha256=f181b88401f6f8f17d5a99ab69ef99b2c496faa276919262f8ec246307b7050c (from https://pypi.org/simple/pyldavis/). Command errored out with exit status 1: 'c:\\python36_64\\python.exe' 'c:\\python36_64\\lib\\site-packages\\pip' install --ignore-installed --no-user --prefix 'C:\\Users\\vlekkala\\AppData\\Local\\Temp\\1\\pip-build-env-1m96_hzt\\overlay' --no-warn-script-location --no-binary :none: --only-binary :none: -i https://pypi.org/simple --trusted-host pypi.python.org --trusted-host pypi.org --trusted-host files.pythonhosted.org -- setuptools Check the logs for full command output.\n",
      "  ERROR: Command errored out with exit status 1:\n",
      "   command: 'c:\\python36_64\\python.exe' 'c:\\python36_64\\lib\\site-packages\\pip' install --ignore-installed --no-user --prefix 'C:\\Users\\vlekkala\\AppData\\Local\\Temp\\1\\pip-build-env-0uayyxjq\\overlay' --no-warn-script-location --no-binary :none: --only-binary :none: -i https://pypi.org/simple --trusted-host pypi.python.org --trusted-host pypi.org --trusted-host files.pythonhosted.org -- setuptools\n",
      "       cwd: None\n",
      "  Complete output (33 lines):\n",
      "  Traceback (most recent call last):\n",
      "    File \"c:\\python36_64\\lib\\runpy.py\", line 193, in _run_module_as_main\n",
      "      \"__main__\", mod_spec)\n",
      "    File \"c:\\python36_64\\lib\\runpy.py\", line 85, in _run_code\n",
      "      exec(code, run_globals)\n",
      "    File \"c:\\python36_64\\lib\\site-packages\\pip\\__main__.py\", line 31, in <module>\n",
      "      sys.exit(_main())\n",
      "    File \"c:\\python36_64\\lib\\site-packages\\pip\\_internal\\cli\\main.py\", line 68, in main\n",
      "      command = create_command(cmd_name, isolated=(\"--isolated\" in cmd_args))\n",
      "    File \"c:\\python36_64\\lib\\site-packages\\pip\\_internal\\commands\\__init__.py\", line 94, in create_command\n",
      "      module = importlib.import_module(module_path)\n",
      "    File \"c:\\python36_64\\lib\\importlib\\__init__.py\", line 126, in import_module\n",
      "      return _bootstrap._gcd_import(name[level:], package, level)\n",
      "    File \"<frozen importlib._bootstrap>\", line 978, in _gcd_import\n",
      "    File \"<frozen importlib._bootstrap>\", line 961, in _find_and_load\n",
      "    File \"<frozen importlib._bootstrap>\", line 950, in _find_and_load_unlocked\n",
      "    File \"<frozen importlib._bootstrap>\", line 655, in _load_unlocked\n",
      "    File \"<frozen importlib._bootstrap_external>\", line 678, in exec_module\n",
      "    File \"<frozen importlib._bootstrap>\", line 205, in _call_with_frames_removed\n",
      "    File \"c:\\python36_64\\lib\\site-packages\\pip\\_internal\\commands\\install.py\", line 14, in <module>\n",
      "      from pip._internal.cli.req_command import (\n",
      "    File \"c:\\python36_64\\lib\\site-packages\\pip\\_internal\\cli\\req_command.py\", line 21, in <module>\n",
      "      from pip._internal.index.package_finder import PackageFinder\n",
      "    File \"c:\\python36_64\\lib\\site-packages\\pip\\_internal\\index\\package_finder.py\", line 32, in <module>\n",
      "      from pip._internal.req import InstallRequirement\n",
      "    File \"c:\\python36_64\\lib\\site-packages\\pip\\_internal\\req\\__init__.py\", line 8, in <module>\n",
      "      from .req_install import InstallRequirement\n",
      "    File \"c:\\python36_64\\lib\\site-packages\\pip\\_internal\\req\\req_install.py\", line 8, in <module>\n",
      "      import uuid\n",
      "    File \"c:\\python36_64\\lib\\site-packages\\uuid.py\", line 138\n",
      "      if not 0 <= time_low < 1<<32L:\n",
      "                                  ^\n",
      "  SyntaxError: invalid syntax\n",
      "  ----------------------------------------\n",
      "WARNING: Discarding https://files.pythonhosted.org/packages/7a/f0/0bad54f2ebe51e0aa09c6f69f53204f499b97b35b4d969d2c6644f48d834/pyLDAvis-3.3.0.tar.gz#sha256=828677860409ebf11b6077a4589a30ab94f51dc4b2f8751105aae8d95dd28dd4 (from https://pypi.org/simple/pyldavis/). Command errored out with exit status 1: 'c:\\python36_64\\python.exe' 'c:\\python36_64\\lib\\site-packages\\pip' install --ignore-installed --no-user --prefix 'C:\\Users\\vlekkala\\AppData\\Local\\Temp\\1\\pip-build-env-0uayyxjq\\overlay' --no-warn-script-location --no-binary :none: --only-binary :none: -i https://pypi.org/simple --trusted-host pypi.python.org --trusted-host pypi.org --trusted-host files.pythonhosted.org -- setuptools Check the logs for full command output.\n",
      "WARNING: Ignoring invalid distribution -wisted (c:\\python36_64\\lib\\site-packages)\n",
      "    WARNING: Ignoring invalid distribution -wisted (c:\\python36_64\\lib\\site-packages)\n",
      "    WARNING: Ignoring invalid distribution -wisted (c:\\python36_64\\lib\\site-packages)\n",
      "ERROR: Cannot uninstall 'pywin32'. It is a distutils installed project and thus we cannot accurately determine which files belong to it which would lead to only a partial uninstall.\n",
      "WARNING: Ignoring invalid distribution -wisted (c:\\python36_64\\lib\\site-packages)\n",
      "WARNING: Ignoring invalid distribution -wisted (c:\\python36_64\\lib\\site-packages)\n"
     ]
    }
   ],
   "source": [
    "!pip install pycaret"
   ]
  },
  {
   "cell_type": "code",
   "execution_count": 4,
   "metadata": {
    "colab": {
     "base_uri": "https://localhost:8080/"
    },
    "id": "F1jp_YxCUCpJ",
    "outputId": "f23dc3cd-92ab-4663-a873-f5e7a5f383b4"
   },
   "outputs": [],
   "source": [
    "#Downloading the data set from Dropbox\n",
    "#Please run this cell in Google Colab\n",
    "\n",
    "#!wget https://www.dropbox.com/s/6v54wro81mlyp4x/marketing_data.csv"
   ]
  },
  {
   "cell_type": "markdown",
   "metadata": {
    "id": "L0b4_4MIHWhY"
   },
   "source": [
    "####**Importing Required Libraries**"
   ]
  },
  {
   "cell_type": "code",
   "execution_count": 5,
   "metadata": {
    "colab": {
     "base_uri": "https://localhost:8080/"
    },
    "id": "P1YHquEhq7d2",
    "outputId": "ece4cbea-56dd-4e4e-9572-83f3b6b33e89"
   },
   "outputs": [
    {
     "name": "stdout",
     "output_type": "stream",
     "text": [
      "Libraries Imported\n"
     ]
    }
   ],
   "source": [
    "import pandas as pd\n",
    "import numpy as np\n",
    "import plotly.express as px\n",
    "import matplotlib.pyplot as plt\n",
    "import seaborn as sns\n",
    "from sklearn.preprocessing import StandardScaler\n",
    "from sklearn.model_selection import train_test_split\n",
    "from sklearn.cluster import KMeans\n",
    "import scipy.cluster.hierarchy as shc\n",
    "from sklearn.cluster import AgglomerativeClustering\n",
    "import plotly.express as px\n",
    "from sklearn.metrics import accuracy_score,confusion_matrix\n",
    "import pandas_profiling\n",
    "from pandas_profiling import ProfileReport\n",
    "from scipy import stats\n",
    "import numpy as np\n",
    "from sklearn.metrics import silhouette_score\n",
    "from sklearn.cluster import DBSCAN \n",
    "from sklearn.cluster import SpectralClustering\n",
    "\n",
    "sns.set()\n",
    "\n",
    "\n",
    "import warnings\n",
    "warnings.filterwarnings(\"ignore\")    \n",
    "import os\n",
    "\n",
    "\n",
    "print('Libraries Imported')"
   ]
  },
  {
   "cell_type": "code",
   "execution_count": 6,
   "metadata": {
    "colab": {
     "base_uri": "https://localhost:8080/"
    },
    "id": "Uk9bN0GnrSPt",
    "outputId": "efa7d7e5-e100-4bdd-b844-5cf33982a3d0"
   },
   "outputs": [
    {
     "data": {
      "text/html": [
       "<div>\n",
       "<style scoped>\n",
       "    .dataframe tbody tr th:only-of-type {\n",
       "        vertical-align: middle;\n",
       "    }\n",
       "\n",
       "    .dataframe tbody tr th {\n",
       "        vertical-align: top;\n",
       "    }\n",
       "\n",
       "    .dataframe thead th {\n",
       "        text-align: right;\n",
       "    }\n",
       "</style>\n",
       "<table border=\"1\" class=\"dataframe\">\n",
       "  <thead>\n",
       "    <tr style=\"text-align: right;\">\n",
       "      <th></th>\n",
       "      <th>CUST_ID</th>\n",
       "      <th>BALANCE</th>\n",
       "      <th>BALANCE_FREQUENCY</th>\n",
       "      <th>PURCHASES</th>\n",
       "      <th>ONEOFF_PURCHASES</th>\n",
       "      <th>INSTALLMENTS_PURCHASES</th>\n",
       "      <th>CASH_ADVANCE</th>\n",
       "      <th>PURCHASES_FREQUENCY</th>\n",
       "      <th>ONEOFF_PURCHASES_FREQUENCY</th>\n",
       "      <th>PURCHASES_INSTALLMENTS_FREQUENCY</th>\n",
       "      <th>CASH_ADVANCE_FREQUENCY</th>\n",
       "      <th>CASH_ADVANCE_TRX</th>\n",
       "      <th>PURCHASES_TRX</th>\n",
       "      <th>CREDIT_LIMIT</th>\n",
       "      <th>PAYMENTS</th>\n",
       "      <th>MINIMUM_PAYMENTS</th>\n",
       "      <th>PRC_FULL_PAYMENT</th>\n",
       "      <th>TENURE</th>\n",
       "    </tr>\n",
       "  </thead>\n",
       "  <tbody>\n",
       "    <tr>\n",
       "      <th>0</th>\n",
       "      <td>C10001</td>\n",
       "      <td>40.900749</td>\n",
       "      <td>0.818182</td>\n",
       "      <td>95.40</td>\n",
       "      <td>0.00</td>\n",
       "      <td>95.4</td>\n",
       "      <td>0.000000</td>\n",
       "      <td>0.166667</td>\n",
       "      <td>0.000000</td>\n",
       "      <td>0.083333</td>\n",
       "      <td>0.000000</td>\n",
       "      <td>0</td>\n",
       "      <td>2</td>\n",
       "      <td>1000.0</td>\n",
       "      <td>201.802084</td>\n",
       "      <td>139.509787</td>\n",
       "      <td>0.000000</td>\n",
       "      <td>12</td>\n",
       "    </tr>\n",
       "    <tr>\n",
       "      <th>1</th>\n",
       "      <td>C10002</td>\n",
       "      <td>3202.467416</td>\n",
       "      <td>0.909091</td>\n",
       "      <td>0.00</td>\n",
       "      <td>0.00</td>\n",
       "      <td>0.0</td>\n",
       "      <td>6442.945483</td>\n",
       "      <td>0.000000</td>\n",
       "      <td>0.000000</td>\n",
       "      <td>0.000000</td>\n",
       "      <td>0.250000</td>\n",
       "      <td>4</td>\n",
       "      <td>0</td>\n",
       "      <td>7000.0</td>\n",
       "      <td>4103.032597</td>\n",
       "      <td>1072.340217</td>\n",
       "      <td>0.222222</td>\n",
       "      <td>12</td>\n",
       "    </tr>\n",
       "    <tr>\n",
       "      <th>2</th>\n",
       "      <td>C10003</td>\n",
       "      <td>2495.148862</td>\n",
       "      <td>1.000000</td>\n",
       "      <td>773.17</td>\n",
       "      <td>773.17</td>\n",
       "      <td>0.0</td>\n",
       "      <td>0.000000</td>\n",
       "      <td>1.000000</td>\n",
       "      <td>1.000000</td>\n",
       "      <td>0.000000</td>\n",
       "      <td>0.000000</td>\n",
       "      <td>0</td>\n",
       "      <td>12</td>\n",
       "      <td>7500.0</td>\n",
       "      <td>622.066742</td>\n",
       "      <td>627.284787</td>\n",
       "      <td>0.000000</td>\n",
       "      <td>12</td>\n",
       "    </tr>\n",
       "    <tr>\n",
       "      <th>3</th>\n",
       "      <td>C10004</td>\n",
       "      <td>1666.670542</td>\n",
       "      <td>0.636364</td>\n",
       "      <td>1499.00</td>\n",
       "      <td>1499.00</td>\n",
       "      <td>0.0</td>\n",
       "      <td>205.788017</td>\n",
       "      <td>0.083333</td>\n",
       "      <td>0.083333</td>\n",
       "      <td>0.000000</td>\n",
       "      <td>0.083333</td>\n",
       "      <td>1</td>\n",
       "      <td>1</td>\n",
       "      <td>7500.0</td>\n",
       "      <td>0.000000</td>\n",
       "      <td>NaN</td>\n",
       "      <td>0.000000</td>\n",
       "      <td>12</td>\n",
       "    </tr>\n",
       "    <tr>\n",
       "      <th>4</th>\n",
       "      <td>C10005</td>\n",
       "      <td>817.714335</td>\n",
       "      <td>1.000000</td>\n",
       "      <td>16.00</td>\n",
       "      <td>16.00</td>\n",
       "      <td>0.0</td>\n",
       "      <td>0.000000</td>\n",
       "      <td>0.083333</td>\n",
       "      <td>0.083333</td>\n",
       "      <td>0.000000</td>\n",
       "      <td>0.000000</td>\n",
       "      <td>0</td>\n",
       "      <td>1</td>\n",
       "      <td>1200.0</td>\n",
       "      <td>678.334763</td>\n",
       "      <td>244.791237</td>\n",
       "      <td>0.000000</td>\n",
       "      <td>12</td>\n",
       "    </tr>\n",
       "  </tbody>\n",
       "</table>\n",
       "</div>"
      ],
      "text/plain": [
       "  CUST_ID      BALANCE  BALANCE_FREQUENCY  PURCHASES  ONEOFF_PURCHASES  \\\n",
       "0  C10001    40.900749           0.818182      95.40              0.00   \n",
       "1  C10002  3202.467416           0.909091       0.00              0.00   \n",
       "2  C10003  2495.148862           1.000000     773.17            773.17   \n",
       "3  C10004  1666.670542           0.636364    1499.00           1499.00   \n",
       "4  C10005   817.714335           1.000000      16.00             16.00   \n",
       "\n",
       "   INSTALLMENTS_PURCHASES  CASH_ADVANCE  PURCHASES_FREQUENCY  \\\n",
       "0                    95.4      0.000000             0.166667   \n",
       "1                     0.0   6442.945483             0.000000   \n",
       "2                     0.0      0.000000             1.000000   \n",
       "3                     0.0    205.788017             0.083333   \n",
       "4                     0.0      0.000000             0.083333   \n",
       "\n",
       "   ONEOFF_PURCHASES_FREQUENCY  PURCHASES_INSTALLMENTS_FREQUENCY  \\\n",
       "0                    0.000000                          0.083333   \n",
       "1                    0.000000                          0.000000   \n",
       "2                    1.000000                          0.000000   \n",
       "3                    0.083333                          0.000000   \n",
       "4                    0.083333                          0.000000   \n",
       "\n",
       "   CASH_ADVANCE_FREQUENCY  CASH_ADVANCE_TRX  PURCHASES_TRX  CREDIT_LIMIT  \\\n",
       "0                0.000000                 0              2        1000.0   \n",
       "1                0.250000                 4              0        7000.0   \n",
       "2                0.000000                 0             12        7500.0   \n",
       "3                0.083333                 1              1        7500.0   \n",
       "4                0.000000                 0              1        1200.0   \n",
       "\n",
       "      PAYMENTS  MINIMUM_PAYMENTS  PRC_FULL_PAYMENT  TENURE  \n",
       "0   201.802084        139.509787          0.000000      12  \n",
       "1  4103.032597       1072.340217          0.222222      12  \n",
       "2   622.066742        627.284787          0.000000      12  \n",
       "3     0.000000               NaN          0.000000      12  \n",
       "4   678.334763        244.791237          0.000000      12  "
      ]
     },
     "execution_count": 6,
     "metadata": {},
     "output_type": "execute_result"
    }
   ],
   "source": [
    "#To be filled by learner\n",
    "\n",
    "#Read the dataset \n",
    "df = pd.read_csv('marketing_data.csv')\n",
    "df.head()\n",
    "#Print the top 5 values"
   ]
  },
  {
   "cell_type": "markdown",
   "metadata": {
    "id": "390_8cteTkvf"
   },
   "source": [
    "###**Exploratory Data Analysis**"
   ]
  },
  {
   "cell_type": "markdown",
   "metadata": {
    "id": "xsujqAS_vbjm"
   },
   "source": [
    "**Note:** If you want to learn more about Pandas-Profiling [**Click Here!**](https://pypi.org/project/pandas-profiling/)"
   ]
  },
  {
   "cell_type": "code",
   "execution_count": null,
   "metadata": {
    "colab": {
     "base_uri": "https://localhost:8080/",
     "referenced_widgets": [
      "2544b8d5f1374804b28878704dc3faae",
      "af7c2f9ed2ff4c74ac19e0900e390d27",
      "59c1eb794bac4184b5893ba6301a8176",
      "e1b0b0c742e04e118253562d454e3111",
      "b405b4092c724ce99a92c7b50bad00d6",
      "f10aa559eee04ae8acd5d299cbe4663b",
      "b072e7d637c84b509fca61e1bc18cf7a",
      "0c909b41f1ed4ba98f096a44d812f084",
      "1ad51066113c49f88ea08dae40135f66",
      "b27bfcc0fb8d48eeb72fe1ba98bcff1d",
      "005952e0c11a42218f6ceec7e0204948",
      "6836a733cb2e498ea5a5c2cc34491dd6",
      "c3920b9112d243a0818dc5268415c82a",
      "373cb94ad41440d283f1fe6af55ed66f",
      "b29450101ec544dfa4d1fe0bfb72143e",
      "6574fa3b2af1489abe9d69b93b2637db",
      "3f4773f3bc694dbab3d14899e88556cf",
      "f9e47031514d491ab560c03d88108806",
      "8eedbc62e5e342ca8d14144a051c17e8",
      "0698a721d4924db5a3dab60ec532e088",
      "4ccae1e0061347fbab4e8b50db3b0278",
      "d85058852bab4f48b6f36975b2d386af",
      "a7859aee111247dbb4f142ea5307aeb1",
      "2b4c0b95a11a4daa92a1d9770faa466a",
      "ad51fa072c644061b5ef2eb4130ddcf9",
      "244d3f4995454715bc95ec0845cb41f4",
      "8be921488c5c4710b8f976a227771e52",
      "d6e783f95d2443e39e4dac3228307e6b",
      "2eec42711615404e99f2a45fd261f76f",
      "7f7a4c3ad955471ba593809f98bdb5c0",
      "cdf76cf25ed5419cb65afffe3c52690f",
      "65a0fcbf426149b099f557736c539bb0",
      "191ba3e882e04dab847930aa0f466277",
      "caafddb17b8846f69697fa32472f1276",
      "89cb599d211644759d4636efa756be44",
      "a0596a9e8625420f86e45510e08da701",
      "734e73b50616402196f7195aa2b4fc8c",
      "c373dc55c2f24fb4b3918f440796c1d5",
      "0c23f3f163424d6bba9dadf894f7d627",
      "d44e485b5e9542d3bbd4630336656994",
      "ee6bb9da5a374f33a6ba675caa1358fd",
      "1ca308a18879452fbc44db232a0f7453",
      "e470d257febe40a3a0706b32a2f68290",
      "a0fcfc09fdce4742a2523b1f20c730b7"
     ]
    },
    "id": "RdbFYXSGnzIJ",
    "outputId": "6c7bb142-f8f9-4c37-95da-fc70af489adf"
   },
   "outputs": [],
   "source": [
    "#To be filled by learner\n",
    "\n",
    "#Pass the data frame to the ProfileReport function\n",
    "#Generating a Data Report"
   ]
  },
  {
   "cell_type": "code",
   "execution_count": null,
   "metadata": {
    "colab": {
     "base_uri": "https://localhost:8080/",
     "referenced_widgets": [
      "a58ed76b9a924d4abcf4ffa57fbe3a9b",
      "97e87962c9bd42b697a526ab8b41ea3f",
      "0f8302390be5461189d4f35961783678",
      "7eee16d8c0854783b08e032a02b0eaea",
      "5dbbd6894c5b409db26356e152d72d0a",
      "b4d7927662f34108b7af38927f1a8ccc",
      "46b7c324dbb14588b33cbabddf3df490",
      "e97fe6d5cf804cacbdc7fec315161397",
      "e55377862768425ba5d013af01fee05f",
      "0dd7f0da8cda4917a5ecd0fea2502285",
      "be61f8125c0246c180e0b2af9c96c68c",
      "5f74908db7d34bd9a32ca3d3edcd7660",
      "2c93b5020dc14970a3bf5bf1c5969e4e",
      "f2fedc426288429695ab8f9ff6a9f19c",
      "9144799673d440ae816c4477d07daeee",
      "033382f52a314425b0052444fbedcd1c",
      "c7b4977ba8524e1284898ea99263d608",
      "53692a5984494fce870daec336f4359f",
      "d1c32732d3d84238aaaf13ce8dd86370",
      "d9e4a2dccc834b60beea798181a6f3f6",
      "44009f6de156404c906ae1db80a6b670",
      "a0db46e9e6a145e3a67dff4bb4ed4f5a",
      "73fc74d6b72048f59f15987224f7e7aa",
      "50b89f3b134d49d69ee6fbdba4d3fff6",
      "79b1d64ded0f4e369595ed6dfcaf9e06",
      "83b1cb9cc8a046c3b8d357d2469a80d6",
      "62f76049e0b74bf68c1a1808ed833c2f",
      "e52dffb1dbc5458cbcd12c2f29056e2e",
      "96bce0a5e7ab4e4fad4f3080767cdc05",
      "f039c94289084b638fd359c9ab259bdf",
      "c719dbe243ad4400960878a72ddb10c1",
      "14a487cb33a14feeb4043e0b4a86cdda",
      "f721df78adc74f3a86a334291dbb464e"
     ]
    },
    "id": "1alfG61zfj5I",
    "outputId": "c31408fd-2ccb-405a-de8d-c963963b0f2b"
   },
   "outputs": [],
   "source": [
    "#To be filled by learner\n",
    "\n",
    "#Display the notebook in Colab itself"
   ]
  },
  {
   "cell_type": "code",
   "execution_count": null,
   "metadata": {
    "colab": {
     "base_uri": "https://localhost:8080/",
     "referenced_widgets": [
      "1636c520763a4ba992e7b786ce7507df",
      "d4b5f8a157504f13a39c1f8b234dcdf4",
      "63acbbd3c73b4d7c853d41d4af344d58",
      "73cfedcb9b554e05b238b496e3fbd56c",
      "f6f5f49f7dac40e3a625b7dd8edd40c9",
      "d1e1108238ed4d6597698c8f7a0ed070",
      "a4aa943d5fae4bf2ae844380cee34621",
      "28057e6f81464edabfc8b818550d5690",
      "ff8d7c3b5f0e46a599b540d53e08c0d4",
      "a2ae63451ace43bda935cb8334c27f1b",
      "330469ac2f88487495d4c20ae95db43b",
      "d23917d47b0a4f81824f481ad9dd1d2f",
      "e85892293d9841b9a601f92f9cd39c8e",
      "72d645db1a864de2be7abc05e479528f",
      "b9096f422ceb412694111b273ab72356",
      "c5a6b44895e9414dbe5ad1d68552b0c0",
      "304c2d355af7422da91daa2b6a9c10ec",
      "ee237c70930c4d089c073e64f6e9c86a",
      "f7115142e00841bf966b5f8256d6789d",
      "900fe56f554149ae8212e4272cccaaee",
      "fba69b85885b457fa44efc713674521c",
      "6b4176d7f5e3497b8d890ed1b6e85d63",
      "6465117bdb984531b0a9fb7b30b0df4e",
      "daf369dacbed414aa807248dda8a91c7",
      "05fb96e78add4dfea3564eed37eb441b",
      "9cb69b92dfa24cbf853d2e676cbce37e",
      "6c514b0a0d2e4b319808c5f75b072456",
      "898f42d0a0a647748e802a7d9207d960",
      "b6fec89af5ed46a48cfc6ed128e473b0",
      "a48b2c0a3a524e679a214cc50d78201a",
      "c7ede108eaff4eaeb50c9f93a46a8929",
      "652b82bc91464540a3bd9e059ac781d4",
      "82ea8e0bdfee4b098119a8daa6ae70c7",
      "f96550e9a8944c61aca00c009073251a",
      "0900de9931334fcb8cd5b83440be01a0",
      "b0537ebe22f548cd8d7412117f4ccfdf",
      "b6b45dbd4c1546aea0ffc9ec5a116b1d",
      "498228514f954fd49c64c208b8b0874f",
      "95b70399a6684801b59735648f55a73f",
      "750f2fee95554abe9ceb8b478a10f551",
      "fd6aee13764b4accb62eef384665b2af",
      "4e21167eceda48d19cf7a42aabc3c71f",
      "aad397f77c014c20b40442e0937d9701",
      "838f3a0df68341c0ab8f3da87d644070"
     ]
    },
    "id": "CBg79aWet7FM",
    "outputId": "6316aa66-c51c-400b-ec08-f529a87530b5"
   },
   "outputs": [],
   "source": [
    "#Generating a Pandas Profiling Report \n"
   ]
  },
  {
   "cell_type": "markdown",
   "metadata": {
    "id": "lgUZ5iO1UVro"
   },
   "source": [
    "Please refer to the HTML file created by the name of **output.html**"
   ]
  },
  {
   "cell_type": "markdown",
   "metadata": {
    "id": "16Cq3sDJmv1Z"
   },
   "source": [
    "**Note:** Answer the following questions:\n",
    "\n",
    "- Which columns are highly **skewed**?\n",
    "- Which columns are highly **Kurtosis** driven?\n",
    "- Which columns have Wrong data type?\n",
    "- What columns seems to have **outliers** based on **min**, **max** and **percentile values**, **IQR range** along with the **standard deviation** and **mean absolute deviation**?\n",
    "- What columns have missing values? (Check the **Missing Values** section in **Pandas Profiling**)\n",
    "- What columns have high amount of zero/ infinite percentage and make sure that these zeroes/ infinite are supposed to be there\n",
    "\n",
    "**For Example:** Weight cannot be zero/ infinite and any percentage of zero/ infinite in column zero is erroneous\n",
    "- What columns have **high variance** and **standard deviation**?\n",
    "- Comment on the distribution of the continuous values **(Real Number: ℝ≥0)**\n",
    "- Do you see any alarming trends in the extreme values (minimum 5 and maximum 5)?\n",
    "- How many booleans columns are there in the data set and out of those how many are imbalanced?\n",
    "- Check for **duplicate records** across all columns (**Check Warning Section**)\n",
    "\n",
    "**For Example:** Gender Male and Female in which Male is **95%** and Female is just **5%**\n",
    "- How many columns are categorical?\n",
    "  - Are those categories in sync with the domain categories?\n",
    "  - Check if all the categories are unique and they represent distinct information\n",
    "  - Is there any imbalance in the categorical columns?\n",
    "\n",
    "Based on the above questions and your observations, chart out a plan for **Data Pre-processing** and feature engineering\n",
    "\n",
    "**Note:** Feature Engineering (Feature Selection and Feature Creation)\n",
    "\n",
    "- From the **Interaction Tab**, write at least 3 observations that may be very crucial for prediction. Make sure that they are in story format\n",
    "\n",
    "**For Example:** Av monthly hours vs Satisfaction Level..\n",
    "\n",
    "- Check **Pearson** and **Spearman** tab in the **correlation** section and note down the columns which are highly correlated (Postive and Negative Correlation). Create two bands of thresholds. (Consider 60 (0.6) to 80 (0.8) or 80 to 100 as high) \n"
   ]
  },
  {
   "cell_type": "markdown",
   "metadata": {
    "id": "1M6pXJhgUPsi"
   },
   "source": [
    "####**Plotting Univariate Distributions**\n",
    "A **Univariate distribution** is a probability distribution of only one random variable\n",
    "\n",
    "**Note:** You have already seen this in Pandas Profiling. Still, if you want to write the code, you can do so."
   ]
  },
  {
   "cell_type": "markdown",
   "metadata": {
    "id": "LjlVfKjcK9BR"
   },
   "source": [
    "What is the distribution of the **Purchase** & **Purchases Frequency** columns in the data set?\n"
   ]
  },
  {
   "cell_type": "code",
   "execution_count": null,
   "metadata": {
    "colab": {
     "base_uri": "https://localhost:8080/"
    },
    "id": "bQp2EcC4wlwY",
    "outputId": "5fd6fdca-3a60-403d-de91-4a524fb59d04"
   },
   "outputs": [],
   "source": [
    "#To be filled by learner"
   ]
  },
  {
   "cell_type": "markdown",
   "metadata": {
    "id": "SddwM-57DbGi"
   },
   "source": [
    "___\n",
    "**Observations:**\n",
    "- \n",
    "- \n",
    "___"
   ]
  },
  {
   "cell_type": "code",
   "execution_count": null,
   "metadata": {
    "colab": {
     "base_uri": "https://localhost:8080/"
    },
    "id": "Qd0xYF5gC61c",
    "outputId": "106371da-8ea1-48c6-fcab-cecbb9398436"
   },
   "outputs": [],
   "source": [
    "#To be filled by learner"
   ]
  },
  {
   "cell_type": "markdown",
   "metadata": {
    "id": "01Xeor1hL3R8"
   },
   "source": [
    "**What's the tenure of the credit card service for user?**\n"
   ]
  },
  {
   "cell_type": "code",
   "execution_count": null,
   "metadata": {
    "colab": {
     "base_uri": "https://localhost:8080/"
    },
    "id": "AJIm1KLi0in-",
    "outputId": "3d8bba26-2b2f-418c-83ce-c87359157d0f"
   },
   "outputs": [],
   "source": [
    "#To be filled by learner"
   ]
  },
  {
   "cell_type": "markdown",
   "metadata": {
    "id": "KsEr-BRaEHAS"
   },
   "source": [
    "___\n",
    "**Observations:**\n",
    "- \n",
    "- \n",
    "___"
   ]
  },
  {
   "cell_type": "markdown",
   "metadata": {
    "id": "8YOP7LrsUXMi"
   },
   "source": [
    "####**Bi-variate Distributions**\n",
    "- A Bi-variate distribution is a distribution of two random variables\n",
    "- The concept generalizes to any number of random variables, giving a **Multivariate Distribution**"
   ]
  },
  {
   "cell_type": "markdown",
   "metadata": {
    "id": "-jTPjFV4HccC"
   },
   "source": [
    "**How does the tenure of a credit card user affect its purchases?**"
   ]
  },
  {
   "cell_type": "code",
   "execution_count": null,
   "metadata": {
    "colab": {
     "base_uri": "https://localhost:8080/"
    },
    "id": "Tn3OJPPC0h9H",
    "outputId": "c7d4570f-3baa-4a57-ab06-ffaa6489584f"
   },
   "outputs": [],
   "source": [
    "#To be filled by learner"
   ]
  },
  {
   "cell_type": "markdown",
   "metadata": {
    "id": "6SeNtHv13OFp"
   },
   "source": [
    "___\n",
    "**Observations:**\n",
    "\n",
    "- \n",
    "- \n",
    "___"
   ]
  },
  {
   "cell_type": "markdown",
   "metadata": {
    "id": "XLhbUpUcMcQU"
   },
   "source": [
    "**Analyse the data set for outliers using a Box Plot**"
   ]
  },
  {
   "cell_type": "code",
   "execution_count": null,
   "metadata": {
    "colab": {
     "base_uri": "https://localhost:8080/"
    },
    "id": "xFtCgZAHesmS",
    "outputId": "b122342a-a4ce-4eca-fdc1-bacced903ec5"
   },
   "outputs": [],
   "source": [
    "#To be filled by learner"
   ]
  },
  {
   "cell_type": "code",
   "execution_count": null,
   "metadata": {
    "colab": {
     "base_uri": "https://localhost:8080/"
    },
    "id": "5ltVC1bAfZZC",
    "outputId": "7b797a02-e498-41fe-d4c5-ad6b2101ad21"
   },
   "outputs": [],
   "source": [
    "#To be filled by learner"
   ]
  },
  {
   "cell_type": "markdown",
   "metadata": {
    "id": "_riywvpDfecY"
   },
   "source": [
    "___\n",
    "**Observations:**\n",
    "- \n",
    "- \n",
    "___"
   ]
  },
  {
   "cell_type": "markdown",
   "metadata": {
    "id": "CAJEow0-Ud5V"
   },
   "source": [
    "###**Data Pre-processing**"
   ]
  },
  {
   "cell_type": "markdown",
   "metadata": {
    "id": "664Hekq0gY5N"
   },
   "source": [
    "**Handle Missing Values present in the data set**"
   ]
  },
  {
   "cell_type": "code",
   "execution_count": null,
   "metadata": {
    "colab": {
     "base_uri": "https://localhost:8080/"
    },
    "id": "u35vO33yYXZi",
    "outputId": "eb022980-8166-4135-8692-b07822d84b66"
   },
   "outputs": [],
   "source": [
    "#To be filled by learner"
   ]
  },
  {
   "cell_type": "code",
   "execution_count": null,
   "metadata": {
    "id": "Q-y6Pn8gYXUV"
   },
   "outputs": [],
   "source": [
    "#To be filled by learner"
   ]
  },
  {
   "cell_type": "code",
   "execution_count": null,
   "metadata": {
    "id": "vzW2cPG6YmBM"
   },
   "outputs": [],
   "source": [
    "#To be filled by learner"
   ]
  },
  {
   "cell_type": "code",
   "execution_count": null,
   "metadata": {
    "colab": {
     "base_uri": "https://localhost:8080/"
    },
    "id": "rvbejQPSYZha",
    "outputId": "ca4d7fe5-f73f-4980-8688-3260de0591ad"
   },
   "outputs": [],
   "source": [
    "#To be filled by learner"
   ]
  },
  {
   "cell_type": "code",
   "execution_count": null,
   "metadata": {
    "id": "6g9rxumig6fz"
   },
   "outputs": [],
   "source": [
    "#To be filled by learner\n",
    "\n",
    "#Dropping the CUST_ID Column"
   ]
  },
  {
   "cell_type": "markdown",
   "metadata": {
    "id": "-OclBhzmB46C"
   },
   "source": [
    "**Checking for correlation using heatmap**"
   ]
  },
  {
   "cell_type": "code",
   "execution_count": null,
   "metadata": {
    "colab": {
     "base_uri": "https://localhost:8080/"
    },
    "id": "5Bg_ZoUaBt17",
    "outputId": "11c7e4ae-530d-4b9b-ab3b-7396eae923c9"
   },
   "outputs": [],
   "source": [
    "#To be filled by learner"
   ]
  },
  {
   "cell_type": "markdown",
   "metadata": {
    "id": "lJrB4isLCBCl"
   },
   "source": [
    "**Removing highly correlated features(correlation>=0.8)**"
   ]
  },
  {
   "cell_type": "code",
   "execution_count": null,
   "metadata": {
    "id": "rMqVcUBaB9Vc"
   },
   "outputs": [],
   "source": [
    "#To be filled by learner"
   ]
  },
  {
   "cell_type": "markdown",
   "metadata": {
    "id": "u4VvFuIGCMBa"
   },
   "source": [
    "**Let us take care of outliers**"
   ]
  },
  {
   "cell_type": "code",
   "execution_count": null,
   "metadata": {
    "colab": {
     "base_uri": "https://localhost:8080/"
    },
    "id": "9OM9TgkTC4UK",
    "outputId": "e716e5ee-74cb-4991-94ba-519379e82816"
   },
   "outputs": [],
   "source": [
    "#To be filled by learner"
   ]
  },
  {
   "cell_type": "markdown",
   "metadata": {
    "id": "yeDj6rf2D125"
   },
   "source": [
    "**Let us use Z-Score to take care of Outliers**"
   ]
  },
  {
   "cell_type": "code",
   "execution_count": null,
   "metadata": {
    "colab": {
     "base_uri": "https://localhost:8080/"
    },
    "id": "bxf11CaoB9Rn",
    "outputId": "8f5e29d6-ad2f-439b-f5a7-03ab52372771"
   },
   "outputs": [],
   "source": [
    "# To be filled by learner"
   ]
  },
  {
   "cell_type": "code",
   "execution_count": null,
   "metadata": {
    "colab": {
     "base_uri": "https://localhost:8080/"
    },
    "id": "PKYpdEJQD1hm",
    "outputId": "1d262441-e2af-41ae-b26f-a251803b800e"
   },
   "outputs": [],
   "source": [
    "# To be filled by learner"
   ]
  },
  {
   "cell_type": "code",
   "execution_count": null,
   "metadata": {
    "colab": {
     "base_uri": "https://localhost:8080/"
    },
    "id": "4ikvkVX0D1c0",
    "outputId": "31c42b72-df1b-4df9-afe6-6fc0039ef1e1"
   },
   "outputs": [],
   "source": [
    "# To be filled by learner"
   ]
  },
  {
   "cell_type": "markdown",
   "metadata": {
    "id": "IDM81ScPEmDb"
   },
   "source": [
    "From Pandas Profiling, we saw that there is a lot skewness in columns: \n",
    "- **BALANCE**\n",
    "- **ONEOFF_PURCHASES**\n",
    "- **INSTALLMENTS_PURCHASES**\n",
    "- **CASH_ADVANCE**\n",
    "- **CASH_ADVANCE_TRX**\n",
    "- **PURCHASES_TRX**\n",
    "- **CREDIT_LIMIT**\n",
    "- **PAYMENTS**\n",
    "- **MINIMUM_PAYMENTS**\n"
   ]
  },
  {
   "cell_type": "code",
   "execution_count": null,
   "metadata": {
    "id": "5ICW2579FeBp"
   },
   "outputs": [],
   "source": [
    "# To be filled by learner\n",
    "\n",
    "#Performing Log Transformation to deal with Skewed Columns"
   ]
  },
  {
   "cell_type": "code",
   "execution_count": null,
   "metadata": {
    "colab": {
     "base_uri": "https://localhost:8080/"
    },
    "id": "Xu--nWRmF0hn",
    "outputId": "1841c13c-53b1-4b31-fa9d-eeb76e81097a"
   },
   "outputs": [],
   "source": []
  },
  {
   "cell_type": "markdown",
   "metadata": {
    "id": "MwK8K9jngf3c"
   },
   "source": [
    "**Scale the data set using StandardScaler**"
   ]
  },
  {
   "cell_type": "code",
   "execution_count": null,
   "metadata": {
    "id": "uhDbAqpzmhQo"
   },
   "outputs": [],
   "source": [
    "#To be filled by learner\n",
    "\n",
    "#Peforming Scaling on the data set"
   ]
  },
  {
   "cell_type": "code",
   "execution_count": null,
   "metadata": {
    "colab": {
     "base_uri": "https://localhost:8080/"
    },
    "id": "NFJFNRSxm2vY",
    "outputId": "dfe27f7e-1ecc-41ec-fd78-af0c2e4f3049"
   },
   "outputs": [],
   "source": [
    "#To be filled by learner\n",
    "\n",
    "#Checking the shape of the data set"
   ]
  },
  {
   "cell_type": "markdown",
   "metadata": {
    "id": "kZIVn6AAhYXC"
   },
   "source": [
    "###**Model Building**\n"
   ]
  },
  {
   "cell_type": "markdown",
   "metadata": {
    "id": "XgCeL6PlxmJu"
   },
   "source": [
    "###K-Means Clustering"
   ]
  },
  {
   "cell_type": "markdown",
   "metadata": {
    "id": "jQCfvAuchdce"
   },
   "source": [
    "**K-Means Clustering**\n",
    "\n",
    "- Unsupervised Learning Algorithm\n",
    "- Used to group some data points together (Clustering) in an Unsupervised fashion \n",
    "- Groups observations with similar attribute values together by measuring the Euclidean distance between points\n",
    "\n",
    "A **cluster** refers to a collection of data points clubbed together because of existing similarities between them. The task of identifying and assigning similar data-points to a cluster is known as **Clustering**.\n"
   ]
  },
  {
   "cell_type": "markdown",
   "metadata": {
    "id": "52-63RGK7e8h"
   },
   "source": [
    "**Steps in K-Means Algorithm:**\n",
    "\n",
    "**Step 1 :** Select the number of clusters you want to indentify i.e. the K.\n",
    " \n",
    "**Step 2 :**Randomly select K different or distinct data points as centroids\n",
    ".\n",
    "\n",
    "**Step 3 :**Calculate Distance (Euclidean, Manhattan, and Cosine, etc) and assign each data-point to the closest cluster centroid.\n",
    "\n",
    "**Step 4 :** Calculate the centroid of all the newly-formed clusters.\n",
    "\n",
    "**Step 5 :** Repeat steps 3 and 4 until the stopping criteria is met.\n",
    "\n",
    "**Stopping Criteria**\n",
    "\n",
    "We stop the K-Means Clustering Algorithm **when the centroids of the clusters are not changing at all even after multiple iterations. That means the algorithm is not finding any new patterns.**\n",
    "\n",
    "The algorithm will stop the training **once the maximum number of iterations has reached. For example - if you set the maximum number of iterations as 30, the algorithm will stop after 30 iterations.**\n"
   ]
  },
  {
   "cell_type": "markdown",
   "metadata": {
    "id": "y57vdm4Fh4EF"
   },
   "source": [
    "If you want to learn more about K-Means, [**Click Here!**](https://scikit-learn.org/stable/modules/generated/sklearn.cluster.KMeans.html)"
   ]
  },
  {
   "cell_type": "markdown",
   "metadata": {
    "id": "DAPS_lMmiVUN"
   },
   "source": [
    "Let us say you work at a bank, the customers provide you with features such as Age and Savings (How much did they save?). \n",
    "\n",
    "Now, you want to cluster these customers into different groups "
   ]
  },
  {
   "cell_type": "code",
   "execution_count": null,
   "metadata": {
    "colab": {
     "base_uri": "https://localhost:8080/"
    },
    "id": "Zm2WjRmtdixO",
    "outputId": "7e5c7433-c84e-4f23-93c9-d745f458dc9a"
   },
   "outputs": [],
   "source": [
    "#To be filled by learner\n",
    "\n",
    "#Here, we are assuming the value of k as 3\n",
    "\n",
    "#Creating a K-Means Object\n",
    "\n",
    "#Fitting the Model"
   ]
  },
  {
   "cell_type": "code",
   "execution_count": null,
   "metadata": {
    "colab": {
     "base_uri": "https://localhost:8080/"
    },
    "id": "Aghfak9EpUJM",
    "outputId": "972d1d08-d6ef-48e4-a0f4-dc28455f3401"
   },
   "outputs": [],
   "source": [
    "#To be filled by learner\n",
    "\n",
    "#Gives the labels associated to each data point "
   ]
  },
  {
   "cell_type": "code",
   "execution_count": null,
   "metadata": {
    "colab": {
     "base_uri": "https://localhost:8080/"
    },
    "id": "pj2YGp5xpecR",
    "outputId": "2a5db01c-d155-4f5b-afc3-cdcad9df457f"
   },
   "outputs": [],
   "source": [
    "#To be filled by learner"
   ]
  },
  {
   "cell_type": "code",
   "execution_count": null,
   "metadata": {
    "colab": {
     "base_uri": "https://localhost:8080/"
    },
    "id": "5q81SE8VpjRo",
    "outputId": "87dfd5be-4d4f-4fe0-c56e-9ffde51da9de"
   },
   "outputs": [],
   "source": [
    "#To be filled by learner"
   ]
  },
  {
   "cell_type": "markdown",
   "metadata": {
    "id": "FPP1RmtDqd2y"
   },
   "source": [
    "These are the centroids for all of these different features. The problem with the above data frame is that the data is already scaled. Let's apply inverse transform to scale the data back to it's original values\n"
   ]
  },
  {
   "cell_type": "code",
   "execution_count": null,
   "metadata": {
    "colab": {
     "base_uri": "https://localhost:8080/"
    },
    "id": "jWcfN0bFp2W8",
    "outputId": "3d2adedd-ae39-4edc-b2f4-19289addd767"
   },
   "outputs": [],
   "source": [
    "#To be filled by learner"
   ]
  },
  {
   "cell_type": "markdown",
   "metadata": {
    "id": "WJaQf0xEtl69"
   },
   "source": [
    "___\n",
    "**Observations:**\n",
    "- Cluster 1:\n",
    " - Customers with high credit limit purchases more frequently \n",
    " - These customers purchase items in installments\n",
    " -  They make the highest full payment in percentage and has been a credit card user for a very long time now\n",
    "___\n",
    "**NOTE::** Similarly, write observations for the remaining two clusters\n",
    "- Cluster 2:\n",
    " - \n",
    " - \n",
    " -\n",
    "- Cluster 3:\n",
    " - \n",
    " - \n",
    " -\n",
    "___\n",
    "\n"
   ]
  },
  {
   "cell_type": "code",
   "execution_count": null,
   "metadata": {
    "colab": {
     "base_uri": "https://localhost:8080/"
    },
    "id": "Biv82ACMoCT8",
    "outputId": "898847b1-2e03-42eb-a0d4-4cc3c9e72964"
   },
   "outputs": [],
   "source": [
    "#To be filled by learner\n",
    "\n",
    "#Predict the clusters"
   ]
  },
  {
   "cell_type": "code",
   "execution_count": null,
   "metadata": {
    "colab": {
     "base_uri": "https://localhost:8080/"
    },
    "id": "7cAEPVTltdkJ",
    "outputId": "6286b361-b42d-498f-a3c8-b53d19585244"
   },
   "outputs": [],
   "source": [
    "#To be filled by learner\n",
    "\n",
    "#Concatenate the Cluster Lables to our Original Dataframe"
   ]
  },
  {
   "cell_type": "code",
   "execution_count": null,
   "metadata": {
    "colab": {
     "base_uri": "https://localhost:8080/"
    },
    "id": "UklOeBpLtdgn",
    "outputId": "07e2cca4-9eba-4b01-d6c6-e9ae23199a7e"
   },
   "outputs": [],
   "source": [
    "#To be filled by learner\n",
    "\n",
    "#Plot the Histogram of Various Clusters"
   ]
  },
  {
   "cell_type": "markdown",
   "metadata": {
    "id": "iTeEj05Pw4PF"
   },
   "source": [
    "####**Apply Elbow Method to find the optimal value of K**"
   ]
  },
  {
   "cell_type": "markdown",
   "metadata": {
    "id": "KIMPyK0ZYFzS"
   },
   "source": [
    "####**How to determine the value of K?**\n",
    "\n",
    ">* If we know how many classes we want to classify, then we use that value as 'k'. For Example - All of us have heard of the Iris data or even worked with it earlier. It has three classes we could classify our flowers into. So, in that case the value of k could be taken as 3.\n",
    ">* If we don't know how many classes we want, then we will have to decide what the best 'k' value is. A very popular to find the value of 'k' is **Elbow Method**"
   ]
  },
  {
   "cell_type": "code",
   "execution_count": null,
   "metadata": {
    "id": "IqsXMHkch4vK"
   },
   "outputs": [],
   "source": [
    "#To be filled by learner"
   ]
  },
  {
   "cell_type": "code",
   "execution_count": null,
   "metadata": {
    "colab": {
     "base_uri": "https://localhost:8080/"
    },
    "id": "orCPqrXojaL4",
    "outputId": "6b958924-6494-4c06-8ce7-db7e4a675860"
   },
   "outputs": [],
   "source": [
    "#To be filled by learner\n",
    "\n",
    "#Plotting the Elbow Curve"
   ]
  },
  {
   "cell_type": "markdown",
   "metadata": {
    "id": "VXrPdrFYktch"
   },
   "source": [
    "**From above, we select the optimum value of k by determining the Elbow Point - a point after which the inertia starts decreasing linearly. In this case, we can select the value of k as 10.**"
   ]
  },
  {
   "cell_type": "markdown",
   "metadata": {
    "id": "F__9SqqzIq2-"
   },
   "source": [
    "###Apply PCA and visualize the results"
   ]
  },
  {
   "cell_type": "markdown",
   "metadata": {
    "id": "uy3zBFt6OMMO"
   },
   "source": [
    "Principal Component Analysis(PCA) is a dimensionality reduction technique in which we extract a new set of variables from the dataset. It is one of the widely used unsupervised algorithms. \t\n",
    "\n",
    "This technique can also be used for:\n",
    "\n",
    "- **visualization**\n",
    "- **noise filtering**\n",
    "- **feature extraction or engineering**\n"
   ]
  },
  {
   "cell_type": "code",
   "execution_count": null,
   "metadata": {
    "colab": {
     "base_uri": "https://localhost:8080/"
    },
    "id": "RByrttreIvxH",
    "outputId": "1294c32c-f1b3-4972-fdc4-33ed00cc6aed"
   },
   "outputs": [],
   "source": [
    "#To be filled by learner\n",
    "\n",
    "# Obtain the principal components "
   ]
  },
  {
   "cell_type": "markdown",
   "metadata": {
    "id": "junHxxPdSmc6"
   },
   "source": [
    "In this example, we are using PCA to bring down the number of dimensions from **14** to **2** (n_components)\n",
    "\n",
    "PCA has a number of parameters such as- \n",
    "\n",
    "*   **n_components-** Defines the number of components you want to project your data onto.\n",
    "*  **random state-** Fixed value which will guarantee the same sequence of random numbers are generated each time you run the code. And unless there is some other randomness present in the process, the results produced will be same as always. This helps in verifying the output.\n",
    "\n",
    "For more information on PCA parameters [click here](https://scikit-learn.org/stable/modules/generated/sklearn.decomposition.PCA.html) \n",
    "\n"
   ]
  },
  {
   "cell_type": "code",
   "execution_count": null,
   "metadata": {
    "colab": {
     "base_uri": "https://localhost:8080/"
    },
    "id": "OJPYqx04JT5k",
    "outputId": "7a6b6814-2dec-4c27-c6f9-d42485c72f7d"
   },
   "outputs": [],
   "source": [
    "#To be filled by learner\n",
    "\n",
    "# Create a dataframe with the two components"
   ]
  },
  {
   "cell_type": "code",
   "execution_count": null,
   "metadata": {
    "id": "g4ihbxSDut_W"
   },
   "outputs": [],
   "source": [
    "#To be filled by learner\n"
   ]
  },
  {
   "cell_type": "code",
   "execution_count": null,
   "metadata": {
    "colab": {
     "base_uri": "https://localhost:8080/"
    },
    "id": "2mpfRnCuIvtP",
    "outputId": "3f2531a0-fddb-4e2b-dca9-5dc6cab3a34f"
   },
   "outputs": [],
   "source": [
    "#To be filled by learner\n",
    "\n",
    "# Concatenate the clusters labels to the dataframe"
   ]
  },
  {
   "cell_type": "code",
   "execution_count": null,
   "metadata": {
    "colab": {
     "base_uri": "https://localhost:8080/"
    },
    "id": "Vsv7WQxum8Fn",
    "outputId": "67081316-425c-4785-fed5-4e1cbf8eb7a9"
   },
   "outputs": [],
   "source": [
    "#To be filled by learner"
   ]
  },
  {
   "cell_type": "code",
   "execution_count": null,
   "metadata": {
    "id": "gvfNudUOpsJX"
   },
   "outputs": [],
   "source": [
    "#To be filled by learners\n",
    "\n",
    "\n",
    "# Training the model and Storing the predicted cluster labels "
   ]
  },
  {
   "cell_type": "markdown",
   "metadata": {
    "id": "xbi3-kF1q9sl"
   },
   "source": [
    "**Silhouette score**\n",
    "- Used to evaluate the quality of clusters created using clustering algorithms such as K-Means in terms of how well samples are clustered with other samples that are similar to each other \n",
    "- Calculated for each sample of different clusters\n",
    "- Value ranges from -1 to 1\n",
    " - **1:** Means clusters are well apart from each other and clearly distinguished.\n",
    " - **0:** Means clusters are indifferent, or we can say that the distance between clusters is not significant.\n",
    " - **-1:** Means clusters are assigned in the wrong way"
   ]
  },
  {
   "cell_type": "code",
   "execution_count": null,
   "metadata": {
    "colab": {
     "base_uri": "https://localhost:8080/"
    },
    "id": "N2ml3hlFqQfb",
    "outputId": "2390b5fb-7510-48c0-fa89-660a4766d267"
   },
   "outputs": [],
   "source": [
    "#To be filled by learner"
   ]
  },
  {
   "cell_type": "markdown",
   "metadata": {
    "id": "cLk1T0ZjxuVl"
   },
   "source": [
    "###Hierarchial Clustering"
   ]
  },
  {
   "cell_type": "markdown",
   "metadata": {
    "id": "RHlle5aDckA9"
   },
   "source": [
    "**Understanding Hierarchical Clustering**\n",
    "\n",
    "Hierarchical Clustering is an unsupervised learning algorithm which is used to group similar data-points in a cluster. It creates clusters that have a pre-determined order from top to bottom. For example, files and folders organized in a hierarchy on a hard-disk.\n",
    "\n",
    "There are two types of Hierarchial Clustering:\n",
    "\n",
    "\n",
    "\n",
    "*   **Agglomerative Hierarchial Clustering** :\n",
    "\n",
    "It is most commonly used. It works in a **bottom-up manner**. Here, we assign each data-point to a individual cluster and then calculate the similarity between each of the clusters using either **Eulidean Distance** or **Manhattan Distance** and club the most similar clusters. It merges similar points of cluster and stops when all the data-points are merged into a single cluster.\n",
    "\n",
    "*   **Divisive Hierarchial Clustering** :\n",
    "\n",
    "It is not used much. It is the inverse of Agglomerative Hierarchial Clustering. It works in a top-down manner. Here, we assign all the data-points to a single cluster after each iteration we remove the data-points from the cluster which are not similar and each data-point that we remove is treated as an individual cluster. Here, we are dividing the cluster in every step. This is why, it is known as Divisive Hierarchial Clustering. \n",
    "\n",
    "The Hierarchial Clustering technique can be visualized with a **Dendrogram**.\n",
    "\n",
    "A dendrogram is a tree-like diagram showing hierarchical clustering. It shows the relationships between similar sets of data-points. We can also use the concept of Dendrogram to decide the number of clusters in Hieararchial Clustering.\n",
    "\n",
    "\n",
    "\n"
   ]
  },
  {
   "cell_type": "markdown",
   "metadata": {
    "id": "Moc3m-ZCiDMo"
   },
   "source": [
    "If you want to learn more about Agglomerative Clustering, [**Click Here!**](https://scikit-learn.org/stable/modules/generated/sklearn.cluster.AgglomerativeClustering.html)"
   ]
  },
  {
   "cell_type": "markdown",
   "metadata": {
    "id": "eSpoA5TN0W_H"
   },
   "source": [
    "####**Getting the Dendrogram**"
   ]
  },
  {
   "cell_type": "code",
   "execution_count": null,
   "metadata": {
    "colab": {
     "base_uri": "https://localhost:8080/"
    },
    "id": "T-1Id4SFxK_v",
    "outputId": "92444185-a46e-4ab2-86bf-f92de6a64a60"
   },
   "outputs": [],
   "source": [
    "#To be filled by learner\n",
    "\n",
    "#Print the Dendrogram"
   ]
  },
  {
   "cell_type": "markdown",
   "metadata": {
    "id": "k_LqKMci1KcK"
   },
   "source": [
    "####**How to decide the Number of Clusters?**"
   ]
  },
  {
   "cell_type": "markdown",
   "metadata": {
    "id": "4JTcZRFK0jn3"
   },
   "source": [
    "\n",
    "\n",
    "From above, you can see that blue line has the maximum distance. We can select a threshold of 125 and the cut the dendrogram."
   ]
  },
  {
   "cell_type": "code",
   "execution_count": null,
   "metadata": {
    "colab": {
     "base_uri": "https://localhost:8080/"
    },
    "id": "-79Mt_qsxMyf",
    "outputId": "8f93a4b3-6adb-432b-e2e6-b0bb72f9877d"
   },
   "outputs": [],
   "source": [
    "#To be filled by learner"
   ]
  },
  {
   "cell_type": "markdown",
   "metadata": {
    "id": "oGWnFSs_1k82"
   },
   "source": [
    "**From above, you can see that the line cuts the dendrogram at 3 points. That means we are going to apply hierarchial clustering for 3 clusters**"
   ]
  },
  {
   "cell_type": "markdown",
   "metadata": {
    "id": "Ktiu9Qfx4PHn"
   },
   "source": [
    "####**Applying Hierarchial Clustering**"
   ]
  },
  {
   "cell_type": "code",
   "execution_count": null,
   "metadata": {
    "id": "LBXp8zEf1dID"
   },
   "outputs": [],
   "source": [
    "#To be filled by learner\n",
    "\n",
    "#Agglomerative Hierarchial Clustering\n",
    "\n",
    "#Fit and predict the clusters"
   ]
  },
  {
   "cell_type": "markdown",
   "metadata": {
    "id": "g3lT-6m93ERK"
   },
   "source": [
    "**From above, you can see values between 0 and 4 beacuse we defined 4 clusters. 0 represents the points that belongs to the first cluster and 1 represents the points that belongs to the second cluster and so on. These values represents the cluster labels**"
   ]
  },
  {
   "cell_type": "code",
   "execution_count": null,
   "metadata": {
    "colab": {
     "base_uri": "https://localhost:8080/"
    },
    "id": "gmWuaaa8xykk",
    "outputId": "9d4808c0-f5ef-4a0b-bd09-ee3646db3cb5"
   },
   "outputs": [],
   "source": [
    "#To be filled by learner\n",
    "\n",
    "# Visualizing the clustering "
   ]
  },
  {
   "cell_type": "code",
   "execution_count": null,
   "metadata": {
    "colab": {
     "base_uri": "https://localhost:8080/"
    },
    "id": "wvqRvFz6tCHl",
    "outputId": "abd64e3f-c574-48a6-ee67-37e382a269cb"
   },
   "outputs": [],
   "source": [
    "#To be filled by learner\n",
    "\n",
    "#Print the Silhouette Score"
   ]
  },
  {
   "cell_type": "markdown",
   "metadata": {
    "id": "DZjeCSuCJvZD"
   },
   "source": [
    "###DBSCAN Clustering\n",
    "\n",
    "DBSCAN stands for Density-Based Spatial Clustering of Applications with Noise. This technique is one of the most common clustering algorithms  which works based on density of object.\n",
    "The whole idea is that if a particular point belongs to a cluster, it should be near to lots of other points in that cluster.\n",
    "\n",
    "It works based on two parameters: Epsilon and Minimum Points  \n",
    "\n",
    "- **Epsilon** determine a specified radius that if includes enough number of points within, we call it dense area  \n",
    "- **minimumSamples** determine the minimum number of data points we want in a neighborhood to define a cluster.\n"
   ]
  },
  {
   "cell_type": "markdown",
   "metadata": {
    "id": "XhV0DdZxiTR6"
   },
   "source": [
    "If you want to learn more about **DBSCAN** Clustering, [**Click Here!**](https://scikit-learn.org/stable/modules/generated/sklearn.cluster.DBSCAN.html)"
   ]
  },
  {
   "cell_type": "code",
   "execution_count": null,
   "metadata": {
    "colab": {
     "base_uri": "https://localhost:8080/"
    },
    "id": "xECoDrWIJxoW",
    "outputId": "9f669ca1-ab32-4c93-9bf9-a4829510aca4"
   },
   "outputs": [],
   "source": [
    "#To be filled by learner\n",
    "\n",
    "#Define epsilon and minimumSamples\n",
    "\n",
    "#Create a DBSCAN Object\n",
    "#Fit the model\n",
    "\n",
    "#Print the labels"
   ]
  },
  {
   "cell_type": "code",
   "execution_count": null,
   "metadata": {
    "colab": {
     "base_uri": "https://localhost:8080/"
    },
    "id": "l2Jq8WscJxgY",
    "outputId": "26a46b87-18cd-4e8a-ec5e-4eb56040e215"
   },
   "outputs": [],
   "source": [
    "#To be filled by learner"
   ]
  },
  {
   "cell_type": "markdown",
   "metadata": {
    "id": "_C7pJXkVrbf0"
   },
   "source": [
    "###Spectral Clustering\n",
    "\n"
   ]
  },
  {
   "cell_type": "code",
   "execution_count": null,
   "metadata": {
    "id": "jxaORWAMuhRJ"
   },
   "outputs": [],
   "source": [
    "#To be filled by learner\n",
    "\n",
    "#Create a SpectralClustering Object\n",
    "\n"
   ]
  },
  {
   "cell_type": "code",
   "execution_count": null,
   "metadata": {
    "colab": {
     "base_uri": "https://localhost:8080/"
    },
    "id": "5zuOpiOyreHB",
    "outputId": "f3df5962-5efb-424e-dbe3-72833f0a15cb"
   },
   "outputs": [],
   "source": [
    "#To be filled by learner\n",
    "\n",
    "# List of different values of affinity \n",
    "\n",
    "# List of Silhouette Scores \n",
    "\n",
    "# Evaluating the performance \n",
    "\n",
    "#Print the Silhouette Scores"
   ]
  },
  {
   "cell_type": "code",
   "execution_count": null,
   "metadata": {
    "colab": {
     "base_uri": "https://localhost:8080/"
    },
    "id": "ujoozWvPreKG",
    "outputId": "89a6e88e-27ad-4c56-f7e7-427ec9d34bd0"
   },
   "outputs": [],
   "source": [
    "#To be filled by learner\n",
    "\n",
    "# Plotting a Bar Graph to compare the models "
   ]
  },
  {
   "cell_type": "markdown",
   "metadata": {
    "id": "QIMMxLRhD4jx"
   },
   "source": [
    "###**PyCaret**\n",
    "\n",
    "\n",
    "Use **PyCaret** to find the best model and perform Automatic Hyperparameter tuning"
   ]
  },
  {
   "cell_type": "markdown",
   "metadata": {
    "id": "I3g8pRpPFTX4"
   },
   "source": [
    "**PyCaret** is an open source, low-code machine learning library in **Python** that allows you to go from preparing your data to deploying your model within minutes in your choice of notebook environment\n",
    "\n",
    "[**Click Here!**](https://pycaret.org/) to learn more about **PyCaret**\n",
    "\n",
    "**Installing PyCaret**\n",
    "\n",
    "- !pip install pycaret"
   ]
  },
  {
   "cell_type": "markdown",
   "metadata": {
    "id": "fowOU43GJALe"
   },
   "source": [
    "####**Tasks to be performed**\n",
    "\n",
    "- Import PyCaret and load the data set\n",
    "- Initialize or setup the environment \n",
    "- Create the model\n",
    "- Assign the model\n",
    "- Plot the model"
   ]
  },
  {
   "cell_type": "markdown",
   "metadata": {
    "id": "noukY5_MJYrA"
   },
   "source": [
    "####**Import PyCaret and load the data set**"
   ]
  },
  {
   "cell_type": "code",
   "execution_count": null,
   "metadata": {
    "id": "70l6dakLBq2i"
   },
   "outputs": [],
   "source": [
    "import pycaret.clustering as pc\n",
    "from pycaret.clustering import *\n",
    "\n",
    "#dir(pc)"
   ]
  },
  {
   "cell_type": "code",
   "execution_count": null,
   "metadata": {
    "colab": {
     "base_uri": "https://localhost:8080/",
     "height": 224
    },
    "id": "72pPfK-sIqw-",
    "outputId": "7576f278-9d45-45cd-eab5-47ecec3aaa61"
   },
   "outputs": [],
   "source": [
    "#To be filled by learner\n",
    "\n",
    "#Loading the dataset\n",
    "\n",
    "#Printing the first 5 rows of dataframe"
   ]
  },
  {
   "cell_type": "markdown",
   "metadata": {
    "id": "QQsWYckLJd7B"
   },
   "source": [
    "####**Initialize or setup the environment**"
   ]
  },
  {
   "cell_type": "code",
   "execution_count": null,
   "metadata": {
    "colab": {
     "base_uri": "https://localhost:8080/",
     "height": 1000,
     "referenced_widgets": [
      "2479f8feed6844728aa0d74d0db44034",
      "368232d72a1f4c2eb6d52ee60ef07057",
      "d38c1a22b28b4a3c8b2a429cf01e1a01",
      "58da12baba5646d7a5a762fecf9685cd",
      "4133ab8a44b74f5eb163329d54566d4f",
      "396e9b14771b47088e6fbf62d0e2d041"
     ]
    },
    "id": "pRt5YV8z7XP0",
    "outputId": "8882b673-1b50-4e30-a05b-47aa429df67a"
   },
   "outputs": [],
   "source": [
    "#To be filled by learner\n",
    "\n",
    "#Set up the Clustering enviroment"
   ]
  },
  {
   "cell_type": "markdown",
   "metadata": {
    "id": "jN3felJtL7A0"
   },
   "source": [
    "####**Create the Model**\n",
    "\n"
   ]
  },
  {
   "cell_type": "markdown",
   "metadata": {
    "id": "jge4ZiS_bsjY"
   },
   "source": [
    "- Creates a model on the dataset passed as a data param during the setup stage\n",
    "- setup() function must be called before using create_model()\n",
    "- Returns a trained model object"
   ]
  },
  {
   "cell_type": "code",
   "execution_count": null,
   "metadata": {
    "colab": {
     "base_uri": "https://localhost:8080/",
     "height": 80,
     "referenced_widgets": [
      "180621cac0d340c3bde2464d2554ca01",
      "d330d3041a8d4105bf7cd5c428f15a79",
      "9179020f45664a68be6ea0573179c8e5"
     ]
    },
    "id": "cCHcnI5PBsjE",
    "outputId": "a8102f09-60b1-424a-8b46-782433f2e884"
   },
   "outputs": [],
   "source": [
    "#To be filled by learner"
   ]
  },
  {
   "cell_type": "code",
   "execution_count": null,
   "metadata": {
    "colab": {
     "base_uri": "https://localhost:8080/"
    },
    "id": "uZQ94qCoQOqw",
    "outputId": "05fd0607-d1b1-4387-b698-265bf8db4cc1"
   },
   "outputs": [],
   "source": [
    "#To be filled by learner"
   ]
  },
  {
   "cell_type": "markdown",
   "metadata": {
    "id": "w4iO4ysFcCEz"
   },
   "source": [
    "Parameters:\n",
    "\n",
    "model : string / object, default = None\n",
    "Enter abbreviated string of the model class. List of available models supported:\n",
    "\n",
    "- **kmeans**\t- K-Means Clustering\n",
    "- **ap**\t- Affinity Propagation\n",
    "- **meanshift**\t- Mean shift Clustering\n",
    "- **sc**\t- Spectral Clustering\n",
    "- **hclust**\t- Agglomerative Clustering\n",
    "- **dbscan**\t- Density-Based Spatial Clustering\n",
    "- **optics**\t- OPTICS Clustering\n",
    "- **birch**\t- Birch Clustering\n",
    "- **kmodes**\t- K-Modes Clustering\n"
   ]
  },
  {
   "cell_type": "markdown",
   "metadata": {
    "id": "C4I7pnoUcfFh"
   },
   "source": [
    "####**Assign the model**"
   ]
  },
  {
   "cell_type": "markdown",
   "metadata": {
    "id": "e8Su9c3Fcqgg"
   },
   "source": [
    "\n",
    "- Assigns each of the data point in the dataset passed during setup stage to one of the clusters using trained model object passed as model param\n",
    "- create_model() function must be called before using assign_model()\n",
    "- Returns a pandas Dataframe."
   ]
  },
  {
   "cell_type": "code",
   "execution_count": null,
   "metadata": {
    "colab": {
     "base_uri": "https://localhost:8080/",
     "height": 309
    },
    "id": "jOXA9qPDcew_",
    "outputId": "6bbeb440-0796-4bce-d22a-1627dd3e8a66"
   },
   "outputs": [],
   "source": [
    "#To be filled by learner"
   ]
  },
  {
   "cell_type": "markdown",
   "metadata": {
    "id": "EceiM3QyMzSi"
   },
   "source": [
    "####**Plot the Model**"
   ]
  },
  {
   "cell_type": "markdown",
   "metadata": {
    "id": "-jSiPWNUdv8_"
   },
   "source": [
    "- **plot_model** takes a trained model object and returns a plot on the dataset passed during setup stage\n",
    "- Internally calls assign_model before generating a plot"
   ]
  },
  {
   "cell_type": "code",
   "execution_count": null,
   "metadata": {
    "colab": {
     "base_uri": "https://localhost:8080/",
     "height": 617,
     "referenced_widgets": [
      "01bef4f319c64d50894a1d8c205aaa33",
      "a1bf118e7f73494f9018d95697d116af",
      "2c94fedcd718409487812cfcd6bcdccf"
     ]
    },
    "id": "PqKgELtvBsYI",
    "outputId": "d5436226-d38d-45b9-c791-37aaf54a2d2e"
   },
   "outputs": [],
   "source": [
    "#To be filled by learner"
   ]
  },
  {
   "cell_type": "code",
   "execution_count": null,
   "metadata": {
    "colab": {
     "base_uri": "https://localhost:8080/",
     "height": 817,
     "referenced_widgets": [
      "b7d9aeed00424e78968c903792451b16",
      "9a817aa6c509437685cdc34907d2928f",
      "99773d3829564f9d9766868bdc89e62f"
     ]
    },
    "id": "pFGpK8P-8fiE",
    "outputId": "ee39b153-4985-4fa4-8f03-18a46c2d3f19"
   },
   "outputs": [],
   "source": [
    "plot_model(kmeans, plot = 'tsne')"
   ]
  },
  {
   "cell_type": "code",
   "execution_count": null,
   "metadata": {
    "colab": {
     "base_uri": "https://localhost:8080/",
     "height": 304,
     "referenced_widgets": [
      "ed991c128963437a9ddc5c1ebe574976",
      "7f2e262cf97f4617937ae46d4be4caa1",
      "613d1932db8d46f4970e1d28b8e4c28e"
     ]
    },
    "id": "dn6VHQhfGari",
    "outputId": "bc7225ff-9732-4ff1-eba1-8f0e5b000ae4"
   },
   "outputs": [],
   "source": [
    "plot_model(kmeans, plot = 'silhouette')"
   ]
  },
  {
   "cell_type": "code",
   "execution_count": null,
   "metadata": {
    "id": "yTQS-ZW8GsWO"
   },
   "outputs": [],
   "source": []
  }
 ],
 "metadata": {
  "colab": {
   "collapsed_sections": [
    "egWlVE_Gs4Dz",
    "390_8cteTkvf",
    "1M6pXJhgUPsi",
    "8YOP7LrsUXMi",
    "XgCeL6PlxmJu",
    "F__9SqqzIq2-",
    "DZjeCSuCJvZD",
    "QIMMxLRhD4jx",
    "noukY5_MJYrA",
    "QQsWYckLJd7B",
    "jN3felJtL7A0",
    "C4I7pnoUcfFh",
    "EceiM3QyMzSi"
   ],
   "name": "Learner_Notebook_Clustering_Demo (1).ipynb",
   "provenance": []
  },
  "kernelspec": {
   "display_name": "Python 3",
   "language": "python",
   "name": "python3"
  },
  "language_info": {
   "codemirror_mode": {
    "name": "ipython",
    "version": 3
   },
   "file_extension": ".py",
   "mimetype": "text/x-python",
   "name": "python",
   "nbconvert_exporter": "python",
   "pygments_lexer": "ipython3",
   "version": "3.8.8"
  },
  "widgets": {
   "application/vnd.jupyter.widget-state+json": {
    "005952e0c11a42218f6ceec7e0204948": {
     "model_module": "@jupyter-widgets/base",
     "model_name": "LayoutModel",
     "state": {
      "_model_module": "@jupyter-widgets/base",
      "_model_module_version": "1.2.0",
      "_model_name": "LayoutModel",
      "_view_count": null,
      "_view_module": "@jupyter-widgets/base",
      "_view_module_version": "1.2.0",
      "_view_name": "LayoutView",
      "align_content": null,
      "align_items": null,
      "align_self": null,
      "border": null,
      "bottom": null,
      "display": null,
      "flex": null,
      "flex_flow": null,
      "grid_area": null,
      "grid_auto_columns": null,
      "grid_auto_flow": null,
      "grid_auto_rows": null,
      "grid_column": null,
      "grid_gap": null,
      "grid_row": null,
      "grid_template_areas": null,
      "grid_template_columns": null,
      "grid_template_rows": null,
      "height": null,
      "justify_content": null,
      "justify_items": null,
      "left": null,
      "margin": null,
      "max_height": null,
      "max_width": null,
      "min_height": null,
      "min_width": null,
      "object_fit": null,
      "object_position": null,
      "order": null,
      "overflow": null,
      "overflow_x": null,
      "overflow_y": null,
      "padding": null,
      "right": null,
      "top": null,
      "visibility": null,
      "width": null
     }
    },
    "01bef4f319c64d50894a1d8c205aaa33": {
     "model_module": "@jupyter-widgets/controls",
     "model_name": "IntProgressModel",
     "state": {
      "_dom_classes": [],
      "_model_module": "@jupyter-widgets/controls",
      "_model_module_version": "1.5.0",
      "_model_name": "IntProgressModel",
      "_view_count": null,
      "_view_module": "@jupyter-widgets/controls",
      "_view_module_version": "1.5.0",
      "_view_name": "ProgressView",
      "bar_style": "",
      "description": "Processing: ",
      "description_tooltip": null,
      "layout": "IPY_MODEL_2c94fedcd718409487812cfcd6bcdccf",
      "max": 5,
      "min": 0,
      "orientation": "horizontal",
      "style": "IPY_MODEL_a1bf118e7f73494f9018d95697d116af",
      "value": 3
     }
    },
    "033382f52a314425b0052444fbedcd1c": {
     "model_module": "@jupyter-widgets/controls",
     "model_name": "HTMLModel",
     "state": {
      "_dom_classes": [],
      "_model_module": "@jupyter-widgets/controls",
      "_model_module_version": "1.5.0",
      "_model_name": "HTMLModel",
      "_view_count": null,
      "_view_module": "@jupyter-widgets/controls",
      "_view_module_version": "1.5.0",
      "_view_name": "HTMLView",
      "description": "",
      "description_tooltip": null,
      "layout": "IPY_MODEL_a0db46e9e6a145e3a67dff4bb4ed4f5a",
      "placeholder": "​",
      "style": "IPY_MODEL_44009f6de156404c906ae1db80a6b670",
      "value": " 1/1 [00:29&lt;00:00, 29.14s/it]"
     }
    },
    "05fb96e78add4dfea3564eed37eb441b": {
     "model_module": "@jupyter-widgets/controls",
     "model_name": "HTMLModel",
     "state": {
      "_dom_classes": [],
      "_model_module": "@jupyter-widgets/controls",
      "_model_module_version": "1.5.0",
      "_model_name": "HTMLModel",
      "_view_count": null,
      "_view_module": "@jupyter-widgets/controls",
      "_view_module_version": "1.5.0",
      "_view_name": "HTMLView",
      "description": "",
      "description_tooltip": null,
      "layout": "IPY_MODEL_b6fec89af5ed46a48cfc6ed128e473b0",
      "placeholder": "​",
      "style": "IPY_MODEL_898f42d0a0a647748e802a7d9207d960",
      "value": "Render HTML: 100%"
     }
    },
    "0698a721d4924db5a3dab60ec532e088": {
     "model_module": "@jupyter-widgets/base",
     "model_name": "LayoutModel",
     "state": {
      "_model_module": "@jupyter-widgets/base",
      "_model_module_version": "1.2.0",
      "_model_name": "LayoutModel",
      "_view_count": null,
      "_view_module": "@jupyter-widgets/base",
      "_view_module_version": "1.2.0",
      "_view_name": "LayoutView",
      "align_content": null,
      "align_items": null,
      "align_self": null,
      "border": null,
      "bottom": null,
      "display": null,
      "flex": null,
      "flex_flow": null,
      "grid_area": null,
      "grid_auto_columns": null,
      "grid_auto_flow": null,
      "grid_auto_rows": null,
      "grid_column": null,
      "grid_gap": null,
      "grid_row": null,
      "grid_template_areas": null,
      "grid_template_columns": null,
      "grid_template_rows": null,
      "height": null,
      "justify_content": null,
      "justify_items": null,
      "left": null,
      "margin": null,
      "max_height": null,
      "max_width": null,
      "min_height": null,
      "min_width": null,
      "object_fit": null,
      "object_position": null,
      "order": null,
      "overflow": null,
      "overflow_x": null,
      "overflow_y": null,
      "padding": null,
      "right": null,
      "top": null,
      "visibility": null,
      "width": null
     }
    },
    "0900de9931334fcb8cd5b83440be01a0": {
     "model_module": "@jupyter-widgets/base",
     "model_name": "LayoutModel",
     "state": {
      "_model_module": "@jupyter-widgets/base",
      "_model_module_version": "1.2.0",
      "_model_name": "LayoutModel",
      "_view_count": null,
      "_view_module": "@jupyter-widgets/base",
      "_view_module_version": "1.2.0",
      "_view_name": "LayoutView",
      "align_content": null,
      "align_items": null,
      "align_self": null,
      "border": null,
      "bottom": null,
      "display": null,
      "flex": null,
      "flex_flow": null,
      "grid_area": null,
      "grid_auto_columns": null,
      "grid_auto_flow": null,
      "grid_auto_rows": null,
      "grid_column": null,
      "grid_gap": null,
      "grid_row": null,
      "grid_template_areas": null,
      "grid_template_columns": null,
      "grid_template_rows": null,
      "height": null,
      "justify_content": null,
      "justify_items": null,
      "left": null,
      "margin": null,
      "max_height": null,
      "max_width": null,
      "min_height": null,
      "min_width": null,
      "object_fit": null,
      "object_position": null,
      "order": null,
      "overflow": null,
      "overflow_x": null,
      "overflow_y": null,
      "padding": null,
      "right": null,
      "top": null,
      "visibility": null,
      "width": null
     }
    },
    "0c23f3f163424d6bba9dadf894f7d627": {
     "model_module": "@jupyter-widgets/controls",
     "model_name": "DescriptionStyleModel",
     "state": {
      "_model_module": "@jupyter-widgets/controls",
      "_model_module_version": "1.5.0",
      "_model_name": "DescriptionStyleModel",
      "_view_count": null,
      "_view_module": "@jupyter-widgets/base",
      "_view_module_version": "1.2.0",
      "_view_name": "StyleView",
      "description_width": ""
     }
    },
    "0c909b41f1ed4ba98f096a44d812f084": {
     "model_module": "@jupyter-widgets/controls",
     "model_name": "ProgressStyleModel",
     "state": {
      "_model_module": "@jupyter-widgets/controls",
      "_model_module_version": "1.5.0",
      "_model_name": "ProgressStyleModel",
      "_view_count": null,
      "_view_module": "@jupyter-widgets/base",
      "_view_module_version": "1.2.0",
      "_view_name": "StyleView",
      "bar_color": null,
      "description_width": ""
     }
    },
    "0dd7f0da8cda4917a5ecd0fea2502285": {
     "model_module": "@jupyter-widgets/controls",
     "model_name": "DescriptionStyleModel",
     "state": {
      "_model_module": "@jupyter-widgets/controls",
      "_model_module_version": "1.5.0",
      "_model_name": "DescriptionStyleModel",
      "_view_count": null,
      "_view_module": "@jupyter-widgets/base",
      "_view_module_version": "1.2.0",
      "_view_name": "StyleView",
      "description_width": ""
     }
    },
    "0f8302390be5461189d4f35961783678": {
     "model_module": "@jupyter-widgets/controls",
     "model_name": "HTMLModel",
     "state": {
      "_dom_classes": [],
      "_model_module": "@jupyter-widgets/controls",
      "_model_module_version": "1.5.0",
      "_model_name": "HTMLModel",
      "_view_count": null,
      "_view_module": "@jupyter-widgets/controls",
      "_view_module_version": "1.5.0",
      "_view_name": "HTMLView",
      "description": "",
      "description_tooltip": null,
      "layout": "IPY_MODEL_46b7c324dbb14588b33cbabddf3df490",
      "placeholder": "​",
      "style": "IPY_MODEL_b4d7927662f34108b7af38927f1a8ccc",
      "value": "Summarize dataset: 100%"
     }
    },
    "14a487cb33a14feeb4043e0b4a86cdda": {
     "model_module": "@jupyter-widgets/controls",
     "model_name": "DescriptionStyleModel",
     "state": {
      "_model_module": "@jupyter-widgets/controls",
      "_model_module_version": "1.5.0",
      "_model_name": "DescriptionStyleModel",
      "_view_count": null,
      "_view_module": "@jupyter-widgets/base",
      "_view_module_version": "1.2.0",
      "_view_name": "StyleView",
      "description_width": ""
     }
    },
    "1636c520763a4ba992e7b786ce7507df": {
     "model_module": "@jupyter-widgets/controls",
     "model_name": "HBoxModel",
     "state": {
      "_dom_classes": [],
      "_model_module": "@jupyter-widgets/controls",
      "_model_module_version": "1.5.0",
      "_model_name": "HBoxModel",
      "_view_count": null,
      "_view_module": "@jupyter-widgets/controls",
      "_view_module_version": "1.5.0",
      "_view_name": "HBoxView",
      "box_style": "",
      "children": [
       "IPY_MODEL_63acbbd3c73b4d7c853d41d4af344d58",
       "IPY_MODEL_73cfedcb9b554e05b238b496e3fbd56c",
       "IPY_MODEL_f6f5f49f7dac40e3a625b7dd8edd40c9"
      ],
      "layout": "IPY_MODEL_d4b5f8a157504f13a39c1f8b234dcdf4"
     }
    },
    "180621cac0d340c3bde2464d2554ca01": {
     "model_module": "@jupyter-widgets/controls",
     "model_name": "IntProgressModel",
     "state": {
      "_dom_classes": [],
      "_model_module": "@jupyter-widgets/controls",
      "_model_module_version": "1.5.0",
      "_model_name": "IntProgressModel",
      "_view_count": null,
      "_view_module": "@jupyter-widgets/controls",
      "_view_module_version": "1.5.0",
      "_view_name": "ProgressView",
      "bar_style": "",
      "description": "Processing: ",
      "description_tooltip": null,
      "layout": "IPY_MODEL_9179020f45664a68be6ea0573179c8e5",
      "max": 3,
      "min": 0,
      "orientation": "horizontal",
      "style": "IPY_MODEL_d330d3041a8d4105bf7cd5c428f15a79",
      "value": 3
     }
    },
    "191ba3e882e04dab847930aa0f466277": {
     "model_module": "@jupyter-widgets/base",
     "model_name": "LayoutModel",
     "state": {
      "_model_module": "@jupyter-widgets/base",
      "_model_module_version": "1.2.0",
      "_model_name": "LayoutModel",
      "_view_count": null,
      "_view_module": "@jupyter-widgets/base",
      "_view_module_version": "1.2.0",
      "_view_name": "LayoutView",
      "align_content": null,
      "align_items": null,
      "align_self": null,
      "border": null,
      "bottom": null,
      "display": null,
      "flex": null,
      "flex_flow": null,
      "grid_area": null,
      "grid_auto_columns": null,
      "grid_auto_flow": null,
      "grid_auto_rows": null,
      "grid_column": null,
      "grid_gap": null,
      "grid_row": null,
      "grid_template_areas": null,
      "grid_template_columns": null,
      "grid_template_rows": null,
      "height": null,
      "justify_content": null,
      "justify_items": null,
      "left": null,
      "margin": null,
      "max_height": null,
      "max_width": null,
      "min_height": null,
      "min_width": null,
      "object_fit": null,
      "object_position": null,
      "order": null,
      "overflow": null,
      "overflow_x": null,
      "overflow_y": null,
      "padding": null,
      "right": null,
      "top": null,
      "visibility": null,
      "width": null
     }
    },
    "1ad51066113c49f88ea08dae40135f66": {
     "model_module": "@jupyter-widgets/base",
     "model_name": "LayoutModel",
     "state": {
      "_model_module": "@jupyter-widgets/base",
      "_model_module_version": "1.2.0",
      "_model_name": "LayoutModel",
      "_view_count": null,
      "_view_module": "@jupyter-widgets/base",
      "_view_module_version": "1.2.0",
      "_view_name": "LayoutView",
      "align_content": null,
      "align_items": null,
      "align_self": null,
      "border": null,
      "bottom": null,
      "display": null,
      "flex": null,
      "flex_flow": null,
      "grid_area": null,
      "grid_auto_columns": null,
      "grid_auto_flow": null,
      "grid_auto_rows": null,
      "grid_column": null,
      "grid_gap": null,
      "grid_row": null,
      "grid_template_areas": null,
      "grid_template_columns": null,
      "grid_template_rows": null,
      "height": null,
      "justify_content": null,
      "justify_items": null,
      "left": null,
      "margin": null,
      "max_height": null,
      "max_width": null,
      "min_height": null,
      "min_width": null,
      "object_fit": null,
      "object_position": null,
      "order": null,
      "overflow": null,
      "overflow_x": null,
      "overflow_y": null,
      "padding": null,
      "right": null,
      "top": null,
      "visibility": null,
      "width": null
     }
    },
    "1ca308a18879452fbc44db232a0f7453": {
     "model_module": "@jupyter-widgets/base",
     "model_name": "LayoutModel",
     "state": {
      "_model_module": "@jupyter-widgets/base",
      "_model_module_version": "1.2.0",
      "_model_name": "LayoutModel",
      "_view_count": null,
      "_view_module": "@jupyter-widgets/base",
      "_view_module_version": "1.2.0",
      "_view_name": "LayoutView",
      "align_content": null,
      "align_items": null,
      "align_self": null,
      "border": null,
      "bottom": null,
      "display": null,
      "flex": null,
      "flex_flow": null,
      "grid_area": null,
      "grid_auto_columns": null,
      "grid_auto_flow": null,
      "grid_auto_rows": null,
      "grid_column": null,
      "grid_gap": null,
      "grid_row": null,
      "grid_template_areas": null,
      "grid_template_columns": null,
      "grid_template_rows": null,
      "height": null,
      "justify_content": null,
      "justify_items": null,
      "left": null,
      "margin": null,
      "max_height": null,
      "max_width": null,
      "min_height": null,
      "min_width": null,
      "object_fit": null,
      "object_position": null,
      "order": null,
      "overflow": null,
      "overflow_x": null,
      "overflow_y": null,
      "padding": null,
      "right": null,
      "top": null,
      "visibility": null,
      "width": null
     }
    },
    "244d3f4995454715bc95ec0845cb41f4": {
     "model_module": "@jupyter-widgets/controls",
     "model_name": "FloatProgressModel",
     "state": {
      "_dom_classes": [],
      "_model_module": "@jupyter-widgets/controls",
      "_model_module_version": "1.5.0",
      "_model_name": "FloatProgressModel",
      "_view_count": null,
      "_view_module": "@jupyter-widgets/controls",
      "_view_module_version": "1.5.0",
      "_view_name": "ProgressView",
      "bar_style": "success",
      "description": "",
      "description_tooltip": null,
      "layout": "IPY_MODEL_cdf76cf25ed5419cb65afffe3c52690f",
      "max": 1,
      "min": 0,
      "orientation": "horizontal",
      "style": "IPY_MODEL_7f7a4c3ad955471ba593809f98bdb5c0",
      "value": 1
     }
    },
    "2479f8feed6844728aa0d74d0db44034": {
     "model_module": "@jupyter-widgets/controls",
     "model_name": "IntProgressModel",
     "state": {
      "_dom_classes": [],
      "_model_module": "@jupyter-widgets/controls",
      "_model_module_version": "1.5.0",
      "_model_name": "IntProgressModel",
      "_view_count": null,
      "_view_module": "@jupyter-widgets/controls",
      "_view_module_version": "1.5.0",
      "_view_name": "ProgressView",
      "bar_style": "",
      "description": "Processing: ",
      "description_tooltip": null,
      "layout": "IPY_MODEL_d38c1a22b28b4a3c8b2a429cf01e1a01",
      "max": 3,
      "min": 0,
      "orientation": "horizontal",
      "style": "IPY_MODEL_368232d72a1f4c2eb6d52ee60ef07057",
      "value": 3
     }
    },
    "2544b8d5f1374804b28878704dc3faae": {
     "model_module": "@jupyter-widgets/controls",
     "model_name": "HBoxModel",
     "state": {
      "_dom_classes": [],
      "_model_module": "@jupyter-widgets/controls",
      "_model_module_version": "1.5.0",
      "_model_name": "HBoxModel",
      "_view_count": null,
      "_view_module": "@jupyter-widgets/controls",
      "_view_module_version": "1.5.0",
      "_view_name": "HBoxView",
      "box_style": "",
      "children": [
       "IPY_MODEL_59c1eb794bac4184b5893ba6301a8176",
       "IPY_MODEL_e1b0b0c742e04e118253562d454e3111",
       "IPY_MODEL_b405b4092c724ce99a92c7b50bad00d6"
      ],
      "layout": "IPY_MODEL_af7c2f9ed2ff4c74ac19e0900e390d27"
     }
    },
    "28057e6f81464edabfc8b818550d5690": {
     "model_module": "@jupyter-widgets/controls",
     "model_name": "ProgressStyleModel",
     "state": {
      "_model_module": "@jupyter-widgets/controls",
      "_model_module_version": "1.5.0",
      "_model_name": "ProgressStyleModel",
      "_view_count": null,
      "_view_module": "@jupyter-widgets/base",
      "_view_module_version": "1.2.0",
      "_view_name": "StyleView",
      "bar_color": null,
      "description_width": ""
     }
    },
    "2b4c0b95a11a4daa92a1d9770faa466a": {
     "model_module": "@jupyter-widgets/base",
     "model_name": "LayoutModel",
     "state": {
      "_model_module": "@jupyter-widgets/base",
      "_model_module_version": "1.2.0",
      "_model_name": "LayoutModel",
      "_view_count": null,
      "_view_module": "@jupyter-widgets/base",
      "_view_module_version": "1.2.0",
      "_view_name": "LayoutView",
      "align_content": null,
      "align_items": null,
      "align_self": null,
      "border": null,
      "bottom": null,
      "display": null,
      "flex": null,
      "flex_flow": null,
      "grid_area": null,
      "grid_auto_columns": null,
      "grid_auto_flow": null,
      "grid_auto_rows": null,
      "grid_column": null,
      "grid_gap": null,
      "grid_row": null,
      "grid_template_areas": null,
      "grid_template_columns": null,
      "grid_template_rows": null,
      "height": null,
      "justify_content": null,
      "justify_items": null,
      "left": null,
      "margin": null,
      "max_height": null,
      "max_width": null,
      "min_height": null,
      "min_width": null,
      "object_fit": null,
      "object_position": null,
      "order": null,
      "overflow": null,
      "overflow_x": null,
      "overflow_y": null,
      "padding": null,
      "right": null,
      "top": null,
      "visibility": null,
      "width": null
     }
    },
    "2c93b5020dc14970a3bf5bf1c5969e4e": {
     "model_module": "@jupyter-widgets/base",
     "model_name": "LayoutModel",
     "state": {
      "_model_module": "@jupyter-widgets/base",
      "_model_module_version": "1.2.0",
      "_model_name": "LayoutModel",
      "_view_count": null,
      "_view_module": "@jupyter-widgets/base",
      "_view_module_version": "1.2.0",
      "_view_name": "LayoutView",
      "align_content": null,
      "align_items": null,
      "align_self": null,
      "border": null,
      "bottom": null,
      "display": null,
      "flex": null,
      "flex_flow": null,
      "grid_area": null,
      "grid_auto_columns": null,
      "grid_auto_flow": null,
      "grid_auto_rows": null,
      "grid_column": null,
      "grid_gap": null,
      "grid_row": null,
      "grid_template_areas": null,
      "grid_template_columns": null,
      "grid_template_rows": null,
      "height": null,
      "justify_content": null,
      "justify_items": null,
      "left": null,
      "margin": null,
      "max_height": null,
      "max_width": null,
      "min_height": null,
      "min_width": null,
      "object_fit": null,
      "object_position": null,
      "order": null,
      "overflow": null,
      "overflow_x": null,
      "overflow_y": null,
      "padding": null,
      "right": null,
      "top": null,
      "visibility": null,
      "width": null
     }
    },
    "2c94fedcd718409487812cfcd6bcdccf": {
     "model_module": "@jupyter-widgets/base",
     "model_name": "LayoutModel",
     "state": {
      "_model_module": "@jupyter-widgets/base",
      "_model_module_version": "1.2.0",
      "_model_name": "LayoutModel",
      "_view_count": null,
      "_view_module": "@jupyter-widgets/base",
      "_view_module_version": "1.2.0",
      "_view_name": "LayoutView",
      "align_content": null,
      "align_items": null,
      "align_self": null,
      "border": null,
      "bottom": null,
      "display": null,
      "flex": null,
      "flex_flow": null,
      "grid_area": null,
      "grid_auto_columns": null,
      "grid_auto_flow": null,
      "grid_auto_rows": null,
      "grid_column": null,
      "grid_gap": null,
      "grid_row": null,
      "grid_template_areas": null,
      "grid_template_columns": null,
      "grid_template_rows": null,
      "height": null,
      "justify_content": null,
      "justify_items": null,
      "left": null,
      "margin": null,
      "max_height": null,
      "max_width": null,
      "min_height": null,
      "min_width": null,
      "object_fit": null,
      "object_position": null,
      "order": null,
      "overflow": null,
      "overflow_x": null,
      "overflow_y": null,
      "padding": null,
      "right": null,
      "top": null,
      "visibility": null,
      "width": null
     }
    },
    "2eec42711615404e99f2a45fd261f76f": {
     "model_module": "@jupyter-widgets/base",
     "model_name": "LayoutModel",
     "state": {
      "_model_module": "@jupyter-widgets/base",
      "_model_module_version": "1.2.0",
      "_model_name": "LayoutModel",
      "_view_count": null,
      "_view_module": "@jupyter-widgets/base",
      "_view_module_version": "1.2.0",
      "_view_name": "LayoutView",
      "align_content": null,
      "align_items": null,
      "align_self": null,
      "border": null,
      "bottom": null,
      "display": null,
      "flex": null,
      "flex_flow": null,
      "grid_area": null,
      "grid_auto_columns": null,
      "grid_auto_flow": null,
      "grid_auto_rows": null,
      "grid_column": null,
      "grid_gap": null,
      "grid_row": null,
      "grid_template_areas": null,
      "grid_template_columns": null,
      "grid_template_rows": null,
      "height": null,
      "justify_content": null,
      "justify_items": null,
      "left": null,
      "margin": null,
      "max_height": null,
      "max_width": null,
      "min_height": null,
      "min_width": null,
      "object_fit": null,
      "object_position": null,
      "order": null,
      "overflow": null,
      "overflow_x": null,
      "overflow_y": null,
      "padding": null,
      "right": null,
      "top": null,
      "visibility": null,
      "width": null
     }
    },
    "304c2d355af7422da91daa2b6a9c10ec": {
     "model_module": "@jupyter-widgets/controls",
     "model_name": "DescriptionStyleModel",
     "state": {
      "_model_module": "@jupyter-widgets/controls",
      "_model_module_version": "1.5.0",
      "_model_name": "DescriptionStyleModel",
      "_view_count": null,
      "_view_module": "@jupyter-widgets/base",
      "_view_module_version": "1.2.0",
      "_view_name": "StyleView",
      "description_width": ""
     }
    },
    "330469ac2f88487495d4c20ae95db43b": {
     "model_module": "@jupyter-widgets/base",
     "model_name": "LayoutModel",
     "state": {
      "_model_module": "@jupyter-widgets/base",
      "_model_module_version": "1.2.0",
      "_model_name": "LayoutModel",
      "_view_count": null,
      "_view_module": "@jupyter-widgets/base",
      "_view_module_version": "1.2.0",
      "_view_name": "LayoutView",
      "align_content": null,
      "align_items": null,
      "align_self": null,
      "border": null,
      "bottom": null,
      "display": null,
      "flex": null,
      "flex_flow": null,
      "grid_area": null,
      "grid_auto_columns": null,
      "grid_auto_flow": null,
      "grid_auto_rows": null,
      "grid_column": null,
      "grid_gap": null,
      "grid_row": null,
      "grid_template_areas": null,
      "grid_template_columns": null,
      "grid_template_rows": null,
      "height": null,
      "justify_content": null,
      "justify_items": null,
      "left": null,
      "margin": null,
      "max_height": null,
      "max_width": null,
      "min_height": null,
      "min_width": null,
      "object_fit": null,
      "object_position": null,
      "order": null,
      "overflow": null,
      "overflow_x": null,
      "overflow_y": null,
      "padding": null,
      "right": null,
      "top": null,
      "visibility": null,
      "width": null
     }
    },
    "368232d72a1f4c2eb6d52ee60ef07057": {
     "model_module": "@jupyter-widgets/controls",
     "model_name": "ProgressStyleModel",
     "state": {
      "_model_module": "@jupyter-widgets/controls",
      "_model_module_version": "1.5.0",
      "_model_name": "ProgressStyleModel",
      "_view_count": null,
      "_view_module": "@jupyter-widgets/base",
      "_view_module_version": "1.2.0",
      "_view_name": "StyleView",
      "bar_color": null,
      "description_width": ""
     }
    },
    "373cb94ad41440d283f1fe6af55ed66f": {
     "model_module": "@jupyter-widgets/controls",
     "model_name": "HTMLModel",
     "state": {
      "_dom_classes": [],
      "_model_module": "@jupyter-widgets/controls",
      "_model_module_version": "1.5.0",
      "_model_name": "HTMLModel",
      "_view_count": null,
      "_view_module": "@jupyter-widgets/controls",
      "_view_module_version": "1.5.0",
      "_view_name": "HTMLView",
      "description": "",
      "description_tooltip": null,
      "layout": "IPY_MODEL_f9e47031514d491ab560c03d88108806",
      "placeholder": "​",
      "style": "IPY_MODEL_3f4773f3bc694dbab3d14899e88556cf",
      "value": "Generate report structure: 100%"
     }
    },
    "396e9b14771b47088e6fbf62d0e2d041": {
     "model_module": "@jupyter-widgets/base",
     "model_name": "LayoutModel",
     "state": {
      "_model_module": "@jupyter-widgets/base",
      "_model_module_version": "1.2.0",
      "_model_name": "LayoutModel",
      "_view_count": null,
      "_view_module": "@jupyter-widgets/base",
      "_view_module_version": "1.2.0",
      "_view_name": "LayoutView",
      "align_content": null,
      "align_items": null,
      "align_self": null,
      "border": null,
      "bottom": null,
      "display": null,
      "flex": null,
      "flex_flow": null,
      "grid_area": null,
      "grid_auto_columns": null,
      "grid_auto_flow": null,
      "grid_auto_rows": null,
      "grid_column": null,
      "grid_gap": null,
      "grid_row": null,
      "grid_template_areas": null,
      "grid_template_columns": null,
      "grid_template_rows": null,
      "height": null,
      "justify_content": null,
      "justify_items": null,
      "left": null,
      "margin": null,
      "max_height": null,
      "max_width": null,
      "min_height": null,
      "min_width": null,
      "object_fit": null,
      "object_position": null,
      "order": null,
      "overflow": null,
      "overflow_x": null,
      "overflow_y": null,
      "padding": null,
      "right": null,
      "top": null,
      "visibility": null,
      "width": "100%"
     }
    },
    "3f4773f3bc694dbab3d14899e88556cf": {
     "model_module": "@jupyter-widgets/controls",
     "model_name": "DescriptionStyleModel",
     "state": {
      "_model_module": "@jupyter-widgets/controls",
      "_model_module_version": "1.5.0",
      "_model_name": "DescriptionStyleModel",
      "_view_count": null,
      "_view_module": "@jupyter-widgets/base",
      "_view_module_version": "1.2.0",
      "_view_name": "StyleView",
      "description_width": ""
     }
    },
    "4133ab8a44b74f5eb163329d54566d4f": {
     "model_module": "@jupyter-widgets/controls",
     "model_name": "DescriptionStyleModel",
     "state": {
      "_model_module": "@jupyter-widgets/controls",
      "_model_module_version": "1.5.0",
      "_model_name": "DescriptionStyleModel",
      "_view_count": null,
      "_view_module": "@jupyter-widgets/base",
      "_view_module_version": "1.2.0",
      "_view_name": "StyleView",
      "description_width": ""
     }
    },
    "44009f6de156404c906ae1db80a6b670": {
     "model_module": "@jupyter-widgets/controls",
     "model_name": "DescriptionStyleModel",
     "state": {
      "_model_module": "@jupyter-widgets/controls",
      "_model_module_version": "1.5.0",
      "_model_name": "DescriptionStyleModel",
      "_view_count": null,
      "_view_module": "@jupyter-widgets/base",
      "_view_module_version": "1.2.0",
      "_view_name": "StyleView",
      "description_width": ""
     }
    },
    "46b7c324dbb14588b33cbabddf3df490": {
     "model_module": "@jupyter-widgets/base",
     "model_name": "LayoutModel",
     "state": {
      "_model_module": "@jupyter-widgets/base",
      "_model_module_version": "1.2.0",
      "_model_name": "LayoutModel",
      "_view_count": null,
      "_view_module": "@jupyter-widgets/base",
      "_view_module_version": "1.2.0",
      "_view_name": "LayoutView",
      "align_content": null,
      "align_items": null,
      "align_self": null,
      "border": null,
      "bottom": null,
      "display": null,
      "flex": null,
      "flex_flow": null,
      "grid_area": null,
      "grid_auto_columns": null,
      "grid_auto_flow": null,
      "grid_auto_rows": null,
      "grid_column": null,
      "grid_gap": null,
      "grid_row": null,
      "grid_template_areas": null,
      "grid_template_columns": null,
      "grid_template_rows": null,
      "height": null,
      "justify_content": null,
      "justify_items": null,
      "left": null,
      "margin": null,
      "max_height": null,
      "max_width": null,
      "min_height": null,
      "min_width": null,
      "object_fit": null,
      "object_position": null,
      "order": null,
      "overflow": null,
      "overflow_x": null,
      "overflow_y": null,
      "padding": null,
      "right": null,
      "top": null,
      "visibility": null,
      "width": null
     }
    },
    "498228514f954fd49c64c208b8b0874f": {
     "model_module": "@jupyter-widgets/controls",
     "model_name": "HTMLModel",
     "state": {
      "_dom_classes": [],
      "_model_module": "@jupyter-widgets/controls",
      "_model_module_version": "1.5.0",
      "_model_name": "HTMLModel",
      "_view_count": null,
      "_view_module": "@jupyter-widgets/controls",
      "_view_module_version": "1.5.0",
      "_view_name": "HTMLView",
      "description": "",
      "description_tooltip": null,
      "layout": "IPY_MODEL_838f3a0df68341c0ab8f3da87d644070",
      "placeholder": "​",
      "style": "IPY_MODEL_aad397f77c014c20b40442e0937d9701",
      "value": " 1/1 [00:00&lt;00:00,  6.00it/s]"
     }
    },
    "4ccae1e0061347fbab4e8b50db3b0278": {
     "model_module": "@jupyter-widgets/controls",
     "model_name": "DescriptionStyleModel",
     "state": {
      "_model_module": "@jupyter-widgets/controls",
      "_model_module_version": "1.5.0",
      "_model_name": "DescriptionStyleModel",
      "_view_count": null,
      "_view_module": "@jupyter-widgets/base",
      "_view_module_version": "1.2.0",
      "_view_name": "StyleView",
      "description_width": ""
     }
    },
    "4e21167eceda48d19cf7a42aabc3c71f": {
     "model_module": "@jupyter-widgets/base",
     "model_name": "LayoutModel",
     "state": {
      "_model_module": "@jupyter-widgets/base",
      "_model_module_version": "1.2.0",
      "_model_name": "LayoutModel",
      "_view_count": null,
      "_view_module": "@jupyter-widgets/base",
      "_view_module_version": "1.2.0",
      "_view_name": "LayoutView",
      "align_content": null,
      "align_items": null,
      "align_self": null,
      "border": null,
      "bottom": null,
      "display": null,
      "flex": null,
      "flex_flow": null,
      "grid_area": null,
      "grid_auto_columns": null,
      "grid_auto_flow": null,
      "grid_auto_rows": null,
      "grid_column": null,
      "grid_gap": null,
      "grid_row": null,
      "grid_template_areas": null,
      "grid_template_columns": null,
      "grid_template_rows": null,
      "height": null,
      "justify_content": null,
      "justify_items": null,
      "left": null,
      "margin": null,
      "max_height": null,
      "max_width": null,
      "min_height": null,
      "min_width": null,
      "object_fit": null,
      "object_position": null,
      "order": null,
      "overflow": null,
      "overflow_x": null,
      "overflow_y": null,
      "padding": null,
      "right": null,
      "top": null,
      "visibility": null,
      "width": null
     }
    },
    "50b89f3b134d49d69ee6fbdba4d3fff6": {
     "model_module": "@jupyter-widgets/base",
     "model_name": "LayoutModel",
     "state": {
      "_model_module": "@jupyter-widgets/base",
      "_model_module_version": "1.2.0",
      "_model_name": "LayoutModel",
      "_view_count": null,
      "_view_module": "@jupyter-widgets/base",
      "_view_module_version": "1.2.0",
      "_view_name": "LayoutView",
      "align_content": null,
      "align_items": null,
      "align_self": null,
      "border": null,
      "bottom": null,
      "display": null,
      "flex": null,
      "flex_flow": null,
      "grid_area": null,
      "grid_auto_columns": null,
      "grid_auto_flow": null,
      "grid_auto_rows": null,
      "grid_column": null,
      "grid_gap": null,
      "grid_row": null,
      "grid_template_areas": null,
      "grid_template_columns": null,
      "grid_template_rows": null,
      "height": null,
      "justify_content": null,
      "justify_items": null,
      "left": null,
      "margin": null,
      "max_height": null,
      "max_width": null,
      "min_height": null,
      "min_width": null,
      "object_fit": null,
      "object_position": null,
      "order": null,
      "overflow": null,
      "overflow_x": null,
      "overflow_y": null,
      "padding": null,
      "right": null,
      "top": null,
      "visibility": null,
      "width": null
     }
    },
    "53692a5984494fce870daec336f4359f": {
     "model_module": "@jupyter-widgets/base",
     "model_name": "LayoutModel",
     "state": {
      "_model_module": "@jupyter-widgets/base",
      "_model_module_version": "1.2.0",
      "_model_name": "LayoutModel",
      "_view_count": null,
      "_view_module": "@jupyter-widgets/base",
      "_view_module_version": "1.2.0",
      "_view_name": "LayoutView",
      "align_content": null,
      "align_items": null,
      "align_self": null,
      "border": null,
      "bottom": null,
      "display": null,
      "flex": null,
      "flex_flow": null,
      "grid_area": null,
      "grid_auto_columns": null,
      "grid_auto_flow": null,
      "grid_auto_rows": null,
      "grid_column": null,
      "grid_gap": null,
      "grid_row": null,
      "grid_template_areas": null,
      "grid_template_columns": null,
      "grid_template_rows": null,
      "height": null,
      "justify_content": null,
      "justify_items": null,
      "left": null,
      "margin": null,
      "max_height": null,
      "max_width": null,
      "min_height": null,
      "min_width": null,
      "object_fit": null,
      "object_position": null,
      "order": null,
      "overflow": null,
      "overflow_x": null,
      "overflow_y": null,
      "padding": null,
      "right": null,
      "top": null,
      "visibility": null,
      "width": null
     }
    },
    "58da12baba5646d7a5a762fecf9685cd": {
     "model_module": "@jupyter-widgets/controls",
     "model_name": "TextModel",
     "state": {
      "_dom_classes": [],
      "_model_module": "@jupyter-widgets/controls",
      "_model_module_version": "1.5.0",
      "_model_name": "TextModel",
      "_view_count": null,
      "_view_module": "@jupyter-widgets/controls",
      "_view_module_version": "1.5.0",
      "_view_name": "TextView",
      "continuous_update": true,
      "description": "",
      "description_tooltip": null,
      "disabled": false,
      "layout": "IPY_MODEL_396e9b14771b47088e6fbf62d0e2d041",
      "placeholder": "​",
      "style": "IPY_MODEL_4133ab8a44b74f5eb163329d54566d4f",
      "value": "Following data types have been inferred automatically, if they are correct press enter to continue or type 'quit' otherwise."
     }
    },
    "59c1eb794bac4184b5893ba6301a8176": {
     "model_module": "@jupyter-widgets/controls",
     "model_name": "HTMLModel",
     "state": {
      "_dom_classes": [],
      "_model_module": "@jupyter-widgets/controls",
      "_model_module_version": "1.5.0",
      "_model_name": "HTMLModel",
      "_view_count": null,
      "_view_module": "@jupyter-widgets/controls",
      "_view_module_version": "1.5.0",
      "_view_name": "HTMLView",
      "description": "",
      "description_tooltip": null,
      "layout": "IPY_MODEL_b072e7d637c84b509fca61e1bc18cf7a",
      "placeholder": "​",
      "style": "IPY_MODEL_f10aa559eee04ae8acd5d299cbe4663b",
      "value": "Summarize dataset: 100%"
     }
    },
    "5dbbd6894c5b409db26356e152d72d0a": {
     "model_module": "@jupyter-widgets/controls",
     "model_name": "HTMLModel",
     "state": {
      "_dom_classes": [],
      "_model_module": "@jupyter-widgets/controls",
      "_model_module_version": "1.5.0",
      "_model_name": "HTMLModel",
      "_view_count": null,
      "_view_module": "@jupyter-widgets/controls",
      "_view_module_version": "1.5.0",
      "_view_name": "HTMLView",
      "description": "",
      "description_tooltip": null,
      "layout": "IPY_MODEL_be61f8125c0246c180e0b2af9c96c68c",
      "placeholder": "​",
      "style": "IPY_MODEL_0dd7f0da8cda4917a5ecd0fea2502285",
      "value": " 32/32 [01:22&lt;00:00,  2.58s/it, Completed]"
     }
    },
    "5f74908db7d34bd9a32ca3d3edcd7660": {
     "model_module": "@jupyter-widgets/controls",
     "model_name": "HBoxModel",
     "state": {
      "_dom_classes": [],
      "_model_module": "@jupyter-widgets/controls",
      "_model_module_version": "1.5.0",
      "_model_name": "HBoxModel",
      "_view_count": null,
      "_view_module": "@jupyter-widgets/controls",
      "_view_module_version": "1.5.0",
      "_view_name": "HBoxView",
      "box_style": "",
      "children": [
       "IPY_MODEL_f2fedc426288429695ab8f9ff6a9f19c",
       "IPY_MODEL_9144799673d440ae816c4477d07daeee",
       "IPY_MODEL_033382f52a314425b0052444fbedcd1c"
      ],
      "layout": "IPY_MODEL_2c93b5020dc14970a3bf5bf1c5969e4e"
     }
    },
    "613d1932db8d46f4970e1d28b8e4c28e": {
     "model_module": "@jupyter-widgets/base",
     "model_name": "LayoutModel",
     "state": {
      "_model_module": "@jupyter-widgets/base",
      "_model_module_version": "1.2.0",
      "_model_name": "LayoutModel",
      "_view_count": null,
      "_view_module": "@jupyter-widgets/base",
      "_view_module_version": "1.2.0",
      "_view_name": "LayoutView",
      "align_content": null,
      "align_items": null,
      "align_self": null,
      "border": null,
      "bottom": null,
      "display": null,
      "flex": null,
      "flex_flow": null,
      "grid_area": null,
      "grid_auto_columns": null,
      "grid_auto_flow": null,
      "grid_auto_rows": null,
      "grid_column": null,
      "grid_gap": null,
      "grid_row": null,
      "grid_template_areas": null,
      "grid_template_columns": null,
      "grid_template_rows": null,
      "height": null,
      "justify_content": null,
      "justify_items": null,
      "left": null,
      "margin": null,
      "max_height": null,
      "max_width": null,
      "min_height": null,
      "min_width": null,
      "object_fit": null,
      "object_position": null,
      "order": null,
      "overflow": null,
      "overflow_x": null,
      "overflow_y": null,
      "padding": null,
      "right": null,
      "top": null,
      "visibility": null,
      "width": null
     }
    },
    "62f76049e0b74bf68c1a1808ed833c2f": {
     "model_module": "@jupyter-widgets/controls",
     "model_name": "HTMLModel",
     "state": {
      "_dom_classes": [],
      "_model_module": "@jupyter-widgets/controls",
      "_model_module_version": "1.5.0",
      "_model_name": "HTMLModel",
      "_view_count": null,
      "_view_module": "@jupyter-widgets/controls",
      "_view_module_version": "1.5.0",
      "_view_name": "HTMLView",
      "description": "",
      "description_tooltip": null,
      "layout": "IPY_MODEL_f721df78adc74f3a86a334291dbb464e",
      "placeholder": "​",
      "style": "IPY_MODEL_14a487cb33a14feeb4043e0b4a86cdda",
      "value": " 1/1 [00:09&lt;00:00,  9.59s/it]"
     }
    },
    "63acbbd3c73b4d7c853d41d4af344d58": {
     "model_module": "@jupyter-widgets/controls",
     "model_name": "HTMLModel",
     "state": {
      "_dom_classes": [],
      "_model_module": "@jupyter-widgets/controls",
      "_model_module_version": "1.5.0",
      "_model_name": "HTMLModel",
      "_view_count": null,
      "_view_module": "@jupyter-widgets/controls",
      "_view_module_version": "1.5.0",
      "_view_name": "HTMLView",
      "description": "",
      "description_tooltip": null,
      "layout": "IPY_MODEL_a4aa943d5fae4bf2ae844380cee34621",
      "placeholder": "​",
      "style": "IPY_MODEL_d1e1108238ed4d6597698c8f7a0ed070",
      "value": "Summarize dataset: 100%"
     }
    },
    "6465117bdb984531b0a9fb7b30b0df4e": {
     "model_module": "@jupyter-widgets/controls",
     "model_name": "HBoxModel",
     "state": {
      "_dom_classes": [],
      "_model_module": "@jupyter-widgets/controls",
      "_model_module_version": "1.5.0",
      "_model_name": "HBoxModel",
      "_view_count": null,
      "_view_module": "@jupyter-widgets/controls",
      "_view_module_version": "1.5.0",
      "_view_name": "HBoxView",
      "box_style": "",
      "children": [
       "IPY_MODEL_05fb96e78add4dfea3564eed37eb441b",
       "IPY_MODEL_9cb69b92dfa24cbf853d2e676cbce37e",
       "IPY_MODEL_6c514b0a0d2e4b319808c5f75b072456"
      ],
      "layout": "IPY_MODEL_daf369dacbed414aa807248dda8a91c7"
     }
    },
    "652b82bc91464540a3bd9e059ac781d4": {
     "model_module": "@jupyter-widgets/controls",
     "model_name": "DescriptionStyleModel",
     "state": {
      "_model_module": "@jupyter-widgets/controls",
      "_model_module_version": "1.5.0",
      "_model_name": "DescriptionStyleModel",
      "_view_count": null,
      "_view_module": "@jupyter-widgets/base",
      "_view_module_version": "1.2.0",
      "_view_name": "StyleView",
      "description_width": ""
     }
    },
    "6574fa3b2af1489abe9d69b93b2637db": {
     "model_module": "@jupyter-widgets/controls",
     "model_name": "HTMLModel",
     "state": {
      "_dom_classes": [],
      "_model_module": "@jupyter-widgets/controls",
      "_model_module_version": "1.5.0",
      "_model_name": "HTMLModel",
      "_view_count": null,
      "_view_module": "@jupyter-widgets/controls",
      "_view_module_version": "1.5.0",
      "_view_name": "HTMLView",
      "description": "",
      "description_tooltip": null,
      "layout": "IPY_MODEL_d85058852bab4f48b6f36975b2d386af",
      "placeholder": "​",
      "style": "IPY_MODEL_4ccae1e0061347fbab4e8b50db3b0278",
      "value": " 1/1 [00:34&lt;00:00, 34.30s/it]"
     }
    },
    "65a0fcbf426149b099f557736c539bb0": {
     "model_module": "@jupyter-widgets/controls",
     "model_name": "DescriptionStyleModel",
     "state": {
      "_model_module": "@jupyter-widgets/controls",
      "_model_module_version": "1.5.0",
      "_model_name": "DescriptionStyleModel",
      "_view_count": null,
      "_view_module": "@jupyter-widgets/base",
      "_view_module_version": "1.2.0",
      "_view_name": "StyleView",
      "description_width": ""
     }
    },
    "6836a733cb2e498ea5a5c2cc34491dd6": {
     "model_module": "@jupyter-widgets/controls",
     "model_name": "HBoxModel",
     "state": {
      "_dom_classes": [],
      "_model_module": "@jupyter-widgets/controls",
      "_model_module_version": "1.5.0",
      "_model_name": "HBoxModel",
      "_view_count": null,
      "_view_module": "@jupyter-widgets/controls",
      "_view_module_version": "1.5.0",
      "_view_name": "HBoxView",
      "box_style": "",
      "children": [
       "IPY_MODEL_373cb94ad41440d283f1fe6af55ed66f",
       "IPY_MODEL_b29450101ec544dfa4d1fe0bfb72143e",
       "IPY_MODEL_6574fa3b2af1489abe9d69b93b2637db"
      ],
      "layout": "IPY_MODEL_c3920b9112d243a0818dc5268415c82a"
     }
    },
    "6b4176d7f5e3497b8d890ed1b6e85d63": {
     "model_module": "@jupyter-widgets/base",
     "model_name": "LayoutModel",
     "state": {
      "_model_module": "@jupyter-widgets/base",
      "_model_module_version": "1.2.0",
      "_model_name": "LayoutModel",
      "_view_count": null,
      "_view_module": "@jupyter-widgets/base",
      "_view_module_version": "1.2.0",
      "_view_name": "LayoutView",
      "align_content": null,
      "align_items": null,
      "align_self": null,
      "border": null,
      "bottom": null,
      "display": null,
      "flex": null,
      "flex_flow": null,
      "grid_area": null,
      "grid_auto_columns": null,
      "grid_auto_flow": null,
      "grid_auto_rows": null,
      "grid_column": null,
      "grid_gap": null,
      "grid_row": null,
      "grid_template_areas": null,
      "grid_template_columns": null,
      "grid_template_rows": null,
      "height": null,
      "justify_content": null,
      "justify_items": null,
      "left": null,
      "margin": null,
      "max_height": null,
      "max_width": null,
      "min_height": null,
      "min_width": null,
      "object_fit": null,
      "object_position": null,
      "order": null,
      "overflow": null,
      "overflow_x": null,
      "overflow_y": null,
      "padding": null,
      "right": null,
      "top": null,
      "visibility": null,
      "width": null
     }
    },
    "6c514b0a0d2e4b319808c5f75b072456": {
     "model_module": "@jupyter-widgets/controls",
     "model_name": "HTMLModel",
     "state": {
      "_dom_classes": [],
      "_model_module": "@jupyter-widgets/controls",
      "_model_module_version": "1.5.0",
      "_model_name": "HTMLModel",
      "_view_count": null,
      "_view_module": "@jupyter-widgets/controls",
      "_view_module_version": "1.5.0",
      "_view_name": "HTMLView",
      "description": "",
      "description_tooltip": null,
      "layout": "IPY_MODEL_82ea8e0bdfee4b098119a8daa6ae70c7",
      "placeholder": "​",
      "style": "IPY_MODEL_652b82bc91464540a3bd9e059ac781d4",
      "value": " 1/1 [00:10&lt;00:00, 10.28s/it]"
     }
    },
    "72d645db1a864de2be7abc05e479528f": {
     "model_module": "@jupyter-widgets/controls",
     "model_name": "HTMLModel",
     "state": {
      "_dom_classes": [],
      "_model_module": "@jupyter-widgets/controls",
      "_model_module_version": "1.5.0",
      "_model_name": "HTMLModel",
      "_view_count": null,
      "_view_module": "@jupyter-widgets/controls",
      "_view_module_version": "1.5.0",
      "_view_name": "HTMLView",
      "description": "",
      "description_tooltip": null,
      "layout": "IPY_MODEL_ee237c70930c4d089c073e64f6e9c86a",
      "placeholder": "​",
      "style": "IPY_MODEL_304c2d355af7422da91daa2b6a9c10ec",
      "value": "Generate report structure: 100%"
     }
    },
    "734e73b50616402196f7195aa2b4fc8c": {
     "model_module": "@jupyter-widgets/controls",
     "model_name": "FloatProgressModel",
     "state": {
      "_dom_classes": [],
      "_model_module": "@jupyter-widgets/controls",
      "_model_module_version": "1.5.0",
      "_model_name": "FloatProgressModel",
      "_view_count": null,
      "_view_module": "@jupyter-widgets/controls",
      "_view_module_version": "1.5.0",
      "_view_name": "ProgressView",
      "bar_style": "success",
      "description": "",
      "description_tooltip": null,
      "layout": "IPY_MODEL_1ca308a18879452fbc44db232a0f7453",
      "max": 1,
      "min": 0,
      "orientation": "horizontal",
      "style": "IPY_MODEL_ee6bb9da5a374f33a6ba675caa1358fd",
      "value": 1
     }
    },
    "73cfedcb9b554e05b238b496e3fbd56c": {
     "model_module": "@jupyter-widgets/controls",
     "model_name": "FloatProgressModel",
     "state": {
      "_dom_classes": [],
      "_model_module": "@jupyter-widgets/controls",
      "_model_module_version": "1.5.0",
      "_model_name": "FloatProgressModel",
      "_view_count": null,
      "_view_module": "@jupyter-widgets/controls",
      "_view_module_version": "1.5.0",
      "_view_name": "ProgressView",
      "bar_style": "success",
      "description": "",
      "description_tooltip": null,
      "layout": "IPY_MODEL_ff8d7c3b5f0e46a599b540d53e08c0d4",
      "max": 32,
      "min": 0,
      "orientation": "horizontal",
      "style": "IPY_MODEL_28057e6f81464edabfc8b818550d5690",
      "value": 32
     }
    },
    "73fc74d6b72048f59f15987224f7e7aa": {
     "model_module": "@jupyter-widgets/controls",
     "model_name": "HBoxModel",
     "state": {
      "_dom_classes": [],
      "_model_module": "@jupyter-widgets/controls",
      "_model_module_version": "1.5.0",
      "_model_name": "HBoxModel",
      "_view_count": null,
      "_view_module": "@jupyter-widgets/controls",
      "_view_module_version": "1.5.0",
      "_view_name": "HBoxView",
      "box_style": "",
      "children": [
       "IPY_MODEL_79b1d64ded0f4e369595ed6dfcaf9e06",
       "IPY_MODEL_83b1cb9cc8a046c3b8d357d2469a80d6",
       "IPY_MODEL_62f76049e0b74bf68c1a1808ed833c2f"
      ],
      "layout": "IPY_MODEL_50b89f3b134d49d69ee6fbdba4d3fff6"
     }
    },
    "750f2fee95554abe9ceb8b478a10f551": {
     "model_module": "@jupyter-widgets/base",
     "model_name": "LayoutModel",
     "state": {
      "_model_module": "@jupyter-widgets/base",
      "_model_module_version": "1.2.0",
      "_model_name": "LayoutModel",
      "_view_count": null,
      "_view_module": "@jupyter-widgets/base",
      "_view_module_version": "1.2.0",
      "_view_name": "LayoutView",
      "align_content": null,
      "align_items": null,
      "align_self": null,
      "border": null,
      "bottom": null,
      "display": null,
      "flex": null,
      "flex_flow": null,
      "grid_area": null,
      "grid_auto_columns": null,
      "grid_auto_flow": null,
      "grid_auto_rows": null,
      "grid_column": null,
      "grid_gap": null,
      "grid_row": null,
      "grid_template_areas": null,
      "grid_template_columns": null,
      "grid_template_rows": null,
      "height": null,
      "justify_content": null,
      "justify_items": null,
      "left": null,
      "margin": null,
      "max_height": null,
      "max_width": null,
      "min_height": null,
      "min_width": null,
      "object_fit": null,
      "object_position": null,
      "order": null,
      "overflow": null,
      "overflow_x": null,
      "overflow_y": null,
      "padding": null,
      "right": null,
      "top": null,
      "visibility": null,
      "width": null
     }
    },
    "79b1d64ded0f4e369595ed6dfcaf9e06": {
     "model_module": "@jupyter-widgets/controls",
     "model_name": "HTMLModel",
     "state": {
      "_dom_classes": [],
      "_model_module": "@jupyter-widgets/controls",
      "_model_module_version": "1.5.0",
      "_model_name": "HTMLModel",
      "_view_count": null,
      "_view_module": "@jupyter-widgets/controls",
      "_view_module_version": "1.5.0",
      "_view_name": "HTMLView",
      "description": "",
      "description_tooltip": null,
      "layout": "IPY_MODEL_96bce0a5e7ab4e4fad4f3080767cdc05",
      "placeholder": "​",
      "style": "IPY_MODEL_e52dffb1dbc5458cbcd12c2f29056e2e",
      "value": "Render HTML: 100%"
     }
    },
    "7eee16d8c0854783b08e032a02b0eaea": {
     "model_module": "@jupyter-widgets/controls",
     "model_name": "FloatProgressModel",
     "state": {
      "_dom_classes": [],
      "_model_module": "@jupyter-widgets/controls",
      "_model_module_version": "1.5.0",
      "_model_name": "FloatProgressModel",
      "_view_count": null,
      "_view_module": "@jupyter-widgets/controls",
      "_view_module_version": "1.5.0",
      "_view_name": "ProgressView",
      "bar_style": "success",
      "description": "",
      "description_tooltip": null,
      "layout": "IPY_MODEL_e55377862768425ba5d013af01fee05f",
      "max": 32,
      "min": 0,
      "orientation": "horizontal",
      "style": "IPY_MODEL_e97fe6d5cf804cacbdc7fec315161397",
      "value": 32
     }
    },
    "7f2e262cf97f4617937ae46d4be4caa1": {
     "model_module": "@jupyter-widgets/controls",
     "model_name": "ProgressStyleModel",
     "state": {
      "_model_module": "@jupyter-widgets/controls",
      "_model_module_version": "1.5.0",
      "_model_name": "ProgressStyleModel",
      "_view_count": null,
      "_view_module": "@jupyter-widgets/base",
      "_view_module_version": "1.2.0",
      "_view_name": "StyleView",
      "bar_color": null,
      "description_width": ""
     }
    },
    "7f7a4c3ad955471ba593809f98bdb5c0": {
     "model_module": "@jupyter-widgets/controls",
     "model_name": "ProgressStyleModel",
     "state": {
      "_model_module": "@jupyter-widgets/controls",
      "_model_module_version": "1.5.0",
      "_model_name": "ProgressStyleModel",
      "_view_count": null,
      "_view_module": "@jupyter-widgets/base",
      "_view_module_version": "1.2.0",
      "_view_name": "StyleView",
      "bar_color": null,
      "description_width": ""
     }
    },
    "82ea8e0bdfee4b098119a8daa6ae70c7": {
     "model_module": "@jupyter-widgets/base",
     "model_name": "LayoutModel",
     "state": {
      "_model_module": "@jupyter-widgets/base",
      "_model_module_version": "1.2.0",
      "_model_name": "LayoutModel",
      "_view_count": null,
      "_view_module": "@jupyter-widgets/base",
      "_view_module_version": "1.2.0",
      "_view_name": "LayoutView",
      "align_content": null,
      "align_items": null,
      "align_self": null,
      "border": null,
      "bottom": null,
      "display": null,
      "flex": null,
      "flex_flow": null,
      "grid_area": null,
      "grid_auto_columns": null,
      "grid_auto_flow": null,
      "grid_auto_rows": null,
      "grid_column": null,
      "grid_gap": null,
      "grid_row": null,
      "grid_template_areas": null,
      "grid_template_columns": null,
      "grid_template_rows": null,
      "height": null,
      "justify_content": null,
      "justify_items": null,
      "left": null,
      "margin": null,
      "max_height": null,
      "max_width": null,
      "min_height": null,
      "min_width": null,
      "object_fit": null,
      "object_position": null,
      "order": null,
      "overflow": null,
      "overflow_x": null,
      "overflow_y": null,
      "padding": null,
      "right": null,
      "top": null,
      "visibility": null,
      "width": null
     }
    },
    "838f3a0df68341c0ab8f3da87d644070": {
     "model_module": "@jupyter-widgets/base",
     "model_name": "LayoutModel",
     "state": {
      "_model_module": "@jupyter-widgets/base",
      "_model_module_version": "1.2.0",
      "_model_name": "LayoutModel",
      "_view_count": null,
      "_view_module": "@jupyter-widgets/base",
      "_view_module_version": "1.2.0",
      "_view_name": "LayoutView",
      "align_content": null,
      "align_items": null,
      "align_self": null,
      "border": null,
      "bottom": null,
      "display": null,
      "flex": null,
      "flex_flow": null,
      "grid_area": null,
      "grid_auto_columns": null,
      "grid_auto_flow": null,
      "grid_auto_rows": null,
      "grid_column": null,
      "grid_gap": null,
      "grid_row": null,
      "grid_template_areas": null,
      "grid_template_columns": null,
      "grid_template_rows": null,
      "height": null,
      "justify_content": null,
      "justify_items": null,
      "left": null,
      "margin": null,
      "max_height": null,
      "max_width": null,
      "min_height": null,
      "min_width": null,
      "object_fit": null,
      "object_position": null,
      "order": null,
      "overflow": null,
      "overflow_x": null,
      "overflow_y": null,
      "padding": null,
      "right": null,
      "top": null,
      "visibility": null,
      "width": null
     }
    },
    "83b1cb9cc8a046c3b8d357d2469a80d6": {
     "model_module": "@jupyter-widgets/controls",
     "model_name": "FloatProgressModel",
     "state": {
      "_dom_classes": [],
      "_model_module": "@jupyter-widgets/controls",
      "_model_module_version": "1.5.0",
      "_model_name": "FloatProgressModel",
      "_view_count": null,
      "_view_module": "@jupyter-widgets/controls",
      "_view_module_version": "1.5.0",
      "_view_name": "ProgressView",
      "bar_style": "success",
      "description": "",
      "description_tooltip": null,
      "layout": "IPY_MODEL_c719dbe243ad4400960878a72ddb10c1",
      "max": 1,
      "min": 0,
      "orientation": "horizontal",
      "style": "IPY_MODEL_f039c94289084b638fd359c9ab259bdf",
      "value": 1
     }
    },
    "898f42d0a0a647748e802a7d9207d960": {
     "model_module": "@jupyter-widgets/controls",
     "model_name": "DescriptionStyleModel",
     "state": {
      "_model_module": "@jupyter-widgets/controls",
      "_model_module_version": "1.5.0",
      "_model_name": "DescriptionStyleModel",
      "_view_count": null,
      "_view_module": "@jupyter-widgets/base",
      "_view_module_version": "1.2.0",
      "_view_name": "StyleView",
      "description_width": ""
     }
    },
    "89cb599d211644759d4636efa756be44": {
     "model_module": "@jupyter-widgets/base",
     "model_name": "LayoutModel",
     "state": {
      "_model_module": "@jupyter-widgets/base",
      "_model_module_version": "1.2.0",
      "_model_name": "LayoutModel",
      "_view_count": null,
      "_view_module": "@jupyter-widgets/base",
      "_view_module_version": "1.2.0",
      "_view_name": "LayoutView",
      "align_content": null,
      "align_items": null,
      "align_self": null,
      "border": null,
      "bottom": null,
      "display": null,
      "flex": null,
      "flex_flow": null,
      "grid_area": null,
      "grid_auto_columns": null,
      "grid_auto_flow": null,
      "grid_auto_rows": null,
      "grid_column": null,
      "grid_gap": null,
      "grid_row": null,
      "grid_template_areas": null,
      "grid_template_columns": null,
      "grid_template_rows": null,
      "height": null,
      "justify_content": null,
      "justify_items": null,
      "left": null,
      "margin": null,
      "max_height": null,
      "max_width": null,
      "min_height": null,
      "min_width": null,
      "object_fit": null,
      "object_position": null,
      "order": null,
      "overflow": null,
      "overflow_x": null,
      "overflow_y": null,
      "padding": null,
      "right": null,
      "top": null,
      "visibility": null,
      "width": null
     }
    },
    "8be921488c5c4710b8f976a227771e52": {
     "model_module": "@jupyter-widgets/controls",
     "model_name": "HTMLModel",
     "state": {
      "_dom_classes": [],
      "_model_module": "@jupyter-widgets/controls",
      "_model_module_version": "1.5.0",
      "_model_name": "HTMLModel",
      "_view_count": null,
      "_view_module": "@jupyter-widgets/controls",
      "_view_module_version": "1.5.0",
      "_view_name": "HTMLView",
      "description": "",
      "description_tooltip": null,
      "layout": "IPY_MODEL_191ba3e882e04dab847930aa0f466277",
      "placeholder": "​",
      "style": "IPY_MODEL_65a0fcbf426149b099f557736c539bb0",
      "value": " 1/1 [00:11&lt;00:00, 11.79s/it]"
     }
    },
    "8eedbc62e5e342ca8d14144a051c17e8": {
     "model_module": "@jupyter-widgets/controls",
     "model_name": "ProgressStyleModel",
     "state": {
      "_model_module": "@jupyter-widgets/controls",
      "_model_module_version": "1.5.0",
      "_model_name": "ProgressStyleModel",
      "_view_count": null,
      "_view_module": "@jupyter-widgets/base",
      "_view_module_version": "1.2.0",
      "_view_name": "StyleView",
      "bar_color": null,
      "description_width": ""
     }
    },
    "900fe56f554149ae8212e4272cccaaee": {
     "model_module": "@jupyter-widgets/base",
     "model_name": "LayoutModel",
     "state": {
      "_model_module": "@jupyter-widgets/base",
      "_model_module_version": "1.2.0",
      "_model_name": "LayoutModel",
      "_view_count": null,
      "_view_module": "@jupyter-widgets/base",
      "_view_module_version": "1.2.0",
      "_view_name": "LayoutView",
      "align_content": null,
      "align_items": null,
      "align_self": null,
      "border": null,
      "bottom": null,
      "display": null,
      "flex": null,
      "flex_flow": null,
      "grid_area": null,
      "grid_auto_columns": null,
      "grid_auto_flow": null,
      "grid_auto_rows": null,
      "grid_column": null,
      "grid_gap": null,
      "grid_row": null,
      "grid_template_areas": null,
      "grid_template_columns": null,
      "grid_template_rows": null,
      "height": null,
      "justify_content": null,
      "justify_items": null,
      "left": null,
      "margin": null,
      "max_height": null,
      "max_width": null,
      "min_height": null,
      "min_width": null,
      "object_fit": null,
      "object_position": null,
      "order": null,
      "overflow": null,
      "overflow_x": null,
      "overflow_y": null,
      "padding": null,
      "right": null,
      "top": null,
      "visibility": null,
      "width": null
     }
    },
    "9144799673d440ae816c4477d07daeee": {
     "model_module": "@jupyter-widgets/controls",
     "model_name": "FloatProgressModel",
     "state": {
      "_dom_classes": [],
      "_model_module": "@jupyter-widgets/controls",
      "_model_module_version": "1.5.0",
      "_model_name": "FloatProgressModel",
      "_view_count": null,
      "_view_module": "@jupyter-widgets/controls",
      "_view_module_version": "1.5.0",
      "_view_name": "ProgressView",
      "bar_style": "success",
      "description": "",
      "description_tooltip": null,
      "layout": "IPY_MODEL_d9e4a2dccc834b60beea798181a6f3f6",
      "max": 1,
      "min": 0,
      "orientation": "horizontal",
      "style": "IPY_MODEL_d1c32732d3d84238aaaf13ce8dd86370",
      "value": 1
     }
    },
    "9179020f45664a68be6ea0573179c8e5": {
     "model_module": "@jupyter-widgets/base",
     "model_name": "LayoutModel",
     "state": {
      "_model_module": "@jupyter-widgets/base",
      "_model_module_version": "1.2.0",
      "_model_name": "LayoutModel",
      "_view_count": null,
      "_view_module": "@jupyter-widgets/base",
      "_view_module_version": "1.2.0",
      "_view_name": "LayoutView",
      "align_content": null,
      "align_items": null,
      "align_self": null,
      "border": null,
      "bottom": null,
      "display": null,
      "flex": null,
      "flex_flow": null,
      "grid_area": null,
      "grid_auto_columns": null,
      "grid_auto_flow": null,
      "grid_auto_rows": null,
      "grid_column": null,
      "grid_gap": null,
      "grid_row": null,
      "grid_template_areas": null,
      "grid_template_columns": null,
      "grid_template_rows": null,
      "height": null,
      "justify_content": null,
      "justify_items": null,
      "left": null,
      "margin": null,
      "max_height": null,
      "max_width": null,
      "min_height": null,
      "min_width": null,
      "object_fit": null,
      "object_position": null,
      "order": null,
      "overflow": null,
      "overflow_x": null,
      "overflow_y": null,
      "padding": null,
      "right": null,
      "top": null,
      "visibility": null,
      "width": null
     }
    },
    "95b70399a6684801b59735648f55a73f": {
     "model_module": "@jupyter-widgets/controls",
     "model_name": "DescriptionStyleModel",
     "state": {
      "_model_module": "@jupyter-widgets/controls",
      "_model_module_version": "1.5.0",
      "_model_name": "DescriptionStyleModel",
      "_view_count": null,
      "_view_module": "@jupyter-widgets/base",
      "_view_module_version": "1.2.0",
      "_view_name": "StyleView",
      "description_width": ""
     }
    },
    "96bce0a5e7ab4e4fad4f3080767cdc05": {
     "model_module": "@jupyter-widgets/base",
     "model_name": "LayoutModel",
     "state": {
      "_model_module": "@jupyter-widgets/base",
      "_model_module_version": "1.2.0",
      "_model_name": "LayoutModel",
      "_view_count": null,
      "_view_module": "@jupyter-widgets/base",
      "_view_module_version": "1.2.0",
      "_view_name": "LayoutView",
      "align_content": null,
      "align_items": null,
      "align_self": null,
      "border": null,
      "bottom": null,
      "display": null,
      "flex": null,
      "flex_flow": null,
      "grid_area": null,
      "grid_auto_columns": null,
      "grid_auto_flow": null,
      "grid_auto_rows": null,
      "grid_column": null,
      "grid_gap": null,
      "grid_row": null,
      "grid_template_areas": null,
      "grid_template_columns": null,
      "grid_template_rows": null,
      "height": null,
      "justify_content": null,
      "justify_items": null,
      "left": null,
      "margin": null,
      "max_height": null,
      "max_width": null,
      "min_height": null,
      "min_width": null,
      "object_fit": null,
      "object_position": null,
      "order": null,
      "overflow": null,
      "overflow_x": null,
      "overflow_y": null,
      "padding": null,
      "right": null,
      "top": null,
      "visibility": null,
      "width": null
     }
    },
    "97e87962c9bd42b697a526ab8b41ea3f": {
     "model_module": "@jupyter-widgets/base",
     "model_name": "LayoutModel",
     "state": {
      "_model_module": "@jupyter-widgets/base",
      "_model_module_version": "1.2.0",
      "_model_name": "LayoutModel",
      "_view_count": null,
      "_view_module": "@jupyter-widgets/base",
      "_view_module_version": "1.2.0",
      "_view_name": "LayoutView",
      "align_content": null,
      "align_items": null,
      "align_self": null,
      "border": null,
      "bottom": null,
      "display": null,
      "flex": null,
      "flex_flow": null,
      "grid_area": null,
      "grid_auto_columns": null,
      "grid_auto_flow": null,
      "grid_auto_rows": null,
      "grid_column": null,
      "grid_gap": null,
      "grid_row": null,
      "grid_template_areas": null,
      "grid_template_columns": null,
      "grid_template_rows": null,
      "height": null,
      "justify_content": null,
      "justify_items": null,
      "left": null,
      "margin": null,
      "max_height": null,
      "max_width": null,
      "min_height": null,
      "min_width": null,
      "object_fit": null,
      "object_position": null,
      "order": null,
      "overflow": null,
      "overflow_x": null,
      "overflow_y": null,
      "padding": null,
      "right": null,
      "top": null,
      "visibility": null,
      "width": null
     }
    },
    "99773d3829564f9d9766868bdc89e62f": {
     "model_module": "@jupyter-widgets/base",
     "model_name": "LayoutModel",
     "state": {
      "_model_module": "@jupyter-widgets/base",
      "_model_module_version": "1.2.0",
      "_model_name": "LayoutModel",
      "_view_count": null,
      "_view_module": "@jupyter-widgets/base",
      "_view_module_version": "1.2.0",
      "_view_name": "LayoutView",
      "align_content": null,
      "align_items": null,
      "align_self": null,
      "border": null,
      "bottom": null,
      "display": null,
      "flex": null,
      "flex_flow": null,
      "grid_area": null,
      "grid_auto_columns": null,
      "grid_auto_flow": null,
      "grid_auto_rows": null,
      "grid_column": null,
      "grid_gap": null,
      "grid_row": null,
      "grid_template_areas": null,
      "grid_template_columns": null,
      "grid_template_rows": null,
      "height": null,
      "justify_content": null,
      "justify_items": null,
      "left": null,
      "margin": null,
      "max_height": null,
      "max_width": null,
      "min_height": null,
      "min_width": null,
      "object_fit": null,
      "object_position": null,
      "order": null,
      "overflow": null,
      "overflow_x": null,
      "overflow_y": null,
      "padding": null,
      "right": null,
      "top": null,
      "visibility": null,
      "width": null
     }
    },
    "9a817aa6c509437685cdc34907d2928f": {
     "model_module": "@jupyter-widgets/controls",
     "model_name": "ProgressStyleModel",
     "state": {
      "_model_module": "@jupyter-widgets/controls",
      "_model_module_version": "1.5.0",
      "_model_name": "ProgressStyleModel",
      "_view_count": null,
      "_view_module": "@jupyter-widgets/base",
      "_view_module_version": "1.2.0",
      "_view_name": "StyleView",
      "bar_color": null,
      "description_width": ""
     }
    },
    "9cb69b92dfa24cbf853d2e676cbce37e": {
     "model_module": "@jupyter-widgets/controls",
     "model_name": "FloatProgressModel",
     "state": {
      "_dom_classes": [],
      "_model_module": "@jupyter-widgets/controls",
      "_model_module_version": "1.5.0",
      "_model_name": "FloatProgressModel",
      "_view_count": null,
      "_view_module": "@jupyter-widgets/controls",
      "_view_module_version": "1.5.0",
      "_view_name": "ProgressView",
      "bar_style": "success",
      "description": "",
      "description_tooltip": null,
      "layout": "IPY_MODEL_c7ede108eaff4eaeb50c9f93a46a8929",
      "max": 1,
      "min": 0,
      "orientation": "horizontal",
      "style": "IPY_MODEL_a48b2c0a3a524e679a214cc50d78201a",
      "value": 1
     }
    },
    "a0596a9e8625420f86e45510e08da701": {
     "model_module": "@jupyter-widgets/controls",
     "model_name": "HTMLModel",
     "state": {
      "_dom_classes": [],
      "_model_module": "@jupyter-widgets/controls",
      "_model_module_version": "1.5.0",
      "_model_name": "HTMLModel",
      "_view_count": null,
      "_view_module": "@jupyter-widgets/controls",
      "_view_module_version": "1.5.0",
      "_view_name": "HTMLView",
      "description": "",
      "description_tooltip": null,
      "layout": "IPY_MODEL_d44e485b5e9542d3bbd4630336656994",
      "placeholder": "​",
      "style": "IPY_MODEL_0c23f3f163424d6bba9dadf894f7d627",
      "value": "Export report to file: 100%"
     }
    },
    "a0db46e9e6a145e3a67dff4bb4ed4f5a": {
     "model_module": "@jupyter-widgets/base",
     "model_name": "LayoutModel",
     "state": {
      "_model_module": "@jupyter-widgets/base",
      "_model_module_version": "1.2.0",
      "_model_name": "LayoutModel",
      "_view_count": null,
      "_view_module": "@jupyter-widgets/base",
      "_view_module_version": "1.2.0",
      "_view_name": "LayoutView",
      "align_content": null,
      "align_items": null,
      "align_self": null,
      "border": null,
      "bottom": null,
      "display": null,
      "flex": null,
      "flex_flow": null,
      "grid_area": null,
      "grid_auto_columns": null,
      "grid_auto_flow": null,
      "grid_auto_rows": null,
      "grid_column": null,
      "grid_gap": null,
      "grid_row": null,
      "grid_template_areas": null,
      "grid_template_columns": null,
      "grid_template_rows": null,
      "height": null,
      "justify_content": null,
      "justify_items": null,
      "left": null,
      "margin": null,
      "max_height": null,
      "max_width": null,
      "min_height": null,
      "min_width": null,
      "object_fit": null,
      "object_position": null,
      "order": null,
      "overflow": null,
      "overflow_x": null,
      "overflow_y": null,
      "padding": null,
      "right": null,
      "top": null,
      "visibility": null,
      "width": null
     }
    },
    "a0fcfc09fdce4742a2523b1f20c730b7": {
     "model_module": "@jupyter-widgets/base",
     "model_name": "LayoutModel",
     "state": {
      "_model_module": "@jupyter-widgets/base",
      "_model_module_version": "1.2.0",
      "_model_name": "LayoutModel",
      "_view_count": null,
      "_view_module": "@jupyter-widgets/base",
      "_view_module_version": "1.2.0",
      "_view_name": "LayoutView",
      "align_content": null,
      "align_items": null,
      "align_self": null,
      "border": null,
      "bottom": null,
      "display": null,
      "flex": null,
      "flex_flow": null,
      "grid_area": null,
      "grid_auto_columns": null,
      "grid_auto_flow": null,
      "grid_auto_rows": null,
      "grid_column": null,
      "grid_gap": null,
      "grid_row": null,
      "grid_template_areas": null,
      "grid_template_columns": null,
      "grid_template_rows": null,
      "height": null,
      "justify_content": null,
      "justify_items": null,
      "left": null,
      "margin": null,
      "max_height": null,
      "max_width": null,
      "min_height": null,
      "min_width": null,
      "object_fit": null,
      "object_position": null,
      "order": null,
      "overflow": null,
      "overflow_x": null,
      "overflow_y": null,
      "padding": null,
      "right": null,
      "top": null,
      "visibility": null,
      "width": null
     }
    },
    "a1bf118e7f73494f9018d95697d116af": {
     "model_module": "@jupyter-widgets/controls",
     "model_name": "ProgressStyleModel",
     "state": {
      "_model_module": "@jupyter-widgets/controls",
      "_model_module_version": "1.5.0",
      "_model_name": "ProgressStyleModel",
      "_view_count": null,
      "_view_module": "@jupyter-widgets/base",
      "_view_module_version": "1.2.0",
      "_view_name": "StyleView",
      "bar_color": null,
      "description_width": ""
     }
    },
    "a2ae63451ace43bda935cb8334c27f1b": {
     "model_module": "@jupyter-widgets/controls",
     "model_name": "DescriptionStyleModel",
     "state": {
      "_model_module": "@jupyter-widgets/controls",
      "_model_module_version": "1.5.0",
      "_model_name": "DescriptionStyleModel",
      "_view_count": null,
      "_view_module": "@jupyter-widgets/base",
      "_view_module_version": "1.2.0",
      "_view_name": "StyleView",
      "description_width": ""
     }
    },
    "a48b2c0a3a524e679a214cc50d78201a": {
     "model_module": "@jupyter-widgets/controls",
     "model_name": "ProgressStyleModel",
     "state": {
      "_model_module": "@jupyter-widgets/controls",
      "_model_module_version": "1.5.0",
      "_model_name": "ProgressStyleModel",
      "_view_count": null,
      "_view_module": "@jupyter-widgets/base",
      "_view_module_version": "1.2.0",
      "_view_name": "StyleView",
      "bar_color": null,
      "description_width": ""
     }
    },
    "a4aa943d5fae4bf2ae844380cee34621": {
     "model_module": "@jupyter-widgets/base",
     "model_name": "LayoutModel",
     "state": {
      "_model_module": "@jupyter-widgets/base",
      "_model_module_version": "1.2.0",
      "_model_name": "LayoutModel",
      "_view_count": null,
      "_view_module": "@jupyter-widgets/base",
      "_view_module_version": "1.2.0",
      "_view_name": "LayoutView",
      "align_content": null,
      "align_items": null,
      "align_self": null,
      "border": null,
      "bottom": null,
      "display": null,
      "flex": null,
      "flex_flow": null,
      "grid_area": null,
      "grid_auto_columns": null,
      "grid_auto_flow": null,
      "grid_auto_rows": null,
      "grid_column": null,
      "grid_gap": null,
      "grid_row": null,
      "grid_template_areas": null,
      "grid_template_columns": null,
      "grid_template_rows": null,
      "height": null,
      "justify_content": null,
      "justify_items": null,
      "left": null,
      "margin": null,
      "max_height": null,
      "max_width": null,
      "min_height": null,
      "min_width": null,
      "object_fit": null,
      "object_position": null,
      "order": null,
      "overflow": null,
      "overflow_x": null,
      "overflow_y": null,
      "padding": null,
      "right": null,
      "top": null,
      "visibility": null,
      "width": null
     }
    },
    "a58ed76b9a924d4abcf4ffa57fbe3a9b": {
     "model_module": "@jupyter-widgets/controls",
     "model_name": "HBoxModel",
     "state": {
      "_dom_classes": [],
      "_model_module": "@jupyter-widgets/controls",
      "_model_module_version": "1.5.0",
      "_model_name": "HBoxModel",
      "_view_count": null,
      "_view_module": "@jupyter-widgets/controls",
      "_view_module_version": "1.5.0",
      "_view_name": "HBoxView",
      "box_style": "",
      "children": [
       "IPY_MODEL_0f8302390be5461189d4f35961783678",
       "IPY_MODEL_7eee16d8c0854783b08e032a02b0eaea",
       "IPY_MODEL_5dbbd6894c5b409db26356e152d72d0a"
      ],
      "layout": "IPY_MODEL_97e87962c9bd42b697a526ab8b41ea3f"
     }
    },
    "a7859aee111247dbb4f142ea5307aeb1": {
     "model_module": "@jupyter-widgets/controls",
     "model_name": "HBoxModel",
     "state": {
      "_dom_classes": [],
      "_model_module": "@jupyter-widgets/controls",
      "_model_module_version": "1.5.0",
      "_model_name": "HBoxModel",
      "_view_count": null,
      "_view_module": "@jupyter-widgets/controls",
      "_view_module_version": "1.5.0",
      "_view_name": "HBoxView",
      "box_style": "",
      "children": [
       "IPY_MODEL_ad51fa072c644061b5ef2eb4130ddcf9",
       "IPY_MODEL_244d3f4995454715bc95ec0845cb41f4",
       "IPY_MODEL_8be921488c5c4710b8f976a227771e52"
      ],
      "layout": "IPY_MODEL_2b4c0b95a11a4daa92a1d9770faa466a"
     }
    },
    "aad397f77c014c20b40442e0937d9701": {
     "model_module": "@jupyter-widgets/controls",
     "model_name": "DescriptionStyleModel",
     "state": {
      "_model_module": "@jupyter-widgets/controls",
      "_model_module_version": "1.5.0",
      "_model_name": "DescriptionStyleModel",
      "_view_count": null,
      "_view_module": "@jupyter-widgets/base",
      "_view_module_version": "1.2.0",
      "_view_name": "StyleView",
      "description_width": ""
     }
    },
    "ad51fa072c644061b5ef2eb4130ddcf9": {
     "model_module": "@jupyter-widgets/controls",
     "model_name": "HTMLModel",
     "state": {
      "_dom_classes": [],
      "_model_module": "@jupyter-widgets/controls",
      "_model_module_version": "1.5.0",
      "_model_name": "HTMLModel",
      "_view_count": null,
      "_view_module": "@jupyter-widgets/controls",
      "_view_module_version": "1.5.0",
      "_view_name": "HTMLView",
      "description": "",
      "description_tooltip": null,
      "layout": "IPY_MODEL_2eec42711615404e99f2a45fd261f76f",
      "placeholder": "​",
      "style": "IPY_MODEL_d6e783f95d2443e39e4dac3228307e6b",
      "value": "Render HTML: 100%"
     }
    },
    "af7c2f9ed2ff4c74ac19e0900e390d27": {
     "model_module": "@jupyter-widgets/base",
     "model_name": "LayoutModel",
     "state": {
      "_model_module": "@jupyter-widgets/base",
      "_model_module_version": "1.2.0",
      "_model_name": "LayoutModel",
      "_view_count": null,
      "_view_module": "@jupyter-widgets/base",
      "_view_module_version": "1.2.0",
      "_view_name": "LayoutView",
      "align_content": null,
      "align_items": null,
      "align_self": null,
      "border": null,
      "bottom": null,
      "display": null,
      "flex": null,
      "flex_flow": null,
      "grid_area": null,
      "grid_auto_columns": null,
      "grid_auto_flow": null,
      "grid_auto_rows": null,
      "grid_column": null,
      "grid_gap": null,
      "grid_row": null,
      "grid_template_areas": null,
      "grid_template_columns": null,
      "grid_template_rows": null,
      "height": null,
      "justify_content": null,
      "justify_items": null,
      "left": null,
      "margin": null,
      "max_height": null,
      "max_width": null,
      "min_height": null,
      "min_width": null,
      "object_fit": null,
      "object_position": null,
      "order": null,
      "overflow": null,
      "overflow_x": null,
      "overflow_y": null,
      "padding": null,
      "right": null,
      "top": null,
      "visibility": null,
      "width": null
     }
    },
    "b0537ebe22f548cd8d7412117f4ccfdf": {
     "model_module": "@jupyter-widgets/controls",
     "model_name": "HTMLModel",
     "state": {
      "_dom_classes": [],
      "_model_module": "@jupyter-widgets/controls",
      "_model_module_version": "1.5.0",
      "_model_name": "HTMLModel",
      "_view_count": null,
      "_view_module": "@jupyter-widgets/controls",
      "_view_module_version": "1.5.0",
      "_view_name": "HTMLView",
      "description": "",
      "description_tooltip": null,
      "layout": "IPY_MODEL_750f2fee95554abe9ceb8b478a10f551",
      "placeholder": "​",
      "style": "IPY_MODEL_95b70399a6684801b59735648f55a73f",
      "value": "Export report to file: 100%"
     }
    },
    "b072e7d637c84b509fca61e1bc18cf7a": {
     "model_module": "@jupyter-widgets/base",
     "model_name": "LayoutModel",
     "state": {
      "_model_module": "@jupyter-widgets/base",
      "_model_module_version": "1.2.0",
      "_model_name": "LayoutModel",
      "_view_count": null,
      "_view_module": "@jupyter-widgets/base",
      "_view_module_version": "1.2.0",
      "_view_name": "LayoutView",
      "align_content": null,
      "align_items": null,
      "align_self": null,
      "border": null,
      "bottom": null,
      "display": null,
      "flex": null,
      "flex_flow": null,
      "grid_area": null,
      "grid_auto_columns": null,
      "grid_auto_flow": null,
      "grid_auto_rows": null,
      "grid_column": null,
      "grid_gap": null,
      "grid_row": null,
      "grid_template_areas": null,
      "grid_template_columns": null,
      "grid_template_rows": null,
      "height": null,
      "justify_content": null,
      "justify_items": null,
      "left": null,
      "margin": null,
      "max_height": null,
      "max_width": null,
      "min_height": null,
      "min_width": null,
      "object_fit": null,
      "object_position": null,
      "order": null,
      "overflow": null,
      "overflow_x": null,
      "overflow_y": null,
      "padding": null,
      "right": null,
      "top": null,
      "visibility": null,
      "width": null
     }
    },
    "b27bfcc0fb8d48eeb72fe1ba98bcff1d": {
     "model_module": "@jupyter-widgets/controls",
     "model_name": "DescriptionStyleModel",
     "state": {
      "_model_module": "@jupyter-widgets/controls",
      "_model_module_version": "1.5.0",
      "_model_name": "DescriptionStyleModel",
      "_view_count": null,
      "_view_module": "@jupyter-widgets/base",
      "_view_module_version": "1.2.0",
      "_view_name": "StyleView",
      "description_width": ""
     }
    },
    "b29450101ec544dfa4d1fe0bfb72143e": {
     "model_module": "@jupyter-widgets/controls",
     "model_name": "FloatProgressModel",
     "state": {
      "_dom_classes": [],
      "_model_module": "@jupyter-widgets/controls",
      "_model_module_version": "1.5.0",
      "_model_name": "FloatProgressModel",
      "_view_count": null,
      "_view_module": "@jupyter-widgets/controls",
      "_view_module_version": "1.5.0",
      "_view_name": "ProgressView",
      "bar_style": "success",
      "description": "",
      "description_tooltip": null,
      "layout": "IPY_MODEL_0698a721d4924db5a3dab60ec532e088",
      "max": 1,
      "min": 0,
      "orientation": "horizontal",
      "style": "IPY_MODEL_8eedbc62e5e342ca8d14144a051c17e8",
      "value": 1
     }
    },
    "b405b4092c724ce99a92c7b50bad00d6": {
     "model_module": "@jupyter-widgets/controls",
     "model_name": "HTMLModel",
     "state": {
      "_dom_classes": [],
      "_model_module": "@jupyter-widgets/controls",
      "_model_module_version": "1.5.0",
      "_model_name": "HTMLModel",
      "_view_count": null,
      "_view_module": "@jupyter-widgets/controls",
      "_view_module_version": "1.5.0",
      "_view_name": "HTMLView",
      "description": "",
      "description_tooltip": null,
      "layout": "IPY_MODEL_005952e0c11a42218f6ceec7e0204948",
      "placeholder": "​",
      "style": "IPY_MODEL_b27bfcc0fb8d48eeb72fe1ba98bcff1d",
      "value": " 32/32 [01:01&lt;00:00,  1.92s/it, Completed]"
     }
    },
    "b4d7927662f34108b7af38927f1a8ccc": {
     "model_module": "@jupyter-widgets/controls",
     "model_name": "DescriptionStyleModel",
     "state": {
      "_model_module": "@jupyter-widgets/controls",
      "_model_module_version": "1.5.0",
      "_model_name": "DescriptionStyleModel",
      "_view_count": null,
      "_view_module": "@jupyter-widgets/base",
      "_view_module_version": "1.2.0",
      "_view_name": "StyleView",
      "description_width": ""
     }
    },
    "b6b45dbd4c1546aea0ffc9ec5a116b1d": {
     "model_module": "@jupyter-widgets/controls",
     "model_name": "FloatProgressModel",
     "state": {
      "_dom_classes": [],
      "_model_module": "@jupyter-widgets/controls",
      "_model_module_version": "1.5.0",
      "_model_name": "FloatProgressModel",
      "_view_count": null,
      "_view_module": "@jupyter-widgets/controls",
      "_view_module_version": "1.5.0",
      "_view_name": "ProgressView",
      "bar_style": "success",
      "description": "",
      "description_tooltip": null,
      "layout": "IPY_MODEL_4e21167eceda48d19cf7a42aabc3c71f",
      "max": 1,
      "min": 0,
      "orientation": "horizontal",
      "style": "IPY_MODEL_fd6aee13764b4accb62eef384665b2af",
      "value": 1
     }
    },
    "b6fec89af5ed46a48cfc6ed128e473b0": {
     "model_module": "@jupyter-widgets/base",
     "model_name": "LayoutModel",
     "state": {
      "_model_module": "@jupyter-widgets/base",
      "_model_module_version": "1.2.0",
      "_model_name": "LayoutModel",
      "_view_count": null,
      "_view_module": "@jupyter-widgets/base",
      "_view_module_version": "1.2.0",
      "_view_name": "LayoutView",
      "align_content": null,
      "align_items": null,
      "align_self": null,
      "border": null,
      "bottom": null,
      "display": null,
      "flex": null,
      "flex_flow": null,
      "grid_area": null,
      "grid_auto_columns": null,
      "grid_auto_flow": null,
      "grid_auto_rows": null,
      "grid_column": null,
      "grid_gap": null,
      "grid_row": null,
      "grid_template_areas": null,
      "grid_template_columns": null,
      "grid_template_rows": null,
      "height": null,
      "justify_content": null,
      "justify_items": null,
      "left": null,
      "margin": null,
      "max_height": null,
      "max_width": null,
      "min_height": null,
      "min_width": null,
      "object_fit": null,
      "object_position": null,
      "order": null,
      "overflow": null,
      "overflow_x": null,
      "overflow_y": null,
      "padding": null,
      "right": null,
      "top": null,
      "visibility": null,
      "width": null
     }
    },
    "b7d9aeed00424e78968c903792451b16": {
     "model_module": "@jupyter-widgets/controls",
     "model_name": "IntProgressModel",
     "state": {
      "_dom_classes": [],
      "_model_module": "@jupyter-widgets/controls",
      "_model_module_version": "1.5.0",
      "_model_name": "IntProgressModel",
      "_view_count": null,
      "_view_module": "@jupyter-widgets/controls",
      "_view_module_version": "1.5.0",
      "_view_name": "ProgressView",
      "bar_style": "",
      "description": "Processing: ",
      "description_tooltip": null,
      "layout": "IPY_MODEL_99773d3829564f9d9766868bdc89e62f",
      "max": 5,
      "min": 0,
      "orientation": "horizontal",
      "style": "IPY_MODEL_9a817aa6c509437685cdc34907d2928f",
      "value": 3
     }
    },
    "b9096f422ceb412694111b273ab72356": {
     "model_module": "@jupyter-widgets/controls",
     "model_name": "FloatProgressModel",
     "state": {
      "_dom_classes": [],
      "_model_module": "@jupyter-widgets/controls",
      "_model_module_version": "1.5.0",
      "_model_name": "FloatProgressModel",
      "_view_count": null,
      "_view_module": "@jupyter-widgets/controls",
      "_view_module_version": "1.5.0",
      "_view_name": "ProgressView",
      "bar_style": "success",
      "description": "",
      "description_tooltip": null,
      "layout": "IPY_MODEL_900fe56f554149ae8212e4272cccaaee",
      "max": 1,
      "min": 0,
      "orientation": "horizontal",
      "style": "IPY_MODEL_f7115142e00841bf966b5f8256d6789d",
      "value": 1
     }
    },
    "be61f8125c0246c180e0b2af9c96c68c": {
     "model_module": "@jupyter-widgets/base",
     "model_name": "LayoutModel",
     "state": {
      "_model_module": "@jupyter-widgets/base",
      "_model_module_version": "1.2.0",
      "_model_name": "LayoutModel",
      "_view_count": null,
      "_view_module": "@jupyter-widgets/base",
      "_view_module_version": "1.2.0",
      "_view_name": "LayoutView",
      "align_content": null,
      "align_items": null,
      "align_self": null,
      "border": null,
      "bottom": null,
      "display": null,
      "flex": null,
      "flex_flow": null,
      "grid_area": null,
      "grid_auto_columns": null,
      "grid_auto_flow": null,
      "grid_auto_rows": null,
      "grid_column": null,
      "grid_gap": null,
      "grid_row": null,
      "grid_template_areas": null,
      "grid_template_columns": null,
      "grid_template_rows": null,
      "height": null,
      "justify_content": null,
      "justify_items": null,
      "left": null,
      "margin": null,
      "max_height": null,
      "max_width": null,
      "min_height": null,
      "min_width": null,
      "object_fit": null,
      "object_position": null,
      "order": null,
      "overflow": null,
      "overflow_x": null,
      "overflow_y": null,
      "padding": null,
      "right": null,
      "top": null,
      "visibility": null,
      "width": null
     }
    },
    "c373dc55c2f24fb4b3918f440796c1d5": {
     "model_module": "@jupyter-widgets/controls",
     "model_name": "HTMLModel",
     "state": {
      "_dom_classes": [],
      "_model_module": "@jupyter-widgets/controls",
      "_model_module_version": "1.5.0",
      "_model_name": "HTMLModel",
      "_view_count": null,
      "_view_module": "@jupyter-widgets/controls",
      "_view_module_version": "1.5.0",
      "_view_name": "HTMLView",
      "description": "",
      "description_tooltip": null,
      "layout": "IPY_MODEL_a0fcfc09fdce4742a2523b1f20c730b7",
      "placeholder": "​",
      "style": "IPY_MODEL_e470d257febe40a3a0706b32a2f68290",
      "value": " 1/1 [00:00&lt;00:00,  7.10it/s]"
     }
    },
    "c3920b9112d243a0818dc5268415c82a": {
     "model_module": "@jupyter-widgets/base",
     "model_name": "LayoutModel",
     "state": {
      "_model_module": "@jupyter-widgets/base",
      "_model_module_version": "1.2.0",
      "_model_name": "LayoutModel",
      "_view_count": null,
      "_view_module": "@jupyter-widgets/base",
      "_view_module_version": "1.2.0",
      "_view_name": "LayoutView",
      "align_content": null,
      "align_items": null,
      "align_self": null,
      "border": null,
      "bottom": null,
      "display": null,
      "flex": null,
      "flex_flow": null,
      "grid_area": null,
      "grid_auto_columns": null,
      "grid_auto_flow": null,
      "grid_auto_rows": null,
      "grid_column": null,
      "grid_gap": null,
      "grid_row": null,
      "grid_template_areas": null,
      "grid_template_columns": null,
      "grid_template_rows": null,
      "height": null,
      "justify_content": null,
      "justify_items": null,
      "left": null,
      "margin": null,
      "max_height": null,
      "max_width": null,
      "min_height": null,
      "min_width": null,
      "object_fit": null,
      "object_position": null,
      "order": null,
      "overflow": null,
      "overflow_x": null,
      "overflow_y": null,
      "padding": null,
      "right": null,
      "top": null,
      "visibility": null,
      "width": null
     }
    },
    "c5a6b44895e9414dbe5ad1d68552b0c0": {
     "model_module": "@jupyter-widgets/controls",
     "model_name": "HTMLModel",
     "state": {
      "_dom_classes": [],
      "_model_module": "@jupyter-widgets/controls",
      "_model_module_version": "1.5.0",
      "_model_name": "HTMLModel",
      "_view_count": null,
      "_view_module": "@jupyter-widgets/controls",
      "_view_module_version": "1.5.0",
      "_view_name": "HTMLView",
      "description": "",
      "description_tooltip": null,
      "layout": "IPY_MODEL_6b4176d7f5e3497b8d890ed1b6e85d63",
      "placeholder": "​",
      "style": "IPY_MODEL_fba69b85885b457fa44efc713674521c",
      "value": " 1/1 [03:46&lt;00:00, 226.56s/it]"
     }
    },
    "c719dbe243ad4400960878a72ddb10c1": {
     "model_module": "@jupyter-widgets/base",
     "model_name": "LayoutModel",
     "state": {
      "_model_module": "@jupyter-widgets/base",
      "_model_module_version": "1.2.0",
      "_model_name": "LayoutModel",
      "_view_count": null,
      "_view_module": "@jupyter-widgets/base",
      "_view_module_version": "1.2.0",
      "_view_name": "LayoutView",
      "align_content": null,
      "align_items": null,
      "align_self": null,
      "border": null,
      "bottom": null,
      "display": null,
      "flex": null,
      "flex_flow": null,
      "grid_area": null,
      "grid_auto_columns": null,
      "grid_auto_flow": null,
      "grid_auto_rows": null,
      "grid_column": null,
      "grid_gap": null,
      "grid_row": null,
      "grid_template_areas": null,
      "grid_template_columns": null,
      "grid_template_rows": null,
      "height": null,
      "justify_content": null,
      "justify_items": null,
      "left": null,
      "margin": null,
      "max_height": null,
      "max_width": null,
      "min_height": null,
      "min_width": null,
      "object_fit": null,
      "object_position": null,
      "order": null,
      "overflow": null,
      "overflow_x": null,
      "overflow_y": null,
      "padding": null,
      "right": null,
      "top": null,
      "visibility": null,
      "width": null
     }
    },
    "c7b4977ba8524e1284898ea99263d608": {
     "model_module": "@jupyter-widgets/controls",
     "model_name": "DescriptionStyleModel",
     "state": {
      "_model_module": "@jupyter-widgets/controls",
      "_model_module_version": "1.5.0",
      "_model_name": "DescriptionStyleModel",
      "_view_count": null,
      "_view_module": "@jupyter-widgets/base",
      "_view_module_version": "1.2.0",
      "_view_name": "StyleView",
      "description_width": ""
     }
    },
    "c7ede108eaff4eaeb50c9f93a46a8929": {
     "model_module": "@jupyter-widgets/base",
     "model_name": "LayoutModel",
     "state": {
      "_model_module": "@jupyter-widgets/base",
      "_model_module_version": "1.2.0",
      "_model_name": "LayoutModel",
      "_view_count": null,
      "_view_module": "@jupyter-widgets/base",
      "_view_module_version": "1.2.0",
      "_view_name": "LayoutView",
      "align_content": null,
      "align_items": null,
      "align_self": null,
      "border": null,
      "bottom": null,
      "display": null,
      "flex": null,
      "flex_flow": null,
      "grid_area": null,
      "grid_auto_columns": null,
      "grid_auto_flow": null,
      "grid_auto_rows": null,
      "grid_column": null,
      "grid_gap": null,
      "grid_row": null,
      "grid_template_areas": null,
      "grid_template_columns": null,
      "grid_template_rows": null,
      "height": null,
      "justify_content": null,
      "justify_items": null,
      "left": null,
      "margin": null,
      "max_height": null,
      "max_width": null,
      "min_height": null,
      "min_width": null,
      "object_fit": null,
      "object_position": null,
      "order": null,
      "overflow": null,
      "overflow_x": null,
      "overflow_y": null,
      "padding": null,
      "right": null,
      "top": null,
      "visibility": null,
      "width": null
     }
    },
    "caafddb17b8846f69697fa32472f1276": {
     "model_module": "@jupyter-widgets/controls",
     "model_name": "HBoxModel",
     "state": {
      "_dom_classes": [],
      "_model_module": "@jupyter-widgets/controls",
      "_model_module_version": "1.5.0",
      "_model_name": "HBoxModel",
      "_view_count": null,
      "_view_module": "@jupyter-widgets/controls",
      "_view_module_version": "1.5.0",
      "_view_name": "HBoxView",
      "box_style": "",
      "children": [
       "IPY_MODEL_a0596a9e8625420f86e45510e08da701",
       "IPY_MODEL_734e73b50616402196f7195aa2b4fc8c",
       "IPY_MODEL_c373dc55c2f24fb4b3918f440796c1d5"
      ],
      "layout": "IPY_MODEL_89cb599d211644759d4636efa756be44"
     }
    },
    "cdf76cf25ed5419cb65afffe3c52690f": {
     "model_module": "@jupyter-widgets/base",
     "model_name": "LayoutModel",
     "state": {
      "_model_module": "@jupyter-widgets/base",
      "_model_module_version": "1.2.0",
      "_model_name": "LayoutModel",
      "_view_count": null,
      "_view_module": "@jupyter-widgets/base",
      "_view_module_version": "1.2.0",
      "_view_name": "LayoutView",
      "align_content": null,
      "align_items": null,
      "align_self": null,
      "border": null,
      "bottom": null,
      "display": null,
      "flex": null,
      "flex_flow": null,
      "grid_area": null,
      "grid_auto_columns": null,
      "grid_auto_flow": null,
      "grid_auto_rows": null,
      "grid_column": null,
      "grid_gap": null,
      "grid_row": null,
      "grid_template_areas": null,
      "grid_template_columns": null,
      "grid_template_rows": null,
      "height": null,
      "justify_content": null,
      "justify_items": null,
      "left": null,
      "margin": null,
      "max_height": null,
      "max_width": null,
      "min_height": null,
      "min_width": null,
      "object_fit": null,
      "object_position": null,
      "order": null,
      "overflow": null,
      "overflow_x": null,
      "overflow_y": null,
      "padding": null,
      "right": null,
      "top": null,
      "visibility": null,
      "width": null
     }
    },
    "d1c32732d3d84238aaaf13ce8dd86370": {
     "model_module": "@jupyter-widgets/controls",
     "model_name": "ProgressStyleModel",
     "state": {
      "_model_module": "@jupyter-widgets/controls",
      "_model_module_version": "1.5.0",
      "_model_name": "ProgressStyleModel",
      "_view_count": null,
      "_view_module": "@jupyter-widgets/base",
      "_view_module_version": "1.2.0",
      "_view_name": "StyleView",
      "bar_color": null,
      "description_width": ""
     }
    },
    "d1e1108238ed4d6597698c8f7a0ed070": {
     "model_module": "@jupyter-widgets/controls",
     "model_name": "DescriptionStyleModel",
     "state": {
      "_model_module": "@jupyter-widgets/controls",
      "_model_module_version": "1.5.0",
      "_model_name": "DescriptionStyleModel",
      "_view_count": null,
      "_view_module": "@jupyter-widgets/base",
      "_view_module_version": "1.2.0",
      "_view_name": "StyleView",
      "description_width": ""
     }
    },
    "d23917d47b0a4f81824f481ad9dd1d2f": {
     "model_module": "@jupyter-widgets/controls",
     "model_name": "HBoxModel",
     "state": {
      "_dom_classes": [],
      "_model_module": "@jupyter-widgets/controls",
      "_model_module_version": "1.5.0",
      "_model_name": "HBoxModel",
      "_view_count": null,
      "_view_module": "@jupyter-widgets/controls",
      "_view_module_version": "1.5.0",
      "_view_name": "HBoxView",
      "box_style": "",
      "children": [
       "IPY_MODEL_72d645db1a864de2be7abc05e479528f",
       "IPY_MODEL_b9096f422ceb412694111b273ab72356",
       "IPY_MODEL_c5a6b44895e9414dbe5ad1d68552b0c0"
      ],
      "layout": "IPY_MODEL_e85892293d9841b9a601f92f9cd39c8e"
     }
    },
    "d330d3041a8d4105bf7cd5c428f15a79": {
     "model_module": "@jupyter-widgets/controls",
     "model_name": "ProgressStyleModel",
     "state": {
      "_model_module": "@jupyter-widgets/controls",
      "_model_module_version": "1.5.0",
      "_model_name": "ProgressStyleModel",
      "_view_count": null,
      "_view_module": "@jupyter-widgets/base",
      "_view_module_version": "1.2.0",
      "_view_name": "StyleView",
      "bar_color": null,
      "description_width": ""
     }
    },
    "d38c1a22b28b4a3c8b2a429cf01e1a01": {
     "model_module": "@jupyter-widgets/base",
     "model_name": "LayoutModel",
     "state": {
      "_model_module": "@jupyter-widgets/base",
      "_model_module_version": "1.2.0",
      "_model_name": "LayoutModel",
      "_view_count": null,
      "_view_module": "@jupyter-widgets/base",
      "_view_module_version": "1.2.0",
      "_view_name": "LayoutView",
      "align_content": null,
      "align_items": null,
      "align_self": null,
      "border": null,
      "bottom": null,
      "display": null,
      "flex": null,
      "flex_flow": null,
      "grid_area": null,
      "grid_auto_columns": null,
      "grid_auto_flow": null,
      "grid_auto_rows": null,
      "grid_column": null,
      "grid_gap": null,
      "grid_row": null,
      "grid_template_areas": null,
      "grid_template_columns": null,
      "grid_template_rows": null,
      "height": null,
      "justify_content": null,
      "justify_items": null,
      "left": null,
      "margin": null,
      "max_height": null,
      "max_width": null,
      "min_height": null,
      "min_width": null,
      "object_fit": null,
      "object_position": null,
      "order": null,
      "overflow": null,
      "overflow_x": null,
      "overflow_y": null,
      "padding": null,
      "right": null,
      "top": null,
      "visibility": null,
      "width": null
     }
    },
    "d44e485b5e9542d3bbd4630336656994": {
     "model_module": "@jupyter-widgets/base",
     "model_name": "LayoutModel",
     "state": {
      "_model_module": "@jupyter-widgets/base",
      "_model_module_version": "1.2.0",
      "_model_name": "LayoutModel",
      "_view_count": null,
      "_view_module": "@jupyter-widgets/base",
      "_view_module_version": "1.2.0",
      "_view_name": "LayoutView",
      "align_content": null,
      "align_items": null,
      "align_self": null,
      "border": null,
      "bottom": null,
      "display": null,
      "flex": null,
      "flex_flow": null,
      "grid_area": null,
      "grid_auto_columns": null,
      "grid_auto_flow": null,
      "grid_auto_rows": null,
      "grid_column": null,
      "grid_gap": null,
      "grid_row": null,
      "grid_template_areas": null,
      "grid_template_columns": null,
      "grid_template_rows": null,
      "height": null,
      "justify_content": null,
      "justify_items": null,
      "left": null,
      "margin": null,
      "max_height": null,
      "max_width": null,
      "min_height": null,
      "min_width": null,
      "object_fit": null,
      "object_position": null,
      "order": null,
      "overflow": null,
      "overflow_x": null,
      "overflow_y": null,
      "padding": null,
      "right": null,
      "top": null,
      "visibility": null,
      "width": null
     }
    },
    "d4b5f8a157504f13a39c1f8b234dcdf4": {
     "model_module": "@jupyter-widgets/base",
     "model_name": "LayoutModel",
     "state": {
      "_model_module": "@jupyter-widgets/base",
      "_model_module_version": "1.2.0",
      "_model_name": "LayoutModel",
      "_view_count": null,
      "_view_module": "@jupyter-widgets/base",
      "_view_module_version": "1.2.0",
      "_view_name": "LayoutView",
      "align_content": null,
      "align_items": null,
      "align_self": null,
      "border": null,
      "bottom": null,
      "display": null,
      "flex": null,
      "flex_flow": null,
      "grid_area": null,
      "grid_auto_columns": null,
      "grid_auto_flow": null,
      "grid_auto_rows": null,
      "grid_column": null,
      "grid_gap": null,
      "grid_row": null,
      "grid_template_areas": null,
      "grid_template_columns": null,
      "grid_template_rows": null,
      "height": null,
      "justify_content": null,
      "justify_items": null,
      "left": null,
      "margin": null,
      "max_height": null,
      "max_width": null,
      "min_height": null,
      "min_width": null,
      "object_fit": null,
      "object_position": null,
      "order": null,
      "overflow": null,
      "overflow_x": null,
      "overflow_y": null,
      "padding": null,
      "right": null,
      "top": null,
      "visibility": null,
      "width": null
     }
    },
    "d6e783f95d2443e39e4dac3228307e6b": {
     "model_module": "@jupyter-widgets/controls",
     "model_name": "DescriptionStyleModel",
     "state": {
      "_model_module": "@jupyter-widgets/controls",
      "_model_module_version": "1.5.0",
      "_model_name": "DescriptionStyleModel",
      "_view_count": null,
      "_view_module": "@jupyter-widgets/base",
      "_view_module_version": "1.2.0",
      "_view_name": "StyleView",
      "description_width": ""
     }
    },
    "d85058852bab4f48b6f36975b2d386af": {
     "model_module": "@jupyter-widgets/base",
     "model_name": "LayoutModel",
     "state": {
      "_model_module": "@jupyter-widgets/base",
      "_model_module_version": "1.2.0",
      "_model_name": "LayoutModel",
      "_view_count": null,
      "_view_module": "@jupyter-widgets/base",
      "_view_module_version": "1.2.0",
      "_view_name": "LayoutView",
      "align_content": null,
      "align_items": null,
      "align_self": null,
      "border": null,
      "bottom": null,
      "display": null,
      "flex": null,
      "flex_flow": null,
      "grid_area": null,
      "grid_auto_columns": null,
      "grid_auto_flow": null,
      "grid_auto_rows": null,
      "grid_column": null,
      "grid_gap": null,
      "grid_row": null,
      "grid_template_areas": null,
      "grid_template_columns": null,
      "grid_template_rows": null,
      "height": null,
      "justify_content": null,
      "justify_items": null,
      "left": null,
      "margin": null,
      "max_height": null,
      "max_width": null,
      "min_height": null,
      "min_width": null,
      "object_fit": null,
      "object_position": null,
      "order": null,
      "overflow": null,
      "overflow_x": null,
      "overflow_y": null,
      "padding": null,
      "right": null,
      "top": null,
      "visibility": null,
      "width": null
     }
    },
    "d9e4a2dccc834b60beea798181a6f3f6": {
     "model_module": "@jupyter-widgets/base",
     "model_name": "LayoutModel",
     "state": {
      "_model_module": "@jupyter-widgets/base",
      "_model_module_version": "1.2.0",
      "_model_name": "LayoutModel",
      "_view_count": null,
      "_view_module": "@jupyter-widgets/base",
      "_view_module_version": "1.2.0",
      "_view_name": "LayoutView",
      "align_content": null,
      "align_items": null,
      "align_self": null,
      "border": null,
      "bottom": null,
      "display": null,
      "flex": null,
      "flex_flow": null,
      "grid_area": null,
      "grid_auto_columns": null,
      "grid_auto_flow": null,
      "grid_auto_rows": null,
      "grid_column": null,
      "grid_gap": null,
      "grid_row": null,
      "grid_template_areas": null,
      "grid_template_columns": null,
      "grid_template_rows": null,
      "height": null,
      "justify_content": null,
      "justify_items": null,
      "left": null,
      "margin": null,
      "max_height": null,
      "max_width": null,
      "min_height": null,
      "min_width": null,
      "object_fit": null,
      "object_position": null,
      "order": null,
      "overflow": null,
      "overflow_x": null,
      "overflow_y": null,
      "padding": null,
      "right": null,
      "top": null,
      "visibility": null,
      "width": null
     }
    },
    "daf369dacbed414aa807248dda8a91c7": {
     "model_module": "@jupyter-widgets/base",
     "model_name": "LayoutModel",
     "state": {
      "_model_module": "@jupyter-widgets/base",
      "_model_module_version": "1.2.0",
      "_model_name": "LayoutModel",
      "_view_count": null,
      "_view_module": "@jupyter-widgets/base",
      "_view_module_version": "1.2.0",
      "_view_name": "LayoutView",
      "align_content": null,
      "align_items": null,
      "align_self": null,
      "border": null,
      "bottom": null,
      "display": null,
      "flex": null,
      "flex_flow": null,
      "grid_area": null,
      "grid_auto_columns": null,
      "grid_auto_flow": null,
      "grid_auto_rows": null,
      "grid_column": null,
      "grid_gap": null,
      "grid_row": null,
      "grid_template_areas": null,
      "grid_template_columns": null,
      "grid_template_rows": null,
      "height": null,
      "justify_content": null,
      "justify_items": null,
      "left": null,
      "margin": null,
      "max_height": null,
      "max_width": null,
      "min_height": null,
      "min_width": null,
      "object_fit": null,
      "object_position": null,
      "order": null,
      "overflow": null,
      "overflow_x": null,
      "overflow_y": null,
      "padding": null,
      "right": null,
      "top": null,
      "visibility": null,
      "width": null
     }
    },
    "e1b0b0c742e04e118253562d454e3111": {
     "model_module": "@jupyter-widgets/controls",
     "model_name": "FloatProgressModel",
     "state": {
      "_dom_classes": [],
      "_model_module": "@jupyter-widgets/controls",
      "_model_module_version": "1.5.0",
      "_model_name": "FloatProgressModel",
      "_view_count": null,
      "_view_module": "@jupyter-widgets/controls",
      "_view_module_version": "1.5.0",
      "_view_name": "ProgressView",
      "bar_style": "success",
      "description": "",
      "description_tooltip": null,
      "layout": "IPY_MODEL_1ad51066113c49f88ea08dae40135f66",
      "max": 32,
      "min": 0,
      "orientation": "horizontal",
      "style": "IPY_MODEL_0c909b41f1ed4ba98f096a44d812f084",
      "value": 32
     }
    },
    "e470d257febe40a3a0706b32a2f68290": {
     "model_module": "@jupyter-widgets/controls",
     "model_name": "DescriptionStyleModel",
     "state": {
      "_model_module": "@jupyter-widgets/controls",
      "_model_module_version": "1.5.0",
      "_model_name": "DescriptionStyleModel",
      "_view_count": null,
      "_view_module": "@jupyter-widgets/base",
      "_view_module_version": "1.2.0",
      "_view_name": "StyleView",
      "description_width": ""
     }
    },
    "e52dffb1dbc5458cbcd12c2f29056e2e": {
     "model_module": "@jupyter-widgets/controls",
     "model_name": "DescriptionStyleModel",
     "state": {
      "_model_module": "@jupyter-widgets/controls",
      "_model_module_version": "1.5.0",
      "_model_name": "DescriptionStyleModel",
      "_view_count": null,
      "_view_module": "@jupyter-widgets/base",
      "_view_module_version": "1.2.0",
      "_view_name": "StyleView",
      "description_width": ""
     }
    },
    "e55377862768425ba5d013af01fee05f": {
     "model_module": "@jupyter-widgets/base",
     "model_name": "LayoutModel",
     "state": {
      "_model_module": "@jupyter-widgets/base",
      "_model_module_version": "1.2.0",
      "_model_name": "LayoutModel",
      "_view_count": null,
      "_view_module": "@jupyter-widgets/base",
      "_view_module_version": "1.2.0",
      "_view_name": "LayoutView",
      "align_content": null,
      "align_items": null,
      "align_self": null,
      "border": null,
      "bottom": null,
      "display": null,
      "flex": null,
      "flex_flow": null,
      "grid_area": null,
      "grid_auto_columns": null,
      "grid_auto_flow": null,
      "grid_auto_rows": null,
      "grid_column": null,
      "grid_gap": null,
      "grid_row": null,
      "grid_template_areas": null,
      "grid_template_columns": null,
      "grid_template_rows": null,
      "height": null,
      "justify_content": null,
      "justify_items": null,
      "left": null,
      "margin": null,
      "max_height": null,
      "max_width": null,
      "min_height": null,
      "min_width": null,
      "object_fit": null,
      "object_position": null,
      "order": null,
      "overflow": null,
      "overflow_x": null,
      "overflow_y": null,
      "padding": null,
      "right": null,
      "top": null,
      "visibility": null,
      "width": null
     }
    },
    "e85892293d9841b9a601f92f9cd39c8e": {
     "model_module": "@jupyter-widgets/base",
     "model_name": "LayoutModel",
     "state": {
      "_model_module": "@jupyter-widgets/base",
      "_model_module_version": "1.2.0",
      "_model_name": "LayoutModel",
      "_view_count": null,
      "_view_module": "@jupyter-widgets/base",
      "_view_module_version": "1.2.0",
      "_view_name": "LayoutView",
      "align_content": null,
      "align_items": null,
      "align_self": null,
      "border": null,
      "bottom": null,
      "display": null,
      "flex": null,
      "flex_flow": null,
      "grid_area": null,
      "grid_auto_columns": null,
      "grid_auto_flow": null,
      "grid_auto_rows": null,
      "grid_column": null,
      "grid_gap": null,
      "grid_row": null,
      "grid_template_areas": null,
      "grid_template_columns": null,
      "grid_template_rows": null,
      "height": null,
      "justify_content": null,
      "justify_items": null,
      "left": null,
      "margin": null,
      "max_height": null,
      "max_width": null,
      "min_height": null,
      "min_width": null,
      "object_fit": null,
      "object_position": null,
      "order": null,
      "overflow": null,
      "overflow_x": null,
      "overflow_y": null,
      "padding": null,
      "right": null,
      "top": null,
      "visibility": null,
      "width": null
     }
    },
    "e97fe6d5cf804cacbdc7fec315161397": {
     "model_module": "@jupyter-widgets/controls",
     "model_name": "ProgressStyleModel",
     "state": {
      "_model_module": "@jupyter-widgets/controls",
      "_model_module_version": "1.5.0",
      "_model_name": "ProgressStyleModel",
      "_view_count": null,
      "_view_module": "@jupyter-widgets/base",
      "_view_module_version": "1.2.0",
      "_view_name": "StyleView",
      "bar_color": null,
      "description_width": ""
     }
    },
    "ed991c128963437a9ddc5c1ebe574976": {
     "model_module": "@jupyter-widgets/controls",
     "model_name": "IntProgressModel",
     "state": {
      "_dom_classes": [],
      "_model_module": "@jupyter-widgets/controls",
      "_model_module_version": "1.5.0",
      "_model_name": "IntProgressModel",
      "_view_count": null,
      "_view_module": "@jupyter-widgets/controls",
      "_view_module_version": "1.5.0",
      "_view_name": "ProgressView",
      "bar_style": "",
      "description": "Processing: ",
      "description_tooltip": null,
      "layout": "IPY_MODEL_613d1932db8d46f4970e1d28b8e4c28e",
      "max": 5,
      "min": 0,
      "orientation": "horizontal",
      "style": "IPY_MODEL_7f2e262cf97f4617937ae46d4be4caa1",
      "value": 5
     }
    },
    "ee237c70930c4d089c073e64f6e9c86a": {
     "model_module": "@jupyter-widgets/base",
     "model_name": "LayoutModel",
     "state": {
      "_model_module": "@jupyter-widgets/base",
      "_model_module_version": "1.2.0",
      "_model_name": "LayoutModel",
      "_view_count": null,
      "_view_module": "@jupyter-widgets/base",
      "_view_module_version": "1.2.0",
      "_view_name": "LayoutView",
      "align_content": null,
      "align_items": null,
      "align_self": null,
      "border": null,
      "bottom": null,
      "display": null,
      "flex": null,
      "flex_flow": null,
      "grid_area": null,
      "grid_auto_columns": null,
      "grid_auto_flow": null,
      "grid_auto_rows": null,
      "grid_column": null,
      "grid_gap": null,
      "grid_row": null,
      "grid_template_areas": null,
      "grid_template_columns": null,
      "grid_template_rows": null,
      "height": null,
      "justify_content": null,
      "justify_items": null,
      "left": null,
      "margin": null,
      "max_height": null,
      "max_width": null,
      "min_height": null,
      "min_width": null,
      "object_fit": null,
      "object_position": null,
      "order": null,
      "overflow": null,
      "overflow_x": null,
      "overflow_y": null,
      "padding": null,
      "right": null,
      "top": null,
      "visibility": null,
      "width": null
     }
    },
    "ee6bb9da5a374f33a6ba675caa1358fd": {
     "model_module": "@jupyter-widgets/controls",
     "model_name": "ProgressStyleModel",
     "state": {
      "_model_module": "@jupyter-widgets/controls",
      "_model_module_version": "1.5.0",
      "_model_name": "ProgressStyleModel",
      "_view_count": null,
      "_view_module": "@jupyter-widgets/base",
      "_view_module_version": "1.2.0",
      "_view_name": "StyleView",
      "bar_color": null,
      "description_width": ""
     }
    },
    "f039c94289084b638fd359c9ab259bdf": {
     "model_module": "@jupyter-widgets/controls",
     "model_name": "ProgressStyleModel",
     "state": {
      "_model_module": "@jupyter-widgets/controls",
      "_model_module_version": "1.5.0",
      "_model_name": "ProgressStyleModel",
      "_view_count": null,
      "_view_module": "@jupyter-widgets/base",
      "_view_module_version": "1.2.0",
      "_view_name": "StyleView",
      "bar_color": null,
      "description_width": ""
     }
    },
    "f10aa559eee04ae8acd5d299cbe4663b": {
     "model_module": "@jupyter-widgets/controls",
     "model_name": "DescriptionStyleModel",
     "state": {
      "_model_module": "@jupyter-widgets/controls",
      "_model_module_version": "1.5.0",
      "_model_name": "DescriptionStyleModel",
      "_view_count": null,
      "_view_module": "@jupyter-widgets/base",
      "_view_module_version": "1.2.0",
      "_view_name": "StyleView",
      "description_width": ""
     }
    },
    "f2fedc426288429695ab8f9ff6a9f19c": {
     "model_module": "@jupyter-widgets/controls",
     "model_name": "HTMLModel",
     "state": {
      "_dom_classes": [],
      "_model_module": "@jupyter-widgets/controls",
      "_model_module_version": "1.5.0",
      "_model_name": "HTMLModel",
      "_view_count": null,
      "_view_module": "@jupyter-widgets/controls",
      "_view_module_version": "1.5.0",
      "_view_name": "HTMLView",
      "description": "",
      "description_tooltip": null,
      "layout": "IPY_MODEL_53692a5984494fce870daec336f4359f",
      "placeholder": "​",
      "style": "IPY_MODEL_c7b4977ba8524e1284898ea99263d608",
      "value": "Generate report structure: 100%"
     }
    },
    "f6f5f49f7dac40e3a625b7dd8edd40c9": {
     "model_module": "@jupyter-widgets/controls",
     "model_name": "HTMLModel",
     "state": {
      "_dom_classes": [],
      "_model_module": "@jupyter-widgets/controls",
      "_model_module_version": "1.5.0",
      "_model_name": "HTMLModel",
      "_view_count": null,
      "_view_module": "@jupyter-widgets/controls",
      "_view_module_version": "1.5.0",
      "_view_name": "HTMLView",
      "description": "",
      "description_tooltip": null,
      "layout": "IPY_MODEL_330469ac2f88487495d4c20ae95db43b",
      "placeholder": "​",
      "style": "IPY_MODEL_a2ae63451ace43bda935cb8334c27f1b",
      "value": " 32/32 [00:58&lt;00:00,  1.84s/it, Completed]"
     }
    },
    "f7115142e00841bf966b5f8256d6789d": {
     "model_module": "@jupyter-widgets/controls",
     "model_name": "ProgressStyleModel",
     "state": {
      "_model_module": "@jupyter-widgets/controls",
      "_model_module_version": "1.5.0",
      "_model_name": "ProgressStyleModel",
      "_view_count": null,
      "_view_module": "@jupyter-widgets/base",
      "_view_module_version": "1.2.0",
      "_view_name": "StyleView",
      "bar_color": null,
      "description_width": ""
     }
    },
    "f721df78adc74f3a86a334291dbb464e": {
     "model_module": "@jupyter-widgets/base",
     "model_name": "LayoutModel",
     "state": {
      "_model_module": "@jupyter-widgets/base",
      "_model_module_version": "1.2.0",
      "_model_name": "LayoutModel",
      "_view_count": null,
      "_view_module": "@jupyter-widgets/base",
      "_view_module_version": "1.2.0",
      "_view_name": "LayoutView",
      "align_content": null,
      "align_items": null,
      "align_self": null,
      "border": null,
      "bottom": null,
      "display": null,
      "flex": null,
      "flex_flow": null,
      "grid_area": null,
      "grid_auto_columns": null,
      "grid_auto_flow": null,
      "grid_auto_rows": null,
      "grid_column": null,
      "grid_gap": null,
      "grid_row": null,
      "grid_template_areas": null,
      "grid_template_columns": null,
      "grid_template_rows": null,
      "height": null,
      "justify_content": null,
      "justify_items": null,
      "left": null,
      "margin": null,
      "max_height": null,
      "max_width": null,
      "min_height": null,
      "min_width": null,
      "object_fit": null,
      "object_position": null,
      "order": null,
      "overflow": null,
      "overflow_x": null,
      "overflow_y": null,
      "padding": null,
      "right": null,
      "top": null,
      "visibility": null,
      "width": null
     }
    },
    "f96550e9a8944c61aca00c009073251a": {
     "model_module": "@jupyter-widgets/controls",
     "model_name": "HBoxModel",
     "state": {
      "_dom_classes": [],
      "_model_module": "@jupyter-widgets/controls",
      "_model_module_version": "1.5.0",
      "_model_name": "HBoxModel",
      "_view_count": null,
      "_view_module": "@jupyter-widgets/controls",
      "_view_module_version": "1.5.0",
      "_view_name": "HBoxView",
      "box_style": "",
      "children": [
       "IPY_MODEL_b0537ebe22f548cd8d7412117f4ccfdf",
       "IPY_MODEL_b6b45dbd4c1546aea0ffc9ec5a116b1d",
       "IPY_MODEL_498228514f954fd49c64c208b8b0874f"
      ],
      "layout": "IPY_MODEL_0900de9931334fcb8cd5b83440be01a0"
     }
    },
    "f9e47031514d491ab560c03d88108806": {
     "model_module": "@jupyter-widgets/base",
     "model_name": "LayoutModel",
     "state": {
      "_model_module": "@jupyter-widgets/base",
      "_model_module_version": "1.2.0",
      "_model_name": "LayoutModel",
      "_view_count": null,
      "_view_module": "@jupyter-widgets/base",
      "_view_module_version": "1.2.0",
      "_view_name": "LayoutView",
      "align_content": null,
      "align_items": null,
      "align_self": null,
      "border": null,
      "bottom": null,
      "display": null,
      "flex": null,
      "flex_flow": null,
      "grid_area": null,
      "grid_auto_columns": null,
      "grid_auto_flow": null,
      "grid_auto_rows": null,
      "grid_column": null,
      "grid_gap": null,
      "grid_row": null,
      "grid_template_areas": null,
      "grid_template_columns": null,
      "grid_template_rows": null,
      "height": null,
      "justify_content": null,
      "justify_items": null,
      "left": null,
      "margin": null,
      "max_height": null,
      "max_width": null,
      "min_height": null,
      "min_width": null,
      "object_fit": null,
      "object_position": null,
      "order": null,
      "overflow": null,
      "overflow_x": null,
      "overflow_y": null,
      "padding": null,
      "right": null,
      "top": null,
      "visibility": null,
      "width": null
     }
    },
    "fba69b85885b457fa44efc713674521c": {
     "model_module": "@jupyter-widgets/controls",
     "model_name": "DescriptionStyleModel",
     "state": {
      "_model_module": "@jupyter-widgets/controls",
      "_model_module_version": "1.5.0",
      "_model_name": "DescriptionStyleModel",
      "_view_count": null,
      "_view_module": "@jupyter-widgets/base",
      "_view_module_version": "1.2.0",
      "_view_name": "StyleView",
      "description_width": ""
     }
    },
    "fd6aee13764b4accb62eef384665b2af": {
     "model_module": "@jupyter-widgets/controls",
     "model_name": "ProgressStyleModel",
     "state": {
      "_model_module": "@jupyter-widgets/controls",
      "_model_module_version": "1.5.0",
      "_model_name": "ProgressStyleModel",
      "_view_count": null,
      "_view_module": "@jupyter-widgets/base",
      "_view_module_version": "1.2.0",
      "_view_name": "StyleView",
      "bar_color": null,
      "description_width": ""
     }
    },
    "ff8d7c3b5f0e46a599b540d53e08c0d4": {
     "model_module": "@jupyter-widgets/base",
     "model_name": "LayoutModel",
     "state": {
      "_model_module": "@jupyter-widgets/base",
      "_model_module_version": "1.2.0",
      "_model_name": "LayoutModel",
      "_view_count": null,
      "_view_module": "@jupyter-widgets/base",
      "_view_module_version": "1.2.0",
      "_view_name": "LayoutView",
      "align_content": null,
      "align_items": null,
      "align_self": null,
      "border": null,
      "bottom": null,
      "display": null,
      "flex": null,
      "flex_flow": null,
      "grid_area": null,
      "grid_auto_columns": null,
      "grid_auto_flow": null,
      "grid_auto_rows": null,
      "grid_column": null,
      "grid_gap": null,
      "grid_row": null,
      "grid_template_areas": null,
      "grid_template_columns": null,
      "grid_template_rows": null,
      "height": null,
      "justify_content": null,
      "justify_items": null,
      "left": null,
      "margin": null,
      "max_height": null,
      "max_width": null,
      "min_height": null,
      "min_width": null,
      "object_fit": null,
      "object_position": null,
      "order": null,
      "overflow": null,
      "overflow_x": null,
      "overflow_y": null,
      "padding": null,
      "right": null,
      "top": null,
      "visibility": null,
      "width": null
     }
    }
   }
  }
 },
 "nbformat": 4,
 "nbformat_minor": 1
}
