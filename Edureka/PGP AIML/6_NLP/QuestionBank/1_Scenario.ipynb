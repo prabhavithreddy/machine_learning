{
 "cells": [
  {
   "cell_type": "code",
   "execution_count": 1,
   "id": "a9a3d2ff",
   "metadata": {},
   "outputs": [],
   "source": [
    "import pandas as pd\n",
    "import nltk"
   ]
  },
  {
   "cell_type": "code",
   "execution_count": 12,
   "id": "c0b4774a",
   "metadata": {},
   "outputs": [
    {
     "data": {
      "text/html": [
       "<div>\n",
       "<style scoped>\n",
       "    .dataframe tbody tr th:only-of-type {\n",
       "        vertical-align: middle;\n",
       "    }\n",
       "\n",
       "    .dataframe tbody tr th {\n",
       "        vertical-align: top;\n",
       "    }\n",
       "\n",
       "    .dataframe thead th {\n",
       "        text-align: right;\n",
       "    }\n",
       "</style>\n",
       "<table border=\"1\" class=\"dataframe\">\n",
       "  <thead>\n",
       "    <tr style=\"text-align: right;\">\n",
       "      <th></th>\n",
       "      <th>Date</th>\n",
       "      <th>Time</th>\n",
       "      <th>Tweet_Text</th>\n",
       "      <th>Type</th>\n",
       "      <th>Media_Type</th>\n",
       "      <th>Hashtags</th>\n",
       "      <th>Tweet_Id</th>\n",
       "      <th>Tweet_Url</th>\n",
       "      <th>twt_favourites_IS_THIS_LIKE_QUESTION_MARK</th>\n",
       "      <th>Retweets</th>\n",
       "      <th>Unnamed: 10</th>\n",
       "      <th>Unnamed: 11</th>\n",
       "    </tr>\n",
       "  </thead>\n",
       "  <tbody>\n",
       "    <tr>\n",
       "      <th>0</th>\n",
       "      <td>2011-11-16</td>\n",
       "      <td>15:26:37</td>\n",
       "      <td>Today we express our deepest gratitude to all ...</td>\n",
       "      <td>text</td>\n",
       "      <td>photo</td>\n",
       "      <td>ThankAVet</td>\n",
       "      <td>7.970000e+17</td>\n",
       "      <td>https://twitter.com/realDonaldTrump/status/797...</td>\n",
       "      <td>127213</td>\n",
       "      <td>41112</td>\n",
       "      <td>NaN</td>\n",
       "      <td>NaN</td>\n",
       "    </tr>\n",
       "    <tr>\n",
       "      <th>1</th>\n",
       "      <td>2011-11-16</td>\n",
       "      <td>13:33:35</td>\n",
       "      <td>Busy day planned in New York. Will soon be mak...</td>\n",
       "      <td>text</td>\n",
       "      <td>NaN</td>\n",
       "      <td>NaN</td>\n",
       "      <td>7.970000e+17</td>\n",
       "      <td>https://twitter.com/realDonaldTrump/status/797...</td>\n",
       "      <td>141527</td>\n",
       "      <td>28654</td>\n",
       "      <td>NaN</td>\n",
       "      <td>NaN</td>\n",
       "    </tr>\n",
       "    <tr>\n",
       "      <th>2</th>\n",
       "      <td>2011-11-16</td>\n",
       "      <td>11:14:20</td>\n",
       "      <td>Love the fact that the small groups of protest...</td>\n",
       "      <td>text</td>\n",
       "      <td>NaN</td>\n",
       "      <td>NaN</td>\n",
       "      <td>7.970000e+17</td>\n",
       "      <td>https://twitter.com/realDonaldTrump/status/797...</td>\n",
       "      <td>183729</td>\n",
       "      <td>50039</td>\n",
       "      <td>NaN</td>\n",
       "      <td>NaN</td>\n",
       "    </tr>\n",
       "    <tr>\n",
       "      <th>3</th>\n",
       "      <td>2011-11-16</td>\n",
       "      <td>2:19:44</td>\n",
       "      <td>Just had a very open and successful presidenti...</td>\n",
       "      <td>text</td>\n",
       "      <td>NaN</td>\n",
       "      <td>NaN</td>\n",
       "      <td>7.970000e+17</td>\n",
       "      <td>https://twitter.com/realDonaldTrump/status/796...</td>\n",
       "      <td>214001</td>\n",
       "      <td>67010</td>\n",
       "      <td>NaN</td>\n",
       "      <td>NaN</td>\n",
       "    </tr>\n",
       "    <tr>\n",
       "      <th>4</th>\n",
       "      <td>2011-11-16</td>\n",
       "      <td>2:10:46</td>\n",
       "      <td>A fantastic day in D.C. Met with President Oba...</td>\n",
       "      <td>text</td>\n",
       "      <td>NaN</td>\n",
       "      <td>NaN</td>\n",
       "      <td>7.970000e+17</td>\n",
       "      <td>https://twitter.com/realDonaldTrump/status/796...</td>\n",
       "      <td>178499</td>\n",
       "      <td>36688</td>\n",
       "      <td>NaN</td>\n",
       "      <td>NaN</td>\n",
       "    </tr>\n",
       "  </tbody>\n",
       "</table>\n",
       "</div>"
      ],
      "text/plain": [
       "        Date      Time                                         Tweet_Text  \\\n",
       "0 2011-11-16  15:26:37  Today we express our deepest gratitude to all ...   \n",
       "1 2011-11-16  13:33:35  Busy day planned in New York. Will soon be mak...   \n",
       "2 2011-11-16  11:14:20  Love the fact that the small groups of protest...   \n",
       "3 2011-11-16   2:19:44  Just had a very open and successful presidenti...   \n",
       "4 2011-11-16   2:10:46  A fantastic day in D.C. Met with President Oba...   \n",
       "\n",
       "   Type Media_Type   Hashtags      Tweet_Id  \\\n",
       "0  text      photo  ThankAVet  7.970000e+17   \n",
       "1  text        NaN        NaN  7.970000e+17   \n",
       "2  text        NaN        NaN  7.970000e+17   \n",
       "3  text        NaN        NaN  7.970000e+17   \n",
       "4  text        NaN        NaN  7.970000e+17   \n",
       "\n",
       "                                           Tweet_Url  \\\n",
       "0  https://twitter.com/realDonaldTrump/status/797...   \n",
       "1  https://twitter.com/realDonaldTrump/status/797...   \n",
       "2  https://twitter.com/realDonaldTrump/status/797...   \n",
       "3  https://twitter.com/realDonaldTrump/status/796...   \n",
       "4  https://twitter.com/realDonaldTrump/status/796...   \n",
       "\n",
       "   twt_favourites_IS_THIS_LIKE_QUESTION_MARK  Retweets  Unnamed: 10  \\\n",
       "0                                     127213     41112          NaN   \n",
       "1                                     141527     28654          NaN   \n",
       "2                                     183729     50039          NaN   \n",
       "3                                     214001     67010          NaN   \n",
       "4                                     178499     36688          NaN   \n",
       "\n",
       "   Unnamed: 11  \n",
       "0          NaN  \n",
       "1          NaN  \n",
       "2          NaN  \n",
       "3          NaN  \n",
       "4          NaN  "
      ]
     },
     "execution_count": 12,
     "metadata": {},
     "output_type": "execute_result"
    }
   ],
   "source": [
    "df = pd.read_csv('Donald-Tweets!.csv', parse_dates=['Date'])\n",
    "df.head()"
   ]
  },
  {
   "cell_type": "code",
   "execution_count": 13,
   "id": "838c147a",
   "metadata": {},
   "outputs": [
    {
     "name": "stdout",
     "output_type": "stream",
     "text": [
      "<class 'pandas.core.frame.DataFrame'>\n",
      "RangeIndex: 7375 entries, 0 to 7374\n",
      "Data columns (total 12 columns):\n",
      " #   Column                                     Non-Null Count  Dtype         \n",
      "---  ------                                     --------------  -----         \n",
      " 0   Date                                       7375 non-null   datetime64[ns]\n",
      " 1   Time                                       7375 non-null   object        \n",
      " 2   Tweet_Text                                 7375 non-null   object        \n",
      " 3   Type                                       7375 non-null   object        \n",
      " 4   Media_Type                                 1225 non-null   object        \n",
      " 5   Hashtags                                   2031 non-null   object        \n",
      " 6   Tweet_Id                                   7375 non-null   float64       \n",
      " 7   Tweet_Url                                  7375 non-null   object        \n",
      " 8   twt_favourites_IS_THIS_LIKE_QUESTION_MARK  7375 non-null   int64         \n",
      " 9   Retweets                                   7375 non-null   int64         \n",
      " 10  Unnamed: 10                                26 non-null     float64       \n",
      " 11  Unnamed: 11                                13 non-null     float64       \n",
      "dtypes: datetime64[ns](1), float64(3), int64(2), object(6)\n",
      "memory usage: 691.5+ KB\n"
     ]
    }
   ],
   "source": [
    "df.info()"
   ]
  },
  {
   "cell_type": "code",
   "execution_count": null,
   "id": "06709ea4",
   "metadata": {},
   "outputs": [],
   "source": [
    "# import the data and cleaning is priority"
   ]
  },
  {
   "cell_type": "code",
   "execution_count": 16,
   "id": "467cbf7b",
   "metadata": {},
   "outputs": [
    {
     "data": {
      "text/html": [
       "<div>\n",
       "<style scoped>\n",
       "    .dataframe tbody tr th:only-of-type {\n",
       "        vertical-align: middle;\n",
       "    }\n",
       "\n",
       "    .dataframe tbody tr th {\n",
       "        vertical-align: top;\n",
       "    }\n",
       "\n",
       "    .dataframe thead th {\n",
       "        text-align: right;\n",
       "    }\n",
       "</style>\n",
       "<table border=\"1\" class=\"dataframe\">\n",
       "  <thead>\n",
       "    <tr style=\"text-align: right;\">\n",
       "      <th></th>\n",
       "      <th>Date</th>\n",
       "      <th>Time</th>\n",
       "      <th>Tweet_Text</th>\n",
       "    </tr>\n",
       "  </thead>\n",
       "  <tbody>\n",
       "    <tr>\n",
       "      <th>0</th>\n",
       "      <td>2011-11-16</td>\n",
       "      <td>15:26:37</td>\n",
       "      <td>Today we express our deepest gratitude to all ...</td>\n",
       "    </tr>\n",
       "    <tr>\n",
       "      <th>1</th>\n",
       "      <td>2011-11-16</td>\n",
       "      <td>13:33:35</td>\n",
       "      <td>Busy day planned in New York. Will soon be mak...</td>\n",
       "    </tr>\n",
       "    <tr>\n",
       "      <th>2</th>\n",
       "      <td>2011-11-16</td>\n",
       "      <td>11:14:20</td>\n",
       "      <td>Love the fact that the small groups of protest...</td>\n",
       "    </tr>\n",
       "    <tr>\n",
       "      <th>3</th>\n",
       "      <td>2011-11-16</td>\n",
       "      <td>2:19:44</td>\n",
       "      <td>Just had a very open and successful presidenti...</td>\n",
       "    </tr>\n",
       "    <tr>\n",
       "      <th>4</th>\n",
       "      <td>2011-11-16</td>\n",
       "      <td>2:10:46</td>\n",
       "      <td>A fantastic day in D.C. Met with President Oba...</td>\n",
       "    </tr>\n",
       "  </tbody>\n",
       "</table>\n",
       "</div>"
      ],
      "text/plain": [
       "        Date      Time                                         Tweet_Text\n",
       "0 2011-11-16  15:26:37  Today we express our deepest gratitude to all ...\n",
       "1 2011-11-16  13:33:35  Busy day planned in New York. Will soon be mak...\n",
       "2 2011-11-16  11:14:20  Love the fact that the small groups of protest...\n",
       "3 2011-11-16   2:19:44  Just had a very open and successful presidenti...\n",
       "4 2011-11-16   2:10:46  A fantastic day in D.C. Met with President Oba..."
      ]
     },
     "execution_count": 16,
     "metadata": {},
     "output_type": "execute_result"
    }
   ],
   "source": [
    "df = df[['Date', 'Time', 'Tweet_Text']]\n",
    "df.head()"
   ]
  },
  {
   "cell_type": "code",
   "execution_count": 18,
   "id": "8ee07bc8",
   "metadata": {},
   "outputs": [
    {
     "data": {
      "text/plain": [
       "235"
      ]
     },
     "execution_count": 18,
     "metadata": {},
     "output_type": "execute_result"
    }
   ],
   "source": [
    "# Find out how often did Trump Tweet in 2017 - Beginner\n",
    "(df['Date'].dt.year == 2017).sum()"
   ]
  },
  {
   "cell_type": "code",
   "execution_count": 32,
   "id": "88207592",
   "metadata": {},
   "outputs": [
    {
     "data": {
      "text/html": [
       "<div>\n",
       "<style scoped>\n",
       "    .dataframe tbody tr th:only-of-type {\n",
       "        vertical-align: middle;\n",
       "    }\n",
       "\n",
       "    .dataframe tbody tr th {\n",
       "        vertical-align: top;\n",
       "    }\n",
       "\n",
       "    .dataframe thead th {\n",
       "        text-align: right;\n",
       "    }\n",
       "</style>\n",
       "<table border=\"1\" class=\"dataframe\">\n",
       "  <thead>\n",
       "    <tr style=\"text-align: right;\">\n",
       "      <th></th>\n",
       "      <th>Date</th>\n",
       "      <th>Time</th>\n",
       "      <th>Tweet_Text</th>\n",
       "      <th>Year</th>\n",
       "      <th>Month</th>\n",
       "      <th>Day</th>\n",
       "    </tr>\n",
       "  </thead>\n",
       "  <tbody>\n",
       "    <tr>\n",
       "      <th>0</th>\n",
       "      <td>2011-11-16</td>\n",
       "      <td>15:26:37</td>\n",
       "      <td>Today we express our deepest gratitude to all ...</td>\n",
       "      <td>2011</td>\n",
       "      <td>11</td>\n",
       "      <td>16</td>\n",
       "    </tr>\n",
       "    <tr>\n",
       "      <th>1</th>\n",
       "      <td>2011-11-16</td>\n",
       "      <td>13:33:35</td>\n",
       "      <td>Busy day planned in New York. Will soon be mak...</td>\n",
       "      <td>2011</td>\n",
       "      <td>11</td>\n",
       "      <td>16</td>\n",
       "    </tr>\n",
       "    <tr>\n",
       "      <th>2</th>\n",
       "      <td>2011-11-16</td>\n",
       "      <td>11:14:20</td>\n",
       "      <td>Love the fact that the small groups of protest...</td>\n",
       "      <td>2011</td>\n",
       "      <td>11</td>\n",
       "      <td>16</td>\n",
       "    </tr>\n",
       "    <tr>\n",
       "      <th>3</th>\n",
       "      <td>2011-11-16</td>\n",
       "      <td>2:19:44</td>\n",
       "      <td>Just had a very open and successful presidenti...</td>\n",
       "      <td>2011</td>\n",
       "      <td>11</td>\n",
       "      <td>16</td>\n",
       "    </tr>\n",
       "    <tr>\n",
       "      <th>4</th>\n",
       "      <td>2011-11-16</td>\n",
       "      <td>2:10:46</td>\n",
       "      <td>A fantastic day in D.C. Met with President Oba...</td>\n",
       "      <td>2011</td>\n",
       "      <td>11</td>\n",
       "      <td>16</td>\n",
       "    </tr>\n",
       "  </tbody>\n",
       "</table>\n",
       "</div>"
      ],
      "text/plain": [
       "        Date      Time                                         Tweet_Text  \\\n",
       "0 2011-11-16  15:26:37  Today we express our deepest gratitude to all ...   \n",
       "1 2011-11-16  13:33:35  Busy day planned in New York. Will soon be mak...   \n",
       "2 2011-11-16  11:14:20  Love the fact that the small groups of protest...   \n",
       "3 2011-11-16   2:19:44  Just had a very open and successful presidenti...   \n",
       "4 2011-11-16   2:10:46  A fantastic day in D.C. Met with President Oba...   \n",
       "\n",
       "   Year  Month  Day  \n",
       "0  2011     11   16  \n",
       "1  2011     11   16  \n",
       "2  2011     11   16  \n",
       "3  2011     11   16  \n",
       "4  2011     11   16  "
      ]
     },
     "execution_count": 32,
     "metadata": {},
     "output_type": "execute_result"
    }
   ],
   "source": [
    "df['Year'] = df['Date'].dt.year\n",
    "df['Month'] = df['Date'].dt.month\n",
    "df['Day'] = df['Date'].dt.day\n",
    "df.head()"
   ]
  },
  {
   "cell_type": "code",
   "execution_count": 33,
   "id": "ead88764",
   "metadata": {},
   "outputs": [],
   "source": [
    "df.drop(columns=['Date'], inplace=True)"
   ]
  },
  {
   "cell_type": "code",
   "execution_count": 34,
   "id": "b4a8711d",
   "metadata": {},
   "outputs": [
    {
     "data": {
      "text/html": [
       "<div>\n",
       "<style scoped>\n",
       "    .dataframe tbody tr th:only-of-type {\n",
       "        vertical-align: middle;\n",
       "    }\n",
       "\n",
       "    .dataframe tbody tr th {\n",
       "        vertical-align: top;\n",
       "    }\n",
       "\n",
       "    .dataframe thead th {\n",
       "        text-align: right;\n",
       "    }\n",
       "</style>\n",
       "<table border=\"1\" class=\"dataframe\">\n",
       "  <thead>\n",
       "    <tr style=\"text-align: right;\">\n",
       "      <th></th>\n",
       "      <th>Time</th>\n",
       "      <th>Tweet_Text</th>\n",
       "      <th>Year</th>\n",
       "      <th>Month</th>\n",
       "      <th>Day</th>\n",
       "    </tr>\n",
       "  </thead>\n",
       "  <tbody>\n",
       "    <tr>\n",
       "      <th>0</th>\n",
       "      <td>15:26:37</td>\n",
       "      <td>Today we express our deepest gratitude to all ...</td>\n",
       "      <td>2011</td>\n",
       "      <td>11</td>\n",
       "      <td>16</td>\n",
       "    </tr>\n",
       "    <tr>\n",
       "      <th>1</th>\n",
       "      <td>13:33:35</td>\n",
       "      <td>Busy day planned in New York. Will soon be mak...</td>\n",
       "      <td>2011</td>\n",
       "      <td>11</td>\n",
       "      <td>16</td>\n",
       "    </tr>\n",
       "    <tr>\n",
       "      <th>2</th>\n",
       "      <td>11:14:20</td>\n",
       "      <td>Love the fact that the small groups of protest...</td>\n",
       "      <td>2011</td>\n",
       "      <td>11</td>\n",
       "      <td>16</td>\n",
       "    </tr>\n",
       "    <tr>\n",
       "      <th>3</th>\n",
       "      <td>2:19:44</td>\n",
       "      <td>Just had a very open and successful presidenti...</td>\n",
       "      <td>2011</td>\n",
       "      <td>11</td>\n",
       "      <td>16</td>\n",
       "    </tr>\n",
       "    <tr>\n",
       "      <th>4</th>\n",
       "      <td>2:10:46</td>\n",
       "      <td>A fantastic day in D.C. Met with President Oba...</td>\n",
       "      <td>2011</td>\n",
       "      <td>11</td>\n",
       "      <td>16</td>\n",
       "    </tr>\n",
       "  </tbody>\n",
       "</table>\n",
       "</div>"
      ],
      "text/plain": [
       "       Time                                         Tweet_Text  Year  Month  \\\n",
       "0  15:26:37  Today we express our deepest gratitude to all ...  2011     11   \n",
       "1  13:33:35  Busy day planned in New York. Will soon be mak...  2011     11   \n",
       "2  11:14:20  Love the fact that the small groups of protest...  2011     11   \n",
       "3   2:19:44  Just had a very open and successful presidenti...  2011     11   \n",
       "4   2:10:46  A fantastic day in D.C. Met with President Oba...  2011     11   \n",
       "\n",
       "   Day  \n",
       "0   16  \n",
       "1   16  \n",
       "2   16  \n",
       "3   16  \n",
       "4   16  "
      ]
     },
     "execution_count": 34,
     "metadata": {},
     "output_type": "execute_result"
    }
   ],
   "source": [
    "df.head()"
   ]
  },
  {
   "cell_type": "code",
   "execution_count": 43,
   "id": "c5bf07f2",
   "metadata": {},
   "outputs": [
    {
     "data": {
      "text/plain": [
       "Year\n",
       "2001    201\n",
       "2002    226\n",
       "2003    266\n",
       "2004    214\n",
       "2005    231\n",
       "2006    266\n",
       "2007    282\n",
       "2008    227\n",
       "2009    182\n",
       "2010    258\n",
       "2011    183\n",
       "2012    208\n",
       "2013    209\n",
       "2014    214\n",
       "2015    191\n",
       "2016    263\n",
       "2017    235\n",
       "2018    261\n",
       "2019    199\n",
       "2020    295\n",
       "2021    336\n",
       "2022    262\n",
       "2023    235\n",
       "2024    251\n",
       "2025    278\n",
       "2026    248\n",
       "2027    259\n",
       "2028    277\n",
       "2029    260\n",
       "2030    203\n",
       "2031    155\n",
       "Name: Year, dtype: int64"
      ]
     },
     "execution_count": 43,
     "metadata": {},
     "output_type": "execute_result"
    }
   ],
   "source": [
    "df.groupby(['Year'])['Year'].count()"
   ]
  },
  {
   "cell_type": "code",
   "execution_count": 45,
   "id": "d455bd5a",
   "metadata": {},
   "outputs": [
    {
     "data": {
      "text/html": [
       "<div>\n",
       "<style scoped>\n",
       "    .dataframe tbody tr th:only-of-type {\n",
       "        vertical-align: middle;\n",
       "    }\n",
       "\n",
       "    .dataframe tbody tr th {\n",
       "        vertical-align: top;\n",
       "    }\n",
       "\n",
       "    .dataframe thead th {\n",
       "        text-align: right;\n",
       "    }\n",
       "</style>\n",
       "<table border=\"1\" class=\"dataframe\">\n",
       "  <thead>\n",
       "    <tr style=\"text-align: right;\">\n",
       "      <th></th>\n",
       "      <th>Time</th>\n",
       "      <th>Text</th>\n",
       "      <th>Year</th>\n",
       "      <th>Month</th>\n",
       "      <th>Day</th>\n",
       "    </tr>\n",
       "  </thead>\n",
       "  <tbody>\n",
       "    <tr>\n",
       "      <th>0</th>\n",
       "      <td>15:26:37</td>\n",
       "      <td>Today we express our deepest gratitude to all ...</td>\n",
       "      <td>2011</td>\n",
       "      <td>11</td>\n",
       "      <td>16</td>\n",
       "    </tr>\n",
       "    <tr>\n",
       "      <th>1</th>\n",
       "      <td>13:33:35</td>\n",
       "      <td>Busy day planned in New York. Will soon be mak...</td>\n",
       "      <td>2011</td>\n",
       "      <td>11</td>\n",
       "      <td>16</td>\n",
       "    </tr>\n",
       "    <tr>\n",
       "      <th>2</th>\n",
       "      <td>11:14:20</td>\n",
       "      <td>Love the fact that the small groups of protest...</td>\n",
       "      <td>2011</td>\n",
       "      <td>11</td>\n",
       "      <td>16</td>\n",
       "    </tr>\n",
       "    <tr>\n",
       "      <th>3</th>\n",
       "      <td>2:19:44</td>\n",
       "      <td>Just had a very open and successful presidenti...</td>\n",
       "      <td>2011</td>\n",
       "      <td>11</td>\n",
       "      <td>16</td>\n",
       "    </tr>\n",
       "    <tr>\n",
       "      <th>4</th>\n",
       "      <td>2:10:46</td>\n",
       "      <td>A fantastic day in D.C. Met with President Oba...</td>\n",
       "      <td>2011</td>\n",
       "      <td>11</td>\n",
       "      <td>16</td>\n",
       "    </tr>\n",
       "  </tbody>\n",
       "</table>\n",
       "</div>"
      ],
      "text/plain": [
       "       Time                                               Text  Year  Month  \\\n",
       "0  15:26:37  Today we express our deepest gratitude to all ...  2011     11   \n",
       "1  13:33:35  Busy day planned in New York. Will soon be mak...  2011     11   \n",
       "2  11:14:20  Love the fact that the small groups of protest...  2011     11   \n",
       "3   2:19:44  Just had a very open and successful presidenti...  2011     11   \n",
       "4   2:10:46  A fantastic day in D.C. Met with President Oba...  2011     11   \n",
       "\n",
       "   Day  \n",
       "0   16  \n",
       "1   16  \n",
       "2   16  \n",
       "3   16  \n",
       "4   16  "
      ]
     },
     "execution_count": 45,
     "metadata": {},
     "output_type": "execute_result"
    }
   ],
   "source": [
    "df.rename(columns={'Tweet_Text': 'Text'}, inplace=True)\n",
    "df.head()"
   ]
  },
  {
   "cell_type": "code",
   "execution_count": 46,
   "id": "c79f46a6",
   "metadata": {},
   "outputs": [
    {
     "data": {
      "text/plain": [
       "'Today we express our deepest gratitude to all those who have served in our armed forces. #ThankAVet https://t.co/wPk7QWpK8Z'"
      ]
     },
     "execution_count": 46,
     "metadata": {},
     "output_type": "execute_result"
    }
   ],
   "source": [
    "df['Text'][0]"
   ]
  },
  {
   "cell_type": "code",
   "execution_count": 48,
   "id": "f7652453",
   "metadata": {},
   "outputs": [],
   "source": [
    "# Clean the data (Use functions from python libraries such as re, string and NLTK to remove these unnecessary elements)\n",
    "# and store cleaned data as a separate column to the DataFrame"
   ]
  },
  {
   "cell_type": "code",
   "execution_count": 86,
   "id": "83dac295",
   "metadata": {},
   "outputs": [
    {
     "name": "stderr",
     "output_type": "stream",
     "text": [
      "[nltk_data] Downloading package punkt to\n",
      "[nltk_data]     C:\\Users\\vlekkala\\AppData\\Roaming\\nltk_data...\n",
      "[nltk_data]   Package punkt is already up-to-date!\n",
      "[nltk_data] Downloading package stopwords to\n",
      "[nltk_data]     C:\\Users\\vlekkala\\AppData\\Roaming\\nltk_data...\n",
      "[nltk_data]   Package stopwords is already up-to-date!\n",
      "[nltk_data] Downloading package wordnet to\n",
      "[nltk_data]     C:\\Users\\vlekkala\\AppData\\Roaming\\nltk_data...\n",
      "[nltk_data]   Package wordnet is already up-to-date!\n"
     ]
    }
   ],
   "source": [
    "from nltk.tokenize import TweetTokenizer\n",
    "from nltk.corpus import stopwords\n",
    "from nltk.stem.wordnet import WordNetLemmatizer\n",
    "import string\n",
    "nltk.download('punkt')\n",
    "nltk.download('stopwords')\n",
    "nltk.download('wordnet')\n",
    "\n",
    "lemma = WordNetLemmatizer()"
   ]
  },
  {
   "cell_type": "code",
   "execution_count": 87,
   "id": "6388f65e",
   "metadata": {},
   "outputs": [],
   "source": [
    "stop_words = stopwords.words('English')\n",
    "import re\n",
    "def clean_text(sentence):\n",
    "    tw = TweetTokenizer()\n",
    "    sentence = sentence.lower()\n",
    "    tokens = tw.tokenize(sentence)\n",
    "    final_tokens = [lemma.lemmatize(token) for token in tokens if token not in stop_words \n",
    "                    and token not in string.punctuation\n",
    "                   and re.match(r'^\\w+$', token)]\n",
    "    return ' '.join(final_tokens)"
   ]
  },
  {
   "cell_type": "code",
   "execution_count": 88,
   "id": "863dfbdf",
   "metadata": {},
   "outputs": [
    {
     "name": "stdout",
     "output_type": "stream",
     "text": [
      "Original Text\n",
      " Today we express our deepest gratitude to all those who have served in our armed forces. #ThankAVet https://t.co/wPk7QWpK8Z\n",
      "Cleaned Text\n",
      " today express deepest gratitude served armed force\n"
     ]
    }
   ],
   "source": [
    "print('Original Text\\n', df['Text'][0])\n",
    "print('Cleaned Text\\n', clean_text(df['Text'][0]))"
   ]
  },
  {
   "cell_type": "code",
   "execution_count": 84,
   "id": "80a81682",
   "metadata": {},
   "outputs": [
    {
     "data": {
      "text/html": [
       "<div>\n",
       "<style scoped>\n",
       "    .dataframe tbody tr th:only-of-type {\n",
       "        vertical-align: middle;\n",
       "    }\n",
       "\n",
       "    .dataframe tbody tr th {\n",
       "        vertical-align: top;\n",
       "    }\n",
       "\n",
       "    .dataframe thead th {\n",
       "        text-align: right;\n",
       "    }\n",
       "</style>\n",
       "<table border=\"1\" class=\"dataframe\">\n",
       "  <thead>\n",
       "    <tr style=\"text-align: right;\">\n",
       "      <th></th>\n",
       "      <th>Time</th>\n",
       "      <th>Text</th>\n",
       "      <th>Year</th>\n",
       "      <th>Month</th>\n",
       "      <th>Day</th>\n",
       "      <th>Cleaned_Text</th>\n",
       "    </tr>\n",
       "  </thead>\n",
       "  <tbody>\n",
       "    <tr>\n",
       "      <th>0</th>\n",
       "      <td>15:26:37</td>\n",
       "      <td>Today we express our deepest gratitude to all ...</td>\n",
       "      <td>2011</td>\n",
       "      <td>11</td>\n",
       "      <td>16</td>\n",
       "      <td>today express deepest gratitude served armed f...</td>\n",
       "    </tr>\n",
       "    <tr>\n",
       "      <th>1</th>\n",
       "      <td>13:33:35</td>\n",
       "      <td>Busy day planned in New York. Will soon be mak...</td>\n",
       "      <td>2011</td>\n",
       "      <td>11</td>\n",
       "      <td>16</td>\n",
       "      <td>busy day planned new york soon making importan...</td>\n",
       "    </tr>\n",
       "    <tr>\n",
       "      <th>2</th>\n",
       "      <td>11:14:20</td>\n",
       "      <td>Love the fact that the small groups of protest...</td>\n",
       "      <td>2011</td>\n",
       "      <td>11</td>\n",
       "      <td>16</td>\n",
       "      <td>love fact small groups protesters last night p...</td>\n",
       "    </tr>\n",
       "    <tr>\n",
       "      <th>3</th>\n",
       "      <td>2:19:44</td>\n",
       "      <td>Just had a very open and successful presidenti...</td>\n",
       "      <td>2011</td>\n",
       "      <td>11</td>\n",
       "      <td>16</td>\n",
       "      <td>open successful presidential election professi...</td>\n",
       "    </tr>\n",
       "    <tr>\n",
       "      <th>4</th>\n",
       "      <td>2:10:46</td>\n",
       "      <td>A fantastic day in D.C. Met with President Oba...</td>\n",
       "      <td>2011</td>\n",
       "      <td>11</td>\n",
       "      <td>16</td>\n",
       "      <td>fantastic day c met president obama first time...</td>\n",
       "    </tr>\n",
       "  </tbody>\n",
       "</table>\n",
       "</div>"
      ],
      "text/plain": [
       "       Time                                               Text  Year  Month  \\\n",
       "0  15:26:37  Today we express our deepest gratitude to all ...  2011     11   \n",
       "1  13:33:35  Busy day planned in New York. Will soon be mak...  2011     11   \n",
       "2  11:14:20  Love the fact that the small groups of protest...  2011     11   \n",
       "3   2:19:44  Just had a very open and successful presidenti...  2011     11   \n",
       "4   2:10:46  A fantastic day in D.C. Met with President Oba...  2011     11   \n",
       "\n",
       "   Day                                       Cleaned_Text  \n",
       "0   16  today express deepest gratitude served armed f...  \n",
       "1   16  busy day planned new york soon making importan...  \n",
       "2   16  love fact small groups protesters last night p...  \n",
       "3   16  open successful presidential election professi...  \n",
       "4   16  fantastic day c met president obama first time...  "
      ]
     },
     "execution_count": 84,
     "metadata": {},
     "output_type": "execute_result"
    }
   ],
   "source": [
    "df['Cleaned_Text'] = df['Text'].apply(clean_text)\n",
    "df.head()"
   ]
  },
  {
   "cell_type": "code",
   "execution_count": 85,
   "id": "4193dbcc",
   "metadata": {},
   "outputs": [],
   "source": [
    "# Process the data to remove elements which may cause issues in analysis and store processed data as a speparate column to the DataFrame"
   ]
  },
  {
   "cell_type": "code",
   "execution_count": 92,
   "id": "02b629f3",
   "metadata": {},
   "outputs": [],
   "source": [
    "# Used Tweek Tokenizer to remove elements"
   ]
  },
  {
   "cell_type": "code",
   "execution_count": 93,
   "id": "d98bce43",
   "metadata": {},
   "outputs": [],
   "source": [
    "# Apply Ngrams to processed data and print first 3 rows"
   ]
  },
  {
   "cell_type": "code",
   "execution_count": 96,
   "id": "54657b03",
   "metadata": {},
   "outputs": [
    {
     "data": {
      "text/plain": [
       "0    [(t, o, d, a, y,  , e, x), (o, d, a, y,  , e, ...\n",
       "1    [(b, u, s, y,  , d, a, y), (u, s, y,  , d, a, ...\n",
       "2    [(l, o, v, e,  , f, a, c), (o, v, e,  , f, a, ...\n",
       "Name: Cleaned_Text, dtype: object"
      ]
     },
     "execution_count": 96,
     "metadata": {},
     "output_type": "execute_result"
    }
   ],
   "source": [
    "df['Cleaned_Text'].apply(lambda s: list(nltk.ngrams(s, 8))).head(3)"
   ]
  },
  {
   "cell_type": "code",
   "execution_count": 101,
   "id": "bd465b32",
   "metadata": {},
   "outputs": [
    {
     "data": {
      "text/plain": [
       "[('today', 'express', 'deepest', 'gratitude'),\n",
       " ('express', 'deepest', 'gratitude', 'served'),\n",
       " ('deepest', 'gratitude', 'served', 'armed'),\n",
       " ('gratitude', 'served', 'armed', 'forces')]"
      ]
     },
     "execution_count": 101,
     "metadata": {},
     "output_type": "execute_result"
    }
   ],
   "source": [
    "list(nltk.ngrams(df['Cleaned_Text'][0].split(), 4))"
   ]
  },
  {
   "cell_type": "code",
   "execution_count": 102,
   "id": "a89e439d",
   "metadata": {},
   "outputs": [],
   "source": [
    "# Apply porter stemmer technique to processed data and store stemmer(porter) data as a separate column to the DataFrame"
   ]
  },
  {
   "cell_type": "code",
   "execution_count": 105,
   "id": "87507294",
   "metadata": {},
   "outputs": [
    {
     "data": {
      "text/html": [
       "<div>\n",
       "<style scoped>\n",
       "    .dataframe tbody tr th:only-of-type {\n",
       "        vertical-align: middle;\n",
       "    }\n",
       "\n",
       "    .dataframe tbody tr th {\n",
       "        vertical-align: top;\n",
       "    }\n",
       "\n",
       "    .dataframe thead th {\n",
       "        text-align: right;\n",
       "    }\n",
       "</style>\n",
       "<table border=\"1\" class=\"dataframe\">\n",
       "  <thead>\n",
       "    <tr style=\"text-align: right;\">\n",
       "      <th></th>\n",
       "      <th>Time</th>\n",
       "      <th>Text</th>\n",
       "      <th>Year</th>\n",
       "      <th>Month</th>\n",
       "      <th>Day</th>\n",
       "      <th>Cleaned_Text</th>\n",
       "      <th>Stemmed</th>\n",
       "    </tr>\n",
       "  </thead>\n",
       "  <tbody>\n",
       "    <tr>\n",
       "      <th>0</th>\n",
       "      <td>15:26:37</td>\n",
       "      <td>Today we express our deepest gratitude to all ...</td>\n",
       "      <td>2011</td>\n",
       "      <td>11</td>\n",
       "      <td>16</td>\n",
       "      <td>today express deepest gratitude served armed f...</td>\n",
       "      <td>today express deepest gratitud serv arm forc</td>\n",
       "    </tr>\n",
       "    <tr>\n",
       "      <th>1</th>\n",
       "      <td>13:33:35</td>\n",
       "      <td>Busy day planned in New York. Will soon be mak...</td>\n",
       "      <td>2011</td>\n",
       "      <td>11</td>\n",
       "      <td>16</td>\n",
       "      <td>busy day planned new york soon making importan...</td>\n",
       "      <td>busi day plan new york soon make import decis ...</td>\n",
       "    </tr>\n",
       "    <tr>\n",
       "      <th>2</th>\n",
       "      <td>11:14:20</td>\n",
       "      <td>Love the fact that the small groups of protest...</td>\n",
       "      <td>2011</td>\n",
       "      <td>11</td>\n",
       "      <td>16</td>\n",
       "      <td>love fact small groups protesters last night p...</td>\n",
       "      <td>love fact small group protest last night passi...</td>\n",
       "    </tr>\n",
       "    <tr>\n",
       "      <th>3</th>\n",
       "      <td>2:19:44</td>\n",
       "      <td>Just had a very open and successful presidenti...</td>\n",
       "      <td>2011</td>\n",
       "      <td>11</td>\n",
       "      <td>16</td>\n",
       "      <td>open successful presidential election professi...</td>\n",
       "      <td>open success presidenti elect profession prote...</td>\n",
       "    </tr>\n",
       "    <tr>\n",
       "      <th>4</th>\n",
       "      <td>2:10:46</td>\n",
       "      <td>A fantastic day in D.C. Met with President Oba...</td>\n",
       "      <td>2011</td>\n",
       "      <td>11</td>\n",
       "      <td>16</td>\n",
       "      <td>fantastic day c met president obama first time...</td>\n",
       "      <td>fantast day c met presid obama first time real...</td>\n",
       "    </tr>\n",
       "  </tbody>\n",
       "</table>\n",
       "</div>"
      ],
      "text/plain": [
       "       Time                                               Text  Year  Month  \\\n",
       "0  15:26:37  Today we express our deepest gratitude to all ...  2011     11   \n",
       "1  13:33:35  Busy day planned in New York. Will soon be mak...  2011     11   \n",
       "2  11:14:20  Love the fact that the small groups of protest...  2011     11   \n",
       "3   2:19:44  Just had a very open and successful presidenti...  2011     11   \n",
       "4   2:10:46  A fantastic day in D.C. Met with President Oba...  2011     11   \n",
       "\n",
       "   Day                                       Cleaned_Text  \\\n",
       "0   16  today express deepest gratitude served armed f...   \n",
       "1   16  busy day planned new york soon making importan...   \n",
       "2   16  love fact small groups protesters last night p...   \n",
       "3   16  open successful presidential election professi...   \n",
       "4   16  fantastic day c met president obama first time...   \n",
       "\n",
       "                                             Stemmed  \n",
       "0       today express deepest gratitud serv arm forc  \n",
       "1  busi day plan new york soon make import decis ...  \n",
       "2  love fact small group protest last night passi...  \n",
       "3  open success presidenti elect profession prote...  \n",
       "4  fantast day c met presid obama first time real...  "
      ]
     },
     "execution_count": 105,
     "metadata": {},
     "output_type": "execute_result"
    }
   ],
   "source": [
    "from nltk.stem import PorterStemmer\n",
    "ps = PorterStemmer()\n",
    "df['Stemmed'] = df['Cleaned_Text'].apply(lambda s: \" \".join([ps.stem(token) for token in s.split()]))\n",
    "df.head()"
   ]
  },
  {
   "cell_type": "code",
   "execution_count": 106,
   "id": "56f3a7da",
   "metadata": {},
   "outputs": [],
   "source": [
    "# Apply Lancaster stemmer technique to processed data and store stemmer(lancaster) data as a separate column to the Data Frame"
   ]
  },
  {
   "cell_type": "code",
   "execution_count": 107,
   "id": "cfa8c7cc",
   "metadata": {},
   "outputs": [
    {
     "data": {
      "text/html": [
       "<div>\n",
       "<style scoped>\n",
       "    .dataframe tbody tr th:only-of-type {\n",
       "        vertical-align: middle;\n",
       "    }\n",
       "\n",
       "    .dataframe tbody tr th {\n",
       "        vertical-align: top;\n",
       "    }\n",
       "\n",
       "    .dataframe thead th {\n",
       "        text-align: right;\n",
       "    }\n",
       "</style>\n",
       "<table border=\"1\" class=\"dataframe\">\n",
       "  <thead>\n",
       "    <tr style=\"text-align: right;\">\n",
       "      <th></th>\n",
       "      <th>Cleaned_Text</th>\n",
       "      <th>Stemmed</th>\n",
       "      <th>Lancaster</th>\n",
       "    </tr>\n",
       "  </thead>\n",
       "  <tbody>\n",
       "    <tr>\n",
       "      <th>0</th>\n",
       "      <td>today express deepest gratitude served armed f...</td>\n",
       "      <td>today express deepest gratitud serv arm forc</td>\n",
       "      <td>today express deepest gratitud serv arm forc</td>\n",
       "    </tr>\n",
       "    <tr>\n",
       "      <th>1</th>\n",
       "      <td>busy day planned new york soon making importan...</td>\n",
       "      <td>busi day plan new york soon make import decis ...</td>\n",
       "      <td>busy day plan new york soon mak import decid p...</td>\n",
       "    </tr>\n",
       "    <tr>\n",
       "      <th>2</th>\n",
       "      <td>love fact small groups protesters last night p...</td>\n",
       "      <td>love fact small group protest last night passi...</td>\n",
       "      <td>lov fact smal group protest last night pass gr...</td>\n",
       "    </tr>\n",
       "    <tr>\n",
       "      <th>3</th>\n",
       "      <td>open successful presidential election professi...</td>\n",
       "      <td>open success presidenti elect profession prote...</td>\n",
       "      <td>op success presid elect profess protest incit ...</td>\n",
       "    </tr>\n",
       "    <tr>\n",
       "      <th>4</th>\n",
       "      <td>fantastic day c met president obama first time...</td>\n",
       "      <td>fantast day c met presid obama first time real...</td>\n",
       "      <td>fantast day c met presid obam first tim real g...</td>\n",
       "    </tr>\n",
       "  </tbody>\n",
       "</table>\n",
       "</div>"
      ],
      "text/plain": [
       "                                        Cleaned_Text  \\\n",
       "0  today express deepest gratitude served armed f...   \n",
       "1  busy day planned new york soon making importan...   \n",
       "2  love fact small groups protesters last night p...   \n",
       "3  open successful presidential election professi...   \n",
       "4  fantastic day c met president obama first time...   \n",
       "\n",
       "                                             Stemmed  \\\n",
       "0       today express deepest gratitud serv arm forc   \n",
       "1  busi day plan new york soon make import decis ...   \n",
       "2  love fact small group protest last night passi...   \n",
       "3  open success presidenti elect profession prote...   \n",
       "4  fantast day c met presid obama first time real...   \n",
       "\n",
       "                                           Lancaster  \n",
       "0       today express deepest gratitud serv arm forc  \n",
       "1  busy day plan new york soon mak import decid p...  \n",
       "2  lov fact smal group protest last night pass gr...  \n",
       "3  op success presid elect profess protest incit ...  \n",
       "4  fantast day c met presid obam first tim real g...  "
      ]
     },
     "execution_count": 107,
     "metadata": {},
     "output_type": "execute_result"
    }
   ],
   "source": [
    "from nltk.stem import LancasterStemmer\n",
    "ls = LancasterStemmer()\n",
    "df['Lancaster'] = df['Cleaned_Text'].apply(lambda s: \" \".join([ls.stem(token) for token in s.split()]))\n",
    "df[['Cleaned_Text','Stemmed', 'Lancaster']].head()"
   ]
  },
  {
   "cell_type": "code",
   "execution_count": 108,
   "id": "4b96288f",
   "metadata": {},
   "outputs": [],
   "source": [
    "# Apply Snowball stemmer technique to processed data and store stemmer(snowball) data as a separate column to the DataFrame"
   ]
  },
  {
   "cell_type": "code",
   "execution_count": 113,
   "id": "232dbe7b",
   "metadata": {},
   "outputs": [
    {
     "data": {
      "text/html": [
       "<div>\n",
       "<style scoped>\n",
       "    .dataframe tbody tr th:only-of-type {\n",
       "        vertical-align: middle;\n",
       "    }\n",
       "\n",
       "    .dataframe tbody tr th {\n",
       "        vertical-align: top;\n",
       "    }\n",
       "\n",
       "    .dataframe thead th {\n",
       "        text-align: right;\n",
       "    }\n",
       "</style>\n",
       "<table border=\"1\" class=\"dataframe\">\n",
       "  <thead>\n",
       "    <tr style=\"text-align: right;\">\n",
       "      <th></th>\n",
       "      <th>Cleaned_Text</th>\n",
       "      <th>Stemmed</th>\n",
       "      <th>Lancaster</th>\n",
       "      <th>Snowball</th>\n",
       "    </tr>\n",
       "  </thead>\n",
       "  <tbody>\n",
       "    <tr>\n",
       "      <th>0</th>\n",
       "      <td>today express deepest gratitude served armed f...</td>\n",
       "      <td>today express deepest gratitud serv arm forc</td>\n",
       "      <td>today express deepest gratitud serv arm forc</td>\n",
       "      <td>today express deepest gratitud serv arm forc</td>\n",
       "    </tr>\n",
       "    <tr>\n",
       "      <th>1</th>\n",
       "      <td>busy day planned new york soon making importan...</td>\n",
       "      <td>busi day plan new york soon make import decis ...</td>\n",
       "      <td>busy day plan new york soon mak import decid p...</td>\n",
       "      <td>busi day plan new york soon make import decis ...</td>\n",
       "    </tr>\n",
       "    <tr>\n",
       "      <th>2</th>\n",
       "      <td>love fact small groups protesters last night p...</td>\n",
       "      <td>love fact small group protest last night passi...</td>\n",
       "      <td>lov fact smal group protest last night pass gr...</td>\n",
       "      <td>love fact small group protest last night passi...</td>\n",
       "    </tr>\n",
       "    <tr>\n",
       "      <th>3</th>\n",
       "      <td>open successful presidential election professi...</td>\n",
       "      <td>open success presidenti elect profession prote...</td>\n",
       "      <td>op success presid elect profess protest incit ...</td>\n",
       "      <td>open success presidenti elect profession prote...</td>\n",
       "    </tr>\n",
       "    <tr>\n",
       "      <th>4</th>\n",
       "      <td>fantastic day c met president obama first time...</td>\n",
       "      <td>fantast day c met presid obama first time real...</td>\n",
       "      <td>fantast day c met presid obam first tim real g...</td>\n",
       "      <td>fantast day c met presid obama first time real...</td>\n",
       "    </tr>\n",
       "    <tr>\n",
       "      <th>...</th>\n",
       "      <td>...</td>\n",
       "      <td>...</td>\n",
       "      <td>...</td>\n",
       "      <td>...</td>\n",
       "    </tr>\n",
       "    <tr>\n",
       "      <th>7370</th>\n",
       "      <td>loved firing goofball atheist penn apprentice ...</td>\n",
       "      <td>love fire goofbal atheist penn apprentic never...</td>\n",
       "      <td>lov fir goofbal ath pen appr nev chant wrot le...</td>\n",
       "      <td>love fire goofbal atheist penn apprentic never...</td>\n",
       "    </tr>\n",
       "    <tr>\n",
       "      <th>7371</th>\n",
       "      <td>hear show broadway terrible surprised boring g...</td>\n",
       "      <td>hear show broadway terribl surpris bore guy pe...</td>\n",
       "      <td>hear show broadway terr surpr bor guy pen with...</td>\n",
       "      <td>hear show broadway terribl surpris bore guy pe...</td>\n",
       "    </tr>\n",
       "    <tr>\n",
       "      <th>7372</th>\n",
       "      <td>irrelevant clown sweats shakes nervously talks...</td>\n",
       "      <td>irrelev clown sweat shake nervous talk bull ze...</td>\n",
       "      <td>irrelev clown swe shak nerv talk bul zero cred...</td>\n",
       "      <td>irrelev clown sweat shake nervous talk bull ze...</td>\n",
       "    </tr>\n",
       "    <tr>\n",
       "      <th>7373</th>\n",
       "      <td>donald trump one sexiest men planet every woma...</td>\n",
       "      <td>donald trump one sexiest men planet everi woma...</td>\n",
       "      <td>donald trump on sexiest men planet every wom d...</td>\n",
       "      <td>donald trump one sexiest men planet everi woma...</td>\n",
       "    </tr>\n",
       "    <tr>\n",
       "      <th>7374</th>\n",
       "      <td>rt trump rove clown loser</td>\n",
       "      <td>rt trump rove clown loser</td>\n",
       "      <td>rt trump rov clown los</td>\n",
       "      <td>rt trump rove clown loser</td>\n",
       "    </tr>\n",
       "  </tbody>\n",
       "</table>\n",
       "<p>7375 rows × 4 columns</p>\n",
       "</div>"
      ],
      "text/plain": [
       "                                           Cleaned_Text  \\\n",
       "0     today express deepest gratitude served armed f...   \n",
       "1     busy day planned new york soon making importan...   \n",
       "2     love fact small groups protesters last night p...   \n",
       "3     open successful presidential election professi...   \n",
       "4     fantastic day c met president obama first time...   \n",
       "...                                                 ...   \n",
       "7370  loved firing goofball atheist penn apprentice ...   \n",
       "7371  hear show broadway terrible surprised boring g...   \n",
       "7372  irrelevant clown sweats shakes nervously talks...   \n",
       "7373  donald trump one sexiest men planet every woma...   \n",
       "7374                          rt trump rove clown loser   \n",
       "\n",
       "                                                Stemmed  \\\n",
       "0          today express deepest gratitud serv arm forc   \n",
       "1     busi day plan new york soon make import decis ...   \n",
       "2     love fact small group protest last night passi...   \n",
       "3     open success presidenti elect profession prote...   \n",
       "4     fantast day c met presid obama first time real...   \n",
       "...                                                 ...   \n",
       "7370  love fire goofbal atheist penn apprentic never...   \n",
       "7371  hear show broadway terribl surpris bore guy pe...   \n",
       "7372  irrelev clown sweat shake nervous talk bull ze...   \n",
       "7373  donald trump one sexiest men planet everi woma...   \n",
       "7374                          rt trump rove clown loser   \n",
       "\n",
       "                                              Lancaster  \\\n",
       "0          today express deepest gratitud serv arm forc   \n",
       "1     busy day plan new york soon mak import decid p...   \n",
       "2     lov fact smal group protest last night pass gr...   \n",
       "3     op success presid elect profess protest incit ...   \n",
       "4     fantast day c met presid obam first tim real g...   \n",
       "...                                                 ...   \n",
       "7370  lov fir goofbal ath pen appr nev chant wrot le...   \n",
       "7371  hear show broadway terr surpr bor guy pen with...   \n",
       "7372  irrelev clown swe shak nerv talk bul zero cred...   \n",
       "7373  donald trump on sexiest men planet every wom d...   \n",
       "7374                             rt trump rov clown los   \n",
       "\n",
       "                                               Snowball  \n",
       "0          today express deepest gratitud serv arm forc  \n",
       "1     busi day plan new york soon make import decis ...  \n",
       "2     love fact small group protest last night passi...  \n",
       "3     open success presidenti elect profession prote...  \n",
       "4     fantast day c met presid obama first time real...  \n",
       "...                                                 ...  \n",
       "7370  love fire goofbal atheist penn apprentic never...  \n",
       "7371  hear show broadway terribl surpris bore guy pe...  \n",
       "7372  irrelev clown sweat shake nervous talk bull ze...  \n",
       "7373  donald trump one sexiest men planet everi woma...  \n",
       "7374                          rt trump rove clown loser  \n",
       "\n",
       "[7375 rows x 4 columns]"
      ]
     },
     "execution_count": 113,
     "metadata": {},
     "output_type": "execute_result"
    }
   ],
   "source": [
    "from nltk.stem.snowball import EnglishStemmer\n",
    "ss = EnglishStemmer()\n",
    "df['Snowball'] = df['Cleaned_Text'].apply(lambda s: \" \".join([ss.stem(token) for token in s.split()]))\n",
    "df[['Cleaned_Text','Stemmed', 'Lancaster','Snowball']]"
   ]
  },
  {
   "cell_type": "code",
   "execution_count": 114,
   "id": "1e84a3ab",
   "metadata": {},
   "outputs": [],
   "source": [
    "# Apply Lemmatization technique to processed data and store lemmatized data as a separate column to the DataFrame"
   ]
  },
  {
   "cell_type": "code",
   "execution_count": 115,
   "id": "4192a931",
   "metadata": {},
   "outputs": [
    {
     "data": {
      "text/html": [
       "<div>\n",
       "<style scoped>\n",
       "    .dataframe tbody tr th:only-of-type {\n",
       "        vertical-align: middle;\n",
       "    }\n",
       "\n",
       "    .dataframe tbody tr th {\n",
       "        vertical-align: top;\n",
       "    }\n",
       "\n",
       "    .dataframe thead th {\n",
       "        text-align: right;\n",
       "    }\n",
       "</style>\n",
       "<table border=\"1\" class=\"dataframe\">\n",
       "  <thead>\n",
       "    <tr style=\"text-align: right;\">\n",
       "      <th></th>\n",
       "      <th>Cleaned_Text</th>\n",
       "      <th>Lemma</th>\n",
       "    </tr>\n",
       "  </thead>\n",
       "  <tbody>\n",
       "    <tr>\n",
       "      <th>0</th>\n",
       "      <td>today express deepest gratitude served armed f...</td>\n",
       "      <td>today express deepest gratitude served armed f...</td>\n",
       "    </tr>\n",
       "    <tr>\n",
       "      <th>1</th>\n",
       "      <td>busy day planned new york soon making importan...</td>\n",
       "      <td>busy day planned new york soon making importan...</td>\n",
       "    </tr>\n",
       "    <tr>\n",
       "      <th>2</th>\n",
       "      <td>love fact small groups protesters last night p...</td>\n",
       "      <td>love fact small group protester last night pas...</td>\n",
       "    </tr>\n",
       "    <tr>\n",
       "      <th>3</th>\n",
       "      <td>open successful presidential election professi...</td>\n",
       "      <td>open successful presidential election professi...</td>\n",
       "    </tr>\n",
       "    <tr>\n",
       "      <th>4</th>\n",
       "      <td>fantastic day c met president obama first time...</td>\n",
       "      <td>fantastic day c met president obama first time...</td>\n",
       "    </tr>\n",
       "  </tbody>\n",
       "</table>\n",
       "</div>"
      ],
      "text/plain": [
       "                                        Cleaned_Text  \\\n",
       "0  today express deepest gratitude served armed f...   \n",
       "1  busy day planned new york soon making importan...   \n",
       "2  love fact small groups protesters last night p...   \n",
       "3  open successful presidential election professi...   \n",
       "4  fantastic day c met president obama first time...   \n",
       "\n",
       "                                               Lemma  \n",
       "0  today express deepest gratitude served armed f...  \n",
       "1  busy day planned new york soon making importan...  \n",
       "2  love fact small group protester last night pas...  \n",
       "3  open successful presidential election professi...  \n",
       "4  fantastic day c met president obama first time...  "
      ]
     },
     "execution_count": 115,
     "metadata": {},
     "output_type": "execute_result"
    }
   ],
   "source": [
    "from nltk.stem import WordNetLemmatizer\n",
    "wnl = WordNetLemmatizer()\n",
    "\n",
    "df['Lemma'] = df['Cleaned_Text'].apply(lambda s: \" \".join([wnl.lemmatize(token) for token in s.split()])) \n",
    "df[['Cleaned_Text', 'Lemma']].head()"
   ]
  },
  {
   "cell_type": "code",
   "execution_count": 116,
   "id": "8332c09e",
   "metadata": {},
   "outputs": [],
   "source": [
    "# Calculate the sentiment scores for each text"
   ]
  },
  {
   "cell_type": "code",
   "execution_count": 120,
   "id": "4eb01757",
   "metadata": {},
   "outputs": [
    {
     "data": {
      "text/plain": [
       "-1.0"
      ]
     },
     "execution_count": 120,
     "metadata": {},
     "output_type": "execute_result"
    }
   ],
   "source": [
    "from textblob import TextBlob\n",
    "tb = TextBlob('I am worst')\n",
    "tb.polarity"
   ]
  },
  {
   "cell_type": "code",
   "execution_count": 121,
   "id": "5a6c79f9",
   "metadata": {},
   "outputs": [
    {
     "data": {
      "text/html": [
       "<div>\n",
       "<style scoped>\n",
       "    .dataframe tbody tr th:only-of-type {\n",
       "        vertical-align: middle;\n",
       "    }\n",
       "\n",
       "    .dataframe tbody tr th {\n",
       "        vertical-align: top;\n",
       "    }\n",
       "\n",
       "    .dataframe thead th {\n",
       "        text-align: right;\n",
       "    }\n",
       "</style>\n",
       "<table border=\"1\" class=\"dataframe\">\n",
       "  <thead>\n",
       "    <tr style=\"text-align: right;\">\n",
       "      <th></th>\n",
       "      <th>Time</th>\n",
       "      <th>Text</th>\n",
       "      <th>Year</th>\n",
       "      <th>Month</th>\n",
       "      <th>Day</th>\n",
       "      <th>Cleaned_Text</th>\n",
       "      <th>Stemmed</th>\n",
       "      <th>Lancaster</th>\n",
       "      <th>Snowball</th>\n",
       "      <th>Lemma</th>\n",
       "      <th>Polarity</th>\n",
       "    </tr>\n",
       "  </thead>\n",
       "  <tbody>\n",
       "    <tr>\n",
       "      <th>0</th>\n",
       "      <td>15:26:37</td>\n",
       "      <td>Today we express our deepest gratitude to all ...</td>\n",
       "      <td>2011</td>\n",
       "      <td>11</td>\n",
       "      <td>16</td>\n",
       "      <td>today express deepest gratitude served armed f...</td>\n",
       "      <td>today express deepest gratitud serv arm forc</td>\n",
       "      <td>today express deepest gratitud serv arm forc</td>\n",
       "      <td>today express deepest gratitud serv arm forc</td>\n",
       "      <td>today express deepest gratitude served armed f...</td>\n",
       "      <td>(0.0, 0.0)</td>\n",
       "    </tr>\n",
       "    <tr>\n",
       "      <th>1</th>\n",
       "      <td>13:33:35</td>\n",
       "      <td>Busy day planned in New York. Will soon be mak...</td>\n",
       "      <td>2011</td>\n",
       "      <td>11</td>\n",
       "      <td>16</td>\n",
       "      <td>busy day planned new york soon making importan...</td>\n",
       "      <td>busi day plan new york soon make import decis ...</td>\n",
       "      <td>busy day plan new york soon mak import decid p...</td>\n",
       "      <td>busi day plan new york soon make import decis ...</td>\n",
       "      <td>busy day planned new york soon making importan...</td>\n",
       "      <td>(0.21212121212121213, 0.5848484848484848)</td>\n",
       "    </tr>\n",
       "    <tr>\n",
       "      <th>2</th>\n",
       "      <td>11:14:20</td>\n",
       "      <td>Love the fact that the small groups of protest...</td>\n",
       "      <td>2011</td>\n",
       "      <td>11</td>\n",
       "      <td>16</td>\n",
       "      <td>love fact small groups protesters last night p...</td>\n",
       "      <td>love fact small group protest last night passi...</td>\n",
       "      <td>lov fact smal group protest last night pass gr...</td>\n",
       "      <td>love fact small group protest last night passi...</td>\n",
       "      <td>love fact small group protester last night pas...</td>\n",
       "      <td>(0.37, 0.5633333333333332)</td>\n",
       "    </tr>\n",
       "    <tr>\n",
       "      <th>3</th>\n",
       "      <td>2:19:44</td>\n",
       "      <td>Just had a very open and successful presidenti...</td>\n",
       "      <td>2011</td>\n",
       "      <td>11</td>\n",
       "      <td>16</td>\n",
       "      <td>open successful presidential election professi...</td>\n",
       "      <td>open success presidenti elect profession prote...</td>\n",
       "      <td>op success presid elect profess protest incit ...</td>\n",
       "      <td>open success presidenti elect profession prote...</td>\n",
       "      <td>open successful presidential election professi...</td>\n",
       "      <td>(0.0875, 0.6375)</td>\n",
       "    </tr>\n",
       "    <tr>\n",
       "      <th>4</th>\n",
       "      <td>2:10:46</td>\n",
       "      <td>A fantastic day in D.C. Met with President Oba...</td>\n",
       "      <td>2011</td>\n",
       "      <td>11</td>\n",
       "      <td>16</td>\n",
       "      <td>fantastic day c met president obama first time...</td>\n",
       "      <td>fantast day c met presid obama first time real...</td>\n",
       "      <td>fantast day c met presid obam first tim real g...</td>\n",
       "      <td>fantast day c met presid obama first time real...</td>\n",
       "      <td>fantastic day c met president obama first time...</td>\n",
       "      <td>(0.55, 0.6766666666666667)</td>\n",
       "    </tr>\n",
       "  </tbody>\n",
       "</table>\n",
       "</div>"
      ],
      "text/plain": [
       "       Time                                               Text  Year  Month  \\\n",
       "0  15:26:37  Today we express our deepest gratitude to all ...  2011     11   \n",
       "1  13:33:35  Busy day planned in New York. Will soon be mak...  2011     11   \n",
       "2  11:14:20  Love the fact that the small groups of protest...  2011     11   \n",
       "3   2:19:44  Just had a very open and successful presidenti...  2011     11   \n",
       "4   2:10:46  A fantastic day in D.C. Met with President Oba...  2011     11   \n",
       "\n",
       "   Day                                       Cleaned_Text  \\\n",
       "0   16  today express deepest gratitude served armed f...   \n",
       "1   16  busy day planned new york soon making importan...   \n",
       "2   16  love fact small groups protesters last night p...   \n",
       "3   16  open successful presidential election professi...   \n",
       "4   16  fantastic day c met president obama first time...   \n",
       "\n",
       "                                             Stemmed  \\\n",
       "0       today express deepest gratitud serv arm forc   \n",
       "1  busi day plan new york soon make import decis ...   \n",
       "2  love fact small group protest last night passi...   \n",
       "3  open success presidenti elect profession prote...   \n",
       "4  fantast day c met presid obama first time real...   \n",
       "\n",
       "                                           Lancaster  \\\n",
       "0       today express deepest gratitud serv arm forc   \n",
       "1  busy day plan new york soon mak import decid p...   \n",
       "2  lov fact smal group protest last night pass gr...   \n",
       "3  op success presid elect profess protest incit ...   \n",
       "4  fantast day c met presid obam first tim real g...   \n",
       "\n",
       "                                            Snowball  \\\n",
       "0       today express deepest gratitud serv arm forc   \n",
       "1  busi day plan new york soon make import decis ...   \n",
       "2  love fact small group protest last night passi...   \n",
       "3  open success presidenti elect profession prote...   \n",
       "4  fantast day c met presid obama first time real...   \n",
       "\n",
       "                                               Lemma  \\\n",
       "0  today express deepest gratitude served armed f...   \n",
       "1  busy day planned new york soon making importan...   \n",
       "2  love fact small group protester last night pas...   \n",
       "3  open successful presidential election professi...   \n",
       "4  fantastic day c met president obama first time...   \n",
       "\n",
       "                                    Polarity  \n",
       "0                                 (0.0, 0.0)  \n",
       "1  (0.21212121212121213, 0.5848484848484848)  \n",
       "2                 (0.37, 0.5633333333333332)  \n",
       "3                           (0.0875, 0.6375)  \n",
       "4                 (0.55, 0.6766666666666667)  "
      ]
     },
     "execution_count": 121,
     "metadata": {},
     "output_type": "execute_result"
    }
   ],
   "source": [
    "df['Polarity'] = df['Lemma'].apply(lambda s: TextBlob(s).sentiment)\n",
    "df.head()"
   ]
  },
  {
   "cell_type": "code",
   "execution_count": 125,
   "id": "10033605",
   "metadata": {},
   "outputs": [],
   "source": [
    "# Calculate polarity for processed data and store polarity as a separate column to DataFrame"
   ]
  },
  {
   "cell_type": "code",
   "execution_count": 126,
   "id": "a58f5765",
   "metadata": {},
   "outputs": [],
   "source": [
    "df.rename(columns={'Polarity':'Sentiment'}, inplace=True)"
   ]
  },
  {
   "cell_type": "code",
   "execution_count": 127,
   "id": "617824de",
   "metadata": {},
   "outputs": [
    {
     "data": {
      "text/html": [
       "<div>\n",
       "<style scoped>\n",
       "    .dataframe tbody tr th:only-of-type {\n",
       "        vertical-align: middle;\n",
       "    }\n",
       "\n",
       "    .dataframe tbody tr th {\n",
       "        vertical-align: top;\n",
       "    }\n",
       "\n",
       "    .dataframe thead th {\n",
       "        text-align: right;\n",
       "    }\n",
       "</style>\n",
       "<table border=\"1\" class=\"dataframe\">\n",
       "  <thead>\n",
       "    <tr style=\"text-align: right;\">\n",
       "      <th></th>\n",
       "      <th>Time</th>\n",
       "      <th>Text</th>\n",
       "      <th>Year</th>\n",
       "      <th>Month</th>\n",
       "      <th>Day</th>\n",
       "      <th>Cleaned_Text</th>\n",
       "      <th>Stemmed</th>\n",
       "      <th>Lancaster</th>\n",
       "      <th>Snowball</th>\n",
       "      <th>Lemma</th>\n",
       "      <th>Sentiment</th>\n",
       "      <th>Polarity</th>\n",
       "    </tr>\n",
       "  </thead>\n",
       "  <tbody>\n",
       "    <tr>\n",
       "      <th>0</th>\n",
       "      <td>15:26:37</td>\n",
       "      <td>Today we express our deepest gratitude to all ...</td>\n",
       "      <td>2011</td>\n",
       "      <td>11</td>\n",
       "      <td>16</td>\n",
       "      <td>today express deepest gratitude served armed f...</td>\n",
       "      <td>today express deepest gratitud serv arm forc</td>\n",
       "      <td>today express deepest gratitud serv arm forc</td>\n",
       "      <td>today express deepest gratitud serv arm forc</td>\n",
       "      <td>today express deepest gratitude served armed f...</td>\n",
       "      <td>(0.0, 0.0)</td>\n",
       "      <td>0.000000</td>\n",
       "    </tr>\n",
       "    <tr>\n",
       "      <th>1</th>\n",
       "      <td>13:33:35</td>\n",
       "      <td>Busy day planned in New York. Will soon be mak...</td>\n",
       "      <td>2011</td>\n",
       "      <td>11</td>\n",
       "      <td>16</td>\n",
       "      <td>busy day planned new york soon making importan...</td>\n",
       "      <td>busi day plan new york soon make import decis ...</td>\n",
       "      <td>busy day plan new york soon mak import decid p...</td>\n",
       "      <td>busi day plan new york soon make import decis ...</td>\n",
       "      <td>busy day planned new york soon making importan...</td>\n",
       "      <td>(0.21212121212121213, 0.5848484848484848)</td>\n",
       "      <td>0.212121</td>\n",
       "    </tr>\n",
       "    <tr>\n",
       "      <th>2</th>\n",
       "      <td>11:14:20</td>\n",
       "      <td>Love the fact that the small groups of protest...</td>\n",
       "      <td>2011</td>\n",
       "      <td>11</td>\n",
       "      <td>16</td>\n",
       "      <td>love fact small groups protesters last night p...</td>\n",
       "      <td>love fact small group protest last night passi...</td>\n",
       "      <td>lov fact smal group protest last night pass gr...</td>\n",
       "      <td>love fact small group protest last night passi...</td>\n",
       "      <td>love fact small group protester last night pas...</td>\n",
       "      <td>(0.37, 0.5633333333333332)</td>\n",
       "      <td>0.370000</td>\n",
       "    </tr>\n",
       "    <tr>\n",
       "      <th>3</th>\n",
       "      <td>2:19:44</td>\n",
       "      <td>Just had a very open and successful presidenti...</td>\n",
       "      <td>2011</td>\n",
       "      <td>11</td>\n",
       "      <td>16</td>\n",
       "      <td>open successful presidential election professi...</td>\n",
       "      <td>open success presidenti elect profession prote...</td>\n",
       "      <td>op success presid elect profess protest incit ...</td>\n",
       "      <td>open success presidenti elect profession prote...</td>\n",
       "      <td>open successful presidential election professi...</td>\n",
       "      <td>(0.0875, 0.6375)</td>\n",
       "      <td>0.087500</td>\n",
       "    </tr>\n",
       "    <tr>\n",
       "      <th>4</th>\n",
       "      <td>2:10:46</td>\n",
       "      <td>A fantastic day in D.C. Met with President Oba...</td>\n",
       "      <td>2011</td>\n",
       "      <td>11</td>\n",
       "      <td>16</td>\n",
       "      <td>fantastic day c met president obama first time...</td>\n",
       "      <td>fantast day c met presid obama first time real...</td>\n",
       "      <td>fantast day c met presid obam first tim real g...</td>\n",
       "      <td>fantast day c met presid obama first time real...</td>\n",
       "      <td>fantastic day c met president obama first time...</td>\n",
       "      <td>(0.55, 0.6766666666666667)</td>\n",
       "      <td>0.550000</td>\n",
       "    </tr>\n",
       "  </tbody>\n",
       "</table>\n",
       "</div>"
      ],
      "text/plain": [
       "       Time                                               Text  Year  Month  \\\n",
       "0  15:26:37  Today we express our deepest gratitude to all ...  2011     11   \n",
       "1  13:33:35  Busy day planned in New York. Will soon be mak...  2011     11   \n",
       "2  11:14:20  Love the fact that the small groups of protest...  2011     11   \n",
       "3   2:19:44  Just had a very open and successful presidenti...  2011     11   \n",
       "4   2:10:46  A fantastic day in D.C. Met with President Oba...  2011     11   \n",
       "\n",
       "   Day                                       Cleaned_Text  \\\n",
       "0   16  today express deepest gratitude served armed f...   \n",
       "1   16  busy day planned new york soon making importan...   \n",
       "2   16  love fact small groups protesters last night p...   \n",
       "3   16  open successful presidential election professi...   \n",
       "4   16  fantastic day c met president obama first time...   \n",
       "\n",
       "                                             Stemmed  \\\n",
       "0       today express deepest gratitud serv arm forc   \n",
       "1  busi day plan new york soon make import decis ...   \n",
       "2  love fact small group protest last night passi...   \n",
       "3  open success presidenti elect profession prote...   \n",
       "4  fantast day c met presid obama first time real...   \n",
       "\n",
       "                                           Lancaster  \\\n",
       "0       today express deepest gratitud serv arm forc   \n",
       "1  busy day plan new york soon mak import decid p...   \n",
       "2  lov fact smal group protest last night pass gr...   \n",
       "3  op success presid elect profess protest incit ...   \n",
       "4  fantast day c met presid obam first tim real g...   \n",
       "\n",
       "                                            Snowball  \\\n",
       "0       today express deepest gratitud serv arm forc   \n",
       "1  busi day plan new york soon make import decis ...   \n",
       "2  love fact small group protest last night passi...   \n",
       "3  open success presidenti elect profession prote...   \n",
       "4  fantast day c met presid obama first time real...   \n",
       "\n",
       "                                               Lemma  \\\n",
       "0  today express deepest gratitude served armed f...   \n",
       "1  busy day planned new york soon making importan...   \n",
       "2  love fact small group protester last night pas...   \n",
       "3  open successful presidential election professi...   \n",
       "4  fantastic day c met president obama first time...   \n",
       "\n",
       "                                   Sentiment  Polarity  \n",
       "0                                 (0.0, 0.0)  0.000000  \n",
       "1  (0.21212121212121213, 0.5848484848484848)  0.212121  \n",
       "2                 (0.37, 0.5633333333333332)  0.370000  \n",
       "3                           (0.0875, 0.6375)  0.087500  \n",
       "4                 (0.55, 0.6766666666666667)  0.550000  "
      ]
     },
     "execution_count": 127,
     "metadata": {},
     "output_type": "execute_result"
    }
   ],
   "source": [
    "df['Polarity'] = df['Sentiment'].apply(lambda s: s[0])\n",
    "df.head()"
   ]
  },
  {
   "cell_type": "code",
   "execution_count": 128,
   "id": "ec677b54",
   "metadata": {},
   "outputs": [],
   "source": [
    "# Visualize the sentiment of the sentences using histogram"
   ]
  },
  {
   "cell_type": "code",
   "execution_count": 129,
   "id": "ff146082",
   "metadata": {},
   "outputs": [],
   "source": [
    "import matplotlib.pyplot as plt\n",
    "import seaborn as sns"
   ]
  },
  {
   "cell_type": "code",
   "execution_count": 137,
   "id": "12ba3e98",
   "metadata": {},
   "outputs": [
    {
     "data": {
      "image/png": "[encoded data removed]",
      "text/plain": [
       "<Figure size 432x288 with 1 Axes>"
      ]
     },
     "metadata": {
      "needs_background": "light"
     },
     "output_type": "display_data"
    }
   ],
   "source": [
    "#plt.figure(figsize=(20,10))\n",
    "plt.margins(0.02)\n",
    "df['Polarity'].plot(kind='hist')\n",
    "plt.xlabel('Polarity')\n",
    "plt.ylabel('Frequency')\n",
    "plt.show()"
   ]
  },
  {
   "cell_type": "code",
   "execution_count": 138,
   "id": "8190cdd3",
   "metadata": {},
   "outputs": [],
   "source": [
    "# Find the number of tweets of each category of polarity (Positive, Negative and Neutral)"
   ]
  },
  {
   "cell_type": "code",
   "execution_count": 141,
   "id": "0f555b61",
   "metadata": {},
   "outputs": [],
   "source": [
    "def get_polarity_category(polarity):\n",
    "    if polarity < 0:\n",
    "        return 'Negative'\n",
    "    elif polarity > 0:\n",
    "        return 'Positive'\n",
    "    return 'Neutral'"
   ]
  },
  {
   "cell_type": "code",
   "execution_count": 142,
   "id": "00d01017",
   "metadata": {},
   "outputs": [
    {
     "data": {
      "text/html": [
       "<div>\n",
       "<style scoped>\n",
       "    .dataframe tbody tr th:only-of-type {\n",
       "        vertical-align: middle;\n",
       "    }\n",
       "\n",
       "    .dataframe tbody tr th {\n",
       "        vertical-align: top;\n",
       "    }\n",
       "\n",
       "    .dataframe thead th {\n",
       "        text-align: right;\n",
       "    }\n",
       "</style>\n",
       "<table border=\"1\" class=\"dataframe\">\n",
       "  <thead>\n",
       "    <tr style=\"text-align: right;\">\n",
       "      <th></th>\n",
       "      <th>Time</th>\n",
       "      <th>Text</th>\n",
       "      <th>Year</th>\n",
       "      <th>Month</th>\n",
       "      <th>Day</th>\n",
       "      <th>Cleaned_Text</th>\n",
       "      <th>Stemmed</th>\n",
       "      <th>Lancaster</th>\n",
       "      <th>Snowball</th>\n",
       "      <th>Lemma</th>\n",
       "      <th>Sentiment</th>\n",
       "      <th>Polarity</th>\n",
       "      <th>Polarity_Category</th>\n",
       "    </tr>\n",
       "  </thead>\n",
       "  <tbody>\n",
       "    <tr>\n",
       "      <th>0</th>\n",
       "      <td>15:26:37</td>\n",
       "      <td>Today we express our deepest gratitude to all ...</td>\n",
       "      <td>2011</td>\n",
       "      <td>11</td>\n",
       "      <td>16</td>\n",
       "      <td>today express deepest gratitude served armed f...</td>\n",
       "      <td>today express deepest gratitud serv arm forc</td>\n",
       "      <td>today express deepest gratitud serv arm forc</td>\n",
       "      <td>today express deepest gratitud serv arm forc</td>\n",
       "      <td>today express deepest gratitude served armed f...</td>\n",
       "      <td>(0.0, 0.0)</td>\n",
       "      <td>0.000000</td>\n",
       "      <td>Neutral</td>\n",
       "    </tr>\n",
       "    <tr>\n",
       "      <th>1</th>\n",
       "      <td>13:33:35</td>\n",
       "      <td>Busy day planned in New York. Will soon be mak...</td>\n",
       "      <td>2011</td>\n",
       "      <td>11</td>\n",
       "      <td>16</td>\n",
       "      <td>busy day planned new york soon making importan...</td>\n",
       "      <td>busi day plan new york soon make import decis ...</td>\n",
       "      <td>busy day plan new york soon mak import decid p...</td>\n",
       "      <td>busi day plan new york soon make import decis ...</td>\n",
       "      <td>busy day planned new york soon making importan...</td>\n",
       "      <td>(0.21212121212121213, 0.5848484848484848)</td>\n",
       "      <td>0.212121</td>\n",
       "      <td>Positive</td>\n",
       "    </tr>\n",
       "    <tr>\n",
       "      <th>2</th>\n",
       "      <td>11:14:20</td>\n",
       "      <td>Love the fact that the small groups of protest...</td>\n",
       "      <td>2011</td>\n",
       "      <td>11</td>\n",
       "      <td>16</td>\n",
       "      <td>love fact small groups protesters last night p...</td>\n",
       "      <td>love fact small group protest last night passi...</td>\n",
       "      <td>lov fact smal group protest last night pass gr...</td>\n",
       "      <td>love fact small group protest last night passi...</td>\n",
       "      <td>love fact small group protester last night pas...</td>\n",
       "      <td>(0.37, 0.5633333333333332)</td>\n",
       "      <td>0.370000</td>\n",
       "      <td>Positive</td>\n",
       "    </tr>\n",
       "    <tr>\n",
       "      <th>3</th>\n",
       "      <td>2:19:44</td>\n",
       "      <td>Just had a very open and successful presidenti...</td>\n",
       "      <td>2011</td>\n",
       "      <td>11</td>\n",
       "      <td>16</td>\n",
       "      <td>open successful presidential election professi...</td>\n",
       "      <td>open success presidenti elect profession prote...</td>\n",
       "      <td>op success presid elect profess protest incit ...</td>\n",
       "      <td>open success presidenti elect profession prote...</td>\n",
       "      <td>open successful presidential election professi...</td>\n",
       "      <td>(0.0875, 0.6375)</td>\n",
       "      <td>0.087500</td>\n",
       "      <td>Positive</td>\n",
       "    </tr>\n",
       "    <tr>\n",
       "      <th>4</th>\n",
       "      <td>2:10:46</td>\n",
       "      <td>A fantastic day in D.C. Met with President Oba...</td>\n",
       "      <td>2011</td>\n",
       "      <td>11</td>\n",
       "      <td>16</td>\n",
       "      <td>fantastic day c met president obama first time...</td>\n",
       "      <td>fantast day c met presid obama first time real...</td>\n",
       "      <td>fantast day c met presid obam first tim real g...</td>\n",
       "      <td>fantast day c met presid obama first time real...</td>\n",
       "      <td>fantastic day c met president obama first time...</td>\n",
       "      <td>(0.55, 0.6766666666666667)</td>\n",
       "      <td>0.550000</td>\n",
       "      <td>Positive</td>\n",
       "    </tr>\n",
       "  </tbody>\n",
       "</table>\n",
       "</div>"
      ],
      "text/plain": [
       "       Time                                               Text  Year  Month  \\\n",
       "0  15:26:37  Today we express our deepest gratitude to all ...  2011     11   \n",
       "1  13:33:35  Busy day planned in New York. Will soon be mak...  2011     11   \n",
       "2  11:14:20  Love the fact that the small groups of protest...  2011     11   \n",
       "3   2:19:44  Just had a very open and successful presidenti...  2011     11   \n",
       "4   2:10:46  A fantastic day in D.C. Met with President Oba...  2011     11   \n",
       "\n",
       "   Day                                       Cleaned_Text  \\\n",
       "0   16  today express deepest gratitude served armed f...   \n",
       "1   16  busy day planned new york soon making importan...   \n",
       "2   16  love fact small groups protesters last night p...   \n",
       "3   16  open successful presidential election professi...   \n",
       "4   16  fantastic day c met president obama first time...   \n",
       "\n",
       "                                             Stemmed  \\\n",
       "0       today express deepest gratitud serv arm forc   \n",
       "1  busi day plan new york soon make import decis ...   \n",
       "2  love fact small group protest last night passi...   \n",
       "3  open success presidenti elect profession prote...   \n",
       "4  fantast day c met presid obama first time real...   \n",
       "\n",
       "                                           Lancaster  \\\n",
       "0       today express deepest gratitud serv arm forc   \n",
       "1  busy day plan new york soon mak import decid p...   \n",
       "2  lov fact smal group protest last night pass gr...   \n",
       "3  op success presid elect profess protest incit ...   \n",
       "4  fantast day c met presid obam first tim real g...   \n",
       "\n",
       "                                            Snowball  \\\n",
       "0       today express deepest gratitud serv arm forc   \n",
       "1  busi day plan new york soon make import decis ...   \n",
       "2  love fact small group protest last night passi...   \n",
       "3  open success presidenti elect profession prote...   \n",
       "4  fantast day c met presid obama first time real...   \n",
       "\n",
       "                                               Lemma  \\\n",
       "0  today express deepest gratitude served armed f...   \n",
       "1  busy day planned new york soon making importan...   \n",
       "2  love fact small group protester last night pas...   \n",
       "3  open successful presidential election professi...   \n",
       "4  fantastic day c met president obama first time...   \n",
       "\n",
       "                                   Sentiment  Polarity Polarity_Category  \n",
       "0                                 (0.0, 0.0)  0.000000           Neutral  \n",
       "1  (0.21212121212121213, 0.5848484848484848)  0.212121          Positive  \n",
       "2                 (0.37, 0.5633333333333332)  0.370000          Positive  \n",
       "3                           (0.0875, 0.6375)  0.087500          Positive  \n",
       "4                 (0.55, 0.6766666666666667)  0.550000          Positive  "
      ]
     },
     "execution_count": 142,
     "metadata": {},
     "output_type": "execute_result"
    }
   ],
   "source": [
    "df['Polarity_Category'] = df['Polarity'].apply(get_polarity_category)\n",
    "df.head()"
   ]
  },
  {
   "cell_type": "code",
   "execution_count": 143,
   "id": "5adf45f8",
   "metadata": {},
   "outputs": [
    {
     "data": {
      "text/plain": [
       "Positive    3675\n",
       "Neutral     2400\n",
       "Negative    1300\n",
       "Name: Polarity_Category, dtype: int64"
      ]
     },
     "execution_count": 143,
     "metadata": {},
     "output_type": "execute_result"
    }
   ],
   "source": [
    "df['Polarity_Category'].value_counts()"
   ]
  },
  {
   "cell_type": "code",
   "execution_count": 144,
   "id": "fc8767f2",
   "metadata": {},
   "outputs": [],
   "source": [
    "# Build a ML model and calculate the accuracy"
   ]
  },
  {
   "cell_type": "code",
   "execution_count": 160,
   "id": "e6072993",
   "metadata": {},
   "outputs": [],
   "source": [
    "from sklearn.ensemble import RandomForestClassifier\n",
    "from sklearn.model_selection import train_test_split\n",
    "from sklearn.metrics import classification_report\n",
    "from sklearn.pipeline import Pipeline\n",
    "from sklearn.feature_extraction.text import CountVectorizer, TfidfVectorizer\n",
    "\n",
    "X = df['Lemma']\n",
    "y = df['Polarity_Category']\n",
    "\n",
    "X_train, X_test, y_train, y_test = train_test_split(X, y, random_state=42, test_size=0.3)\n",
    "\n",
    "\n",
    "cv = CountVectorizer()\n",
    "model = RandomForestClassifier()\n",
    "\n",
    "clf = Pipeline([('cv', cv), ('model', model)])\n",
    "clf.fit(X_train, y_train)\n",
    "y_pred = clf.predict(X_test)"
   ]
  },
  {
   "cell_type": "code",
   "execution_count": 161,
   "id": "cee51b0b",
   "metadata": {},
   "outputs": [
    {
     "name": "stdout",
     "output_type": "stream",
     "text": [
      "              precision    recall  f1-score   support\n",
      "\n",
      "    Negative       0.89      0.58      0.70       372\n",
      "     Neutral       0.79      0.96      0.87       715\n",
      "    Positive       0.91      0.89      0.90      1126\n",
      "\n",
      "    accuracy                           0.86      2213\n",
      "   macro avg       0.86      0.81      0.82      2213\n",
      "weighted avg       0.87      0.86      0.86      2213\n",
      "\n"
     ]
    }
   ],
   "source": [
    "print(classification_report(y_test, y_pred))"
   ]
  },
  {
   "cell_type": "code",
   "execution_count": 152,
   "id": "5c0dba4f",
   "metadata": {},
   "outputs": [],
   "source": [
    "#help(train_test_split)"
   ]
  },
  {
   "cell_type": "code",
   "execution_count": 165,
   "id": "bb4d6d93",
   "metadata": {},
   "outputs": [],
   "source": [
    "from sklearn.ensemble import RandomForestClassifier\n",
    "from sklearn.model_selection import train_test_split\n",
    "from sklearn.metrics import classification_report\n",
    "from sklearn.pipeline import Pipeline\n",
    "from sklearn.feature_extraction.text import CountVectorizer, TfidfVectorizer\n",
    "\n",
    "X = df['Lemma']\n",
    "y = df['Polarity_Category']\n",
    "\n",
    "X_train, X_test, y_train, y_test = train_test_split(X, y, random_state=42, test_size=0.3)\n",
    "\n",
    "\n",
    "cv = TfidfVectorizer(lowercase=True)\n",
    "model = RandomForestClassifier()\n",
    "\n",
    "clf = Pipeline([('cv', cv), ('model', model)])\n",
    "clf.fit(X_train, y_train)\n",
    "y_pred = clf.predict(X_test)"
   ]
  },
  {
   "cell_type": "code",
   "execution_count": 163,
   "id": "6c5230f5",
   "metadata": {},
   "outputs": [
    {
     "name": "stdout",
     "output_type": "stream",
     "text": [
      "              precision    recall  f1-score   support\n",
      "\n",
      "    Negative       0.89      0.59      0.71       372\n",
      "     Neutral       0.78      0.95      0.86       715\n",
      "    Positive       0.91      0.89      0.90      1126\n",
      "\n",
      "    accuracy                           0.86      2213\n",
      "   macro avg       0.86      0.81      0.82      2213\n",
      "weighted avg       0.86      0.86      0.85      2213\n",
      "\n"
     ]
    }
   ],
   "source": [
    "print(classification_report(y_test, y_pred))"
   ]
  },
  {
   "cell_type": "code",
   "execution_count": 166,
   "id": "f855f3ab",
   "metadata": {},
   "outputs": [],
   "source": [
    "# Find the most positive and most negative tweet using Polarity Score"
   ]
  },
  {
   "cell_type": "code",
   "execution_count": 170,
   "id": "c75b26c9",
   "metadata": {},
   "outputs": [
    {
     "name": "stdout",
     "output_type": "stream",
     "text": [
      "3000    \"@JerryJrFalwell: A majority of evangelicals b...\n",
      "Name: Text, dtype: object\n",
      "4768    John Kasich, despite being Governor of Ohio, i...\n",
      "Name: Text, dtype: object\n"
     ]
    }
   ],
   "source": [
    "print(df.sort_values(by=['Polarity'], ascending=False).head(1)['Text'])\n",
    "print(df.sort_values(by=['Polarity'], ascending=True).head(1)['Text'])"
   ]
  },
  {
   "cell_type": "code",
   "execution_count": 171,
   "id": "712a5378",
   "metadata": {},
   "outputs": [],
   "source": [
    "# Find the Parts of Speech (POS) for the most positive and most negative tweet"
   ]
  },
  {
   "cell_type": "code",
   "execution_count": 174,
   "id": "ed50b75d",
   "metadata": {},
   "outputs": [
    {
     "data": {
      "text/plain": [
       "'Today we express our deepest gratitude to all those who have served in our armed forces. #ThankAVet https://t.co/wPk7QWpK8Z'"
      ]
     },
     "execution_count": 174,
     "metadata": {},
     "output_type": "execute_result"
    }
   ],
   "source": []
  },
  {
   "cell_type": "code",
   "execution_count": 175,
   "id": "40403aba",
   "metadata": {},
   "outputs": [
    {
     "name": "stdout",
     "output_type": "stream",
     "text": [
      "\"@JerryJrFalwell: A majority of evangelicals believe @realDonaldTrump is best equipped to save the country. #Greta\"\n",
      "John Kasich, despite being Governor of Ohio, is losing to me in the Ohio polls. Pathetic!\n"
     ]
    }
   ],
   "source": [
    "most_positive_comment = df.sort_values(by=['Polarity'], ascending=False)['Text'][3000]\n",
    "most_negative_comment = df.sort_values(by=['Polarity'], ascending=True)['Text'][4768]\n",
    "print(most_positive_comment)\n",
    "print(most_negative_comment)"
   ]
  },
  {
   "cell_type": "code",
   "execution_count": 176,
   "id": "74d6f42a",
   "metadata": {},
   "outputs": [
    {
     "data": {
      "text/plain": [
       "[('\"@JerryJrFalwell:', 'VB'),\n",
       " ('A', 'DT'),\n",
       " ('majority', 'NN'),\n",
       " ('of', 'IN'),\n",
       " ('evangelicals', 'NNS'),\n",
       " ('believe', 'VBP'),\n",
       " ('@realDonaldTrump', 'NN'),\n",
       " ('is', 'VBZ'),\n",
       " ('best', 'RBS'),\n",
       " ('equipped', 'VBN'),\n",
       " ('to', 'TO'),\n",
       " ('save', 'VB'),\n",
       " ('the', 'DT'),\n",
       " ('country.', 'NN'),\n",
       " ('#Greta\"', 'NN')]"
      ]
     },
     "execution_count": 176,
     "metadata": {},
     "output_type": "execute_result"
    }
   ],
   "source": [
    "import nltk\n",
    "\n",
    "nltk.pos_tag(most_positive_comment.split())"
   ]
  },
  {
   "cell_type": "code",
   "execution_count": 177,
   "id": "2254ea7c",
   "metadata": {},
   "outputs": [
    {
     "data": {
      "text/plain": [
       "[('John', 'NNP'),\n",
       " ('Kasich,', 'NNP'),\n",
       " ('despite', 'IN'),\n",
       " ('being', 'VBG'),\n",
       " ('Governor', 'NNP'),\n",
       " ('of', 'IN'),\n",
       " ('Ohio,', 'NNP'),\n",
       " ('is', 'VBZ'),\n",
       " ('losing', 'VBG'),\n",
       " ('to', 'TO'),\n",
       " ('me', 'PRP'),\n",
       " ('in', 'IN'),\n",
       " ('the', 'DT'),\n",
       " ('Ohio', 'NNP'),\n",
       " ('polls.', 'NN'),\n",
       " ('Pathetic!', 'NNP')]"
      ]
     },
     "execution_count": 177,
     "metadata": {},
     "output_type": "execute_result"
    }
   ],
   "source": [
    "nltk.pos_tag(most_negative_comment.split())"
   ]
  },
  {
   "cell_type": "code",
   "execution_count": 178,
   "id": "c8e76163",
   "metadata": {},
   "outputs": [],
   "source": [
    "# Apply Named Entity Recognition(NER) for most positive and most negative tweet and write your Inference"
   ]
  },
  {
   "cell_type": "code",
   "execution_count": 179,
   "id": "2ad0d8d2",
   "metadata": {},
   "outputs": [
    {
     "name": "stdout",
     "output_type": "stream",
     "text": [
      "Help on function ne_chunk in module nltk.chunk:\n",
      "\n",
      "ne_chunk(tagged_tokens, binary=False)\n",
      "    Use NLTK's currently recommended named entity chunker to\n",
      "    chunk the given list of tagged tokens.\n",
      "\n"
     ]
    }
   ],
   "source": [
    "help(nltk.ne_chunk)"
   ]
  },
  {
   "cell_type": "code",
   "execution_count": 183,
   "id": "964b6838",
   "metadata": {},
   "outputs": [
    {
     "name": "stderr",
     "output_type": "stream",
     "text": [
      "[nltk_data] Downloading package words to\n",
      "[nltk_data]     C:\\Users\\vlekkala\\AppData\\Roaming\\nltk_data...\n",
      "[nltk_data]   Package words is already up-to-date!\n"
     ]
    },
    {
     "data": {
      "text/plain": [
       "True"
      ]
     },
     "execution_count": 183,
     "metadata": {},
     "output_type": "execute_result"
    }
   ],
   "source": [
    "nltk.download('words')"
   ]
  },
  {
   "cell_type": "code",
   "execution_count": 185,
   "id": "9dc0d0d6",
   "metadata": {},
   "outputs": [
    {
     "name": "stdout",
     "output_type": "stream",
     "text": [
      "(S\n",
      "  \"@JerryJrFalwell:/VB\n",
      "  A/DT\n",
      "  majority/NN\n",
      "  of/IN\n",
      "  evangelicals/NNS\n",
      "  believe/VBP\n",
      "  @realDonaldTrump/NN\n",
      "  is/VBZ\n",
      "  best/RBS\n",
      "  equipped/VBN\n",
      "  to/TO\n",
      "  save/VB\n",
      "  the/DT\n",
      "  country./NN\n",
      "  #Greta\"/NN)\n"
     ]
    }
   ],
   "source": [
    "print(nltk.ne_chunk(nltk.pos_tag(most_positive_comment.split())))"
   ]
  },
  {
   "cell_type": "code",
   "execution_count": 186,
   "id": "295d046f",
   "metadata": {},
   "outputs": [
    {
     "name": "stdout",
     "output_type": "stream",
     "text": [
      "(S\n",
      "  (PERSON John/NNP)\n",
      "  Kasich,/NNP\n",
      "  despite/IN\n",
      "  being/VBG\n",
      "  Governor/NNP\n",
      "  of/IN\n",
      "  Ohio,/NNP\n",
      "  is/VBZ\n",
      "  losing/VBG\n",
      "  to/TO\n",
      "  me/PRP\n",
      "  in/IN\n",
      "  the/DT\n",
      "  (ORGANIZATION Ohio/NNP)\n",
      "  polls./NN\n",
      "  Pathetic!/NNP)\n"
     ]
    }
   ],
   "source": [
    "print(nltk.ne_chunk(nltk.pos_tag(most_negative_comment.split())))"
   ]
  },
  {
   "cell_type": "code",
   "execution_count": null,
   "id": "6b1678fa",
   "metadata": {},
   "outputs": [],
   "source": []
  }
 ],
 "metadata": {
  "kernelspec": {
   "display_name": "Python 3",
   "language": "python",
   "name": "python3"
  },
  "language_info": {
   "codemirror_mode": {
    "name": "ipython",
    "version": 3
   },
   "file_extension": ".py",
   "mimetype": "text/x-python",
   "name": "python",
   "nbconvert_exporter": "python",
   "pygments_lexer": "ipython3",
   "version": "3.8.8"
  }
 },
 "nbformat": 4,
 "nbformat_minor": 5
}
