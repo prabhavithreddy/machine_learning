{
 "cells": [
  {
   "cell_type": "markdown",
   "id": "078fd7fc",
   "metadata": {},
   "source": [
    "Chunking is also referred to as shallow parsing, which includes Parts-Of-Speec (POS) Tagging and adds more structure to the sentence. The result is a grouping of the words in \"chunks\""
   ]
  },
  {
   "cell_type": "markdown",
   "id": "efa6e3a4",
   "metadata": {},
   "source": [
    "Chinking helps us define, what we want to exclude from a chunk"
   ]
  },
  {
   "cell_type": "code",
   "execution_count": 1,
   "id": "0272f365",
   "metadata": {},
   "outputs": [
    {
     "name": "stderr",
     "output_type": "stream",
     "text": [
      "[nltk_data] Downloading package punkt to\n",
      "[nltk_data]     C:\\Users\\vlekkala\\AppData\\Roaming\\nltk_data...\n",
      "[nltk_data]   Package punkt is already up-to-date!\n"
     ]
    },
    {
     "data": {
      "text/plain": [
       "True"
      ]
     },
     "execution_count": 1,
     "metadata": {},
     "output_type": "execute_result"
    }
   ],
   "source": [
    "import nltk\n",
    "nltk.download('punkt')"
   ]
  },
  {
   "cell_type": "code",
   "execution_count": 2,
   "id": "642d9791",
   "metadata": {},
   "outputs": [],
   "source": [
    "from nltk.tokenize import word_tokenize, sent_tokenize"
   ]
  },
  {
   "cell_type": "code",
   "execution_count": 3,
   "id": "58484245",
   "metadata": {},
   "outputs": [],
   "source": [
    "# Question 1: Tokenize the sentence and extract the Part of Speech (POS)"
   ]
  },
  {
   "cell_type": "code",
   "execution_count": 4,
   "id": "edbf8113",
   "metadata": {},
   "outputs": [],
   "source": [
    "sent = \"You must now go right now.\""
   ]
  },
  {
   "cell_type": "code",
   "execution_count": 5,
   "id": "90bd2516",
   "metadata": {},
   "outputs": [],
   "source": [
    "from nltk import pos_tag"
   ]
  },
  {
   "cell_type": "code",
   "execution_count": 8,
   "id": "fb8398b0",
   "metadata": {},
   "outputs": [
    {
     "name": "stdout",
     "output_type": "stream",
     "text": [
      "You must not go right now.\n",
      "[('You', 'PRP'), ('must', 'MD'), ('not', 'RB'), ('go', 'VB'), ('right', 'RB'), ('now', 'RB'), ('.', '.')]\n",
      "You can't eat that!\n",
      "[('You', 'PRP'), ('ca', 'MD'), (\"n't\", 'RB'), ('eat', 'VB'), ('that', 'DT'), ('!', '.')]\n",
      "My mother is fixing us some dinner\n",
      "[('My', 'PRP$'), ('mother', 'NN'), ('is', 'VBZ'), ('fixing', 'VBG'), ('us', 'PRP'), ('some', 'DT'), ('dinner', 'NN')]\n",
      "Words were spoken.\n",
      "[('Words', 'NNS'), ('were', 'VBD'), ('spoken', 'VBN'), ('.', '.')]\n",
      "These cards may be worth hundreds of dollars!\n",
      "[('These', 'DT'), ('cards', 'NNS'), ('may', 'MD'), ('be', 'VB'), ('worth', 'JJ'), ('hundreds', 'NNS'), ('of', 'IN'), ('dollars', 'NNS'), ('!', '.')]\n",
      "The teacher is writing a report\n",
      "[('The', 'DT'), ('teacher', 'NN'), ('is', 'VBZ'), ('writing', 'VBG'), ('a', 'DT'), ('report', 'NN')]\n",
      "You have woken up everyone in the neighborhood\n",
      "[('You', 'PRP'), ('have', 'VBP'), ('woken', 'VBN'), ('up', 'RP'), ('everyone', 'NN'), ('in', 'IN'), ('the', 'DT'), ('neighborhood', 'NN')]\n"
     ]
    }
   ],
   "source": [
    "sents = ['You must not go right now.', \n",
    "         \"You can't eat that!\", \n",
    "         \"My mother is fixing us some dinner\", \n",
    "         \"Words were spoken.\",\n",
    "        \"These cards may be worth hundreds of dollars!\",\n",
    "        \"The teacher is writing a report\",\n",
    "        \"You have woken up everyone in the neighborhood\"]\n",
    "\n",
    "for sent in sents:\n",
    "    print(sent)\n",
    "    words = word_tokenize(sent)\n",
    "    print(pos_tag(words))"
   ]
  },
  {
   "cell_type": "code",
   "execution_count": 9,
   "id": "f99a538a",
   "metadata": {},
   "outputs": [],
   "source": [
    "# Question 2: Define a Grammar for a verb phrase that begins with a preposition and then have any number of verbs followed by the\n",
    "#adverbs"
   ]
  },
  {
   "cell_type": "code",
   "execution_count": 10,
   "id": "42bd057c",
   "metadata": {},
   "outputs": [],
   "source": [
    "grammar_vp = r\"vp: {<PRP>?<VB|VBD|VBZ|VBG>*<RB|RBR>?}\""
   ]
  },
  {
   "cell_type": "code",
   "execution_count": 11,
   "id": "0b520430",
   "metadata": {},
   "outputs": [],
   "source": [
    "# Question 3: Define a Chunk Parser and then, pass the verb phrase string to it and then, use the parse() function to parse\n",
    "# the given sentence and display the result"
   ]
  },
  {
   "cell_type": "code",
   "execution_count": 12,
   "id": "c8bf9199",
   "metadata": {},
   "outputs": [],
   "source": [
    "from nltk import RegexpParser as regex_parser"
   ]
  },
  {
   "cell_type": "code",
   "execution_count": 13,
   "id": "38b290c8",
   "metadata": {},
   "outputs": [],
   "source": [
    "chunk_parser = regex_parser(grammar_vp)"
   ]
  },
  {
   "cell_type": "code",
   "execution_count": 17,
   "id": "8682dae0",
   "metadata": {},
   "outputs": [
    {
     "name": "stdout",
     "output_type": "stream",
     "text": [
      "(S\n",
      "  (vp You/PRP)\n",
      "  must/MD\n",
      "  (vp not/RB)\n",
      "  (vp go/VB right/RB)\n",
      "  (vp now/RB)\n",
      "  ./.)\n"
     ]
    }
   ],
   "source": [
    "sent_tokens = pos_tag(word_tokenize(sents[0]))\n",
    "chunk_result = chunk_parser.parse(sent_tokens)\n",
    "print(chunk_result)"
   ]
  },
  {
   "cell_type": "code",
   "execution_count": 18,
   "id": "7b9265bd",
   "metadata": {},
   "outputs": [],
   "source": [
    "# Question 4: Parse teh Chinking Grammar to the RegexParser and then, pass the given sentence it to display the result"
   ]
  },
  {
   "cell_type": "code",
   "execution_count": 21,
   "id": "03171a5c",
   "metadata": {},
   "outputs": [
    {
     "name": "stdout",
     "output_type": "stream",
     "text": [
      "(S\n",
      "  You/PRP\n",
      "  must/MD\n",
      "  (chk_name not/RB)\n",
      "  (chk_name go/VB right/RB)\n",
      "  (chk_name now/RB)\n",
      "  ./.)\n"
     ]
    }
   ],
   "source": [
    "chink_grammar = r\"\"\"\n",
    "chk_name: #chunk name\n",
    "{<PRP>?<VB|VBD|VBZ>*<RB|RBR>?} #chunk regex sequence\n",
    "}<PRP>+{ #chink regex sequence}\n",
    "\"\"\"\n",
    "chink_parser = nltk.RegexpParser(chink_grammar)\n",
    "print(chink_parser.parse(sent_tokens))"
   ]
  },
  {
   "cell_type": "code",
   "execution_count": null,
   "id": "6571ea05",
   "metadata": {},
   "outputs": [],
   "source": []
  }
 ],
 "metadata": {
  "kernelspec": {
   "display_name": "Python 3",
   "language": "python",
   "name": "python3"
  },
  "language_info": {
   "codemirror_mode": {
    "name": "ipython",
    "version": 3
   },
   "file_extension": ".py",
   "mimetype": "text/x-python",
   "name": "python",
   "nbconvert_exporter": "python",
   "pygments_lexer": "ipython3",
   "version": "3.8.8"
  }
 },
 "nbformat": 4,
 "nbformat_minor": 5
}
