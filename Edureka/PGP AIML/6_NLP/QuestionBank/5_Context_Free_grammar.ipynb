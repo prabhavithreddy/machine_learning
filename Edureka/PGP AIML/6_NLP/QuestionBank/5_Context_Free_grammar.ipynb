{
 "cells": [
  {
   "cell_type": "markdown",
   "id": "e7c5295c",
   "metadata": {},
   "source": [
    "Context Free Grammar"
   ]
  },
  {
   "cell_type": "code",
   "execution_count": 3,
   "id": "e13f5aaf",
   "metadata": {},
   "outputs": [],
   "source": [
    "#!wget -O Book1.xlsx https://www.dropbox.com/s/frf1gdsl2vcrrrw/Book1.xlsx --no-check-certificate"
   ]
  },
  {
   "cell_type": "code",
   "execution_count": 4,
   "id": "eca11acd",
   "metadata": {},
   "outputs": [
    {
     "data": {
      "text/html": [
       "<div>\n",
       "<style scoped>\n",
       "    .dataframe tbody tr th:only-of-type {\n",
       "        vertical-align: middle;\n",
       "    }\n",
       "\n",
       "    .dataframe tbody tr th {\n",
       "        vertical-align: top;\n",
       "    }\n",
       "\n",
       "    .dataframe thead th {\n",
       "        text-align: right;\n",
       "    }\n",
       "</style>\n",
       "<table border=\"1\" class=\"dataframe\">\n",
       "  <thead>\n",
       "    <tr style=\"text-align: right;\">\n",
       "      <th></th>\n",
       "      <th>sentences</th>\n",
       "    </tr>\n",
       "  </thead>\n",
       "  <tbody>\n",
       "    <tr>\n",
       "      <th>0</th>\n",
       "      <td>Ronak saw a Boat</td>\n",
       "    </tr>\n",
       "    <tr>\n",
       "      <th>1</th>\n",
       "      <td>Aditi saw a Dog</td>\n",
       "    </tr>\n",
       "    <tr>\n",
       "      <th>2</th>\n",
       "      <td>Devanshu saw an Airplane</td>\n",
       "    </tr>\n",
       "    <tr>\n",
       "      <th>3</th>\n",
       "      <td>Raj saw a very big car</td>\n",
       "    </tr>\n",
       "    <tr>\n",
       "      <th>4</th>\n",
       "      <td>Divyam saw a Sheep</td>\n",
       "    </tr>\n",
       "  </tbody>\n",
       "</table>\n",
       "</div>"
      ],
      "text/plain": [
       "                  sentences\n",
       "0         Ronak saw a Boat \n",
       "1           Aditi saw a Dog\n",
       "2  Devanshu saw an Airplane\n",
       "3    Raj saw a very big car\n",
       "4        Divyam saw a Sheep"
      ]
     },
     "execution_count": 4,
     "metadata": {},
     "output_type": "execute_result"
    }
   ],
   "source": [
    "import pandas as pd\n",
    "df = pd.read_excel('Book1.xlsx')\n",
    "df.head()"
   ]
  },
  {
   "cell_type": "code",
   "execution_count": 5,
   "id": "fb7409a6",
   "metadata": {},
   "outputs": [],
   "source": [
    "from nltk.parse.generate import generate, demo_grammar\n",
    "from nltk import CFG"
   ]
  },
  {
   "cell_type": "code",
   "execution_count": 6,
   "id": "a1c3dd61",
   "metadata": {},
   "outputs": [],
   "source": [
    "# Question 1: Define a function that takes an input sentence and tokenizes and pos tag it and then define CFG for the same to generate sentences"
   ]
  },
  {
   "cell_type": "code",
   "execution_count": 11,
   "id": "c0be9ce3",
   "metadata": {},
   "outputs": [],
   "source": [
    "import nltk\n",
    "from nltk.tokenize import word_tokenize\n",
    "def cfg_parse(sentence):\n",
    "    print(\"Original Sentence:\", sentence)\n",
    "    sent_tk = nltk.pos_tag(word_tokenize(sentence))\n",
    "    print(\"Tokenizing & POS Tagging the Sentence:\", sent_tk)\n",
    "    print(\"Results after Automatic Text Paraphrasing\")\n",
    "    for one in sent_tk:\n",
    "        if one[1] == 'NNP':\n",
    "            s_NP = \"\\'\" + one[0] + \"\\'\"\n",
    "        if one[1] == 'VBD' or one[1] == 'VBN':\n",
    "            s_V = \"\\'\" + one[0] + \"\\'\"\n",
    "        if one[1] == 'NN':\n",
    "            s_N = \"\\'\" + one[0] + \"\\'\"\n",
    "            \n",
    "        else: pass\n",
    "    cfg_grammar2 = nltk.CFG.fromstring(\"\"\"\n",
    "    S -> NP VP\n",
    "    \n",
    "    VP -> V N\n",
    "    NP -> {}\n",
    "    V -> {}\n",
    "    N -> {}\n",
    "    \n",
    "    \"\"\".format(s_NP, s_V, s_N))\n",
    "    for sentence in generate(cfg_grammar2):\n",
    "        print(\" \".join(sentence))\n",
    "    return\n",
    "        "
   ]
  },
  {
   "cell_type": "code",
   "execution_count": 12,
   "id": "eb2d50f1",
   "metadata": {},
   "outputs": [
    {
     "name": "stdout",
     "output_type": "stream",
     "text": [
      "Original Sentence: Ronak saw a Boat \n",
      "Tokenizing & POS Tagging the Sentence: [('Ronak', 'NNP'), ('saw', 'VBD'), ('a', 'DT'), ('Boat', 'NN')]\n",
      "Results after Automatic Text Paraphrasing\n",
      "Ronak saw Boat\n",
      "Original Sentence: Aditi saw a Dog\n",
      "Tokenizing & POS Tagging the Sentence: [('Aditi', 'NNP'), ('saw', 'VBD'), ('a', 'DT'), ('Dog', 'NN')]\n",
      "Results after Automatic Text Paraphrasing\n",
      "Aditi saw Dog\n",
      "Original Sentence: Devanshu saw an Airplane\n",
      "Tokenizing & POS Tagging the Sentence: [('Devanshu', 'NNP'), ('saw', 'VBD'), ('an', 'DT'), ('Airplane', 'NN')]\n",
      "Results after Automatic Text Paraphrasing\n",
      "Devanshu saw Airplane\n",
      "Original Sentence: Raj saw a very big car\n",
      "Tokenizing & POS Tagging the Sentence: [('Raj', 'NNP'), ('saw', 'VBD'), ('a', 'DT'), ('very', 'RB'), ('big', 'JJ'), ('car', 'NN')]\n",
      "Results after Automatic Text Paraphrasing\n",
      "Raj saw car\n",
      "Original Sentence: Divyam saw a Sheep\n",
      "Tokenizing & POS Tagging the Sentence: [('Divyam', 'NNP'), ('saw', 'VBD'), ('a', 'DT'), ('Sheep', 'NN')]\n",
      "Results after Automatic Text Paraphrasing\n",
      "Divyam saw Sheep\n",
      "Original Sentence: Raj saw a mouse there\n",
      "Tokenizing & POS Tagging the Sentence: [('Raj', 'NNP'), ('saw', 'VBD'), ('a', 'DT'), ('mouse', 'NN'), ('there', 'EX')]\n",
      "Results after Automatic Text Paraphrasing\n",
      "Raj saw mouse\n",
      "Original Sentence: Mike saw an animal\n",
      "Tokenizing & POS Tagging the Sentence: [('Mike', 'NNP'), ('saw', 'VBD'), ('an', 'DT'), ('animal', 'NN')]\n",
      "Results after Automatic Text Paraphrasing\n",
      "Mike saw animal\n"
     ]
    }
   ],
   "source": [
    "# Question 2:\n",
    "# Loop through the Dataset and generate sentences using the cfg_parser function\n",
    "\n",
    "for i in df.sentences:\n",
    "    cfg_parse(i)"
   ]
  },
  {
   "cell_type": "code",
   "execution_count": null,
   "id": "9f818a36",
   "metadata": {},
   "outputs": [],
   "source": []
  }
 ],
 "metadata": {
  "kernelspec": {
   "display_name": "Python 3",
   "language": "python",
   "name": "python3"
  },
  "language_info": {
   "codemirror_mode": {
    "name": "ipython",
    "version": 3
   },
   "file_extension": ".py",
   "mimetype": "text/x-python",
   "name": "python",
   "nbconvert_exporter": "python",
   "pygments_lexer": "ipython3",
   "version": "3.8.8"
  }
 },
 "nbformat": 4,
 "nbformat_minor": 5
}
