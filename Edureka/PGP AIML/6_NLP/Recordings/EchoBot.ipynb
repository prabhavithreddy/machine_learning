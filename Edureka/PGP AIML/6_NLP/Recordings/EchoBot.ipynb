{
 "cells": [
  {
   "cell_type": "markdown",
   "id": "6d896f10",
   "metadata": {},
   "source": [
    "### ECHO BOT\n",
    "    - Echo Bot responds by replying with the same message it has received giving the illusion that it follow your \n",
    "        conversation"
   ]
  },
  {
   "cell_type": "code",
   "execution_count": 1,
   "id": "0c0d60bd",
   "metadata": {},
   "outputs": [],
   "source": [
    "bot_template = \"BOT: {0}\"\n",
    "user_template = \"USER: {0}\"\n",
    "\n",
    "# define a function that responds to the user message: respond\n",
    "def respond(message):\n",
    "    #concatenate the user message to the end of a standard Bot message \n",
    "    bot_message = \"I can hear you! you said: \"+message\n",
    "    return bot_message"
   ]
  },
  {
   "cell_type": "code",
   "execution_count": 2,
   "id": "4106fb45",
   "metadata": {},
   "outputs": [
    {
     "data": {
      "text/plain": [
       "'I can hear you! you said: Hello!'"
      ]
     },
     "execution_count": 2,
     "metadata": {},
     "output_type": "execute_result"
    }
   ],
   "source": [
    "respond('Hello!')"
   ]
  },
  {
   "cell_type": "code",
   "execution_count": 3,
   "id": "a7dc3ddb",
   "metadata": {},
   "outputs": [],
   "source": [
    "# define a function that sends a message to the BOT; send_message\n",
    "def send_message(message):\n",
    "    # print the user template including user message \n",
    "    print(user_template.format(message))\n",
    "    # get the bots response to the message\n",
    "    response = respond(message)\n",
    "    print(bot_template.format(response))"
   ]
  },
  {
   "cell_type": "code",
   "execution_count": 4,
   "id": "b6749ee3",
   "metadata": {},
   "outputs": [
    {
     "name": "stdout",
     "output_type": "stream",
     "text": [
      "USER: Hi How are you?\n",
      "BOT: I can hear you! you said: Hi How are you?\n"
     ]
    }
   ],
   "source": [
    "# send message to the bot \n",
    "send_message('Hi How are you?')"
   ]
  },
  {
   "cell_type": "code",
   "execution_count": 5,
   "id": "f7fa7357",
   "metadata": {},
   "outputs": [
    {
     "name": "stdout",
     "output_type": "stream",
     "text": [
      "USER: Heeyaah...\n",
      "BOT: I can hear you! you said: Heeyaah...\n"
     ]
    }
   ],
   "source": [
    "# send another message\n",
    "send_message('Heeyaah...')"
   ]
  },
  {
   "cell_type": "markdown",
   "id": "f8b4e313",
   "metadata": {},
   "source": [
    "### SMALL TALK"
   ]
  },
  {
   "cell_type": "code",
   "execution_count": 7,
   "id": "749e74fb",
   "metadata": {},
   "outputs": [],
   "source": [
    "responses = {\n",
    "    \"What's your name?\": \"My name is ECHOBOT\",\n",
    "    \"What's the weather like today?\": \"It's sunny\"\n",
    "}\n",
    "\n",
    "def respond(message):\n",
    "    if message in responses:\n",
    "        return responses[message]\n",
    "    else:\n",
    "        return \"Did not get you!\""
   ]
  },
  {
   "cell_type": "code",
   "execution_count": 9,
   "id": "1d2e6487",
   "metadata": {},
   "outputs": [
    {
     "name": "stdout",
     "output_type": "stream",
     "text": [
      "USER: What's your name?\n",
      "BOT: My name is ECHOBOT\n"
     ]
    }
   ],
   "source": [
    "# test the respond function\n",
    "send_message(\"What's your name?\")"
   ]
  },
  {
   "cell_type": "code",
   "execution_count": 10,
   "id": "60a7bf8e",
   "metadata": {},
   "outputs": [],
   "source": [
    "# Note: soon this type of response becomes boring, so we add some randomness to the answers"
   ]
  },
  {
   "cell_type": "code",
   "execution_count": 26,
   "id": "305c661b",
   "metadata": {},
   "outputs": [],
   "source": [
    "import numpy as np\n",
    "responses = {\n",
    "    \"What's your name?\": [\"My name is ECHOBOT\", \"It is ECHOBOT\", \"ECHOBOT is the name\"],\n",
    "    \"What's the weather like today?\": [\"It's sunny\", \"It's raining\", \"It's humid\"]\n",
    "}\n",
    "def respond(message):\n",
    "    if message in responses:\n",
    "        return responses[message][np.random.randint(0,len(responses[message]))]\n",
    "    else:\n",
    "        return \"Did not get you!\""
   ]
  },
  {
   "cell_type": "code",
   "execution_count": 27,
   "id": "01d82da7",
   "metadata": {},
   "outputs": [
    {
     "name": "stdout",
     "output_type": "stream",
     "text": [
      "USER: What's your name?\n",
      "BOT: It is ECHOBOT\n"
     ]
    }
   ],
   "source": [
    "send_message(\"What's your name?\")"
   ]
  },
  {
   "cell_type": "code",
   "execution_count": 37,
   "id": "c4dcf37b",
   "metadata": {},
   "outputs": [
    {
     "name": "stdout",
     "output_type": "stream",
     "text": [
      "USER: What's the weather like today?\n",
      "BOT: It's sunny\n"
     ]
    }
   ],
   "source": [
    "send_message(\"What's the weather like today?\")"
   ]
  },
  {
   "cell_type": "markdown",
   "id": "1655bbd8",
   "metadata": {},
   "source": [
    "## ELIZA STYLE BOT"
   ]
  },
  {
   "cell_type": "code",
   "execution_count": 46,
   "id": "7e2d1952",
   "metadata": {},
   "outputs": [],
   "source": [
    "import random\n",
    "responses = {\n",
    "    \"question\": [\"I don't know:\", \"you tell me\"],\n",
    "    \"statement\": [\"tell me more!\", \"why do you think that?\", \n",
    "                  \"How long you felt that way\", \"I find that extremely interesting\",\n",
    "                 \"Can you back that up\", \"Oh wow!\"]\n",
    "}\n",
    "def respond(message):\n",
    "    # check if there is question mark\n",
    "    if message.endswith('?'):\n",
    "        return random.choices(responses['question'])\n",
    "    else:\n",
    "        return random.choices(responses['statement'])"
   ]
  },
  {
   "cell_type": "code",
   "execution_count": 47,
   "id": "acd52d02",
   "metadata": {},
   "outputs": [
    {
     "name": "stdout",
     "output_type": "stream",
     "text": [
      "USER: What's the weather like today?\n",
      "BOT: ['you tell me']\n",
      "None\n",
      "USER: Who won the recent cricket one day series?\n",
      "BOT: ['you tell me']\n",
      "None\n"
     ]
    }
   ],
   "source": [
    "print(send_message(\"What's the weather like today?\"))\n",
    "print(send_message(\"Who won the recent cricket one day series?\"))"
   ]
  },
  {
   "cell_type": "markdown",
   "id": "b617ab6f",
   "metadata": {},
   "source": [
    "### add the pronouns swapping\n",
    "    to make responses graaticallh correct transform the extracted phrases from first to second person and vice versa\n",
    "    \n",
    "    me-you\n",
    "    my-your\n",
    "    your-my\n",
    "    you-me"
   ]
  },
  {
   "cell_type": "code",
   "execution_count": 50,
   "id": "0907b8bb",
   "metadata": {},
   "outputs": [],
   "source": [
    "import re\n",
    "\n",
    "def replace_pronouns(message):\n",
    "    message=message.lower()\n",
    "    \n",
    "    if 'me' in message:\n",
    "        return re.sub('me', 'you', message)\n",
    "    if 'my' in message:\n",
    "        return re.sub('my', 'your', message)\n",
    "    if 'your' in message:\n",
    "        return re.sub('your', 'my', message)\n",
    "    if 'you' in message:\n",
    "        return re.sub('you', 'I', message)"
   ]
  },
  {
   "cell_type": "code",
   "execution_count": 52,
   "id": "ee793ba9",
   "metadata": {},
   "outputs": [
    {
     "name": "stdout",
     "output_type": "stream",
     "text": [
      "when I went to florida\n",
      "i have your own castle\n"
     ]
    }
   ],
   "source": [
    "# test the replace pronouns\n",
    "\n",
    "print(replace_pronouns(\"When you went to Florida\"))\n",
    "print(replace_pronouns(\"I have my own castle\"))"
   ]
  },
  {
   "cell_type": "code",
   "execution_count": null,
   "id": "43a6121d",
   "metadata": {},
   "outputs": [],
   "source": []
  }
 ],
 "metadata": {
  "kernelspec": {
   "display_name": "Python 3",
   "language": "python",
   "name": "python3"
  },
  "language_info": {
   "codemirror_mode": {
    "name": "ipython",
    "version": 3
   },
   "file_extension": ".py",
   "mimetype": "text/x-python",
   "name": "python",
   "nbconvert_exporter": "python",
   "pygments_lexer": "ipython3",
   "version": "3.8.8"
  }
 },
 "nbformat": 4,
 "nbformat_minor": 5
}
