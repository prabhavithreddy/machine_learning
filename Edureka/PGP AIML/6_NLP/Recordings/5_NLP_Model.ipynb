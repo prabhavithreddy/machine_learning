{
 "cells": [
  {
   "cell_type": "markdown",
   "id": "5baa6b2b",
   "metadata": {},
   "source": [
    "### Steps for building a NLP model\n",
    "    1. Import the libraries\n",
    "    2. Import the data\n",
    "    3. Preprocess the data\n",
    "    4. Get the bag of words model\n",
    "    5. Do the train test split\n",
    "    6. Train the naive bayes model on the training data\n",
    "    7. Evaluate on the test set"
   ]
  },
  {
   "cell_type": "code",
   "execution_count": 1,
   "id": "8cff790c",
   "metadata": {},
   "outputs": [],
   "source": [
    "# Review Sentiment Classification using NLTK"
   ]
  },
  {
   "cell_type": "code",
   "execution_count": 9,
   "id": "b7f8d05f",
   "metadata": {},
   "outputs": [],
   "source": [
    "import pandas as pd\n",
    "import numpy as np\n",
    "import matplotlib.pyplot as plt\n",
    "import seaborn as sns\n",
    "from nltk.tokenize import word_tokenize, sent_tokenize\n",
    "from nltk.corpus import stopwords\n",
    "from nltk.stem import WordNetLemmatizer\n",
    "from collections import Counter"
   ]
  },
  {
   "cell_type": "code",
   "execution_count": 10,
   "id": "ae6647ad",
   "metadata": {},
   "outputs": [
    {
     "data": {
      "text/html": [
       "<div>\n",
       "<style scoped>\n",
       "    .dataframe tbody tr th:only-of-type {\n",
       "        vertical-align: middle;\n",
       "    }\n",
       "\n",
       "    .dataframe tbody tr th {\n",
       "        vertical-align: top;\n",
       "    }\n",
       "\n",
       "    .dataframe thead th {\n",
       "        text-align: right;\n",
       "    }\n",
       "</style>\n",
       "<table border=\"1\" class=\"dataframe\">\n",
       "  <thead>\n",
       "    <tr style=\"text-align: right;\">\n",
       "      <th></th>\n",
       "      <th>review</th>\n",
       "      <th>sentiment</th>\n",
       "    </tr>\n",
       "  </thead>\n",
       "  <tbody>\n",
       "    <tr>\n",
       "      <th>21066</th>\n",
       "      <td>What a loss the passing of director Emile Ardo...</td>\n",
       "      <td>positive</td>\n",
       "    </tr>\n",
       "    <tr>\n",
       "      <th>34437</th>\n",
       "      <td>The idea of young girl, who gets pregnant at t...</td>\n",
       "      <td>positive</td>\n",
       "    </tr>\n",
       "    <tr>\n",
       "      <th>32807</th>\n",
       "      <td>I will give it a second chance but was very di...</td>\n",
       "      <td>negative</td>\n",
       "    </tr>\n",
       "    <tr>\n",
       "      <th>25502</th>\n",
       "      <td>I usually steer clear of TV movies because of ...</td>\n",
       "      <td>positive</td>\n",
       "    </tr>\n",
       "    <tr>\n",
       "      <th>44237</th>\n",
       "      <td>I love the premise, but it's replay value is o...</td>\n",
       "      <td>positive</td>\n",
       "    </tr>\n",
       "  </tbody>\n",
       "</table>\n",
       "</div>"
      ],
      "text/plain": [
       "                                                  review sentiment\n",
       "21066  What a loss the passing of director Emile Ardo...  positive\n",
       "34437  The idea of young girl, who gets pregnant at t...  positive\n",
       "32807  I will give it a second chance but was very di...  negative\n",
       "25502  I usually steer clear of TV movies because of ...  positive\n",
       "44237  I love the premise, but it's replay value is o...  positive"
      ]
     },
     "execution_count": 10,
     "metadata": {},
     "output_type": "execute_result"
    }
   ],
   "source": [
    "df = pd.read_csv(\"../IMDB Dataset.csv\").sample(768)\n",
    "df.head()"
   ]
  },
  {
   "cell_type": "code",
   "execution_count": 11,
   "id": "37d84f00",
   "metadata": {},
   "outputs": [
    {
     "data": {
      "text/html": [
       "<div>\n",
       "<style scoped>\n",
       "    .dataframe tbody tr th:only-of-type {\n",
       "        vertical-align: middle;\n",
       "    }\n",
       "\n",
       "    .dataframe tbody tr th {\n",
       "        vertical-align: top;\n",
       "    }\n",
       "\n",
       "    .dataframe thead th {\n",
       "        text-align: right;\n",
       "    }\n",
       "</style>\n",
       "<table border=\"1\" class=\"dataframe\">\n",
       "  <thead>\n",
       "    <tr style=\"text-align: right;\">\n",
       "      <th></th>\n",
       "      <th>review</th>\n",
       "      <th>sentiment</th>\n",
       "    </tr>\n",
       "  </thead>\n",
       "  <tbody>\n",
       "    <tr>\n",
       "      <th>21066</th>\n",
       "      <td>What a loss the passing of director Emile Ardo...</td>\n",
       "      <td>1</td>\n",
       "    </tr>\n",
       "    <tr>\n",
       "      <th>34437</th>\n",
       "      <td>The idea of young girl, who gets pregnant at t...</td>\n",
       "      <td>1</td>\n",
       "    </tr>\n",
       "    <tr>\n",
       "      <th>32807</th>\n",
       "      <td>I will give it a second chance but was very di...</td>\n",
       "      <td>0</td>\n",
       "    </tr>\n",
       "    <tr>\n",
       "      <th>25502</th>\n",
       "      <td>I usually steer clear of TV movies because of ...</td>\n",
       "      <td>1</td>\n",
       "    </tr>\n",
       "    <tr>\n",
       "      <th>44237</th>\n",
       "      <td>I love the premise, but it's replay value is o...</td>\n",
       "      <td>1</td>\n",
       "    </tr>\n",
       "  </tbody>\n",
       "</table>\n",
       "</div>"
      ],
      "text/plain": [
       "                                                  review  sentiment\n",
       "21066  What a loss the passing of director Emile Ardo...          1\n",
       "34437  The idea of young girl, who gets pregnant at t...          1\n",
       "32807  I will give it a second chance but was very di...          0\n",
       "25502  I usually steer clear of TV movies because of ...          1\n",
       "44237  I love the premise, but it's replay value is o...          1"
      ]
     },
     "execution_count": 11,
     "metadata": {},
     "output_type": "execute_result"
    }
   ],
   "source": [
    "from sklearn.preprocessing import LabelEncoder\n",
    "le = LabelEncoder()\n",
    "\n",
    "df['sentiment'] = le.fit_transform(df['sentiment'])\n",
    "df.head()"
   ]
  },
  {
   "cell_type": "code",
   "execution_count": 12,
   "id": "81d1f5f3",
   "metadata": {},
   "outputs": [
    {
     "data": {
      "text/plain": [
       "(768, 2)"
      ]
     },
     "execution_count": 12,
     "metadata": {},
     "output_type": "execute_result"
    }
   ],
   "source": [
    "df.shape"
   ]
  },
  {
   "cell_type": "code",
   "execution_count": 13,
   "id": "7d42cac5",
   "metadata": {},
   "outputs": [
    {
     "name": "stdout",
     "output_type": "stream",
     "text": [
      "<class 'pandas.core.frame.DataFrame'>\n",
      "Int64Index: 768 entries, 21066 to 28486\n",
      "Data columns (total 2 columns):\n",
      " #   Column     Non-Null Count  Dtype \n",
      "---  ------     --------------  ----- \n",
      " 0   review     768 non-null    object\n",
      " 1   sentiment  768 non-null    int32 \n",
      "dtypes: int32(1), object(1)\n",
      "memory usage: 15.0+ KB\n"
     ]
    }
   ],
   "source": [
    "df.info()"
   ]
  },
  {
   "cell_type": "code",
   "execution_count": 14,
   "id": "573275d3",
   "metadata": {},
   "outputs": [
    {
     "data": {
      "text/plain": [
       "0    403\n",
       "1    365\n",
       "Name: sentiment, dtype: int64"
      ]
     },
     "execution_count": 14,
     "metadata": {},
     "output_type": "execute_result"
    }
   ],
   "source": [
    "df['sentiment'].value_counts()"
   ]
  },
  {
   "cell_type": "code",
   "execution_count": 18,
   "id": "bb636753",
   "metadata": {},
   "outputs": [
    {
     "name": "stderr",
     "output_type": "stream",
     "text": [
      "[nltk_data] Downloading package wordnet to\n",
      "[nltk_data]     C:\\Users\\vlekkala\\AppData\\Roaming\\nltk_data...\n",
      "[nltk_data]   Package wordnet is already up-to-date!\n"
     ]
    }
   ],
   "source": [
    "# Cleaning the data \n",
    "import nltk\n",
    "nltk.download('wordnet')\n",
    "corpus = []\n",
    "\n",
    "for i in range(len(df)):\n",
    "    tokens = word_tokenize(df.iloc[i, 0])\n",
    "    lower = [l.lower() for l in tokens]\n",
    "    alphas = [t for t in lower if t.isalpha()]\n",
    "    stops = [t for t in alphas if t not in stopwords.words('english')]\n",
    "    wordnet = WordNetLemmatizer()\n",
    "    lemmatized = [wordnet.lemmatize(t) for t in stops]\n",
    "    review = ' '.join(lemmatized)\n",
    "    corpus.append(review)"
   ]
  },
  {
   "cell_type": "code",
   "execution_count": 19,
   "id": "0f4d9418",
   "metadata": {
    "scrolled": true
   },
   "outputs": [
    {
     "data": {
      "text/plain": [
       "['loss passing director emile ardolino could take light script right casting editing put twinkle make shine like star particular star may brightest sky great romance go definitely one keep tuned end really want know thing going work br br script perfect cybill shepherd time needed capitalize moonlighting success new generation fortunately probably unaware many big screen major dud promising start film every bit back form widow living vicariously daughter mary stuart masterson cusp stardom would peak fried green tomato two year later may looked young role work well way story unfolds film overstep bound br br shepherd graciously allows robert downey carry much film show mature comic flair previous film point ample support ryan best role year christopher macdonald masterson natural charm pretty much coast either way making character seem like breath fresh air every br br ardolino make good use cast sex appeal way dirty dancing film quite sizzling could still watch parent happened room use best judgment parent give film high mark user friendly romantic comedy enthusiast find sublime watching along find plenty humor enjoy br br credit go emile ardolino making charming script randy perry howze ardolino next film would sequel three men baby final theatrical release sister act would finally give smash hit deserved ardolino cinematic touch missed',\n",
       " 'idea young girl get pregnant age nothing new drama genre pretty new take look comedy genre basic plot lorelai rory mother daughter lorelai come wealthy background got pregnant ran away parent house series start start rory everything problem single mother terrible problem parent problem br br okay sound pretty normal little thing called joke gilmore girl talk incredibly fast make like joke minute even understand joke since contain hundred reference film music gossip history literature politics sometimes even get confused really fun fast smart wonderfully sarcastic addition funny great drama part take lesson even home thing go every single br br watch lighten mood help hard decision',\n",
       " 'give second chance disappointed first one would hold candle series lot meaningless dialog add storyline agree others seem develop story interesting slow plodding know comanche planning maybe tie together second installment going force watch find apache heritage mexico area recognize much happening maybe ignorant fact much educate',\n",
       " 'usually steer clear tv movie many way know tv movie five second picture one got attention unusual title gloomy mood established start ever present rain confirmed suspicion misplaced story even claiming set california movie largely shot around stormy vancouver dark oppressive outdoors beautifully complement olmos excellent acting',\n",
       " 'love premise replay value certain part opening scene course character bit outrageous entertaining none le think ballping pushing know show nick casey living foul la show casey quit lifestyle think flashback story could better also jamaican guy rapping phone clever entertaining think story told sloppy really seems unbelievable actually believe swordfish movie wood written part thursday government keep secret time organization set public never know br br thursday best quentinesque movie seen think wood imaginative clever witt however work need maturation even get natural born killer script stone movie level old anyway',\n",
       " 'bored one night red eye thought br br red eye one best movie long br br mean got movie cause br br story new br br movie also two great lead movie rachel mcadams lisa reisert cillian murphy jackson br br acting brilliant get feel people br br music excellent give chill also make feel br br love movie well done never get br br red eye phenomenal nothing nothing br br excellent br br overall enjoy red eye much watch br br like red eye recommend elektra cry br br give red eye br br great movie',\n",
       " 'tried watch film time ca get past fact everything awful sure courageous move somebody cast jack palance protagonist one single fiber belief could act much le act br br yes understand clifford odets brilliant author evident odd forced hipster dialog seems obfuscate genuine meaning explains none actor even good one steiger ida lupino shelly winter everett sloane seems know deliver line though understand meaning saying meantime wendell corey palance stage terrific contest see br br direction amateurish completely overwrought physical interaction character stilted br br discus hideous set busy ugly contrived add robotic disconnected quality character dialog br br film seems suck energy right look like everybody took overdose valium morning arrived set take pretty lousy movie make rod steiger shelly winter look bad one br br see might effective play broadway intellectual beat could congratulated appreciating power plot artsy flourish dialog',\n",
       " 'viewer leaf wondering bothered watch one matter anyone bothered make plot random scene ridiculous action mia sara shower scene appeal male libido much reason make movie',\n",
       " 'jamie foxx lead brilliant cast powerful voyage life blind emotionally troubled african american genius pop jazz ray charles though entire cast performs wonderfully foxx earned simply oscar possible nominate actor consecutive year would consider foxx foxx play charles cj sander sharon warren also deserve special mention portrayal ray mother inspiration life young ray two provided strongest support br br drama charles struggle guilt death younger brother mother blindness discrimination addiction success neatly woven tapestry music music beautiful script far tell perfect acting nothing short br br directorial method film warrant discussion taylor hackford director generally ambivalent choose aspect complex life story charles would tell story honestly dramatically understandably though disagree seemingly wanting documentary instead dramatized biopic believe selected theme admirably big part success film consistent focus persistent theme charles life profound love respect mother need loved accepted addiction guilt complex musical genius fear responsibility others charles depicted man struggling valiantly army personal demon learned could imagined one men used listen old turntable dad livingroom sunday night football game tv nothing ray theme carried forward power human dignity theme create unifying drama span length long illuminated life power theme strong script directing music acting make one enjoyable evocative biographical film br br recommended everyone',\n",
       " 'watched film first time taped copy title caged terror still tape confess watched beginning end film extremely low budget dialogue often unintentionally amusing gotten friend watch great laugh terrible script film concern couple remember like early hip man go camping trip believe supposed upstate ny hilarious dialogue catching eating fish girl bemoans death fish ate guy come back something goofy ate fish part go beautiful man heavy man really heavy lol anyway along come couple vietnam vet one play flute believe rate musical fellow guy clearly attracted girl couple prove unfriendly end terrorizing night guy end caged chicken coop watch girl friend ravished two guy actually end night seems pretty morning come guy leave girl guy free leave supposedly guy learned lesson treat people girl smile face anyway would recommend film highly anyone looking damn good laugh never fails amuse anyway could find dvd replace old tape copy actually buy classic camp got ta love stuff']"
      ]
     },
     "execution_count": 19,
     "metadata": {},
     "output_type": "execute_result"
    }
   ],
   "source": [
    "corpus[:10]"
   ]
  },
  {
   "cell_type": "code",
   "execution_count": 21,
   "id": "23541140",
   "metadata": {},
   "outputs": [],
   "source": [
    "# Lets produce a sparse matrix of reviews with counts or tfidf\n",
    "from sklearn.feature_extraction.text import CountVectorizer, TfidfVectorizer\n",
    "cv = CountVectorizer()\n",
    "X = cv.fit_transform(corpus).toarray()\n",
    "y = df['sentiment'].values"
   ]
  },
  {
   "cell_type": "code",
   "execution_count": 23,
   "id": "9f5f2e02",
   "metadata": {},
   "outputs": [],
   "source": [
    "from sklearn.model_selection import train_test_split\n",
    "from sklearn.metrics import classification_report\n",
    "\n",
    "X_train, X_test, y_train, y_test = train_test_split(X, y, random_state=42, test_size=0.2)"
   ]
  },
  {
   "cell_type": "code",
   "execution_count": 28,
   "id": "b1d21840",
   "metadata": {},
   "outputs": [
    {
     "name": "stdout",
     "output_type": "stream",
     "text": [
      "              precision    recall  f1-score   support\n",
      "\n",
      "           0       0.76      0.85      0.80        74\n",
      "           1       0.85      0.75      0.79        80\n",
      "\n",
      "    accuracy                           0.80       154\n",
      "   macro avg       0.80      0.80      0.80       154\n",
      "weighted avg       0.80      0.80      0.80       154\n",
      "\n"
     ]
    }
   ],
   "source": [
    "# fit the model \n",
    "from sklearn.naive_bayes import MultinomialNB\n",
    "from sklearn.svm import LinearSVC\n",
    "\n",
    "model = MultinomialNB()\n",
    "\n",
    "model.fit(X_train, y_train)\n",
    "y_pred = model.predict(X_test)\n",
    "print(classification_report(y_test, y_pred))"
   ]
  },
  {
   "cell_type": "code",
   "execution_count": 27,
   "id": "a570c3f8",
   "metadata": {},
   "outputs": [
    {
     "name": "stdout",
     "output_type": "stream",
     "text": [
      "              precision    recall  f1-score   support\n",
      "\n",
      "           0       0.78      0.81      0.79        74\n",
      "           1       0.82      0.79      0.80        80\n",
      "\n",
      "    accuracy                           0.80       154\n",
      "   macro avg       0.80      0.80      0.80       154\n",
      "weighted avg       0.80      0.80      0.80       154\n",
      "\n"
     ]
    }
   ],
   "source": [
    "# fit the model \n",
    "from sklearn.naive_bayes import MultinomialNB\n",
    "from sklearn.svm import LinearSVC\n",
    "\n",
    "model = LinearSVC()\n",
    "\n",
    "model.fit(X_train, y_train)\n",
    "y_pred = model.predict(X_test)\n",
    "print(classification_report(y_test, y_pred))"
   ]
  },
  {
   "cell_type": "code",
   "execution_count": 29,
   "id": "ade995ab",
   "metadata": {},
   "outputs": [],
   "source": [
    "# Using spacy\n",
    "\n",
    "# import spacy libraries\n",
    "import spacy\n",
    "import string\n",
    "nlp = spacy.load('en_core_web_sm')"
   ]
  },
  {
   "cell_type": "code",
   "execution_count": 30,
   "id": "c6781987",
   "metadata": {},
   "outputs": [],
   "source": [
    "# text cleaning\n",
    "from spacy.lang.en.stop_words import STOP_WORDS\n",
    "stopwords = list(STOP_WORDS)\n",
    "punct = string.punctuation\n",
    "\n",
    "def text_cleaning(sentence):\n",
    "    doc = nlp(sentence)\n",
    "    tokens = []\n",
    "    for token in doc:\n",
    "        if token.lemma_ != '-PRON-':\n",
    "            temp = token.lemma_.lower().strip()\n",
    "        else:\n",
    "            temp = token.lower_\n",
    "        \n",
    "        tokens.append(temp)\n",
    "    cleaned_tokens = []\n",
    "    for token in tokens:\n",
    "        if token not in stopwords and token not in punct:\n",
    "            cleaned_tokens.append(token)\n",
    "    return cleaned_tokens"
   ]
  },
  {
   "cell_type": "code",
   "execution_count": 32,
   "id": "d0d6d48a",
   "metadata": {},
   "outputs": [],
   "source": [
    "tfidf = TfidfVectorizer(tokenizer = text_cleaning)"
   ]
  },
  {
   "cell_type": "code",
   "execution_count": 33,
   "id": "b96eaf5f",
   "metadata": {},
   "outputs": [
    {
     "name": "stdout",
     "output_type": "stream",
     "text": [
      "              precision    recall  f1-score   support\n",
      "\n",
      "           0       0.75      0.84      0.79        74\n",
      "           1       0.83      0.74      0.78        80\n",
      "\n",
      "    accuracy                           0.79       154\n",
      "   macro avg       0.79      0.79      0.79       154\n",
      "weighted avg       0.79      0.79      0.79       154\n",
      "\n"
     ]
    }
   ],
   "source": [
    "from sklearn.pipeline import Pipeline\n",
    "\n",
    "clf = Pipeline([('tfidf', tfidf), ('clf', LinearSVC())])\n",
    "\n",
    "X = df['review']\n",
    "y = df['sentiment']\n",
    "\n",
    "X_train, X_test, y_train, y_test = train_test_split(X, y, random_state=42, test_size=0.2)\n",
    "\n",
    "clf.fit(X_train, y_train)\n",
    "y_pred = clf.predict(X_test)\n",
    "\n",
    "print(classification_report(y_test, y_pred))"
   ]
  },
  {
   "cell_type": "code",
   "execution_count": 47,
   "id": "8adc3b07",
   "metadata": {},
   "outputs": [
    {
     "data": {
      "text/plain": [
       "array([1])"
      ]
     },
     "execution_count": 47,
     "metadata": {},
     "output_type": "execute_result"
    }
   ],
   "source": [
    "clf.predict(['movie was very long but made sense'])"
   ]
  },
  {
   "cell_type": "code",
   "execution_count": null,
   "id": "f1a38393",
   "metadata": {},
   "outputs": [],
   "source": []
  }
 ],
 "metadata": {
  "kernelspec": {
   "display_name": "Python 3",
   "language": "python",
   "name": "python3"
  },
  "language_info": {
   "codemirror_mode": {
    "name": "ipython",
    "version": 3
   },
   "file_extension": ".py",
   "mimetype": "text/x-python",
   "name": "python",
   "nbconvert_exporter": "python",
   "pygments_lexer": "ipython3",
   "version": "3.8.8"
  }
 },
 "nbformat": 4,
 "nbformat_minor": 5
}
