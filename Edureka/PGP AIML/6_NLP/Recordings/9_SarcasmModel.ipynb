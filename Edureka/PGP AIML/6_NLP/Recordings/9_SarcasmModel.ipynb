{
 "cells": [
  {
   "cell_type": "markdown",
   "id": "db24bfd0",
   "metadata": {},
   "source": [
    "SARCASM DETECTOR"
   ]
  },
  {
   "cell_type": "code",
   "execution_count": 11,
   "id": "ae004b3a",
   "metadata": {
    "scrolled": true
   },
   "outputs": [
    {
     "name": "stdout",
     "output_type": "stream",
     "text": [
      "Requirement already satisfied: sweetviz in c:\\python36_64\\lib\\site-packages (2.1.3)\n",
      "Requirement already satisfied: pandas!=1.0.0,!=1.0.1,!=1.0.2,>=0.25.3 in c:\\python36_64\\lib\\site-packages (from sweetviz) (1.1.5)\n",
      "Requirement already satisfied: numpy>=1.16.0 in c:\\python36_64\\lib\\site-packages (from sweetviz) (1.19.5)\n",
      "Requirement already satisfied: matplotlib>=3.1.3 in c:\\python36_64\\lib\\site-packages (from sweetviz) (3.3.4)\n",
      "Requirement already satisfied: scipy>=1.3.2 in c:\\python36_64\\lib\\site-packages (from sweetviz) (1.5.4)\n",
      "Requirement already satisfied: importlib-resources>=1.2.0 in c:\\python36_64\\lib\\site-packages (from sweetviz) (3.0.0)\n",
      "Requirement already satisfied: tqdm>=4.43.0 in c:\\python36_64\\lib\\site-packages (from sweetviz) (4.50.2)\n",
      "Requirement already satisfied: jinja2>=2.11.1 in c:\\python36_64\\lib\\site-packages (from sweetviz) (3.0.1)\n",
      "Requirement already satisfied: zipp>=0.4 in c:\\python36_64\\lib\\site-packages (from importlib-resources>=1.2.0->sweetviz) (3.3.1)\n",
      "Requirement already satisfied: MarkupSafe>=2.0 in c:\\python36_64\\lib\\site-packages (from jinja2>=2.11.1->sweetviz) (2.0.1)\n",
      "Requirement already satisfied: python-dateutil>=2.1 in c:\\python36_64\\lib\\site-packages (from matplotlib>=3.1.3->sweetviz) (2.8.1)\n",
      "Requirement already satisfied: pillow>=6.2.0 in c:\\python36_64\\lib\\site-packages (from matplotlib>=3.1.3->sweetviz) (8.2.0)\n",
      "Requirement already satisfied: cycler>=0.10 in c:\\python36_64\\lib\\site-packages (from matplotlib>=3.1.3->sweetviz) (0.10.0)\n",
      "Requirement already satisfied: pyparsing!=2.0.4,!=2.1.2,!=2.1.6,>=2.0.3 in c:\\python36_64\\lib\\site-packages (from matplotlib>=3.1.3->sweetviz) (2.2.0)\n",
      "Requirement already satisfied: kiwisolver>=1.0.1 in c:\\python36_64\\lib\\site-packages (from matplotlib>=3.1.3->sweetviz) (1.0.1)\n",
      "Requirement already satisfied: pytz>=2017.2 in c:\\python36_64\\lib\\site-packages (from pandas!=1.0.0,!=1.0.1,!=1.0.2,>=0.25.3->sweetviz) (2017.3)\n",
      "Requirement already satisfied: six in c:\\python36_64\\lib\\site-packages (from cycler>=0.10->matplotlib>=3.1.3->sweetviz) (1.15.0)\n",
      "Requirement already satisfied: setuptools in c:\\python36_64\\lib\\site-packages (from kiwisolver>=1.0.1->matplotlib>=3.1.3->sweetviz) (54.2.0)\n"
     ]
    },
    {
     "name": "stderr",
     "output_type": "stream",
     "text": [
      "WARNING: Ignoring invalid distribution -wisted (c:\\python36_64\\lib\\site-packages)\n",
      "WARNING: Ignoring invalid distribution -wisted (c:\\python36_64\\lib\\site-packages)\n",
      "WARNING: Ignoring invalid distribution -wisted (c:\\python36_64\\lib\\site-packages)\n",
      "WARNING: Ignoring invalid distribution -wisted (c:\\python36_64\\lib\\site-packages)\n",
      "WARNING: Ignoring invalid distribution -wisted (c:\\python36_64\\lib\\site-packages)\n"
     ]
    }
   ],
   "source": [
    "# install the dependencies\n",
    "!pip install sweetviz"
   ]
  },
  {
   "cell_type": "code",
   "execution_count": 12,
   "id": "a5cc2130",
   "metadata": {
    "scrolled": false
   },
   "outputs": [],
   "source": [
    "#!pip install pandas-profiling"
   ]
  },
  {
   "cell_type": "code",
   "execution_count": 5,
   "id": "cfeb9396",
   "metadata": {},
   "outputs": [
    {
     "name": "stdout",
     "output_type": "stream",
     "text": [
      "Libraries are imported\n"
     ]
    }
   ],
   "source": [
    "# import required libraries\n",
    "import spacy\n",
    "import numpy as np\n",
    "import pandas as pd\n",
    "import seaborn as sns\n",
    "import matplotlib.pyplot as plt\n",
    "import plotly.express as px\n",
    "import warnings\n",
    "warnings.filterwarnings('ignore')\n",
    "\n",
    "print('Libraries are imported')"
   ]
  },
  {
   "cell_type": "code",
   "execution_count": 6,
   "id": "b892e1c1",
   "metadata": {},
   "outputs": [
    {
     "data": {
      "text/html": [
       "<div>\n",
       "<style scoped>\n",
       "    .dataframe tbody tr th:only-of-type {\n",
       "        vertical-align: middle;\n",
       "    }\n",
       "\n",
       "    .dataframe tbody tr th {\n",
       "        vertical-align: top;\n",
       "    }\n",
       "\n",
       "    .dataframe thead th {\n",
       "        text-align: right;\n",
       "    }\n",
       "</style>\n",
       "<table border=\"1\" class=\"dataframe\">\n",
       "  <thead>\n",
       "    <tr style=\"text-align: right;\">\n",
       "      <th></th>\n",
       "      <th>article_link</th>\n",
       "      <th>headline</th>\n",
       "      <th>is_sarcastic</th>\n",
       "    </tr>\n",
       "  </thead>\n",
       "  <tbody>\n",
       "    <tr>\n",
       "      <th>0</th>\n",
       "      <td>https://www.huffingtonpost.com/entry/versace-b...</td>\n",
       "      <td>former versace store clerk sues over secret 'b...</td>\n",
       "      <td>0</td>\n",
       "    </tr>\n",
       "    <tr>\n",
       "      <th>1</th>\n",
       "      <td>https://www.huffingtonpost.com/entry/roseanne-...</td>\n",
       "      <td>the 'roseanne' revival catches up to our thorn...</td>\n",
       "      <td>0</td>\n",
       "    </tr>\n",
       "    <tr>\n",
       "      <th>2</th>\n",
       "      <td>https://local.theonion.com/mom-starting-to-fea...</td>\n",
       "      <td>mom starting to fear son's web series closest ...</td>\n",
       "      <td>1</td>\n",
       "    </tr>\n",
       "    <tr>\n",
       "      <th>3</th>\n",
       "      <td>https://politics.theonion.com/boehner-just-wan...</td>\n",
       "      <td>boehner just wants wife to listen, not come up...</td>\n",
       "      <td>1</td>\n",
       "    </tr>\n",
       "    <tr>\n",
       "      <th>4</th>\n",
       "      <td>https://www.huffingtonpost.com/entry/jk-rowlin...</td>\n",
       "      <td>j.k. rowling wishes snape happy birthday in th...</td>\n",
       "      <td>0</td>\n",
       "    </tr>\n",
       "  </tbody>\n",
       "</table>\n",
       "</div>"
      ],
      "text/plain": [
       "                                        article_link  \\\n",
       "0  https://www.huffingtonpost.com/entry/versace-b...   \n",
       "1  https://www.huffingtonpost.com/entry/roseanne-...   \n",
       "2  https://local.theonion.com/mom-starting-to-fea...   \n",
       "3  https://politics.theonion.com/boehner-just-wan...   \n",
       "4  https://www.huffingtonpost.com/entry/jk-rowlin...   \n",
       "\n",
       "                                            headline  is_sarcastic  \n",
       "0  former versace store clerk sues over secret 'b...             0  \n",
       "1  the 'roseanne' revival catches up to our thorn...             0  \n",
       "2  mom starting to fear son's web series closest ...             1  \n",
       "3  boehner just wants wife to listen, not come up...             1  \n",
       "4  j.k. rowling wishes snape happy birthday in th...             0  "
      ]
     },
     "execution_count": 6,
     "metadata": {},
     "output_type": "execute_result"
    }
   ],
   "source": [
    "# read the data\n",
    "\n",
    "df=pd.read_json('Sarcasm_Headlines_Dataset.json', lines=True)\n",
    "df.head()"
   ]
  },
  {
   "cell_type": "code",
   "execution_count": 7,
   "id": "9c930773",
   "metadata": {},
   "outputs": [
    {
     "data": {
      "text/plain": [
       "(26709, 3)"
      ]
     },
     "execution_count": 7,
     "metadata": {},
     "output_type": "execute_result"
    }
   ],
   "source": [
    "df.shape"
   ]
  },
  {
   "cell_type": "code",
   "execution_count": 13,
   "id": "2dc2ebff",
   "metadata": {},
   "outputs": [
    {
     "data": {
      "application/vnd.jupyter.widget-view+json": {
       "model_id": "abeb7209a4e74054aa1e01bda060480d",
       "version_major": 2,
       "version_minor": 0
      },
      "text/plain": [
       "Summarize dataset:   0%|          | 0/16 [00:00<?, ?it/s]"
      ]
     },
     "metadata": {},
     "output_type": "display_data"
    },
    {
     "data": {
      "application/vnd.jupyter.widget-view+json": {
       "model_id": "b3f0c7b0f53b48ecbf34390d953611e0",
       "version_major": 2,
       "version_minor": 0
      },
      "text/plain": [
       "Generate report structure:   0%|          | 0/1 [00:00<?, ?it/s]"
      ]
     },
     "metadata": {},
     "output_type": "display_data"
    },
    {
     "data": {
      "application/vnd.jupyter.widget-view+json": {
       "model_id": "a80feb9cc98a40e3931448bc737deb81",
       "version_major": 2,
       "version_minor": 0
      },
      "text/plain": [
       "Render HTML:   0%|          | 0/1 [00:00<?, ?it/s]"
      ]
     },
     "metadata": {},
     "output_type": "display_data"
    },
    {
     "data": {
      "application/vnd.jupyter.widget-view+json": {
       "model_id": "9be021e5330e4dcabe38b3b2ce83732e",
       "version_major": 2,
       "version_minor": 0
      },
      "text/plain": [
       "Export report to file:   0%|          | 0/1 [00:00<?, ?it/s]"
      ]
     },
     "metadata": {},
     "output_type": "display_data"
    }
   ],
   "source": [
    "# pandas profiling report\n",
    "import pandas_profiling\n",
    "from pandas_profiling import ProfileReport\n",
    "prof = ProfileReport(df)\n",
    "prof.to_file(output_file='Sarcasm.html')\n"
   ]
  },
  {
   "cell_type": "code",
   "execution_count": 9,
   "id": "58b3637f",
   "metadata": {},
   "outputs": [
    {
     "ename": "ModuleNotFoundError",
     "evalue": "No module named 'sweetviz'",
     "output_type": "error",
     "traceback": [
      "\u001b[1;31m---------------------------------------------------------------------------\u001b[0m",
      "\u001b[1;31mModuleNotFoundError\u001b[0m                       Traceback (most recent call last)",
      "\u001b[1;32m<ipython-input-9-1a1c47283681>\u001b[0m in \u001b[0;36m<module>\u001b[1;34m\u001b[0m\n\u001b[0;32m      1\u001b[0m \u001b[1;31m# sweetviz visualization\u001b[0m\u001b[1;33m\u001b[0m\u001b[1;33m\u001b[0m\u001b[1;33m\u001b[0m\u001b[0m\n\u001b[1;32m----> 2\u001b[1;33m \u001b[1;32mimport\u001b[0m \u001b[0msweetviz\u001b[0m \u001b[1;32mas\u001b[0m \u001b[0msv\u001b[0m\u001b[1;33m\u001b[0m\u001b[1;33m\u001b[0m\u001b[0m\n\u001b[0m\u001b[0;32m      3\u001b[0m \u001b[0mreport\u001b[0m \u001b[1;33m=\u001b[0m \u001b[0msv\u001b[0m\u001b[1;33m.\u001b[0m\u001b[0manalyze\u001b[0m\u001b[1;33m(\u001b[0m\u001b[0mdf\u001b[0m\u001b[1;33m)\u001b[0m\u001b[1;33m\u001b[0m\u001b[1;33m\u001b[0m\u001b[0m\n\u001b[0;32m      4\u001b[0m \u001b[0mreport\u001b[0m\u001b[1;33m.\u001b[0m\u001b[0mshow_html\u001b[0m\u001b[1;33m(\u001b[0m\u001b[1;34m'sweetviz.html'\u001b[0m\u001b[1;33m)\u001b[0m\u001b[1;33m\u001b[0m\u001b[1;33m\u001b[0m\u001b[0m\n",
      "\u001b[1;31mModuleNotFoundError\u001b[0m: No module named 'sweetviz'"
     ]
    }
   ],
   "source": [
    "# sweetviz visualization\n",
    "import sweetviz as sv\n",
    "report = sv.analyze(df)\n",
    "report.show_html('sweetviz.html')\n"
   ]
  },
  {
   "cell_type": "code",
   "execution_count": 14,
   "id": "bf3aaa02",
   "metadata": {},
   "outputs": [
    {
     "name": "stdout",
     "output_type": "stream",
     "text": [
      "Column names \n",
      "\n",
      "article_link\n",
      "headline\n",
      "is_sarcastic\n"
     ]
    }
   ],
   "source": [
    "# print the column names\n",
    "print('Column names \\n')\n",
    "for i in df.columns:\n",
    "    print(i)"
   ]
  },
  {
   "cell_type": "code",
   "execution_count": 17,
   "id": "c5466ee3",
   "metadata": {},
   "outputs": [
    {
     "data": {
      "text/plain": [
       "[]"
      ]
     },
     "execution_count": 17,
     "metadata": {},
     "output_type": "execute_result"
    },
    {
     "data": {
      "image/png": "[encoded data removed]",
      "text/plain": [
       "<Figure size 432x288 with 1 Axes>"
      ]
     },
     "metadata": {
      "needs_background": "light"
     },
     "output_type": "display_data"
    }
   ],
   "source": [
    "# value counts of the sarcasms\n",
    "df['is_sarcastic'].value_counts().plot(kind='bar')\n",
    "plt.plot()"
   ]
  },
  {
   "cell_type": "code",
   "execution_count": 18,
   "id": "1c1d0a39",
   "metadata": {},
   "outputs": [
    {
     "data": {
      "image/png": "[encoded data removed]",
      "text/plain": [
       "<Figure size 432x288 with 1 Axes>"
      ]
     },
     "metadata": {
      "needs_background": "light"
     },
     "output_type": "display_data"
    }
   ],
   "source": [
    "sns.countplot(df['is_sarcastic'])\n",
    "plt.show()"
   ]
  },
  {
   "cell_type": "code",
   "execution_count": 21,
   "id": "dbaf017e",
   "metadata": {},
   "outputs": [
    {
     "name": "stdout",
     "output_type": "stream",
     "text": [
      "Max no.of words 39\n",
      "\\Sentence :\n",
      " ['elmore leonard, modern prose master, noted for his terse prose style and for writing about things perfectly and succinctly with a remarkable economy of words, unfortunately and sadly expired this gloomy tuesday at the age of 87 years old']\n"
     ]
    }
   ],
   "source": [
    "# create a new column called num_words\n",
    "df['num_words'] = df['headline'].apply(lambda x: len(str(x).split()))\n",
    "print('Max no.of words', df['num_words'].max())\n",
    "print('\\Sentence :\\n', df[df['num_words'] == 39]['headline'].values)"
   ]
  },
  {
   "cell_type": "code",
   "execution_count": 22,
   "id": "ecab6ee9",
   "metadata": {},
   "outputs": [],
   "source": [
    "text=df[df['num_words'] == 39]['headline'].values "
   ]
  },
  {
   "cell_type": "markdown",
   "id": "2f5c7e3f",
   "metadata": {},
   "source": [
    "WORD PROCESSING"
   ]
  },
  {
   "cell_type": "code",
   "execution_count": 25,
   "id": "7c86646c",
   "metadata": {
    "scrolled": true
   },
   "outputs": [],
   "source": [
    "#!python -m spacy download en"
   ]
  },
  {
   "cell_type": "code",
   "execution_count": 26,
   "id": "dffc65eb",
   "metadata": {
    "scrolled": true
   },
   "outputs": [
    {
     "data": {
      "text/plain": [
       "['elmore',\n",
       " 'leonard',\n",
       " ',',\n",
       " 'modern',\n",
       " 'prose',\n",
       " 'master',\n",
       " ',',\n",
       " 'noted',\n",
       " 'for',\n",
       " 'his',\n",
       " 'terse',\n",
       " 'prose',\n",
       " 'style',\n",
       " 'and',\n",
       " 'for',\n",
       " 'writing',\n",
       " 'about',\n",
       " 'things',\n",
       " 'perfectly',\n",
       " 'and',\n",
       " 'succinctly',\n",
       " 'with',\n",
       " 'a',\n",
       " 'remarkable',\n",
       " 'economy',\n",
       " 'of',\n",
       " 'words',\n",
       " ',',\n",
       " 'unfortunately',\n",
       " 'and',\n",
       " 'sadly',\n",
       " 'expired',\n",
       " 'this',\n",
       " 'gloomy',\n",
       " 'tuesday',\n",
       " 'at',\n",
       " 'the',\n",
       " 'age',\n",
       " 'of',\n",
       " '87',\n",
       " 'years',\n",
       " 'old']"
      ]
     },
     "execution_count": 26,
     "metadata": {},
     "output_type": "execute_result"
    }
   ],
   "source": [
    "# tokenize the sentence\n",
    "import spacy\n",
    "from spacy.lang.en import English\n",
    "nlp = English()\n",
    "doc = nlp(text[0])\n",
    "token = [w.text for w in doc]\n",
    "token"
   ]
  },
  {
   "cell_type": "code",
   "execution_count": 30,
   "id": "71d35fb1",
   "metadata": {},
   "outputs": [
    {
     "name": "stdout",
     "output_type": "stream",
     "text": [
      "Quotes: [\"\\\\'\", '\"', '”', '“', '`', '‘', '´', '’', '‚', ',', '„', '»', '«', '「', '」', '『', '』', '（', '）', '〔', '〕', '【', '】', '《', '》', '〈', '〉']\n",
      "Punctuations ['…', '……', ',', ':', ';', '\\\\!', '\\\\?', '¿', '؟', '¡', '\\\\(', '\\\\)', '\\\\[', '\\\\]', '\\\\{', '\\\\}', '<', '>', '_', '#', '\\\\*', '&', '。', '？', '！', '，', '、', '；', '：', '～', '·', '।', '،', '۔', '؛', '٪']\n",
      "\n",
      "Punctuation in text :  [',', ',', ',']\n"
     ]
    }
   ],
   "source": [
    "# remove punctuations\n",
    "print('Quotes:', spacy.lang.punctuation.LIST_QUOTES)\n",
    "print('Punctuations', spacy.lang.punctuation.LIST_PUNCT)\n",
    "pun = [w.text for w in doc if w.is_punct]\n",
    "print('\\nPunctuation in text : ', pun)"
   ]
  },
  {
   "cell_type": "code",
   "execution_count": 33,
   "id": "c5492dd0",
   "metadata": {
    "scrolled": true
   },
   "outputs": [
    {
     "name": "stdout",
     "output_type": "stream",
     "text": [
      "number of stopwords 326\n",
      "\n",
      " stopwords in stentence: ['for', 'his', 'and', 'for', 'about', 'and', 'with', 'a', 'of', 'and', 'this', 'at', 'the', 'of']\n"
     ]
    }
   ],
   "source": [
    "# stopwords\n",
    "stopwords = list(spacy.lang.en.stop_words.STOP_WORDS)\n",
    "print('number of stopwords', len(stopwords))\n",
    "stop = [w.text for w in doc if w.is_stop]\n",
    "print('\\n stopwords in stentence:', stop)"
   ]
  },
  {
   "cell_type": "code",
   "execution_count": 34,
   "id": "5271a269",
   "metadata": {},
   "outputs": [
    {
     "name": "stdout",
     "output_type": "stream",
     "text": [
      "Digits in sentence:  ['87']\n"
     ]
    }
   ],
   "source": [
    "# Digits\n",
    "digits = [w.text for w in doc if w.is_digit]\n",
    "print('Digits in sentence: ', digits)"
   ]
  },
  {
   "cell_type": "code",
   "execution_count": 35,
   "id": "e8f6b5c1",
   "metadata": {},
   "outputs": [
    {
     "name": "stdout",
     "output_type": "stream",
     "text": [
      "['elmore', 'leonard', ',', 'modern', 'prose', 'master', ',', 'noted', 'for', 'his', 'terse', 'prose', 'style', 'and', 'for', 'writing', 'about', 'things', 'perfectly', 'and', 'succinctly', 'with', 'a', 'remarkable', 'economy', 'of', 'words', ',', 'unfortunately', 'and', 'sadly', 'expired', 'this', 'gloomy', 'tuesday', 'at', 'the', 'age', 'of', '87', 'years', 'old']\n"
     ]
    }
   ],
   "source": [
    "# lemmas\n",
    "lemma = [w.lemma_ for w in doc]\n",
    "print(lemma)"
   ]
  },
  {
   "cell_type": "code",
   "execution_count": 37,
   "id": "ff3fd6b8",
   "metadata": {},
   "outputs": [
    {
     "data": {
      "text/html": [
       "<span class=\"tex2jax_ignore\"><div class=\"entities\" style=\"line-height: 2.5; direction: ltr\">elmore leonard, modern prose master, noted for his terse prose style and for writing about things perfectly and succinctly with a remarkable economy of words, unfortunately and sadly expired this gloomy tuesday at the age of 87 years old</div></span>"
      ],
      "text/plain": [
       "<IPython.core.display.HTML object>"
      ]
     },
     "metadata": {},
     "output_type": "display_data"
    }
   ],
   "source": [
    "# named entities\n",
    "from spacy \n",
    "spacy.displacy.render(doc, style='ent',jupyter=True)"
   ]
  },
  {
   "cell_type": "code",
   "execution_count": 39,
   "id": "db7ffa57",
   "metadata": {
    "scrolled": true
   },
   "outputs": [
    {
     "data": {
      "text/html": [
       "<style  type=\"text/css\" >\n",
       "#T_9a105_row2_col6,#T_9a105_row6_col6,#T_9a105_row8_col5,#T_9a105_row9_col5,#T_9a105_row13_col5,#T_9a105_row14_col5,#T_9a105_row16_col5,#T_9a105_row19_col5,#T_9a105_row21_col5,#T_9a105_row22_col5,#T_9a105_row25_col5,#T_9a105_row27_col6,#T_9a105_row29_col5,#T_9a105_row32_col5,#T_9a105_row35_col5,#T_9a105_row36_col5,#T_9a105_row38_col5,#T_9a105_row39_col7{\n",
       "            background-color: green;\n",
       "        }</style><table id=\"T_9a105_\" ><thead>    <tr>        <th class=\"blank level0\" ></th>        <th class=\"col_heading level0 col0\" >token</th>        <th class=\"col_heading level0 col1\" >lemma</th>        <th class=\"col_heading level0 col2\" >POS</th>        <th class=\"col_heading level0 col3\" >TAG</th>        <th class=\"col_heading level0 col4\" >DEP</th>        <th class=\"col_heading level0 col5\" >is_stop</th>        <th class=\"col_heading level0 col6\" >is_punct</th>        <th class=\"col_heading level0 col7\" >is_digit</th>    </tr></thead><tbody>\n",
       "                <tr>\n",
       "                        <th id=\"T_9a105_level0_row0\" class=\"row_heading level0 row0\" >0</th>\n",
       "                        <td id=\"T_9a105_row0_col0\" class=\"data row0 col0\" >elmore</td>\n",
       "                        <td id=\"T_9a105_row0_col1\" class=\"data row0 col1\" >elmore</td>\n",
       "                        <td id=\"T_9a105_row0_col2\" class=\"data row0 col2\" ></td>\n",
       "                        <td id=\"T_9a105_row0_col3\" class=\"data row0 col3\" ></td>\n",
       "                        <td id=\"T_9a105_row0_col4\" class=\"data row0 col4\" ></td>\n",
       "                        <td id=\"T_9a105_row0_col5\" class=\"data row0 col5\" >False</td>\n",
       "                        <td id=\"T_9a105_row0_col6\" class=\"data row0 col6\" >False</td>\n",
       "                        <td id=\"T_9a105_row0_col7\" class=\"data row0 col7\" >False</td>\n",
       "            </tr>\n",
       "            <tr>\n",
       "                        <th id=\"T_9a105_level0_row1\" class=\"row_heading level0 row1\" >1</th>\n",
       "                        <td id=\"T_9a105_row1_col0\" class=\"data row1 col0\" >leonard</td>\n",
       "                        <td id=\"T_9a105_row1_col1\" class=\"data row1 col1\" >leonard</td>\n",
       "                        <td id=\"T_9a105_row1_col2\" class=\"data row1 col2\" ></td>\n",
       "                        <td id=\"T_9a105_row1_col3\" class=\"data row1 col3\" ></td>\n",
       "                        <td id=\"T_9a105_row1_col4\" class=\"data row1 col4\" ></td>\n",
       "                        <td id=\"T_9a105_row1_col5\" class=\"data row1 col5\" >False</td>\n",
       "                        <td id=\"T_9a105_row1_col6\" class=\"data row1 col6\" >False</td>\n",
       "                        <td id=\"T_9a105_row1_col7\" class=\"data row1 col7\" >False</td>\n",
       "            </tr>\n",
       "            <tr>\n",
       "                        <th id=\"T_9a105_level0_row2\" class=\"row_heading level0 row2\" >2</th>\n",
       "                        <td id=\"T_9a105_row2_col0\" class=\"data row2 col0\" >,</td>\n",
       "                        <td id=\"T_9a105_row2_col1\" class=\"data row2 col1\" >,</td>\n",
       "                        <td id=\"T_9a105_row2_col2\" class=\"data row2 col2\" ></td>\n",
       "                        <td id=\"T_9a105_row2_col3\" class=\"data row2 col3\" ></td>\n",
       "                        <td id=\"T_9a105_row2_col4\" class=\"data row2 col4\" ></td>\n",
       "                        <td id=\"T_9a105_row2_col5\" class=\"data row2 col5\" >False</td>\n",
       "                        <td id=\"T_9a105_row2_col6\" class=\"data row2 col6\" >True</td>\n",
       "                        <td id=\"T_9a105_row2_col7\" class=\"data row2 col7\" >False</td>\n",
       "            </tr>\n",
       "            <tr>\n",
       "                        <th id=\"T_9a105_level0_row3\" class=\"row_heading level0 row3\" >3</th>\n",
       "                        <td id=\"T_9a105_row3_col0\" class=\"data row3 col0\" >modern</td>\n",
       "                        <td id=\"T_9a105_row3_col1\" class=\"data row3 col1\" >modern</td>\n",
       "                        <td id=\"T_9a105_row3_col2\" class=\"data row3 col2\" ></td>\n",
       "                        <td id=\"T_9a105_row3_col3\" class=\"data row3 col3\" ></td>\n",
       "                        <td id=\"T_9a105_row3_col4\" class=\"data row3 col4\" ></td>\n",
       "                        <td id=\"T_9a105_row3_col5\" class=\"data row3 col5\" >False</td>\n",
       "                        <td id=\"T_9a105_row3_col6\" class=\"data row3 col6\" >False</td>\n",
       "                        <td id=\"T_9a105_row3_col7\" class=\"data row3 col7\" >False</td>\n",
       "            </tr>\n",
       "            <tr>\n",
       "                        <th id=\"T_9a105_level0_row4\" class=\"row_heading level0 row4\" >4</th>\n",
       "                        <td id=\"T_9a105_row4_col0\" class=\"data row4 col0\" >prose</td>\n",
       "                        <td id=\"T_9a105_row4_col1\" class=\"data row4 col1\" >prose</td>\n",
       "                        <td id=\"T_9a105_row4_col2\" class=\"data row4 col2\" ></td>\n",
       "                        <td id=\"T_9a105_row4_col3\" class=\"data row4 col3\" ></td>\n",
       "                        <td id=\"T_9a105_row4_col4\" class=\"data row4 col4\" ></td>\n",
       "                        <td id=\"T_9a105_row4_col5\" class=\"data row4 col5\" >False</td>\n",
       "                        <td id=\"T_9a105_row4_col6\" class=\"data row4 col6\" >False</td>\n",
       "                        <td id=\"T_9a105_row4_col7\" class=\"data row4 col7\" >False</td>\n",
       "            </tr>\n",
       "            <tr>\n",
       "                        <th id=\"T_9a105_level0_row5\" class=\"row_heading level0 row5\" >5</th>\n",
       "                        <td id=\"T_9a105_row5_col0\" class=\"data row5 col0\" >master</td>\n",
       "                        <td id=\"T_9a105_row5_col1\" class=\"data row5 col1\" >master</td>\n",
       "                        <td id=\"T_9a105_row5_col2\" class=\"data row5 col2\" ></td>\n",
       "                        <td id=\"T_9a105_row5_col3\" class=\"data row5 col3\" ></td>\n",
       "                        <td id=\"T_9a105_row5_col4\" class=\"data row5 col4\" ></td>\n",
       "                        <td id=\"T_9a105_row5_col5\" class=\"data row5 col5\" >False</td>\n",
       "                        <td id=\"T_9a105_row5_col6\" class=\"data row5 col6\" >False</td>\n",
       "                        <td id=\"T_9a105_row5_col7\" class=\"data row5 col7\" >False</td>\n",
       "            </tr>\n",
       "            <tr>\n",
       "                        <th id=\"T_9a105_level0_row6\" class=\"row_heading level0 row6\" >6</th>\n",
       "                        <td id=\"T_9a105_row6_col0\" class=\"data row6 col0\" >,</td>\n",
       "                        <td id=\"T_9a105_row6_col1\" class=\"data row6 col1\" >,</td>\n",
       "                        <td id=\"T_9a105_row6_col2\" class=\"data row6 col2\" ></td>\n",
       "                        <td id=\"T_9a105_row6_col3\" class=\"data row6 col3\" ></td>\n",
       "                        <td id=\"T_9a105_row6_col4\" class=\"data row6 col4\" ></td>\n",
       "                        <td id=\"T_9a105_row6_col5\" class=\"data row6 col5\" >False</td>\n",
       "                        <td id=\"T_9a105_row6_col6\" class=\"data row6 col6\" >True</td>\n",
       "                        <td id=\"T_9a105_row6_col7\" class=\"data row6 col7\" >False</td>\n",
       "            </tr>\n",
       "            <tr>\n",
       "                        <th id=\"T_9a105_level0_row7\" class=\"row_heading level0 row7\" >7</th>\n",
       "                        <td id=\"T_9a105_row7_col0\" class=\"data row7 col0\" >noted</td>\n",
       "                        <td id=\"T_9a105_row7_col1\" class=\"data row7 col1\" >noted</td>\n",
       "                        <td id=\"T_9a105_row7_col2\" class=\"data row7 col2\" ></td>\n",
       "                        <td id=\"T_9a105_row7_col3\" class=\"data row7 col3\" ></td>\n",
       "                        <td id=\"T_9a105_row7_col4\" class=\"data row7 col4\" ></td>\n",
       "                        <td id=\"T_9a105_row7_col5\" class=\"data row7 col5\" >False</td>\n",
       "                        <td id=\"T_9a105_row7_col6\" class=\"data row7 col6\" >False</td>\n",
       "                        <td id=\"T_9a105_row7_col7\" class=\"data row7 col7\" >False</td>\n",
       "            </tr>\n",
       "            <tr>\n",
       "                        <th id=\"T_9a105_level0_row8\" class=\"row_heading level0 row8\" >8</th>\n",
       "                        <td id=\"T_9a105_row8_col0\" class=\"data row8 col0\" >for</td>\n",
       "                        <td id=\"T_9a105_row8_col1\" class=\"data row8 col1\" >for</td>\n",
       "                        <td id=\"T_9a105_row8_col2\" class=\"data row8 col2\" ></td>\n",
       "                        <td id=\"T_9a105_row8_col3\" class=\"data row8 col3\" ></td>\n",
       "                        <td id=\"T_9a105_row8_col4\" class=\"data row8 col4\" ></td>\n",
       "                        <td id=\"T_9a105_row8_col5\" class=\"data row8 col5\" >True</td>\n",
       "                        <td id=\"T_9a105_row8_col6\" class=\"data row8 col6\" >False</td>\n",
       "                        <td id=\"T_9a105_row8_col7\" class=\"data row8 col7\" >False</td>\n",
       "            </tr>\n",
       "            <tr>\n",
       "                        <th id=\"T_9a105_level0_row9\" class=\"row_heading level0 row9\" >9</th>\n",
       "                        <td id=\"T_9a105_row9_col0\" class=\"data row9 col0\" >his</td>\n",
       "                        <td id=\"T_9a105_row9_col1\" class=\"data row9 col1\" >his</td>\n",
       "                        <td id=\"T_9a105_row9_col2\" class=\"data row9 col2\" ></td>\n",
       "                        <td id=\"T_9a105_row9_col3\" class=\"data row9 col3\" ></td>\n",
       "                        <td id=\"T_9a105_row9_col4\" class=\"data row9 col4\" ></td>\n",
       "                        <td id=\"T_9a105_row9_col5\" class=\"data row9 col5\" >True</td>\n",
       "                        <td id=\"T_9a105_row9_col6\" class=\"data row9 col6\" >False</td>\n",
       "                        <td id=\"T_9a105_row9_col7\" class=\"data row9 col7\" >False</td>\n",
       "            </tr>\n",
       "            <tr>\n",
       "                        <th id=\"T_9a105_level0_row10\" class=\"row_heading level0 row10\" >10</th>\n",
       "                        <td id=\"T_9a105_row10_col0\" class=\"data row10 col0\" >terse</td>\n",
       "                        <td id=\"T_9a105_row10_col1\" class=\"data row10 col1\" >terse</td>\n",
       "                        <td id=\"T_9a105_row10_col2\" class=\"data row10 col2\" ></td>\n",
       "                        <td id=\"T_9a105_row10_col3\" class=\"data row10 col3\" ></td>\n",
       "                        <td id=\"T_9a105_row10_col4\" class=\"data row10 col4\" ></td>\n",
       "                        <td id=\"T_9a105_row10_col5\" class=\"data row10 col5\" >False</td>\n",
       "                        <td id=\"T_9a105_row10_col6\" class=\"data row10 col6\" >False</td>\n",
       "                        <td id=\"T_9a105_row10_col7\" class=\"data row10 col7\" >False</td>\n",
       "            </tr>\n",
       "            <tr>\n",
       "                        <th id=\"T_9a105_level0_row11\" class=\"row_heading level0 row11\" >11</th>\n",
       "                        <td id=\"T_9a105_row11_col0\" class=\"data row11 col0\" >prose</td>\n",
       "                        <td id=\"T_9a105_row11_col1\" class=\"data row11 col1\" >prose</td>\n",
       "                        <td id=\"T_9a105_row11_col2\" class=\"data row11 col2\" ></td>\n",
       "                        <td id=\"T_9a105_row11_col3\" class=\"data row11 col3\" ></td>\n",
       "                        <td id=\"T_9a105_row11_col4\" class=\"data row11 col4\" ></td>\n",
       "                        <td id=\"T_9a105_row11_col5\" class=\"data row11 col5\" >False</td>\n",
       "                        <td id=\"T_9a105_row11_col6\" class=\"data row11 col6\" >False</td>\n",
       "                        <td id=\"T_9a105_row11_col7\" class=\"data row11 col7\" >False</td>\n",
       "            </tr>\n",
       "            <tr>\n",
       "                        <th id=\"T_9a105_level0_row12\" class=\"row_heading level0 row12\" >12</th>\n",
       "                        <td id=\"T_9a105_row12_col0\" class=\"data row12 col0\" >style</td>\n",
       "                        <td id=\"T_9a105_row12_col1\" class=\"data row12 col1\" >style</td>\n",
       "                        <td id=\"T_9a105_row12_col2\" class=\"data row12 col2\" ></td>\n",
       "                        <td id=\"T_9a105_row12_col3\" class=\"data row12 col3\" ></td>\n",
       "                        <td id=\"T_9a105_row12_col4\" class=\"data row12 col4\" ></td>\n",
       "                        <td id=\"T_9a105_row12_col5\" class=\"data row12 col5\" >False</td>\n",
       "                        <td id=\"T_9a105_row12_col6\" class=\"data row12 col6\" >False</td>\n",
       "                        <td id=\"T_9a105_row12_col7\" class=\"data row12 col7\" >False</td>\n",
       "            </tr>\n",
       "            <tr>\n",
       "                        <th id=\"T_9a105_level0_row13\" class=\"row_heading level0 row13\" >13</th>\n",
       "                        <td id=\"T_9a105_row13_col0\" class=\"data row13 col0\" >and</td>\n",
       "                        <td id=\"T_9a105_row13_col1\" class=\"data row13 col1\" >and</td>\n",
       "                        <td id=\"T_9a105_row13_col2\" class=\"data row13 col2\" ></td>\n",
       "                        <td id=\"T_9a105_row13_col3\" class=\"data row13 col3\" ></td>\n",
       "                        <td id=\"T_9a105_row13_col4\" class=\"data row13 col4\" ></td>\n",
       "                        <td id=\"T_9a105_row13_col5\" class=\"data row13 col5\" >True</td>\n",
       "                        <td id=\"T_9a105_row13_col6\" class=\"data row13 col6\" >False</td>\n",
       "                        <td id=\"T_9a105_row13_col7\" class=\"data row13 col7\" >False</td>\n",
       "            </tr>\n",
       "            <tr>\n",
       "                        <th id=\"T_9a105_level0_row14\" class=\"row_heading level0 row14\" >14</th>\n",
       "                        <td id=\"T_9a105_row14_col0\" class=\"data row14 col0\" >for</td>\n",
       "                        <td id=\"T_9a105_row14_col1\" class=\"data row14 col1\" >for</td>\n",
       "                        <td id=\"T_9a105_row14_col2\" class=\"data row14 col2\" ></td>\n",
       "                        <td id=\"T_9a105_row14_col3\" class=\"data row14 col3\" ></td>\n",
       "                        <td id=\"T_9a105_row14_col4\" class=\"data row14 col4\" ></td>\n",
       "                        <td id=\"T_9a105_row14_col5\" class=\"data row14 col5\" >True</td>\n",
       "                        <td id=\"T_9a105_row14_col6\" class=\"data row14 col6\" >False</td>\n",
       "                        <td id=\"T_9a105_row14_col7\" class=\"data row14 col7\" >False</td>\n",
       "            </tr>\n",
       "            <tr>\n",
       "                        <th id=\"T_9a105_level0_row15\" class=\"row_heading level0 row15\" >15</th>\n",
       "                        <td id=\"T_9a105_row15_col0\" class=\"data row15 col0\" >writing</td>\n",
       "                        <td id=\"T_9a105_row15_col1\" class=\"data row15 col1\" >writing</td>\n",
       "                        <td id=\"T_9a105_row15_col2\" class=\"data row15 col2\" ></td>\n",
       "                        <td id=\"T_9a105_row15_col3\" class=\"data row15 col3\" ></td>\n",
       "                        <td id=\"T_9a105_row15_col4\" class=\"data row15 col4\" ></td>\n",
       "                        <td id=\"T_9a105_row15_col5\" class=\"data row15 col5\" >False</td>\n",
       "                        <td id=\"T_9a105_row15_col6\" class=\"data row15 col6\" >False</td>\n",
       "                        <td id=\"T_9a105_row15_col7\" class=\"data row15 col7\" >False</td>\n",
       "            </tr>\n",
       "            <tr>\n",
       "                        <th id=\"T_9a105_level0_row16\" class=\"row_heading level0 row16\" >16</th>\n",
       "                        <td id=\"T_9a105_row16_col0\" class=\"data row16 col0\" >about</td>\n",
       "                        <td id=\"T_9a105_row16_col1\" class=\"data row16 col1\" >about</td>\n",
       "                        <td id=\"T_9a105_row16_col2\" class=\"data row16 col2\" ></td>\n",
       "                        <td id=\"T_9a105_row16_col3\" class=\"data row16 col3\" ></td>\n",
       "                        <td id=\"T_9a105_row16_col4\" class=\"data row16 col4\" ></td>\n",
       "                        <td id=\"T_9a105_row16_col5\" class=\"data row16 col5\" >True</td>\n",
       "                        <td id=\"T_9a105_row16_col6\" class=\"data row16 col6\" >False</td>\n",
       "                        <td id=\"T_9a105_row16_col7\" class=\"data row16 col7\" >False</td>\n",
       "            </tr>\n",
       "            <tr>\n",
       "                        <th id=\"T_9a105_level0_row17\" class=\"row_heading level0 row17\" >17</th>\n",
       "                        <td id=\"T_9a105_row17_col0\" class=\"data row17 col0\" >things</td>\n",
       "                        <td id=\"T_9a105_row17_col1\" class=\"data row17 col1\" >things</td>\n",
       "                        <td id=\"T_9a105_row17_col2\" class=\"data row17 col2\" ></td>\n",
       "                        <td id=\"T_9a105_row17_col3\" class=\"data row17 col3\" ></td>\n",
       "                        <td id=\"T_9a105_row17_col4\" class=\"data row17 col4\" ></td>\n",
       "                        <td id=\"T_9a105_row17_col5\" class=\"data row17 col5\" >False</td>\n",
       "                        <td id=\"T_9a105_row17_col6\" class=\"data row17 col6\" >False</td>\n",
       "                        <td id=\"T_9a105_row17_col7\" class=\"data row17 col7\" >False</td>\n",
       "            </tr>\n",
       "            <tr>\n",
       "                        <th id=\"T_9a105_level0_row18\" class=\"row_heading level0 row18\" >18</th>\n",
       "                        <td id=\"T_9a105_row18_col0\" class=\"data row18 col0\" >perfectly</td>\n",
       "                        <td id=\"T_9a105_row18_col1\" class=\"data row18 col1\" >perfectly</td>\n",
       "                        <td id=\"T_9a105_row18_col2\" class=\"data row18 col2\" ></td>\n",
       "                        <td id=\"T_9a105_row18_col3\" class=\"data row18 col3\" ></td>\n",
       "                        <td id=\"T_9a105_row18_col4\" class=\"data row18 col4\" ></td>\n",
       "                        <td id=\"T_9a105_row18_col5\" class=\"data row18 col5\" >False</td>\n",
       "                        <td id=\"T_9a105_row18_col6\" class=\"data row18 col6\" >False</td>\n",
       "                        <td id=\"T_9a105_row18_col7\" class=\"data row18 col7\" >False</td>\n",
       "            </tr>\n",
       "            <tr>\n",
       "                        <th id=\"T_9a105_level0_row19\" class=\"row_heading level0 row19\" >19</th>\n",
       "                        <td id=\"T_9a105_row19_col0\" class=\"data row19 col0\" >and</td>\n",
       "                        <td id=\"T_9a105_row19_col1\" class=\"data row19 col1\" >and</td>\n",
       "                        <td id=\"T_9a105_row19_col2\" class=\"data row19 col2\" ></td>\n",
       "                        <td id=\"T_9a105_row19_col3\" class=\"data row19 col3\" ></td>\n",
       "                        <td id=\"T_9a105_row19_col4\" class=\"data row19 col4\" ></td>\n",
       "                        <td id=\"T_9a105_row19_col5\" class=\"data row19 col5\" >True</td>\n",
       "                        <td id=\"T_9a105_row19_col6\" class=\"data row19 col6\" >False</td>\n",
       "                        <td id=\"T_9a105_row19_col7\" class=\"data row19 col7\" >False</td>\n",
       "            </tr>\n",
       "            <tr>\n",
       "                        <th id=\"T_9a105_level0_row20\" class=\"row_heading level0 row20\" >20</th>\n",
       "                        <td id=\"T_9a105_row20_col0\" class=\"data row20 col0\" >succinctly</td>\n",
       "                        <td id=\"T_9a105_row20_col1\" class=\"data row20 col1\" >succinctly</td>\n",
       "                        <td id=\"T_9a105_row20_col2\" class=\"data row20 col2\" ></td>\n",
       "                        <td id=\"T_9a105_row20_col3\" class=\"data row20 col3\" ></td>\n",
       "                        <td id=\"T_9a105_row20_col4\" class=\"data row20 col4\" ></td>\n",
       "                        <td id=\"T_9a105_row20_col5\" class=\"data row20 col5\" >False</td>\n",
       "                        <td id=\"T_9a105_row20_col6\" class=\"data row20 col6\" >False</td>\n",
       "                        <td id=\"T_9a105_row20_col7\" class=\"data row20 col7\" >False</td>\n",
       "            </tr>\n",
       "            <tr>\n",
       "                        <th id=\"T_9a105_level0_row21\" class=\"row_heading level0 row21\" >21</th>\n",
       "                        <td id=\"T_9a105_row21_col0\" class=\"data row21 col0\" >with</td>\n",
       "                        <td id=\"T_9a105_row21_col1\" class=\"data row21 col1\" >with</td>\n",
       "                        <td id=\"T_9a105_row21_col2\" class=\"data row21 col2\" ></td>\n",
       "                        <td id=\"T_9a105_row21_col3\" class=\"data row21 col3\" ></td>\n",
       "                        <td id=\"T_9a105_row21_col4\" class=\"data row21 col4\" ></td>\n",
       "                        <td id=\"T_9a105_row21_col5\" class=\"data row21 col5\" >True</td>\n",
       "                        <td id=\"T_9a105_row21_col6\" class=\"data row21 col6\" >False</td>\n",
       "                        <td id=\"T_9a105_row21_col7\" class=\"data row21 col7\" >False</td>\n",
       "            </tr>\n",
       "            <tr>\n",
       "                        <th id=\"T_9a105_level0_row22\" class=\"row_heading level0 row22\" >22</th>\n",
       "                        <td id=\"T_9a105_row22_col0\" class=\"data row22 col0\" >a</td>\n",
       "                        <td id=\"T_9a105_row22_col1\" class=\"data row22 col1\" >a</td>\n",
       "                        <td id=\"T_9a105_row22_col2\" class=\"data row22 col2\" ></td>\n",
       "                        <td id=\"T_9a105_row22_col3\" class=\"data row22 col3\" ></td>\n",
       "                        <td id=\"T_9a105_row22_col4\" class=\"data row22 col4\" ></td>\n",
       "                        <td id=\"T_9a105_row22_col5\" class=\"data row22 col5\" >True</td>\n",
       "                        <td id=\"T_9a105_row22_col6\" class=\"data row22 col6\" >False</td>\n",
       "                        <td id=\"T_9a105_row22_col7\" class=\"data row22 col7\" >False</td>\n",
       "            </tr>\n",
       "            <tr>\n",
       "                        <th id=\"T_9a105_level0_row23\" class=\"row_heading level0 row23\" >23</th>\n",
       "                        <td id=\"T_9a105_row23_col0\" class=\"data row23 col0\" >remarkable</td>\n",
       "                        <td id=\"T_9a105_row23_col1\" class=\"data row23 col1\" >remarkable</td>\n",
       "                        <td id=\"T_9a105_row23_col2\" class=\"data row23 col2\" ></td>\n",
       "                        <td id=\"T_9a105_row23_col3\" class=\"data row23 col3\" ></td>\n",
       "                        <td id=\"T_9a105_row23_col4\" class=\"data row23 col4\" ></td>\n",
       "                        <td id=\"T_9a105_row23_col5\" class=\"data row23 col5\" >False</td>\n",
       "                        <td id=\"T_9a105_row23_col6\" class=\"data row23 col6\" >False</td>\n",
       "                        <td id=\"T_9a105_row23_col7\" class=\"data row23 col7\" >False</td>\n",
       "            </tr>\n",
       "            <tr>\n",
       "                        <th id=\"T_9a105_level0_row24\" class=\"row_heading level0 row24\" >24</th>\n",
       "                        <td id=\"T_9a105_row24_col0\" class=\"data row24 col0\" >economy</td>\n",
       "                        <td id=\"T_9a105_row24_col1\" class=\"data row24 col1\" >economy</td>\n",
       "                        <td id=\"T_9a105_row24_col2\" class=\"data row24 col2\" ></td>\n",
       "                        <td id=\"T_9a105_row24_col3\" class=\"data row24 col3\" ></td>\n",
       "                        <td id=\"T_9a105_row24_col4\" class=\"data row24 col4\" ></td>\n",
       "                        <td id=\"T_9a105_row24_col5\" class=\"data row24 col5\" >False</td>\n",
       "                        <td id=\"T_9a105_row24_col6\" class=\"data row24 col6\" >False</td>\n",
       "                        <td id=\"T_9a105_row24_col7\" class=\"data row24 col7\" >False</td>\n",
       "            </tr>\n",
       "            <tr>\n",
       "                        <th id=\"T_9a105_level0_row25\" class=\"row_heading level0 row25\" >25</th>\n",
       "                        <td id=\"T_9a105_row25_col0\" class=\"data row25 col0\" >of</td>\n",
       "                        <td id=\"T_9a105_row25_col1\" class=\"data row25 col1\" >of</td>\n",
       "                        <td id=\"T_9a105_row25_col2\" class=\"data row25 col2\" ></td>\n",
       "                        <td id=\"T_9a105_row25_col3\" class=\"data row25 col3\" ></td>\n",
       "                        <td id=\"T_9a105_row25_col4\" class=\"data row25 col4\" ></td>\n",
       "                        <td id=\"T_9a105_row25_col5\" class=\"data row25 col5\" >True</td>\n",
       "                        <td id=\"T_9a105_row25_col6\" class=\"data row25 col6\" >False</td>\n",
       "                        <td id=\"T_9a105_row25_col7\" class=\"data row25 col7\" >False</td>\n",
       "            </tr>\n",
       "            <tr>\n",
       "                        <th id=\"T_9a105_level0_row26\" class=\"row_heading level0 row26\" >26</th>\n",
       "                        <td id=\"T_9a105_row26_col0\" class=\"data row26 col0\" >words</td>\n",
       "                        <td id=\"T_9a105_row26_col1\" class=\"data row26 col1\" >words</td>\n",
       "                        <td id=\"T_9a105_row26_col2\" class=\"data row26 col2\" ></td>\n",
       "                        <td id=\"T_9a105_row26_col3\" class=\"data row26 col3\" ></td>\n",
       "                        <td id=\"T_9a105_row26_col4\" class=\"data row26 col4\" ></td>\n",
       "                        <td id=\"T_9a105_row26_col5\" class=\"data row26 col5\" >False</td>\n",
       "                        <td id=\"T_9a105_row26_col6\" class=\"data row26 col6\" >False</td>\n",
       "                        <td id=\"T_9a105_row26_col7\" class=\"data row26 col7\" >False</td>\n",
       "            </tr>\n",
       "            <tr>\n",
       "                        <th id=\"T_9a105_level0_row27\" class=\"row_heading level0 row27\" >27</th>\n",
       "                        <td id=\"T_9a105_row27_col0\" class=\"data row27 col0\" >,</td>\n",
       "                        <td id=\"T_9a105_row27_col1\" class=\"data row27 col1\" >,</td>\n",
       "                        <td id=\"T_9a105_row27_col2\" class=\"data row27 col2\" ></td>\n",
       "                        <td id=\"T_9a105_row27_col3\" class=\"data row27 col3\" ></td>\n",
       "                        <td id=\"T_9a105_row27_col4\" class=\"data row27 col4\" ></td>\n",
       "                        <td id=\"T_9a105_row27_col5\" class=\"data row27 col5\" >False</td>\n",
       "                        <td id=\"T_9a105_row27_col6\" class=\"data row27 col6\" >True</td>\n",
       "                        <td id=\"T_9a105_row27_col7\" class=\"data row27 col7\" >False</td>\n",
       "            </tr>\n",
       "            <tr>\n",
       "                        <th id=\"T_9a105_level0_row28\" class=\"row_heading level0 row28\" >28</th>\n",
       "                        <td id=\"T_9a105_row28_col0\" class=\"data row28 col0\" >unfortunately</td>\n",
       "                        <td id=\"T_9a105_row28_col1\" class=\"data row28 col1\" >unfortunately</td>\n",
       "                        <td id=\"T_9a105_row28_col2\" class=\"data row28 col2\" ></td>\n",
       "                        <td id=\"T_9a105_row28_col3\" class=\"data row28 col3\" ></td>\n",
       "                        <td id=\"T_9a105_row28_col4\" class=\"data row28 col4\" ></td>\n",
       "                        <td id=\"T_9a105_row28_col5\" class=\"data row28 col5\" >False</td>\n",
       "                        <td id=\"T_9a105_row28_col6\" class=\"data row28 col6\" >False</td>\n",
       "                        <td id=\"T_9a105_row28_col7\" class=\"data row28 col7\" >False</td>\n",
       "            </tr>\n",
       "            <tr>\n",
       "                        <th id=\"T_9a105_level0_row29\" class=\"row_heading level0 row29\" >29</th>\n",
       "                        <td id=\"T_9a105_row29_col0\" class=\"data row29 col0\" >and</td>\n",
       "                        <td id=\"T_9a105_row29_col1\" class=\"data row29 col1\" >and</td>\n",
       "                        <td id=\"T_9a105_row29_col2\" class=\"data row29 col2\" ></td>\n",
       "                        <td id=\"T_9a105_row29_col3\" class=\"data row29 col3\" ></td>\n",
       "                        <td id=\"T_9a105_row29_col4\" class=\"data row29 col4\" ></td>\n",
       "                        <td id=\"T_9a105_row29_col5\" class=\"data row29 col5\" >True</td>\n",
       "                        <td id=\"T_9a105_row29_col6\" class=\"data row29 col6\" >False</td>\n",
       "                        <td id=\"T_9a105_row29_col7\" class=\"data row29 col7\" >False</td>\n",
       "            </tr>\n",
       "            <tr>\n",
       "                        <th id=\"T_9a105_level0_row30\" class=\"row_heading level0 row30\" >30</th>\n",
       "                        <td id=\"T_9a105_row30_col0\" class=\"data row30 col0\" >sadly</td>\n",
       "                        <td id=\"T_9a105_row30_col1\" class=\"data row30 col1\" >sadly</td>\n",
       "                        <td id=\"T_9a105_row30_col2\" class=\"data row30 col2\" ></td>\n",
       "                        <td id=\"T_9a105_row30_col3\" class=\"data row30 col3\" ></td>\n",
       "                        <td id=\"T_9a105_row30_col4\" class=\"data row30 col4\" ></td>\n",
       "                        <td id=\"T_9a105_row30_col5\" class=\"data row30 col5\" >False</td>\n",
       "                        <td id=\"T_9a105_row30_col6\" class=\"data row30 col6\" >False</td>\n",
       "                        <td id=\"T_9a105_row30_col7\" class=\"data row30 col7\" >False</td>\n",
       "            </tr>\n",
       "            <tr>\n",
       "                        <th id=\"T_9a105_level0_row31\" class=\"row_heading level0 row31\" >31</th>\n",
       "                        <td id=\"T_9a105_row31_col0\" class=\"data row31 col0\" >expired</td>\n",
       "                        <td id=\"T_9a105_row31_col1\" class=\"data row31 col1\" >expired</td>\n",
       "                        <td id=\"T_9a105_row31_col2\" class=\"data row31 col2\" ></td>\n",
       "                        <td id=\"T_9a105_row31_col3\" class=\"data row31 col3\" ></td>\n",
       "                        <td id=\"T_9a105_row31_col4\" class=\"data row31 col4\" ></td>\n",
       "                        <td id=\"T_9a105_row31_col5\" class=\"data row31 col5\" >False</td>\n",
       "                        <td id=\"T_9a105_row31_col6\" class=\"data row31 col6\" >False</td>\n",
       "                        <td id=\"T_9a105_row31_col7\" class=\"data row31 col7\" >False</td>\n",
       "            </tr>\n",
       "            <tr>\n",
       "                        <th id=\"T_9a105_level0_row32\" class=\"row_heading level0 row32\" >32</th>\n",
       "                        <td id=\"T_9a105_row32_col0\" class=\"data row32 col0\" >this</td>\n",
       "                        <td id=\"T_9a105_row32_col1\" class=\"data row32 col1\" >this</td>\n",
       "                        <td id=\"T_9a105_row32_col2\" class=\"data row32 col2\" ></td>\n",
       "                        <td id=\"T_9a105_row32_col3\" class=\"data row32 col3\" ></td>\n",
       "                        <td id=\"T_9a105_row32_col4\" class=\"data row32 col4\" ></td>\n",
       "                        <td id=\"T_9a105_row32_col5\" class=\"data row32 col5\" >True</td>\n",
       "                        <td id=\"T_9a105_row32_col6\" class=\"data row32 col6\" >False</td>\n",
       "                        <td id=\"T_9a105_row32_col7\" class=\"data row32 col7\" >False</td>\n",
       "            </tr>\n",
       "            <tr>\n",
       "                        <th id=\"T_9a105_level0_row33\" class=\"row_heading level0 row33\" >33</th>\n",
       "                        <td id=\"T_9a105_row33_col0\" class=\"data row33 col0\" >gloomy</td>\n",
       "                        <td id=\"T_9a105_row33_col1\" class=\"data row33 col1\" >gloomy</td>\n",
       "                        <td id=\"T_9a105_row33_col2\" class=\"data row33 col2\" ></td>\n",
       "                        <td id=\"T_9a105_row33_col3\" class=\"data row33 col3\" ></td>\n",
       "                        <td id=\"T_9a105_row33_col4\" class=\"data row33 col4\" ></td>\n",
       "                        <td id=\"T_9a105_row33_col5\" class=\"data row33 col5\" >False</td>\n",
       "                        <td id=\"T_9a105_row33_col6\" class=\"data row33 col6\" >False</td>\n",
       "                        <td id=\"T_9a105_row33_col7\" class=\"data row33 col7\" >False</td>\n",
       "            </tr>\n",
       "            <tr>\n",
       "                        <th id=\"T_9a105_level0_row34\" class=\"row_heading level0 row34\" >34</th>\n",
       "                        <td id=\"T_9a105_row34_col0\" class=\"data row34 col0\" >tuesday</td>\n",
       "                        <td id=\"T_9a105_row34_col1\" class=\"data row34 col1\" >tuesday</td>\n",
       "                        <td id=\"T_9a105_row34_col2\" class=\"data row34 col2\" ></td>\n",
       "                        <td id=\"T_9a105_row34_col3\" class=\"data row34 col3\" ></td>\n",
       "                        <td id=\"T_9a105_row34_col4\" class=\"data row34 col4\" ></td>\n",
       "                        <td id=\"T_9a105_row34_col5\" class=\"data row34 col5\" >False</td>\n",
       "                        <td id=\"T_9a105_row34_col6\" class=\"data row34 col6\" >False</td>\n",
       "                        <td id=\"T_9a105_row34_col7\" class=\"data row34 col7\" >False</td>\n",
       "            </tr>\n",
       "            <tr>\n",
       "                        <th id=\"T_9a105_level0_row35\" class=\"row_heading level0 row35\" >35</th>\n",
       "                        <td id=\"T_9a105_row35_col0\" class=\"data row35 col0\" >at</td>\n",
       "                        <td id=\"T_9a105_row35_col1\" class=\"data row35 col1\" >at</td>\n",
       "                        <td id=\"T_9a105_row35_col2\" class=\"data row35 col2\" ></td>\n",
       "                        <td id=\"T_9a105_row35_col3\" class=\"data row35 col3\" ></td>\n",
       "                        <td id=\"T_9a105_row35_col4\" class=\"data row35 col4\" ></td>\n",
       "                        <td id=\"T_9a105_row35_col5\" class=\"data row35 col5\" >True</td>\n",
       "                        <td id=\"T_9a105_row35_col6\" class=\"data row35 col6\" >False</td>\n",
       "                        <td id=\"T_9a105_row35_col7\" class=\"data row35 col7\" >False</td>\n",
       "            </tr>\n",
       "            <tr>\n",
       "                        <th id=\"T_9a105_level0_row36\" class=\"row_heading level0 row36\" >36</th>\n",
       "                        <td id=\"T_9a105_row36_col0\" class=\"data row36 col0\" >the</td>\n",
       "                        <td id=\"T_9a105_row36_col1\" class=\"data row36 col1\" >the</td>\n",
       "                        <td id=\"T_9a105_row36_col2\" class=\"data row36 col2\" ></td>\n",
       "                        <td id=\"T_9a105_row36_col3\" class=\"data row36 col3\" ></td>\n",
       "                        <td id=\"T_9a105_row36_col4\" class=\"data row36 col4\" ></td>\n",
       "                        <td id=\"T_9a105_row36_col5\" class=\"data row36 col5\" >True</td>\n",
       "                        <td id=\"T_9a105_row36_col6\" class=\"data row36 col6\" >False</td>\n",
       "                        <td id=\"T_9a105_row36_col7\" class=\"data row36 col7\" >False</td>\n",
       "            </tr>\n",
       "            <tr>\n",
       "                        <th id=\"T_9a105_level0_row37\" class=\"row_heading level0 row37\" >37</th>\n",
       "                        <td id=\"T_9a105_row37_col0\" class=\"data row37 col0\" >age</td>\n",
       "                        <td id=\"T_9a105_row37_col1\" class=\"data row37 col1\" >age</td>\n",
       "                        <td id=\"T_9a105_row37_col2\" class=\"data row37 col2\" ></td>\n",
       "                        <td id=\"T_9a105_row37_col3\" class=\"data row37 col3\" ></td>\n",
       "                        <td id=\"T_9a105_row37_col4\" class=\"data row37 col4\" ></td>\n",
       "                        <td id=\"T_9a105_row37_col5\" class=\"data row37 col5\" >False</td>\n",
       "                        <td id=\"T_9a105_row37_col6\" class=\"data row37 col6\" >False</td>\n",
       "                        <td id=\"T_9a105_row37_col7\" class=\"data row37 col7\" >False</td>\n",
       "            </tr>\n",
       "            <tr>\n",
       "                        <th id=\"T_9a105_level0_row38\" class=\"row_heading level0 row38\" >38</th>\n",
       "                        <td id=\"T_9a105_row38_col0\" class=\"data row38 col0\" >of</td>\n",
       "                        <td id=\"T_9a105_row38_col1\" class=\"data row38 col1\" >of</td>\n",
       "                        <td id=\"T_9a105_row38_col2\" class=\"data row38 col2\" ></td>\n",
       "                        <td id=\"T_9a105_row38_col3\" class=\"data row38 col3\" ></td>\n",
       "                        <td id=\"T_9a105_row38_col4\" class=\"data row38 col4\" ></td>\n",
       "                        <td id=\"T_9a105_row38_col5\" class=\"data row38 col5\" >True</td>\n",
       "                        <td id=\"T_9a105_row38_col6\" class=\"data row38 col6\" >False</td>\n",
       "                        <td id=\"T_9a105_row38_col7\" class=\"data row38 col7\" >False</td>\n",
       "            </tr>\n",
       "            <tr>\n",
       "                        <th id=\"T_9a105_level0_row39\" class=\"row_heading level0 row39\" >39</th>\n",
       "                        <td id=\"T_9a105_row39_col0\" class=\"data row39 col0\" >87</td>\n",
       "                        <td id=\"T_9a105_row39_col1\" class=\"data row39 col1\" >87</td>\n",
       "                        <td id=\"T_9a105_row39_col2\" class=\"data row39 col2\" ></td>\n",
       "                        <td id=\"T_9a105_row39_col3\" class=\"data row39 col3\" ></td>\n",
       "                        <td id=\"T_9a105_row39_col4\" class=\"data row39 col4\" ></td>\n",
       "                        <td id=\"T_9a105_row39_col5\" class=\"data row39 col5\" >False</td>\n",
       "                        <td id=\"T_9a105_row39_col6\" class=\"data row39 col6\" >False</td>\n",
       "                        <td id=\"T_9a105_row39_col7\" class=\"data row39 col7\" >True</td>\n",
       "            </tr>\n",
       "            <tr>\n",
       "                        <th id=\"T_9a105_level0_row40\" class=\"row_heading level0 row40\" >40</th>\n",
       "                        <td id=\"T_9a105_row40_col0\" class=\"data row40 col0\" >years</td>\n",
       "                        <td id=\"T_9a105_row40_col1\" class=\"data row40 col1\" >years</td>\n",
       "                        <td id=\"T_9a105_row40_col2\" class=\"data row40 col2\" ></td>\n",
       "                        <td id=\"T_9a105_row40_col3\" class=\"data row40 col3\" ></td>\n",
       "                        <td id=\"T_9a105_row40_col4\" class=\"data row40 col4\" ></td>\n",
       "                        <td id=\"T_9a105_row40_col5\" class=\"data row40 col5\" >False</td>\n",
       "                        <td id=\"T_9a105_row40_col6\" class=\"data row40 col6\" >False</td>\n",
       "                        <td id=\"T_9a105_row40_col7\" class=\"data row40 col7\" >False</td>\n",
       "            </tr>\n",
       "            <tr>\n",
       "                        <th id=\"T_9a105_level0_row41\" class=\"row_heading level0 row41\" >41</th>\n",
       "                        <td id=\"T_9a105_row41_col0\" class=\"data row41 col0\" >old</td>\n",
       "                        <td id=\"T_9a105_row41_col1\" class=\"data row41 col1\" >old</td>\n",
       "                        <td id=\"T_9a105_row41_col2\" class=\"data row41 col2\" ></td>\n",
       "                        <td id=\"T_9a105_row41_col3\" class=\"data row41 col3\" ></td>\n",
       "                        <td id=\"T_9a105_row41_col4\" class=\"data row41 col4\" ></td>\n",
       "                        <td id=\"T_9a105_row41_col5\" class=\"data row41 col5\" >False</td>\n",
       "                        <td id=\"T_9a105_row41_col6\" class=\"data row41 col6\" >False</td>\n",
       "                        <td id=\"T_9a105_row41_col7\" class=\"data row41 col7\" >False</td>\n",
       "            </tr>\n",
       "    </tbody></table>"
      ],
      "text/plain": [
       "<pandas.io.formats.style.Styler at 0x1402804bd30>"
      ]
     },
     "execution_count": 39,
     "metadata": {},
     "output_type": "execute_result"
    }
   ],
   "source": [
    "# create the features dataframe\n",
    "df_new = pd.DataFrame({\n",
    "    'token': [w.text for w in doc],\n",
    "    'lemma': [w.lemma_ for w in doc],\n",
    "    'POS': [w.pos_ for w in doc],\n",
    "    'TAG': [w.tag_ for w in doc],\n",
    "    'DEP': [w.dep_ for w in doc],\n",
    "    'is_stop': [w.is_stop for w in doc],\n",
    "    'is_punct': [w.is_punct for w in doc],\n",
    "    'is_digit': [w.is_digit for w in doc]\n",
    "})\n",
    "\n",
    "def highlight_true(s):\n",
    "    return ['background-color:green' if v else '' for v in s]\n",
    "\n",
    "df_new.style.apply(highlight_true, subset=['is_stop', 'is_punct', 'is_digit'])"
   ]
  },
  {
   "cell_type": "code",
   "execution_count": 40,
   "id": "fd15f59e",
   "metadata": {},
   "outputs": [
    {
     "data": {
      "text/html": [
       "<div>\n",
       "<style scoped>\n",
       "    .dataframe tbody tr th:only-of-type {\n",
       "        vertical-align: middle;\n",
       "    }\n",
       "\n",
       "    .dataframe tbody tr th {\n",
       "        vertical-align: top;\n",
       "    }\n",
       "\n",
       "    .dataframe thead th {\n",
       "        text-align: right;\n",
       "    }\n",
       "</style>\n",
       "<table border=\"1\" class=\"dataframe\">\n",
       "  <thead>\n",
       "    <tr style=\"text-align: right;\">\n",
       "      <th></th>\n",
       "      <th>article_link</th>\n",
       "      <th>headline</th>\n",
       "      <th>is_sarcastic</th>\n",
       "      <th>num_words</th>\n",
       "    </tr>\n",
       "  </thead>\n",
       "  <tbody>\n",
       "    <tr>\n",
       "      <th>0</th>\n",
       "      <td>https://www.huffingtonpost.com/entry/versace-b...</td>\n",
       "      <td>former versace store clerk sues over secret 'b...</td>\n",
       "      <td>0</td>\n",
       "      <td>12</td>\n",
       "    </tr>\n",
       "    <tr>\n",
       "      <th>1</th>\n",
       "      <td>https://www.huffingtonpost.com/entry/roseanne-...</td>\n",
       "      <td>the 'roseanne' revival catches up to our thorn...</td>\n",
       "      <td>0</td>\n",
       "      <td>14</td>\n",
       "    </tr>\n",
       "    <tr>\n",
       "      <th>2</th>\n",
       "      <td>https://local.theonion.com/mom-starting-to-fea...</td>\n",
       "      <td>mom starting to fear son's web series closest ...</td>\n",
       "      <td>1</td>\n",
       "      <td>14</td>\n",
       "    </tr>\n",
       "    <tr>\n",
       "      <th>3</th>\n",
       "      <td>https://politics.theonion.com/boehner-just-wan...</td>\n",
       "      <td>boehner just wants wife to listen, not come up...</td>\n",
       "      <td>1</td>\n",
       "      <td>13</td>\n",
       "    </tr>\n",
       "    <tr>\n",
       "      <th>4</th>\n",
       "      <td>https://www.huffingtonpost.com/entry/jk-rowlin...</td>\n",
       "      <td>j.k. rowling wishes snape happy birthday in th...</td>\n",
       "      <td>0</td>\n",
       "      <td>11</td>\n",
       "    </tr>\n",
       "  </tbody>\n",
       "</table>\n",
       "</div>"
      ],
      "text/plain": [
       "                                        article_link  \\\n",
       "0  https://www.huffingtonpost.com/entry/versace-b...   \n",
       "1  https://www.huffingtonpost.com/entry/roseanne-...   \n",
       "2  https://local.theonion.com/mom-starting-to-fea...   \n",
       "3  https://politics.theonion.com/boehner-just-wan...   \n",
       "4  https://www.huffingtonpost.com/entry/jk-rowlin...   \n",
       "\n",
       "                                            headline  is_sarcastic  num_words  \n",
       "0  former versace store clerk sues over secret 'b...             0         12  \n",
       "1  the 'roseanne' revival catches up to our thorn...             0         14  \n",
       "2  mom starting to fear son's web series closest ...             1         14  \n",
       "3  boehner just wants wife to listen, not come up...             1         13  \n",
       "4  j.k. rowling wishes snape happy birthday in th...             0         11  "
      ]
     },
     "execution_count": 40,
     "metadata": {},
     "output_type": "execute_result"
    }
   ],
   "source": [
    "df.head()"
   ]
  },
  {
   "cell_type": "code",
   "execution_count": 41,
   "id": "6760017f",
   "metadata": {},
   "outputs": [],
   "source": [
    "def clean_text(df):\n",
    "    for i in range(df.shape[0]):\n",
    "        doc = nlp(df['headline'][i])\n",
    "    text = [w.lemma_.lower().strip() for w in doc if not (w.is_stop | w.is_punct | w.is_digit)]\n",
    "    text = \" \".join(text)\n",
    "    df['headline'][i] = text\n",
    "    return df"
   ]
  },
  {
   "cell_type": "code",
   "execution_count": 42,
   "id": "cca50d6b",
   "metadata": {},
   "outputs": [
    {
     "data": {
      "text/html": [
       "<div>\n",
       "<style scoped>\n",
       "    .dataframe tbody tr th:only-of-type {\n",
       "        vertical-align: middle;\n",
       "    }\n",
       "\n",
       "    .dataframe tbody tr th {\n",
       "        vertical-align: top;\n",
       "    }\n",
       "\n",
       "    .dataframe thead th {\n",
       "        text-align: right;\n",
       "    }\n",
       "</style>\n",
       "<table border=\"1\" class=\"dataframe\">\n",
       "  <thead>\n",
       "    <tr style=\"text-align: right;\">\n",
       "      <th></th>\n",
       "      <th>article_link</th>\n",
       "      <th>headline</th>\n",
       "      <th>is_sarcastic</th>\n",
       "      <th>num_words</th>\n",
       "    </tr>\n",
       "  </thead>\n",
       "  <tbody>\n",
       "    <tr>\n",
       "      <th>0</th>\n",
       "      <td>https://www.huffingtonpost.com/entry/versace-b...</td>\n",
       "      <td>former versace store clerk sues over secret 'b...</td>\n",
       "      <td>0</td>\n",
       "      <td>12</td>\n",
       "    </tr>\n",
       "    <tr>\n",
       "      <th>1</th>\n",
       "      <td>https://www.huffingtonpost.com/entry/roseanne-...</td>\n",
       "      <td>the 'roseanne' revival catches up to our thorn...</td>\n",
       "      <td>0</td>\n",
       "      <td>14</td>\n",
       "    </tr>\n",
       "    <tr>\n",
       "      <th>2</th>\n",
       "      <td>https://local.theonion.com/mom-starting-to-fea...</td>\n",
       "      <td>mom starting to fear son's web series closest ...</td>\n",
       "      <td>1</td>\n",
       "      <td>14</td>\n",
       "    </tr>\n",
       "    <tr>\n",
       "      <th>3</th>\n",
       "      <td>https://politics.theonion.com/boehner-just-wan...</td>\n",
       "      <td>boehner just wants wife to listen, not come up...</td>\n",
       "      <td>1</td>\n",
       "      <td>13</td>\n",
       "    </tr>\n",
       "    <tr>\n",
       "      <th>4</th>\n",
       "      <td>https://www.huffingtonpost.com/entry/jk-rowlin...</td>\n",
       "      <td>j.k. rowling wishes snape happy birthday in th...</td>\n",
       "      <td>0</td>\n",
       "      <td>11</td>\n",
       "    </tr>\n",
       "  </tbody>\n",
       "</table>\n",
       "</div>"
      ],
      "text/plain": [
       "                                        article_link  \\\n",
       "0  https://www.huffingtonpost.com/entry/versace-b...   \n",
       "1  https://www.huffingtonpost.com/entry/roseanne-...   \n",
       "2  https://local.theonion.com/mom-starting-to-fea...   \n",
       "3  https://politics.theonion.com/boehner-just-wan...   \n",
       "4  https://www.huffingtonpost.com/entry/jk-rowlin...   \n",
       "\n",
       "                                            headline  is_sarcastic  num_words  \n",
       "0  former versace store clerk sues over secret 'b...             0         12  \n",
       "1  the 'roseanne' revival catches up to our thorn...             0         14  \n",
       "2  mom starting to fear son's web series closest ...             1         14  \n",
       "3  boehner just wants wife to listen, not come up...             1         13  \n",
       "4  j.k. rowling wishes snape happy birthday in th...             0         11  "
      ]
     },
     "execution_count": 42,
     "metadata": {},
     "output_type": "execute_result"
    }
   ],
   "source": [
    "new_df = clean_text(df)\n",
    "new_df.head()"
   ]
  },
  {
   "cell_type": "code",
   "execution_count": 43,
   "id": "68716cdf",
   "metadata": {},
   "outputs": [],
   "source": [
    "# implement TfidfVectorizer\n",
    "from sklearn.feature_extraction.text import TfidfVectorizer\n",
    "tf = TfidfVectorizer(analyzer='word', ngram_range=(1,3), max_features=5000)\n",
    "X = tf.fit_transform(new_df['headline'])\n",
    "y = new_df['is_sarcastic']\n",
    "\n"
   ]
  },
  {
   "cell_type": "code",
   "execution_count": 44,
   "id": "23741d9a",
   "metadata": {},
   "outputs": [],
   "source": [
    "# create the train_test_split\n",
    "from sklearn.model_selection import train_test_split\n",
    "\n",
    "X_train, X_test, y_train, y_test = train_test_split(X, y, random_state=42, test_size=0.3)\n"
   ]
  },
  {
   "cell_type": "code",
   "execution_count": 45,
   "id": "567ea35e",
   "metadata": {},
   "outputs": [
    {
     "name": "stdout",
     "output_type": "stream",
     "text": [
      "              precision    recall  f1-score   support\n",
      "\n",
      "           0       0.87      0.84      0.85      4444\n",
      "           1       0.81      0.84      0.82      3569\n",
      "\n",
      "    accuracy                           0.84      8013\n",
      "   macro avg       0.84      0.84      0.84      8013\n",
      "weighted avg       0.84      0.84      0.84      8013\n",
      "\n"
     ]
    }
   ],
   "source": [
    "# create the model \n",
    "from sklearn.naive_bayes import BernoulliNB\n",
    "nb = BernoulliNB()\n",
    "nb.fit(X_train, y_train)\n",
    "\n",
    "y_pred = nb.predict(X_test)\n",
    "\n",
    "from sklearn.metrics import classification_report\n",
    "print(classification_report(y_test, y_pred))"
   ]
  },
  {
   "cell_type": "code",
   "execution_count": null,
   "id": "4294af15",
   "metadata": {},
   "outputs": [],
   "source": []
  }
 ],
 "metadata": {
  "kernelspec": {
   "display_name": "Python 3",
   "language": "python",
   "name": "python3"
  },
  "language_info": {
   "codemirror_mode": {
    "name": "ipython",
    "version": 3
   },
   "file_extension": ".py",
   "mimetype": "text/x-python",
   "name": "python",
   "nbconvert_exporter": "python",
   "pygments_lexer": "ipython3",
   "version": "3.8.8"
  }
 },
 "nbformat": 4,
 "nbformat_minor": 5
}
