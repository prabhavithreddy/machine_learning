{
 "cells": [
  {
   "cell_type": "markdown",
   "id": "7b806cbf",
   "metadata": {},
   "source": [
    "RESUME CLASSIFIER"
   ]
  },
  {
   "cell_type": "markdown",
   "id": "48519c04",
   "metadata": {},
   "source": [
    "1. Tokenization\n",
    "2. StopWords\n",
    "3. Rule Based Matching\n",
    "\n",
    "    1. Token Based Matching\n",
    "    2. Phrase Matcher\n",
    "    3. Dependency Matcher"
   ]
  },
  {
   "cell_type": "code",
   "execution_count": 1,
   "id": "3aaa97ee",
   "metadata": {},
   "outputs": [
    {
     "name": "stdout",
     "output_type": "stream",
     "text": [
      "All libraries are imported\n"
     ]
    }
   ],
   "source": [
    "# import the libraries\n",
    "import os\n",
    "import sys\n",
    "import spacy\n",
    "#import docx\n",
    "from tqdm import tqdm\n",
    "import pandas as pd\n",
    "import numpy as np\n",
    "from spacy.lang.en import English\n",
    "from spacy.lang.en.stop_words import STOP_WORDS\n",
    "import json \n",
    "import random\n",
    "import re\n",
    "from spacy.matcher import Matcher, PhraseMatcher\n",
    "from os import listdir\n",
    "from os.path import isfile, join \n",
    "from io import StringIO\n",
    "from collections import Counter\n",
    "import pickle\n",
    "import plotly.express as px\n",
    "import plotly.graph_objects as go\n",
    "print(\"All libraries are imported\")"
   ]
  },
  {
   "cell_type": "code",
   "execution_count": 2,
   "id": "97224bec",
   "metadata": {},
   "outputs": [
    {
     "data": {
      "text/html": [
       "<div>\n",
       "<style scoped>\n",
       "    .dataframe tbody tr th:only-of-type {\n",
       "        vertical-align: middle;\n",
       "    }\n",
       "\n",
       "    .dataframe tbody tr th {\n",
       "        vertical-align: top;\n",
       "    }\n",
       "\n",
       "    .dataframe thead th {\n",
       "        text-align: right;\n",
       "    }\n",
       "</style>\n",
       "<table border=\"1\" class=\"dataframe\">\n",
       "  <thead>\n",
       "    <tr style=\"text-align: right;\">\n",
       "      <th></th>\n",
       "      <th>Category</th>\n",
       "      <th>Resume</th>\n",
       "    </tr>\n",
       "  </thead>\n",
       "  <tbody>\n",
       "    <tr>\n",
       "      <th>0</th>\n",
       "      <td>Data Science</td>\n",
       "      <td>Skills * Programming Languages: Python (pandas...</td>\n",
       "    </tr>\n",
       "    <tr>\n",
       "      <th>1</th>\n",
       "      <td>Data Science</td>\n",
       "      <td>Education Details \\r\\nMay 2013 to May 2017 B.E...</td>\n",
       "    </tr>\n",
       "    <tr>\n",
       "      <th>2</th>\n",
       "      <td>Data Science</td>\n",
       "      <td>Areas of Interest Deep Learning, Control Syste...</td>\n",
       "    </tr>\n",
       "    <tr>\n",
       "      <th>3</th>\n",
       "      <td>Data Science</td>\n",
       "      <td>Skills â¢ R â¢ Python â¢ SAP HANA â¢ Table...</td>\n",
       "    </tr>\n",
       "    <tr>\n",
       "      <th>4</th>\n",
       "      <td>Data Science</td>\n",
       "      <td>Education Details \\r\\n MCA   YMCAUST,  Faridab...</td>\n",
       "    </tr>\n",
       "  </tbody>\n",
       "</table>\n",
       "</div>"
      ],
      "text/plain": [
       "       Category                                             Resume\n",
       "0  Data Science  Skills * Programming Languages: Python (pandas...\n",
       "1  Data Science  Education Details \\r\\nMay 2013 to May 2017 B.E...\n",
       "2  Data Science  Areas of Interest Deep Learning, Control Syste...\n",
       "3  Data Science  Skills â¢ R â¢ Python â¢ SAP HANA â¢ Table...\n",
       "4  Data Science  Education Details \\r\\n MCA   YMCAUST,  Faridab..."
      ]
     },
     "execution_count": 2,
     "metadata": {},
     "output_type": "execute_result"
    }
   ],
   "source": [
    "df = pd.read_csv('UpdatedResumeDataSet.csv')\n",
    "df.head()"
   ]
  },
  {
   "cell_type": "code",
   "execution_count": 3,
   "id": "cf5c496a",
   "metadata": {},
   "outputs": [
    {
     "name": "stdout",
     "output_type": "stream",
     "text": [
      "Skills * Programming Languages: Python (pandas, numpy, scipy, scikit-learn, matplotlib), Sql, Java, \n"
     ]
    }
   ],
   "source": [
    "first_resume = df['Resume'][0]\n",
    "print(first_resume[:100])"
   ]
  },
  {
   "cell_type": "code",
   "execution_count": 4,
   "id": "642894d1",
   "metadata": {},
   "outputs": [],
   "source": [
    "# Load the pretrained model\n",
    "nlp = spacy.load('en_core_web_sm')"
   ]
  },
  {
   "cell_type": "code",
   "execution_count": 5,
   "id": "679d82bb",
   "metadata": {},
   "outputs": [],
   "source": [
    "# initiate the matcher with vocabulary"
   ]
  },
  {
   "cell_type": "markdown",
   "id": "53a4ec3e",
   "metadata": {},
   "source": [
    "### extract the names"
   ]
  },
  {
   "cell_type": "code",
   "execution_count": 6,
   "id": "f610fb52",
   "metadata": {},
   "outputs": [],
   "source": [
    "def get_name(resume_text):\n",
    "    nlp_text = nlp(resume_text)\n",
    "    pattern = [{'POS':'PROPN'}, {'POS':'PROPN'}]\n",
    "    matcher = Matcher(nlp.vocab)\n",
    "    matcher.add('RESUME', [pattern])\n",
    "    matches = matcher(nlp_text)\n",
    "    for match_id, start, end in matches:\n",
    "        span = nlp_text[start:end]\n",
    "        return span.text"
   ]
  },
  {
   "cell_type": "code",
   "execution_count": 7,
   "id": "c8a14915",
   "metadata": {},
   "outputs": [
    {
     "name": "stdout",
     "output_type": "stream",
     "text": [
      "Prabhavith Reddy\n",
      "Programming Languages\n"
     ]
    }
   ],
   "source": [
    "print(get_name('My name is Prabhavith Reddy'))\n",
    "print(get_name(first_resume))"
   ]
  },
  {
   "cell_type": "code",
   "execution_count": 8,
   "id": "b0cf388b",
   "metadata": {},
   "outputs": [],
   "source": [
    "data = {'resume': []}\n",
    "for file in os.listdir('batch_1')[:100]:\n",
    "    with open('batch_1\\\\'+file, 'r', encoding='utf-8') as f:\n",
    "        data['resume'].append(f.read().strip())\n",
    "        f.close()"
   ]
  },
  {
   "cell_type": "code",
   "execution_count": 9,
   "id": "29879c0f",
   "metadata": {},
   "outputs": [
    {
     "data": {
      "text/html": [
       "<div>\n",
       "<style scoped>\n",
       "    .dataframe tbody tr th:only-of-type {\n",
       "        vertical-align: middle;\n",
       "    }\n",
       "\n",
       "    .dataframe tbody tr th {\n",
       "        vertical-align: top;\n",
       "    }\n",
       "\n",
       "    .dataframe thead th {\n",
       "        text-align: right;\n",
       "    }\n",
       "</style>\n",
       "<table border=\"1\" class=\"dataframe\">\n",
       "  <thead>\n",
       "    <tr style=\"text-align: right;\">\n",
       "      <th></th>\n",
       "      <th>resume</th>\n",
       "    </tr>\n",
       "  </thead>\n",
       "  <tbody>\n",
       "    <tr>\n",
       "      <th>0</th>\n",
       "      <td>Arghya Das\\nMy Profile\\n\\nPROJECT ENGINEER, Ba...</td>\n",
       "    </tr>\n",
       "    <tr>\n",
       "      <th>1</th>\n",
       "      <td>CURRICULUM VITAE                              ...</td>\n",
       "    </tr>\n",
       "    <tr>\n",
       "      <th>2</th>\n",
       "      <td>VALLABH KALAGI\\n\\nSachin Jadhav\\nE-mail: sachi...</td>\n",
       "    </tr>\n",
       "    <tr>\n",
       "      <th>3</th>\n",
       "      <td>RESUME\\n\\nNITIN JAIN   \\n\\n\\n\\n\\n\\n       \\n\\n...</td>\n",
       "    </tr>\n",
       "    <tr>\n",
       "      <th>4</th>\n",
       "      <td>SANTOSH KUMAR DHAL\\n\\n\\nMobile No: +8553782862...</td>\n",
       "    </tr>\n",
       "  </tbody>\n",
       "</table>\n",
       "</div>"
      ],
      "text/plain": [
       "                                              resume\n",
       "0  Arghya Das\\nMy Profile\\n\\nPROJECT ENGINEER, Ba...\n",
       "1  CURRICULUM VITAE                              ...\n",
       "2  VALLABH KALAGI\\n\\nSachin Jadhav\\nE-mail: sachi...\n",
       "3  RESUME\\n\\nNITIN JAIN   \\n\\n\\n\\n\\n\\n       \\n\\n...\n",
       "4  SANTOSH KUMAR DHAL\\n\\n\\nMobile No: +8553782862..."
      ]
     },
     "execution_count": 9,
     "metadata": {},
     "output_type": "execute_result"
    }
   ],
   "source": [
    "df = pd.DataFrame(data)\n",
    "df.head()"
   ]
  },
  {
   "cell_type": "code",
   "execution_count": 10,
   "id": "7b9df193",
   "metadata": {},
   "outputs": [
    {
     "name": "stdout",
     "output_type": "stream",
     "text": [
      "Arghya Das\n",
      "CURRICULUM VITAE\n",
      "VALLABH KALAGI\n",
      "NITIN JAIN\n",
      "SANTOSH KUMAR\n",
      "Prem Prakash\n",
      "CURRICULUM VITAE\n",
      "CURRICULUM VITAE\n",
      "Sunil Kumar\n",
      "ALKA TIWARI\n"
     ]
    }
   ],
   "source": [
    "for i in range(10):\n",
    "    resume = df['resume'][i]\n",
    "    print(get_name(resume))"
   ]
  },
  {
   "cell_type": "markdown",
   "id": "486413fb",
   "metadata": {},
   "source": [
    "### extract contact numbers"
   ]
  },
  {
   "cell_type": "code",
   "execution_count": 11,
   "id": "c4c61ab8",
   "metadata": {},
   "outputs": [],
   "source": [
    "def get_contact(text):\n",
    "    pattern = re.compile(r'(\\d{3}[-\\.\\s]??\\d{3}[-\\.\\s]??\\d{4}|\\(\\d{3}\\)\\s*\\d{3}[-\\.\\s]??\\d{4}|\\d{3}[-\\.\\s]??\\d{4})')\n",
    "    phone = re.findall(pattern, text)\n",
    "    if phone:\n",
    "        number = ''.join(phone[0])\n",
    "        if len(number)>10:\n",
    "            return '+'+number\n",
    "        else:\n",
    "            return number"
   ]
  },
  {
   "cell_type": "code",
   "execution_count": 12,
   "id": "d0ab6b64",
   "metadata": {},
   "outputs": [
    {
     "name": "stdout",
     "output_type": "stream",
     "text": [
      "9972364371\n",
      "8734897900\n",
      "9561199772\n",
      "8010475082\n",
      "8553782862\n",
      "9654454943\n",
      "9664269288\n",
      "9748636525\n",
      "9743784702\n",
      "9599200393\n"
     ]
    }
   ],
   "source": [
    "for i in range(10):\n",
    "    resume = df['resume'][i]\n",
    "    print(get_contact(resume))"
   ]
  },
  {
   "cell_type": "markdown",
   "id": "41c1dcfa",
   "metadata": {},
   "source": [
    "### extract the email address"
   ]
  },
  {
   "cell_type": "code",
   "execution_count": 13,
   "id": "e1bd862e",
   "metadata": {},
   "outputs": [],
   "source": [
    "def get_email(text):\n",
    "    pattern = re.compile(r'\\b[A-Za-z0-9._%+-]+@[A-Za-z0-9.-]+\\.[A-Z|a-z]{2,}\\b')\n",
    "    email = re.findall(pattern, text)\n",
    "    if email:\n",
    "        return email[0]"
   ]
  },
  {
   "cell_type": "code",
   "execution_count": 14,
   "id": "6f55deb4",
   "metadata": {},
   "outputs": [
    {
     "name": "stdout",
     "output_type": "stream",
     "text": [
      "arg234@gmail.com\n",
      "Darjipooja3638@gmail.com\n",
      "sachinjadhav58@gmail.com\n",
      "nitin9482@gmail.com\n",
      "santoshkumardhal1993@gmail.com\n",
      "premgautam958@gmail.com\n",
      "Prajaktashinde2211@gmail.com\n",
      "saikatdutta030@gmail.com\n",
      "sunilkumarbt01@gmail.com\n",
      "alkatiwari124@gmail.com\n"
     ]
    }
   ],
   "source": [
    "for i in range(10):\n",
    "    resume = df['resume'][i]\n",
    "    print(get_email(resume))"
   ]
  },
  {
   "cell_type": "markdown",
   "id": "f8df18db",
   "metadata": {},
   "source": [
    "### extract educational qualifications"
   ]
  },
  {
   "cell_type": "code",
   "execution_count": 28,
   "id": "6f91146a",
   "metadata": {},
   "outputs": [],
   "source": [
    "EDUCATION = ['BE', 'B.E.', 'B.E', \n",
    "             'BS','B.S', 'ME', \n",
    "             'M.E', 'M.E.', 'MS', \n",
    "             'M.S', 'BTECH', 'B.TECH', \n",
    "             'M.TECH', 'MTECH', 'SSC', 'HSC','CBSE','ICSE','X', 'XII']"
   ]
  },
  {
   "cell_type": "code",
   "execution_count": 29,
   "id": "c06794a0",
   "metadata": {},
   "outputs": [],
   "source": [
    "def get_education(text):\n",
    "    doc = nlp(text)\n",
    "    # sentence tokenizer\n",
    "    doc = [sent.string.strip() for sent in doc.sents]\n",
    "    edu = {}\n",
    "    # extract the degrees\n",
    "    for index, text in enumerate(doc):\n",
    "        for t in text.split():\n",
    "            # replace the special symbols \n",
    "            t=re.sub(r'[?|!|,|,|.|$]', r'',t)\n",
    "            if t in EDUCATION and not nlp.vocab[t].is_stop:\n",
    "                edu[t] = text+doc[index]\n",
    "    # extract year\n",
    "    education=[]\n",
    "    for key in edu.keys():\n",
    "        pattern = re.compile(r'\\d{4}')\n",
    "        year = re.search(pattern, edu[key])\n",
    "        if year:\n",
    "            education.append((key, ''.join(year[0])))\n",
    "        else:\n",
    "            education.append(key)\n",
    "    return education"
   ]
  },
  {
   "cell_type": "code",
   "execution_count": 30,
   "id": "ea56bd4c",
   "metadata": {},
   "outputs": [
    {
     "name": "stdout",
     "output_type": "stream",
     "text": [
      "[('MS', '2005')]\n",
      "[('HSC', '2012'), ('SSC', '2012')]\n",
      "[]\n",
      "['MS']\n",
      "[]\n",
      "[]\n",
      "[('HSC', '2012'), 'SSC']\n",
      "[]\n",
      "[]\n",
      "[('XII', '2015'), ('CBSE', '2009'), ('X', '2008')]\n"
     ]
    }
   ],
   "source": [
    "for i in range(10):\n",
    "    resume = df['resume'][i]\n",
    "    print(get_education(resume))"
   ]
  },
  {
   "cell_type": "markdown",
   "id": "8e7c9e72",
   "metadata": {},
   "source": [
    "### extract the skills\n"
   ]
  },
  {
   "cell_type": "code",
   "execution_count": 31,
   "id": "7ec5c4be",
   "metadata": {},
   "outputs": [
    {
     "data": {
      "text/html": [
       "<div>\n",
       "<style scoped>\n",
       "    .dataframe tbody tr th:only-of-type {\n",
       "        vertical-align: middle;\n",
       "    }\n",
       "\n",
       "    .dataframe tbody tr th {\n",
       "        vertical-align: top;\n",
       "    }\n",
       "\n",
       "    .dataframe thead th {\n",
       "        text-align: right;\n",
       "    }\n",
       "</style>\n",
       "<table border=\"1\" class=\"dataframe\">\n",
       "  <thead>\n",
       "    <tr style=\"text-align: right;\">\n",
       "      <th></th>\n",
       "      <th>Unnamed: 0</th>\n",
       "      <th>ciphertext</th>\n",
       "      <th>skill_name</th>\n",
       "      <th>skill_rank</th>\n",
       "    </tr>\n",
       "  </thead>\n",
       "  <tbody>\n",
       "    <tr>\n",
       "      <th>0</th>\n",
       "      <td>10</td>\n",
       "      <td>~01d3ad50155896e4ae</td>\n",
       "      <td>econometrics</td>\n",
       "      <td>2</td>\n",
       "    </tr>\n",
       "    <tr>\n",
       "      <th>1</th>\n",
       "      <td>11</td>\n",
       "      <td>~01d3ad50155896e4ae</td>\n",
       "      <td>excel-vba</td>\n",
       "      <td>10</td>\n",
       "    </tr>\n",
       "    <tr>\n",
       "      <th>2</th>\n",
       "      <td>12</td>\n",
       "      <td>~01d3ad50155896e4ae</td>\n",
       "      <td>financial-analysis</td>\n",
       "      <td>9</td>\n",
       "    </tr>\n",
       "    <tr>\n",
       "      <th>3</th>\n",
       "      <td>13</td>\n",
       "      <td>~01d3ad50155896e4ae</td>\n",
       "      <td>financial-modeling</td>\n",
       "      <td>8</td>\n",
       "    </tr>\n",
       "    <tr>\n",
       "      <th>4</th>\n",
       "      <td>14</td>\n",
       "      <td>~01d3ad50155896e4ae</td>\n",
       "      <td>financial-writing</td>\n",
       "      <td>5</td>\n",
       "    </tr>\n",
       "  </tbody>\n",
       "</table>\n",
       "</div>"
      ],
      "text/plain": [
       "   Unnamed: 0           ciphertext          skill_name  skill_rank\n",
       "0          10  ~01d3ad50155896e4ae        econometrics           2\n",
       "1          11  ~01d3ad50155896e4ae           excel-vba          10\n",
       "2          12  ~01d3ad50155896e4ae  financial-analysis           9\n",
       "3          13  ~01d3ad50155896e4ae  financial-modeling           8\n",
       "4          14  ~01d3ad50155896e4ae   financial-writing           5"
      ]
     },
     "execution_count": 31,
     "metadata": {},
     "output_type": "execute_result"
    }
   ],
   "source": [
    "data = pd.read_csv('https://raw.githubusercontent.com/robinsones/Freelancer-Shiny-App/master/skills.csv')\n",
    "data.head()"
   ]
  },
  {
   "cell_type": "code",
   "execution_count": 45,
   "id": "c4665b7e",
   "metadata": {},
   "outputs": [],
   "source": [
    "def get_skills(text):\n",
    "    doc = nlp(text)\n",
    "    noun_chunks = doc.noun_chunks\n",
    "    \n",
    "    # removing the stopwords and implement the word tokenizer\n",
    "    tokens=[token.text for token in doc if not token.is_stop]\n",
    "    skills = list(data['skill_name'].values)\n",
    "    skillset = set()\n",
    "    # check the one grams\n",
    "    for token in tokens:\n",
    "        if token.lower() in skills:\n",
    "            skillset.add(token.lower())\n",
    "    # check for bigrams and trigrams\n",
    "    for token in noun_chunks:\n",
    "        token = token.text.lower().strip()\n",
    "        if token in skills:\n",
    "            skillset.add(token.lower())\n",
    "    return skillset"
   ]
  },
  {
   "cell_type": "code",
   "execution_count": 46,
   "id": "5a6bf74e",
   "metadata": {},
   "outputs": [
    {
     "name": "stdout",
     "output_type": "stream",
     "text": [
      "{'research', 'html', 'sql', 'javascript', 'asp.net', 'css', 'ado.net', 'english', 'analytics'}\n",
      "{'cooking', 'html', 'sql', 'writing', 'hindi', 'c', 'xhtml', 'asp.net', 'vb.net', 'english', 'sales', 'analytics', 'seo'}\n",
      "{'scripting', 'sales', 'com', 'html', 'sql', 'glassfish', 'crm', 'xml', 'splunk', 'java', 'jboss', 'english', 'itil', 'analytics', 'hindi'}\n",
      "{'accounting', 'research', 'animation'}\n",
      "{'scripting', 'animation', 'transcription', 'javascript', 'html', 'jquery', 'sql', 'english', 'bootstrap', 'c', 'asp.net', 'css', 'ajax', 'iis', 'hindi'}\n",
      "{'s', 'english', 'cooking', 'hindi'}\n",
      "{'english', 'lms', 'scheme', 'music', 'hindi'}\n",
      "{'accounting', 'filing', 'basic', 'bengali', 'english', 'sales', 'hindi'}\n",
      "{'research', 'html', 'writing', 'indexing', 'selling', 'hindi', 'english', 'sales', 'analytics', 'seo'}\n",
      "{'cics', 'robotics', 'jcl', 'sketching', 'cooking', 'sql', 'mysql', 'cobol', 'sas'}\n"
     ]
    }
   ],
   "source": [
    "for i in range(10):\n",
    "    resume = df['resume'][i]\n",
    "    print(get_skills(resume))"
   ]
  },
  {
   "cell_type": "markdown",
   "id": "cec3244f",
   "metadata": {},
   "source": [
    "### extract roles"
   ]
  },
  {
   "cell_type": "code",
   "execution_count": 47,
   "id": "840c3d67",
   "metadata": {},
   "outputs": [],
   "source": [
    "# Don't have the dataset which contains all the roles in industry, this is similar to skills"
   ]
  },
  {
   "cell_type": "markdown",
   "id": "dfcc181f",
   "metadata": {},
   "source": [
    "### COMPILE ALL INFORMATION"
   ]
  },
  {
   "cell_type": "code",
   "execution_count": 48,
   "id": "16f32967",
   "metadata": {},
   "outputs": [],
   "source": [
    "def compile_info(text):\n",
    "    info = {}\n",
    "    info['Name'] = get_name(text)\n",
    "    info['Contact'] = get_contact(text)\n",
    "    info['Email'] = get_email(text)\n",
    "    info['Education'] = get_education(text)\n",
    "    info['Skills'] = get_skills(text)\n",
    "    return info"
   ]
  },
  {
   "cell_type": "code",
   "execution_count": 50,
   "id": "2350d88b",
   "metadata": {},
   "outputs": [
    {
     "name": "stderr",
     "output_type": "stream",
     "text": [
      "100%|████████████████████████████████████████████████████████████████████████████████| 100/100 [03:03<00:00,  1.83s/it]\n"
     ]
    }
   ],
   "source": [
    "all_docs = []\n",
    "for i in tqdm(range(df.shape[0])):\n",
    "    all_docs.append(compile_info(df['resume'][i]))"
   ]
  },
  {
   "cell_type": "code",
   "execution_count": 53,
   "id": "37ad4fd1",
   "metadata": {},
   "outputs": [
    {
     "data": {
      "text/html": [
       "<div>\n",
       "<style scoped>\n",
       "    .dataframe tbody tr th:only-of-type {\n",
       "        vertical-align: middle;\n",
       "    }\n",
       "\n",
       "    .dataframe tbody tr th {\n",
       "        vertical-align: top;\n",
       "    }\n",
       "\n",
       "    .dataframe thead th {\n",
       "        text-align: right;\n",
       "    }\n",
       "</style>\n",
       "<table border=\"1\" class=\"dataframe\">\n",
       "  <thead>\n",
       "    <tr style=\"text-align: right;\">\n",
       "      <th></th>\n",
       "      <th>Name</th>\n",
       "      <th>Contact</th>\n",
       "      <th>Email</th>\n",
       "      <th>Education</th>\n",
       "      <th>Skills</th>\n",
       "    </tr>\n",
       "  </thead>\n",
       "  <tbody>\n",
       "    <tr>\n",
       "      <th>0</th>\n",
       "      <td>Arghya Das</td>\n",
       "      <td>9972364371</td>\n",
       "      <td>arg234@gmail.com</td>\n",
       "      <td>[(MS, 2005)]</td>\n",
       "      <td>{research, html, sql, javascript, asp.net, css...</td>\n",
       "    </tr>\n",
       "    <tr>\n",
       "      <th>1</th>\n",
       "      <td>CURRICULUM VITAE</td>\n",
       "      <td>8734897900</td>\n",
       "      <td>Darjipooja3638@gmail.com</td>\n",
       "      <td>[(HSC, 2012), (SSC, 2012)]</td>\n",
       "      <td>{cooking, html, sql, writing, hindi, c, xhtml,...</td>\n",
       "    </tr>\n",
       "    <tr>\n",
       "      <th>2</th>\n",
       "      <td>VALLABH KALAGI</td>\n",
       "      <td>9561199772</td>\n",
       "      <td>sachinjadhav58@gmail.com</td>\n",
       "      <td>[]</td>\n",
       "      <td>{scripting, sales, com, html, sql, glassfish, ...</td>\n",
       "    </tr>\n",
       "    <tr>\n",
       "      <th>3</th>\n",
       "      <td>NITIN JAIN</td>\n",
       "      <td>8010475082</td>\n",
       "      <td>nitin9482@gmail.com</td>\n",
       "      <td>[MS]</td>\n",
       "      <td>{accounting, research, animation}</td>\n",
       "    </tr>\n",
       "    <tr>\n",
       "      <th>4</th>\n",
       "      <td>SANTOSH KUMAR</td>\n",
       "      <td>8553782862</td>\n",
       "      <td>santoshkumardhal1993@gmail.com</td>\n",
       "      <td>[]</td>\n",
       "      <td>{scripting, animation, transcription, javascri...</td>\n",
       "    </tr>\n",
       "  </tbody>\n",
       "</table>\n",
       "</div>"
      ],
      "text/plain": [
       "               Name     Contact                           Email  \\\n",
       "0        Arghya Das  9972364371                arg234@gmail.com   \n",
       "1  CURRICULUM VITAE  8734897900        Darjipooja3638@gmail.com   \n",
       "2    VALLABH KALAGI  9561199772        sachinjadhav58@gmail.com   \n",
       "3        NITIN JAIN  8010475082             nitin9482@gmail.com   \n",
       "4     SANTOSH KUMAR  8553782862  santoshkumardhal1993@gmail.com   \n",
       "\n",
       "                    Education  \\\n",
       "0                [(MS, 2005)]   \n",
       "1  [(HSC, 2012), (SSC, 2012)]   \n",
       "2                          []   \n",
       "3                        [MS]   \n",
       "4                          []   \n",
       "\n",
       "                                              Skills  \n",
       "0  {research, html, sql, javascript, asp.net, css...  \n",
       "1  {cooking, html, sql, writing, hindi, c, xhtml,...  \n",
       "2  {scripting, sales, com, html, sql, glassfish, ...  \n",
       "3                  {accounting, research, animation}  \n",
       "4  {scripting, animation, transcription, javascri...  "
      ]
     },
     "execution_count": 53,
     "metadata": {},
     "output_type": "execute_result"
    }
   ],
   "source": [
    "pd.DataFrame(all_docs).head()"
   ]
  },
  {
   "cell_type": "markdown",
   "id": "584ec2a5",
   "metadata": {},
   "source": [
    "### END"
   ]
  },
  {
   "cell_type": "code",
   "execution_count": null,
   "id": "7e5b3587",
   "metadata": {},
   "outputs": [],
   "source": []
  }
 ],
 "metadata": {
  "kernelspec": {
   "display_name": "Python 3",
   "language": "python",
   "name": "python3"
  },
  "language_info": {
   "codemirror_mode": {
    "name": "ipython",
    "version": 3
   },
   "file_extension": ".py",
   "mimetype": "text/x-python",
   "name": "python",
   "nbconvert_exporter": "python",
   "pygments_lexer": "ipython3",
   "version": "3.8.8"
  }
 },
 "nbformat": 4,
 "nbformat_minor": 5
}
