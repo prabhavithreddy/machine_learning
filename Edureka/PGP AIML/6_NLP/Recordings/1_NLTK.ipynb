{
 "cells": [
  {
   "cell_type": "markdown",
   "id": "be1d36b2",
   "metadata": {},
   "source": [
    "# NLTK Library\n",
    "\n",
    "Natural language tool kit \n",
    "Allows us to apply techniques such as \n",
    "\n",
    "    * Parsing\n",
    "        Structure of Sentence/text\n",
    "    * Tokenization\n",
    "        Splitting to individual words\n",
    "    * Lemmatization\n",
    "        Getting root word\n",
    "    * Stemming\n",
    "        Getting the stemmed word e.g. -ing forms"
   ]
  },
  {
   "cell_type": "code",
   "execution_count": 7,
   "id": "4b31e237",
   "metadata": {},
   "outputs": [],
   "source": [
    "from nltk.tokenize import word_tokenize, sent_tokenize"
   ]
  },
  {
   "cell_type": "code",
   "execution_count": 12,
   "id": "1702088e",
   "metadata": {},
   "outputs": [
    {
     "name": "stdout",
     "output_type": "stream",
     "text": [
      "['This', 'is', 'India', '.', 'I', 'am', 'Prabhavith', '.']\n",
      "['I', 'do', \"n't\", 'like', 'Sam', \"'s\", 'shoes']\n"
     ]
    }
   ],
   "source": [
    "sentence = 'This is India. I am Prabhavith.'\n",
    "print(word_tokenize(sentence))\n",
    "print(word_tokenize(\"I don't like Sam's shoes\"))"
   ]
  },
  {
   "cell_type": "code",
   "execution_count": 9,
   "id": "0ab521a9",
   "metadata": {},
   "outputs": [
    {
     "data": {
      "text/plain": [
       "['This is India.', 'I am Prabhavith.']"
      ]
     },
     "execution_count": 9,
     "metadata": {},
     "output_type": "execute_result"
    }
   ],
   "source": [
    "sent_tokenize(sentence)"
   ]
  },
  {
   "cell_type": "code",
   "execution_count": 46,
   "id": "4127ac20",
   "metadata": {},
   "outputs": [],
   "source": [
    "text = '''Jai Bhim (transl. Victory for Bhim; referring to the slogan) is a 2021 Indian Tamil-language legal drama film directed by T. J. Gnanavel and produced by Jyothika and Suriya under 2D Entertainment. The film stars Suriya, with Lijomol Jose, K. Manikandan, Rajisha Vijayan, Prakash Raj, Rao Ramesh and others in supporting roles. Based on a true incident in 1993, which involves a case fought by Justice K. Chandru,[2] it follows Senggeni and Rajakannu, a couple from the Irular tribe.[3] Rajakannu was arrested by the police, and was later missing from the police station. Senggeni seeks the help of an advocate Chandru to seek justice for her husband. Chandru files a habeas corpus case and he refers Rajan case to continue further to find the truth.'''"
   ]
  },
  {
   "cell_type": "code",
   "execution_count": 14,
   "id": "2c400e8d",
   "metadata": {},
   "outputs": [],
   "source": [
    "from nltk.tokenize import word_tokenize, sent_tokenize\n",
    "sentences = sent_tokenize(text)"
   ]
  },
  {
   "cell_type": "code",
   "execution_count": 15,
   "id": "f1b248ac",
   "metadata": {},
   "outputs": [
    {
     "data": {
      "text/plain": [
       "['Jai Bhim (transl.',\n",
       " 'Victory for Bhim; referring to the slogan) is a 2021 Indian Tamil-language legal drama film directed by T. J. Gnanavel and produced by Jyothika and Suriya under 2D Entertainment.',\n",
       " 'The film stars Suriya, with Lijomol Jose, K. Manikandan, Rajisha Vijayan, Prakash Raj, Rao Ramesh and others in supporting roles.',\n",
       " 'Based on a true incident in 1993, which involves a case fought by Justice K. Chandru,[2] it follows Senggeni and Rajakannu, a couple from the Irular tribe.',\n",
       " '[3] Rajakannu was arrested by the police, and was later missing from the police station.',\n",
       " 'Senggeni seeks the help of an advocate Chandru to seek justice for her husband.',\n",
       " 'Chandru files a habeas corpus case and he refers Rajan case to continue further to find the truth.']"
      ]
     },
     "execution_count": 15,
     "metadata": {},
     "output_type": "execute_result"
    }
   ],
   "source": [
    "sentences"
   ]
  },
  {
   "cell_type": "code",
   "execution_count": 19,
   "id": "bfa28a09",
   "metadata": {},
   "outputs": [
    {
     "name": "stdout",
     "output_type": "stream",
     "text": [
      "['Victory', 'for', 'Bhim', ';', 'referring', 'to', 'the', 'slogan', ')', 'is', 'a', '2021', 'Indian', 'Tamil-language', 'legal', 'drama', 'film', 'directed', 'by', 'T.', 'J.', 'Gnanavel', 'and', 'produced', 'by', 'Jyothika', 'and', 'Suriya', 'under', '2D', 'Entertainment', '.']\n"
     ]
    }
   ],
   "source": [
    "tokenized_sentence = word_tokenize(sentences[1])\n",
    "print(tokenized_sentence)"
   ]
  },
  {
   "cell_type": "code",
   "execution_count": 21,
   "id": "76fa7242",
   "metadata": {},
   "outputs": [
    {
     "name": "stdout",
     "output_type": "stream",
     "text": [
      "{'under', 'directed', 'the', 'by', ')', 'to', 'drama', 'for', 'and', 'slogan', 'produced', 'is', 'T.', 'Jyothika', ';', 'Bhim', 'Victory', 'Gnanavel', 'film', '.', 'Suriya', 'Tamil-language', 'a', 'J.', '2D', 'legal', 'referring', '2021', 'Entertainment', 'Indian'}\n"
     ]
    }
   ],
   "source": [
    "# make set of unique tokens\n",
    "unique_tokens = set(tokenized_sentence)\n",
    "print(unique_tokens)"
   ]
  },
  {
   "cell_type": "code",
   "execution_count": 28,
   "id": "ee02aa5a",
   "metadata": {},
   "outputs": [],
   "source": [
    "# tokenize using regex to get capital words and emojis\n",
    "text = '''und am Ende auch interpretiert! Er fragt sich: was ist sein Käfig? Das Tor [=goal]? Der Druck [=pressure], gewinnen zu müssen? Oliver Kahn war der Torhüter [=goalie] der deutschen Nationalmannschaft (1995-2006), und von Bayern München (1994-2008)'''\n",
    "capital_words = r'[A-ZÜ]\\w+'"
   ]
  },
  {
   "cell_type": "code",
   "execution_count": 29,
   "id": "71014922",
   "metadata": {},
   "outputs": [
    {
     "name": "stdout",
     "output_type": "stream",
     "text": [
      "['und', 'am', 'Ende', 'auch', 'interpretiert', '!', 'Er', 'fragt', 'sich', ':', 'was', 'ist', 'sein', 'Käfig', '?', 'Das', 'Tor', '[', '=goal', ']', '?', 'Der', 'Druck', '[', '=pressure', ']', ',', 'gewinnen', 'zu', 'müssen', '?', 'Oliver', 'Kahn', 'war', 'der', 'Torhüter', '[', '=goalie', ']', 'der', 'deutschen', 'Nationalmannschaft', '(', '1995-2006', ')', ',', 'und', 'von', 'Bayern', 'München', '(', '1994-2008', ')']\n"
     ]
    }
   ],
   "source": [
    "print(word_tokenize(text))"
   ]
  },
  {
   "cell_type": "code",
   "execution_count": 31,
   "id": "69395d8a",
   "metadata": {},
   "outputs": [
    {
     "data": {
      "text/plain": [
       "['Ende',\n",
       " 'Er',\n",
       " 'Käfig',\n",
       " 'Das',\n",
       " 'Tor',\n",
       " 'Der',\n",
       " 'Druck',\n",
       " 'Oliver',\n",
       " 'Kahn',\n",
       " 'Torhüter',\n",
       " 'Nationalmannschaft',\n",
       " 'Bayern',\n",
       " 'München']"
      ]
     },
     "execution_count": 31,
     "metadata": {},
     "output_type": "execute_result"
    }
   ],
   "source": [
    "from nltk.tokenize import regexp_tokenize\n",
    "regexp_tokenize(text, capital_words)"
   ]
  },
  {
   "cell_type": "code",
   "execution_count": 30,
   "id": "b0cf4491",
   "metadata": {},
   "outputs": [
    {
     "data": {
      "text/plain": [
       "['Ende',\n",
       " 'Er',\n",
       " 'Käfig',\n",
       " 'Das',\n",
       " 'Tor',\n",
       " 'Der',\n",
       " 'Druck',\n",
       " 'Oliver',\n",
       " 'Kahn',\n",
       " 'Torhüter',\n",
       " 'Nationalmannschaft',\n",
       " 'Bayern',\n",
       " 'München']"
      ]
     },
     "execution_count": 30,
     "metadata": {},
     "output_type": "execute_result"
    }
   ],
   "source": [
    "import re\n",
    "re.findall(capital_words, text)"
   ]
  },
  {
   "cell_type": "code",
   "execution_count": 35,
   "id": "cbdc4021",
   "metadata": {},
   "outputs": [
    {
     "name": "stdout",
     "output_type": "stream",
     "text": [
      "[['Introducing', '#Coussin', '!', 'The', 'newest', 'bag', 'from', 'the', 'Louis', 'Vuitton', 'Spring', 'Summer', 'Collection', '!', '@LouisVuitton'], ['Bringing', 'back', '#TheDeepikaPadukoneCloset', '!', 'This', 'month', ',', 'its', 'about', 'the', 'absolute', 'essentials', '!', 'So', 'I', '’', 've', 'put', 'together', 'a', 'few', 'of', 'my', 'favourite', 'essentials', 'from', 'my', 'closet', 'for', 'you', 'to', 'own', '!', 'As', 'always', ',', 'proceeds', 'go', 'to', '@TLLLFoundationBuy', 'now', 'at', ':', 'http://deepikapadukone.com/closet', '#LVCoussin']]\n"
     ]
    }
   ],
   "source": [
    "from nltk.tokenize import TweetTokenizer\n",
    "\n",
    "tknzr = TweetTokenizer()\n",
    "\n",
    "tweets = [\"Introducing #Coussin! The newest bag from the Louis Vuitton Spring Summer Collection! @LouisVuitton\", \n",
    "          \"Bringing back #TheDeepikaPadukoneCloset ! This month, its about the absolute essentials! So I’ve put together a few of my favourite essentials from my closet for you to own! As always, proceeds go to @TLLLFoundationBuy now at: http://deepikapadukone.com/closet #LVCoussin\"]\n",
    "\n",
    "print([tknzr.tokenize(tweet) for tweet in tweets])"
   ]
  },
  {
   "cell_type": "code",
   "execution_count": 41,
   "id": "61b5e62f",
   "metadata": {},
   "outputs": [
    {
     "data": {
      "image/png": "[encoded data removed]",
      "text/plain": [
       "<Figure size 432x288 with 1 Axes>"
      ]
     },
     "metadata": {
      "needs_background": "light"
     },
     "output_type": "display_data"
    }
   ],
   "source": [
    "import matplotlib.pyplot as plt\n",
    "# do some plotting with these tokens\n",
    "\n",
    "words = word_tokenize(text)\n",
    "word_lengths = [len(w) for w in words]\n",
    "plt.hist(word_lengths)\n",
    "plt.show()"
   ]
  },
  {
   "cell_type": "markdown",
   "id": "1c4af71b",
   "metadata": {},
   "source": [
    "# Bag of Words (BOW)"
   ]
  },
  {
   "cell_type": "markdown",
   "id": "345ab2ea",
   "metadata": {},
   "source": [
    "Basic methods for finding topics in a text\n",
    "The more frequent a word, the more important it might be\n",
    "\n",
    "Example\n",
    "\n",
    "    Text: The cat is in the box. The cat likes the box. The box is over the cat.\"\n",
    "    Bag of words(stripped punctuation):\n",
    "        \"The\":3, \"box\":3\n",
    "        \"cat\":3, \"the\":3\n",
    "        \"is\":2\n",
    "        \"in\":1, \"likes\":1, \"over\":1"
   ]
  },
  {
   "cell_type": "code",
   "execution_count": 47,
   "id": "cd157347",
   "metadata": {},
   "outputs": [
    {
     "name": "stdout",
     "output_type": "stream",
     "text": [
      "['jai', 'bhim', '(', 'transl', '.', 'victory', 'for', 'bhim', ';', 'referring', 'to', 'the', 'slogan', ')', 'is', 'a', '2021', 'indian', 'tamil-language', 'legal', 'drama', 'film', 'directed', 'by', 't.', 'j.', 'gnanavel', 'and', 'produced', 'by', 'jyothika', 'and', 'suriya', 'under', '2d', 'entertainment', '.', 'the', 'film', 'stars', 'suriya', ',', 'with', 'lijomol', 'jose', ',', 'k.', 'manikandan', ',', 'rajisha', 'vijayan', ',', 'prakash', 'raj', ',', 'rao', 'ramesh', 'and', 'others', 'in', 'supporting', 'roles', '.', 'based', 'on', 'a', 'true', 'incident', 'in', '1993', ',', 'which', 'involves', 'a', 'case', 'fought', 'by', 'justice', 'k.', 'chandru', ',', '[', '2', ']', 'it', 'follows', 'senggeni', 'and', 'rajakannu', ',', 'a', 'couple', 'from', 'the', 'irular', 'tribe', '.', '[', '3', ']', 'rajakannu', 'was', 'arrested', 'by', 'the', 'police', ',', 'and', 'was', 'later', 'missing', 'from', 'the', 'police', 'station', '.', 'senggeni', 'seeks', 'the', 'help', 'of', 'an', 'advocate', 'chandru', 'to', 'seek', 'justice', 'for', 'her', 'husband', '.', 'chandru', 'files', 'a', 'habeas', 'corpus', 'case', 'and', 'he', 'refers', 'rajan', 'case', 'to', 'continue', 'further', 'to', 'find', 'the', 'truth', '.']\n"
     ]
    }
   ],
   "source": [
    "from nltk.tokenize import word_tokenize\n",
    "from collections import Counter\n",
    "tokens = word_tokenize(text.lower())\n",
    "print(tokens)"
   ]
  },
  {
   "cell_type": "code",
   "execution_count": 48,
   "id": "45b6a41c",
   "metadata": {},
   "outputs": [
    {
     "data": {
      "text/plain": [
       "[(',', 9),\n",
       " ('.', 7),\n",
       " ('the', 7),\n",
       " ('and', 6),\n",
       " ('a', 5),\n",
       " ('to', 4),\n",
       " ('by', 4),\n",
       " ('case', 3),\n",
       " ('chandru', 3),\n",
       " ('bhim', 2)]"
      ]
     },
     "execution_count": 48,
     "metadata": {},
     "output_type": "execute_result"
    }
   ],
   "source": [
    "bow = Counter(tokens)\n",
    "bow.most_common()[:10]"
   ]
  },
  {
   "cell_type": "code",
   "execution_count": 64,
   "id": "afab7790",
   "metadata": {},
   "outputs": [
    {
     "name": "stderr",
     "output_type": "stream",
     "text": [
      "[nltk_data] Downloading package wordnet to\n",
      "[nltk_data]     C:\\Users\\vlekkala\\AppData\\Roaming\\nltk_data...\n",
      "[nltk_data]   Package wordnet is already up-to-date!\n"
     ]
    },
    {
     "data": {
      "text/plain": [
       "True"
      ]
     },
     "execution_count": 64,
     "metadata": {},
     "output_type": "execute_result"
    }
   ],
   "source": [
    "# Do a cleaned bag of words\n",
    "import nltk\n",
    "nltk.download('wordnet')"
   ]
  },
  {
   "cell_type": "code",
   "execution_count": 68,
   "id": "5f55a134",
   "metadata": {},
   "outputs": [],
   "source": [
    "from nltk.corpus import stopwords\n",
    "from nltk.tokenize import word_tokenize\n",
    "from collections import Counter\n",
    "from nltk.stem import WordNetLemmatizer\n",
    "\n",
    "def preprocess(text):\n",
    "    wnl = WordNetLemmatizer()\n",
    "\n",
    "    tokens = [wnl.lemmatize(word) for word in word_tokenize(text.lower()) if word.isalpha() and word not in stopwords.words('english')]\n",
    "    return tokens"
   ]
  },
  {
   "cell_type": "code",
   "execution_count": 70,
   "id": "21fee126",
   "metadata": {},
   "outputs": [
    {
     "data": {
      "text/plain": [
       "[('cool', 1), ('method', 1), ('coll', 1), ('programming', 1), ('day', 1)]"
      ]
     },
     "execution_count": 70,
     "metadata": {},
     "output_type": "execute_result"
    }
   ],
   "source": [
    "tokens = preprocess(\"This is a cool method to do coll programming for 2 day!!!!!\")\n",
    "bow = Counter(tokens)\n",
    "bow.most_common()[:20]"
   ]
  },
  {
   "cell_type": "code",
   "execution_count": 73,
   "id": "ca899790",
   "metadata": {},
   "outputs": [
    {
     "data": {
      "text/plain": [
       "<3x3 sparse matrix of type '<class 'numpy.int64'>'\n",
       "\twith 3 stored elements in Compressed Sparse Row format>"
      ]
     },
     "execution_count": 73,
     "metadata": {},
     "output_type": "execute_result"
    }
   ],
   "source": [
    "from sklearn.feature_extraction.text import CountVectorizer\n",
    "cv = CountVectorizer()\n",
    "\n",
    "result = cv.fit_transform(['one', 'two', 'three'])\n",
    "result"
   ]
  },
  {
   "cell_type": "code",
   "execution_count": null,
   "id": "e26272db",
   "metadata": {},
   "outputs": [],
   "source": []
  },
  {
   "cell_type": "code",
   "execution_count": null,
   "id": "155085f1",
   "metadata": {},
   "outputs": [],
   "source": []
  }
 ],
 "metadata": {
  "kernelspec": {
   "display_name": "Python 3",
   "language": "python",
   "name": "python3"
  },
  "language_info": {
   "codemirror_mode": {
    "name": "ipython",
    "version": 3
   },
   "file_extension": ".py",
   "mimetype": "text/x-python",
   "name": "python",
   "nbconvert_exporter": "python",
   "pygments_lexer": "ipython3",
   "version": "3.8.8"
  }
 },
 "nbformat": 4,
 "nbformat_minor": 5
}
