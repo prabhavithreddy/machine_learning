{
 "cells": [
  {
   "cell_type": "markdown",
   "id": "31b1dfda",
   "metadata": {},
   "source": [
    "### Named entity recognition(NER)\n",
    "\n",
    "    * NER is the NLP task to identify important named entities in the text:\n",
    "    * People, places, organizations\n",
    "    * Dates, states, work of art\n",
    "    * Can be used alongside topic identification or on its own"
   ]
  },
  {
   "cell_type": "code",
   "execution_count": 1,
   "id": "cec5cc88",
   "metadata": {},
   "outputs": [
    {
     "name": "stderr",
     "output_type": "stream",
     "text": [
      "[nltk_data] Error loading average-perceptron-tagger: Package 'average-\n",
      "[nltk_data]     perceptron-tagger' not found in index\n",
      "[nltk_data] Downloading package maxent_ne_chunker to\n",
      "[nltk_data]     C:\\Users\\vlekkala\\AppData\\Roaming\\nltk_data...\n",
      "[nltk_data]   Package maxent_ne_chunker is already up-to-date!\n"
     ]
    }
   ],
   "source": [
    "# NER using NLTK\n",
    "import nltk \n",
    "nltk.download('average-perceptron-tagger')\n",
    "nltk.download('maxent_ne_chunker')\n",
    "\n",
    "sentence = \"In New York, I like to ride the Metro to visit MOMA and some restaurants rated well by Ruth Rachel\""
   ]
  },
  {
   "cell_type": "code",
   "execution_count": 2,
   "id": "845c98da",
   "metadata": {},
   "outputs": [
    {
     "data": {
      "text/plain": [
       "[('In', 'IN'),\n",
       " ('New', 'NNP'),\n",
       " ('York', 'NNP'),\n",
       " (',', ','),\n",
       " ('I', 'PRP'),\n",
       " ('like', 'VBP'),\n",
       " ('to', 'TO'),\n",
       " ('ride', 'VB'),\n",
       " ('the', 'DT'),\n",
       " ('Metro', 'NNP'),\n",
       " ('to', 'TO'),\n",
       " ('visit', 'VB'),\n",
       " ('MOMA', 'NNP'),\n",
       " ('and', 'CC'),\n",
       " ('some', 'DT'),\n",
       " ('restaurants', 'NNS'),\n",
       " ('rated', 'VBN'),\n",
       " ('well', 'RB'),\n",
       " ('by', 'IN'),\n",
       " ('Ruth', 'NNP'),\n",
       " ('Rachel', 'NNP')]"
      ]
     },
     "execution_count": 2,
     "metadata": {},
     "output_type": "execute_result"
    }
   ],
   "source": [
    "tokenized_sent = nltk.word_tokenize(sentence)\n",
    "tagged_sent = nltk.pos_tag(tokenized_sent)\n",
    "tagged_sent"
   ]
  },
  {
   "cell_type": "code",
   "execution_count": null,
   "id": "1f39b159",
   "metadata": {},
   "outputs": [],
   "source": []
  }
 ],
 "metadata": {
  "kernelspec": {
   "display_name": "Python 3",
   "language": "python",
   "name": "python3"
  },
  "language_info": {
   "codemirror_mode": {
    "name": "ipython",
    "version": 3
   },
   "file_extension": ".py",
   "mimetype": "text/x-python",
   "name": "python",
   "nbconvert_exporter": "python",
   "pygments_lexer": "ipython3",
   "version": "3.8.8"
  }
 },
 "nbformat": 4,
 "nbformat_minor": 5
}
