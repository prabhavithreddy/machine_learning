{
 "cells": [
  {
   "cell_type": "code",
   "execution_count": null,
   "id": "9a4f5a2d",
   "metadata": {},
   "outputs": [],
   "source": [
    "#pip install gensim"
   ]
  },
  {
   "cell_type": "code",
   "execution_count": 2,
   "id": "996ac063",
   "metadata": {},
   "outputs": [],
   "source": [
    "#pip install wikipedia"
   ]
  },
  {
   "cell_type": "code",
   "execution_count": 3,
   "id": "1950e80b",
   "metadata": {},
   "outputs": [],
   "source": [
    "from gensim.summarization.summarizer import summarize\n",
    "from gensim.summarization import keywords\n",
    "import wikipedia"
   ]
  },
  {
   "cell_type": "code",
   "execution_count": 5,
   "id": "016a136c",
   "metadata": {},
   "outputs": [
    {
     "name": "stdout",
     "output_type": "stream",
     "text": [
      "Percentage wise Summary\n",
      "\n",
      "Sachin Ramesh Tendulkar ( (listen); pronounced [sət͡ʃin t̪eːɳɖulkəɾ]; born 24 April 1973) is a former international cricketer of India who served as captain of the Indian national team.\n",
      "He narrowly missed out on playing alongside his idol Gavaskar, who had retired from all forms of cricket after the 1987 Cricket World Cup. A year later, on 11 December 1988, aged 15 years and 232 days, Tendulkar made his debut for Bombay against Gujarat at Wankhede stadium and scored 100 not out in that match, making him the youngest Indian to score a century on debut in first-class cricket.\n",
      "Thus Sachin Tendulkar became the youngest player to debut for India in Tests at the age of 16 years and 205 days and also the youngest player to debut for India in ODIs at the age of 16 years and 238 days.The series was followed by a tour of New Zealand in which he scored 117 runs at an average of 29.25 in Tests including an innings of 88 in the second Test.\n",
      "Tendulkar further enhanced his reputation as a future great during the 1991–92 tour of Australia held before the 1992 Cricket World Cup, that included an unbeaten 148 in the third Test at Sydney, making him the youngest batsman to score a century in Australia.\n",
      "The Test match success was followed by two consecutive centuries in April 1998 in a Triangular cricket tournament in Sharjah—the first in a must-win game to take India to the finals and then again in the finals, both against Australia.\n",
      "Following the series, Warne ruefully joked that he was having nightmares about his Indian nemesis.Tendulkar's contribution in the ICC 1998 quarterfinal at Dhaka paved the way for India's entry into the semifinals, when he took four Australian wickets after scoring 141 runs in 128 balls.The inaugural Asian Test Championship took place in February and March 1999, involving India, Pakistan, and Sri Lanka.\n",
      "After another Test series defeat, this time by a 0–2 margin at home against South Africa, Tendulkar resigned, and Sourav Ganguly took over as captain in 2000.During the Indian team's 2007 tour of England, the desire of Rahul Dravid to resign from the captaincy became known.\n",
      "While Australia retained the trophy that they had won in 1999, Tendulkar was given the Man of the Tournament award.He continued to score heavily in ODI cricket that year, with two hundreds in a tri-series involving New Zealand and Australia.\n",
      "He played a part in India's victory in Mumbai in that series with a fast 55, though Australia took the series 2–1.On 10 December 2005 at Feroz Shah Kotla, Tendulkar scored his record-breaking 35th Test century, against the Sri Lankans.\n",
      "He secured the Man of the Match award.In the One-Day International Commonwealth Bank Tri-Series involving India, Sri Lanka and Australia, Tendulkar became the only batsman to complete 16,000 runs in ODIs. He achieved this feat against Sri Lanka on 5 February 2008 at the Gabba in Brisbane.\n"
     ]
    }
   ],
   "source": [
    "import spacy\n",
    "\n",
    "wikisearch = wikipedia.page('Sachin Tendulkar')\n",
    "wikicontent = wikisearch.content\n",
    "\n",
    "# Loading the nlp core\n",
    "\n",
    "nlp = spacy.load('en_core_web_md')\n",
    "doc = nlp(wikicontent)\n",
    "\n",
    "# Summary (0.2% of the original content)\n",
    "summ_per = summarize(wikicontent, ratio = 0.02)\n",
    "print(\"Percentage wise Summary\\n\")\n",
    "print(summ_per)"
   ]
  },
  {
   "cell_type": "markdown",
   "id": "d8afb0a1",
   "metadata": {},
   "source": [
    "### SUMMARIZE USING TRANSFORMER MODEL"
   ]
  },
  {
   "cell_type": "code",
   "execution_count": 8,
   "id": "db9ce37a",
   "metadata": {},
   "outputs": [],
   "source": [
    "#pip install transformers"
   ]
  },
  {
   "cell_type": "code",
   "execution_count": 9,
   "id": "cc43995c",
   "metadata": {},
   "outputs": [],
   "source": [
    "from transformers import pipeline"
   ]
  },
  {
   "cell_type": "code",
   "execution_count": 10,
   "id": "c5223de1",
   "metadata": {},
   "outputs": [
    {
     "name": "stderr",
     "output_type": "stream",
     "text": [
      "No model was supplied, defaulted to t5-small (https://huggingface.co/t5-small)\n"
     ]
    },
    {
     "data": {
      "application/vnd.jupyter.widget-view+json": {
       "model_id": "7b1d08929b944c378936255ad08277cf",
       "version_major": 2,
       "version_minor": 0
      },
      "text/plain": [
       "Downloading:   0%|          | 0.00/1.17k [00:00<?, ?B/s]"
      ]
     },
     "metadata": {},
     "output_type": "display_data"
    },
    {
     "data": {
      "application/vnd.jupyter.widget-view+json": {
       "model_id": "b1207a4a9cc24f29b6a0720be6b5c329",
       "version_major": 2,
       "version_minor": 0
      },
      "text/plain": [
       "Downloading:   0%|          | 0.00/231M [00:00<?, ?B/s]"
      ]
     },
     "metadata": {},
     "output_type": "display_data"
    },
    {
     "name": "stderr",
     "output_type": "stream",
     "text": [
      "All model checkpoint layers were used when initializing TFT5ForConditionalGeneration.\n",
      "\n",
      "All the layers of TFT5ForConditionalGeneration were initialized from the model checkpoint at t5-small.\n",
      "If your task is similar to the task the model of the checkpoint was trained on, you can already use TFT5ForConditionalGeneration for predictions without further training.\n"
     ]
    },
    {
     "data": {
      "application/vnd.jupyter.widget-view+json": {
       "model_id": "d10d2015c32e48728183018c496725d1",
       "version_major": 2,
       "version_minor": 0
      },
      "text/plain": [
       "Downloading:   0%|          | 0.00/773k [00:00<?, ?B/s]"
      ]
     },
     "metadata": {},
     "output_type": "display_data"
    },
    {
     "data": {
      "application/vnd.jupyter.widget-view+json": {
       "model_id": "e070640fd7c14dab9e2bd3d11d6668fc",
       "version_major": 2,
       "version_minor": 0
      },
      "text/plain": [
       "Downloading:   0%|          | 0.00/1.32M [00:00<?, ?B/s]"
      ]
     },
     "metadata": {},
     "output_type": "display_data"
    }
   ],
   "source": [
    "# Load summarization pipeline\n",
    "summarizer = pipeline('summarization')"
   ]
  },
  {
   "cell_type": "code",
   "execution_count": 14,
   "id": "df739956",
   "metadata": {},
   "outputs": [
    {
     "data": {
      "text/plain": [
       "'Sachin Ramesh Tendulkar ( (listen); pronounced [sət͡ʃin t̪eːɳɖulkəɾ]; born 24 April 1973) is a former international cricketer of India who served as captain of the Indian national team. He is widely regarded as one of the greatest batsmen in the history of cricket. He is the highest run scorer of all time in international cricket, and the only player to have scored one hundred international centuries, the first batsman to score a double century in a One Day International (ODI), the holder of the record for the most runs in both Test and ODI cricket, and the only player to complete more than 30,000 runs in international cricket. In 2013, he was the only Indian cricketer included in an all-time Test World XI named to mark the 150th anniversary of Wisden Cricketers\\' Almanack. He is affectionately known as \"Little Master\" or \"Master Blaster\".Tendulkar took up cricket at the age of eleven, made his Test debut on 15 November 1989 against Pakistan in Karachi at the age of sixteen, and went on to represent Mumbai domestically and India internationally for close to twenty-four years. In 2002, halfway through his career, Wisden Cricketers\\' Almanack ranked him the second-greatest Test batsman of all time, behind Don Bradman, and the second-greatest ODI batsman of all time, behind Viv Richards. Later in his career, Tendulkar was a part of the Indian team that won the 2011 World Cup, his first win in six World Cup appearances for India. He had previously been named \"Player of the Tournament\" at the 2003 edition of the tournament, held in South Africa.\\nTendulkar received the Arjuna Award in 1994 for his outstanding sporting achievement, the Khel Ratna award in 1997, India\\'s highest sporting honour, and the Padma Shri and Padma Vibhushan awards in 1999 and 2008, respectively, India\\'s fourth- and second-highest civilian awards. After a few hours of his final match on 16 November 2013, the Prime Minister\\'s Office announced the decision to award him the Bharat Ratna, India\\'s highest '"
      ]
     },
     "execution_count": 14,
     "metadata": {},
     "output_type": "execute_result"
    }
   ],
   "source": [
    "wikicontent[:2000]"
   ]
  },
  {
   "cell_type": "code",
   "execution_count": 18,
   "id": "9cd6309b",
   "metadata": {},
   "outputs": [
    {
     "data": {
      "text/plain": [
       "[{'summary_text': 'Sachin Ramesh Tendulkar is the highest run scorer of all time in international cricket . he is the only player to have scored one hundred international centuries . in 2013, he was the only Indian cricketer included in an all-time test world XI .'}]"
      ]
     },
     "execution_count": 18,
     "metadata": {},
     "output_type": "execute_result"
    }
   ],
   "source": [
    "text = wikicontent[:2000]\n",
    "summarizer(text, max_length=400, min_length=25, do_sample=False)"
   ]
  },
  {
   "cell_type": "code",
   "execution_count": 2,
   "id": "60b15fe0",
   "metadata": {},
   "outputs": [],
   "source": [
    "import pycaret"
   ]
  },
  {
   "cell_type": "code",
   "execution_count": null,
   "id": "9634e556",
   "metadata": {},
   "outputs": [],
   "source": []
  }
 ],
 "metadata": {
  "kernelspec": {
   "display_name": "Python 3",
   "language": "python",
   "name": "python3"
  },
  "language_info": {
   "codemirror_mode": {
    "name": "ipython",
    "version": 3
   },
   "file_extension": ".py",
   "mimetype": "text/x-python",
   "name": "python",
   "nbconvert_exporter": "python",
   "pygments_lexer": "ipython3",
   "version": "3.8.8"
  }
 },
 "nbformat": 4,
 "nbformat_minor": 5
}
