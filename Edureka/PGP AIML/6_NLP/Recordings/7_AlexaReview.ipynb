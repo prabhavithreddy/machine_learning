{
 "cells": [
  {
   "cell_type": "code",
   "execution_count": 1,
   "id": "b730917b",
   "metadata": {},
   "outputs": [],
   "source": [
    "import pandas as pd\n",
    "import numpy as np\n",
    "import warnings\n",
    "warnings.filterwarnings('ignore')"
   ]
  },
  {
   "cell_type": "code",
   "execution_count": 2,
   "id": "eb517971",
   "metadata": {},
   "outputs": [
    {
     "data": {
      "text/html": [
       "<div>\n",
       "<style scoped>\n",
       "    .dataframe tbody tr th:only-of-type {\n",
       "        vertical-align: middle;\n",
       "    }\n",
       "\n",
       "    .dataframe tbody tr th {\n",
       "        vertical-align: top;\n",
       "    }\n",
       "\n",
       "    .dataframe thead th {\n",
       "        text-align: right;\n",
       "    }\n",
       "</style>\n",
       "<table border=\"1\" class=\"dataframe\">\n",
       "  <thead>\n",
       "    <tr style=\"text-align: right;\">\n",
       "      <th></th>\n",
       "      <th>Id</th>\n",
       "      <th>ProductId</th>\n",
       "      <th>UserId</th>\n",
       "      <th>ProfileName</th>\n",
       "      <th>HelpfulnessNumerator</th>\n",
       "      <th>HelpfulnessDenominator</th>\n",
       "      <th>Score</th>\n",
       "      <th>Time</th>\n",
       "      <th>Summary</th>\n",
       "      <th>Text</th>\n",
       "    </tr>\n",
       "  </thead>\n",
       "  <tbody>\n",
       "    <tr>\n",
       "      <th>0</th>\n",
       "      <td>1</td>\n",
       "      <td>B001E4KFG0</td>\n",
       "      <td>A3SGXH7AUHU8GW</td>\n",
       "      <td>delmartian</td>\n",
       "      <td>1</td>\n",
       "      <td>1</td>\n",
       "      <td>5</td>\n",
       "      <td>1303862400</td>\n",
       "      <td>Good Quality Dog Food</td>\n",
       "      <td>I have bought several of the Vitality canned d...</td>\n",
       "    </tr>\n",
       "    <tr>\n",
       "      <th>1</th>\n",
       "      <td>2</td>\n",
       "      <td>B00813GRG4</td>\n",
       "      <td>A1D87F6ZCVE5NK</td>\n",
       "      <td>dll pa</td>\n",
       "      <td>0</td>\n",
       "      <td>0</td>\n",
       "      <td>1</td>\n",
       "      <td>1346976000</td>\n",
       "      <td>Not as Advertised</td>\n",
       "      <td>Product arrived labeled as Jumbo Salted Peanut...</td>\n",
       "    </tr>\n",
       "    <tr>\n",
       "      <th>2</th>\n",
       "      <td>3</td>\n",
       "      <td>B000LQOCH0</td>\n",
       "      <td>ABXLMWJIXXAIN</td>\n",
       "      <td>Natalia Corres \"Natalia Corres\"</td>\n",
       "      <td>1</td>\n",
       "      <td>1</td>\n",
       "      <td>4</td>\n",
       "      <td>1219017600</td>\n",
       "      <td>\"Delight\" says it all</td>\n",
       "      <td>This is a confection that has been around a fe...</td>\n",
       "    </tr>\n",
       "    <tr>\n",
       "      <th>3</th>\n",
       "      <td>4</td>\n",
       "      <td>B000UA0QIQ</td>\n",
       "      <td>A395BORC6FGVXV</td>\n",
       "      <td>Karl</td>\n",
       "      <td>3</td>\n",
       "      <td>3</td>\n",
       "      <td>2</td>\n",
       "      <td>1307923200</td>\n",
       "      <td>Cough Medicine</td>\n",
       "      <td>If you are looking for the secret ingredient i...</td>\n",
       "    </tr>\n",
       "    <tr>\n",
       "      <th>4</th>\n",
       "      <td>5</td>\n",
       "      <td>B006K2ZZ7K</td>\n",
       "      <td>A1UQRSCLF8GW1T</td>\n",
       "      <td>Michael D. Bigham \"M. Wassir\"</td>\n",
       "      <td>0</td>\n",
       "      <td>0</td>\n",
       "      <td>5</td>\n",
       "      <td>1350777600</td>\n",
       "      <td>Great taffy</td>\n",
       "      <td>Great taffy at a great price.  There was a wid...</td>\n",
       "    </tr>\n",
       "  </tbody>\n",
       "</table>\n",
       "</div>"
      ],
      "text/plain": [
       "   Id   ProductId          UserId                      ProfileName  \\\n",
       "0   1  B001E4KFG0  A3SGXH7AUHU8GW                       delmartian   \n",
       "1   2  B00813GRG4  A1D87F6ZCVE5NK                           dll pa   \n",
       "2   3  B000LQOCH0   ABXLMWJIXXAIN  Natalia Corres \"Natalia Corres\"   \n",
       "3   4  B000UA0QIQ  A395BORC6FGVXV                             Karl   \n",
       "4   5  B006K2ZZ7K  A1UQRSCLF8GW1T    Michael D. Bigham \"M. Wassir\"   \n",
       "\n",
       "   HelpfulnessNumerator  HelpfulnessDenominator  Score        Time  \\\n",
       "0                     1                       1      5  1303862400   \n",
       "1                     0                       0      1  1346976000   \n",
       "2                     1                       1      4  1219017600   \n",
       "3                     3                       3      2  1307923200   \n",
       "4                     0                       0      5  1350777600   \n",
       "\n",
       "                 Summary                                               Text  \n",
       "0  Good Quality Dog Food  I have bought several of the Vitality canned d...  \n",
       "1      Not as Advertised  Product arrived labeled as Jumbo Salted Peanut...  \n",
       "2  \"Delight\" says it all  This is a confection that has been around a fe...  \n",
       "3         Cough Medicine  If you are looking for the secret ingredient i...  \n",
       "4            Great taffy  Great taffy at a great price.  There was a wid...  "
      ]
     },
     "execution_count": 2,
     "metadata": {},
     "output_type": "execute_result"
    }
   ],
   "source": [
    "df = pd.read_csv('Reviews.csv')\n",
    "df.head()"
   ]
  },
  {
   "cell_type": "code",
   "execution_count": 3,
   "id": "6d6ee3b3",
   "metadata": {},
   "outputs": [
    {
     "data": {
      "text/plain": [
       "(568454, 10)"
      ]
     },
     "execution_count": 3,
     "metadata": {},
     "output_type": "execute_result"
    }
   ],
   "source": [
    "# Shape of the dataframe\n",
    "df.shape"
   ]
  },
  {
   "cell_type": "code",
   "execution_count": 4,
   "id": "4e2c3fdf",
   "metadata": {},
   "outputs": [
    {
     "data": {
      "text/plain": [
       "(1000, 10)"
      ]
     },
     "execution_count": 4,
     "metadata": {},
     "output_type": "execute_result"
    }
   ],
   "source": [
    "# Take sample of 1000\n",
    "\n",
    "sample_df = df.sample(1000)\n",
    "# Print shape of the sample\n",
    "sample_df.shape"
   ]
  },
  {
   "cell_type": "code",
   "execution_count": 5,
   "id": "714e14f8",
   "metadata": {},
   "outputs": [
    {
     "data": {
      "text/html": [
       "<div>\n",
       "<style scoped>\n",
       "    .dataframe tbody tr th:only-of-type {\n",
       "        vertical-align: middle;\n",
       "    }\n",
       "\n",
       "    .dataframe tbody tr th {\n",
       "        vertical-align: top;\n",
       "    }\n",
       "\n",
       "    .dataframe thead th {\n",
       "        text-align: right;\n",
       "    }\n",
       "</style>\n",
       "<table border=\"1\" class=\"dataframe\">\n",
       "  <thead>\n",
       "    <tr style=\"text-align: right;\">\n",
       "      <th></th>\n",
       "      <th>Id</th>\n",
       "      <th>ProductId</th>\n",
       "      <th>UserId</th>\n",
       "      <th>ProfileName</th>\n",
       "      <th>HelpfulnessNumerator</th>\n",
       "      <th>HelpfulnessDenominator</th>\n",
       "      <th>Score</th>\n",
       "      <th>Time</th>\n",
       "      <th>Summary</th>\n",
       "      <th>Text</th>\n",
       "    </tr>\n",
       "  </thead>\n",
       "  <tbody>\n",
       "    <tr>\n",
       "      <th>495772</th>\n",
       "      <td>495773</td>\n",
       "      <td>B0098WV8F2</td>\n",
       "      <td>A2PV0TBG04BZKF</td>\n",
       "      <td>jump_ace</td>\n",
       "      <td>1</td>\n",
       "      <td>1</td>\n",
       "      <td>3</td>\n",
       "      <td>1334966400</td>\n",
       "      <td>Ok tasting on its own.</td>\n",
       "      <td>This was ok on its own mixed with water. I muc...</td>\n",
       "    </tr>\n",
       "    <tr>\n",
       "      <th>552799</th>\n",
       "      <td>552800</td>\n",
       "      <td>B001SB4LSC</td>\n",
       "      <td>A2Q2GDB5XDYQV5</td>\n",
       "      <td>From The Tree House</td>\n",
       "      <td>2</td>\n",
       "      <td>2</td>\n",
       "      <td>5</td>\n",
       "      <td>1256428800</td>\n",
       "      <td>Absolutely perfect rice.</td>\n",
       "      <td>Light, long grain, tasty and a brilliant white...</td>\n",
       "    </tr>\n",
       "    <tr>\n",
       "      <th>383057</th>\n",
       "      <td>383058</td>\n",
       "      <td>B001PMDYV4</td>\n",
       "      <td>AVSTWD92CNM89</td>\n",
       "      <td>Caroline</td>\n",
       "      <td>0</td>\n",
       "      <td>0</td>\n",
       "      <td>5</td>\n",
       "      <td>1338076800</td>\n",
       "      <td>Cats like it</td>\n",
       "      <td>I have two Siamese kittens who are on a mostly...</td>\n",
       "    </tr>\n",
       "    <tr>\n",
       "      <th>357408</th>\n",
       "      <td>357409</td>\n",
       "      <td>B006DR0HMU</td>\n",
       "      <td>A3HVK0BC3VYDH5</td>\n",
       "      <td>Enya</td>\n",
       "      <td>1</td>\n",
       "      <td>1</td>\n",
       "      <td>5</td>\n",
       "      <td>1336003200</td>\n",
       "      <td>My favorite dark chocolate</td>\n",
       "      <td>I love this chocolate. It has 85% cacao, so it...</td>\n",
       "    </tr>\n",
       "    <tr>\n",
       "      <th>205681</th>\n",
       "      <td>205682</td>\n",
       "      <td>B000E65OII</td>\n",
       "      <td>A3NOBH42C7UI5M</td>\n",
       "      <td>Carol \"kepela\"</td>\n",
       "      <td>2</td>\n",
       "      <td>3</td>\n",
       "      <td>5</td>\n",
       "      <td>1193788800</td>\n",
       "      <td>I love the smell of this tea and the flavor</td>\n",
       "      <td>I drink a lot of tea and I've tried many diffe...</td>\n",
       "    </tr>\n",
       "  </tbody>\n",
       "</table>\n",
       "</div>"
      ],
      "text/plain": [
       "            Id   ProductId          UserId          ProfileName  \\\n",
       "495772  495773  B0098WV8F2  A2PV0TBG04BZKF             jump_ace   \n",
       "552799  552800  B001SB4LSC  A2Q2GDB5XDYQV5  From The Tree House   \n",
       "383057  383058  B001PMDYV4   AVSTWD92CNM89             Caroline   \n",
       "357408  357409  B006DR0HMU  A3HVK0BC3VYDH5                 Enya   \n",
       "205681  205682  B000E65OII  A3NOBH42C7UI5M       Carol \"kepela\"   \n",
       "\n",
       "        HelpfulnessNumerator  HelpfulnessDenominator  Score        Time  \\\n",
       "495772                     1                       1      3  1334966400   \n",
       "552799                     2                       2      5  1256428800   \n",
       "383057                     0                       0      5  1338076800   \n",
       "357408                     1                       1      5  1336003200   \n",
       "205681                     2                       3      5  1193788800   \n",
       "\n",
       "                                            Summary  \\\n",
       "495772                       Ok tasting on its own.   \n",
       "552799                     Absolutely perfect rice.   \n",
       "383057                                 Cats like it   \n",
       "357408                   My favorite dark chocolate   \n",
       "205681  I love the smell of this tea and the flavor   \n",
       "\n",
       "                                                     Text  \n",
       "495772  This was ok on its own mixed with water. I muc...  \n",
       "552799  Light, long grain, tasty and a brilliant white...  \n",
       "383057  I have two Siamese kittens who are on a mostly...  \n",
       "357408  I love this chocolate. It has 85% cacao, so it...  \n",
       "205681  I drink a lot of tea and I've tried many diffe...  "
      ]
     },
     "execution_count": 5,
     "metadata": {},
     "output_type": "execute_result"
    }
   ],
   "source": [
    "sample_df.head()"
   ]
  },
  {
   "cell_type": "code",
   "execution_count": 6,
   "id": "8a652dea",
   "metadata": {},
   "outputs": [
    {
     "data": {
      "text/plain": [
       "5    638\n",
       "4    147\n",
       "1     95\n",
       "3     65\n",
       "2     55\n",
       "Name: Score, dtype: int64"
      ]
     },
     "execution_count": 6,
     "metadata": {},
     "output_type": "execute_result"
    }
   ],
   "source": [
    "# Distribution of score\n",
    "sample_df['Score'].value_counts()"
   ]
  },
  {
   "cell_type": "code",
   "execution_count": 7,
   "id": "c4d81c86",
   "metadata": {},
   "outputs": [
    {
     "data": {
      "text/plain": [
       "5    363122\n",
       "4     80655\n",
       "1     52268\n",
       "3     42640\n",
       "2     29769\n",
       "Name: Score, dtype: int64"
      ]
     },
     "execution_count": 7,
     "metadata": {},
     "output_type": "execute_result"
    }
   ],
   "source": [
    "# Distribution of score\n",
    "df['Score'].value_counts()"
   ]
  },
  {
   "cell_type": "code",
   "execution_count": 8,
   "id": "761dfb43",
   "metadata": {},
   "outputs": [
    {
     "data": {
      "text/plain": [
       "(1000, 10)"
      ]
     },
     "execution_count": 8,
     "metadata": {},
     "output_type": "execute_result"
    }
   ],
   "source": [
    "# Since the scores are not uniformly distributed, let us take 200 from each category\n",
    "\n",
    "sample_df = df.sample(df.shape[0]).groupby(['Score']).head(200)\n",
    "sample_df.shape"
   ]
  },
  {
   "cell_type": "code",
   "execution_count": 9,
   "id": "db42dc98",
   "metadata": {
    "scrolled": true
   },
   "outputs": [
    {
     "data": {
      "text/html": [
       "<div>\n",
       "<style scoped>\n",
       "    .dataframe tbody tr th:only-of-type {\n",
       "        vertical-align: middle;\n",
       "    }\n",
       "\n",
       "    .dataframe tbody tr th {\n",
       "        vertical-align: top;\n",
       "    }\n",
       "\n",
       "    .dataframe thead th {\n",
       "        text-align: right;\n",
       "    }\n",
       "</style>\n",
       "<table border=\"1\" class=\"dataframe\">\n",
       "  <thead>\n",
       "    <tr style=\"text-align: right;\">\n",
       "      <th></th>\n",
       "      <th>Id</th>\n",
       "      <th>ProductId</th>\n",
       "      <th>UserId</th>\n",
       "      <th>ProfileName</th>\n",
       "      <th>HelpfulnessNumerator</th>\n",
       "      <th>HelpfulnessDenominator</th>\n",
       "      <th>Score</th>\n",
       "      <th>Time</th>\n",
       "      <th>Summary</th>\n",
       "      <th>Text</th>\n",
       "    </tr>\n",
       "  </thead>\n",
       "  <tbody>\n",
       "    <tr>\n",
       "      <th>155433</th>\n",
       "      <td>155434</td>\n",
       "      <td>B000GAT6NG</td>\n",
       "      <td>A1W1V6RD1I9R2D</td>\n",
       "      <td>Cecil \"Bay Area Pilot\"</td>\n",
       "      <td>1</td>\n",
       "      <td>5</td>\n",
       "      <td>5</td>\n",
       "      <td>1320710400</td>\n",
       "      <td>Happy!  Would recommend to anyone!</td>\n",
       "      <td>Item arrived when promised and works as descri...</td>\n",
       "    </tr>\n",
       "    <tr>\n",
       "      <th>26919</th>\n",
       "      <td>26920</td>\n",
       "      <td>B004NDV46E</td>\n",
       "      <td>ARM0FJD9YRWV6</td>\n",
       "      <td>kk</td>\n",
       "      <td>0</td>\n",
       "      <td>0</td>\n",
       "      <td>5</td>\n",
       "      <td>1320796800</td>\n",
       "      <td>Great product</td>\n",
       "      <td>I have been using emergen-c packets for years ...</td>\n",
       "    </tr>\n",
       "    <tr>\n",
       "      <th>484306</th>\n",
       "      <td>484307</td>\n",
       "      <td>B00020HHGS</td>\n",
       "      <td>A1YJNI5NUYVJKG</td>\n",
       "      <td>RLH</td>\n",
       "      <td>0</td>\n",
       "      <td>0</td>\n",
       "      <td>5</td>\n",
       "      <td>1333929600</td>\n",
       "      <td>Love this tea</td>\n",
       "      <td>Better than many I have tried.  With a little ...</td>\n",
       "    </tr>\n",
       "    <tr>\n",
       "      <th>547177</th>\n",
       "      <td>547178</td>\n",
       "      <td>B002ESMK4U</td>\n",
       "      <td>A1UD8NKXB3868M</td>\n",
       "      <td>B. Ryan-Cabot</td>\n",
       "      <td>2</td>\n",
       "      <td>2</td>\n",
       "      <td>3</td>\n",
       "      <td>1277942400</td>\n",
       "      <td>Just OK</td>\n",
       "      <td>I was attracted to the price, size and pecan f...</td>\n",
       "    </tr>\n",
       "    <tr>\n",
       "      <th>359134</th>\n",
       "      <td>359135</td>\n",
       "      <td>B0051SU8BC</td>\n",
       "      <td>AI1SSQELYZGLB</td>\n",
       "      <td>C. Hinton</td>\n",
       "      <td>0</td>\n",
       "      <td>0</td>\n",
       "      <td>3</td>\n",
       "      <td>1343001600</td>\n",
       "      <td>People at work like it</td>\n",
       "      <td>I ordered this based on overall positive revie...</td>\n",
       "    </tr>\n",
       "  </tbody>\n",
       "</table>\n",
       "</div>"
      ],
      "text/plain": [
       "            Id   ProductId          UserId             ProfileName  \\\n",
       "155433  155434  B000GAT6NG  A1W1V6RD1I9R2D  Cecil \"Bay Area Pilot\"   \n",
       "26919    26920  B004NDV46E   ARM0FJD9YRWV6                      kk   \n",
       "484306  484307  B00020HHGS  A1YJNI5NUYVJKG                     RLH   \n",
       "547177  547178  B002ESMK4U  A1UD8NKXB3868M           B. Ryan-Cabot   \n",
       "359134  359135  B0051SU8BC   AI1SSQELYZGLB               C. Hinton   \n",
       "\n",
       "        HelpfulnessNumerator  HelpfulnessDenominator  Score        Time  \\\n",
       "155433                     1                       5      5  1320710400   \n",
       "26919                      0                       0      5  1320796800   \n",
       "484306                     0                       0      5  1333929600   \n",
       "547177                     2                       2      3  1277942400   \n",
       "359134                     0                       0      3  1343001600   \n",
       "\n",
       "                                   Summary  \\\n",
       "155433  Happy!  Would recommend to anyone!   \n",
       "26919                        Great product   \n",
       "484306                       Love this tea   \n",
       "547177                             Just OK   \n",
       "359134              People at work like it   \n",
       "\n",
       "                                                     Text  \n",
       "155433  Item arrived when promised and works as descri...  \n",
       "26919   I have been using emergen-c packets for years ...  \n",
       "484306  Better than many I have tried.  With a little ...  \n",
       "547177  I was attracted to the price, size and pecan f...  \n",
       "359134  I ordered this based on overall positive revie...  "
      ]
     },
     "execution_count": 9,
     "metadata": {},
     "output_type": "execute_result"
    }
   ],
   "source": [
    "sample_df.head()"
   ]
  },
  {
   "cell_type": "code",
   "execution_count": 10,
   "id": "4a3748a9",
   "metadata": {},
   "outputs": [
    {
     "data": {
      "text/html": [
       "<div>\n",
       "<style scoped>\n",
       "    .dataframe tbody tr th:only-of-type {\n",
       "        vertical-align: middle;\n",
       "    }\n",
       "\n",
       "    .dataframe tbody tr th {\n",
       "        vertical-align: top;\n",
       "    }\n",
       "\n",
       "    .dataframe thead th {\n",
       "        text-align: right;\n",
       "    }\n",
       "</style>\n",
       "<table border=\"1\" class=\"dataframe\">\n",
       "  <thead>\n",
       "    <tr style=\"text-align: right;\">\n",
       "      <th></th>\n",
       "      <th>Text</th>\n",
       "      <th>Score</th>\n",
       "    </tr>\n",
       "  </thead>\n",
       "  <tbody>\n",
       "    <tr>\n",
       "      <th>155433</th>\n",
       "      <td>Item arrived when promised and works as descri...</td>\n",
       "      <td>5</td>\n",
       "    </tr>\n",
       "    <tr>\n",
       "      <th>26919</th>\n",
       "      <td>I have been using emergen-c packets for years ...</td>\n",
       "      <td>5</td>\n",
       "    </tr>\n",
       "    <tr>\n",
       "      <th>484306</th>\n",
       "      <td>Better than many I have tried.  With a little ...</td>\n",
       "      <td>5</td>\n",
       "    </tr>\n",
       "    <tr>\n",
       "      <th>547177</th>\n",
       "      <td>I was attracted to the price, size and pecan f...</td>\n",
       "      <td>3</td>\n",
       "    </tr>\n",
       "    <tr>\n",
       "      <th>359134</th>\n",
       "      <td>I ordered this based on overall positive revie...</td>\n",
       "      <td>3</td>\n",
       "    </tr>\n",
       "  </tbody>\n",
       "</table>\n",
       "</div>"
      ],
      "text/plain": [
       "                                                     Text  Score\n",
       "155433  Item arrived when promised and works as descri...      5\n",
       "26919   I have been using emergen-c packets for years ...      5\n",
       "484306  Better than many I have tried.  With a little ...      5\n",
       "547177  I was attracted to the price, size and pecan f...      3\n",
       "359134  I ordered this based on overall positive revie...      3"
      ]
     },
     "execution_count": 10,
     "metadata": {},
     "output_type": "execute_result"
    }
   ],
   "source": [
    "review_df = sample_df[['Text', 'Score']]\n",
    "review_df.head()"
   ]
  },
  {
   "cell_type": "code",
   "execution_count": 11,
   "id": "824d2a8b",
   "metadata": {},
   "outputs": [
    {
     "data": {
      "text/plain": [
       "1    200\n",
       "2    200\n",
       "3    200\n",
       "4    200\n",
       "5    200\n",
       "Name: Score, dtype: int64"
      ]
     },
     "execution_count": 11,
     "metadata": {},
     "output_type": "execute_result"
    }
   ],
   "source": [
    "review_df.Score.value_counts()"
   ]
  },
  {
   "cell_type": "code",
   "execution_count": 12,
   "id": "494fd970",
   "metadata": {},
   "outputs": [],
   "source": [
    "review_df['Score'] = review_df['Score'].apply(lambda s: 1 if  s>3 else 0)"
   ]
  },
  {
   "cell_type": "code",
   "execution_count": 13,
   "id": "aa83abea",
   "metadata": {},
   "outputs": [
    {
     "data": {
      "text/plain": [
       "0    600\n",
       "1    400\n",
       "Name: Score, dtype: int64"
      ]
     },
     "execution_count": 13,
     "metadata": {},
     "output_type": "execute_result"
    }
   ],
   "source": [
    "review_df['Score'].value_counts()"
   ]
  },
  {
   "cell_type": "code",
   "execution_count": 14,
   "id": "dc828fbb",
   "metadata": {},
   "outputs": [
    {
     "name": "stderr",
     "output_type": "stream",
     "text": [
      "[nltk_data] Downloading package wordnet to\n",
      "[nltk_data]     C:\\Users\\vlekkala\\AppData\\Roaming\\nltk_data...\n",
      "[nltk_data]   Package wordnet is already up-to-date!\n"
     ]
    }
   ],
   "source": [
    "# Importing the required libraries\n",
    "import nltk\n",
    "from nltk.tokenize import sent_tokenize, word_tokenize\n",
    "from nltk.corpus import stopwords\n",
    "from nltk.stem import WordNetLemmatizer\n",
    "\n",
    "nltk.download('wordnet')\n",
    "import string\n",
    "\n",
    "lemmatizer = WordNetLemmatizer()\n",
    "\n",
    "english_stop_words = stopwords.words('english')"
   ]
  },
  {
   "cell_type": "code",
   "execution_count": 15,
   "id": "b6f958ca",
   "metadata": {},
   "outputs": [],
   "source": [
    "def clean_text(sentence):\n",
    "    sentence = sentence.lower()\n",
    "    words = word_tokenize(sentence)\n",
    "    lemmatized = [lemmatizer.lemmatize(word) \n",
    "                  for word in words \n",
    "                  if word not in english_stop_words and word not in string.punctuation and word.isalpha()]\n",
    "    return \" \".join(lemmatized)"
   ]
  },
  {
   "cell_type": "code",
   "execution_count": 16,
   "id": "da7fd424",
   "metadata": {},
   "outputs": [],
   "source": [
    "import spacy\n",
    "nlp = spacy.load('en_core_web_sm')"
   ]
  },
  {
   "cell_type": "code",
   "execution_count": 17,
   "id": "2bede378",
   "metadata": {},
   "outputs": [],
   "source": [
    "\n",
    "def clean_text_spacy(sentence):\n",
    "    corpus = []\n",
    "    \n",
    "    doc = nlp(sentence.lower())\n",
    "    for token in doc:\n",
    "        if token.pos_ in ['ADV','ADJ', 'VERB'] and (not token.is_punct) and (token.text not in english_stop_words):\n",
    "            corpus.append(token.lemma_)\n",
    "\n",
    "    return \" \".join(corpus)"
   ]
  },
  {
   "cell_type": "code",
   "execution_count": 18,
   "id": "7b18c210",
   "metadata": {},
   "outputs": [
    {
     "name": "stdout",
     "output_type": "stream",
     "text": [
      "greatful product\n",
      "greatful\n"
     ]
    }
   ],
   "source": [
    "print(clean_text('I am very greatful to the product 10'))\n",
    "print(clean_text_spacy('I am very greatful to the product 10'))"
   ]
  },
  {
   "cell_type": "code",
   "execution_count": 19,
   "id": "58159055",
   "metadata": {},
   "outputs": [
    {
     "data": {
      "text/plain": [
       "155433    arrive promise work describe use season eat ta...\n",
       "26919                use love give good fall well important\n",
       "484306    well many try little terrific go order nice sm...\n",
       "547177                          attract pecan bad find weak\n",
       "359134    order base overall positive tender crazy seem ...\n",
       "Name: Text, dtype: object"
      ]
     },
     "execution_count": 19,
     "metadata": {},
     "output_type": "execute_result"
    }
   ],
   "source": [
    "review_df.head()['Text'].apply(clean_text_spacy).head()"
   ]
  },
  {
   "cell_type": "code",
   "execution_count": 20,
   "id": "bbcbf49a",
   "metadata": {},
   "outputs": [],
   "source": [
    "from sklearn.model_selection import train_test_split\n",
    "from sklearn.metrics import classification_report\n",
    "\n",
    "\n",
    "from sklearn.feature_extraction.text import TfidfVectorizer\n",
    "from sklearn.ensemble import RandomForestClassifier\n",
    "from sklearn.svm import LinearSVC\n",
    "from sklearn.pipeline import Pipeline\n",
    "\n",
    "tfidf = TfidfVectorizer(tokenizer=clean_text_spacy)\n",
    "model = RandomForestClassifier()\n",
    "\n",
    "clf = Pipeline([('tfidf', tfidf),('clf', model)])\n",
    "\n",
    "X = review_df['Text']\n",
    "y = review_df['Score']\n",
    "\n",
    "X_train, X_test, y_train, y_test = train_test_split(X, y,random_state=42, test_size=0.2)\n",
    "\n",
    "clf.fit(X_train, y_train)\n",
    "\n",
    "y_pred = clf.predict(X_test)"
   ]
  },
  {
   "cell_type": "code",
   "execution_count": 21,
   "id": "c5be4c3e",
   "metadata": {},
   "outputs": [
    {
     "name": "stdout",
     "output_type": "stream",
     "text": [
      "              precision    recall  f1-score   support\n",
      "\n",
      "           0       0.63      0.91      0.74       114\n",
      "           1       0.71      0.28      0.40        86\n",
      "\n",
      "    accuracy                           0.64       200\n",
      "   macro avg       0.67      0.60      0.57       200\n",
      "weighted avg       0.66      0.64      0.60       200\n",
      "\n"
     ]
    }
   ],
   "source": [
    "print(classification_report(y_test, y_pred))"
   ]
  },
  {
   "cell_type": "code",
   "execution_count": 22,
   "id": "96d7f7a0",
   "metadata": {},
   "outputs": [
    {
     "data": {
      "text/plain": [
       "array([1], dtype=int64)"
      ]
     },
     "execution_count": 22,
     "metadata": {},
     "output_type": "execute_result"
    }
   ],
   "source": [
    "clf.predict(['This is a very good product'])"
   ]
  },
  {
   "cell_type": "code",
   "execution_count": 23,
   "id": "d6112a91",
   "metadata": {},
   "outputs": [],
   "source": [
    "import spacy\n",
    "nlp = spacy.load('en_core_web_sm')"
   ]
  },
  {
   "cell_type": "code",
   "execution_count": 24,
   "id": "8606b76f",
   "metadata": {},
   "outputs": [
    {
     "name": "stdout",
     "output_type": "stream",
     "text": [
      "I PRON\n",
      "am AUX\n",
      "very ADV\n",
      "greatful ADJ\n",
      "to ADP\n",
      "the DET\n",
      "product NOUN\n",
      "10 NUM\n"
     ]
    }
   ],
   "source": [
    "doc = nlp(\"I am very greatful to the product 10\")\n",
    "for token in doc:\n",
    "    print(token, token.pos_)"
   ]
  },
  {
   "cell_type": "code",
   "execution_count": 25,
   "id": "fd251adf",
   "metadata": {},
   "outputs": [
    {
     "data": {
      "text/plain": [
       "'Item arrived when promised and works as described.  Using for popcorn seasoned with Flavocal - I am now eating popcorn that tastes EXACTLY like movie popcorn.<br /><br />SPECIAL NOTE:  I will likely stop offering to review products if Amazon continues with the silly 20 word minimum.  If they want to establish minimums then I want a discount or rebate on future items I may order.'"
      ]
     },
     "execution_count": 25,
     "metadata": {},
     "output_type": "execute_result"
    }
   ],
   "source": [
    "review_df.iloc[0,0]"
   ]
  },
  {
   "cell_type": "code",
   "execution_count": 38,
   "id": "90c719c4",
   "metadata": {},
   "outputs": [
    {
     "data": {
      "text/html": [
       "<style  type=\"text/css\" >\n",
       "</style><table id=\"T_5e31d_\" ><thead>    <tr>        <th class=\"col_heading level0 col0\" >Description</th>        <th class=\"col_heading level0 col1\" >Value</th>    </tr></thead><tbody>\n",
       "                <tr>\n",
       "                                <td id=\"T_5e31d_row0_col0\" class=\"data row0 col0\" >session_id</td>\n",
       "                        <td id=\"T_5e31d_row0_col1\" class=\"data row0 col1\" >12</td>\n",
       "            </tr>\n",
       "            <tr>\n",
       "                                <td id=\"T_5e31d_row1_col0\" class=\"data row1 col0\" >Documents</td>\n",
       "                        <td id=\"T_5e31d_row1_col1\" class=\"data row1 col1\" >1000</td>\n",
       "            </tr>\n",
       "            <tr>\n",
       "                                <td id=\"T_5e31d_row2_col0\" class=\"data row2 col0\" >Vocab Size</td>\n",
       "                        <td id=\"T_5e31d_row2_col1\" class=\"data row2 col1\" >0</td>\n",
       "            </tr>\n",
       "            <tr>\n",
       "                                <td id=\"T_5e31d_row3_col0\" class=\"data row3 col0\" >Custom Stopwords</td>\n",
       "                        <td id=\"T_5e31d_row3_col1\" class=\"data row3 col1\" >False</td>\n",
       "            </tr>\n",
       "    </tbody></table>"
      ],
      "text/plain": [
       "<pandas.io.formats.style.Styler at 0x1e9462d1e80>"
      ]
     },
     "metadata": {},
     "output_type": "display_data"
    }
   ],
   "source": [
    "import pycaret\n",
    "from pycaret.nlp import *\n",
    "#intialize the setup\n",
    "exp_clf = setup(data = sample_df, target = 'Score', session_id=12)"
   ]
  },
  {
   "cell_type": "code",
   "execution_count": 40,
   "id": "3b43c0d7",
   "metadata": {},
   "outputs": [],
   "source": [
    "#lda = create_model(model = 'lda')\n",
    "# Not really sure why this is failing"
   ]
  },
  {
   "cell_type": "code",
   "execution_count": null,
   "id": "55d7d804",
   "metadata": {},
   "outputs": [],
   "source": []
  }
 ],
 "metadata": {
  "kernelspec": {
   "display_name": "Python 3",
   "language": "python",
   "name": "python3"
  },
  "language_info": {
   "codemirror_mode": {
    "name": "ipython",
    "version": 3
   },
   "file_extension": ".py",
   "mimetype": "text/x-python",
   "name": "python",
   "nbconvert_exporter": "python",
   "pygments_lexer": "ipython3",
   "version": "3.8.8"
  }
 },
 "nbformat": 4,
 "nbformat_minor": 5
}
