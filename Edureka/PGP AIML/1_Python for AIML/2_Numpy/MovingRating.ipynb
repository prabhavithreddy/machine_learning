{
 "cells": [
  {
   "cell_type": "code",
   "execution_count": 1,
   "metadata": {},
   "outputs": [],
   "source": [
    "import numpy as np"
   ]
  },
  {
   "cell_type": "code",
   "execution_count": 40,
   "metadata": {},
   "outputs": [],
   "source": [
    "no_of_movies = 20\n",
    "no_of_users = 10"
   ]
  },
  {
   "cell_type": "code",
   "execution_count": 34,
   "metadata": {},
   "outputs": [
    {
     "data": {
      "text/plain": [
       "array([0, 1, 2, 3, 4, 5, 6, 7, 8, 9])"
      ]
     },
     "execution_count": 34,
     "metadata": {},
     "output_type": "execute_result"
    }
   ],
   "source": [
    "movies = np.arange(no_of_movies)\n",
    "movies[:10]"
   ]
  },
  {
   "cell_type": "code",
   "execution_count": 35,
   "metadata": {},
   "outputs": [
    {
     "data": {
      "text/plain": [
       "array([0, 1, 2, 3, 4, 5, 6, 7, 8, 9])"
      ]
     },
     "execution_count": 35,
     "metadata": {},
     "output_type": "execute_result"
    }
   ],
   "source": [
    "users = np.arange(no_of_users)\n",
    "users[:10]"
   ]
  },
  {
   "cell_type": "code",
   "execution_count": 48,
   "metadata": {},
   "outputs": [
    {
     "data": {
      "text/plain": [
       "array([[0, 0, 6, 0, 0, 0, 0, 0, 0, 5, 0, 8, 2, 1, 0, 0, 2, 0, 8, 2],\n",
       "       [0, 0, 0, 6, 0, 0, 5, 0, 0, 0, 0, 0, 0, 0, 5, 4, 5, 0, 0, 0],\n",
       "       [0, 0, 0, 0, 2, 0, 0, 0, 0, 0, 0, 0, 1, 0, 0, 0, 0, 0, 0, 0],\n",
       "       [0, 0, 8, 5, 4, 8, 0, 0, 0, 0, 0, 6, 0, 8, 0, 8, 0, 0, 0, 0],\n",
       "       [0, 0, 0, 0, 0, 0, 1, 0, 0, 0, 0, 0, 0, 0, 0, 0, 0, 0, 0, 0],\n",
       "       [5, 1, 0, 0, 9, 6, 0, 0, 6, 5, 0, 9, 1, 0, 1, 1, 0, 6, 0, 0],\n",
       "       [0, 6, 4, 0, 0, 0, 0, 5, 9, 1, 0, 2, 7, 5, 6, 0, 0, 5, 6, 0],\n",
       "       [0, 0, 0, 9, 0, 6, 6, 1, 1, 0, 9, 0, 0, 0, 0, 2, 4, 6, 4, 3],\n",
       "       [9, 6, 8, 2, 0, 0, 1, 2, 0, 1, 6, 0, 3, 0, 0, 7, 0, 0, 0, 0],\n",
       "       [0, 0, 9, 0, 8, 0, 0, 0, 6, 0, 0, 4, 5, 8, 0, 0, 9, 1, 7, 5]])"
      ]
     },
     "execution_count": 48,
     "metadata": {},
     "output_type": "execute_result"
    }
   ],
   "source": [
    "movie_ratings = []\n",
    "for user in range(no_of_users):\n",
    "    user_ratings = np.full(no_of_movies, 0)\n",
    "    #print(\"user_ratings: \", user_ratings)\n",
    "    no_of_movies_rated = np.random.randint(0,no_of_movies)\n",
    "    #print(\"no_of_movies_rated:\", no_of_movies_rated)\n",
    "    movie_rating = [np.random.randint(no_of_movies) for i in range(no_of_movies_rated)]\n",
    "    #print(\"movie_ratings: \", movie_ratings)\n",
    "    for rating in movie_rating:\n",
    "        user_ratings[rating] = np.random.randint(1, 10)\n",
    "    movie_ratings.append(list(user_ratings))\n",
    "movie_ratings = np.array(movie_ratings)\n",
    "movie_ratings"
   ]
  },
  {
   "cell_type": "code",
   "execution_count": 49,
   "metadata": {},
   "outputs": [],
   "source": [
    "no_of_expert_ratings = 2\n",
    "no_of_additional_movies = 5"
   ]
  },
  {
   "cell_type": "code",
   "execution_count": 50,
   "metadata": {},
   "outputs": [
    {
     "data": {
      "text/plain": [
       "array([[0, 0, 9, 9, 0, 2, 0, 0, 0, 4, 1, 9, 0, 0, 0, 0, 2, 8, 6, 0],\n",
       "       [7, 0, 0, 0, 0, 2, 0, 0, 0, 0, 0, 0, 0, 0, 0, 0, 1, 0, 9, 0]])"
      ]
     },
     "execution_count": 50,
     "metadata": {},
     "output_type": "execute_result"
    }
   ],
   "source": [
    "expert_movie_ratings = []\n",
    "for i in range(no_of_expert_ratings):\n",
    "    user_ratings = np.full(no_of_movies, 0)\n",
    "    no_of_movies_rated = np.random.randint(0,no_of_movies)\n",
    "    movie_rating = [np.random.randint(no_of_movies) for i in range(no_of_movies_rated)]\n",
    "    for rating in movie_rating:\n",
    "        user_ratings[rating] = np.random.randint(1, 10)\n",
    "    expert_movie_ratings.append(list(user_ratings))\n",
    "expert_movie_ratings = np.array(expert_movie_ratings)\n",
    "expert_movie_ratings"
   ]
  },
  {
   "cell_type": "code",
   "execution_count": 51,
   "metadata": {},
   "outputs": [
    {
     "data": {
      "text/plain": [
       "array([[0, 0, 6, 0, 0, 0, 0, 0, 0, 5, 0, 8, 2, 1, 0, 0, 2, 0, 8, 2],\n",
       "       [0, 0, 0, 6, 0, 0, 5, 0, 0, 0, 0, 0, 0, 0, 5, 4, 5, 0, 0, 0],\n",
       "       [0, 0, 0, 0, 2, 0, 0, 0, 0, 0, 0, 0, 1, 0, 0, 0, 0, 0, 0, 0],\n",
       "       [0, 0, 8, 5, 4, 8, 0, 0, 0, 0, 0, 6, 0, 8, 0, 8, 0, 0, 0, 0],\n",
       "       [0, 0, 0, 0, 0, 0, 1, 0, 0, 0, 0, 0, 0, 0, 0, 0, 0, 0, 0, 0],\n",
       "       [5, 1, 0, 0, 9, 6, 0, 0, 6, 5, 0, 9, 1, 0, 1, 1, 0, 6, 0, 0],\n",
       "       [0, 6, 4, 0, 0, 0, 0, 5, 9, 1, 0, 2, 7, 5, 6, 0, 0, 5, 6, 0],\n",
       "       [0, 0, 0, 9, 0, 6, 6, 1, 1, 0, 9, 0, 0, 0, 0, 2, 4, 6, 4, 3],\n",
       "       [9, 6, 8, 2, 0, 0, 1, 2, 0, 1, 6, 0, 3, 0, 0, 7, 0, 0, 0, 0],\n",
       "       [0, 0, 9, 0, 8, 0, 0, 0, 6, 0, 0, 4, 5, 8, 0, 0, 9, 1, 7, 5],\n",
       "       [0, 0, 9, 9, 0, 2, 0, 0, 0, 4, 1, 9, 0, 0, 0, 0, 2, 8, 6, 0],\n",
       "       [7, 0, 0, 0, 0, 2, 0, 0, 0, 0, 0, 0, 0, 0, 0, 0, 1, 0, 9, 0]])"
      ]
     },
     "execution_count": 51,
     "metadata": {},
     "output_type": "execute_result"
    }
   ],
   "source": [
    "user_expert_movie_ratings = np.vstack([movie_ratings, expert_movie_ratings])\n",
    "user_expert_movie_ratings"
   ]
  },
  {
   "cell_type": "code",
   "execution_count": 55,
   "metadata": {},
   "outputs": [
    {
     "data": {
      "text/plain": [
       "(array([[7, 0, 0, 1, 0],\n",
       "        [0, 0, 0, 1, 3],\n",
       "        [8, 5, 8, 0, 1],\n",
       "        [0, 7, 8, 0, 7],\n",
       "        [0, 0, 9, 0, 0],\n",
       "        [0, 0, 8, 2, 0],\n",
       "        [0, 0, 0, 0, 0],\n",
       "        [6, 0, 0, 1, 0],\n",
       "        [0, 0, 0, 0, 0],\n",
       "        [9, 7, 7, 0, 0],\n",
       "        [0, 0, 0, 0, 0],\n",
       "        [6, 0, 0, 0, 0]]), (12, 5))"
      ]
     },
     "execution_count": 55,
     "metadata": {},
     "output_type": "execute_result"
    }
   ],
   "source": [
    "no_of_new_movies = 5\n",
    "new_movie_ratings = []\n",
    "for user in range(no_of_users+no_of_expert_ratings):\n",
    "    user_ratings = np.full(no_of_new_movies, 0)\n",
    "    #print(\"user_ratings: \", user_ratings)\n",
    "    no_of_movies_rated = np.random.randint(0,no_of_new_movies)\n",
    "    #print(\"no_of_movies_rated:\", no_of_movies_rated)\n",
    "    movie_rating = [np.random.randint(no_of_new_movies) for i in range(no_of_movies_rated)]\n",
    "    #print(\"movie_ratings: \", movie_ratings)\n",
    "    for rating in movie_rating:\n",
    "        user_ratings[rating] = np.random.randint(1, 10)\n",
    "    new_movie_ratings.append(list(user_ratings))\n",
    "new_movie_ratings = np.array(new_movie_ratings)\n",
    "new_movie_ratings, new_movie_ratings.shape"
   ]
  },
  {
   "cell_type": "code",
   "execution_count": 58,
   "metadata": {},
   "outputs": [
    {
     "data": {
      "text/plain": [
       "array([[0, 0, 6, 0, 0, 0, 0, 0, 0, 5],\n",
       "       [0, 0, 0, 6, 0, 0, 5, 0, 0, 0],\n",
       "       [0, 0, 0, 0, 2, 0, 0, 0, 0, 0],\n",
       "       [0, 0, 8, 5, 4, 8, 0, 0, 0, 0],\n",
       "       [0, 0, 0, 0, 0, 0, 1, 0, 0, 0],\n",
       "       [5, 1, 0, 0, 9, 6, 0, 0, 6, 5],\n",
       "       [0, 6, 4, 0, 0, 0, 0, 5, 9, 1],\n",
       "       [0, 0, 0, 9, 0, 6, 6, 1, 1, 0],\n",
       "       [9, 6, 8, 2, 0, 0, 1, 2, 0, 1],\n",
       "       [0, 0, 9, 0, 8, 0, 0, 0, 6, 0]])"
      ]
     },
     "execution_count": 58,
     "metadata": {},
     "output_type": "execute_result"
    }
   ],
   "source": [
    "total_movie_ratings = np.hstack([user_expert_movie_ratings, new_movie_ratings])\n",
    "total_movie_ratings[:10,:10]"
   ]
  },
  {
   "cell_type": "code",
   "execution_count": 74,
   "metadata": {},
   "outputs": [
    {
     "name": "stdout",
     "output_type": "stream",
     "text": [
      "mean: [1.75       1.08333333 3.66666667 2.58333333 1.91666667 2.\n",
      " 1.08333333 0.66666667 1.83333333 1.33333333 1.33333333 3.16666667\n",
      " 1.58333333 1.83333333 1.         1.83333333 1.91666667 2.16666667\n",
      " 3.33333333 0.83333333 3.         1.58333333 3.33333333 0.41666667\n",
      " 0.91666667]\n",
      "median: [0.  0.  2.  0.  0.  0.  0.  0.  0.  0.  0.  1.  0.5 0.  0.  0.  0.5 0.\n",
      " 2.  0.  0.  0.  0.  0.  0. ]\n",
      "std: [3.1391347  2.2157893  3.88014891 3.4990078  3.17433283 2.82842712\n",
      " 2.01900691 1.43372088 3.07769755 1.97202659 2.83823106 3.67045259\n",
      " 2.2157893  3.07769755 2.04124145 2.79384244 2.69129254 2.96741564\n",
      " 3.51978535 1.57233019 3.62859018 2.78263464 3.96512575 0.64009548\n",
      " 2.01900691]\n",
      "min: [0 0 0 0 0 0 0 0 0 0 0 0 0 0 0 0 0 0 0 0 0 0 0 0 0]\n",
      "max: [9 6 9 9 9 8 6 5 9 5 9 9 7 8 6 8 9 8 9 5 9 7 9 2 7]\n"
     ]
    }
   ],
   "source": [
    "print('mean:', np.mean(total_movie_ratings, axis=0))\n",
    "print('median:', np.median(total_movie_ratings, axis=0))\n",
    "print('std:', np.std(total_movie_ratings, axis=0))\n",
    "print('min:', np.min(total_movie_ratings, axis=0))\n",
    "print('max:', np.max(total_movie_ratings, axis=0))"
   ]
  },
  {
   "cell_type": "code",
   "execution_count": 71,
   "metadata": {},
   "outputs": [
    {
     "data": {
      "text/plain": [
       "array([[-10, -10,   6, -10, -10, -10, -10, -10, -10,   5, -10,   8,   2,\n",
       "          1, -10, -10,   2, -10,   8,   2,   7, -10, -10,   1, -10],\n",
       "       [-10, -10, -10,   6, -10, -10,   5, -10, -10, -10, -10, -10, -10,\n",
       "        -10,   5,   4,   5, -10, -10, -10, -10, -10, -10,   1,   3],\n",
       "       [-10, -10, -10, -10,   2, -10, -10, -10, -10, -10, -10, -10,   1,\n",
       "        -10, -10, -10, -10, -10, -10, -10,   8,   5,   8, -10,   1],\n",
       "       [-10, -10,   8,   5,   4,   8, -10, -10, -10, -10, -10,   6, -10,\n",
       "          8, -10,   8, -10, -10, -10, -10, -10,   7,   8, -10,   7],\n",
       "       [-10, -10, -10, -10, -10, -10,   1, -10, -10, -10, -10, -10, -10,\n",
       "        -10, -10, -10, -10, -10, -10, -10, -10, -10,   9, -10, -10],\n",
       "       [  5,   1, -10, -10,   9,   6, -10, -10,   6,   5, -10,   9,   1,\n",
       "        -10,   1,   1, -10,   6, -10, -10, -10, -10,   8,   2, -10],\n",
       "       [-10,   6,   4, -10, -10, -10, -10,   5,   9,   1, -10,   2,   7,\n",
       "          5,   6, -10, -10,   5,   6, -10, -10, -10, -10, -10, -10],\n",
       "       [-10, -10, -10,   9, -10,   6,   6,   1,   1, -10,   9, -10, -10,\n",
       "        -10, -10,   2,   4,   6,   4,   3,   6, -10, -10,   1, -10],\n",
       "       [  9,   6,   8,   2, -10, -10,   1,   2, -10,   1,   6, -10,   3,\n",
       "        -10, -10,   7, -10, -10, -10, -10, -10, -10, -10, -10, -10],\n",
       "       [-10, -10,   9, -10,   8, -10, -10, -10,   6, -10, -10,   4,   5,\n",
       "          8, -10, -10,   9,   1,   7,   5,   9,   7,   7, -10, -10],\n",
       "       [-10, -10,   9,   9, -10,   2, -10, -10, -10,   4,   1,   9, -10,\n",
       "        -10, -10, -10,   2,   8,   6, -10, -10, -10, -10, -10, -10],\n",
       "       [  7, -10, -10, -10, -10,   2, -10, -10, -10, -10, -10, -10, -10,\n",
       "        -10, -10, -10,   1, -10,   9, -10,   6, -10, -10, -10, -10]])"
      ]
     },
     "execution_count": 71,
     "metadata": {},
     "output_type": "execute_result"
    }
   ],
   "source": [
    "#help(np.where)\n",
    "np.where(total_movie_ratings>0, total_movie_ratings, -10)"
   ]
  },
  {
   "cell_type": "code",
   "execution_count": null,
   "metadata": {},
   "outputs": [],
   "source": []
  }
 ],
 "metadata": {
  "kernelspec": {
   "display_name": "Python 3",
   "language": "python",
   "name": "python3"
  },
  "language_info": {
   "codemirror_mode": {
    "name": "ipython",
    "version": 3
   },
   "file_extension": ".py",
   "mimetype": "text/x-python",
   "name": "python",
   "nbconvert_exporter": "python",
   "pygments_lexer": "ipython3",
   "version": "3.6.1"
  }
 },
 "nbformat": 4,
 "nbformat_minor": 2
}
