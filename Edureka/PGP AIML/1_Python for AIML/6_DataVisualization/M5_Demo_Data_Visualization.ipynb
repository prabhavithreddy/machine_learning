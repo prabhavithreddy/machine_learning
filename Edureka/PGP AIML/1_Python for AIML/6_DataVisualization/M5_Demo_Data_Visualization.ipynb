{
 "cells": [
  {
   "cell_type": "markdown",
   "metadata": {
    "colab_type": "text",
    "id": "9x_wZvQRDBu-"
   },
   "source": [
    "#**Seaborn**\n",
    "\n",
    "- Seaborn is a Python data visualization library based on matplotlib\n",
    "- It provides a high-level interface for drawing attractive and informative statistical graphics\n"
   ]
  },
  {
   "cell_type": "markdown",
   "metadata": {
    "colab_type": "text",
    "id": "hw3FkGzXpAym"
   },
   "source": [
    "##**Scenario:** IBM HR Analytics Employee Attrition and Performance\n"
   ]
  },
  {
   "cell_type": "markdown",
   "metadata": {
    "colab_type": "text",
    "id": "nKmEkmknFxwO"
   },
   "source": [
    "\n",
    "\n",
    "Employee retention is one of the biggest metrics that a company should have in mind when thinking of growth. Employee attrition is caused when the total strength of the company is greatly reduced as more employees leave the company than expected.\n",
    "\n",
    "So, what is **Attrition**?\n",
    "It is basically the turnover rate of employees in a particular organization\n",
    "\n",
    "Reasons for **Attrition**:\n",
    "\n",
    "- Employees looking for better opportunities\n",
    "- A negative working environment\n",
    "- Bad management\n",
    "- Sickness of an employee\n",
    "- Excessive working hours\n",
    "\n",
    "###**Problem Statement**\n",
    "Uncover the factors that lead to employee attrition and explore the reasons as to why people are leaving the organization \n",
    "\n",
    "###**Tasks to be performed**\n",
    "**Task 1:**\n",
    "       \n",
    "         What is the distribution of the Age & MothlyIncome columns in the data set? \n",
    "**Task 2:**   \n",
    "\n",
    "         What's the Attrition percentage in the company? \n",
    "         Which Department of the company has the highest Attrition rate?\n",
    "**Task 3:**\n",
    "\n",
    "         Which gender is more likely to leave?\n",
    "         Does distance from home affect attrition rate?\n",
    "         How does the monthly income affect the attrition rate? \n",
    "\n",
    "**Task 4:**\n",
    "\n",
    "         Which Employees are more likely to leave? Senior Employees or Recent Joinees, and does the years spent at the company affect Attrition?\n",
    "\n",
    "**Task 5:**\n",
    "\n",
    "         Are Employees in a particular Job Role more likely to quit?\n",
    "         Does Job Level of employees influence Attrition rate?\n",
    "\n",
    "**Task 6:**\n",
    "\n",
    "         Analyze the Monthly Income of Employees in various Deparments such as Sales, Research & Development, and Human Resource?\n",
    "\n",
    "**Task 7:**\n",
    "\n",
    "        Analyze the impact of Age on Monthly Income using a Joint Plot"
   ]
  },
  {
   "cell_type": "markdown",
   "metadata": {
    "_uuid": "8acee0a244846f03a1436fb98dc90f6a8a86fdbf",
    "colab_type": "text",
    "id": "MBjCgFbQyCDT"
   },
   "source": [
    "###**Dataset Description**\n",
    "The is a data set contains following attributes among others\n",
    "\n",
    "**Education**\n",
    "\n",
    "1 'Below College'\n",
    "\n",
    "2 'College'\n",
    "\n",
    "3 'Bachelor'\n",
    "\n",
    "4 'Master'\n",
    "\n",
    "5 'Doctor'\n",
    "\n",
    "**EnvironmentSatisfaction**\n",
    "\n",
    "1 'Low'\n",
    "\n",
    "2 'Medium'\n",
    "\n",
    "3 'High'\n",
    "\n",
    "4 'Very High'\n",
    "\n",
    "\n",
    "**JobInvolvement**\n",
    "\n",
    "1 'Low'\n",
    "\n",
    "2 'Medium'\n",
    "\n",
    "3 'High'\n",
    "\n",
    "4 'Very High'\n",
    "\n",
    "\n",
    "**JobSatisfaction**\n",
    "\n",
    "1 'Low'\n",
    "\n",
    "2 'Medium'\n",
    "\n",
    "3 'High'\n",
    "\n",
    "4 'Very High'\n",
    "\n",
    "\n",
    "**PerformanceRating**\n",
    "\n",
    "1 'Low'\n",
    "\n",
    "2 'Good'\n",
    "\n",
    "3 'Excellent'\n",
    "\n",
    "4 'Outstanding'\n",
    "\n",
    "\n",
    "**RelationshipSatisfaction**\n",
    "\n",
    "1 'Low'\n",
    "\n",
    "2 'Medium'\n",
    "\n",
    "3 'High'\n",
    "\n",
    "4 'Very High'\n",
    "\n",
    "**WorkLifeBalance**\n",
    "\n",
    "1 'Bad'\n",
    "\n",
    "2 'Good'\n",
    "\n",
    "3 'Better'\n",
    "\n",
    "4 'Best'"
   ]
  },
  {
   "cell_type": "markdown",
   "metadata": {
    "colab_type": "text",
    "id": "suCu8s3PAxcm"
   },
   "source": [
    "###**Importing Required Libraries & Loading the Dataset**\n",
    "\n",
    "\n"
   ]
  },
  {
   "cell_type": "code",
   "execution_count": null,
   "metadata": {
    "colab": {
     "base_uri": "https://localhost:8080/",
     "height": 377
    },
    "colab_type": "code",
    "id": "a5DteAHYGZmL",
    "outputId": "0e5aca65-de79-4fa5-c943-9d5b2d3f3b4f"
   },
   "outputs": [],
   "source": [
    "!wget https://www.dropbox.com/s/53xyievbdpr7bl0/IBM.csv"
   ]
  },
  {
   "cell_type": "code",
   "execution_count": null,
   "metadata": {
    "_cell_guid": "c73461da-4bef-4ea8-a0ab-3470d226570c",
    "_uuid": "4014df0650f6999b691d3b516a6a62c3ac309073",
    "colab": {
     "base_uri": "https://localhost:8080/",
     "height": 71
    },
    "colab_type": "code",
    "id": "P8vaerdk_D0G",
    "outputId": "994e26c8-6350-4f2c-ceab-d9d314d3e8f0"
   },
   "outputs": [],
   "source": [
    "import numpy as np\n",
    "import pandas as pd\n",
    "import matplotlib.pyplot as plt\n",
    "import seaborn as sns\n",
    "import warnings\n",
    "warnings.filterwarnings(\"ignore\")    \n",
    "import os"
   ]
  },
  {
   "cell_type": "code",
   "execution_count": null,
   "metadata": {
    "_cell_guid": "aefd94fe-b2a8-46a6-8559-c52a4f3c32c5",
    "_uuid": "525df8587d859504c7059639bbcfbaa3352c2635",
    "colab": {
     "base_uri": "https://localhost:8080/",
     "height": 309
    },
    "colab_type": "code",
    "id": "hqesLGGA_D0W",
    "outputId": "1596b66e-fe1c-45b0-b75a-b80e459acc0f"
   },
   "outputs": [],
   "source": [
    "df = pd.read_csv('IBM.csv')\n",
    "df.head()"
   ]
  },
  {
   "cell_type": "code",
   "execution_count": null,
   "metadata": {
    "colab": {
     "base_uri": "https://localhost:8080/",
     "height": 34
    },
    "colab_type": "code",
    "id": "55mLOQgJG1ab",
    "outputId": "e0478b80-d219-4f71-8a8f-fa0674386e91"
   },
   "outputs": [],
   "source": [
    "df.shape"
   ]
  },
  {
   "cell_type": "code",
   "execution_count": null,
   "metadata": {
    "colab": {
     "base_uri": "https://localhost:8080/",
     "height": 629
    },
    "colab_type": "code",
    "id": "wDW0SUV7G4lM",
    "outputId": "f0d811f6-fe15-41b2-cdb7-7cbcbcbad7da"
   },
   "outputs": [],
   "source": [
    "df.dtypes"
   ]
  },
  {
   "cell_type": "markdown",
   "metadata": {
    "colab_type": "text",
    "id": "IS0y8q0AKqkI"
   },
   "source": [
    "###**Plotting Univariate Distributions**\n",
    "A **Univariate distribution** is a probability distribution of only one random variable"
   ]
  },
  {
   "cell_type": "markdown",
   "metadata": {
    "colab_type": "text",
    "id": "LjlVfKjcK9BR"
   },
   "source": [
    "####**Task 1 :**\n",
    "What is the distribution of the Age & MothlyIncome columns in the data set?\n"
   ]
  },
  {
   "cell_type": "markdown",
   "metadata": {
    "colab_type": "text",
    "id": "pNCq0Xi4K6AL"
   },
   "source": [
    "**Histogram :** A Histogram visualises the distribution of data over a continuous interval or certain time period. Each bar in a histogram represents the tabulated frequency at each interval/bin. The total area of the Histogram is equal to the number of data."
   ]
  },
  {
   "cell_type": "code",
   "execution_count": null,
   "metadata": {
    "_cell_guid": "d91066a9-2a94-4305-81af-6155a23ac476",
    "_uuid": "e83d913edb86f875513a51334604bea3e8ce987c",
    "colab": {
     "base_uri": "https://localhost:8080/",
     "height": 285
    },
    "colab_type": "code",
    "id": "rIGsBnHE_D0q",
    "outputId": "61b549b1-8dde-4c1b-c7ba-e9b533d590fd"
   },
   "outputs": [],
   "source": [
    "from matplotlib.ticker import PercentFormatter\n",
    "\n",
    "sns.set()\n",
    "sns.distplot(df['Age'], kde = False)\n",
    "plt.show() "
   ]
  },
  {
   "cell_type": "markdown",
   "metadata": {
    "colab_type": "text",
    "id": "dcPm0Io6jIRa"
   },
   "source": [
    "By default, **distplot** function draw a histogram and fit a kernel density estimate (KDE)"
   ]
  },
  {
   "cell_type": "markdown",
   "metadata": {
    "colab_type": "text",
    "id": "DTbn3NxEMDe0"
   },
   "source": [
    "___\n",
    "**Observations :**\n",
    "- We have Employees mostly between the age of 30 to 45\n",
    "___"
   ]
  },
  {
   "cell_type": "code",
   "execution_count": null,
   "metadata": {
    "colab": {
     "base_uri": "https://localhost:8080/",
     "height": 285
    },
    "colab_type": "code",
    "id": "ZCiWdFjRv3FK",
    "outputId": "4216516e-e773-4dd7-d1fd-577e225ebe85"
   },
   "outputs": [],
   "source": [
    "sns.set()\n",
    "sns.distplot(df['MonthlyIncome'], kde = False) \n",
    "plt.ylabel('No. of Observations')\n",
    "plt.show()"
   ]
  },
  {
   "cell_type": "markdown",
   "metadata": {
    "colab_type": "text",
    "id": "KAXh4MbQv_G6"
   },
   "source": [
    "___\n",
    "**Observation :**\n",
    "- Most of the Employees in the company earn between 2000 and 7000 monthly\n",
    "- Very few Employees command a higher salary\n",
    "___"
   ]
  },
  {
   "cell_type": "markdown",
   "metadata": {
    "colab_type": "text",
    "id": "01Xeor1hL3R8"
   },
   "source": [
    "####**Task 2 :**\n",
    "- What's the Attrition percentage in the company? \n",
    "- Which Department of the company has the highest Attrition rate?"
   ]
  },
  {
   "cell_type": "markdown",
   "metadata": {
    "colab_type": "text",
    "id": "zm1KPLTFL5jy"
   },
   "source": [
    "**Count Plot :** A count plot can be thought of as a histogram across a categorical, instead of quantitative, variable."
   ]
  },
  {
   "cell_type": "code",
   "execution_count": null,
   "metadata": {
    "colab": {
     "base_uri": "https://localhost:8080/",
     "height": 287
    },
    "colab_type": "code",
    "id": "AHTbXILyL1nO",
    "outputId": "ac40dbcb-4ad1-4d9a-94d8-c7f866149da3"
   },
   "outputs": [],
   "source": [
    "ax = sns.countplot(df[\"Attrition\"], color='green')\n",
    "for p in ax.patches:\n",
    "    x = p.get_bbox().get_points()[:,0]\n",
    "    \n",
    "    y = p.get_bbox().get_points()[1,1]\n",
    "    \n",
    "    ax.annotate('{:.2g}%'.format(100.*y/len(df)), (x.mean(), y), ha='center', va='bottom')\n",
    "plt.show()"
   ]
  },
  {
   "cell_type": "markdown",
   "metadata": {
    "colab_type": "text",
    "id": "FfuravOfSe_W"
   },
   "source": [
    "___\n",
    "**Observation :**\n",
    "- **84%** of employees did not quit the organization while **16%** did leave the organization\n",
    "___"
   ]
  },
  {
   "cell_type": "code",
   "execution_count": null,
   "metadata": {
    "colab": {
     "base_uri": "https://localhost:8080/",
     "height": 285
    },
    "colab_type": "code",
    "id": "N8bwALcYq1Jp",
    "outputId": "f54204a1-aef2-44b0-9bc5-54c15f1029cc"
   },
   "outputs": [],
   "source": [
    "sns.countplot(data=df,x=df['Department'],hue=\"Attrition\")\n",
    "plt.show()"
   ]
  },
  {
   "cell_type": "markdown",
   "metadata": {
    "colab_type": "text",
    "id": "IA8DCa9GrBaf"
   },
   "source": [
    "___\n",
    "**Observation :**\n",
    "- Attrition raltes are high in Sales Deparment, and R&D Department as compared to HR where the attrition rate is significantly lower\n",
    "___"
   ]
  },
  {
   "cell_type": "markdown",
   "metadata": {
    "colab_type": "text",
    "id": "TXZ_v6LWTFlZ"
   },
   "source": [
    "###**Bi-variate Distributions**\n",
    "- A Bi-variate distribution is a distribution of two random variables\n",
    "- The concept generalizes to any number of random variables, giving a **Multivariate Distribution**"
   ]
  },
  {
   "cell_type": "markdown",
   "metadata": {
    "colab_type": "text",
    "id": "Y4SgdxUKT1kz"
   },
   "source": [
    "####**Task 3 :**\n",
    "\n",
    "- Which gender is more likely to leave?\n",
    "- Does distance from home affect attrition rate?\n",
    "- How does the monthly income affect the attrition rate? "
   ]
  },
  {
   "cell_type": "markdown",
   "metadata": {
    "colab_type": "text",
    "id": "_6sFQUSkT4qf"
   },
   "source": [
    "**Bar Plot :**"
   ]
  },
  {
   "cell_type": "code",
   "execution_count": null,
   "metadata": {
    "colab": {
     "base_uri": "https://localhost:8080/",
     "height": 285
    },
    "colab_type": "code",
    "id": "oxs1zR-zn-tx",
    "outputId": "fa156675-1741-455b-bf0b-4316950e292c"
   },
   "outputs": [],
   "source": [
    "sns.barplot(x = 'Attrition', y = 'MonthlyIncome', data = df)\n",
    "plt.show()"
   ]
  },
  {
   "cell_type": "markdown",
   "metadata": {
    "colab_type": "text",
    "id": "U-EaCHm0q1pq"
   },
   "source": [
    "___\n",
    "**Observation:**\n",
    "- From above, we can see that people with low monthly income are more likely to leave as compared to people with high monthly income\n",
    "___"
   ]
  },
  {
   "cell_type": "code",
   "execution_count": null,
   "metadata": {
    "colab": {
     "base_uri": "https://localhost:8080/",
     "height": 301
    },
    "colab_type": "code",
    "id": "709o1o8ltJrD",
    "outputId": "def73b21-c74c-4b33-f9e4-3d235d9a4283"
   },
   "outputs": [],
   "source": [
    "f,ax = plt.subplots()\n",
    "new_df = df[\"Gender\"].groupby(df[\"Attrition\"]).value_counts(normalize = True).rename(\"Percentage of group\").reset_index()\n",
    "\n",
    "sns.barplot(x = \"Attrition\", y = \"Percentage of group\", hue = \"Gender\", data = new_df)\n",
    "\n",
    "vals = ax.get_yticks()\n",
    "ax.set_yticklabels(['{:,.0%}'.format(x) for x in vals])\n",
    "\n",
    "ax.set(title = \"Distribution of gender\")\n",
    "plt.show()"
   ]
  },
  {
   "cell_type": "markdown",
   "metadata": {
    "colab_type": "text",
    "id": "Y14OLtactieN"
   },
   "source": [
    "___\n",
    "**Observations:**\n",
    "- The company has more men than women, and so this plot tells us that men tend to leave the company more but only because they're in a larger number. This also indicates that gender might not be a key factor for employee attrition\n",
    "___\n"
   ]
  },
  {
   "cell_type": "code",
   "execution_count": null,
   "metadata": {
    "colab": {
     "base_uri": "https://localhost:8080/",
     "height": 285
    },
    "colab_type": "code",
    "id": "B_zUC5AiUCl8",
    "outputId": "3a301b4c-eab1-4cd7-98d4-e7d61eb7dcf3"
   },
   "outputs": [],
   "source": [
    "sns.barplot(df['Gender'],df['DistanceFromHome'],hue = df['Attrition'])\n",
    "plt.show()"
   ]
  },
  {
   "cell_type": "markdown",
   "metadata": {
    "colab_type": "text",
    "id": "k7rRJPS_Vde0"
   },
   "source": [
    "___\n",
    "**Observations :**\n",
    "- Distance from home matters more to women employees than men\n",
    "- Employee are more likely to quit, when **DistanceFromHome** is above 8 km\n",
    "\n",
    "___"
   ]
  },
  {
   "cell_type": "markdown",
   "metadata": {
    "colab_type": "text",
    "id": "Z7l4qyAjWT9Q"
   },
   "source": [
    "####**Task 4 :**\n",
    "\n",
    "Which Employees are more likely to leave? Senior Employees or Recent Joinees, and does the years spent at the company affect Attrition?"
   ]
  },
  {
   "cell_type": "markdown",
   "metadata": {
    "colab_type": "text",
    "id": "2tAJtK1mWdkS"
   },
   "source": [
    "**Scatter Plot :**"
   ]
  },
  {
   "cell_type": "code",
   "execution_count": null,
   "metadata": {
    "colab": {
     "base_uri": "https://localhost:8080/",
     "height": 285
    },
    "colab_type": "code",
    "id": "vQYBFSDcWYaC",
    "outputId": "0dcb33cc-7001-40c7-fdd8-1080142fac1d"
   },
   "outputs": [],
   "source": [
    "sns.scatterplot(x=df['MonthlyIncome'],y=df['YearsAtCompany'],hue=df['Attrition'])\n",
    "plt.show()"
   ]
  },
  {
   "cell_type": "markdown",
   "metadata": {
    "colab_type": "text",
    "id": "aSBgZ54mYa0a"
   },
   "source": [
    "___\n",
    "**Observations :**\n",
    "\n",
    "- Majortiy of Employee fall in the monthly income category of 2500 to 10000\n",
    "- Senior Employees with higher **MonthlyIncome** who have spent more number of years at company are less likely to leave as compared to recent joinees\n",
    "- New Employees (less than 2 years at Company i.e., y-axis) with less **MonthlyIncome** are more likely to quit (Consider the blue dots)\n",
    "- Employees with higher experience (8 to 10 years) with low wage are more likely to leave\n",
    "___"
   ]
  },
  {
   "cell_type": "markdown",
   "metadata": {
    "colab_type": "text",
    "id": "SV2SYFEW_BLF"
   },
   "source": [
    "####**Task 5 :**\n",
    "\n",
    "- Are Employees in a particular **Job Role** more likely to quit?\n",
    "- Does Job Level of employees influence Attrition rate? "
   ]
  },
  {
   "cell_type": "markdown",
   "metadata": {
    "colab_type": "text",
    "id": "XN7t2gPveukA"
   },
   "source": [
    "**Swarm Plot :**"
   ]
  },
  {
   "cell_type": "code",
   "execution_count": null,
   "metadata": {
    "colab": {
     "base_uri": "https://localhost:8080/",
     "height": 502
    },
    "colab_type": "code",
    "id": "97-F2T6CaQNr",
    "outputId": "39c83873-1fa6-4aa4-c5ff-c85520db67a5"
   },
   "outputs": [],
   "source": [
    "plt.figure(figsize=(12,8))\n",
    "sns.swarmplot(y=\"JobRole\", x=\"MonthlyIncome\",hue=\"Attrition\" ,data=df)\n",
    "#plt.xticks( rotation=50 )\n",
    "plt.show()"
   ]
  },
  {
   "cell_type": "markdown",
   "metadata": {
    "colab_type": "text",
    "id": "2u19GuQEaxLf"
   },
   "source": [
    "___\n",
    "**Observation :**\n",
    "- Sales Representative employees are more likely to quit the organization whereas employees in **Research Director** & **Manager** position are less likely to leave\n",
    "\n",
    "- It is significant to note that Job Roles that command a **Higher Monthly Income** (Research Director & Manager) are less likely to quit as compared to those with **Low Monthly Income** (Sales Representative)\n",
    "\n",
    "- Attrition is high in job roles that command Low Monthly Income such as Sales Executive, Research Scientist, Laboratory Technician, Sales Representative, and Human Resources\n",
    "___"
   ]
  },
  {
   "cell_type": "code",
   "execution_count": null,
   "metadata": {
    "colab": {
     "base_uri": "https://localhost:8080/",
     "height": 285
    },
    "colab_type": "code",
    "id": "U_pT36WEaQGN",
    "outputId": "f1360449-1515-41a3-f6d0-4728a66477db"
   },
   "outputs": [],
   "source": [
    "sns.swarmplot(x=\"JobLevel\", y=\"MonthlyIncome\", hue=\"Attrition\", data=df);\n",
    "plt.show()"
   ]
  },
  {
   "cell_type": "markdown",
   "metadata": {
    "colab_type": "text",
    "id": "aEEJnvg7fWer"
   },
   "source": [
    "___\n",
    "**Observation :**\n",
    "- Attrition rate is highest in employees at Job Level 1 positions\n",
    "- It is significant to note that as Job Level increases, monthly income also increases. With the increase in Job Level (or Monthly Income), **Attrition Rate decreases**\n",
    "___"
   ]
  },
  {
   "cell_type": "markdown",
   "metadata": {
    "colab_type": "text",
    "id": "-KMqdDZQ_DVi"
   },
   "source": [
    "####**Task 6 :**\n",
    "\n",
    "Analyze the Monthly Income of Employees in various Deparments such as Sales, Research & Development, and Human Resource?"
   ]
  },
  {
   "cell_type": "markdown",
   "metadata": {
    "colab_type": "text",
    "id": "K6FAsY3EnNIp"
   },
   "source": [
    "**Box Plot :**"
   ]
  },
  {
   "cell_type": "code",
   "execution_count": null,
   "metadata": {
    "colab": {
     "base_uri": "https://localhost:8080/",
     "height": 502
    },
    "colab_type": "code",
    "id": "370gkeugZc7E",
    "outputId": "e93f0bd3-8627-4e31-988f-fbb16df96ec0"
   },
   "outputs": [],
   "source": [
    "plt.figure(figsize=(12,8))\n",
    "sns.boxplot(x=\"Department\",y=\"MonthlyIncome\",data=df,palette=\"Set2\") \n",
    "#plt.xticks(rotation=90)\n",
    "plt.show()"
   ]
  },
  {
   "cell_type": "markdown",
   "metadata": {
    "colab_type": "text",
    "id": "nHCsVOEWLZYK"
   },
   "source": [
    "If you want to learn more about Seaborn Color palettes [**Click Here!**](https://seaborn.pydata.org/tutorial/color_palettes.html)"
   ]
  },
  {
   "cell_type": "markdown",
   "metadata": {
    "colab_type": "text",
    "id": "RvXGQiFHl0Dg"
   },
   "source": [
    "___\n",
    "**Observation :**\n",
    "- Most of the employees in various departments earn similar wage\n",
    "___"
   ]
  },
  {
   "cell_type": "markdown",
   "metadata": {
    "colab_type": "text",
    "id": "rLGiGgwH_GQg"
   },
   "source": [
    "####**Task 7 :**\n",
    "\n",
    "Analyze the impact Age on Monthly Income using a Joint Plot "
   ]
  },
  {
   "cell_type": "markdown",
   "metadata": {
    "colab_type": "text",
    "id": "i90fZeecnRnf"
   },
   "source": [
    "**Joint Plot :**"
   ]
  },
  {
   "cell_type": "code",
   "execution_count": null,
   "metadata": {
    "colab": {
     "base_uri": "https://localhost:8080/",
     "height": 437
    },
    "colab_type": "code",
    "id": "T-j79UU3tDyS",
    "outputId": "fc48364b-6fa6-433b-978e-3bc4c1ff8c45"
   },
   "outputs": [],
   "source": [
    "sns.jointplot(df.Age, df.MonthlyIncome, kind = \"scatter\")   \n",
    "plt.show()"
   ]
  },
  {
   "cell_type": "markdown",
   "metadata": {
    "colab_type": "text",
    "id": "2H4h1X1Qrs0i"
   },
   "source": [
    "___\n",
    "**Observation :**\n",
    "- Monthly Income of Employees increase with their job level which is obvious\n",
    "- Employees at Job Level 1 earn significantly less amount as compared to their bosses at level 4 & 5\n",
    "___"
   ]
  },
  {
   "cell_type": "markdown",
   "metadata": {
    "colab_type": "text",
    "id": "r9Eja00dA4jP"
   },
   "source": [
    "###**Findings**\n",
    "\n",
    "- Most of the employees are between the age of 20 & 45\n",
    "- Very few employees command a higher salary as compared to most employees who earn only between 2000 and 7000 monthly \n",
    "- Attrition rate is the highest in **Research & Development** department followed by **Sales** & **Human Resource** departments\n",
    "- Senior Employees with higher **MonthlyIncome** who have spent more number of years at company are less likely to leave as compared to recent joinees\n",
    "- New Employees (less than 2 years at Company) with less **MonthlyIncome** are more likely to quit\n",
    "- Employees with higher experience (8 to 10 years) with low wage are more likely to leave\n"
   ]
  },
  {
   "cell_type": "markdown",
   "metadata": {
    "colab_type": "text",
    "id": "PJsu6F2x1eJ0"
   },
   "source": [
    "___\n",
    "###**Do It Yourself (DIY)**\n",
    "\n",
    "Submit at least 5 new different analysis which could be performed on the above data set (along with their code in an ipynb file) that would help you gain more useful insights from the data, and their detailed observations in the markdowns\n",
    "\n",
    "Raise a Ticket and submit this to the **Edureka's Support Team**\n",
    "\n",
    "**Note:** Use the same ipynb for all the DIY Questions in a particular module\n",
    "___\n"
   ]
  },
  {
   "cell_type": "markdown",
   "metadata": {
    "colab_type": "text",
    "id": "RqQJfcUGHJ85"
   },
   "source": [
    "#**Plotly Express**"
   ]
  },
  {
   "cell_type": "markdown",
   "metadata": {
    "colab_type": "text",
    "id": "DhFEV1neHegq"
   },
   "source": [
    "- Plotly Express is a built-in part of the plotly library, and is the recommended starting point for creating most common figures. \n",
    "\n",
    "- Every Plotly Express function uses graph objects internally and returns a plotly.graph_objects.Figure instance. \n",
    "- Any figure created in a single function call with Plotly Express could be created using graph objects alone, but with between 5 and 100 times more code.\n",
    "\n",
    "\n"
   ]
  },
  {
   "cell_type": "markdown",
   "metadata": {
    "colab_type": "text",
    "id": "57hSQo8-1CDs"
   },
   "source": [
    "##**Explore the Gapminder Dataset with Plotly Express**\n"
   ]
  },
  {
   "cell_type": "markdown",
   "metadata": {
    "colab_type": "text",
    "id": "b5Lok-ZvFv8F"
   },
   "source": [
    "\n",
    "\n",
    "\n",
    "\n",
    "**Dataset Description**\n",
    "\n",
    "It provides data about the population, life expectancy and GDP in different countries of the world from 1952 to 2007. \n",
    "\n",
    "The dataset contains - \n",
    "\n",
    "- **country** - Name of the Country\n",
    "- **continent** - Name of the Continent\n",
    "- **year** - Year\n",
    "- **lifeExp** - Life Expectancy\n",
    "- **pop** - Population\n",
    "- **gdpPercap** - GDP per capita"
   ]
  },
  {
   "cell_type": "code",
   "execution_count": null,
   "metadata": {
    "colab": {},
    "colab_type": "code",
    "id": "Z5dR9SVxFv8K"
   },
   "outputs": [],
   "source": [
    "import pandas as pd\n",
    "import numpy as np"
   ]
  },
  {
   "cell_type": "code",
   "execution_count": null,
   "metadata": {
    "colab": {
     "base_uri": "https://localhost:8080/",
     "height": 204
    },
    "colab_type": "code",
    "id": "5sNLukAjFv8R",
    "outputId": "5394f577-0d14-4080-d659-d845ea15b3d3"
   },
   "outputs": [],
   "source": [
    "from plotly.figure_factory import create_table\n",
    "import plotly.express as px\n",
    "\n",
    "gapminder = px.data.gapminder()\n",
    "gapminder.head()"
   ]
  },
  {
   "cell_type": "markdown",
   "metadata": {
    "colab_type": "text",
    "id": "wDbeXM5GFv8e"
   },
   "source": [
    "###Visualizations with Bar Charts\n"
   ]
  },
  {
   "cell_type": "code",
   "execution_count": null,
   "metadata": {
    "colab": {
     "base_uri": "https://localhost:8080/",
     "height": 417
    },
    "colab_type": "code",
    "id": "ENOaCSCBFv8f",
    "outputId": "9b57a538-bfee-4068-cb69-e6ca82ed7b49"
   },
   "outputs": [],
   "source": [
    "data_canada = px.data.gapminder().query(\"country == 'Canada'\")\n",
    "fig = px.bar(data_canada, x='year', y='pop', height=400)\n",
    "fig.show()"
   ]
  },
  {
   "cell_type": "code",
   "execution_count": null,
   "metadata": {
    "colab": {
     "base_uri": "https://localhost:8080/",
     "height": 542
    },
    "colab_type": "code",
    "id": "1HHVgVupFv8k",
    "outputId": "a9758625-e4c8-4870-ed31-f72c3fba6280"
   },
   "outputs": [],
   "source": [
    "fig = px.bar(data_canada, x='year', y='pop',\n",
    "             hover_data=['lifeExp', 'gdpPercap'], color='lifeExp')\n",
    "fig.show()"
   ]
  },
  {
   "cell_type": "markdown",
   "metadata": {
    "colab_type": "text",
    "id": "i2ugSBCbFv8u"
   },
   "source": [
    "###Plot Life Expectancy vs GDP per Capita for the year 2007"
   ]
  },
  {
   "cell_type": "code",
   "execution_count": null,
   "metadata": {
    "colab": {
     "base_uri": "https://localhost:8080/",
     "height": 542
    },
    "colab_type": "code",
    "id": "1QFbEfmVFv8v",
    "outputId": "ecefb414-130e-4f4e-9692-93071a399379"
   },
   "outputs": [],
   "source": [
    "gapminder2007 = gapminder.query(\"year == 2007\")\n",
    "\n",
    "px.scatter(gapminder2007, x=\"gdpPercap\", y=\"lifeExp\")"
   ]
  },
  {
   "cell_type": "code",
   "execution_count": null,
   "metadata": {
    "colab": {
     "base_uri": "https://localhost:8080/",
     "height": 542
    },
    "colab_type": "code",
    "id": "uM68nU1jFv81",
    "outputId": "cd4c9a72-680b-4a08-f743-c271981a464a"
   },
   "outputs": [],
   "source": [
    "px.scatter(gapminder2007, x=\"gdpPercap\", y=\"lifeExp\", color=\"continent\")"
   ]
  },
  {
   "cell_type": "markdown",
   "metadata": {
    "colab_type": "text",
    "id": "Kg7pKJWhFv86"
   },
   "source": [
    "###Customize Interactive Bubble Charts\n"
   ]
  },
  {
   "cell_type": "code",
   "execution_count": null,
   "metadata": {
    "colab": {
     "base_uri": "https://localhost:8080/",
     "height": 542
    },
    "colab_type": "code",
    "id": "4uEYHCWkFv87",
    "outputId": "3378ada1-fc62-48e4-8dd0-adde57b4304b"
   },
   "outputs": [],
   "source": [
    "px.scatter(gapminder2007, x=\"gdpPercap\", y=\"lifeExp\", color=\"continent\", size=\"pop\", size_max=60)"
   ]
  },
  {
   "cell_type": "code",
   "execution_count": null,
   "metadata": {
    "colab": {
     "base_uri": "https://localhost:8080/",
     "height": 542
    },
    "colab_type": "code",
    "id": "VFNo9fePFv8_",
    "outputId": "c035b826-39a3-4ae0-9b75-e4f8a1f4c545"
   },
   "outputs": [],
   "source": [
    "px.scatter(gapminder2007, x=\"gdpPercap\", y=\"lifeExp\", color=\"continent\", size=\"pop\", size_max=60, hover_name=\"country\")"
   ]
  },
  {
   "cell_type": "markdown",
   "metadata": {
    "colab_type": "text",
    "id": "oPCCDebLFv9D"
   },
   "source": [
    "###Create Interactive Animations and Facet Plots \n"
   ]
  },
  {
   "cell_type": "code",
   "execution_count": null,
   "metadata": {
    "colab": {
     "base_uri": "https://localhost:8080/",
     "height": 542
    },
    "colab_type": "code",
    "id": "hbzMBQ8qFv9E",
    "outputId": "17a27201-7605-41c8-afe2-dbf55d6aafa4",
    "scrolled": true
   },
   "outputs": [],
   "source": [
    "px.scatter(gapminder2007, x=\"gdpPercap\", y=\"lifeExp\", color=\"continent\", size=\"pop\", size_max=60,\n",
    "          hover_name=\"country\", facet_col=\"continent\", log_x=True)"
   ]
  },
  {
   "cell_type": "code",
   "execution_count": null,
   "metadata": {
    "colab": {
     "base_uri": "https://localhost:8080/",
     "height": 542
    },
    "colab_type": "code",
    "id": "jnkNtnRTFv9J",
    "outputId": "f3109e21-c001-4f63-e6c3-5f6433867346"
   },
   "outputs": [],
   "source": [
    "fig = px.scatter(gapminder, x=\"gdpPercap\", y=\"lifeExp\", animation_frame=\"year\", animation_group=\"country\",\n",
    "           size=\"pop\", color=\"continent\", hover_name=\"country\", facet_col=\"continent\",\n",
    "           log_x=True, size_max=45, range_x=[100,100000], range_y=[25,90])\n",
    "fig.show()"
   ]
  },
  {
   "cell_type": "code",
   "execution_count": null,
   "metadata": {
    "colab": {
     "base_uri": "https://localhost:8080/",
     "height": 542
    },
    "colab_type": "code",
    "id": "jiviIwLDFv9N",
    "outputId": "4291e93c-f60c-4b43-c193-710755bd4762",
    "scrolled": false
   },
   "outputs": [],
   "source": [
    "px.scatter(gapminder, x=\"gdpPercap\", y=\"lifeExp\",size=\"pop\", size_max=60, color=\"continent\", hover_name=\"country\",\n",
    "           animation_frame=\"year\", animation_group=\"country\", log_x=True, range_x=[100,100000], range_y=[25,90],\n",
    "           labels=dict(pop=\"Population\", gdpPercap=\"GDP per Capita\", lifeExp=\"Life Expectancy\"))"
   ]
  },
  {
   "cell_type": "markdown",
   "metadata": {
    "colab_type": "text",
    "id": "8r0-11rVFv9S"
   },
   "source": [
    "###Represent Geographic Data as Animated Maps\n"
   ]
  },
  {
   "cell_type": "code",
   "execution_count": null,
   "metadata": {
    "colab": {
     "base_uri": "https://localhost:8080/",
     "height": 542
    },
    "colab_type": "code",
    "id": "-xJbiwBlFv9S",
    "outputId": "b3915b15-ccd5-453c-c797-a9d9d12c5ee4"
   },
   "outputs": [],
   "source": [
    "fig = px.line_geo(gapminder.query(\"year==2007\"), locations=\"iso_alpha\", color=\"continent\", projection=\"orthographic\")\n",
    "fig.show()"
   ]
  },
  {
   "cell_type": "code",
   "execution_count": null,
   "metadata": {
    "colab": {
     "base_uri": "https://localhost:8080/",
     "height": 542
    },
    "colab_type": "code",
    "id": "AfE-q1lZAVE6",
    "outputId": "9ad971de-79fe-46d9-c440-aca91698b59f"
   },
   "outputs": [],
   "source": [
    "px.choropleth(gapminder, locations=\"iso_alpha\", color=\"lifeExp\", hover_name=\"country\",\n",
    "              color_continuous_scale=px.colors.sequential.Plasma, projection=\"natural earth\")"
   ]
  },
  {
   "cell_type": "code",
   "execution_count": null,
   "metadata": {
    "colab": {
     "base_uri": "https://localhost:8080/",
     "height": 542
    },
    "colab_type": "code",
    "id": "SwYjjEzZFv9W",
    "outputId": "41ad4e76-2911-4b01-d3ff-0d32af57057e",
    "scrolled": false
   },
   "outputs": [],
   "source": [
    "px.choropleth(gapminder, locations=\"iso_alpha\", color=\"lifeExp\", hover_name=\"country\", animation_frame='year',\n",
    "              color_continuous_scale=px.colors.sequential.Plasma, projection=\"natural earth\")"
   ]
  },
  {
   "cell_type": "code",
   "execution_count": null,
   "metadata": {
    "colab": {
     "base_uri": "https://localhost:8080/",
     "height": 542
    },
    "colab_type": "code",
    "id": "new9P5mwFv9Z",
    "outputId": "92d3ab17-12ac-4ebb-bda6-a53eb92ffb2f",
    "scrolled": false
   },
   "outputs": [],
   "source": [
    "fig = px.choropleth(gapminder, locations=\"iso_alpha\", color=\"lifeExp\", hover_name=\"country\", animation_frame=\"year\", range_color=[20,80])\n",
    "fig.show()"
   ]
  },
  {
   "cell_type": "markdown",
   "metadata": {
    "colab_type": "text",
    "id": "oWEQFmz-Fv9h"
   },
   "source": [
    "###Interactive Line Plots and Area Plots "
   ]
  },
  {
   "cell_type": "code",
   "execution_count": null,
   "metadata": {
    "colab": {
     "base_uri": "https://localhost:8080/",
     "height": 542
    },
    "colab_type": "code",
    "id": "mUHEh61lFv9i",
    "outputId": "9fee5739-33a5-4363-e03b-05bfb73c06e1"
   },
   "outputs": [],
   "source": [
    "fig = px.line(gapminder, x=\"year\", y=\"lifeExp\", color=\"continent\", line_group=\"country\", hover_name=\"country\",\n",
    "        line_shape=\"spline\", render_mode=\"svg\")\n",
    "fig.show()"
   ]
  },
  {
   "cell_type": "code",
   "execution_count": null,
   "metadata": {
    "colab": {
     "base_uri": "https://localhost:8080/",
     "height": 542
    },
    "colab_type": "code",
    "id": "e2kYnohmFv9n",
    "outputId": "aa6e7398-eadb-481a-e948-e708060fda5a"
   },
   "outputs": [],
   "source": [
    "fig = px.area(gapminder, x=\"year\", y=\"pop\", color=\"continent\", line_group=\"country\")\n",
    "fig.show()"
   ]
  },
  {
   "cell_type": "markdown",
   "metadata": {
    "colab_type": "text",
    "id": "ycyVTgD7Hegs"
   },
   "source": [
    "## Some Basic Plots in Plotly Express\n",
    "\n"
   ]
  },
  {
   "cell_type": "markdown",
   "metadata": {
    "colab_type": "text",
    "id": "00k3uOtZJASq"
   },
   "source": [
    "\n",
    "Plotly Express is the easy-to-use, high-level interface to Plotly, which operates on a variety of types of data and produces easy-to-style figures.\n",
    "\n",
    "With px.scatter, each data point is represented as a marker point, whose location is given by the x and y columns.\n"
   ]
  },
  {
   "cell_type": "markdown",
   "metadata": {
    "colab_type": "text",
    "id": "AaBXvy701akl"
   },
   "source": [
    "### **1. Scatter Plot**\n"
   ]
  },
  {
   "cell_type": "code",
   "execution_count": null,
   "metadata": {
    "colab": {
     "base_uri": "https://localhost:8080/",
     "height": 542
    },
    "colab_type": "code",
    "id": "iomN6nM1Hegt",
    "outputId": "18e91149-245d-4885-87fd-5f9b3261f816"
   },
   "outputs": [],
   "source": [
    "# x and y given as array_like objects\n",
    "import plotly.express as px\n",
    "fig = px.scatter(x=[0, 1, 2, 3, 4], y=[0, 1, 4, 9, 16])\n",
    "fig.show()"
   ]
  },
  {
   "cell_type": "markdown",
   "metadata": {
    "colab_type": "text",
    "id": "OglOoqxxHegy"
   },
   "source": [
    "Set size and color with column names\n",
    "\n",
    "Note that color and size data are added to hover information. You can add other columns to hover data with the hover_data argument of px.scatter."
   ]
  },
  {
   "cell_type": "code",
   "execution_count": null,
   "metadata": {
    "colab": {
     "base_uri": "https://localhost:8080/",
     "height": 542
    },
    "colab_type": "code",
    "id": "oEletQ79Hegz",
    "outputId": "b7132140-7b19-4683-ec97-a28e77c484a7"
   },
   "outputs": [],
   "source": [
    "# This Plot is also Known as Bubble Chart\n",
    "df = px.data.iris()\n",
    "fig = px.scatter(df, x=\"sepal_width\", y=\"sepal_length\", color=\"species\",\n",
    "                 size='petal_length', hover_data=['petal_width'])\n",
    "fig.show()"
   ]
  },
  {
   "cell_type": "code",
   "execution_count": null,
   "metadata": {
    "colab": {
     "base_uri": "https://localhost:8080/",
     "height": 542
    },
    "colab_type": "code",
    "id": "axCM9GVHIEBn",
    "outputId": "59875481-7756-42a0-d8a6-68ea8c1f3a0d"
   },
   "outputs": [],
   "source": [
    "#Bubble Chart\n",
    "\n",
    "import plotly.express as px\n",
    "df = px.data.gapminder()\n",
    "\n",
    "fig = px.scatter(df.query(\"year==2007\"), x=\"gdpPercap\", y=\"lifeExp\", size=\"pop\", color=\"continent\",\n",
    "                 hover_name=\"country\", log_x=True, size_max=60)\n",
    "fig.show()"
   ]
  },
  {
   "cell_type": "markdown",
   "metadata": {
    "colab_type": "text",
    "id": "ntEpzzPAHeg6"
   },
   "source": [
    "###**2. Line plot**"
   ]
  },
  {
   "cell_type": "code",
   "execution_count": null,
   "metadata": {
    "colab": {
     "base_uri": "https://localhost:8080/",
     "height": 542
    },
    "colab_type": "code",
    "id": "VEvv8Gwv9BPd",
    "outputId": "ead979ad-5f43-44d6-c62f-0a709c753c1c"
   },
   "outputs": [],
   "source": [
    "import plotly.express as px\n",
    "fig = px.line(x=['Jan', 'Feb', 'Mar', 'Apr', 'May', 'June'], y= ['70', '40', '32', '66','58','27'], labels={'x':'Months', 'y':'Sales (in Millions)'})\n",
    "fig.show()"
   ]
  },
  {
   "cell_type": "code",
   "execution_count": null,
   "metadata": {
    "colab": {
     "base_uri": "https://localhost:8080/",
     "height": 542
    },
    "colab_type": "code",
    "id": "sipGNWFJHeg7",
    "outputId": "515da821-9d79-423d-e30a-4948283eb0e4"
   },
   "outputs": [],
   "source": [
    "import numpy as np\n",
    "\n",
    "t = np.linspace(0, 2*np.pi, 100)\n",
    "\n",
    "fig = px.line(x=t, y=np.cos(t), labels={'x':'t', 'y':'cos(t)'})\n",
    "fig.show()"
   ]
  },
  {
   "cell_type": "code",
   "execution_count": null,
   "metadata": {
    "colab": {
     "base_uri": "https://localhost:8080/",
     "height": 542
    },
    "colab_type": "code",
    "id": "J1xW27JLHehA",
    "outputId": "5895ba96-f030-41c0-80c7-e152e8d4dc3f"
   },
   "outputs": [],
   "source": [
    "import plotly.express as px\n",
    "\n",
    "df = px.data.gapminder().query(\"country=='Canada'\")\n",
    "fig = px.line(df, x=\"year\", y=\"lifeExp\", title='Life expectancy in Canada')\n",
    "fig.show()"
   ]
  },
  {
   "cell_type": "code",
   "execution_count": null,
   "metadata": {
    "colab": {
     "base_uri": "https://localhost:8080/",
     "height": 542
    },
    "colab_type": "code",
    "id": "Tqv8wE92HehG",
    "outputId": "ddff2893-bf33-41f8-ef1e-f17378a85509"
   },
   "outputs": [],
   "source": [
    "# Line Plot with column encoding color\n",
    "\n",
    "import plotly.express as px\n",
    "\n",
    "df = px.data.gapminder().query(\"continent=='Oceania'\")\n",
    "fig = px.line(df, x=\"year\", y=\"lifeExp\", color='country')\n",
    "fig.show()"
   ]
  },
  {
   "cell_type": "code",
   "execution_count": null,
   "metadata": {
    "colab": {
     "base_uri": "https://localhost:8080/",
     "height": 542
    },
    "colab_type": "code",
    "id": "diHzIMdPHehX",
    "outputId": "8718fc06-a260-4abd-da44-3a7203ccfe06"
   },
   "outputs": [],
   "source": [
    "import plotly.express as px\n",
    "\n",
    "df = px.data.gapminder().query(\"continent != 'Asia'\") # remove Asia for visibility\n",
    "fig = px.line(df, x=\"year\", y=\"lifeExp\", color=\"continent\",\n",
    "              line_group=\"country\", hover_name=\"country\")\n",
    "fig.show()"
   ]
  },
  {
   "cell_type": "markdown",
   "metadata": {
    "colab_type": "text",
    "id": "mFg--8PDHehf"
   },
   "source": [
    "###**3. Bar Plot**"
   ]
  },
  {
   "cell_type": "code",
   "execution_count": null,
   "metadata": {
    "colab": {
     "base_uri": "https://localhost:8080/",
     "height": 542
    },
    "colab_type": "code",
    "id": "reJTKviOkatx",
    "outputId": "996eaf98-5ead-4a29-ed7a-e8cfdabf9d7b"
   },
   "outputs": [],
   "source": [
    "fig = px.bar(x=[0, 1, 2, 3, 4], y=[10, 20, 30, 40, 16])\n",
    "fig.show()"
   ]
  },
  {
   "cell_type": "code",
   "execution_count": null,
   "metadata": {
    "colab": {
     "base_uri": "https://localhost:8080/",
     "height": 542
    },
    "colab_type": "code",
    "id": "Y6ZcLDW-Hehg",
    "outputId": "f829973c-210d-4409-c6d5-6365525e8609"
   },
   "outputs": [],
   "source": [
    "import plotly.express as px\n",
    "data_canada = px.data.gapminder().query(\"country == 'Canada'\")\n",
    "fig = px.bar(data_canada, x='year', y='pop')\n",
    "fig.show()"
   ]
  },
  {
   "cell_type": "code",
   "execution_count": null,
   "metadata": {
    "colab": {
     "base_uri": "https://localhost:8080/",
     "height": 542
    },
    "colab_type": "code",
    "id": "xskxM3gAJZuu",
    "outputId": "0e7b7e52-0ca7-4bd6-a520-17b5f2f5e7bb"
   },
   "outputs": [],
   "source": [
    "import plotly.express as px\n",
    "df = px.data.tips()\n",
    "fig = px.bar(df, x=\"total_bill\", y=\"day\", orientation='h')\n",
    "fig.show()"
   ]
  },
  {
   "cell_type": "markdown",
   "metadata": {
    "colab_type": "text",
    "id": "9L3WzkfSHehp"
   },
   "source": [
    "###**4. Pie Chart**"
   ]
  },
  {
   "cell_type": "code",
   "execution_count": null,
   "metadata": {
    "colab": {
     "base_uri": "https://localhost:8080/"
    },
    "colab_type": "code",
    "id": "GqLWwEP8Hehs",
    "outputId": "84a47691-aa84-45f9-9acf-3bce9ae72443"
   },
   "outputs": [],
   "source": [
    "import plotly.express as px\n",
    "df = px.data.gapminder().query(\"year == 2007\").query(\"continent == 'Europe'\")\n",
    "df.loc[df['pop'] < 2.e6, 'country'] = 'Other countries' # Represent only large countries\n",
    "fig = px.pie(df, values='pop', names='country', title='Population of European continent')\n",
    "fig.show()"
   ]
  },
  {
   "cell_type": "code",
   "execution_count": null,
   "metadata": {
    "colab": {
     "base_uri": "https://localhost:8080/"
    },
    "colab_type": "code",
    "id": "lK-N9XbAHehz",
    "outputId": "2a3196b5-46f4-4a45-9858-2850e42adb70"
   },
   "outputs": [],
   "source": [
    "# This dataframe has 244 lines, but 4 distinct values for `day`\n",
    "df = px.data.tips()\n",
    "fig = px.pie(df, values='tip', names='day')\n",
    "fig.show()"
   ]
  },
  {
   "cell_type": "code",
   "execution_count": null,
   "metadata": {
    "colab": {
     "base_uri": "https://localhost:8080/"
    },
    "colab_type": "code",
    "id": "ZA1MJCyGHeiD",
    "outputId": "5c66210b-b19b-481a-df18-008fba73f176"
   },
   "outputs": [],
   "source": [
    "# Setting the color of pie sectors with px.pie\n",
    "import plotly.express as px\n",
    "df = px.data.tips()\n",
    "fig = px.pie(df, values='tip', names='day', color_discrete_sequence=px.colors.sequential.RdBu)\n",
    "fig.show()"
   ]
  },
  {
   "cell_type": "markdown",
   "metadata": {
    "colab_type": "text",
    "id": "bwOfdB-vHeil"
   },
   "source": [
    "###**5. Filled Area Plots**"
   ]
  },
  {
   "cell_type": "code",
   "execution_count": null,
   "metadata": {
    "colab": {
     "base_uri": "https://localhost:8080/"
    },
    "colab_type": "code",
    "id": "ohI5QkIbHeim",
    "outputId": "40e84c88-190a-4982-c7f3-2bcf06e7c9b2"
   },
   "outputs": [],
   "source": [
    "import plotly.express as px\n",
    "df = px.data.gapminder()\n",
    "fig = px.area(df, x=\"year\", y=\"pop\", color=\"continent\",line_group=\"country\")\n",
    "fig.show()"
   ]
  },
  {
   "cell_type": "markdown",
   "metadata": {
    "colab_type": "text",
    "id": "ZMuTAMTV9YNF"
   },
   "source": [
    "###**6. Box Plot**\n"
   ]
  },
  {
   "cell_type": "code",
   "execution_count": null,
   "metadata": {
    "colab": {
     "base_uri": "https://localhost:8080/",
     "height": 542
    },
    "colab_type": "code",
    "id": "FxYf1xrN9bTX",
    "outputId": "43ece499-a438-42fb-8785-3b77f4b6f74a"
   },
   "outputs": [],
   "source": [
    "#In a box plot created by px.box, the distribution of the column given as y argument is represented\n",
    "df = px.data.tips()\n",
    "fig = px.box(df, y=\"total_bill\")\n",
    "fig.show()"
   ]
  },
  {
   "cell_type": "markdown",
   "metadata": {
    "colab_type": "text",
    "id": "ciga6B7s_t0i"
   },
   "source": [
    "###**7. Histogram**"
   ]
  },
  {
   "cell_type": "code",
   "execution_count": null,
   "metadata": {
    "colab": {
     "base_uri": "https://localhost:8080/"
    },
    "colab_type": "code",
    "id": "fkgvRC7v_wU5",
    "outputId": "cd65d3f6-12c0-4b13-e349-8e3054fbe051"
   },
   "outputs": [],
   "source": [
    "df = px.data.tips()\n",
    "fig = px.histogram(df, x=\"total_bill\")\n",
    "fig.show()"
   ]
  },
  {
   "cell_type": "markdown",
   "metadata": {
    "colab_type": "text",
    "id": "dEmDGR24Ioe_"
   },
   "source": [
    "###**8. Heat Map**"
   ]
  },
  {
   "cell_type": "code",
   "execution_count": null,
   "metadata": {
    "colab": {
     "base_uri": "https://localhost:8080/"
    },
    "colab_type": "code",
    "id": "0zXWsT1qIn3G",
    "outputId": "cb258cad-c730-47dc-d2db-85b6b2d2bf9e"
   },
   "outputs": [],
   "source": [
    "import plotly.express as px\n",
    "\n",
    "fig = px.imshow([[1, 20, 30],\n",
    "                 [20, 1, 60],\n",
    "                 [30, 60, 1]])\n",
    "fig.show()"
   ]
  },
  {
   "cell_type": "markdown",
   "metadata": {
    "colab_type": "text",
    "id": "PpHK0QCwIzzE"
   },
   "source": [
    "###**9. Violin Plot**"
   ]
  },
  {
   "cell_type": "code",
   "execution_count": null,
   "metadata": {
    "colab": {
     "base_uri": "https://localhost:8080/"
    },
    "colab_type": "code",
    "id": "XK1_NnLKI0NA",
    "outputId": "3b684afa-fbe7-40c8-a720-fe1c51295ff0"
   },
   "outputs": [],
   "source": [
    "import plotly.express as px\n",
    "\n",
    "df = px.data.tips()\n",
    "fig = px.violin(df, y=\"total_bill\")\n",
    "fig.show()"
   ]
  },
  {
   "cell_type": "markdown",
   "metadata": {
    "colab_type": "text",
    "id": "gjddd2H3HeiU"
   },
   "source": [
    "###**10. Basic Dot Plot**\n",
    "\n"
   ]
  },
  {
   "cell_type": "markdown",
   "metadata": {
    "colab_type": "text",
    "id": "WqNJoLsnJwfj"
   },
   "source": [
    "Dot plots (also known as Cleveland dot plots) show changes between two (or more) points in time or between two (or more) conditions. Compared to a bar chart, dot plots can be less cluttered and allow for an easier comparison between conditions.\n",
    "\n",
    "For the same data, we show below how to create a dot plot using either px.scatter or go.Scatter.\n",
    "\n",
    "Plotly Express is the easy-to-use, high-level interface to Plotly, which operates on a variety of types of data and produces easy to style figures"
   ]
  },
  {
   "cell_type": "code",
   "execution_count": null,
   "metadata": {
    "colab": {
     "base_uri": "https://localhost:8080/",
     "height": 542
    },
    "colab_type": "code",
    "id": "ROb2AC4xHeiU",
    "outputId": "a0e308de-dc80-496b-af65-ca455857dc9d"
   },
   "outputs": [],
   "source": [
    "import plotly.express as px\n",
    "import pandas as pd\n",
    "\n",
    "schools = [\"Brown\", \"NYU\", \"Notre Dame\", \"Cornell\", \"Tufts\", \"Yale\",\n",
    "           \"Dartmouth\", \"Chicago\", \"Columbia\", \"Duke\", \"Georgetown\",\n",
    "           \"Princeton\", \"U.Penn\", \"Stanford\", \"MIT\", \"Harvard\"]\n",
    "n_schools = len(schools)\n",
    "\n",
    "men_salary = [72, 67, 73, 80, 76, 79, 84, 78, 86, 93, 94, 90, 92, 96, 94, 112]\n",
    "women_salary = [92, 94, 100, 107, 112, 114, 114, 118, 119, 124, 131, 137, 141, 151, 152, 165]\n",
    "\n",
    "df = pd.DataFrame(dict(school=schools*2, salary=men_salary + women_salary,\n",
    "                       gender=[\"Men\"]*n_schools + [\"Women\"]*n_schools))\n",
    "\n",
    "# Use column names of df for the different parameters x, y, color, ...\n",
    "fig = px.scatter(df, x=\"salary\", y=\"school\", color=\"gender\",\n",
    "                 title=\"Gender Earnings Disparity\",\n",
    "                 labels={\"salary\":\"Annual Salary (in thousands)\"} # customize axis label\n",
    "                )\n",
    "\n",
    "fig.show()"
   ]
  },
  {
   "cell_type": "markdown",
   "metadata": {
    "colab_type": "text",
    "id": "R1lgCDe1rQIG"
   },
   "source": []
  }
 ],
 "metadata": {
  "colab": {
   "collapsed_sections": [
    "suCu8s3PAxcm",
    "IS0y8q0AKqkI",
    "LjlVfKjcK9BR",
    "THUHlIN2TdPj",
    "6kqm-HRJV0sJ",
    "WFlESzygRuBJ",
    "6ij3PB6tR3lS",
    "RqQJfcUGHJ85",
    "57hSQo8-1CDs",
    "9L3WzkfSHehp",
    "bwOfdB-vHeil",
    "ciga6B7s_t0i",
    "dEmDGR24Ioe_",
    "PpHK0QCwIzzE",
    "gjddd2H3HeiU",
    "JmvhU9I2TjXa",
    "GtzlBvWyU-Y1",
    "WzIus-ElU1EO"
   ],
   "name": "Demo_Data_Visualization_(3).ipynb",
   "provenance": []
  },
  "kernelspec": {
   "display_name": "Python 3",
   "language": "python",
   "name": "python3"
  },
  "language_info": {
   "codemirror_mode": {
    "name": "ipython",
    "version": 3
   },
   "file_extension": ".py",
   "mimetype": "text/x-python",
   "name": "python",
   "nbconvert_exporter": "python",
   "pygments_lexer": "ipython3",
   "version": "3.8.8"
  }
 },
 "nbformat": 4,
 "nbformat_minor": 1
}
