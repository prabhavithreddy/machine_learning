{
 "cells": [
  {
   "cell_type": "code",
   "execution_count": 21,
   "id": "3f8b5c93",
   "metadata": {},
   "outputs": [],
   "source": [
    "def reverse_builder(a):\n",
    "    def do(b):\n",
    "        a(b)\n",
    "        return b[::-1]\n",
    "    return do"
   ]
  },
  {
   "cell_type": "code",
   "execution_count": 22,
   "id": "86ba5707",
   "metadata": {},
   "outputs": [],
   "source": [
    "@reverse_builder\n",
    "def test(data):\n",
    "    return 1\n"
   ]
  },
  {
   "cell_type": "code",
   "execution_count": 23,
   "id": "31bbe8e3",
   "metadata": {},
   "outputs": [
    {
     "data": {
      "text/plain": [
       "'htivahbarp'"
      ]
     },
     "execution_count": 23,
     "metadata": {},
     "output_type": "execute_result"
    }
   ],
   "source": [
    "test('prabhavith')"
   ]
  },
  {
   "cell_type": "code",
   "execution_count": 18,
   "id": "e4cd90de",
   "metadata": {},
   "outputs": [
    {
     "data": {
      "text/plain": [
       "'htivahbarp'"
      ]
     },
     "execution_count": 18,
     "metadata": {},
     "output_type": "execute_result"
    }
   ],
   "source": [
    "c = reverse_builder('a')\n",
    "c('prabhavith')"
   ]
  },
  {
   "cell_type": "code",
   "execution_count": 29,
   "id": "3937d146",
   "metadata": {},
   "outputs": [],
   "source": [
    "def scream(text):\n",
    "    return text.upper()\n",
    "\n",
    "def shout(text):\n",
    "    return text.lower()\n",
    "\n",
    "def greet(func):\n",
    "    greeting = func('calling a function inside a function')\n",
    "    print(greeting)"
   ]
  },
  {
   "cell_type": "code",
   "execution_count": 30,
   "id": "9467571b",
   "metadata": {},
   "outputs": [
    {
     "name": "stdout",
     "output_type": "stream",
     "text": [
      "CALLING A FUNCTION INSIDE A FUNCTION\n",
      "calling a function inside a function\n"
     ]
    }
   ],
   "source": [
    "greet(scream)\n",
    "greet(shout)"
   ]
  },
  {
   "cell_type": "code",
   "execution_count": null,
   "id": "fe618c67",
   "metadata": {},
   "outputs": [],
   "source": []
  }
 ],
 "metadata": {
  "kernelspec": {
   "display_name": "Python 3",
   "language": "python",
   "name": "python3"
  },
  "language_info": {
   "codemirror_mode": {
    "name": "ipython",
    "version": 3
   },
   "file_extension": ".py",
   "mimetype": "text/x-python",
   "name": "python",
   "nbconvert_exporter": "python",
   "pygments_lexer": "ipython3",
   "version": "3.8.8"
  }
 },
 "nbformat": 4,
 "nbformat_minor": 5
}
