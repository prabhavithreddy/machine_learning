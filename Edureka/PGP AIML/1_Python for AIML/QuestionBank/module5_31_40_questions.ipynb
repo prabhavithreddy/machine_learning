{
 "cells": [
  {
   "cell_type": "code",
   "execution_count": 26,
   "id": "afd88bea",
   "metadata": {},
   "outputs": [],
   "source": [
    "import numpy as np\n",
    "import pandas as pd\n",
    "import matplotlib.pyplot as plt"
   ]
  },
  {
   "cell_type": "markdown",
   "id": "d1e3c470",
   "metadata": {},
   "source": [
    "### 31. Create a DataFrame from the given data.\n",
    "` my_dict = {\n",
    "'Name':['Gloria','Aron','Janna','Mia','Jackson','Sylphia','Jim'],\n",
    " 'Test_score':[52,73,65,84,62,66,93],\n",
    " 'Test2_score':[73,58,66,85,42,87,81],\n",
    "'Gender':[\"F\",\"M\",\"F\",\"F\",\"M\",\"F\",\"M\"]\n",
    " }`\n",
    " \n",
    " Rearrange the dataset by Names in alphabetical order and reset index."
   ]
  },
  {
   "cell_type": "code",
   "execution_count": 2,
   "id": "78ef6ffa",
   "metadata": {},
   "outputs": [
    {
     "data": {
      "text/html": [
       "<div>\n",
       "<style scoped>\n",
       "    .dataframe tbody tr th:only-of-type {\n",
       "        vertical-align: middle;\n",
       "    }\n",
       "\n",
       "    .dataframe tbody tr th {\n",
       "        vertical-align: top;\n",
       "    }\n",
       "\n",
       "    .dataframe thead th {\n",
       "        text-align: right;\n",
       "    }\n",
       "</style>\n",
       "<table border=\"1\" class=\"dataframe\">\n",
       "  <thead>\n",
       "    <tr style=\"text-align: right;\">\n",
       "      <th></th>\n",
       "      <th>Name</th>\n",
       "      <th>Test_score</th>\n",
       "      <th>Test2_score</th>\n",
       "      <th>Gender</th>\n",
       "    </tr>\n",
       "  </thead>\n",
       "  <tbody>\n",
       "    <tr>\n",
       "      <th>0</th>\n",
       "      <td>Gloria</td>\n",
       "      <td>52</td>\n",
       "      <td>73</td>\n",
       "      <td>F</td>\n",
       "    </tr>\n",
       "    <tr>\n",
       "      <th>1</th>\n",
       "      <td>Aron</td>\n",
       "      <td>73</td>\n",
       "      <td>58</td>\n",
       "      <td>M</td>\n",
       "    </tr>\n",
       "    <tr>\n",
       "      <th>2</th>\n",
       "      <td>Janna</td>\n",
       "      <td>65</td>\n",
       "      <td>66</td>\n",
       "      <td>F</td>\n",
       "    </tr>\n",
       "    <tr>\n",
       "      <th>3</th>\n",
       "      <td>Mia</td>\n",
       "      <td>84</td>\n",
       "      <td>85</td>\n",
       "      <td>F</td>\n",
       "    </tr>\n",
       "    <tr>\n",
       "      <th>4</th>\n",
       "      <td>Jackson</td>\n",
       "      <td>62</td>\n",
       "      <td>42</td>\n",
       "      <td>M</td>\n",
       "    </tr>\n",
       "    <tr>\n",
       "      <th>5</th>\n",
       "      <td>Sylphia</td>\n",
       "      <td>66</td>\n",
       "      <td>87</td>\n",
       "      <td>F</td>\n",
       "    </tr>\n",
       "    <tr>\n",
       "      <th>6</th>\n",
       "      <td>Jim</td>\n",
       "      <td>93</td>\n",
       "      <td>81</td>\n",
       "      <td>M</td>\n",
       "    </tr>\n",
       "  </tbody>\n",
       "</table>\n",
       "</div>"
      ],
      "text/plain": [
       "      Name  Test_score  Test2_score Gender\n",
       "0   Gloria          52           73      F\n",
       "1     Aron          73           58      M\n",
       "2    Janna          65           66      F\n",
       "3      Mia          84           85      F\n",
       "4  Jackson          62           42      M\n",
       "5  Sylphia          66           87      F\n",
       "6      Jim          93           81      M"
      ]
     },
     "execution_count": 2,
     "metadata": {},
     "output_type": "execute_result"
    }
   ],
   "source": [
    "df = pd.DataFrame({ 'Name':['Gloria','Aron','Janna','Mia','Jackson','Sylphia','Jim'], 'Test_score':[52,73,65,84,62,66,93], 'Test2_score':[73,58,66,85,42,87,81], 'Gender':[\"F\",\"M\",\"F\",\"F\",\"M\",\"F\",\"M\"] })\n",
    "df"
   ]
  },
  {
   "cell_type": "code",
   "execution_count": 7,
   "id": "fc8cb37c",
   "metadata": {},
   "outputs": [
    {
     "data": {
      "text/html": [
       "<div>\n",
       "<style scoped>\n",
       "    .dataframe tbody tr th:only-of-type {\n",
       "        vertical-align: middle;\n",
       "    }\n",
       "\n",
       "    .dataframe tbody tr th {\n",
       "        vertical-align: top;\n",
       "    }\n",
       "\n",
       "    .dataframe thead th {\n",
       "        text-align: right;\n",
       "    }\n",
       "</style>\n",
       "<table border=\"1\" class=\"dataframe\">\n",
       "  <thead>\n",
       "    <tr style=\"text-align: right;\">\n",
       "      <th></th>\n",
       "      <th>Name</th>\n",
       "      <th>Test_score</th>\n",
       "      <th>Test2_score</th>\n",
       "      <th>Gender</th>\n",
       "    </tr>\n",
       "  </thead>\n",
       "  <tbody>\n",
       "    <tr>\n",
       "      <th>0</th>\n",
       "      <td>Aron</td>\n",
       "      <td>73</td>\n",
       "      <td>58</td>\n",
       "      <td>M</td>\n",
       "    </tr>\n",
       "    <tr>\n",
       "      <th>1</th>\n",
       "      <td>Gloria</td>\n",
       "      <td>52</td>\n",
       "      <td>73</td>\n",
       "      <td>F</td>\n",
       "    </tr>\n",
       "    <tr>\n",
       "      <th>2</th>\n",
       "      <td>Jackson</td>\n",
       "      <td>62</td>\n",
       "      <td>42</td>\n",
       "      <td>M</td>\n",
       "    </tr>\n",
       "    <tr>\n",
       "      <th>3</th>\n",
       "      <td>Janna</td>\n",
       "      <td>65</td>\n",
       "      <td>66</td>\n",
       "      <td>F</td>\n",
       "    </tr>\n",
       "    <tr>\n",
       "      <th>4</th>\n",
       "      <td>Jim</td>\n",
       "      <td>93</td>\n",
       "      <td>81</td>\n",
       "      <td>M</td>\n",
       "    </tr>\n",
       "    <tr>\n",
       "      <th>5</th>\n",
       "      <td>Mia</td>\n",
       "      <td>84</td>\n",
       "      <td>85</td>\n",
       "      <td>F</td>\n",
       "    </tr>\n",
       "    <tr>\n",
       "      <th>6</th>\n",
       "      <td>Sylphia</td>\n",
       "      <td>66</td>\n",
       "      <td>87</td>\n",
       "      <td>F</td>\n",
       "    </tr>\n",
       "  </tbody>\n",
       "</table>\n",
       "</div>"
      ],
      "text/plain": [
       "      Name  Test_score  Test2_score Gender\n",
       "0     Aron          73           58      M\n",
       "1   Gloria          52           73      F\n",
       "2  Jackson          62           42      M\n",
       "3    Janna          65           66      F\n",
       "4      Jim          93           81      M\n",
       "5      Mia          84           85      F\n",
       "6  Sylphia          66           87      F"
      ]
     },
     "execution_count": 7,
     "metadata": {},
     "output_type": "execute_result"
    }
   ],
   "source": [
    "df.sort_values(by=['Name']).reset_index(drop=True)"
   ]
  },
  {
   "cell_type": "markdown",
   "id": "b8eb7ea6",
   "metadata": {},
   "source": [
    "### 32. Import the laliga player stats dataset(laliga_player_stats.csv). \n",
    "    Group the dataset by\n",
    "    Position and print the average timing of each\n",
    "    position."
   ]
  },
  {
   "cell_type": "code",
   "execution_count": 8,
   "id": "d659b503",
   "metadata": {},
   "outputs": [
    {
     "data": {
      "text/html": [
       "<div>\n",
       "<style scoped>\n",
       "    .dataframe tbody tr th:only-of-type {\n",
       "        vertical-align: middle;\n",
       "    }\n",
       "\n",
       "    .dataframe tbody tr th {\n",
       "        vertical-align: top;\n",
       "    }\n",
       "\n",
       "    .dataframe thead th {\n",
       "        text-align: right;\n",
       "    }\n",
       "</style>\n",
       "<table border=\"1\" class=\"dataframe\">\n",
       "  <thead>\n",
       "    <tr style=\"text-align: right;\">\n",
       "      <th></th>\n",
       "      <th>Team</th>\n",
       "      <th>Position</th>\n",
       "      <th>Shirt number</th>\n",
       "      <th>Name</th>\n",
       "      <th>Minutes played</th>\n",
       "      <th>Games played</th>\n",
       "      <th>Percentage of games played</th>\n",
       "      <th>Full games played</th>\n",
       "      <th>Percentage of full games played</th>\n",
       "      <th>Games started</th>\n",
       "      <th>...</th>\n",
       "      <th>Corners</th>\n",
       "      <th>Tackles.1</th>\n",
       "      <th>Duels</th>\n",
       "      <th>Man-to-man duels</th>\n",
       "      <th>Aerial duels</th>\n",
       "      <th>Passes</th>\n",
       "      <th>Short passes</th>\n",
       "      <th>Long passes</th>\n",
       "      <th>Through balls</th>\n",
       "      <th>Goals scored per attempt</th>\n",
       "    </tr>\n",
       "  </thead>\n",
       "  <tbody>\n",
       "    <tr>\n",
       "      <th>0</th>\n",
       "      <td>Athletic Club</td>\n",
       "      <td>Goalkeeper</td>\n",
       "      <td>NaN</td>\n",
       "      <td>Hodei Oleaga</td>\n",
       "      <td>0.000</td>\n",
       "      <td>0</td>\n",
       "      <td>0.00%</td>\n",
       "      <td>0</td>\n",
       "      <td>0.00%</td>\n",
       "      <td>0</td>\n",
       "      <td>...</td>\n",
       "      <td>0</td>\n",
       "      <td>0</td>\n",
       "      <td>0</td>\n",
       "      <td>0</td>\n",
       "      <td>0</td>\n",
       "      <td>0.0</td>\n",
       "      <td>0.0</td>\n",
       "      <td>0</td>\n",
       "      <td>0</td>\n",
       "      <td>0</td>\n",
       "    </tr>\n",
       "    <tr>\n",
       "      <th>1</th>\n",
       "      <td>Athletic Club</td>\n",
       "      <td>Goalkeeper</td>\n",
       "      <td>1.0</td>\n",
       "      <td>A. Remiro</td>\n",
       "      <td>0.000</td>\n",
       "      <td>0</td>\n",
       "      <td>0.00%</td>\n",
       "      <td>0</td>\n",
       "      <td>0.00%</td>\n",
       "      <td>0</td>\n",
       "      <td>...</td>\n",
       "      <td>0</td>\n",
       "      <td>0</td>\n",
       "      <td>0</td>\n",
       "      <td>0</td>\n",
       "      <td>0</td>\n",
       "      <td>0.0</td>\n",
       "      <td>0.0</td>\n",
       "      <td>0</td>\n",
       "      <td>0</td>\n",
       "      <td>0</td>\n",
       "    </tr>\n",
       "    <tr>\n",
       "      <th>2</th>\n",
       "      <td>Athletic Club</td>\n",
       "      <td>Goalkeeper</td>\n",
       "      <td>13.0</td>\n",
       "      <td>Herrerín</td>\n",
       "      <td>2.790</td>\n",
       "      <td>31</td>\n",
       "      <td>82.00%</td>\n",
       "      <td>31</td>\n",
       "      <td>82.00%</td>\n",
       "      <td>31</td>\n",
       "      <td>...</td>\n",
       "      <td>0</td>\n",
       "      <td>0</td>\n",
       "      <td>25</td>\n",
       "      <td>6</td>\n",
       "      <td>19</td>\n",
       "      <td>887.0</td>\n",
       "      <td>128.0</td>\n",
       "      <td>759</td>\n",
       "      <td>1</td>\n",
       "      <td>0</td>\n",
       "    </tr>\n",
       "    <tr>\n",
       "      <th>3</th>\n",
       "      <td>Athletic Club</td>\n",
       "      <td>Goalkeeper</td>\n",
       "      <td>25.0</td>\n",
       "      <td>Unai Simón</td>\n",
       "      <td>630.000</td>\n",
       "      <td>7</td>\n",
       "      <td>18.00%</td>\n",
       "      <td>7</td>\n",
       "      <td>18.00%</td>\n",
       "      <td>7</td>\n",
       "      <td>...</td>\n",
       "      <td>0</td>\n",
       "      <td>0</td>\n",
       "      <td>3</td>\n",
       "      <td>2</td>\n",
       "      <td>1</td>\n",
       "      <td>155.0</td>\n",
       "      <td>49.0</td>\n",
       "      <td>106</td>\n",
       "      <td>0</td>\n",
       "      <td>0</td>\n",
       "    </tr>\n",
       "    <tr>\n",
       "      <th>4</th>\n",
       "      <td>Athletic Club</td>\n",
       "      <td>Defender</td>\n",
       "      <td>3.0</td>\n",
       "      <td>Núñez</td>\n",
       "      <td>1.063</td>\n",
       "      <td>12</td>\n",
       "      <td>32.00%</td>\n",
       "      <td>11</td>\n",
       "      <td>29.00%</td>\n",
       "      <td>11</td>\n",
       "      <td>...</td>\n",
       "      <td>0</td>\n",
       "      <td>15</td>\n",
       "      <td>107</td>\n",
       "      <td>38</td>\n",
       "      <td>69</td>\n",
       "      <td>536.0</td>\n",
       "      <td>457.0</td>\n",
       "      <td>78</td>\n",
       "      <td>1</td>\n",
       "      <td>0</td>\n",
       "    </tr>\n",
       "  </tbody>\n",
       "</table>\n",
       "<p>5 rows × 62 columns</p>\n",
       "</div>"
      ],
      "text/plain": [
       "            Team    Position  Shirt number          Name  Minutes played  \\\n",
       "0  Athletic Club  Goalkeeper           NaN  Hodei Oleaga           0.000   \n",
       "1  Athletic Club  Goalkeeper           1.0     A. Remiro           0.000   \n",
       "2  Athletic Club  Goalkeeper          13.0      Herrerín           2.790   \n",
       "3  Athletic Club  Goalkeeper          25.0    Unai Simón         630.000   \n",
       "4  Athletic Club    Defender           3.0         Núñez           1.063   \n",
       "\n",
       "   Games played Percentage of games played  Full games played  \\\n",
       "0             0                      0.00%                  0   \n",
       "1             0                      0.00%                  0   \n",
       "2            31                     82.00%                 31   \n",
       "3             7                     18.00%                  7   \n",
       "4            12                     32.00%                 11   \n",
       "\n",
       "  Percentage of full games played  Games started  ... Corners  Tackles.1  \\\n",
       "0                           0.00%              0  ...       0          0   \n",
       "1                           0.00%              0  ...       0          0   \n",
       "2                          82.00%             31  ...       0          0   \n",
       "3                          18.00%              7  ...       0          0   \n",
       "4                          29.00%             11  ...       0         15   \n",
       "\n",
       "  Duels  Man-to-man duels  Aerial duels  Passes  Short passes  Long passes  \\\n",
       "0     0                 0             0     0.0           0.0            0   \n",
       "1     0                 0             0     0.0           0.0            0   \n",
       "2    25                 6            19   887.0         128.0          759   \n",
       "3     3                 2             1   155.0          49.0          106   \n",
       "4   107                38            69   536.0         457.0           78   \n",
       "\n",
       "   Through balls  Goals scored per attempt  \n",
       "0              0                         0  \n",
       "1              0                         0  \n",
       "2              1                         0  \n",
       "3              0                         0  \n",
       "4              1                         0  \n",
       "\n",
       "[5 rows x 62 columns]"
      ]
     },
     "execution_count": 8,
     "metadata": {},
     "output_type": "execute_result"
    }
   ],
   "source": [
    "df = pd.read_csv('laliga_player_stats_english.csv')\n",
    "df.head()"
   ]
  },
  {
   "cell_type": "code",
   "execution_count": 10,
   "id": "be9c3b28",
   "metadata": {},
   "outputs": [
    {
     "data": {
      "text/plain": [
       "Position\n",
       "Defender      121.626973\n",
       "Forward       181.430862\n",
       "Goalkeeper    113.551719\n",
       "Midfielder    108.873855\n",
       "Name: Minutes played, dtype: float64"
      ]
     },
     "execution_count": 10,
     "metadata": {},
     "output_type": "execute_result"
    }
   ],
   "source": [
    "df.groupby('Position')['Minutes played'].mean()"
   ]
  },
  {
   "cell_type": "markdown",
   "id": "86c25b4f",
   "metadata": {},
   "source": [
    "### 33. Print the name and position of the player who the scored most number of goals"
   ]
  },
  {
   "cell_type": "code",
   "execution_count": 13,
   "id": "c96127eb",
   "metadata": {},
   "outputs": [
    {
     "data": {
      "text/html": [
       "<div>\n",
       "<style scoped>\n",
       "    .dataframe tbody tr th:only-of-type {\n",
       "        vertical-align: middle;\n",
       "    }\n",
       "\n",
       "    .dataframe tbody tr th {\n",
       "        vertical-align: top;\n",
       "    }\n",
       "\n",
       "    .dataframe thead th {\n",
       "        text-align: right;\n",
       "    }\n",
       "</style>\n",
       "<table border=\"1\" class=\"dataframe\">\n",
       "  <thead>\n",
       "    <tr style=\"text-align: right;\">\n",
       "      <th></th>\n",
       "      <th>Name</th>\n",
       "      <th>Position</th>\n",
       "    </tr>\n",
       "  </thead>\n",
       "  <tbody>\n",
       "    <tr>\n",
       "      <th>138</th>\n",
       "      <td>Messi</td>\n",
       "      <td>Forward</td>\n",
       "    </tr>\n",
       "  </tbody>\n",
       "</table>\n",
       "</div>"
      ],
      "text/plain": [
       "      Name Position\n",
       "138  Messi  Forward"
      ]
     },
     "execution_count": 13,
     "metadata": {},
     "output_type": "execute_result"
    }
   ],
   "source": [
    "df[df['Goals scored'] == df['Goals scored'].max()][['Name','Position']]"
   ]
  },
  {
   "cell_type": "markdown",
   "id": "73392860",
   "metadata": {},
   "source": [
    "### 34. Print the Team name which scored maximum number of goals"
   ]
  },
  {
   "cell_type": "code",
   "execution_count": 20,
   "id": "792eb8a8",
   "metadata": {},
   "outputs": [
    {
     "data": {
      "text/plain": [
       "'FC Barcelona'"
      ]
     },
     "execution_count": 20,
     "metadata": {},
     "output_type": "execute_result"
    }
   ],
   "source": [
    "df.groupby('Team')['Goals scored'].sum().sort_values(ascending=False).index[0]"
   ]
  },
  {
   "cell_type": "markdown",
   "id": "f02f5ae9",
   "metadata": {},
   "source": [
    "### 35. Find the Team with the least number of Yellow cards"
   ]
  },
  {
   "cell_type": "code",
   "execution_count": 19,
   "id": "f237fd64",
   "metadata": {},
   "outputs": [
    {
     "data": {
      "text/plain": [
       "'RC Celta'"
      ]
     },
     "execution_count": 19,
     "metadata": {},
     "output_type": "execute_result"
    }
   ],
   "source": [
    "df.groupby('Team')['Yellow Cards'].sum().sort_values().index[0]"
   ]
  },
  {
   "cell_type": "markdown",
   "id": "703dfc0d",
   "metadata": {},
   "source": [
    "### 36. Plot the Passes made by each team on a barplot after sorting them."
   ]
  },
  {
   "cell_type": "code",
   "execution_count": 27,
   "id": "95afdd4b",
   "metadata": {},
   "outputs": [
    {
     "data": {
      "text/plain": [
       "<BarContainer object of 20 artists>"
      ]
     },
     "execution_count": 27,
     "metadata": {},
     "output_type": "execute_result"
    },
    {
     "data": {
      "image/png": "[encoded data removed]",
      "text/plain": [
       "<Figure size 432x288 with 1 Axes>"
      ]
     },
     "metadata": {
      "needs_background": "light"
     },
     "output_type": "display_data"
    }
   ],
   "source": [
    "result = df.groupby('Team')['Passes'].sum().sort_values()#.plot(kind='bar')\n",
    "plt.barh(result.index, result)"
   ]
  },
  {
   "cell_type": "code",
   "execution_count": null,
   "id": "1d319584",
   "metadata": {},
   "outputs": [],
   "source": []
  }
 ],
 "metadata": {
  "kernelspec": {
   "display_name": "Python 3",
   "language": "python",
   "name": "python3"
  },
  "language_info": {
   "codemirror_mode": {
    "name": "ipython",
    "version": 3
   },
   "file_extension": ".py",
   "mimetype": "text/x-python",
   "name": "python",
   "nbconvert_exporter": "python",
   "pygments_lexer": "ipython3",
   "version": "3.8.8"
  }
 },
 "nbformat": 4,
 "nbformat_minor": 5
}
