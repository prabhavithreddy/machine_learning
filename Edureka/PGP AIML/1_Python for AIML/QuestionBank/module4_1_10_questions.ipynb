{
 "cells": [
  {
   "cell_type": "markdown",
   "id": "50813eaf",
   "metadata": {},
   "source": [
    "### 1. Write a Python program to fetch the title of the URL specified."
   ]
  },
  {
   "cell_type": "code",
   "execution_count": 13,
   "id": "295af5b1",
   "metadata": {},
   "outputs": [],
   "source": [
    "from bs4 import BeautifulSoup\n",
    "import requests\n",
    "import re"
   ]
  },
  {
   "cell_type": "code",
   "execution_count": 5,
   "id": "f1fc85e3",
   "metadata": {},
   "outputs": [],
   "source": [
    "url = 'https://wikipedia.org'"
   ]
  },
  {
   "cell_type": "code",
   "execution_count": 9,
   "id": "f41827f0",
   "metadata": {},
   "outputs": [],
   "source": [
    "bs = BeautifulSoup(requests.get(url).content,'html.parser')"
   ]
  },
  {
   "cell_type": "code",
   "execution_count": 10,
   "id": "7f015c65",
   "metadata": {},
   "outputs": [
    {
     "data": {
      "text/plain": [
       "<title>Wikipedia</title>"
      ]
     },
     "execution_count": 10,
     "metadata": {},
     "output_type": "execute_result"
    }
   ],
   "source": [
    "bs.title"
   ]
  },
  {
   "cell_type": "markdown",
   "id": "5b3599b1",
   "metadata": {},
   "source": [
    "### 2. Write a Python program to print content of elements that contain a specified string of a given web page."
   ]
  },
  {
   "cell_type": "code",
   "execution_count": 12,
   "id": "702247e7",
   "metadata": {},
   "outputs": [],
   "source": [
    "url = \"https://www.python.org\"\n",
    "bs = BeautifulSoup(requests.get(url).content, 'html.parser')"
   ]
  },
  {
   "cell_type": "code",
   "execution_count": 16,
   "id": "c5d6d2d7",
   "metadata": {},
   "outputs": [
    {
     "data": {
      "text/plain": [
       "['Welcome to Python.org',\n",
       " 'Python',\n",
       " ' The Python Network\\n                ',\n",
       " 'Python Brochure',\n",
       " 'Python Books',\n",
       " 'Python Essays',\n",
       " 'Python Conferences',\n",
       " 'Python Logo',\n",
       " 'Python Wiki',\n",
       " 'Python News',\n",
       " 'Python Events',\n",
       " 'Python Events Archive',\n",
       " '# Python 3: Fibonacci series up to n',\n",
       " 'The core of extensible programming is defining functions. Python allows mandatory and optional arguments, keyword arguments, and even arbitrary argument lists. ',\n",
       " 'More about defining functions in Python\\xa03',\n",
       " '# Python 3: List comprehensions',\n",
       " 'Lists (known as arrays in other languages) are one of the compound data types that Python understands. Lists can be indexed, sliced and manipulated with other built-in functions. ',\n",
       " 'More about lists in Python\\xa03',\n",
       " '# Python 3: Simple arithmetic',\n",
       " 'Calculations are simple with Python, and expression syntax is straightforward: the operators ',\n",
       " 'More about simple math functions in Python\\xa03',\n",
       " '# Python 3: Simple output (with Unicode)',\n",
       " '\\r\\n>>> print(\"Hello, I\\'m Python!\")\\r\\n',\n",
       " \"Hello, I'm Python!\",\n",
       " 'What is your name?\\r\\nPython\\r\\nHi, Python.',\n",
       " 'Experienced programmers in any other language can pick up Python very quickly, and beginners find the clean syntax and indentation structure easy to learn. ',\n",
       " ' with our Python\\xa03 overview.',\n",
       " 'Python knows the usual control flow statements that other languages speak — ',\n",
       " 'More control flow tools in Python\\xa03',\n",
       " 'Python is a programming language that lets you work quickly ',\n",
       " \"Whether you're new to programming or an experienced developer, it's easy to learn and use Python.\",\n",
       " 'Python source code and installers are available for download for all versions!',\n",
       " 'Python 3.9.5',\n",
       " \"Documentation for Python's standard library, along with tutorials and guides, are available online.\",\n",
       " \"Looking for work or have a Python related position that you're trying to hire for? Our \",\n",
       " 'Python 3.10.0b3 is available',\n",
       " 'Update on the Python Software Foundation Executive Director',\n",
       " 'The 2021 Python Language Summit: Lightning Talks, Round 2',\n",
       " 'The 2021 Python Language Summit: Fuzzing and Testing Python With Properties',\n",
       " 'The 2021 Python Language Summit: What Should I Work on as a Core Dev?',\n",
       " '\"Python is all about automating repetitive tasks, leaving more time for your other SEO efforts.\"',\n",
       " 'Using Python scripts to analyse SEO and broken links on your site',\n",
       " 'Use Python for…',\n",
       " 'wxPython',\n",
       " 'IPython',\n",
       " 'Python Enhancement Proposals',\n",
       " ': The future of Python',\n",
       " 'Python Software Foundation',\n",
       " 'The mission of the Python Software Foundation is to promote, protect, and advance the Python programming language, and to support and facilitate the growth of a diverse and international community of Python programmers. ',\n",
       " 'Python Brochure',\n",
       " 'Python Books',\n",
       " 'Python Essays',\n",
       " 'Python Conferences',\n",
       " 'Python Logo',\n",
       " 'Python Wiki',\n",
       " 'Python News',\n",
       " 'Python Events',\n",
       " 'Python Events Archive',\n",
       " 'Python Software Foundation']"
      ]
     },
     "execution_count": 16,
     "metadata": {},
     "output_type": "execute_result"
    }
   ],
   "source": [
    "bs.find_all(string=re.compile('Python'))"
   ]
  },
  {
   "cell_type": "markdown",
   "id": "a57032f7",
   "metadata": {},
   "source": [
    "### 3. Write a Python program to download an image from the URL provided."
   ]
  },
  {
   "cell_type": "code",
   "execution_count": 17,
   "id": "0c65e2ec",
   "metadata": {},
   "outputs": [
    {
     "data": {
      "text/plain": [
       "<Response [200]>"
      ]
     },
     "execution_count": 17,
     "metadata": {},
     "output_type": "execute_result"
    }
   ],
   "source": [
    "url='https://miro.medium.com/max/490/0*RYfebqkzWZ3RToOh.png'\n"
   ]
  },
  {
   "cell_type": "code",
   "execution_count": null,
   "id": "5b4913b3",
   "metadata": {},
   "outputs": [],
   "source": [
    "bs = BeautifulSoup(requests.get(url))"
   ]
  }
 ],
 "metadata": {
  "kernelspec": {
   "display_name": "Python 3",
   "language": "python",
   "name": "python3"
  },
  "language_info": {
   "codemirror_mode": {
    "name": "ipython",
    "version": 3
   },
   "file_extension": ".py",
   "mimetype": "text/x-python",
   "name": "python",
   "nbconvert_exporter": "python",
   "pygments_lexer": "ipython3",
   "version": "3.8.8"
  }
 },
 "nbformat": 4,
 "nbformat_minor": 5
}
