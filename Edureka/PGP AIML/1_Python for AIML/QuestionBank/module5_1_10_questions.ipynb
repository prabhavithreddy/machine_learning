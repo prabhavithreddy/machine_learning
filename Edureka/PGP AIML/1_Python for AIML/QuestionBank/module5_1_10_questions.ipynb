{
 "cells": [
  {
   "cell_type": "code",
   "execution_count": 1,
   "id": "63310927",
   "metadata": {},
   "outputs": [],
   "source": [
    "import numpy as np\n",
    "import pandas as pd"
   ]
  },
  {
   "cell_type": "markdown",
   "id": "2505263c",
   "metadata": {},
   "source": [
    "### 1. Write a program to create a pandas series from range X to Y."
   ]
  },
  {
   "cell_type": "code",
   "execution_count": 2,
   "id": "7af7e0fc",
   "metadata": {},
   "outputs": [],
   "source": [
    "x = 10 \n",
    "y = 20"
   ]
  },
  {
   "cell_type": "code",
   "execution_count": 3,
   "id": "8df91d49",
   "metadata": {},
   "outputs": [
    {
     "data": {
      "text/plain": [
       "0     10\n",
       "1     11\n",
       "2     12\n",
       "3     13\n",
       "4     14\n",
       "5     15\n",
       "6     16\n",
       "7     17\n",
       "8     18\n",
       "9     19\n",
       "10    20\n",
       "Name: Series, dtype: int32"
      ]
     },
     "execution_count": 3,
     "metadata": {},
     "output_type": "execute_result"
    }
   ],
   "source": [
    "pd.Series(np.arange(x,y+1),name='Series')"
   ]
  },
  {
   "cell_type": "markdown",
   "id": "48e575d2",
   "metadata": {},
   "source": [
    "### 2. Write a Python program to add, subtract, multiple and divide two Pandas Series."
   ]
  },
  {
   "cell_type": "code",
   "execution_count": 4,
   "id": "0146e80d",
   "metadata": {},
   "outputs": [],
   "source": [
    "series_a = pd.Series([1, 2, 3, 4, 5])\n",
    "series_b = pd.Series([6, 7, 8, 9, 10])"
   ]
  },
  {
   "cell_type": "markdown",
   "id": "c663826d",
   "metadata": {},
   "source": [
    "> ### Add"
   ]
  },
  {
   "cell_type": "code",
   "execution_count": 5,
   "id": "f275f0ef",
   "metadata": {},
   "outputs": [
    {
     "data": {
      "text/plain": [
       "0     7\n",
       "1     9\n",
       "2    11\n",
       "3    13\n",
       "4    15\n",
       "dtype: int64"
      ]
     },
     "execution_count": 5,
     "metadata": {},
     "output_type": "execute_result"
    }
   ],
   "source": [
    "series_a + series_b"
   ]
  },
  {
   "cell_type": "markdown",
   "id": "d0b01e4d",
   "metadata": {},
   "source": [
    "> ### Subtract"
   ]
  },
  {
   "cell_type": "code",
   "execution_count": 6,
   "id": "20b86d83",
   "metadata": {},
   "outputs": [
    {
     "data": {
      "text/plain": [
       "0   -5\n",
       "1   -5\n",
       "2   -5\n",
       "3   -5\n",
       "4   -5\n",
       "dtype: int64"
      ]
     },
     "execution_count": 6,
     "metadata": {},
     "output_type": "execute_result"
    }
   ],
   "source": [
    "series_a - series_b"
   ]
  },
  {
   "cell_type": "markdown",
   "id": "72cbb0c3",
   "metadata": {},
   "source": [
    "> ### Multiply"
   ]
  },
  {
   "cell_type": "code",
   "execution_count": 8,
   "id": "6f2aeec8",
   "metadata": {},
   "outputs": [
    {
     "data": {
      "text/plain": [
       "0     6\n",
       "1    14\n",
       "2    24\n",
       "3    36\n",
       "4    50\n",
       "dtype: int64"
      ]
     },
     "execution_count": 8,
     "metadata": {},
     "output_type": "execute_result"
    }
   ],
   "source": [
    "series_a * series_b"
   ]
  },
  {
   "cell_type": "markdown",
   "id": "888363a5",
   "metadata": {},
   "source": [
    "> ### Divide"
   ]
  },
  {
   "cell_type": "code",
   "execution_count": 10,
   "id": "01e44d61",
   "metadata": {},
   "outputs": [
    {
     "data": {
      "text/plain": [
       "0    0.166667\n",
       "1    0.285714\n",
       "2    0.375000\n",
       "3    0.444444\n",
       "4    0.500000\n",
       "dtype: float64"
      ]
     },
     "execution_count": 10,
     "metadata": {},
     "output_type": "execute_result"
    }
   ],
   "source": [
    "series_a / series_b"
   ]
  },
  {
   "cell_type": "markdown",
   "id": "67506e8c",
   "metadata": {},
   "source": [
    "### 3. From the raw data below create a Pandas Series"
   ]
  },
  {
   "cell_type": "code",
   "execution_count": 11,
   "id": "262325f7",
   "metadata": {},
   "outputs": [],
   "source": [
    "names = [ ' Aron', 'Jackson ', ' Ahree ', 'Sam']"
   ]
  },
  {
   "cell_type": "code",
   "execution_count": 12,
   "id": "5d77be11",
   "metadata": {},
   "outputs": [
    {
     "data": {
      "text/plain": [
       "0        Aron\n",
       "1    Jackson \n",
       "2      Ahree \n",
       "3         Sam\n",
       "Name: names, dtype: object"
      ]
     },
     "execution_count": 12,
     "metadata": {},
     "output_type": "execute_result"
    }
   ],
   "source": [
    "series = pd.Series(names, name='names')\n",
    "series"
   ]
  },
  {
   "cell_type": "markdown",
   "id": "f0412d19",
   "metadata": {},
   "source": [
    "> ### Print all elements after stripping spaces from the left and right"
   ]
  },
  {
   "cell_type": "code",
   "execution_count": 14,
   "id": "958ecf3b",
   "metadata": {},
   "outputs": [
    {
     "data": {
      "text/plain": [
       "0       Aron\n",
       "1    Jackson\n",
       "2      Ahree\n",
       "3        Sam\n",
       "Name: names, dtype: object"
      ]
     },
     "execution_count": 14,
     "metadata": {},
     "output_type": "execute_result"
    }
   ],
   "source": [
    "series.str.strip()"
   ]
  },
  {
   "cell_type": "markdown",
   "id": "340c4a40",
   "metadata": {},
   "source": [
    "> ### Print all the elements after removing spaces from the left only"
   ]
  },
  {
   "cell_type": "code",
   "execution_count": 15,
   "id": "2047600a",
   "metadata": {},
   "outputs": [
    {
     "data": {
      "text/plain": [
       "0        Aron\n",
       "1    Jackson \n",
       "2      Ahree \n",
       "3         Sam\n",
       "Name: names, dtype: object"
      ]
     },
     "execution_count": 15,
     "metadata": {},
     "output_type": "execute_result"
    }
   ],
   "source": [
    "series.str.lstrip()"
   ]
  },
  {
   "cell_type": "markdown",
   "id": "9d549fb8",
   "metadata": {},
   "source": [
    "> ### Print all the elements after removing spaces from the right only"
   ]
  },
  {
   "cell_type": "code",
   "execution_count": 16,
   "id": "7eac9e41",
   "metadata": {},
   "outputs": [
    {
     "data": {
      "text/plain": [
       "0       Aron\n",
       "1    Jackson\n",
       "2      Ahree\n",
       "3        Sam\n",
       "Name: names, dtype: object"
      ]
     },
     "execution_count": 16,
     "metadata": {},
     "output_type": "execute_result"
    }
   ],
   "source": [
    "series.str.rstrip()"
   ]
  },
  {
   "cell_type": "markdown",
   "id": "821385be",
   "metadata": {},
   "source": [
    "### 4. Write a program to convert a dictionary into Pandas Series."
   ]
  },
  {
   "cell_type": "code",
   "execution_count": 17,
   "id": "9e0ebed8",
   "metadata": {},
   "outputs": [
    {
     "data": {
      "text/plain": [
       "Sam      89\n",
       "Aron     82\n",
       "Gray     78\n",
       "Isla     93\n",
       "Ahree    87\n",
       "dtype: int64"
      ]
     },
     "execution_count": 17,
     "metadata": {},
     "output_type": "execute_result"
    }
   ],
   "source": [
    "dictionary = {'Sam':89,'Aron':82,'Gray':78,'Isla':93,'Ahree':87}\n",
    "series = pd.Series(dictionary)\n",
    "series"
   ]
  },
  {
   "cell_type": "markdown",
   "id": "d5606aec",
   "metadata": {},
   "source": [
    "### 5. Write a program to convert the below dictionary into DataFrame and print head(2) and tail(2) of the DataFrame."
   ]
  },
  {
   "cell_type": "code",
   "execution_count": 20,
   "id": "bae5b7b0",
   "metadata": {},
   "outputs": [
    {
     "data": {
      "text/html": [
       "<div>\n",
       "<style scoped>\n",
       "    .dataframe tbody tr th:only-of-type {\n",
       "        vertical-align: middle;\n",
       "    }\n",
       "\n",
       "    .dataframe tbody tr th {\n",
       "        vertical-align: top;\n",
       "    }\n",
       "\n",
       "    .dataframe thead th {\n",
       "        text-align: right;\n",
       "    }\n",
       "</style>\n",
       "<table border=\"1\" class=\"dataframe\">\n",
       "  <thead>\n",
       "    <tr style=\"text-align: right;\">\n",
       "      <th></th>\n",
       "      <th>Name</th>\n",
       "      <th>Class</th>\n",
       "      <th>Age</th>\n",
       "    </tr>\n",
       "  </thead>\n",
       "  <tbody>\n",
       "    <tr>\n",
       "      <th>0</th>\n",
       "      <td>Sameer</td>\n",
       "      <td>11</td>\n",
       "      <td>17</td>\n",
       "    </tr>\n",
       "    <tr>\n",
       "      <th>1</th>\n",
       "      <td>Leona</td>\n",
       "      <td>11</td>\n",
       "      <td>18</td>\n",
       "    </tr>\n",
       "    <tr>\n",
       "      <th>2</th>\n",
       "      <td>Samuel</td>\n",
       "      <td>12</td>\n",
       "      <td>19</td>\n",
       "    </tr>\n",
       "    <tr>\n",
       "      <th>3</th>\n",
       "      <td>Jackson</td>\n",
       "      <td>12</td>\n",
       "      <td>17</td>\n",
       "    </tr>\n",
       "    <tr>\n",
       "      <th>4</th>\n",
       "      <td>Gray</td>\n",
       "      <td>11</td>\n",
       "      <td>21</td>\n",
       "    </tr>\n",
       "    <tr>\n",
       "      <th>5</th>\n",
       "      <td>Sylphia</td>\n",
       "      <td>12</td>\n",
       "      <td>23</td>\n",
       "    </tr>\n",
       "  </tbody>\n",
       "</table>\n",
       "</div>"
      ],
      "text/plain": [
       "      Name  Class  Age\n",
       "0   Sameer     11   17\n",
       "1    Leona     11   18\n",
       "2   Samuel     12   19\n",
       "3  Jackson     12   17\n",
       "4     Gray     11   21\n",
       "5  Sylphia     12   23"
      ]
     },
     "execution_count": 20,
     "metadata": {},
     "output_type": "execute_result"
    }
   ],
   "source": [
    "df = pd.DataFrame({'Name':['Sameer','Leona','Samuel','Jackson','Gray','Sylphia'],\n",
    "'Class':[11,11,12,12,11,12],\n",
    "'Age':[17,18,19,17,21,23]\n",
    "})\n",
    "df"
   ]
  },
  {
   "cell_type": "markdown",
   "id": "73cf0d34",
   "metadata": {},
   "source": [
    "> ### head(2)"
   ]
  },
  {
   "cell_type": "code",
   "execution_count": 21,
   "id": "cf58eb29",
   "metadata": {},
   "outputs": [
    {
     "data": {
      "text/html": [
       "<div>\n",
       "<style scoped>\n",
       "    .dataframe tbody tr th:only-of-type {\n",
       "        vertical-align: middle;\n",
       "    }\n",
       "\n",
       "    .dataframe tbody tr th {\n",
       "        vertical-align: top;\n",
       "    }\n",
       "\n",
       "    .dataframe thead th {\n",
       "        text-align: right;\n",
       "    }\n",
       "</style>\n",
       "<table border=\"1\" class=\"dataframe\">\n",
       "  <thead>\n",
       "    <tr style=\"text-align: right;\">\n",
       "      <th></th>\n",
       "      <th>Name</th>\n",
       "      <th>Class</th>\n",
       "      <th>Age</th>\n",
       "    </tr>\n",
       "  </thead>\n",
       "  <tbody>\n",
       "    <tr>\n",
       "      <th>0</th>\n",
       "      <td>Sameer</td>\n",
       "      <td>11</td>\n",
       "      <td>17</td>\n",
       "    </tr>\n",
       "    <tr>\n",
       "      <th>1</th>\n",
       "      <td>Leona</td>\n",
       "      <td>11</td>\n",
       "      <td>18</td>\n",
       "    </tr>\n",
       "  </tbody>\n",
       "</table>\n",
       "</div>"
      ],
      "text/plain": [
       "     Name  Class  Age\n",
       "0  Sameer     11   17\n",
       "1   Leona     11   18"
      ]
     },
     "execution_count": 21,
     "metadata": {},
     "output_type": "execute_result"
    }
   ],
   "source": [
    "df.head(2)"
   ]
  },
  {
   "cell_type": "markdown",
   "id": "fea64bc7",
   "metadata": {},
   "source": [
    "> ### tail(2)"
   ]
  },
  {
   "cell_type": "code",
   "execution_count": 22,
   "id": "41e0120a",
   "metadata": {},
   "outputs": [
    {
     "data": {
      "text/html": [
       "<div>\n",
       "<style scoped>\n",
       "    .dataframe tbody tr th:only-of-type {\n",
       "        vertical-align: middle;\n",
       "    }\n",
       "\n",
       "    .dataframe tbody tr th {\n",
       "        vertical-align: top;\n",
       "    }\n",
       "\n",
       "    .dataframe thead th {\n",
       "        text-align: right;\n",
       "    }\n",
       "</style>\n",
       "<table border=\"1\" class=\"dataframe\">\n",
       "  <thead>\n",
       "    <tr style=\"text-align: right;\">\n",
       "      <th></th>\n",
       "      <th>Name</th>\n",
       "      <th>Class</th>\n",
       "      <th>Age</th>\n",
       "    </tr>\n",
       "  </thead>\n",
       "  <tbody>\n",
       "    <tr>\n",
       "      <th>4</th>\n",
       "      <td>Gray</td>\n",
       "      <td>11</td>\n",
       "      <td>21</td>\n",
       "    </tr>\n",
       "    <tr>\n",
       "      <th>5</th>\n",
       "      <td>Sylphia</td>\n",
       "      <td>12</td>\n",
       "      <td>23</td>\n",
       "    </tr>\n",
       "  </tbody>\n",
       "</table>\n",
       "</div>"
      ],
      "text/plain": [
       "      Name  Class  Age\n",
       "4     Gray     11   21\n",
       "5  Sylphia     12   23"
      ]
     },
     "execution_count": 22,
     "metadata": {},
     "output_type": "execute_result"
    }
   ],
   "source": [
    "df.tail(2)"
   ]
  },
  {
   "cell_type": "markdown",
   "id": "f9630d21",
   "metadata": {},
   "source": [
    "### 6. Convert the given nested list into single series and print the output in sorted form."
   ]
  },
  {
   "cell_type": "code",
   "execution_count": 48,
   "id": "78d829ec",
   "metadata": {},
   "outputs": [],
   "source": [
    "data = [[1,23,12,31,14,12],[32,43,32,42],[65,75,65,57,41,33,68,52]]\n",
    "series = pd.Series(data)"
   ]
  },
  {
   "cell_type": "code",
   "execution_count": 49,
   "id": "6bb222a3",
   "metadata": {},
   "outputs": [
    {
     "data": {
      "text/html": [
       "<div>\n",
       "<style scoped>\n",
       "    .dataframe tbody tr th:only-of-type {\n",
       "        vertical-align: middle;\n",
       "    }\n",
       "\n",
       "    .dataframe tbody tr th {\n",
       "        vertical-align: top;\n",
       "    }\n",
       "\n",
       "    .dataframe thead th {\n",
       "        text-align: right;\n",
       "    }\n",
       "</style>\n",
       "<table border=\"1\" class=\"dataframe\">\n",
       "  <thead>\n",
       "    <tr style=\"text-align: right;\">\n",
       "      <th></th>\n",
       "      <th>0</th>\n",
       "      <th>1</th>\n",
       "      <th>2</th>\n",
       "      <th>3</th>\n",
       "      <th>4</th>\n",
       "      <th>5</th>\n",
       "      <th>6</th>\n",
       "      <th>7</th>\n",
       "    </tr>\n",
       "  </thead>\n",
       "  <tbody>\n",
       "    <tr>\n",
       "      <th>0</th>\n",
       "      <td>1.0</td>\n",
       "      <td>23.0</td>\n",
       "      <td>12.0</td>\n",
       "      <td>31.0</td>\n",
       "      <td>14.0</td>\n",
       "      <td>12.0</td>\n",
       "      <td>NaN</td>\n",
       "      <td>NaN</td>\n",
       "    </tr>\n",
       "    <tr>\n",
       "      <th>1</th>\n",
       "      <td>32.0</td>\n",
       "      <td>43.0</td>\n",
       "      <td>32.0</td>\n",
       "      <td>42.0</td>\n",
       "      <td>NaN</td>\n",
       "      <td>NaN</td>\n",
       "      <td>NaN</td>\n",
       "      <td>NaN</td>\n",
       "    </tr>\n",
       "    <tr>\n",
       "      <th>2</th>\n",
       "      <td>65.0</td>\n",
       "      <td>75.0</td>\n",
       "      <td>65.0</td>\n",
       "      <td>57.0</td>\n",
       "      <td>41.0</td>\n",
       "      <td>33.0</td>\n",
       "      <td>68.0</td>\n",
       "      <td>52.0</td>\n",
       "    </tr>\n",
       "  </tbody>\n",
       "</table>\n",
       "</div>"
      ],
      "text/plain": [
       "      0     1     2     3     4     5     6     7\n",
       "0   1.0  23.0  12.0  31.0  14.0  12.0   NaN   NaN\n",
       "1  32.0  43.0  32.0  42.0   NaN   NaN   NaN   NaN\n",
       "2  65.0  75.0  65.0  57.0  41.0  33.0  68.0  52.0"
      ]
     },
     "execution_count": 49,
     "metadata": {},
     "output_type": "execute_result"
    }
   ],
   "source": [
    "series.apply(pd.Series)"
   ]
  },
  {
   "cell_type": "code",
   "execution_count": 47,
   "id": "959d3695",
   "metadata": {},
   "outputs": [
    {
     "data": {
      "text/plain": [
       "0      1.0\n",
       "2     12.0\n",
       "5     12.0\n",
       "4     14.0\n",
       "1     23.0\n",
       "3     31.0\n",
       "8     32.0\n",
       "6     32.0\n",
       "15    33.0\n",
       "14    41.0\n",
       "9     42.0\n",
       "7     43.0\n",
       "17    52.0\n",
       "13    57.0\n",
       "10    65.0\n",
       "12    65.0\n",
       "16    68.0\n",
       "11    75.0\n",
       "dtype: float64"
      ]
     },
     "execution_count": 47,
     "metadata": {},
     "output_type": "execute_result"
    }
   ],
   "source": [
    "series = series.apply(pd.Series).stack().reset_index(drop=True).sort_values(axis=0)\n",
    "series"
   ]
  },
  {
   "cell_type": "markdown",
   "id": "63d88fd4",
   "metadata": {},
   "source": [
    "### 7. Create a series from 1 to 1000 and select only numbers divisble by 7 and 17."
   ]
  },
  {
   "cell_type": "code",
   "execution_count": 50,
   "id": "9577aa6c",
   "metadata": {},
   "outputs": [
    {
     "data": {
      "text/plain": [
       "0    1\n",
       "1    2\n",
       "2    3\n",
       "3    4\n",
       "4    5\n",
       "dtype: int32"
      ]
     },
     "execution_count": 50,
     "metadata": {},
     "output_type": "execute_result"
    }
   ],
   "source": [
    "series = pd.Series(np.arange(1,1001))\n",
    "series.head()"
   ]
  },
  {
   "cell_type": "code",
   "execution_count": 53,
   "id": "44cd478a",
   "metadata": {},
   "outputs": [
    {
     "data": {
      "text/plain": [
       "118    119\n",
       "237    238\n",
       "356    357\n",
       "475    476\n",
       "594    595\n",
       "713    714\n",
       "832    833\n",
       "951    952\n",
       "dtype: int32"
      ]
     },
     "execution_count": 53,
     "metadata": {},
     "output_type": "execute_result"
    }
   ],
   "source": [
    "series[series%119==0]"
   ]
  },
  {
   "cell_type": "markdown",
   "id": "b19dfaf9",
   "metadata": {},
   "source": [
    "### 8. Create a program that reads the below dictionary as a DataFrame and iterate over columns and rows."
   ]
  },
  {
   "cell_type": "code",
   "execution_count": 54,
   "id": "cf4d3fed",
   "metadata": {},
   "outputs": [
    {
     "data": {
      "text/html": [
       "<div>\n",
       "<style scoped>\n",
       "    .dataframe tbody tr th:only-of-type {\n",
       "        vertical-align: middle;\n",
       "    }\n",
       "\n",
       "    .dataframe tbody tr th {\n",
       "        vertical-align: top;\n",
       "    }\n",
       "\n",
       "    .dataframe thead th {\n",
       "        text-align: right;\n",
       "    }\n",
       "</style>\n",
       "<table border=\"1\" class=\"dataframe\">\n",
       "  <thead>\n",
       "    <tr style=\"text-align: right;\">\n",
       "      <th></th>\n",
       "      <th>Name</th>\n",
       "      <th>Class</th>\n",
       "      <th>Age</th>\n",
       "    </tr>\n",
       "  </thead>\n",
       "  <tbody>\n",
       "    <tr>\n",
       "      <th>0</th>\n",
       "      <td>Sameer</td>\n",
       "      <td>11</td>\n",
       "      <td>17</td>\n",
       "    </tr>\n",
       "    <tr>\n",
       "      <th>1</th>\n",
       "      <td>Leona</td>\n",
       "      <td>11</td>\n",
       "      <td>17</td>\n",
       "    </tr>\n",
       "    <tr>\n",
       "      <th>2</th>\n",
       "      <td>Samuel</td>\n",
       "      <td>12</td>\n",
       "      <td>18</td>\n",
       "    </tr>\n",
       "    <tr>\n",
       "      <th>3</th>\n",
       "      <td>Jackson</td>\n",
       "      <td>12</td>\n",
       "      <td>17</td>\n",
       "    </tr>\n",
       "    <tr>\n",
       "      <th>4</th>\n",
       "      <td>Gray</td>\n",
       "      <td>11</td>\n",
       "      <td>21</td>\n",
       "    </tr>\n",
       "    <tr>\n",
       "      <th>5</th>\n",
       "      <td>Sylphia</td>\n",
       "      <td>12</td>\n",
       "      <td>23</td>\n",
       "    </tr>\n",
       "  </tbody>\n",
       "</table>\n",
       "</div>"
      ],
      "text/plain": [
       "      Name  Class  Age\n",
       "0   Sameer     11   17\n",
       "1    Leona     11   17\n",
       "2   Samuel     12   18\n",
       "3  Jackson     12   17\n",
       "4     Gray     11   21\n",
       "5  Sylphia     12   23"
      ]
     },
     "execution_count": 54,
     "metadata": {},
     "output_type": "execute_result"
    }
   ],
   "source": [
    "my_dict={'Name':['Sameer','Leona','Samuel','Jackson','Gray','Sylphia'],\n",
    " 'Class':[11,11,12,12,11,12], 'Age':[17,17,18,17,21,23] }\n",
    "df = pd.DataFrame(my_dict)\n",
    "df"
   ]
  },
  {
   "cell_type": "code",
   "execution_count": 72,
   "id": "2d74283c",
   "metadata": {},
   "outputs": [
    {
     "name": "stdout",
     "output_type": "stream",
     "text": [
      "{'Name': 'Sameer', 'Class': 11, 'Age': 17}\n",
      "{'Name': 'Leona', 'Class': 11, 'Age': 17}\n",
      "{'Name': 'Samuel', 'Class': 12, 'Age': 18}\n",
      "{'Name': 'Jackson', 'Class': 12, 'Age': 17}\n",
      "{'Name': 'Gray', 'Class': 11, 'Age': 21}\n",
      "{'Name': 'Sylphia', 'Class': 12, 'Age': 23}\n"
     ]
    }
   ],
   "source": [
    "for i in df.index:\n",
    "    print(df.iloc[i].to_dict())"
   ]
  },
  {
   "cell_type": "markdown",
   "id": "0ad0cf75",
   "metadata": {},
   "source": [
    "### 9. Samantha has a dataset of top 50 songs from spotify named 'top50spotify.csv'. Import the dataset as a DataFrame and drop the first column and save it as 'top50.csv'"
   ]
  },
  {
   "cell_type": "code",
   "execution_count": 78,
   "id": "120e1063",
   "metadata": {},
   "outputs": [
    {
     "data": {
      "text/html": [
       "<div>\n",
       "<style scoped>\n",
       "    .dataframe tbody tr th:only-of-type {\n",
       "        vertical-align: middle;\n",
       "    }\n",
       "\n",
       "    .dataframe tbody tr th {\n",
       "        vertical-align: top;\n",
       "    }\n",
       "\n",
       "    .dataframe thead th {\n",
       "        text-align: right;\n",
       "    }\n",
       "</style>\n",
       "<table border=\"1\" class=\"dataframe\">\n",
       "  <thead>\n",
       "    <tr style=\"text-align: right;\">\n",
       "      <th></th>\n",
       "      <th>Track.Name</th>\n",
       "      <th>Artist.Name</th>\n",
       "      <th>Genre</th>\n",
       "      <th>Beats.Per.Minute</th>\n",
       "      <th>Energy</th>\n",
       "      <th>Danceability</th>\n",
       "      <th>Loudness..dB..</th>\n",
       "      <th>Liveness</th>\n",
       "      <th>Valence.</th>\n",
       "      <th>Length.</th>\n",
       "      <th>Acousticness..</th>\n",
       "      <th>Speechiness.</th>\n",
       "      <th>Popularity</th>\n",
       "    </tr>\n",
       "  </thead>\n",
       "  <tbody>\n",
       "    <tr>\n",
       "      <th>1</th>\n",
       "      <td>Se�orita</td>\n",
       "      <td>Shawn Mendes</td>\n",
       "      <td>canadian pop</td>\n",
       "      <td>117</td>\n",
       "      <td>55</td>\n",
       "      <td>76</td>\n",
       "      <td>-6</td>\n",
       "      <td>8</td>\n",
       "      <td>75</td>\n",
       "      <td>191</td>\n",
       "      <td>4</td>\n",
       "      <td>3</td>\n",
       "      <td>79</td>\n",
       "    </tr>\n",
       "    <tr>\n",
       "      <th>2</th>\n",
       "      <td>China</td>\n",
       "      <td>Anuel AA</td>\n",
       "      <td>reggaeton flow</td>\n",
       "      <td>105</td>\n",
       "      <td>81</td>\n",
       "      <td>79</td>\n",
       "      <td>-4</td>\n",
       "      <td>8</td>\n",
       "      <td>61</td>\n",
       "      <td>302</td>\n",
       "      <td>8</td>\n",
       "      <td>9</td>\n",
       "      <td>92</td>\n",
       "    </tr>\n",
       "    <tr>\n",
       "      <th>3</th>\n",
       "      <td>boyfriend (with Social House)</td>\n",
       "      <td>Ariana Grande</td>\n",
       "      <td>dance pop</td>\n",
       "      <td>190</td>\n",
       "      <td>80</td>\n",
       "      <td>40</td>\n",
       "      <td>-4</td>\n",
       "      <td>16</td>\n",
       "      <td>70</td>\n",
       "      <td>186</td>\n",
       "      <td>12</td>\n",
       "      <td>46</td>\n",
       "      <td>85</td>\n",
       "    </tr>\n",
       "    <tr>\n",
       "      <th>4</th>\n",
       "      <td>Beautiful People (feat. Khalid)</td>\n",
       "      <td>Ed Sheeran</td>\n",
       "      <td>pop</td>\n",
       "      <td>93</td>\n",
       "      <td>65</td>\n",
       "      <td>64</td>\n",
       "      <td>-8</td>\n",
       "      <td>8</td>\n",
       "      <td>55</td>\n",
       "      <td>198</td>\n",
       "      <td>12</td>\n",
       "      <td>19</td>\n",
       "      <td>86</td>\n",
       "    </tr>\n",
       "    <tr>\n",
       "      <th>5</th>\n",
       "      <td>Goodbyes (Feat. Young Thug)</td>\n",
       "      <td>Post Malone</td>\n",
       "      <td>dfw rap</td>\n",
       "      <td>150</td>\n",
       "      <td>65</td>\n",
       "      <td>58</td>\n",
       "      <td>-4</td>\n",
       "      <td>11</td>\n",
       "      <td>18</td>\n",
       "      <td>175</td>\n",
       "      <td>45</td>\n",
       "      <td>7</td>\n",
       "      <td>94</td>\n",
       "    </tr>\n",
       "  </tbody>\n",
       "</table>\n",
       "</div>"
      ],
      "text/plain": [
       "                        Track.Name    Artist.Name           Genre  \\\n",
       "1                         Se�orita   Shawn Mendes    canadian pop   \n",
       "2                            China       Anuel AA  reggaeton flow   \n",
       "3    boyfriend (with Social House)  Ariana Grande       dance pop   \n",
       "4  Beautiful People (feat. Khalid)     Ed Sheeran             pop   \n",
       "5      Goodbyes (Feat. Young Thug)    Post Malone         dfw rap   \n",
       "\n",
       "   Beats.Per.Minute  Energy  Danceability  Loudness..dB..  Liveness  Valence.  \\\n",
       "1               117      55            76              -6         8        75   \n",
       "2               105      81            79              -4         8        61   \n",
       "3               190      80            40              -4        16        70   \n",
       "4                93      65            64              -8         8        55   \n",
       "5               150      65            58              -4        11        18   \n",
       "\n",
       "   Length.  Acousticness..  Speechiness.  Popularity  \n",
       "1      191               4             3          79  \n",
       "2      302               8             9          92  \n",
       "3      186              12            46          85  \n",
       "4      198              12            19          86  \n",
       "5      175              45             7          94  "
      ]
     },
     "execution_count": 78,
     "metadata": {},
     "output_type": "execute_result"
    }
   ],
   "source": [
    "df = pd.read_csv('top50.csv', index_col=0)\n",
    "df.head()"
   ]
  },
  {
   "cell_type": "code",
   "execution_count": 80,
   "id": "2621ffeb",
   "metadata": {},
   "outputs": [],
   "source": [
    "df.drop(columns=['Track.Name']).to_csv('top50.csv')"
   ]
  },
  {
   "cell_type": "markdown",
   "id": "ab605dab",
   "metadata": {},
   "source": [
    "### 10. Find the average Energy and Length of first 10 songs"
   ]
  },
  {
   "cell_type": "code",
   "execution_count": 84,
   "id": "a252b155",
   "metadata": {},
   "outputs": [
    {
     "data": {
      "text/html": [
       "<div>\n",
       "<style scoped>\n",
       "    .dataframe tbody tr th:only-of-type {\n",
       "        vertical-align: middle;\n",
       "    }\n",
       "\n",
       "    .dataframe tbody tr th {\n",
       "        vertical-align: top;\n",
       "    }\n",
       "\n",
       "    .dataframe thead th {\n",
       "        text-align: right;\n",
       "    }\n",
       "</style>\n",
       "<table border=\"1\" class=\"dataframe\">\n",
       "  <thead>\n",
       "    <tr style=\"text-align: right;\">\n",
       "      <th></th>\n",
       "      <th>Energy</th>\n",
       "      <th>Length.</th>\n",
       "    </tr>\n",
       "  </thead>\n",
       "  <tbody>\n",
       "    <tr>\n",
       "      <th>mean</th>\n",
       "      <td>65.1</td>\n",
       "      <td>195.6</td>\n",
       "    </tr>\n",
       "  </tbody>\n",
       "</table>\n",
       "</div>"
      ],
      "text/plain": [
       "      Energy  Length.\n",
       "mean    65.1    195.6"
      ]
     },
     "execution_count": 84,
     "metadata": {},
     "output_type": "execute_result"
    }
   ],
   "source": [
    "first_10_songs = df.head(10)\n",
    "first_10_songs[['Energy','Length.']].agg(['mean'])"
   ]
  },
  {
   "cell_type": "code",
   "execution_count": null,
   "id": "0e8155fd",
   "metadata": {},
   "outputs": [],
   "source": []
  }
 ],
 "metadata": {
  "kernelspec": {
   "display_name": "Python 3",
   "language": "python",
   "name": "python3"
  },
  "language_info": {
   "codemirror_mode": {
    "name": "ipython",
    "version": 3
   },
   "file_extension": ".py",
   "mimetype": "text/x-python",
   "name": "python",
   "nbconvert_exporter": "python",
   "pygments_lexer": "ipython3",
   "version": "3.8.8"
  }
 },
 "nbformat": 4,
 "nbformat_minor": 5
}
