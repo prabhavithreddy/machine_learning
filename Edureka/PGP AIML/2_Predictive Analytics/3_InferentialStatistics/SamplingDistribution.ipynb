{
 "cells": [
  {
   "cell_type": "code",
   "execution_count": 1,
   "id": "3843e593",
   "metadata": {},
   "outputs": [],
   "source": [
    "import numpy as np\n",
    "import matplotlib.pyplot as plt\n",
    "import seaborn as sns\n",
    "import warnings\n",
    "warnings.filterwarnings(action='ignore')"
   ]
  },
  {
   "cell_type": "code",
   "execution_count": 48,
   "id": "3345829c",
   "metadata": {},
   "outputs": [
    {
     "data": {
      "text/plain": [
       "array([1712, 4006, 3075, 1036, 2506, 2129, 4913, 4705, 1168, 4472, 1616,\n",
       "       2054, 3663, 3691, 4143, 2402, 4560, 2784, 2437,  622,  722, 2001,\n",
       "       3533, 2505, 2184, 4539, 2790, 1802, 3083, 1923, 2444, 2055, 2655,\n",
       "       2867, 4457, 3322, 1697, 4137, 2903, 1289, 2802, 3872, 1265, 1425,\n",
       "       3853,  988, 2878, 4795, 3356, 4381,  127, 1820, 2157, 3538, 1386,\n",
       "       2363,  779,  306, 1340, 3594,  957, 3163,  392, 2868, 2458, 4582,\n",
       "       2447, 1547, 2311, 4270, 2243, 2105,  612, 1322, 2471, 2786,  117,\n",
       "        352,  877, 1219, 1580,  694, 1411, 3449,  682,  966,  870, 2646,\n",
       "       4597, 2033,   82, 4744,  554, 4150, 4786, 2605, 4476, 3203, 4228,\n",
       "       1396,  593,   48, 2916, 3182, 3521, 1842,  962, 2488, 4316, 3713,\n",
       "       1860,  579, 3193, 2535,  541, 3914, 2680, 4871,  273, 1000, 3319,\n",
       "       2603, 1244, 4980, 2477, 1899, 3299, 2777, 1339,  681, 1689,  748,\n",
       "       4067, 4118, 2860, 3493, 1142, 1516, 1966,   17, 1862, 3694, 1345,\n",
       "       1706, 1976, 1567, 4375, 1102, 4422, 2971, 4349, 3818, 4918, 4693,\n",
       "       3164, 4482,  777, 3945, 3644, 3555, 2653, 1634,  370, 3613, 2513,\n",
       "       1342, 3892, 3877,  145, 4038, 3377,  306, 2267, 1427, 4782, 2208,\n",
       "       3011, 2649, 1693, 3162, 1600, 3671, 1331,  104, 1861, 3535,  952,\n",
       "       4369, 3459, 3846, 4721, 1386,  446, 3767, 2059, 2573, 1342, 4256,\n",
       "       3776, 3364, 4988, 4588, 3155, 3030, 2902,  942, 3573,  294,   20,\n",
       "       2324,  282, 1796, 4708, 3871, 4765, 1855, 2010, 1867, 3743,  331,\n",
       "       1989,  527, 1298, 1648,  647, 4731,  161, 1696, 4354, 4357, 1151,\n",
       "       1483,  478, 1267,  813, 3487,  669, 2820, 1852, 1766, 3836, 4388,\n",
       "       2446,  406, 3250, 4560,  596,  137, 2393, 1200,  700, 1147, 2176,\n",
       "        271, 2969,  697, 2316, 4920, 2101,  839, 1135,  515,  367, 1611,\n",
       "        518, 2257, 2251,   66, 1012, 2721, 1683, 3793, 3071, 4683,  493,\n",
       "       3565, 1305, 1248, 4612, 1806, 3666, 3357, 4587, 1317,    6,  726,\n",
       "       3004,  829, 2666, 3171, 1560, 1859, 3497,  717, 3618, 4979,   99,\n",
       "        835, 4415,   81, 4996,  132, 4209, 1677, 3916, 1168,  870, 3718,\n",
       "       1033, 2925,  962, 4618, 3860, 4012, 1149, 3740, 1111,  472,  516,\n",
       "       4262, 3100,  116, 3230, 1189, 1237,  690, 3453, 4148, 3678, 1572,\n",
       "       3395,  558, 4818, 4433, 3368,  848, 2235,  597, 1861, 1675, 2694,\n",
       "       1899,  953, 2261, 4131, 2827, 1935, 4148, 2303, 3169, 3506, 4126,\n",
       "       4646, 2924,  365, 3916,  686, 2119,  419,  418,  687, 4995, 4952,\n",
       "         72, 3078, 1784, 4466, 4969,  640, 3297, 1830, 1749, 1206, 3373,\n",
       "       3831, 1142,  933, 4192,  757, 3430, 4912, 2452, 1081, 3005, 1835,\n",
       "       4342, 1546, 3364, 2515,  968, 1383, 1066, 1215,  980, 4039, 2469,\n",
       "       4777, 2532, 4985, 2702, 2946, 1139, 1150,  259, 2629, 1036, 3241,\n",
       "       3179, 4118, 1500, 3464,  983, 3198, 2957, 3510, 2935,  882, 4262,\n",
       "        409, 4879, 4675, 1132, 4675, 3298, 1373, 3423, 1790, 1812,   73,\n",
       "       4925, 3769, 4769, 2476, 4700, 4725, 3261, 1388,  777,  930, 2422,\n",
       "       3197,  839, 2515, 1273, 4078,  256, 3241, 2112, 3626, 2869,  219,\n",
       "       4996, 3050, 2564, 4641, 4663, 3092, 3395, 1411, 3322,    7,  407,\n",
       "        108, 3109, 1712, 2553, 3004, 3394, 4772, 2885,  748, 1788, 3463,\n",
       "       4977, 4858, 4799,  487, 2192, 4028, 4039, 3746, 1235, 1045, 2130,\n",
       "       1679,  316,  840, 2051, 1632, 2116, 1071, 4579, 3284, 2748, 1918,\n",
       "       4827, 3754, 2141, 3676,  429])"
      ]
     },
     "execution_count": 48,
     "metadata": {},
     "output_type": "execute_result"
    }
   ],
   "source": [
    "numbers = np.random.randint(1,5000,500)\n",
    "numbers"
   ]
  },
  {
   "cell_type": "code",
   "execution_count": 57,
   "id": "944cac00",
   "metadata": {},
   "outputs": [
    {
     "data": {
      "text/plain": [
       "(2443.372, 1441.956687843293)"
      ]
     },
     "execution_count": 57,
     "metadata": {},
     "output_type": "execute_result"
    }
   ],
   "source": [
    "numbers.mean(), numbers.std()"
   ]
  },
  {
   "cell_type": "code",
   "execution_count": 50,
   "id": "7ff3e41f",
   "metadata": {},
   "outputs": [
    {
     "data": {
      "image/png": "[encoded data removed]",
      "text/plain": [
       "<Figure size 432x288 with 1 Axes>"
      ]
     },
     "metadata": {
      "needs_background": "light"
     },
     "output_type": "display_data"
    }
   ],
   "source": [
    "sns.distplot(numbers, kde=False)\n",
    "plt.title('Distribution of Random Numbers')\n",
    "plt.show()"
   ]
  },
  {
   "cell_type": "code",
   "execution_count": 8,
   "id": "8d7336dc",
   "metadata": {},
   "outputs": [
    {
     "data": {
      "text/plain": [
       "array([295, 466, 302,  77, 490, 348, 338, 385, 141, 479])"
      ]
     },
     "execution_count": 8,
     "metadata": {},
     "output_type": "execute_result"
    }
   ],
   "source": []
  },
  {
   "cell_type": "code",
   "execution_count": 74,
   "id": "798e1c10",
   "metadata": {},
   "outputs": [
    {
     "data": {
      "text/plain": [
       "2499.461777"
      ]
     },
     "execution_count": 74,
     "metadata": {},
     "output_type": "execute_result"
    }
   ],
   "source": [
    "trails = 10000\n",
    "means = []\n",
    "for i in range(0, trails):\n",
    "    indexes = np.random.randint(0, 5000, 100)\n",
    "    #result = numbers[indexes]\n",
    "    means.append(indexes.mean())\n",
    "np.mean(means)"
   ]
  },
  {
   "cell_type": "code",
   "execution_count": 75,
   "id": "a60f64cf",
   "metadata": {},
   "outputs": [
    {
     "data": {
      "image/png": "[encoded data removed]",
      "text/plain": [
       "<Figure size 432x288 with 1 Axes>"
      ]
     },
     "metadata": {
      "needs_background": "light"
     },
     "output_type": "display_data"
    }
   ],
   "source": [
    "sns.distplot(means, kde=False)\n",
    "plt.title('Sampling Distribution of Random Numbers')\n",
    "plt.show()"
   ]
  },
  {
   "cell_type": "code",
   "execution_count": 76,
   "id": "416a96bf",
   "metadata": {},
   "outputs": [
    {
     "data": {
      "text/plain": [
       "(0.01529378888058538, -0.05135376803923197)"
      ]
     },
     "execution_count": 76,
     "metadata": {},
     "output_type": "execute_result"
    }
   ],
   "source": [
    "from scipy.stats import skew, kurtosis\n",
    "skew(means), kurtosis(means)"
   ]
  },
  {
   "cell_type": "code",
   "execution_count": 77,
   "id": "96c31e25",
   "metadata": {},
   "outputs": [
    {
     "data": {
      "text/plain": [
       "145.01503220849992"
      ]
     },
     "execution_count": 77,
     "metadata": {},
     "output_type": "execute_result"
    }
   ],
   "source": [
    "np.std(means)"
   ]
  },
  {
   "cell_type": "code",
   "execution_count": 78,
   "id": "780643ee",
   "metadata": {},
   "outputs": [
    {
     "data": {
      "text/plain": [
       "144.2"
      ]
     },
     "execution_count": 78,
     "metadata": {},
     "output_type": "execute_result"
    }
   ],
   "source": [
    "1442/np.sqrt(100)"
   ]
  },
  {
   "cell_type": "code",
   "execution_count": 79,
   "id": "4b5d631f",
   "metadata": {},
   "outputs": [
    {
     "data": {
      "text/plain": [
       "0.06674238124719145"
      ]
     },
     "execution_count": 79,
     "metadata": {},
     "output_type": "execute_result"
    }
   ],
   "source": [
    "0.7/np.sqrt(110)"
   ]
  },
  {
   "cell_type": "code",
   "execution_count": 3,
   "id": "7b7f094c",
   "metadata": {},
   "outputs": [],
   "source": [
    "from scipy.stats import norm"
   ]
  },
  {
   "cell_type": "code",
   "execution_count": 12,
   "id": "e6511915",
   "metadata": {},
   "outputs": [
    {
     "data": {
      "text/plain": [
       "0.9544997361036416"
      ]
     },
     "execution_count": 12,
     "metadata": {},
     "output_type": "execute_result"
    }
   ],
   "source": [
    "z=2\n",
    "norm.cdf(z)-norm.cdf(-z)"
   ]
  },
  {
   "cell_type": "code",
   "execution_count": 9,
   "id": "a22e58e8",
   "metadata": {},
   "outputs": [
    {
     "name": "stdout",
     "output_type": "stream",
     "text": [
      "Help on method cdf in module scipy.stats._distn_infrastructure:\n",
      "\n",
      "cdf(x, *args, **kwds) method of scipy.stats._continuous_distns.norm_gen instance\n",
      "    Cumulative distribution function of the given RV.\n",
      "    \n",
      "    Parameters\n",
      "    ----------\n",
      "    x : array_like\n",
      "        quantiles\n",
      "    arg1, arg2, arg3,... : array_like\n",
      "        The shape parameter(s) for the distribution (see docstring of the\n",
      "        instance object for more information)\n",
      "    loc : array_like, optional\n",
      "        location parameter (default=0)\n",
      "    scale : array_like, optional\n",
      "        scale parameter (default=1)\n",
      "    \n",
      "    Returns\n",
      "    -------\n",
      "    cdf : ndarray\n",
      "        Cumulative distribution function evaluated at `x`\n",
      "\n"
     ]
    }
   ],
   "source": [
    "help(norm.cdf)"
   ]
  },
  {
   "cell_type": "code",
   "execution_count": 4,
   "id": "2da57cde",
   "metadata": {
    "scrolled": true
   },
   "outputs": [
    {
     "name": "stdout",
     "output_type": "stream",
     "text": [
      "Help on method ppf in module scipy.stats._distn_infrastructure:\n",
      "\n",
      "ppf(q, *args, **kwds) method of scipy.stats._continuous_distns.norm_gen instance\n",
      "    Percent point function (inverse of `cdf`) at q of the given RV.\n",
      "    \n",
      "    Parameters\n",
      "    ----------\n",
      "    q : array_like\n",
      "        lower tail probability\n",
      "    arg1, arg2, arg3,... : array_like\n",
      "        The shape parameter(s) for the distribution (see docstring of the\n",
      "        instance object for more information)\n",
      "    loc : array_like, optional\n",
      "        location parameter (default=0)\n",
      "    scale : array_like, optional\n",
      "        scale parameter (default=1)\n",
      "    \n",
      "    Returns\n",
      "    -------\n",
      "    x : array_like\n",
      "        quantile corresponding to the lower tail probability q.\n",
      "\n"
     ]
    }
   ],
   "source": [
    "help(norm.ppf)"
   ]
  },
  {
   "cell_type": "code",
   "execution_count": 11,
   "id": "f3d7f300",
   "metadata": {},
   "outputs": [
    {
     "data": {
      "text/plain": [
       "1.959963984540054"
      ]
     },
     "execution_count": 11,
     "metadata": {},
     "output_type": "execute_result"
    }
   ],
   "source": [
    "norm.ppf(0.975)"
   ]
  },
  {
   "cell_type": "code",
   "execution_count": 17,
   "id": "c586d2e9",
   "metadata": {},
   "outputs": [
    {
     "data": {
      "text/plain": [
       "48.00999895855029"
      ]
     },
     "execution_count": 17,
     "metadata": {},
     "output_type": "execute_result"
    }
   ],
   "source": [
    "(1.96/.02)*np.sqrt(0.6*0.4)"
   ]
  },
  {
   "cell_type": "code",
   "execution_count": 16,
   "id": "548cc83a",
   "metadata": {},
   "outputs": [
    {
     "data": {
      "text/plain": [
       "2401"
      ]
     },
     "execution_count": 16,
     "metadata": {},
     "output_type": "execute_result"
    }
   ],
   "source": [
    "49*49"
   ]
  },
  {
   "cell_type": "code",
   "execution_count": 18,
   "id": "9e8eb342",
   "metadata": {},
   "outputs": [
    {
     "name": "stdout",
     "output_type": "stream",
     "text": [
      "Help on method cdf in module scipy.stats._distn_infrastructure:\n",
      "\n",
      "cdf(x, *args, **kwds) method of scipy.stats._continuous_distns.t_gen instance\n",
      "    Cumulative distribution function of the given RV.\n",
      "    \n",
      "    Parameters\n",
      "    ----------\n",
      "    x : array_like\n",
      "        quantiles\n",
      "    arg1, arg2, arg3,... : array_like\n",
      "        The shape parameter(s) for the distribution (see docstring of the\n",
      "        instance object for more information)\n",
      "    loc : array_like, optional\n",
      "        location parameter (default=0)\n",
      "    scale : array_like, optional\n",
      "        scale parameter (default=1)\n",
      "    \n",
      "    Returns\n",
      "    -------\n",
      "    cdf : ndarray\n",
      "        Cumulative distribution function evaluated at `x`\n",
      "\n"
     ]
    }
   ],
   "source": [
    "from scipy.stats import t\n",
    "help(t.cdf)"
   ]
  },
  {
   "cell_type": "code",
   "execution_count": 32,
   "id": "bbb07e9f",
   "metadata": {},
   "outputs": [
    {
     "data": {
      "text/plain": [
       "nan"
      ]
     },
     "execution_count": 32,
     "metadata": {},
     "output_type": "execute_result"
    }
   ],
   "source": [
    "t.cdf(14,.01)"
   ]
  },
  {
   "cell_type": "code",
   "execution_count": 2,
   "id": "3142cb89",
   "metadata": {},
   "outputs": [
    {
     "name": "stdout",
     "output_type": "stream",
     "text": [
      "Mean: 17.169999999999998, std: 2.8284448023604774\n"
     ]
    }
   ],
   "source": [
    "sample = np.array([15.6,16.2,22.5,20.5,16.4,19.4,16.6,17.9,12.7,13.9])\n",
    "print(f'Mean: {np.mean(sample)}, std: {np.std(sample)}')"
   ]
  },
  {
   "cell_type": "code",
   "execution_count": 3,
   "id": "545ef0c5",
   "metadata": {},
   "outputs": [
    {
     "data": {
      "text/plain": [
       "-3.1622776601683773"
      ]
     },
     "execution_count": 3,
     "metadata": {},
     "output_type": "execute_result"
    }
   ],
   "source": [
    "t = (17.17 - 20)/(2.83/np.sqrt(len(sample)))\n",
    "t"
   ]
  },
  {
   "cell_type": "code",
   "execution_count": 5,
   "id": "3cae47bd",
   "metadata": {},
   "outputs": [
    {
     "data": {
      "text/plain": [
       "nan"
      ]
     },
     "execution_count": 5,
     "metadata": {},
     "output_type": "execute_result"
    }
   ],
   "source": [
    "from scipy.stats import t\n",
    "t.ppf(9,-3.162)"
   ]
  },
  {
   "cell_type": "code",
   "execution_count": 7,
   "id": "8d86cd63",
   "metadata": {},
   "outputs": [
    {
     "data": {
      "text/plain": [
       "array([1.07100832, 1.06810349, 1.04764544, 1.05266714, 1.06718737,\n",
       "       1.05590839, 1.0662956 , 1.06103071, 1.08945669, 1.08077159])"
      ]
     },
     "execution_count": 7,
     "metadata": {},
     "output_type": "execute_result"
    }
   ],
   "source": [
    "t.std(sample)"
   ]
  },
  {
   "cell_type": "code",
   "execution_count": null,
   "id": "d3e25520",
   "metadata": {},
   "outputs": [],
   "source": [
    "t.stats."
   ]
  }
 ],
 "metadata": {
  "kernelspec": {
   "display_name": "Python 3",
   "language": "python",
   "name": "python3"
  },
  "language_info": {
   "codemirror_mode": {
    "name": "ipython",
    "version": 3
   },
   "file_extension": ".py",
   "mimetype": "text/x-python",
   "name": "python",
   "nbconvert_exporter": "python",
   "pygments_lexer": "ipython3",
   "version": "3.8.8"
  }
 },
 "nbformat": 4,
 "nbformat_minor": 5
}
