{
 "cells": [
  {
   "cell_type": "code",
   "execution_count": 1,
   "id": "3f2adf4f",
   "metadata": {},
   "outputs": [],
   "source": [
    "import numpy as np\n",
    "import pandas as pd\n",
    "import matplotlib.pyplot as plt\n",
    "import seaborn as sns\n",
    "import plotly.express as px\n",
    "import warnings\n",
    "warnings.filterwarnings('ignore')"
   ]
  },
  {
   "cell_type": "code",
   "execution_count": 3,
   "id": "f591bede",
   "metadata": {},
   "outputs": [
    {
     "data": {
      "text/html": [
       "<div>\n",
       "<style scoped>\n",
       "    .dataframe tbody tr th:only-of-type {\n",
       "        vertical-align: middle;\n",
       "    }\n",
       "\n",
       "    .dataframe tbody tr th {\n",
       "        vertical-align: top;\n",
       "    }\n",
       "\n",
       "    .dataframe thead th {\n",
       "        text-align: right;\n",
       "    }\n",
       "</style>\n",
       "<table border=\"1\" class=\"dataframe\">\n",
       "  <thead>\n",
       "    <tr style=\"text-align: right;\">\n",
       "      <th></th>\n",
       "      <th>country</th>\n",
       "      <th>description</th>\n",
       "      <th>designation</th>\n",
       "      <th>points</th>\n",
       "      <th>price</th>\n",
       "      <th>province</th>\n",
       "      <th>region_1</th>\n",
       "      <th>region_2</th>\n",
       "      <th>variety</th>\n",
       "      <th>winery</th>\n",
       "    </tr>\n",
       "  </thead>\n",
       "  <tbody>\n",
       "    <tr>\n",
       "      <th>0</th>\n",
       "      <td>US</td>\n",
       "      <td>This tremendous 100% varietal wine hails from ...</td>\n",
       "      <td>Martha's Vineyard</td>\n",
       "      <td>96</td>\n",
       "      <td>235.0</td>\n",
       "      <td>California</td>\n",
       "      <td>Napa Valley</td>\n",
       "      <td>Napa</td>\n",
       "      <td>Cabernet Sauvignon</td>\n",
       "      <td>Heitz</td>\n",
       "    </tr>\n",
       "    <tr>\n",
       "      <th>1</th>\n",
       "      <td>Spain</td>\n",
       "      <td>Ripe aromas of fig, blackberry and cassis are ...</td>\n",
       "      <td>Carodorum Selección Especial Reserva</td>\n",
       "      <td>96</td>\n",
       "      <td>110.0</td>\n",
       "      <td>Northern Spain</td>\n",
       "      <td>Toro</td>\n",
       "      <td>NaN</td>\n",
       "      <td>Tinta de Toro</td>\n",
       "      <td>Bodega Carmen Rodríguez</td>\n",
       "    </tr>\n",
       "    <tr>\n",
       "      <th>2</th>\n",
       "      <td>US</td>\n",
       "      <td>Mac Watson honors the memory of a wine once ma...</td>\n",
       "      <td>Special Selected Late Harvest</td>\n",
       "      <td>96</td>\n",
       "      <td>90.0</td>\n",
       "      <td>California</td>\n",
       "      <td>Knights Valley</td>\n",
       "      <td>Sonoma</td>\n",
       "      <td>Sauvignon Blanc</td>\n",
       "      <td>Macauley</td>\n",
       "    </tr>\n",
       "    <tr>\n",
       "      <th>3</th>\n",
       "      <td>US</td>\n",
       "      <td>This spent 20 months in 30% new French oak, an...</td>\n",
       "      <td>Reserve</td>\n",
       "      <td>96</td>\n",
       "      <td>65.0</td>\n",
       "      <td>Oregon</td>\n",
       "      <td>Willamette Valley</td>\n",
       "      <td>Willamette Valley</td>\n",
       "      <td>Pinot Noir</td>\n",
       "      <td>Ponzi</td>\n",
       "    </tr>\n",
       "    <tr>\n",
       "      <th>4</th>\n",
       "      <td>France</td>\n",
       "      <td>This is the top wine from La Bégude, named aft...</td>\n",
       "      <td>La Brûlade</td>\n",
       "      <td>95</td>\n",
       "      <td>66.0</td>\n",
       "      <td>Provence</td>\n",
       "      <td>Bandol</td>\n",
       "      <td>NaN</td>\n",
       "      <td>Provence red blend</td>\n",
       "      <td>Domaine de la Bégude</td>\n",
       "    </tr>\n",
       "  </tbody>\n",
       "</table>\n",
       "</div>"
      ],
      "text/plain": [
       "  country                                        description  \\\n",
       "0      US  This tremendous 100% varietal wine hails from ...   \n",
       "1   Spain  Ripe aromas of fig, blackberry and cassis are ...   \n",
       "2      US  Mac Watson honors the memory of a wine once ma...   \n",
       "3      US  This spent 20 months in 30% new French oak, an...   \n",
       "4  France  This is the top wine from La Bégude, named aft...   \n",
       "\n",
       "                            designation  points  price        province  \\\n",
       "0                     Martha's Vineyard      96  235.0      California   \n",
       "1  Carodorum Selección Especial Reserva      96  110.0  Northern Spain   \n",
       "2         Special Selected Late Harvest      96   90.0      California   \n",
       "3                               Reserve      96   65.0          Oregon   \n",
       "4                            La Brûlade      95   66.0        Provence   \n",
       "\n",
       "            region_1           region_2             variety  \\\n",
       "0        Napa Valley               Napa  Cabernet Sauvignon   \n",
       "1               Toro                NaN       Tinta de Toro   \n",
       "2     Knights Valley             Sonoma     Sauvignon Blanc   \n",
       "3  Willamette Valley  Willamette Valley          Pinot Noir   \n",
       "4             Bandol                NaN  Provence red blend   \n",
       "\n",
       "                    winery  \n",
       "0                    Heitz  \n",
       "1  Bodega Carmen Rodríguez  \n",
       "2                 Macauley  \n",
       "3                    Ponzi  \n",
       "4     Domaine de la Bégude  "
      ]
     },
     "execution_count": 3,
     "metadata": {},
     "output_type": "execute_result"
    }
   ],
   "source": [
    "df = pd.read_csv('winemag-data_first150k.csv', index_col=[0])\n",
    "df.head()"
   ]
  },
  {
   "cell_type": "markdown",
   "id": "29c9a768",
   "metadata": {},
   "source": [
    "### Question 1:\n",
    "    Calculate Measures of Central Tendency - Mean, Median, and Mode for the points & price columns and\n",
    "    print their values (Use DataFrame Functions) - Beginner\n"
   ]
  },
  {
   "cell_type": "code",
   "execution_count": 4,
   "id": "fedd66b9",
   "metadata": {},
   "outputs": [
    {
     "data": {
      "text/plain": [
       "points    87.888418\n",
       "price     33.131482\n",
       "dtype: float64"
      ]
     },
     "execution_count": 4,
     "metadata": {},
     "output_type": "execute_result"
    }
   ],
   "source": [
    "df[['points','price']].mean()"
   ]
  },
  {
   "cell_type": "code",
   "execution_count": 5,
   "id": "a6bda64d",
   "metadata": {},
   "outputs": [
    {
     "data": {
      "text/plain": [
       "points    87.888418\n",
       "price     33.131482\n",
       "dtype: float64"
      ]
     },
     "execution_count": 5,
     "metadata": {},
     "output_type": "execute_result"
    }
   ],
   "source": [
    "np.mean(df[['points','price']])"
   ]
  },
  {
   "cell_type": "code",
   "execution_count": 6,
   "id": "5ec5569d",
   "metadata": {},
   "outputs": [
    {
     "data": {
      "text/html": [
       "<div>\n",
       "<style scoped>\n",
       "    .dataframe tbody tr th:only-of-type {\n",
       "        vertical-align: middle;\n",
       "    }\n",
       "\n",
       "    .dataframe tbody tr th {\n",
       "        vertical-align: top;\n",
       "    }\n",
       "\n",
       "    .dataframe thead th {\n",
       "        text-align: right;\n",
       "    }\n",
       "</style>\n",
       "<table border=\"1\" class=\"dataframe\">\n",
       "  <thead>\n",
       "    <tr style=\"text-align: right;\">\n",
       "      <th></th>\n",
       "      <th>points</th>\n",
       "      <th>price</th>\n",
       "    </tr>\n",
       "  </thead>\n",
       "  <tbody>\n",
       "    <tr>\n",
       "      <th>mean</th>\n",
       "      <td>87.888418</td>\n",
       "      <td>33.131482</td>\n",
       "    </tr>\n",
       "  </tbody>\n",
       "</table>\n",
       "</div>"
      ],
      "text/plain": [
       "         points      price\n",
       "mean  87.888418  33.131482"
      ]
     },
     "execution_count": 6,
     "metadata": {},
     "output_type": "execute_result"
    }
   ],
   "source": [
    "df[['points','price']].agg(['mean'])"
   ]
  },
  {
   "cell_type": "markdown",
   "id": "fa7a2b3e",
   "metadata": {},
   "source": [
    "### Question 2: \n",
    "    Calculate Measures of Spread - Range, Standard Deviation, and Variance for the points & price columns \n",
    "    and print their values - Beginner"
   ]
  },
  {
   "cell_type": "code",
   "execution_count": 12,
   "id": "94ff75e9",
   "metadata": {},
   "outputs": [
    {
     "data": {
      "text/html": [
       "<div>\n",
       "<style scoped>\n",
       "    .dataframe tbody tr th:only-of-type {\n",
       "        vertical-align: middle;\n",
       "    }\n",
       "\n",
       "    .dataframe tbody tr th {\n",
       "        vertical-align: top;\n",
       "    }\n",
       "\n",
       "    .dataframe thead th {\n",
       "        text-align: right;\n",
       "    }\n",
       "</style>\n",
       "<table border=\"1\" class=\"dataframe\">\n",
       "  <thead>\n",
       "    <tr style=\"text-align: right;\">\n",
       "      <th></th>\n",
       "      <th>mean</th>\n",
       "      <th>median</th>\n",
       "      <th>std</th>\n",
       "      <th>var</th>\n",
       "    </tr>\n",
       "  </thead>\n",
       "  <tbody>\n",
       "    <tr>\n",
       "      <th>points</th>\n",
       "      <td>87.888418</td>\n",
       "      <td>88.0</td>\n",
       "      <td>3.222392</td>\n",
       "      <td>10.383809</td>\n",
       "    </tr>\n",
       "    <tr>\n",
       "      <th>price</th>\n",
       "      <td>33.131482</td>\n",
       "      <td>24.0</td>\n",
       "      <td>36.322536</td>\n",
       "      <td>1319.326636</td>\n",
       "    </tr>\n",
       "  </tbody>\n",
       "</table>\n",
       "</div>"
      ],
      "text/plain": [
       "             mean  median        std          var\n",
       "points  87.888418    88.0   3.222392    10.383809\n",
       "price   33.131482    24.0  36.322536  1319.326636"
      ]
     },
     "execution_count": 12,
     "metadata": {},
     "output_type": "execute_result"
    }
   ],
   "source": [
    "df[['points','price']].agg(['mean','median','std','var']).T"
   ]
  },
  {
   "cell_type": "code",
   "execution_count": 13,
   "id": "28bb005e",
   "metadata": {},
   "outputs": [
    {
     "name": "stdout",
     "output_type": "stream",
     "text": [
      "Range for points: 20\n",
      "Range for price: 2296.0\n"
     ]
    }
   ],
   "source": [
    "# Range for points and price\n",
    "min_points = df['points'].min()\n",
    "max_points = df['points'].max()\n",
    "print(f\"Range for points: {max_points - min_points}\")\n",
    "\n",
    "min_price = df['price'].min()\n",
    "max_price = df['price'].max()\n",
    "print(f\"Range for price: {max_price - min_price}\")"
   ]
  },
  {
   "cell_type": "markdown",
   "id": "b850085d",
   "metadata": {},
   "source": [
    "### Question 3: \n",
    "    Obtain different summary statistics (Skewness and Kurtosis) for the points column and print their values -\n",
    "    Beginner"
   ]
  },
  {
   "cell_type": "code",
   "execution_count": 24,
   "id": "4a1f86dc",
   "metadata": {},
   "outputs": [
    {
     "name": "stdout",
     "output_type": "stream",
     "text": [
      "Skewness for points: 0.14283121423675518\n",
      "pearson kurtosis for points: 2.713553658335501\n",
      "fisher kurtosis for points: -0.2864463416644991\n"
     ]
    }
   ],
   "source": [
    "from scipy.stats import skew, kurtosis\n",
    "print(f\"Skewness for points: {skew(df['points'])}\")\n",
    "print(f\"pearson kurtosis for points: {kurtosis(df['points'],fisher=False)}\")\n",
    "print(f\"fisher kurtosis for points: {kurtosis(df['points'],fisher=True)}\")"
   ]
  },
  {
   "cell_type": "code",
   "execution_count": 26,
   "id": "ba10e832",
   "metadata": {},
   "outputs": [
    {
     "data": {
      "image/png": "[encoded data removed]",
      "text/plain": [
       "<Figure size 432x288 with 1 Axes>"
      ]
     },
     "metadata": {
      "needs_background": "light"
     },
     "output_type": "display_data"
    }
   ],
   "source": [
    "df['points'].plot(kind='hist')\n",
    "plt.show()"
   ]
  },
  {
   "cell_type": "markdown",
   "id": "7274895f",
   "metadata": {},
   "source": [
    "### Question 4: \n",
    "    Obtain the Z-Scores for the points column - Intermediate "
   ]
  },
  {
   "cell_type": "code",
   "execution_count": 28,
   "id": "a54d6253",
   "metadata": {},
   "outputs": [
    {
     "name": "stdout",
     "output_type": "stream",
     "text": [
      "zscore for points is: [2.51726326 2.51726326 2.51726326 ... 0.96561563 0.6552861  0.6552861 ]\n"
     ]
    }
   ],
   "source": [
    "from scipy.stats import zscore\n",
    "print(f\"zscore for points is: {zscore(df['points'])}\")"
   ]
  },
  {
   "cell_type": "markdown",
   "id": "a5c3b613",
   "metadata": {},
   "source": [
    "### Question 5: \n",
    "    Obtain the IQR value for the points column - Intermediate "
   ]
  },
  {
   "cell_type": "code",
   "execution_count": 32,
   "id": "3c098b86",
   "metadata": {},
   "outputs": [
    {
     "name": "stdout",
     "output_type": "stream",
     "text": [
      "iqr for points is: 4.0\n"
     ]
    }
   ],
   "source": [
    "q1 = df['points'].quantile(0.25)\n",
    "q2 = df['points'].quantile(0.75)\n",
    "iqr = q2-q1\n",
    "print(f\"iqr for points is: {iqr}\")"
   ]
  },
  {
   "cell_type": "code",
   "execution_count": 34,
   "id": "9fb26cf3",
   "metadata": {},
   "outputs": [
    {
     "name": "stdout",
     "output_type": "stream",
     "text": [
      "iqr for points is: 4\n"
     ]
    }
   ],
   "source": [
    "from scipy.stats import iqr\n",
    "print(f\"iqr for points is: {iqr(df['points'], interpolation='higher')}\")"
   ]
  },
  {
   "cell_type": "code",
   "execution_count": null,
   "id": "4b5adb36",
   "metadata": {},
   "outputs": [],
   "source": []
  }
 ],
 "metadata": {
  "kernelspec": {
   "display_name": "Python 3",
   "language": "python",
   "name": "python3"
  },
  "language_info": {
   "codemirror_mode": {
    "name": "ipython",
    "version": 3
   },
   "file_extension": ".py",
   "mimetype": "text/x-python",
   "name": "python",
   "nbconvert_exporter": "python",
   "pygments_lexer": "ipython3",
   "version": "3.8.8"
  }
 },
 "nbformat": 4,
 "nbformat_minor": 5
}
