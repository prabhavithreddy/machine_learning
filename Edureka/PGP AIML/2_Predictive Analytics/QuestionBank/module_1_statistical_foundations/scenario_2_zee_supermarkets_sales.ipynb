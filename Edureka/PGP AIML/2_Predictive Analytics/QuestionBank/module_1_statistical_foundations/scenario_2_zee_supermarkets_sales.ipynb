{
 "cells": [
  {
   "cell_type": "code",
   "execution_count": 6,
   "id": "46b307c2",
   "metadata": {},
   "outputs": [],
   "source": [
    "import numpy as np\n",
    "import pandas as pd\n",
    "import matplotlib.pyplot as plt\n",
    "import seaborn as sns\n",
    "import plotly.express as px\n",
    "import warnings\n",
    "warnings.filterwarnings('ignore')\n",
    "import sidetable as stb"
   ]
  },
  {
   "cell_type": "code",
   "execution_count": 3,
   "id": "73114fee",
   "metadata": {},
   "outputs": [
    {
     "data": {
      "text/html": [
       "<div>\n",
       "<style scoped>\n",
       "    .dataframe tbody tr th:only-of-type {\n",
       "        vertical-align: middle;\n",
       "    }\n",
       "\n",
       "    .dataframe tbody tr th {\n",
       "        vertical-align: top;\n",
       "    }\n",
       "\n",
       "    .dataframe thead th {\n",
       "        text-align: right;\n",
       "    }\n",
       "</style>\n",
       "<table border=\"1\" class=\"dataframe\">\n",
       "  <thead>\n",
       "    <tr style=\"text-align: right;\">\n",
       "      <th></th>\n",
       "      <th>CustomerGender</th>\n",
       "      <th>CustomerAge</th>\n",
       "      <th>CustomerCity</th>\n",
       "      <th>AnnualIncome</th>\n",
       "      <th>CreditScore</th>\n",
       "      <th>SpendingScore</th>\n",
       "      <th>CustomerCityID</th>\n",
       "    </tr>\n",
       "    <tr>\n",
       "      <th>CustomerID</th>\n",
       "      <th></th>\n",
       "      <th></th>\n",
       "      <th></th>\n",
       "      <th></th>\n",
       "      <th></th>\n",
       "      <th></th>\n",
       "      <th></th>\n",
       "    </tr>\n",
       "  </thead>\n",
       "  <tbody>\n",
       "    <tr>\n",
       "      <th>1001</th>\n",
       "      <td>Male</td>\n",
       "      <td>49</td>\n",
       "      <td>Bengaluru</td>\n",
       "      <td>527547.58850</td>\n",
       "      <td>653</td>\n",
       "      <td>78</td>\n",
       "      <td>1</td>\n",
       "    </tr>\n",
       "    <tr>\n",
       "      <th>1002</th>\n",
       "      <td>Male</td>\n",
       "      <td>59</td>\n",
       "      <td>Bengaluru</td>\n",
       "      <td>207143.19760</td>\n",
       "      <td>630</td>\n",
       "      <td>63</td>\n",
       "      <td>1</td>\n",
       "    </tr>\n",
       "    <tr>\n",
       "      <th>1003</th>\n",
       "      <td>Female</td>\n",
       "      <td>54</td>\n",
       "      <td>Delhi</td>\n",
       "      <td>164423.84570</td>\n",
       "      <td>555</td>\n",
       "      <td>69</td>\n",
       "      <td>4</td>\n",
       "    </tr>\n",
       "    <tr>\n",
       "      <th>1004</th>\n",
       "      <td>Female</td>\n",
       "      <td>42</td>\n",
       "      <td>Bengaluru</td>\n",
       "      <td>56220.36443</td>\n",
       "      <td>699</td>\n",
       "      <td>30</td>\n",
       "      <td>1</td>\n",
       "    </tr>\n",
       "    <tr>\n",
       "      <th>1005</th>\n",
       "      <td>Female</td>\n",
       "      <td>30</td>\n",
       "      <td>Bengaluru</td>\n",
       "      <td>256194.36190</td>\n",
       "      <td>793</td>\n",
       "      <td>6</td>\n",
       "      <td>1</td>\n",
       "    </tr>\n",
       "  </tbody>\n",
       "</table>\n",
       "</div>"
      ],
      "text/plain": [
       "           CustomerGender  CustomerAge CustomerCity  AnnualIncome  \\\n",
       "CustomerID                                                          \n",
       "1001                 Male           49    Bengaluru  527547.58850   \n",
       "1002                 Male           59    Bengaluru  207143.19760   \n",
       "1003               Female           54        Delhi  164423.84570   \n",
       "1004               Female           42    Bengaluru   56220.36443   \n",
       "1005               Female           30    Bengaluru  256194.36190   \n",
       "\n",
       "            CreditScore  SpendingScore  CustomerCityID  \n",
       "CustomerID                                              \n",
       "1001                653             78               1  \n",
       "1002                630             63               1  \n",
       "1003                555             69               4  \n",
       "1004                699             30               1  \n",
       "1005                793              6               1  "
      ]
     },
     "execution_count": 3,
     "metadata": {},
     "output_type": "execute_result"
    }
   ],
   "source": [
    "df = pd.read_csv('Shopping_CustomerData.csv', index_col=['CustomerID'])\n",
    "df.head()"
   ]
  },
  {
   "cell_type": "markdown",
   "id": "9f25b052",
   "metadata": {},
   "source": [
    "### Question 1:\n",
    "    Load the Data. Check if any of the columns contain any Null values and remove them. Print the number of \n",
    "    columns and their column names - Beginner"
   ]
  },
  {
   "cell_type": "code",
   "execution_count": 5,
   "id": "3084742a",
   "metadata": {},
   "outputs": [
    {
     "data": {
      "text/plain": [
       "(200, 7)"
      ]
     },
     "execution_count": 5,
     "metadata": {},
     "output_type": "execute_result"
    }
   ],
   "source": [
    "#shape of the dataframe\n",
    "df.shape"
   ]
  },
  {
   "cell_type": "code",
   "execution_count": 4,
   "id": "b865010e",
   "metadata": {},
   "outputs": [
    {
     "name": "stdout",
     "output_type": "stream",
     "text": [
      "<class 'pandas.core.frame.DataFrame'>\n",
      "Int64Index: 200 entries, 1001 to 1200\n",
      "Data columns (total 7 columns):\n",
      " #   Column          Non-Null Count  Dtype  \n",
      "---  ------          --------------  -----  \n",
      " 0   CustomerGender  200 non-null    object \n",
      " 1   CustomerAge     200 non-null    int64  \n",
      " 2   CustomerCity    200 non-null    object \n",
      " 3   AnnualIncome    200 non-null    float64\n",
      " 4   CreditScore     200 non-null    int64  \n",
      " 5   SpendingScore   200 non-null    int64  \n",
      " 6   CustomerCityID  200 non-null    int64  \n",
      "dtypes: float64(1), int64(4), object(2)\n",
      "memory usage: 12.5+ KB\n"
     ]
    }
   ],
   "source": [
    "df.info()"
   ]
  },
  {
   "cell_type": "code",
   "execution_count": 7,
   "id": "eacc6e2a",
   "metadata": {},
   "outputs": [
    {
     "data": {
      "text/html": [
       "<div>\n",
       "<style scoped>\n",
       "    .dataframe tbody tr th:only-of-type {\n",
       "        vertical-align: middle;\n",
       "    }\n",
       "\n",
       "    .dataframe tbody tr th {\n",
       "        vertical-align: top;\n",
       "    }\n",
       "\n",
       "    .dataframe thead th {\n",
       "        text-align: right;\n",
       "    }\n",
       "</style>\n",
       "<table border=\"1\" class=\"dataframe\">\n",
       "  <thead>\n",
       "    <tr style=\"text-align: right;\">\n",
       "      <th></th>\n",
       "      <th>missing</th>\n",
       "      <th>total</th>\n",
       "      <th>percent</th>\n",
       "    </tr>\n",
       "  </thead>\n",
       "  <tbody>\n",
       "    <tr>\n",
       "      <th>CustomerGender</th>\n",
       "      <td>0</td>\n",
       "      <td>200</td>\n",
       "      <td>0.0</td>\n",
       "    </tr>\n",
       "    <tr>\n",
       "      <th>CustomerAge</th>\n",
       "      <td>0</td>\n",
       "      <td>200</td>\n",
       "      <td>0.0</td>\n",
       "    </tr>\n",
       "    <tr>\n",
       "      <th>CustomerCity</th>\n",
       "      <td>0</td>\n",
       "      <td>200</td>\n",
       "      <td>0.0</td>\n",
       "    </tr>\n",
       "    <tr>\n",
       "      <th>AnnualIncome</th>\n",
       "      <td>0</td>\n",
       "      <td>200</td>\n",
       "      <td>0.0</td>\n",
       "    </tr>\n",
       "    <tr>\n",
       "      <th>CreditScore</th>\n",
       "      <td>0</td>\n",
       "      <td>200</td>\n",
       "      <td>0.0</td>\n",
       "    </tr>\n",
       "    <tr>\n",
       "      <th>SpendingScore</th>\n",
       "      <td>0</td>\n",
       "      <td>200</td>\n",
       "      <td>0.0</td>\n",
       "    </tr>\n",
       "    <tr>\n",
       "      <th>CustomerCityID</th>\n",
       "      <td>0</td>\n",
       "      <td>200</td>\n",
       "      <td>0.0</td>\n",
       "    </tr>\n",
       "  </tbody>\n",
       "</table>\n",
       "</div>"
      ],
      "text/plain": [
       "                missing  total  percent\n",
       "CustomerGender        0    200      0.0\n",
       "CustomerAge           0    200      0.0\n",
       "CustomerCity          0    200      0.0\n",
       "AnnualIncome          0    200      0.0\n",
       "CreditScore           0    200      0.0\n",
       "SpendingScore         0    200      0.0\n",
       "CustomerCityID        0    200      0.0"
      ]
     },
     "execution_count": 7,
     "metadata": {},
     "output_type": "execute_result"
    }
   ],
   "source": [
    "df.stb.missing()"
   ]
  },
  {
   "cell_type": "code",
   "execution_count": 8,
   "id": "a6d626c0",
   "metadata": {},
   "outputs": [
    {
     "data": {
      "text/plain": [
       "CustomerGender    False\n",
       "CustomerAge       False\n",
       "CustomerCity      False\n",
       "AnnualIncome      False\n",
       "CreditScore       False\n",
       "SpendingScore     False\n",
       "CustomerCityID    False\n",
       "dtype: bool"
      ]
     },
     "execution_count": 8,
     "metadata": {},
     "output_type": "execute_result"
    }
   ],
   "source": [
    "df.isna().any()"
   ]
  },
  {
   "cell_type": "markdown",
   "id": "2adc7a0c",
   "metadata": {},
   "source": [
    "### Question 2: \n",
    "    Calculate Measures of Central Tendency - Mean, Median, and Mode for the Annuallncome column and print \n",
    "    their values- Beginner"
   ]
  },
  {
   "cell_type": "code",
   "execution_count": 21,
   "id": "851c95cc",
   "metadata": {},
   "outputs": [
    {
     "name": "stdout",
     "output_type": "stream",
     "text": [
      "mean      285143.931646\n",
      "median    263418.505550\n",
      "Name: AnnualIncome, dtype: float64\n",
      "mode: 2577.057456\n"
     ]
    }
   ],
   "source": [
    "print(df['AnnualIncome'].agg(['mean','median']))\n",
    "print(f\"mode: {df['AnnualIncome'].mode()[0]}\")"
   ]
  },
  {
   "cell_type": "code",
   "execution_count": 27,
   "id": "59627b2c",
   "metadata": {},
   "outputs": [
    {
     "data": {
      "text/html": [
       "<div>\n",
       "<style scoped>\n",
       "    .dataframe tbody tr th:only-of-type {\n",
       "        vertical-align: middle;\n",
       "    }\n",
       "\n",
       "    .dataframe tbody tr th {\n",
       "        vertical-align: top;\n",
       "    }\n",
       "\n",
       "    .dataframe thead th {\n",
       "        text-align: right;\n",
       "    }\n",
       "</style>\n",
       "<table border=\"1\" class=\"dataframe\">\n",
       "  <thead>\n",
       "    <tr style=\"text-align: right;\">\n",
       "      <th></th>\n",
       "      <th>AnnualIncome</th>\n",
       "      <th>count</th>\n",
       "      <th>percent</th>\n",
       "      <th>cumulative_count</th>\n",
       "      <th>cumulative_percent</th>\n",
       "    </tr>\n",
       "  </thead>\n",
       "  <tbody>\n",
       "    <tr>\n",
       "      <th>0</th>\n",
       "      <td>695407.0917</td>\n",
       "      <td>1</td>\n",
       "      <td>0.5</td>\n",
       "      <td>1</td>\n",
       "      <td>0.5</td>\n",
       "    </tr>\n",
       "  </tbody>\n",
       "</table>\n",
       "</div>"
      ],
      "text/plain": [
       "   AnnualIncome  count  percent  cumulative_count  cumulative_percent\n",
       "0   695407.0917      1      0.5                 1                 0.5"
      ]
     },
     "execution_count": 27,
     "metadata": {},
     "output_type": "execute_result"
    }
   ],
   "source": [
    "df.stb.freq(cols=['AnnualIncome']).head(1)"
   ]
  },
  {
   "cell_type": "code",
   "execution_count": 29,
   "id": "9ee55bd3",
   "metadata": {},
   "outputs": [
    {
     "data": {
      "text/html": [
       "<div>\n",
       "<style scoped>\n",
       "    .dataframe tbody tr th:only-of-type {\n",
       "        vertical-align: middle;\n",
       "    }\n",
       "\n",
       "    .dataframe tbody tr th {\n",
       "        vertical-align: top;\n",
       "    }\n",
       "\n",
       "    .dataframe thead th {\n",
       "        text-align: right;\n",
       "    }\n",
       "</style>\n",
       "<table border=\"1\" class=\"dataframe\">\n",
       "  <thead>\n",
       "    <tr style=\"text-align: right;\">\n",
       "      <th></th>\n",
       "      <th>CustomerGender</th>\n",
       "      <th>CustomerAge</th>\n",
       "      <th>CustomerCity</th>\n",
       "      <th>AnnualIncome</th>\n",
       "      <th>CreditScore</th>\n",
       "      <th>SpendingScore</th>\n",
       "      <th>CustomerCityID</th>\n",
       "    </tr>\n",
       "    <tr>\n",
       "      <th>CustomerID</th>\n",
       "      <th></th>\n",
       "      <th></th>\n",
       "      <th></th>\n",
       "      <th></th>\n",
       "      <th></th>\n",
       "      <th></th>\n",
       "      <th></th>\n",
       "    </tr>\n",
       "  </thead>\n",
       "  <tbody>\n",
       "    <tr>\n",
       "      <th>1001</th>\n",
       "      <td>Male</td>\n",
       "      <td>49</td>\n",
       "      <td>Bengaluru</td>\n",
       "      <td>527547.58850</td>\n",
       "      <td>653</td>\n",
       "      <td>78</td>\n",
       "      <td>1</td>\n",
       "    </tr>\n",
       "    <tr>\n",
       "      <th>1002</th>\n",
       "      <td>Male</td>\n",
       "      <td>59</td>\n",
       "      <td>Bengaluru</td>\n",
       "      <td>207143.19760</td>\n",
       "      <td>630</td>\n",
       "      <td>63</td>\n",
       "      <td>1</td>\n",
       "    </tr>\n",
       "    <tr>\n",
       "      <th>1003</th>\n",
       "      <td>Female</td>\n",
       "      <td>54</td>\n",
       "      <td>Delhi</td>\n",
       "      <td>164423.84570</td>\n",
       "      <td>555</td>\n",
       "      <td>69</td>\n",
       "      <td>4</td>\n",
       "    </tr>\n",
       "    <tr>\n",
       "      <th>1004</th>\n",
       "      <td>Female</td>\n",
       "      <td>42</td>\n",
       "      <td>Bengaluru</td>\n",
       "      <td>56220.36443</td>\n",
       "      <td>699</td>\n",
       "      <td>30</td>\n",
       "      <td>1</td>\n",
       "    </tr>\n",
       "    <tr>\n",
       "      <th>1005</th>\n",
       "      <td>Female</td>\n",
       "      <td>30</td>\n",
       "      <td>Bengaluru</td>\n",
       "      <td>256194.36190</td>\n",
       "      <td>793</td>\n",
       "      <td>6</td>\n",
       "      <td>1</td>\n",
       "    </tr>\n",
       "  </tbody>\n",
       "</table>\n",
       "</div>"
      ],
      "text/plain": [
       "           CustomerGender  CustomerAge CustomerCity  AnnualIncome  \\\n",
       "CustomerID                                                          \n",
       "1001                 Male           49    Bengaluru  527547.58850   \n",
       "1002                 Male           59    Bengaluru  207143.19760   \n",
       "1003               Female           54        Delhi  164423.84570   \n",
       "1004               Female           42    Bengaluru   56220.36443   \n",
       "1005               Female           30    Bengaluru  256194.36190   \n",
       "\n",
       "            CreditScore  SpendingScore  CustomerCityID  \n",
       "CustomerID                                              \n",
       "1001                653             78               1  \n",
       "1002                630             63               1  \n",
       "1003                555             69               4  \n",
       "1004                699             30               1  \n",
       "1005                793              6               1  "
      ]
     },
     "execution_count": 29,
     "metadata": {},
     "output_type": "execute_result"
    }
   ],
   "source": [
    "df.head()"
   ]
  },
  {
   "cell_type": "markdown",
   "id": "7862f616",
   "metadata": {},
   "source": [
    "### Question 3: \n",
    "    Module_ 1_Statistical_Foundations (1) (1) \n",
    "    Obtain different summary statistics (Variance, Standard Deviation, and Skewness) for the Spending Score \n",
    "    and print their values- Beginner"
   ]
  },
  {
   "cell_type": "code",
   "execution_count": 32,
   "id": "292cdf49",
   "metadata": {},
   "outputs": [
    {
     "name": "stdout",
     "output_type": "stream",
     "text": [
      "var of Spending Score: 824.9929396984925\n",
      "std of Spending Score: 28.722690328353515\n",
      "skewness of Spending Score: 0.10081837365183154\n"
     ]
    }
   ],
   "source": [
    "from scipy.stats import skew\n",
    "print(f\"var of Spending Score: {df['SpendingScore'].var()}\")\n",
    "print(f\"std of Spending Score: {df['SpendingScore'].std()}\")\n",
    "print(f\"skewness of Spending Score: {skew(df['SpendingScore'])}\")"
   ]
  },
  {
   "cell_type": "code",
   "execution_count": 33,
   "id": "e4bf0ed5",
   "metadata": {},
   "outputs": [
    {
     "data": {
      "image/png": "[encoded data removed]",
      "text/plain": [
       "<Figure size 432x288 with 1 Axes>"
      ]
     },
     "metadata": {
      "needs_background": "light"
     },
     "output_type": "display_data"
    }
   ],
   "source": [
    "df['SpendingScore'].plot(kind='hist')\n",
    "plt.show()"
   ]
  },
  {
   "cell_type": "markdown",
   "id": "0b4c157a",
   "metadata": {},
   "source": [
    "### Question 4:\n",
    "    Detect Outliers based on data in Annuallncome and SpendingScore column using Z-Score - Advanced"
   ]
  },
  {
   "cell_type": "code",
   "execution_count": 46,
   "id": "e6e6b142",
   "metadata": {},
   "outputs": [],
   "source": [
    "from scipy.stats import zscore\n",
    "zscores = zscore(df['AnnualIncome'])\n",
    "df = pd.concat([df,pd.Series(zscores, name='AnnualIncomeZScore',index=df.index)],axis=1)"
   ]
  },
  {
   "cell_type": "code",
   "execution_count": 47,
   "id": "037390fb",
   "metadata": {},
   "outputs": [
    {
     "data": {
      "text/plain": [
       "((200, 8), (200,))"
      ]
     },
     "execution_count": 47,
     "metadata": {},
     "output_type": "execute_result"
    }
   ],
   "source": [
    "df.shape, zscores.shape"
   ]
  },
  {
   "cell_type": "code",
   "execution_count": 48,
   "id": "358080e0",
   "metadata": {},
   "outputs": [
    {
     "data": {
      "image/png": "[encoded data removed]",
      "text/plain": [
       "<Figure size 432x288 with 1 Axes>"
      ]
     },
     "metadata": {
      "needs_background": "light"
     },
     "output_type": "display_data"
    }
   ],
   "source": [
    "sns.distplot(zscores)\n",
    "plt.show()"
   ]
  },
  {
   "cell_type": "code",
   "execution_count": 52,
   "id": "c895a199",
   "metadata": {},
   "outputs": [
    {
     "data": {
      "text/html": [
       "<div>\n",
       "<style scoped>\n",
       "    .dataframe tbody tr th:only-of-type {\n",
       "        vertical-align: middle;\n",
       "    }\n",
       "\n",
       "    .dataframe tbody tr th {\n",
       "        vertical-align: top;\n",
       "    }\n",
       "\n",
       "    .dataframe thead th {\n",
       "        text-align: right;\n",
       "    }\n",
       "</style>\n",
       "<table border=\"1\" class=\"dataframe\">\n",
       "  <thead>\n",
       "    <tr style=\"text-align: right;\">\n",
       "      <th></th>\n",
       "      <th>CustomerGender</th>\n",
       "      <th>CustomerAge</th>\n",
       "      <th>CustomerCity</th>\n",
       "      <th>AnnualIncome</th>\n",
       "      <th>CreditScore</th>\n",
       "      <th>SpendingScore</th>\n",
       "      <th>CustomerCityID</th>\n",
       "      <th>AnnualIncomeZScore</th>\n",
       "    </tr>\n",
       "    <tr>\n",
       "      <th>CustomerID</th>\n",
       "      <th></th>\n",
       "      <th></th>\n",
       "      <th></th>\n",
       "      <th></th>\n",
       "      <th></th>\n",
       "      <th></th>\n",
       "      <th></th>\n",
       "      <th></th>\n",
       "    </tr>\n",
       "  </thead>\n",
       "  <tbody>\n",
       "    <tr>\n",
       "      <th>1063</th>\n",
       "      <td>Female</td>\n",
       "      <td>39</td>\n",
       "      <td>Bengaluru</td>\n",
       "      <td>675461.7357</td>\n",
       "      <td>849</td>\n",
       "      <td>59</td>\n",
       "      <td>1</td>\n",
       "      <td>2.312233</td>\n",
       "    </tr>\n",
       "    <tr>\n",
       "      <th>1066</th>\n",
       "      <td>Male</td>\n",
       "      <td>34</td>\n",
       "      <td>Chennai</td>\n",
       "      <td>625214.1659</td>\n",
       "      <td>632</td>\n",
       "      <td>14</td>\n",
       "      <td>2</td>\n",
       "      <td>2.014567</td>\n",
       "    </tr>\n",
       "    <tr>\n",
       "      <th>1115</th>\n",
       "      <td>Female</td>\n",
       "      <td>51</td>\n",
       "      <td>Chennai</td>\n",
       "      <td>687212.7707</td>\n",
       "      <td>553</td>\n",
       "      <td>100</td>\n",
       "      <td>2</td>\n",
       "      <td>2.381846</td>\n",
       "    </tr>\n",
       "    <tr>\n",
       "      <th>1149</th>\n",
       "      <td>Female</td>\n",
       "      <td>62</td>\n",
       "      <td>Bengaluru</td>\n",
       "      <td>651534.3098</td>\n",
       "      <td>884</td>\n",
       "      <td>23</td>\n",
       "      <td>1</td>\n",
       "      <td>2.170487</td>\n",
       "    </tr>\n",
       "    <tr>\n",
       "      <th>1156</th>\n",
       "      <td>Female</td>\n",
       "      <td>60</td>\n",
       "      <td>Mumbai</td>\n",
       "      <td>671028.1872</td>\n",
       "      <td>605</td>\n",
       "      <td>55</td>\n",
       "      <td>5</td>\n",
       "      <td>2.285969</td>\n",
       "    </tr>\n",
       "    <tr>\n",
       "      <th>1167</th>\n",
       "      <td>Male</td>\n",
       "      <td>21</td>\n",
       "      <td>Bengaluru</td>\n",
       "      <td>695407.0917</td>\n",
       "      <td>718</td>\n",
       "      <td>86</td>\n",
       "      <td>1</td>\n",
       "      <td>2.430389</td>\n",
       "    </tr>\n",
       "    <tr>\n",
       "      <th>1172</th>\n",
       "      <td>Male</td>\n",
       "      <td>56</td>\n",
       "      <td>Mumbai</td>\n",
       "      <td>648085.0454</td>\n",
       "      <td>605</td>\n",
       "      <td>35</td>\n",
       "      <td>5</td>\n",
       "      <td>2.150054</td>\n",
       "    </tr>\n",
       "    <tr>\n",
       "      <th>1178</th>\n",
       "      <td>Male</td>\n",
       "      <td>22</td>\n",
       "      <td>Chennai</td>\n",
       "      <td>634980.9806</td>\n",
       "      <td>844</td>\n",
       "      <td>21</td>\n",
       "      <td>2</td>\n",
       "      <td>2.072426</td>\n",
       "    </tr>\n",
       "    <tr>\n",
       "      <th>1195</th>\n",
       "      <td>Female</td>\n",
       "      <td>48</td>\n",
       "      <td>Chennai</td>\n",
       "      <td>630148.5131</td>\n",
       "      <td>833</td>\n",
       "      <td>91</td>\n",
       "      <td>2</td>\n",
       "      <td>2.043798</td>\n",
       "    </tr>\n",
       "  </tbody>\n",
       "</table>\n",
       "</div>"
      ],
      "text/plain": [
       "           CustomerGender  CustomerAge CustomerCity  AnnualIncome  \\\n",
       "CustomerID                                                          \n",
       "1063               Female           39    Bengaluru   675461.7357   \n",
       "1066                 Male           34      Chennai   625214.1659   \n",
       "1115               Female           51      Chennai   687212.7707   \n",
       "1149               Female           62    Bengaluru   651534.3098   \n",
       "1156               Female           60       Mumbai   671028.1872   \n",
       "1167                 Male           21    Bengaluru   695407.0917   \n",
       "1172                 Male           56       Mumbai   648085.0454   \n",
       "1178                 Male           22      Chennai   634980.9806   \n",
       "1195               Female           48      Chennai   630148.5131   \n",
       "\n",
       "            CreditScore  SpendingScore  CustomerCityID  AnnualIncomeZScore  \n",
       "CustomerID                                                                  \n",
       "1063                849             59               1            2.312233  \n",
       "1066                632             14               2            2.014567  \n",
       "1115                553            100               2            2.381846  \n",
       "1149                884             23               1            2.170487  \n",
       "1156                605             55               5            2.285969  \n",
       "1167                718             86               1            2.430389  \n",
       "1172                605             35               5            2.150054  \n",
       "1178                844             21               2            2.072426  \n",
       "1195                833             91               2            2.043798  "
      ]
     },
     "execution_count": 52,
     "metadata": {},
     "output_type": "execute_result"
    }
   ],
   "source": [
    "df[(df['AnnualIncomeZScore']>2) | (df['AnnualIncomeZScore']<-2)]"
   ]
  },
  {
   "cell_type": "code",
   "execution_count": 55,
   "id": "4fd96ea6",
   "metadata": {},
   "outputs": [
    {
     "data": {
      "text/plain": [
       "array([[ 1.43599311,  0.95267867],\n",
       "       [-0.46207437,  0.42913296]])"
      ]
     },
     "execution_count": 55,
     "metadata": {},
     "output_type": "execute_result"
    }
   ],
   "source": [
    "zscore(df[['AnnualIncome','SpendingScore']])[:2]"
   ]
  },
  {
   "cell_type": "markdown",
   "id": "cc8a67cf",
   "metadata": {},
   "source": [
    "### Question 5: \n",
    "    Detect Outliers based on data in CustomerAge and SpendingScore column using Scatter Plot -\n",
    "    Intermediate "
   ]
  },
  {
   "cell_type": "code",
   "execution_count": 57,
   "id": "dcdd7c33",
   "metadata": {},
   "outputs": [
    {
     "data": {
      "image/png": "[encoded data removed]",
      "text/plain": [
       "<Figure size 432x288 with 1 Axes>"
      ]
     },
     "metadata": {
      "needs_background": "light"
     },
     "output_type": "display_data"
    }
   ],
   "source": [
    "sns.scatterplot('CustomerAge','SpendingScore',data=df)\n",
    "plt.show()"
   ]
  },
  {
   "cell_type": "code",
   "execution_count": 59,
   "id": "3c09c273",
   "metadata": {},
   "outputs": [
    {
     "data": {
      "text/html": [
       "<div>\n",
       "<style scoped>\n",
       "    .dataframe tbody tr th:only-of-type {\n",
       "        vertical-align: middle;\n",
       "    }\n",
       "\n",
       "    .dataframe tbody tr th {\n",
       "        vertical-align: top;\n",
       "    }\n",
       "\n",
       "    .dataframe thead th {\n",
       "        text-align: right;\n",
       "    }\n",
       "</style>\n",
       "<table border=\"1\" class=\"dataframe\">\n",
       "  <thead>\n",
       "    <tr style=\"text-align: right;\">\n",
       "      <th></th>\n",
       "      <th>CustomerGender</th>\n",
       "      <th>CustomerAge</th>\n",
       "      <th>CustomerCity</th>\n",
       "      <th>AnnualIncome</th>\n",
       "      <th>CreditScore</th>\n",
       "      <th>SpendingScore</th>\n",
       "      <th>CustomerCityID</th>\n",
       "      <th>AnnualIncomeZScore</th>\n",
       "      <th>CustoemrAgeZscore</th>\n",
       "      <th>SpendingScoreZscore</th>\n",
       "    </tr>\n",
       "    <tr>\n",
       "      <th>CustomerID</th>\n",
       "      <th></th>\n",
       "      <th></th>\n",
       "      <th></th>\n",
       "      <th></th>\n",
       "      <th></th>\n",
       "      <th></th>\n",
       "      <th></th>\n",
       "      <th></th>\n",
       "      <th></th>\n",
       "      <th></th>\n",
       "    </tr>\n",
       "  </thead>\n",
       "  <tbody>\n",
       "    <tr>\n",
       "      <th>1001</th>\n",
       "      <td>Male</td>\n",
       "      <td>49</td>\n",
       "      <td>Bengaluru</td>\n",
       "      <td>527547.58850</td>\n",
       "      <td>653</td>\n",
       "      <td>78</td>\n",
       "      <td>1</td>\n",
       "      <td>1.435993</td>\n",
       "      <td>0.216509</td>\n",
       "      <td>0.952679</td>\n",
       "    </tr>\n",
       "    <tr>\n",
       "      <th>1002</th>\n",
       "      <td>Male</td>\n",
       "      <td>59</td>\n",
       "      <td>Bengaluru</td>\n",
       "      <td>207143.19760</td>\n",
       "      <td>630</td>\n",
       "      <td>63</td>\n",
       "      <td>1</td>\n",
       "      <td>-0.462074</td>\n",
       "      <td>0.838660</td>\n",
       "      <td>0.429133</td>\n",
       "    </tr>\n",
       "    <tr>\n",
       "      <th>1003</th>\n",
       "      <td>Female</td>\n",
       "      <td>54</td>\n",
       "      <td>Delhi</td>\n",
       "      <td>164423.84570</td>\n",
       "      <td>555</td>\n",
       "      <td>69</td>\n",
       "      <td>4</td>\n",
       "      <td>-0.715143</td>\n",
       "      <td>0.527584</td>\n",
       "      <td>0.638551</td>\n",
       "    </tr>\n",
       "    <tr>\n",
       "      <th>1004</th>\n",
       "      <td>Female</td>\n",
       "      <td>42</td>\n",
       "      <td>Bengaluru</td>\n",
       "      <td>56220.36443</td>\n",
       "      <td>699</td>\n",
       "      <td>30</td>\n",
       "      <td>1</td>\n",
       "      <td>-1.356137</td>\n",
       "      <td>-0.218997</td>\n",
       "      <td>-0.722668</td>\n",
       "    </tr>\n",
       "    <tr>\n",
       "      <th>1005</th>\n",
       "      <td>Female</td>\n",
       "      <td>30</td>\n",
       "      <td>Bengaluru</td>\n",
       "      <td>256194.36190</td>\n",
       "      <td>793</td>\n",
       "      <td>6</td>\n",
       "      <td>1</td>\n",
       "      <td>-0.171497</td>\n",
       "      <td>-0.965579</td>\n",
       "      <td>-1.560341</td>\n",
       "    </tr>\n",
       "  </tbody>\n",
       "</table>\n",
       "</div>"
      ],
      "text/plain": [
       "           CustomerGender  CustomerAge CustomerCity  AnnualIncome  \\\n",
       "CustomerID                                                          \n",
       "1001                 Male           49    Bengaluru  527547.58850   \n",
       "1002                 Male           59    Bengaluru  207143.19760   \n",
       "1003               Female           54        Delhi  164423.84570   \n",
       "1004               Female           42    Bengaluru   56220.36443   \n",
       "1005               Female           30    Bengaluru  256194.36190   \n",
       "\n",
       "            CreditScore  SpendingScore  CustomerCityID  AnnualIncomeZScore  \\\n",
       "CustomerID                                                                   \n",
       "1001                653             78               1            1.435993   \n",
       "1002                630             63               1           -0.462074   \n",
       "1003                555             69               4           -0.715143   \n",
       "1004                699             30               1           -1.356137   \n",
       "1005                793              6               1           -0.171497   \n",
       "\n",
       "            CustoemrAgeZscore  SpendingScoreZscore  \n",
       "CustomerID                                          \n",
       "1001                 0.216509             0.952679  \n",
       "1002                 0.838660             0.429133  \n",
       "1003                 0.527584             0.638551  \n",
       "1004                -0.218997            -0.722668  \n",
       "1005                -0.965579            -1.560341  "
      ]
     },
     "execution_count": 59,
     "metadata": {},
     "output_type": "execute_result"
    }
   ],
   "source": [
    "zscores = zscore(df[['CustomerAge','SpendingScore']])\n",
    "df = pd.concat([df,pd.DataFrame(zscores,columns=['CustomerAgeZscore','SpendingScoreZscore'],index=df.index)],axis=1)\n",
    "df.head()"
   ]
  },
  {
   "cell_type": "code",
   "execution_count": 65,
   "id": "a2365780",
   "metadata": {},
   "outputs": [
    {
     "data": {
      "text/html": [
       "<div>\n",
       "<style scoped>\n",
       "    .dataframe tbody tr th:only-of-type {\n",
       "        vertical-align: middle;\n",
       "    }\n",
       "\n",
       "    .dataframe tbody tr th {\n",
       "        vertical-align: top;\n",
       "    }\n",
       "\n",
       "    .dataframe thead th {\n",
       "        text-align: right;\n",
       "    }\n",
       "</style>\n",
       "<table border=\"1\" class=\"dataframe\">\n",
       "  <thead>\n",
       "    <tr style=\"text-align: right;\">\n",
       "      <th></th>\n",
       "      <th>CustomerGender</th>\n",
       "      <th>CustomerAge</th>\n",
       "      <th>CustomerCity</th>\n",
       "      <th>AnnualIncome</th>\n",
       "      <th>CreditScore</th>\n",
       "      <th>SpendingScore</th>\n",
       "      <th>CustomerCityID</th>\n",
       "      <th>AnnualIncomeZScore</th>\n",
       "      <th>CustoemrAgeZscore</th>\n",
       "      <th>SpendingScoreZscore</th>\n",
       "      <th>CustomerAgeGroup</th>\n",
       "      <th>SpendingScoreGroup</th>\n",
       "    </tr>\n",
       "    <tr>\n",
       "      <th>CustomerID</th>\n",
       "      <th></th>\n",
       "      <th></th>\n",
       "      <th></th>\n",
       "      <th></th>\n",
       "      <th></th>\n",
       "      <th></th>\n",
       "      <th></th>\n",
       "      <th></th>\n",
       "      <th></th>\n",
       "      <th></th>\n",
       "      <th></th>\n",
       "      <th></th>\n",
       "    </tr>\n",
       "  </thead>\n",
       "  <tbody>\n",
       "    <tr>\n",
       "      <th>1001</th>\n",
       "      <td>Male</td>\n",
       "      <td>49</td>\n",
       "      <td>Bengaluru</td>\n",
       "      <td>527547.58850</td>\n",
       "      <td>653</td>\n",
       "      <td>78</td>\n",
       "      <td>1</td>\n",
       "      <td>1.435993</td>\n",
       "      <td>0.216509</td>\n",
       "      <td>0.952679</td>\n",
       "      <td>Outlier</td>\n",
       "      <td>Not Outlier</td>\n",
       "    </tr>\n",
       "    <tr>\n",
       "      <th>1002</th>\n",
       "      <td>Male</td>\n",
       "      <td>59</td>\n",
       "      <td>Bengaluru</td>\n",
       "      <td>207143.19760</td>\n",
       "      <td>630</td>\n",
       "      <td>63</td>\n",
       "      <td>1</td>\n",
       "      <td>-0.462074</td>\n",
       "      <td>0.838660</td>\n",
       "      <td>0.429133</td>\n",
       "      <td>Outlier</td>\n",
       "      <td>Not Outlier</td>\n",
       "    </tr>\n",
       "    <tr>\n",
       "      <th>1003</th>\n",
       "      <td>Female</td>\n",
       "      <td>54</td>\n",
       "      <td>Delhi</td>\n",
       "      <td>164423.84570</td>\n",
       "      <td>555</td>\n",
       "      <td>69</td>\n",
       "      <td>4</td>\n",
       "      <td>-0.715143</td>\n",
       "      <td>0.527584</td>\n",
       "      <td>0.638551</td>\n",
       "      <td>Outlier</td>\n",
       "      <td>Not Outlier</td>\n",
       "    </tr>\n",
       "    <tr>\n",
       "      <th>1004</th>\n",
       "      <td>Female</td>\n",
       "      <td>42</td>\n",
       "      <td>Bengaluru</td>\n",
       "      <td>56220.36443</td>\n",
       "      <td>699</td>\n",
       "      <td>30</td>\n",
       "      <td>1</td>\n",
       "      <td>-1.356137</td>\n",
       "      <td>-0.218997</td>\n",
       "      <td>-0.722668</td>\n",
       "      <td>Outlier</td>\n",
       "      <td>Not Outlier</td>\n",
       "    </tr>\n",
       "    <tr>\n",
       "      <th>1005</th>\n",
       "      <td>Female</td>\n",
       "      <td>30</td>\n",
       "      <td>Bengaluru</td>\n",
       "      <td>256194.36190</td>\n",
       "      <td>793</td>\n",
       "      <td>6</td>\n",
       "      <td>1</td>\n",
       "      <td>-0.171497</td>\n",
       "      <td>-0.965579</td>\n",
       "      <td>-1.560341</td>\n",
       "      <td>Outlier</td>\n",
       "      <td>Outlier</td>\n",
       "    </tr>\n",
       "  </tbody>\n",
       "</table>\n",
       "</div>"
      ],
      "text/plain": [
       "           CustomerGender  CustomerAge CustomerCity  AnnualIncome  \\\n",
       "CustomerID                                                          \n",
       "1001                 Male           49    Bengaluru  527547.58850   \n",
       "1002                 Male           59    Bengaluru  207143.19760   \n",
       "1003               Female           54        Delhi  164423.84570   \n",
       "1004               Female           42    Bengaluru   56220.36443   \n",
       "1005               Female           30    Bengaluru  256194.36190   \n",
       "\n",
       "            CreditScore  SpendingScore  CustomerCityID  AnnualIncomeZScore  \\\n",
       "CustomerID                                                                   \n",
       "1001                653             78               1            1.435993   \n",
       "1002                630             63               1           -0.462074   \n",
       "1003                555             69               4           -0.715143   \n",
       "1004                699             30               1           -1.356137   \n",
       "1005                793              6               1           -0.171497   \n",
       "\n",
       "            CustoemrAgeZscore  SpendingScoreZscore CustomerAgeGroup  \\\n",
       "CustomerID                                                            \n",
       "1001                 0.216509             0.952679          Outlier   \n",
       "1002                 0.838660             0.429133          Outlier   \n",
       "1003                 0.527584             0.638551          Outlier   \n",
       "1004                -0.218997            -0.722668          Outlier   \n",
       "1005                -0.965579            -1.560341          Outlier   \n",
       "\n",
       "           SpendingScoreGroup  \n",
       "CustomerID                     \n",
       "1001              Not Outlier  \n",
       "1002              Not Outlier  \n",
       "1003              Not Outlier  \n",
       "1004              Not Outlier  \n",
       "1005                  Outlier  "
      ]
     },
     "execution_count": 65,
     "metadata": {},
     "output_type": "execute_result"
    }
   ],
   "source": [
    "df['CustomerAgeGroup'] = df['CustomerAge'].apply(lambda c: 'Outlier' if abs(c) > 1.5 else 'Not Outlier')\n",
    "df['SpendingScoreGroup'] = df['SpendingScoreZscore'].apply(lambda c: 'Outlier' if abs(c) > 1.5 else 'Not Outlier')\n",
    "df.head()"
   ]
  },
  {
   "cell_type": "code",
   "execution_count": 66,
   "id": "1a4575eb",
   "metadata": {},
   "outputs": [
    {
     "data": {
      "image/png": "[encoded data removed]",
      "text/plain": [
       "<Figure size 432x288 with 1 Axes>"
      ]
     },
     "metadata": {
      "needs_background": "light"
     },
     "output_type": "display_data"
    }
   ],
   "source": [
    "sns.scatterplot('CustomerAge','SpendingScore',data=df, hue='SpendingScoreGroup')\n",
    "plt.show()"
   ]
  },
  {
   "cell_type": "code",
   "execution_count": null,
   "id": "3fccb101",
   "metadata": {},
   "outputs": [],
   "source": []
  },
  {
   "cell_type": "code",
   "execution_count": null,
   "id": "2f591ce6",
   "metadata": {},
   "outputs": [],
   "source": []
  }
 ],
 "metadata": {
  "kernelspec": {
   "display_name": "Python 3",
   "language": "python",
   "name": "python3"
  },
  "language_info": {
   "codemirror_mode": {
    "name": "ipython",
    "version": 3
   },
   "file_extension": ".py",
   "mimetype": "text/x-python",
   "name": "python",
   "nbconvert_exporter": "python",
   "pygments_lexer": "ipython3",
   "version": "3.8.8"
  }
 },
 "nbformat": 4,
 "nbformat_minor": 5
}
