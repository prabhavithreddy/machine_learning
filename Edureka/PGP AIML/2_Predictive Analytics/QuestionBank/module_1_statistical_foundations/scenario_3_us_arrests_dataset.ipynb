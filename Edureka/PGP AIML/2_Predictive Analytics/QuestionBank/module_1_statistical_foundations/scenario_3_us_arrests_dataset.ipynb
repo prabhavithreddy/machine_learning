{
 "cells": [
  {
   "cell_type": "code",
   "execution_count": 1,
   "id": "ee0f7877",
   "metadata": {},
   "outputs": [],
   "source": [
    "import numpy as np\n",
    "import pandas as pd\n",
    "import matplotlib.pyplot as plt\n",
    "import seaborn as sns\n",
    "import plotly.express as px\n",
    "import warnings\n",
    "warnings.filterwarnings('ignore')"
   ]
  },
  {
   "cell_type": "code",
   "execution_count": 6,
   "id": "fd47f3c4",
   "metadata": {},
   "outputs": [
    {
     "data": {
      "text/html": [
       "<div>\n",
       "<style scoped>\n",
       "    .dataframe tbody tr th:only-of-type {\n",
       "        vertical-align: middle;\n",
       "    }\n",
       "\n",
       "    .dataframe tbody tr th {\n",
       "        vertical-align: top;\n",
       "    }\n",
       "\n",
       "    .dataframe thead th {\n",
       "        text-align: right;\n",
       "    }\n",
       "</style>\n",
       "<table border=\"1\" class=\"dataframe\">\n",
       "  <thead>\n",
       "    <tr style=\"text-align: right;\">\n",
       "      <th></th>\n",
       "      <th>Murder</th>\n",
       "      <th>Assault</th>\n",
       "      <th>UrbanPop</th>\n",
       "      <th>Rape</th>\n",
       "    </tr>\n",
       "  </thead>\n",
       "  <tbody>\n",
       "    <tr>\n",
       "      <th>Alabama</th>\n",
       "      <td>13.2</td>\n",
       "      <td>236</td>\n",
       "      <td>58</td>\n",
       "      <td>21.2</td>\n",
       "    </tr>\n",
       "    <tr>\n",
       "      <th>Alaska</th>\n",
       "      <td>10.0</td>\n",
       "      <td>263</td>\n",
       "      <td>48</td>\n",
       "      <td>44.5</td>\n",
       "    </tr>\n",
       "    <tr>\n",
       "      <th>Arizona</th>\n",
       "      <td>8.1</td>\n",
       "      <td>294</td>\n",
       "      <td>80</td>\n",
       "      <td>31.0</td>\n",
       "    </tr>\n",
       "    <tr>\n",
       "      <th>Arkansas</th>\n",
       "      <td>8.8</td>\n",
       "      <td>190</td>\n",
       "      <td>50</td>\n",
       "      <td>19.5</td>\n",
       "    </tr>\n",
       "    <tr>\n",
       "      <th>California</th>\n",
       "      <td>9.0</td>\n",
       "      <td>276</td>\n",
       "      <td>91</td>\n",
       "      <td>40.6</td>\n",
       "    </tr>\n",
       "  </tbody>\n",
       "</table>\n",
       "</div>"
      ],
      "text/plain": [
       "            Murder  Assault  UrbanPop  Rape\n",
       "Alabama       13.2      236        58  21.2\n",
       "Alaska        10.0      263        48  44.5\n",
       "Arizona        8.1      294        80  31.0\n",
       "Arkansas       8.8      190        50  19.5\n",
       "California     9.0      276        91  40.6"
      ]
     },
     "execution_count": 6,
     "metadata": {},
     "output_type": "execute_result"
    }
   ],
   "source": [
    "df = pd.read_csv('USArrests.csv', index_col=[0])\n",
    "df.head()"
   ]
  },
  {
   "cell_type": "code",
   "execution_count": 11,
   "id": "6f915820",
   "metadata": {},
   "outputs": [
    {
     "data": {
      "text/html": [
       "<div>\n",
       "<style scoped>\n",
       "    .dataframe tbody tr th:only-of-type {\n",
       "        vertical-align: middle;\n",
       "    }\n",
       "\n",
       "    .dataframe tbody tr th {\n",
       "        vertical-align: top;\n",
       "    }\n",
       "\n",
       "    .dataframe thead th {\n",
       "        text-align: right;\n",
       "    }\n",
       "</style>\n",
       "<table border=\"1\" class=\"dataframe\">\n",
       "  <thead>\n",
       "    <tr style=\"text-align: right;\">\n",
       "      <th></th>\n",
       "      <th>MURDER</th>\n",
       "      <th>ASSAULT</th>\n",
       "      <th>URBANPOP</th>\n",
       "      <th>FRAUD</th>\n",
       "    </tr>\n",
       "  </thead>\n",
       "  <tbody>\n",
       "    <tr>\n",
       "      <th>Alabama</th>\n",
       "      <td>13.2</td>\n",
       "      <td>236</td>\n",
       "      <td>58</td>\n",
       "      <td>21.2</td>\n",
       "    </tr>\n",
       "    <tr>\n",
       "      <th>Alaska</th>\n",
       "      <td>10.0</td>\n",
       "      <td>263</td>\n",
       "      <td>48</td>\n",
       "      <td>44.5</td>\n",
       "    </tr>\n",
       "    <tr>\n",
       "      <th>Arizona</th>\n",
       "      <td>8.1</td>\n",
       "      <td>294</td>\n",
       "      <td>80</td>\n",
       "      <td>31.0</td>\n",
       "    </tr>\n",
       "    <tr>\n",
       "      <th>Arkansas</th>\n",
       "      <td>8.8</td>\n",
       "      <td>190</td>\n",
       "      <td>50</td>\n",
       "      <td>19.5</td>\n",
       "    </tr>\n",
       "    <tr>\n",
       "      <th>California</th>\n",
       "      <td>9.0</td>\n",
       "      <td>276</td>\n",
       "      <td>91</td>\n",
       "      <td>40.6</td>\n",
       "    </tr>\n",
       "  </tbody>\n",
       "</table>\n",
       "</div>"
      ],
      "text/plain": [
       "            MURDER  ASSAULT  URBANPOP  FRAUD\n",
       "Alabama       13.2      236        58   21.2\n",
       "Alaska        10.0      263        48   44.5\n",
       "Arizona        8.1      294        80   31.0\n",
       "Arkansas       8.8      190        50   19.5\n",
       "California     9.0      276        91   40.6"
      ]
     },
     "execution_count": 11,
     "metadata": {},
     "output_type": "execute_result"
    }
   ],
   "source": [
    "df.rename(columns={'Rape':'Fraud'},inplace=True)\n",
    "df.columns = df.columns.str.upper()\n",
    "df.head()"
   ]
  },
  {
   "cell_type": "markdown",
   "id": "63510298",
   "metadata": {},
   "source": [
    "### Question 1: \n",
    "    Load the data and analyse the Measures of Spread and Shape (Inter-Quartile Range (IQR), Kurtosis, and \n",
    "    Skew) of data in ASSAULT and FRAUD and print their values - Beginner"
   ]
  },
  {
   "cell_type": "code",
   "execution_count": 12,
   "id": "3300c5f6",
   "metadata": {},
   "outputs": [],
   "source": [
    "from scipy.stats import skew, kurtosis, iqr"
   ]
  },
  {
   "cell_type": "code",
   "execution_count": 18,
   "id": "c1aed3af",
   "metadata": {},
   "outputs": [
    {
     "name": "stdout",
     "output_type": "stream",
     "text": [
      "ASSAULT [iqr, kurtosis, skew] : 140.0,-1.07,0.23\n",
      "FRAUD [iqr, kurtosis, skew] : 11.1,0.2,0.78\n"
     ]
    }
   ],
   "source": [
    "print(f\"ASSAULT [iqr, kurtosis, skew] : {iqr(df['ASSAULT'])},{round(kurtosis(df['ASSAULT']),2)},{round(skew(df['ASSAULT']),2)}\")\n",
    "print(f\"FRAUD [iqr, kurtosis, skew] : {round(iqr(df['FRAUD']),2)},{round(kurtosis(df['FRAUD']),2)},{round(skew(df['FRAUD']),2)}\")"
   ]
  },
  {
   "cell_type": "code",
   "execution_count": 22,
   "id": "ec6eaf23",
   "metadata": {},
   "outputs": [
    {
     "data": {
      "image/png": "[encoded data removed]",
      "text/plain": [
       "<Figure size 432x288 with 1 Axes>"
      ]
     },
     "metadata": {
      "needs_background": "light"
     },
     "output_type": "display_data"
    }
   ],
   "source": [
    "df['ASSAULT'].plot(kind='hist')\n",
    "plt.show()"
   ]
  },
  {
   "cell_type": "code",
   "execution_count": 23,
   "id": "033f7e20",
   "metadata": {},
   "outputs": [
    {
     "data": {
      "image/png": "[encoded data removed]",
      "text/plain": [
       "<Figure size 432x288 with 1 Axes>"
      ]
     },
     "metadata": {
      "needs_background": "light"
     },
     "output_type": "display_data"
    }
   ],
   "source": [
    "df['FRAUD'].plot(kind='hist')\n",
    "plt.show()"
   ]
  },
  {
   "cell_type": "markdown",
   "id": "36e151a8",
   "metadata": {},
   "source": [
    "### Question 2:\n",
    "    Obtain the Z-Scores based on data in the Assault column - Intermediate "
   ]
  },
  {
   "cell_type": "code",
   "execution_count": 36,
   "id": "4c39dfd3",
   "metadata": {},
   "outputs": [
    {
     "data": {
      "text/plain": [
       "array([ 0.79078716,  1.11805959,  1.49381682,  0.23321191,  1.2756352 ,\n",
       "        0.40290872, -0.73648418,  0.81502956,  1.99078607,  0.48775713,\n",
       "       -1.51224105, -0.61527217,  0.94836277, -0.70012057, -1.39102904,\n",
       "       -0.67587817, -0.74860538,  0.94836277, -1.06375661,  1.56654403,\n",
       "       -0.26375734,  1.02108998, -1.19708982,  1.06957478,  0.0877575 ,\n",
       "       -0.74860538, -0.83345379,  0.98472638, -1.37890783, -0.14254532,\n",
       "        1.38472601,  1.00896878,  2.01502847, -1.52436225, -0.61527217,\n",
       "       -0.23951493, -0.14254532, -0.78496898,  0.03927269,  1.3119988 ,\n",
       "       -1.027393  ,  0.20896951,  0.36654512, -0.61527217, -1.48799864,\n",
       "       -0.17890893, -0.31224214, -1.08799901, -1.42739264, -0.11830292])"
      ]
     },
     "execution_count": 36,
     "metadata": {},
     "output_type": "execute_result"
    }
   ],
   "source": [
    "from scipy.stats import zscore\n",
    "zscore(df['ASSAULT'])"
   ]
  },
  {
   "cell_type": "markdown",
   "id": "f4018a04",
   "metadata": {},
   "source": [
    "### Question 3: \n",
    "    Detect Outliers based on data in URBANPOP columns using IQR -Advanced (Bridging Gap Question) "
   ]
  },
  {
   "cell_type": "code",
   "execution_count": 37,
   "id": "06576084",
   "metadata": {},
   "outputs": [
    {
     "name": "stdout",
     "output_type": "stream",
     "text": [
      "q1: 54.5, q3:77.75, iqr: 23.25, lower: 19.625, upper: 112.625\n"
     ]
    }
   ],
   "source": [
    "q1 = df['URBANPOP'].quantile(0.25)\n",
    "q3 = df['URBANPOP'].quantile(0.75)\n",
    "iqr = q3-q1\n",
    "lower = q1 - 1.5*iqr\n",
    "upper = q3 + 1.5*iqr\n",
    "\n",
    "print(f\"q1: {q1}, q3:{q3}, iqr: {iqr}, lower: {lower}, upper: {upper}\")"
   ]
  },
  {
   "cell_type": "code",
   "execution_count": 39,
   "id": "cc9c0ebd",
   "metadata": {},
   "outputs": [
    {
     "data": {
      "text/html": [
       "<div>\n",
       "<style scoped>\n",
       "    .dataframe tbody tr th:only-of-type {\n",
       "        vertical-align: middle;\n",
       "    }\n",
       "\n",
       "    .dataframe tbody tr th {\n",
       "        vertical-align: top;\n",
       "    }\n",
       "\n",
       "    .dataframe thead th {\n",
       "        text-align: right;\n",
       "    }\n",
       "</style>\n",
       "<table border=\"1\" class=\"dataframe\">\n",
       "  <thead>\n",
       "    <tr style=\"text-align: right;\">\n",
       "      <th></th>\n",
       "      <th>MURDER</th>\n",
       "      <th>ASSAULT</th>\n",
       "      <th>URBANPOP</th>\n",
       "      <th>FRAUD</th>\n",
       "    </tr>\n",
       "  </thead>\n",
       "  <tbody>\n",
       "  </tbody>\n",
       "</table>\n",
       "</div>"
      ],
      "text/plain": [
       "Empty DataFrame\n",
       "Columns: [MURDER, ASSAULT, URBANPOP, FRAUD]\n",
       "Index: []"
      ]
     },
     "execution_count": 39,
     "metadata": {},
     "output_type": "execute_result"
    }
   ],
   "source": [
    "df[(df['URBANPOP'] < lower) | (df['URBANPOP'] > upper)]"
   ]
  },
  {
   "cell_type": "code",
   "execution_count": 40,
   "id": "bb613007",
   "metadata": {},
   "outputs": [
    {
     "data": {
      "image/png": "[encoded data removed]",
      "text/plain": [
       "<Figure size 432x288 with 1 Axes>"
      ]
     },
     "metadata": {
      "needs_background": "light"
     },
     "output_type": "display_data"
    }
   ],
   "source": [
    "df['URBANPOP'].plot(kind='box')\n",
    "plt.show()"
   ]
  },
  {
   "cell_type": "code",
   "execution_count": 42,
   "id": "e3d142c0",
   "metadata": {},
   "outputs": [
    {
     "data": {
      "image/png": "[encoded data removed]",
      "text/plain": [
       "<Figure size 432x288 with 1 Axes>"
      ]
     },
     "metadata": {
      "needs_background": "light"
     },
     "output_type": "display_data"
    }
   ],
   "source": [
    "df['URBANPOP'].plot(kind='hist')\n",
    "plt.show()"
   ]
  },
  {
   "cell_type": "markdown",
   "id": "eb3b9a0f",
   "metadata": {},
   "source": [
    "### Question 4: \n",
    "    Detect Outliers based on data in UrabnPop column using Z-Score - Advanced"
   ]
  },
  {
   "cell_type": "code",
   "execution_count": 43,
   "id": "85ae1c13",
   "metadata": {},
   "outputs": [
    {
     "data": {
      "text/html": [
       "<div>\n",
       "<style scoped>\n",
       "    .dataframe tbody tr th:only-of-type {\n",
       "        vertical-align: middle;\n",
       "    }\n",
       "\n",
       "    .dataframe tbody tr th {\n",
       "        vertical-align: top;\n",
       "    }\n",
       "\n",
       "    .dataframe thead th {\n",
       "        text-align: right;\n",
       "    }\n",
       "</style>\n",
       "<table border=\"1\" class=\"dataframe\">\n",
       "  <thead>\n",
       "    <tr style=\"text-align: right;\">\n",
       "      <th></th>\n",
       "      <th>MURDER</th>\n",
       "      <th>ASSAULT</th>\n",
       "      <th>URBANPOP</th>\n",
       "      <th>FRAUD</th>\n",
       "      <th>URBANPOP_ZSCORE</th>\n",
       "    </tr>\n",
       "  </thead>\n",
       "  <tbody>\n",
       "    <tr>\n",
       "      <th>Alabama</th>\n",
       "      <td>13.2</td>\n",
       "      <td>236</td>\n",
       "      <td>58</td>\n",
       "      <td>21.2</td>\n",
       "      <td>-0.526195</td>\n",
       "    </tr>\n",
       "    <tr>\n",
       "      <th>Alaska</th>\n",
       "      <td>10.0</td>\n",
       "      <td>263</td>\n",
       "      <td>48</td>\n",
       "      <td>44.5</td>\n",
       "      <td>-1.224067</td>\n",
       "    </tr>\n",
       "    <tr>\n",
       "      <th>Arizona</th>\n",
       "      <td>8.1</td>\n",
       "      <td>294</td>\n",
       "      <td>80</td>\n",
       "      <td>31.0</td>\n",
       "      <td>1.009122</td>\n",
       "    </tr>\n",
       "    <tr>\n",
       "      <th>Arkansas</th>\n",
       "      <td>8.8</td>\n",
       "      <td>190</td>\n",
       "      <td>50</td>\n",
       "      <td>19.5</td>\n",
       "      <td>-1.084492</td>\n",
       "    </tr>\n",
       "    <tr>\n",
       "      <th>California</th>\n",
       "      <td>9.0</td>\n",
       "      <td>276</td>\n",
       "      <td>91</td>\n",
       "      <td>40.6</td>\n",
       "      <td>1.776781</td>\n",
       "    </tr>\n",
       "  </tbody>\n",
       "</table>\n",
       "</div>"
      ],
      "text/plain": [
       "            MURDER  ASSAULT  URBANPOP  FRAUD  URBANPOP_ZSCORE\n",
       "Alabama       13.2      236        58   21.2        -0.526195\n",
       "Alaska        10.0      263        48   44.5        -1.224067\n",
       "Arizona        8.1      294        80   31.0         1.009122\n",
       "Arkansas       8.8      190        50   19.5        -1.084492\n",
       "California     9.0      276        91   40.6         1.776781"
      ]
     },
     "execution_count": 43,
     "metadata": {},
     "output_type": "execute_result"
    }
   ],
   "source": [
    "df = pd.concat([df, pd.Series(zscore(df['URBANPOP']), name='URBANPOP_ZSCORE', index=df.index)], axis=1)\n",
    "df.head()"
   ]
  },
  {
   "cell_type": "code",
   "execution_count": 46,
   "id": "b628cf9a",
   "metadata": {},
   "outputs": [
    {
     "data": {
      "text/html": [
       "<div>\n",
       "<style scoped>\n",
       "    .dataframe tbody tr th:only-of-type {\n",
       "        vertical-align: middle;\n",
       "    }\n",
       "\n",
       "    .dataframe tbody tr th {\n",
       "        vertical-align: top;\n",
       "    }\n",
       "\n",
       "    .dataframe thead th {\n",
       "        text-align: right;\n",
       "    }\n",
       "</style>\n",
       "<table border=\"1\" class=\"dataframe\">\n",
       "  <thead>\n",
       "    <tr style=\"text-align: right;\">\n",
       "      <th></th>\n",
       "      <th>MURDER</th>\n",
       "      <th>ASSAULT</th>\n",
       "      <th>URBANPOP</th>\n",
       "      <th>FRAUD</th>\n",
       "      <th>URBANPOP_ZSCORE</th>\n",
       "    </tr>\n",
       "  </thead>\n",
       "  <tbody>\n",
       "    <tr>\n",
       "      <th>Vermont</th>\n",
       "      <td>2.2</td>\n",
       "      <td>48</td>\n",
       "      <td>32</td>\n",
       "      <td>11.2</td>\n",
       "      <td>-2.340661</td>\n",
       "    </tr>\n",
       "  </tbody>\n",
       "</table>\n",
       "</div>"
      ],
      "text/plain": [
       "         MURDER  ASSAULT  URBANPOP  FRAUD  URBANPOP_ZSCORE\n",
       "Vermont     2.2       48        32   11.2        -2.340661"
      ]
     },
     "execution_count": 46,
     "metadata": {},
     "output_type": "execute_result"
    }
   ],
   "source": [
    "df[(df['URBANPOP_ZSCORE'] > 2) | (df['URBANPOP_ZSCORE'] < -2)]"
   ]
  },
  {
   "cell_type": "markdown",
   "id": "e7819708",
   "metadata": {},
   "source": [
    "### Question 5: \n",
    "    Analyse the different statistics Range, Standard Deviation, and Variance of data in UrbanPop & Assault \n",
    "    and print their values - Beginner "
   ]
  },
  {
   "cell_type": "code",
   "execution_count": 67,
   "id": "b50a4804",
   "metadata": {},
   "outputs": [
    {
     "data": {
      "text/html": [
       "<div>\n",
       "<style scoped>\n",
       "    .dataframe tbody tr th:only-of-type {\n",
       "        vertical-align: middle;\n",
       "    }\n",
       "\n",
       "    .dataframe tbody tr th {\n",
       "        vertical-align: top;\n",
       "    }\n",
       "\n",
       "    .dataframe thead th {\n",
       "        text-align: right;\n",
       "    }\n",
       "</style>\n",
       "<table border=\"1\" class=\"dataframe\">\n",
       "  <thead>\n",
       "    <tr style=\"text-align: right;\">\n",
       "      <th></th>\n",
       "      <th>std</th>\n",
       "      <th>var</th>\n",
       "      <th>min</th>\n",
       "      <th>max</th>\n",
       "    </tr>\n",
       "  </thead>\n",
       "  <tbody>\n",
       "    <tr>\n",
       "      <th>URBANPOP</th>\n",
       "      <td>14.474763</td>\n",
       "      <td>209.518776</td>\n",
       "      <td>32</td>\n",
       "      <td>91</td>\n",
       "    </tr>\n",
       "    <tr>\n",
       "      <th>ASSAULT</th>\n",
       "      <td>83.337661</td>\n",
       "      <td>6945.165714</td>\n",
       "      <td>45</td>\n",
       "      <td>337</td>\n",
       "    </tr>\n",
       "  </tbody>\n",
       "</table>\n",
       "</div>"
      ],
      "text/plain": [
       "                std          var  min  max\n",
       "URBANPOP  14.474763   209.518776   32   91\n",
       "ASSAULT   83.337661  6945.165714   45  337"
      ]
     },
     "execution_count": 67,
     "metadata": {},
     "output_type": "execute_result"
    }
   ],
   "source": [
    "pd.concat([df[['URBANPOP','ASSAULT']].agg(['std','var']).T\n",
    "           ,df[['URBANPOP','ASSAULT']].min(),df[['URBANPOP','ASSAULT']].max()],axis=1).rename(columns={0:'min',1:'max'})"
   ]
  },
  {
   "cell_type": "code",
   "execution_count": 69,
   "id": "3ce39cb0",
   "metadata": {},
   "outputs": [
    {
     "name": "stdout",
     "output_type": "stream",
     "text": [
      "59\n",
      "292\n"
     ]
    }
   ],
   "source": [
    "print(np.ptp(df['URBANPOP']))\n",
    "print(np.ptp(df['ASSAULT']))"
   ]
  },
  {
   "cell_type": "code",
   "execution_count": null,
   "id": "2caccd17",
   "metadata": {},
   "outputs": [],
   "source": []
  }
 ],
 "metadata": {
  "kernelspec": {
   "display_name": "Python 3",
   "language": "python",
   "name": "python3"
  },
  "language_info": {
   "codemirror_mode": {
    "name": "ipython",
    "version": 3
   },
   "file_extension": ".py",
   "mimetype": "text/x-python",
   "name": "python",
   "nbconvert_exporter": "python",
   "pygments_lexer": "ipython3",
   "version": "3.8.8"
  }
 },
 "nbformat": 4,
 "nbformat_minor": 5
}
