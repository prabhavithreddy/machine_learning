{
 "cells": [
  {
   "cell_type": "code",
   "execution_count": 1,
   "id": "3def4d31",
   "metadata": {},
   "outputs": [],
   "source": [
    "import numpy as np\n",
    "import pandas as pd\n",
    "import matplotlib.pyplot as plt\n",
    "import seaborn as sns\n",
    "import warnings\n",
    "warnings.filterwarnings('ignore')\n",
    "from scipy.stats import norm,t\n",
    "import statsmodels.api as sm\n",
    "from scipy import stats "
   ]
  },
  {
   "cell_type": "markdown",
   "id": "ba6f380e",
   "metadata": {},
   "source": [
    "### Question 1 - Beginner\n",
    "    Tasks to be performed:\n",
    "    1. Find the population mean and standard deviation for peakrpm column.\n",
    "    2. Draw a sample of 25 from the population of peakrpm column and calculate the sample mean and\n",
    "    standard deviation using Pandas."
   ]
  },
  {
   "cell_type": "code",
   "execution_count": 2,
   "id": "401e386a",
   "metadata": {},
   "outputs": [
    {
     "data": {
      "text/html": [
       "<div>\n",
       "<style scoped>\n",
       "    .dataframe tbody tr th:only-of-type {\n",
       "        vertical-align: middle;\n",
       "    }\n",
       "\n",
       "    .dataframe tbody tr th {\n",
       "        vertical-align: top;\n",
       "    }\n",
       "\n",
       "    .dataframe thead th {\n",
       "        text-align: right;\n",
       "    }\n",
       "</style>\n",
       "<table border=\"1\" class=\"dataframe\">\n",
       "  <thead>\n",
       "    <tr style=\"text-align: right;\">\n",
       "      <th></th>\n",
       "      <th>carname</th>\n",
       "      <th>fueltype</th>\n",
       "      <th>aspiration</th>\n",
       "      <th>doornumber</th>\n",
       "      <th>carbody</th>\n",
       "      <th>drivewheel</th>\n",
       "      <th>enginelocation</th>\n",
       "      <th>wheelbase</th>\n",
       "      <th>carlength</th>\n",
       "      <th>carwidth</th>\n",
       "      <th>...</th>\n",
       "      <th>enginesize</th>\n",
       "      <th>fuelsystem</th>\n",
       "      <th>boreratio</th>\n",
       "      <th>stroke</th>\n",
       "      <th>compressionratio</th>\n",
       "      <th>horsepower</th>\n",
       "      <th>peakrpm</th>\n",
       "      <th>citympg</th>\n",
       "      <th>highwaympg</th>\n",
       "      <th>price</th>\n",
       "    </tr>\n",
       "  </thead>\n",
       "  <tbody>\n",
       "    <tr>\n",
       "      <th>0</th>\n",
       "      <td>alfa-romero giulia</td>\n",
       "      <td>gas</td>\n",
       "      <td>std</td>\n",
       "      <td>two</td>\n",
       "      <td>convertible</td>\n",
       "      <td>rwd</td>\n",
       "      <td>front</td>\n",
       "      <td>88.6</td>\n",
       "      <td>168.8</td>\n",
       "      <td>64.1</td>\n",
       "      <td>...</td>\n",
       "      <td>130.0</td>\n",
       "      <td>mpfi</td>\n",
       "      <td>3.47</td>\n",
       "      <td>2.68</td>\n",
       "      <td>9.0</td>\n",
       "      <td>111</td>\n",
       "      <td>5000</td>\n",
       "      <td>21</td>\n",
       "      <td>27</td>\n",
       "      <td>13495.0</td>\n",
       "    </tr>\n",
       "    <tr>\n",
       "      <th>1</th>\n",
       "      <td>alfa-romero stelvio</td>\n",
       "      <td>gas</td>\n",
       "      <td>std</td>\n",
       "      <td>two</td>\n",
       "      <td>convertible</td>\n",
       "      <td>rwd</td>\n",
       "      <td>front</td>\n",
       "      <td>88.6</td>\n",
       "      <td>168.8</td>\n",
       "      <td>64.1</td>\n",
       "      <td>...</td>\n",
       "      <td>130.0</td>\n",
       "      <td>mpfi</td>\n",
       "      <td>3.47</td>\n",
       "      <td>2.68</td>\n",
       "      <td>9.0</td>\n",
       "      <td>111</td>\n",
       "      <td>5000</td>\n",
       "      <td>21</td>\n",
       "      <td>27</td>\n",
       "      <td>16500.0</td>\n",
       "    </tr>\n",
       "    <tr>\n",
       "      <th>2</th>\n",
       "      <td>alfa-romero Quadrifoglio</td>\n",
       "      <td>gas</td>\n",
       "      <td>std</td>\n",
       "      <td>two</td>\n",
       "      <td>hatchback</td>\n",
       "      <td>rwd</td>\n",
       "      <td>front</td>\n",
       "      <td>94.5</td>\n",
       "      <td>171.2</td>\n",
       "      <td>65.5</td>\n",
       "      <td>...</td>\n",
       "      <td>152.0</td>\n",
       "      <td>mpfi</td>\n",
       "      <td>2.68</td>\n",
       "      <td>3.47</td>\n",
       "      <td>9.0</td>\n",
       "      <td>154</td>\n",
       "      <td>5000</td>\n",
       "      <td>19</td>\n",
       "      <td>26</td>\n",
       "      <td>16500.0</td>\n",
       "    </tr>\n",
       "    <tr>\n",
       "      <th>3</th>\n",
       "      <td>audi 100 ls</td>\n",
       "      <td>gas</td>\n",
       "      <td>std</td>\n",
       "      <td>four</td>\n",
       "      <td>sedan</td>\n",
       "      <td>fwd</td>\n",
       "      <td>front</td>\n",
       "      <td>99.8</td>\n",
       "      <td>176.6</td>\n",
       "      <td>66.2</td>\n",
       "      <td>...</td>\n",
       "      <td>109.0</td>\n",
       "      <td>mpfi</td>\n",
       "      <td>3.19</td>\n",
       "      <td>3.40</td>\n",
       "      <td>10.0</td>\n",
       "      <td>102</td>\n",
       "      <td>5500</td>\n",
       "      <td>24</td>\n",
       "      <td>30</td>\n",
       "      <td>13950.0</td>\n",
       "    </tr>\n",
       "    <tr>\n",
       "      <th>4</th>\n",
       "      <td>audi 100ls</td>\n",
       "      <td>gas</td>\n",
       "      <td>std</td>\n",
       "      <td>four</td>\n",
       "      <td>sedan</td>\n",
       "      <td>4wd</td>\n",
       "      <td>front</td>\n",
       "      <td>99.4</td>\n",
       "      <td>176.6</td>\n",
       "      <td>66.4</td>\n",
       "      <td>...</td>\n",
       "      <td>136.0</td>\n",
       "      <td>mpfi</td>\n",
       "      <td>3.19</td>\n",
       "      <td>3.40</td>\n",
       "      <td>8.0</td>\n",
       "      <td>115</td>\n",
       "      <td>5500</td>\n",
       "      <td>18</td>\n",
       "      <td>22</td>\n",
       "      <td>17450.0</td>\n",
       "    </tr>\n",
       "  </tbody>\n",
       "</table>\n",
       "<p>5 rows × 24 columns</p>\n",
       "</div>"
      ],
      "text/plain": [
       "                    carname fueltype aspiration doornumber      carbody  \\\n",
       "0        alfa-romero giulia      gas        std        two  convertible   \n",
       "1       alfa-romero stelvio      gas        std        two  convertible   \n",
       "2  alfa-romero Quadrifoglio      gas        std        two    hatchback   \n",
       "3               audi 100 ls      gas        std       four        sedan   \n",
       "4                audi 100ls      gas        std       four        sedan   \n",
       "\n",
       "  drivewheel enginelocation  wheelbase  carlength  carwidth  ...  enginesize  \\\n",
       "0        rwd          front       88.6      168.8      64.1  ...       130.0   \n",
       "1        rwd          front       88.6      168.8      64.1  ...       130.0   \n",
       "2        rwd          front       94.5      171.2      65.5  ...       152.0   \n",
       "3        fwd          front       99.8      176.6      66.2  ...       109.0   \n",
       "4        4wd          front       99.4      176.6      66.4  ...       136.0   \n",
       "\n",
       "   fuelsystem boreratio stroke  compressionratio horsepower  peakrpm  citympg  \\\n",
       "0        mpfi      3.47   2.68               9.0        111     5000       21   \n",
       "1        mpfi      3.47   2.68               9.0        111     5000       21   \n",
       "2        mpfi      2.68   3.47               9.0        154     5000       19   \n",
       "3        mpfi      3.19   3.40              10.0        102     5500       24   \n",
       "4        mpfi      3.19   3.40               8.0        115     5500       18   \n",
       "\n",
       "   highwaympg    price  \n",
       "0          27  13495.0  \n",
       "1          27  16500.0  \n",
       "2          26  16500.0  \n",
       "3          30  13950.0  \n",
       "4          22  17450.0  \n",
       "\n",
       "[5 rows x 24 columns]"
      ]
     },
     "execution_count": 2,
     "metadata": {},
     "output_type": "execute_result"
    }
   ],
   "source": [
    "df = pd.read_csv('Cars.csv')\n",
    "df.head()"
   ]
  },
  {
   "cell_type": "code",
   "execution_count": 19,
   "id": "2f8eebf1",
   "metadata": {},
   "outputs": [
    {
     "data": {
      "text/plain": [
       "mean    5125.121951\n",
       "std      476.985643\n",
       "Name: peakrpm, dtype: float64"
      ]
     },
     "execution_count": 19,
     "metadata": {},
     "output_type": "execute_result"
    }
   ],
   "source": [
    "df['peakrpm'].agg(['mean', 'std'])"
   ]
  },
  {
   "cell_type": "code",
   "execution_count": 23,
   "id": "5c5e006c",
   "metadata": {},
   "outputs": [
    {
     "data": {
      "text/html": [
       "<div>\n",
       "<style scoped>\n",
       "    .dataframe tbody tr th:only-of-type {\n",
       "        vertical-align: middle;\n",
       "    }\n",
       "\n",
       "    .dataframe tbody tr th {\n",
       "        vertical-align: top;\n",
       "    }\n",
       "\n",
       "    .dataframe thead th {\n",
       "        text-align: right;\n",
       "    }\n",
       "</style>\n",
       "<table border=\"1\" class=\"dataframe\">\n",
       "  <thead>\n",
       "    <tr style=\"text-align: right;\">\n",
       "      <th></th>\n",
       "      <th>peakrpm</th>\n",
       "    </tr>\n",
       "  </thead>\n",
       "  <tbody>\n",
       "    <tr>\n",
       "      <th>mean</th>\n",
       "      <td>5146.000000</td>\n",
       "    </tr>\n",
       "    <tr>\n",
       "      <th>std</th>\n",
       "      <td>549.037036</td>\n",
       "    </tr>\n",
       "  </tbody>\n",
       "</table>\n",
       "</div>"
      ],
      "text/plain": [
       "          peakrpm\n",
       "mean  5146.000000\n",
       "std    549.037036"
      ]
     },
     "execution_count": 23,
     "metadata": {},
     "output_type": "execute_result"
    }
   ],
   "source": [
    "sample_peakrpm = df[['peakrpm']].sample(25)\n",
    "sample_peakrpm.agg(['mean', 'std'])"
   ]
  },
  {
   "cell_type": "markdown",
   "id": "cbc289a4",
   "metadata": {},
   "source": [
    "### Question 2 - Beginner\n",
    "    Tasks to be performed:\n",
    "    1. Calculate the margin of error for 95% confidence level for peakrpm column using the standard deviation\n",
    "    of the population.\n",
    "    2. Calculate the confidence interval for the same column."
   ]
  },
  {
   "cell_type": "code",
   "execution_count": 28,
   "id": "f6a5628e",
   "metadata": {},
   "outputs": [
    {
     "name": "stdout",
     "output_type": "stream",
     "text": [
      "sd: 476.98564305694646\n",
      "Margin of Error: 156.91431299719974\n"
     ]
    }
   ],
   "source": [
    "from scipy.stats import norm\n",
    "peakrpm_std = df['peakrpm'].std()\n",
    "print(f\"sd: {peakrpm_std}\")\n",
    "me = norm.ppf(.95) * (peakrpm_std/np.sqrt(sample_peakrpm.shape[0]))\n",
    "print(f\"Margin of Error: {me}\")"
   ]
  },
  {
   "cell_type": "code",
   "execution_count": 29,
   "id": "7f406d5e",
   "metadata": {},
   "outputs": [
    {
     "name": "stdout",
     "output_type": "stream",
     "text": [
      "mean: 5125.121951219512\n"
     ]
    }
   ],
   "source": [
    "mean = df['peakrpm'].mean()\n",
    "print(f\"mean: {mean}\")"
   ]
  },
  {
   "cell_type": "code",
   "execution_count": 30,
   "id": "1b831730",
   "metadata": {},
   "outputs": [
    {
     "name": "stdout",
     "output_type": "stream",
     "text": [
      "CI: [4968.207638222312,5282.036264216712]\n"
     ]
    }
   ],
   "source": [
    "print(f\"CI: [{mean-me},{mean+me}]\")"
   ]
  },
  {
   "cell_type": "markdown",
   "id": "63f02da3",
   "metadata": {},
   "source": [
    "### Question 3 - Beginner\n",
    "    Tasks to be performed:\n",
    "    1. Calculate the margin of error for 95% confidence level for peakrpm column using the standard deviation\n",
    "    of the sample.\n",
    "    2. Calculate the confidence interval for the same column"
   ]
  },
  {
   "cell_type": "code",
   "execution_count": 49,
   "id": "5a71ad34",
   "metadata": {},
   "outputs": [
    {
     "name": "stdout",
     "output_type": "stream",
     "text": [
      "std: 490.6458328910308\n"
     ]
    }
   ],
   "source": [
    "sample = df.sample(25, random_state=1)\n",
    "peakrpm_std = sample['peakrpm'].std()\n",
    "print(f'std: {peakrpm_std}')"
   ]
  },
  {
   "cell_type": "code",
   "execution_count": 54,
   "id": "aed1610c",
   "metadata": {},
   "outputs": [
    {
     "name": "stdout",
     "output_type": "stream",
     "text": [
      "me: 167.88743261510004\n"
     ]
    }
   ],
   "source": [
    "me = t.ppf(q=.95,df=sample.shape[0]-1) * (peakrpm_std/np.sqrt(sample.shape[0]))\n",
    "print(f'me: {me}')"
   ]
  },
  {
   "cell_type": "code",
   "execution_count": 55,
   "id": "37c8f042",
   "metadata": {},
   "outputs": [
    {
     "name": "stdout",
     "output_type": "stream",
     "text": [
      "CI: [5046.1125673849,5381.8874326151]\n"
     ]
    }
   ],
   "source": [
    "mean = sample['peakrpm'].mean()\n",
    "print(f\"CI: [{mean-me},{mean+me}]\")"
   ]
  },
  {
   "cell_type": "markdown",
   "id": "92b513f0",
   "metadata": {},
   "source": [
    "###    Question 4 - Beginner\n",
    "    Create two lists having 7 elements that are positive integer values a=[201,873,667,789,876,567,765] and b=\n",
    "    [678,543,356,123,345,987,876]. Check if there exists a relationship between the means of the two lists.\n",
    "    Tasks to be performed:\n",
    "    1. Determine the Hypotheses\n",
    "    2. Perform a Statistical Test for Population Means\n",
    "    3. Find P-value and conclude the Hypotheses"
   ]
  },
  {
   "cell_type": "code",
   "execution_count": 58,
   "id": "4d13bdbc",
   "metadata": {},
   "outputs": [],
   "source": [
    "a=np.array([201,873,667,789,876,567,765])\n",
    "b=np.array([678,543,356,123,345,987,876])"
   ]
  },
  {
   "cell_type": "code",
   "execution_count": 59,
   "id": "245c950a",
   "metadata": {},
   "outputs": [
    {
     "name": "stdout",
     "output_type": "stream",
     "text": [
      "Mean[a]: 676.8571428571429\n",
      "Mean[b]: 558.2857142857143\n"
     ]
    }
   ],
   "source": [
    "print(f\"Mean[a]: {np.mean(a)}\")\n",
    "print(f\"Mean[b]: {np.mean(b)}\")"
   ]
  },
  {
   "cell_type": "code",
   "execution_count": 61,
   "id": "c6dee4dd",
   "metadata": {},
   "outputs": [
    {
     "name": "stdout",
     "output_type": "stream",
     "text": [
      "0.43673938240432864\n",
      "There is no relationship(independent)\n"
     ]
    }
   ],
   "source": [
    "zresult = sm.stats.ttest_ind(a,b,alternative='two-sided')\n",
    "pval = zresult[1]\n",
    "print(pval)\n",
    "\n",
    "\n",
    "if pval<0.05:\n",
    "    print('There exists a relationship')\n",
    "else:\n",
    "    print('There is no relationship(independent)')"
   ]
  },
  {
   "cell_type": "markdown",
   "id": "3d5dbfb3",
   "metadata": {},
   "source": [
    "### Question 5 - Beginner\n",
    "    Dataset Description:\n",
    "    blood_pressure.csv - The dataset contains 5 columns and 120 rows. Here's a brief description of the\n",
    "        \n",
    "    From a given dataset, find out if the overall blood pressure is affected after a certain treatment given to the\n",
    "    patients"
   ]
  },
  {
   "cell_type": "code",
   "execution_count": 2,
   "id": "323bbcac",
   "metadata": {},
   "outputs": [
    {
     "data": {
      "text/html": [
       "<div>\n",
       "<style scoped>\n",
       "    .dataframe tbody tr th:only-of-type {\n",
       "        vertical-align: middle;\n",
       "    }\n",
       "\n",
       "    .dataframe tbody tr th {\n",
       "        vertical-align: top;\n",
       "    }\n",
       "\n",
       "    .dataframe thead th {\n",
       "        text-align: right;\n",
       "    }\n",
       "</style>\n",
       "<table border=\"1\" class=\"dataframe\">\n",
       "  <thead>\n",
       "    <tr style=\"text-align: right;\">\n",
       "      <th></th>\n",
       "      <th>patient</th>\n",
       "      <th>sex</th>\n",
       "      <th>agegrp</th>\n",
       "      <th>bp_before</th>\n",
       "      <th>bp_after</th>\n",
       "    </tr>\n",
       "  </thead>\n",
       "  <tbody>\n",
       "    <tr>\n",
       "      <th>0</th>\n",
       "      <td>1</td>\n",
       "      <td>Male</td>\n",
       "      <td>30-45</td>\n",
       "      <td>143</td>\n",
       "      <td>153</td>\n",
       "    </tr>\n",
       "    <tr>\n",
       "      <th>1</th>\n",
       "      <td>2</td>\n",
       "      <td>Male</td>\n",
       "      <td>30-45</td>\n",
       "      <td>163</td>\n",
       "      <td>170</td>\n",
       "    </tr>\n",
       "    <tr>\n",
       "      <th>2</th>\n",
       "      <td>3</td>\n",
       "      <td>Male</td>\n",
       "      <td>30-45</td>\n",
       "      <td>153</td>\n",
       "      <td>168</td>\n",
       "    </tr>\n",
       "    <tr>\n",
       "      <th>3</th>\n",
       "      <td>4</td>\n",
       "      <td>Male</td>\n",
       "      <td>30-45</td>\n",
       "      <td>153</td>\n",
       "      <td>142</td>\n",
       "    </tr>\n",
       "    <tr>\n",
       "      <th>4</th>\n",
       "      <td>5</td>\n",
       "      <td>Male</td>\n",
       "      <td>30-45</td>\n",
       "      <td>146</td>\n",
       "      <td>141</td>\n",
       "    </tr>\n",
       "  </tbody>\n",
       "</table>\n",
       "</div>"
      ],
      "text/plain": [
       "   patient   sex agegrp  bp_before  bp_after\n",
       "0        1  Male  30-45        143       153\n",
       "1        2  Male  30-45        163       170\n",
       "2        3  Male  30-45        153       168\n",
       "3        4  Male  30-45        153       142\n",
       "4        5  Male  30-45        146       141"
      ]
     },
     "execution_count": 2,
     "metadata": {},
     "output_type": "execute_result"
    }
   ],
   "source": [
    "df = pd.read_csv('blood_pressure.csv')\n",
    "df.head()"
   ]
  },
  {
   "cell_type": "code",
   "execution_count": 3,
   "id": "68a1f41f",
   "metadata": {},
   "outputs": [
    {
     "name": "stdout",
     "output_type": "stream",
     "text": [
      "bp_before_mean: 156.45, bp_after_mean: 151.35833333333332\n"
     ]
    }
   ],
   "source": [
    "#H(0) = There is no significant difference i.e H(0) == 156\n",
    "#H(a) = There is a significant difference i.e. H(a) != 156\n",
    "\n",
    "bp_before_mean = df['bp_before'].mean()\n",
    "bp_after_mean = df['bp_after'].mean()\n",
    "print(f\"bp_before_mean: {bp_before_mean}, bp_after_mean: {bp_after_mean}\")"
   ]
  },
  {
   "cell_type": "code",
   "execution_count": 5,
   "id": "c9550a7a",
   "metadata": {},
   "outputs": [
    {
     "name": "stdout",
     "output_type": "stream",
     "text": [
      "Sample Size: 120\n"
     ]
    }
   ],
   "source": [
    "n = df.shape[0]\n",
    "print(f'Sample Size: {n}')"
   ]
  },
  {
   "cell_type": "code",
   "execution_count": 24,
   "id": "2db49ca8",
   "metadata": {},
   "outputs": [],
   "source": [
    "def get_p_value(p_mean, s_mean, p_std, n):\n",
    "    se = p_std\n",
    "    z = (s_mean - p_mean)/se\n",
    "    z = np.round(z,3)\n",
    "    print(f\"z:{z}\")\n",
    "    print(f\"p-value left\", (norm.cdf(z))*2)"
   ]
  },
  {
   "cell_type": "code",
   "execution_count": 30,
   "id": "c56353a2",
   "metadata": {},
   "outputs": [],
   "source": [
    "def get_p_value(p_mean, s_mean, std, n):\n",
    "    se = std/np.sqrt(n)\n",
    "    z = (s_mean - p_mean)/se\n",
    "    z = np.round(z,3)\n",
    "    print(f\"z:{z}\")\n",
    "    #print(f\"p-value left\", (norm.cdf(z))*2)"
   ]
  },
  {
   "cell_type": "code",
   "execution_count": 25,
   "id": "28b0cdd2",
   "metadata": {},
   "outputs": [
    {
     "name": "stdout",
     "output_type": "stream",
     "text": [
      "z:-0.447\n",
      "p-value left 0.6548750598940647\n"
     ]
    }
   ],
   "source": [
    "get_p_value(bp_before_mean, bp_after_mean, df['bp_before'].std(), n)"
   ]
  },
  {
   "cell_type": "code",
   "execution_count": null,
   "id": "04cbd8b4",
   "metadata": {},
   "outputs": [],
   "source": [
    "#Failed to reject null hypothesis"
   ]
  },
  {
   "cell_type": "code",
   "execution_count": 28,
   "id": "9a34219d",
   "metadata": {},
   "outputs": [
    {
     "data": {
      "text/plain": [
       "Ttest_indResult(statistic=3.0669836819036274, pvalue=0.002412277478078891)"
      ]
     },
     "execution_count": 28,
     "metadata": {},
     "output_type": "execute_result"
    }
   ],
   "source": [
    "stats.ttest_ind(df['bp_before'], df['bp_after'])"
   ]
  },
  {
   "cell_type": "code",
   "execution_count": 32,
   "id": "eac419fd",
   "metadata": {},
   "outputs": [
    {
     "name": "stdout",
     "output_type": "stream",
     "text": [
      "z:-4.897\n"
     ]
    }
   ],
   "source": [
    "get_p_value(bp_before_mean, bp_after_mean, df['bp_after'].std(), n)"
   ]
  },
  {
   "cell_type": "code",
   "execution_count": 33,
   "id": "b2209f2f",
   "metadata": {},
   "outputs": [
    {
     "data": {
      "text/plain": [
       "1.5477110261170384e-06"
      ]
     },
     "execution_count": 33,
     "metadata": {},
     "output_type": "execute_result"
    }
   ],
   "source": [
    "t.cdf(-4.897, 119)"
   ]
  },
  {
   "cell_type": "markdown",
   "id": "4c70df2f",
   "metadata": {},
   "source": [
    "### Question 6 - Beginner\n",
    "    Dataset Description:\n",
    "    admission.csv - The dataset contains 4 columns and 400 rows. Here's a brief description of the columns in\n",
    "    the dataset:"
   ]
  },
  {
   "cell_type": "code",
   "execution_count": 35,
   "id": "83d72a45",
   "metadata": {},
   "outputs": [
    {
     "data": {
      "text/html": [
       "<div>\n",
       "<style scoped>\n",
       "    .dataframe tbody tr th:only-of-type {\n",
       "        vertical-align: middle;\n",
       "    }\n",
       "\n",
       "    .dataframe tbody tr th {\n",
       "        vertical-align: top;\n",
       "    }\n",
       "\n",
       "    .dataframe thead th {\n",
       "        text-align: right;\n",
       "    }\n",
       "</style>\n",
       "<table border=\"1\" class=\"dataframe\">\n",
       "  <thead>\n",
       "    <tr style=\"text-align: right;\">\n",
       "      <th></th>\n",
       "      <th>admit</th>\n",
       "      <th>gre</th>\n",
       "      <th>gpa</th>\n",
       "      <th>rank</th>\n",
       "    </tr>\n",
       "  </thead>\n",
       "  <tbody>\n",
       "    <tr>\n",
       "      <th>0</th>\n",
       "      <td>0.0</td>\n",
       "      <td>380.0</td>\n",
       "      <td>3.61</td>\n",
       "      <td>3.0</td>\n",
       "    </tr>\n",
       "    <tr>\n",
       "      <th>1</th>\n",
       "      <td>1.0</td>\n",
       "      <td>660.0</td>\n",
       "      <td>3.67</td>\n",
       "      <td>3.0</td>\n",
       "    </tr>\n",
       "    <tr>\n",
       "      <th>2</th>\n",
       "      <td>1.0</td>\n",
       "      <td>800.0</td>\n",
       "      <td>4.00</td>\n",
       "      <td>1.0</td>\n",
       "    </tr>\n",
       "    <tr>\n",
       "      <th>3</th>\n",
       "      <td>1.0</td>\n",
       "      <td>640.0</td>\n",
       "      <td>3.19</td>\n",
       "      <td>4.0</td>\n",
       "    </tr>\n",
       "    <tr>\n",
       "      <th>4</th>\n",
       "      <td>0.0</td>\n",
       "      <td>520.0</td>\n",
       "      <td>2.93</td>\n",
       "      <td>4.0</td>\n",
       "    </tr>\n",
       "  </tbody>\n",
       "</table>\n",
       "</div>"
      ],
      "text/plain": [
       "   admit    gre   gpa  rank\n",
       "0    0.0  380.0  3.61   3.0\n",
       "1    1.0  660.0  3.67   3.0\n",
       "2    1.0  800.0  4.00   1.0\n",
       "3    1.0  640.0  3.19   4.0\n",
       "4    0.0  520.0  2.93   4.0"
      ]
     },
     "execution_count": 35,
     "metadata": {},
     "output_type": "execute_result"
    }
   ],
   "source": [
    "df = pd.read_csv('admission.csv')\n",
    "df.head()"
   ]
  },
  {
   "cell_type": "code",
   "execution_count": 36,
   "id": "c7e2962d",
   "metadata": {},
   "outputs": [],
   "source": [
    "df_without_admit = df[df['admit'] == 0]\n",
    "df_with_admit = df[df['admit'] == 1]"
   ]
  },
  {
   "cell_type": "code",
   "execution_count": 38,
   "id": "1869130e",
   "metadata": {},
   "outputs": [
    {
     "data": {
      "text/html": [
       "<div>\n",
       "<style scoped>\n",
       "    .dataframe tbody tr th:only-of-type {\n",
       "        vertical-align: middle;\n",
       "    }\n",
       "\n",
       "    .dataframe tbody tr th {\n",
       "        vertical-align: top;\n",
       "    }\n",
       "\n",
       "    .dataframe thead th {\n",
       "        text-align: right;\n",
       "    }\n",
       "</style>\n",
       "<table border=\"1\" class=\"dataframe\">\n",
       "  <thead>\n",
       "    <tr style=\"text-align: right;\">\n",
       "      <th></th>\n",
       "      <th>admit</th>\n",
       "      <th>gre</th>\n",
       "      <th>gpa</th>\n",
       "      <th>rank</th>\n",
       "    </tr>\n",
       "  </thead>\n",
       "  <tbody>\n",
       "    <tr>\n",
       "      <th>0</th>\n",
       "      <td>0.0</td>\n",
       "      <td>380.0</td>\n",
       "      <td>3.61</td>\n",
       "      <td>3.0</td>\n",
       "    </tr>\n",
       "    <tr>\n",
       "      <th>4</th>\n",
       "      <td>0.0</td>\n",
       "      <td>520.0</td>\n",
       "      <td>2.93</td>\n",
       "      <td>4.0</td>\n",
       "    </tr>\n",
       "    <tr>\n",
       "      <th>7</th>\n",
       "      <td>0.0</td>\n",
       "      <td>400.0</td>\n",
       "      <td>3.08</td>\n",
       "      <td>2.0</td>\n",
       "    </tr>\n",
       "    <tr>\n",
       "      <th>9</th>\n",
       "      <td>0.0</td>\n",
       "      <td>700.0</td>\n",
       "      <td>3.92</td>\n",
       "      <td>2.0</td>\n",
       "    </tr>\n",
       "    <tr>\n",
       "      <th>10</th>\n",
       "      <td>0.0</td>\n",
       "      <td>800.0</td>\n",
       "      <td>4.00</td>\n",
       "      <td>4.0</td>\n",
       "    </tr>\n",
       "  </tbody>\n",
       "</table>\n",
       "</div>"
      ],
      "text/plain": [
       "    admit    gre   gpa  rank\n",
       "0     0.0  380.0  3.61   3.0\n",
       "4     0.0  520.0  2.93   4.0\n",
       "7     0.0  400.0  3.08   2.0\n",
       "9     0.0  700.0  3.92   2.0\n",
       "10    0.0  800.0  4.00   4.0"
      ]
     },
     "execution_count": 38,
     "metadata": {},
     "output_type": "execute_result"
    }
   ],
   "source": [
    "df_without_admit.head()"
   ]
  },
  {
   "cell_type": "code",
   "execution_count": 39,
   "id": "31d26d5f",
   "metadata": {},
   "outputs": [
    {
     "data": {
      "text/html": [
       "<div>\n",
       "<style scoped>\n",
       "    .dataframe tbody tr th:only-of-type {\n",
       "        vertical-align: middle;\n",
       "    }\n",
       "\n",
       "    .dataframe tbody tr th {\n",
       "        vertical-align: top;\n",
       "    }\n",
       "\n",
       "    .dataframe thead th {\n",
       "        text-align: right;\n",
       "    }\n",
       "</style>\n",
       "<table border=\"1\" class=\"dataframe\">\n",
       "  <thead>\n",
       "    <tr style=\"text-align: right;\">\n",
       "      <th></th>\n",
       "      <th>admit</th>\n",
       "      <th>gre</th>\n",
       "      <th>gpa</th>\n",
       "      <th>rank</th>\n",
       "    </tr>\n",
       "  </thead>\n",
       "  <tbody>\n",
       "    <tr>\n",
       "      <th>1</th>\n",
       "      <td>1.0</td>\n",
       "      <td>660.0</td>\n",
       "      <td>3.67</td>\n",
       "      <td>3.0</td>\n",
       "    </tr>\n",
       "    <tr>\n",
       "      <th>2</th>\n",
       "      <td>1.0</td>\n",
       "      <td>800.0</td>\n",
       "      <td>4.00</td>\n",
       "      <td>1.0</td>\n",
       "    </tr>\n",
       "    <tr>\n",
       "      <th>3</th>\n",
       "      <td>1.0</td>\n",
       "      <td>640.0</td>\n",
       "      <td>3.19</td>\n",
       "      <td>4.0</td>\n",
       "    </tr>\n",
       "    <tr>\n",
       "      <th>5</th>\n",
       "      <td>1.0</td>\n",
       "      <td>760.0</td>\n",
       "      <td>3.00</td>\n",
       "      <td>2.0</td>\n",
       "    </tr>\n",
       "    <tr>\n",
       "      <th>6</th>\n",
       "      <td>1.0</td>\n",
       "      <td>560.0</td>\n",
       "      <td>2.98</td>\n",
       "      <td>1.0</td>\n",
       "    </tr>\n",
       "  </tbody>\n",
       "</table>\n",
       "</div>"
      ],
      "text/plain": [
       "   admit    gre   gpa  rank\n",
       "1    1.0  660.0  3.67   3.0\n",
       "2    1.0  800.0  4.00   1.0\n",
       "3    1.0  640.0  3.19   4.0\n",
       "5    1.0  760.0  3.00   2.0\n",
       "6    1.0  560.0  2.98   1.0"
      ]
     },
     "execution_count": 39,
     "metadata": {},
     "output_type": "execute_result"
    }
   ],
   "source": [
    "df_with_admit.head()"
   ]
  },
  {
   "cell_type": "markdown",
   "id": "4705dda5",
   "metadata": {},
   "source": [
    "### Task 1:\n",
    "    The hypothesis is stated as follows: \n",
    "    Null - The gpa doesn't affect student rank \n",
    "    Alternative - The gpa affects the student rank\n"
   ]
  },
  {
   "cell_type": "code",
   "execution_count": 44,
   "id": "34690159",
   "metadata": {},
   "outputs": [
    {
     "name": "stdout",
     "output_type": "stream",
     "text": [
      "17.773605488192924 0.0\n",
      "Reject Null Hypothesis\n"
     ]
    }
   ],
   "source": [
    "t, p_value = stats.ttest_ind(df['gpa'], df['rank'])\n",
    "print(t, np.round(p_value,3))\n",
    "if p_value < 0.05:\n",
    "    print('Reject Null Hypothesis')\n",
    "else:\n",
    "    print('Failed to reject Null Hypothesis')"
   ]
  },
  {
   "cell_type": "markdown",
   "id": "235e1180",
   "metadata": {},
   "source": [
    "### Question 7 - Beginner\n",
    "    A professor wants to find out if the average marks scored by a class of 120 students are 60. He picks 10\n",
    "    students in the class whose marks he remembers in his head: 23, 45, 76, 42, 55, 67, 80, 38, 51, 49. How\n",
    "    does he determine whether the average marks are close to 60 or not?Take a significance level of 5%.\n",
    "    Tasks to be performed:\n",
    "    1. Determine the Hypotheses\n",
    "    2. Perform a Statistical Test for Population Means\n",
    "    3. Find P-value and conclude the Hypotheses"
   ]
  },
  {
   "cell_type": "code",
   "execution_count": 3,
   "id": "03fc6ad7",
   "metadata": {},
   "outputs": [
    {
     "name": "stdout",
     "output_type": "stream",
     "text": [
      "mean: 52.6\n",
      "std: 16.692513291892265\n"
     ]
    }
   ],
   "source": [
    "# H(0) = 60\n",
    "# H(a) != 60\n",
    "students = np.array([23, 45, 76, 42, 55, 67, 80, 38, 51, 49])\n",
    "mean = students.mean()\n",
    "std = students.std()\n",
    "print(f\"mean: {mean}\")\n",
    "print(f\"std: {std}\")"
   ]
  },
  {
   "cell_type": "code",
   "execution_count": 23,
   "id": "f2c9b1f4",
   "metadata": {},
   "outputs": [
    {
     "name": "stdout",
     "output_type": "stream",
     "text": [
      "se: 5.278636187501464\n"
     ]
    }
   ],
   "source": [
    "se = std/np.sqrt(len(students))\n",
    "print(f'se: {se}')"
   ]
  },
  {
   "cell_type": "code",
   "execution_count": 24,
   "id": "a4ff385d",
   "metadata": {},
   "outputs": [
    {
     "name": "stdout",
     "output_type": "stream",
     "text": [
      "z: -1.4018772533559734\n"
     ]
    },
    {
     "data": {
      "text/plain": [
       "0.19444979476862795"
      ]
     },
     "execution_count": 24,
     "metadata": {},
     "output_type": "execute_result"
    }
   ],
   "source": [
    "t = (mean - 60)/se\n",
    "print(f\"z: {z}\")\n",
    "p_value = stats.t.cdf(np.round(z,3), 9)\n",
    "p_value*2"
   ]
  },
  {
   "cell_type": "markdown",
   "id": "370ac39e",
   "metadata": {},
   "source": [
    "### Question 8 - Beginner\n",
    "    Dataset Description:\n",
    "    survey.csv - The dataset contains 27 columns. Here's a brief description of 4 columns in the dataset:\n",
    "    Age - Age of each person\n",
    "    Gender - Gender of each person\n",
    "    Country - Nationality of each person\n",
    "    self_employed - Whether the person is self employed or not\n",
    "    family_history - Whether the person has a family history of mental illness\n",
    "    treatment - Whether the person has taken treatment for mental illness\n",
    "    Using given a dataset, find out if there is any association between having a family history of mental illness\n",
    "    and having a mental illness.\n",
    "    Tasks to be performed:\n",
    "    1. Load the data\n",
    "    2. Replace the yes/no responses in the treatment and family_history columns with binary 1 and 0\n",
    "    3. Perform an independent sample test to validate the hypothesis taking a a significance level of 5%\n"
   ]
  },
  {
   "cell_type": "code",
   "execution_count": 34,
   "id": "af58d0d3",
   "metadata": {},
   "outputs": [
    {
     "data": {
      "text/html": [
       "<div>\n",
       "<style scoped>\n",
       "    .dataframe tbody tr th:only-of-type {\n",
       "        vertical-align: middle;\n",
       "    }\n",
       "\n",
       "    .dataframe tbody tr th {\n",
       "        vertical-align: top;\n",
       "    }\n",
       "\n",
       "    .dataframe thead th {\n",
       "        text-align: right;\n",
       "    }\n",
       "</style>\n",
       "<table border=\"1\" class=\"dataframe\">\n",
       "  <thead>\n",
       "    <tr style=\"text-align: right;\">\n",
       "      <th></th>\n",
       "      <th>Age</th>\n",
       "      <th>Gender</th>\n",
       "      <th>Country</th>\n",
       "      <th>self_employed</th>\n",
       "      <th>family_history</th>\n",
       "      <th>treatment</th>\n",
       "    </tr>\n",
       "  </thead>\n",
       "  <tbody>\n",
       "    <tr>\n",
       "      <th>0</th>\n",
       "      <td>37</td>\n",
       "      <td>female</td>\n",
       "      <td>United States</td>\n",
       "      <td>NaN</td>\n",
       "      <td>No</td>\n",
       "      <td>Yes</td>\n",
       "    </tr>\n",
       "    <tr>\n",
       "      <th>1</th>\n",
       "      <td>44</td>\n",
       "      <td>male</td>\n",
       "      <td>United States</td>\n",
       "      <td>NaN</td>\n",
       "      <td>No</td>\n",
       "      <td>No</td>\n",
       "    </tr>\n",
       "    <tr>\n",
       "      <th>2</th>\n",
       "      <td>32</td>\n",
       "      <td>male</td>\n",
       "      <td>Canada</td>\n",
       "      <td>NaN</td>\n",
       "      <td>No</td>\n",
       "      <td>No</td>\n",
       "    </tr>\n",
       "    <tr>\n",
       "      <th>3</th>\n",
       "      <td>31</td>\n",
       "      <td>male</td>\n",
       "      <td>United Kingdom</td>\n",
       "      <td>NaN</td>\n",
       "      <td>Yes</td>\n",
       "      <td>Yes</td>\n",
       "    </tr>\n",
       "    <tr>\n",
       "      <th>4</th>\n",
       "      <td>31</td>\n",
       "      <td>male</td>\n",
       "      <td>United States</td>\n",
       "      <td>NaN</td>\n",
       "      <td>No</td>\n",
       "      <td>No</td>\n",
       "    </tr>\n",
       "  </tbody>\n",
       "</table>\n",
       "</div>"
      ],
      "text/plain": [
       "   Age  Gender         Country self_employed family_history treatment\n",
       "0   37  female   United States           NaN             No       Yes\n",
       "1   44    male   United States           NaN             No        No\n",
       "2   32    male          Canada           NaN             No        No\n",
       "3   31    male  United Kingdom           NaN            Yes       Yes\n",
       "4   31    male   United States           NaN             No        No"
      ]
     },
     "execution_count": 34,
     "metadata": {},
     "output_type": "execute_result"
    }
   ],
   "source": [
    "df = pd.read_csv('survey.csv')[['Age', 'Gender', 'Country', 'self_employed', 'family_history', 'treatment']]\n",
    "df.head()"
   ]
  },
  {
   "cell_type": "code",
   "execution_count": 37,
   "id": "4b82781d",
   "metadata": {},
   "outputs": [
    {
     "data": {
      "text/html": [
       "<div>\n",
       "<style scoped>\n",
       "    .dataframe tbody tr th:only-of-type {\n",
       "        vertical-align: middle;\n",
       "    }\n",
       "\n",
       "    .dataframe tbody tr th {\n",
       "        vertical-align: top;\n",
       "    }\n",
       "\n",
       "    .dataframe thead th {\n",
       "        text-align: right;\n",
       "    }\n",
       "</style>\n",
       "<table border=\"1\" class=\"dataframe\">\n",
       "  <thead>\n",
       "    <tr style=\"text-align: right;\">\n",
       "      <th></th>\n",
       "      <th>Age</th>\n",
       "      <th>Gender</th>\n",
       "      <th>Country</th>\n",
       "      <th>self_employed</th>\n",
       "      <th>family_history</th>\n",
       "      <th>treatment</th>\n",
       "    </tr>\n",
       "  </thead>\n",
       "  <tbody>\n",
       "    <tr>\n",
       "      <th>0</th>\n",
       "      <td>37</td>\n",
       "      <td>female</td>\n",
       "      <td>United States</td>\n",
       "      <td>NaN</td>\n",
       "      <td>0</td>\n",
       "      <td>1</td>\n",
       "    </tr>\n",
       "    <tr>\n",
       "      <th>1</th>\n",
       "      <td>44</td>\n",
       "      <td>male</td>\n",
       "      <td>United States</td>\n",
       "      <td>NaN</td>\n",
       "      <td>0</td>\n",
       "      <td>0</td>\n",
       "    </tr>\n",
       "    <tr>\n",
       "      <th>2</th>\n",
       "      <td>32</td>\n",
       "      <td>male</td>\n",
       "      <td>Canada</td>\n",
       "      <td>NaN</td>\n",
       "      <td>0</td>\n",
       "      <td>0</td>\n",
       "    </tr>\n",
       "    <tr>\n",
       "      <th>3</th>\n",
       "      <td>31</td>\n",
       "      <td>male</td>\n",
       "      <td>United Kingdom</td>\n",
       "      <td>NaN</td>\n",
       "      <td>1</td>\n",
       "      <td>1</td>\n",
       "    </tr>\n",
       "    <tr>\n",
       "      <th>4</th>\n",
       "      <td>31</td>\n",
       "      <td>male</td>\n",
       "      <td>United States</td>\n",
       "      <td>NaN</td>\n",
       "      <td>0</td>\n",
       "      <td>0</td>\n",
       "    </tr>\n",
       "  </tbody>\n",
       "</table>\n",
       "</div>"
      ],
      "text/plain": [
       "   Age  Gender         Country self_employed  family_history  treatment\n",
       "0   37  female   United States           NaN               0          1\n",
       "1   44    male   United States           NaN               0          0\n",
       "2   32    male          Canada           NaN               0          0\n",
       "3   31    male  United Kingdom           NaN               1          1\n",
       "4   31    male   United States           NaN               0          0"
      ]
     },
     "execution_count": 37,
     "metadata": {},
     "output_type": "execute_result"
    }
   ],
   "source": [
    "df['family_history'] = df['family_history'].apply(lambda fh: 0 if fh == 'No' else 1)\n",
    "df['treatment'] = df['treatment'].apply(lambda t: 0 if t == 'No' else 1)\n",
    "df.head()"
   ]
  },
  {
   "cell_type": "code",
   "execution_count": 42,
   "id": "d3444409",
   "metadata": {},
   "outputs": [
    {
     "name": "stdout",
     "output_type": "stream",
     "text": [
      "-5.84731200268624 4.9957994143242654e-09\n",
      "Reject: There is no association\n"
     ]
    }
   ],
   "source": [
    "h_0= \"There is no association\"\n",
    "h_a = \"There is an association\"\n",
    "z_value, p_value = sm.stats.ztest(df['family_history'], df['treatment'])\n",
    "print(z_value, p_value)\n",
    "if p_value < 0.05:\n",
    "    print(f'Reject: {h_0}')\n",
    "else:\n",
    "    print(f'Failed to Reject: {h_a}')"
   ]
  },
  {
   "cell_type": "markdown",
   "id": "efaebed3",
   "metadata": {},
   "source": [
    "### Question 9 - Beginner\n",
    "    You have been given a dataset, automotive.csv. Find the 67% confidence interval for the prices of\n",
    "    automobiles given in the price column.\n",
    "    Also, calculate the z-critical value and margin of error and check if the true population mean lies within the\n",
    "    confidence interval.\n"
   ]
  },
  {
   "cell_type": "code",
   "execution_count": 44,
   "id": "8d95768c",
   "metadata": {},
   "outputs": [
    {
     "data": {
      "text/plain": [
       "0    13495\n",
       "1    16500\n",
       "2    16500\n",
       "3    13950\n",
       "4    17450\n",
       "Name: price, dtype: int64"
      ]
     },
     "execution_count": 44,
     "metadata": {},
     "output_type": "execute_result"
    }
   ],
   "source": [
    "df = pd.read_csv('automotive_data.csv')\n",
    "df['price'].head()"
   ]
  },
  {
   "cell_type": "code",
   "execution_count": 45,
   "id": "6f36d42e",
   "metadata": {},
   "outputs": [
    {
     "data": {
      "text/plain": [
       "17     36880\n",
       "3      13950\n",
       "32      5399\n",
       "127    34028\n",
       "0      13495\n",
       "Name: price, dtype: int64"
      ]
     },
     "execution_count": 45,
     "metadata": {},
     "output_type": "execute_result"
    }
   ],
   "source": [
    "df_price = df.sample(100)['price']\n",
    "df_price.head()"
   ]
  },
  {
   "cell_type": "code",
   "execution_count": 46,
   "id": "5dff708c",
   "metadata": {},
   "outputs": [
    {
     "name": "stdout",
     "output_type": "stream",
     "text": [
      "0.29483072684227657\n"
     ]
    }
   ],
   "source": [
    "z = (df_price.mean() - df['price'].mean())/(df['price'].std()/10)\n",
    "print(z)"
   ]
  },
  {
   "cell_type": "code",
   "execution_count": 60,
   "id": "adbde9ca",
   "metadata": {},
   "outputs": [
    {
     "name": "stdout",
     "output_type": "stream",
     "text": [
      "0.4399131656732339\n",
      "13395.22\n",
      "13039.673078891285\n",
      "13750.766921108714\n"
     ]
    }
   ],
   "source": [
    "print(norm.ppf(.67))\n",
    "print(df_price.mean())\n",
    "print(df_price.mean() - norm.ppf(.67)* (df['price'].std()/10))\n",
    "print(df_price.mean() + norm.ppf(.67)* (df['price'].std()/10))"
   ]
  },
  {
   "cell_type": "markdown",
   "id": "5b578a70",
   "metadata": {},
   "source": [
    "### Question 10 - Beginner\n",
    "    Clipcart, an online shopping portal, gets over 300 order returns in a day out of 1500. Each customer can\n",
    "    reject only one order in a day. Clipcart assumes that all customers are independent of each other. Find out\n",
    "    the margin of error and also determine an approximate 95% confidence interval for the proportion of orders\n",
    "    cancelled in a day.\n",
    "    Tasks to be performed:\n",
    "    1. Calculate the Margin of Error\n",
    "    2. Get the Confidence Interval\n"
   ]
  },
  {
   "cell_type": "code",
   "execution_count": 71,
   "id": "42279643",
   "metadata": {},
   "outputs": [
    {
     "name": "stdout",
     "output_type": "stream",
     "text": [
      "p: 0.2\n",
      "sd: 0.4\n",
      "z: 1.6448536269514722\n",
      "me: 0.01698797521101845\n"
     ]
    },
    {
     "data": {
      "text/plain": [
       "(0.18301202478898157, 0.21698797521101845)"
      ]
     },
     "execution_count": 71,
     "metadata": {},
     "output_type": "execute_result"
    }
   ],
   "source": [
    "p = 300/1500\n",
    "print(f\"p: {p}\")\n",
    "sd = np.sqrt(p*(1-p))\n",
    "print(f\"sd: {sd}\")\n",
    "z = norm.ppf(.95)\n",
    "print(f\"z: {z}\")\n",
    "me = z * sd/np.sqrt(1500)\n",
    "print(f\"me: {me}\")\n",
    "\n",
    "(p - me, p + me)"
   ]
  },
  {
   "cell_type": "code",
   "execution_count": null,
   "id": "c81abdbb",
   "metadata": {},
   "outputs": [],
   "source": []
  },
  {
   "cell_type": "code",
   "execution_count": null,
   "id": "5cdb41b1",
   "metadata": {},
   "outputs": [],
   "source": []
  }
 ],
 "metadata": {
  "kernelspec": {
   "display_name": "Python 3",
   "language": "python",
   "name": "python3"
  },
  "language_info": {
   "codemirror_mode": {
    "name": "ipython",
    "version": 3
   },
   "file_extension": ".py",
   "mimetype": "text/x-python",
   "name": "python",
   "nbconvert_exporter": "python",
   "pygments_lexer": "ipython3",
   "version": "3.8.8"
  }
 },
 "nbformat": 4,
 "nbformat_minor": 5
}
