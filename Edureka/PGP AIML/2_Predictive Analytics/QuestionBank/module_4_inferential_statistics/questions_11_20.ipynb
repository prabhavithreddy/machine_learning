{
 "cells": [
  {
   "cell_type": "code",
   "execution_count": 12,
   "id": "86c1c531",
   "metadata": {},
   "outputs": [],
   "source": [
    "import numpy as np\n",
    "import pandas as pd\n",
    "import matplotlib.pyplot as plt\n",
    "import seaborn as sns\n",
    "import warnings\n",
    "warnings.filterwarnings('ignore')\n",
    "from scipy.stats import norm,t\n",
    "from scipy import stats\n",
    "import statsmodels.api as sm"
   ]
  },
  {
   "cell_type": "markdown",
   "id": "ed72206a",
   "metadata": {},
   "source": [
    "### Question 11 - Intermediate\n",
    "    A biologist is interested in determining whether a plant seedlings treated with an extract from Myrtle roots\n",
    "    resulted in a lower average height of the seedlings than the standard height of 15.7 cm. The biologist treated\n",
    "    a random sample of n = 33 seedlings with the extract and subsequently obtained the following heights:\n",
    "    11.5 11.8 15.7 16.1 14.1 10.5 9.3 15.0 11.1\n",
    "    15.2 19.0 12.8 12.4 19.2 13.5 12.2 13.3\n",
    "    16.5 13.5 14.4 16.7 10.9 13.0 10.3 15.8\n",
    "    15.1 17.1 13.3 12.4 8.5 14.3 12.9 13.5\n",
    "    Tasks to be performed:\n",
    "    1. Determine the Hypotheses\n",
    "    2. Perform a Statistical Test\n",
    "    3. Find P-value and conclude the Hypotheses"
   ]
  },
  {
   "cell_type": "code",
   "execution_count": 6,
   "id": "bcca00ad",
   "metadata": {},
   "outputs": [
    {
     "name": "stdout",
     "output_type": "stream",
     "text": [
      "sample_mean: 13.663636363636364\n",
      "sample_std: 2.5047613062130147\n"
     ]
    }
   ],
   "source": [
    "sample = np.array([11.5,11.8,15.7,16.1,14.1,10.5,9.3,15.0,11.1\n",
    ",15.2,19.0,12.8,12.4,19.2,13.5,12.2,13.3\n",
    ",16.5,13.5,14.4,16.7,10.9,13.0,10.3,15.8\n",
    ",15.1,17.1,13.3,12.4,8.5,14.3,12.9,13.5])\n",
    "population_mean = 15.7\n",
    "\n",
    "n = len(sample)\n",
    "\n",
    "sample_mean = sample.mean()\n",
    "sample_std = sample.std()\n",
    "\n",
    "print(f\"sample_mean: {sample_mean}\")\n",
    "print(f\"sample_std: {sample_std}\")"
   ]
  },
  {
   "cell_type": "code",
   "execution_count": 32,
   "id": "4a014fcc",
   "metadata": {},
   "outputs": [
    {
     "name": "stdout",
     "output_type": "stream",
     "text": [
      "t-value: -4.599006005602887\n",
      "p_value: 3.1742439570009896e-05\n",
      "Reject Null Hypothesis\n"
     ]
    }
   ],
   "source": [
    "#H(0): Mean height is 15.7\n",
    "#H(a): Mean height is < 15.7\n",
    "\n",
    "se = sample_std/np.sqrt(n-1)\n",
    "\n",
    "t_value = (sample_mean - population_mean)/se#np.round(se,3)\n",
    "print(f\"t-value: {t_value}\")\n",
    "p_value = stats.t.cdf(t_value, n-1)\n",
    "print(f\"p_value: {p_value}\")\n",
    "if p_value < 0.05:\n",
    "    print('Reject Null Hypothesis')\n",
    "else:\n",
    "    print(\"Failed to reject Null Hypothesis\")"
   ]
  },
  {
   "cell_type": "code",
   "execution_count": 29,
   "id": "2ea6ca87",
   "metadata": {},
   "outputs": [
    {
     "data": {
      "text/plain": [
       "Ttest_1sampResult(statistic=-4.599006005602887, pvalue=3.1742439570009896e-05)"
      ]
     },
     "execution_count": 29,
     "metadata": {},
     "output_type": "execute_result"
    }
   ],
   "source": [
    "stats.ttest_1samp(sample, 15.7, alternative='less')"
   ]
  },
  {
   "cell_type": "markdown",
   "id": "5802c629",
   "metadata": {},
   "source": [
    "### Question 12 - Intermediate\n",
    "    An engineer measured the Brinell hardness of 25 pieces of ductile iron that were subcritically annealed. The\n",
    "    resulting data were:\n",
    "    170 167 174 179 179 187 179 183 179\n",
    "    156 163 156 187 156 167 156 174 170\n",
    "    183 179 174 179 170 159 187\n",
    "    The engineer hypothesized that the mean Brinell hardness of all such ductile iron pieces is greater than 170.\n",
    "    Is his hypothesis correct?\n",
    "    Tasks to be performed:\n",
    "    1. Determine the Hypotheses\n",
    "    2. Perform a Statistical Test\n",
    "    3. Find P-value and conclude if his hypothesis correct"
   ]
  },
  {
   "cell_type": "code",
   "execution_count": 39,
   "id": "5b7c6eac",
   "metadata": {},
   "outputs": [
    {
     "name": "stdout",
     "output_type": "stream",
     "text": [
      "1.2218430153659992 0.23363279636357662\n",
      "Failed to reject Null Hypothesis\n"
     ]
    }
   ],
   "source": [
    "sample = np.array([170,167,174,179,179,187,179,183,179\n",
    ",156,163,156,187,156,167,156,174,170\n",
    ",183,179,174,179,170,159,187])\n",
    "t_value, p_value = stats.ttest_1samp(sample, 170)\n",
    "print(t_value, p_value)\n",
    "if p_value < 0.05:\n",
    "    print('Reject Null Hypothesis')\n",
    "else:\n",
    "    print(\"Failed to reject Null Hypothesis\")"
   ]
  },
  {
   "cell_type": "code",
   "execution_count": 40,
   "id": "255b585b",
   "metadata": {},
   "outputs": [
    {
     "name": "stdout",
     "output_type": "stream",
     "text": [
      "sample_mean: 172.52\n",
      "sample_std: 10.103939825632375\n",
      "t-value: 1.221843015365999\n",
      "p_value: 0.11681639818178835\n",
      "Failed to reject Null Hypothesis\n"
     ]
    }
   ],
   "source": [
    "population_mean = 170\n",
    "\n",
    "n = len(sample)\n",
    "\n",
    "sample_mean = sample.mean()\n",
    "sample_std = sample.std()\n",
    "\n",
    "print(f\"sample_mean: {sample_mean}\")\n",
    "print(f\"sample_std: {sample_std}\")\n",
    "\n",
    "se = sample_std/np.sqrt(n-1)\n",
    "\n",
    "t_value = (sample_mean - population_mean)/se#np.round(se,3)\n",
    "print(f\"t-value: {t_value}\")\n",
    "p_value = 1 - stats.t.cdf(t_value, n-1)\n",
    "print(f\"p_value: {p_value}\")\n",
    "if p_value < 0.05:\n",
    "    print('Reject Null Hypothesis')\n",
    "else:\n",
    "    print(\"Failed to reject Null Hypothesis\")"
   ]
  },
  {
   "cell_type": "markdown",
   "id": "0f1df2a8",
   "metadata": {},
   "source": [
    "### Question 13 - Intermediate\n",
    "    A manufacturer claims that the thickness of the plates it produces is 7.5 one-hundredths of an inch. The\n",
    "    quality-check department has to check the thickness regulary. On one production run, they took a random\n",
    "    sample of n = 10 pieces of plates and measured their thickness. They obtained:\n",
    "    7.65 7.60 7.65 7.70 7.55 7.55 7.40 7.40 7.50 7.50\n",
    "    Tasks to be performed:\n",
    "    1. Determine the Hypotheses\n",
    "    2. Perform a Statistical Test\n",
    "    3. Find P-value and conclude the hypothesis\n"
   ]
  },
  {
   "cell_type": "code",
   "execution_count": 41,
   "id": "777ac555",
   "metadata": {},
   "outputs": [
    {
     "name": "stdout",
     "output_type": "stream",
     "text": [
      "sample_mean: 7.55\n",
      "sample_std: 0.09746794344808961\n",
      "t-value: 1.5389675281277262\n",
      "p_value: 0.15819542053877989\n",
      "Failed to reject Null Hypothesis\n"
     ]
    }
   ],
   "source": [
    "population_mean = 7.5\n",
    "sample = np.array([7.65,7.60,7.65,7.70,7.55,7.55,7.40,7.40,7.50,7.50])\n",
    "n = len(sample)\n",
    "\n",
    "sample_mean = sample.mean()\n",
    "sample_std = sample.std()\n",
    "\n",
    "print(f\"sample_mean: {sample_mean}\")\n",
    "print(f\"sample_std: {sample_std}\")\n",
    "\n",
    "se = sample_std/np.sqrt(n-1)\n",
    "\n",
    "t_value = (sample_mean - population_mean)/se#np.round(se,3)\n",
    "print(f\"t-value: {t_value}\")\n",
    "p_value = (1 - stats.t.cdf(t_value, n-1))*2\n",
    "print(f\"p_value: {p_value}\")\n",
    "if p_value < 0.05:\n",
    "    print('Reject Null Hypothesis')\n",
    "else:\n",
    "    print(\"Failed to reject Null Hypothesis\")"
   ]
  },
  {
   "cell_type": "markdown",
   "id": "66438c44",
   "metadata": {},
   "source": [
    "### Question 14 - Intermediate\n",
    "    Use the given dataset to find out what proportion of patients report they have diabetes.\n",
    "    Tasks to be performed:\n",
    "        \n",
    "    1. Load the data, check its shape and check for null values\n",
    "    2. Replace the binary outcomes with text (1: Diabetic, 0: Non-diabetic)\n",
    "    3. Find the value_counts of diabetic patients\n",
    "    4. Construct a 95% confidence interval with statsmodels library for the population proportion of people having diabetes\n"
   ]
  },
  {
   "cell_type": "code",
   "execution_count": 42,
   "id": "3aa444d6",
   "metadata": {},
   "outputs": [
    {
     "data": {
      "text/html": [
       "<div>\n",
       "<style scoped>\n",
       "    .dataframe tbody tr th:only-of-type {\n",
       "        vertical-align: middle;\n",
       "    }\n",
       "\n",
       "    .dataframe tbody tr th {\n",
       "        vertical-align: top;\n",
       "    }\n",
       "\n",
       "    .dataframe thead th {\n",
       "        text-align: right;\n",
       "    }\n",
       "</style>\n",
       "<table border=\"1\" class=\"dataframe\">\n",
       "  <thead>\n",
       "    <tr style=\"text-align: right;\">\n",
       "      <th></th>\n",
       "      <th>Pregnancies</th>\n",
       "      <th>Glucose</th>\n",
       "      <th>BloodPressure</th>\n",
       "      <th>SkinThickness</th>\n",
       "      <th>Insulin</th>\n",
       "      <th>BMI</th>\n",
       "      <th>DiabetesPedigreeFunction</th>\n",
       "      <th>Age</th>\n",
       "      <th>Outcome</th>\n",
       "    </tr>\n",
       "  </thead>\n",
       "  <tbody>\n",
       "    <tr>\n",
       "      <th>0</th>\n",
       "      <td>6</td>\n",
       "      <td>148</td>\n",
       "      <td>72</td>\n",
       "      <td>35</td>\n",
       "      <td>0</td>\n",
       "      <td>33.6</td>\n",
       "      <td>0.627</td>\n",
       "      <td>50</td>\n",
       "      <td>1</td>\n",
       "    </tr>\n",
       "    <tr>\n",
       "      <th>1</th>\n",
       "      <td>1</td>\n",
       "      <td>85</td>\n",
       "      <td>66</td>\n",
       "      <td>29</td>\n",
       "      <td>0</td>\n",
       "      <td>26.6</td>\n",
       "      <td>0.351</td>\n",
       "      <td>31</td>\n",
       "      <td>0</td>\n",
       "    </tr>\n",
       "    <tr>\n",
       "      <th>2</th>\n",
       "      <td>8</td>\n",
       "      <td>183</td>\n",
       "      <td>64</td>\n",
       "      <td>0</td>\n",
       "      <td>0</td>\n",
       "      <td>23.3</td>\n",
       "      <td>0.672</td>\n",
       "      <td>32</td>\n",
       "      <td>1</td>\n",
       "    </tr>\n",
       "    <tr>\n",
       "      <th>3</th>\n",
       "      <td>1</td>\n",
       "      <td>89</td>\n",
       "      <td>66</td>\n",
       "      <td>23</td>\n",
       "      <td>94</td>\n",
       "      <td>28.1</td>\n",
       "      <td>0.167</td>\n",
       "      <td>21</td>\n",
       "      <td>0</td>\n",
       "    </tr>\n",
       "    <tr>\n",
       "      <th>4</th>\n",
       "      <td>0</td>\n",
       "      <td>137</td>\n",
       "      <td>40</td>\n",
       "      <td>35</td>\n",
       "      <td>168</td>\n",
       "      <td>43.1</td>\n",
       "      <td>2.288</td>\n",
       "      <td>33</td>\n",
       "      <td>1</td>\n",
       "    </tr>\n",
       "  </tbody>\n",
       "</table>\n",
       "</div>"
      ],
      "text/plain": [
       "   Pregnancies  Glucose  BloodPressure  SkinThickness  Insulin   BMI  \\\n",
       "0            6      148             72             35        0  33.6   \n",
       "1            1       85             66             29        0  26.6   \n",
       "2            8      183             64              0        0  23.3   \n",
       "3            1       89             66             23       94  28.1   \n",
       "4            0      137             40             35      168  43.1   \n",
       "\n",
       "   DiabetesPedigreeFunction  Age  Outcome  \n",
       "0                     0.627   50        1  \n",
       "1                     0.351   31        0  \n",
       "2                     0.672   32        1  \n",
       "3                     0.167   21        0  \n",
       "4                     2.288   33        1  "
      ]
     },
     "execution_count": 42,
     "metadata": {},
     "output_type": "execute_result"
    }
   ],
   "source": [
    "df = pd.read_csv('diabetes.csv')\n",
    "df.head()"
   ]
  },
  {
   "cell_type": "code",
   "execution_count": 43,
   "id": "d98fd63c",
   "metadata": {},
   "outputs": [
    {
     "data": {
      "text/plain": [
       "(768, 9)"
      ]
     },
     "execution_count": 43,
     "metadata": {},
     "output_type": "execute_result"
    }
   ],
   "source": [
    "df.shape"
   ]
  },
  {
   "cell_type": "code",
   "execution_count": 49,
   "id": "c9b2256d",
   "metadata": {},
   "outputs": [
    {
     "data": {
      "text/html": [
       "<div>\n",
       "<style scoped>\n",
       "    .dataframe tbody tr th:only-of-type {\n",
       "        vertical-align: middle;\n",
       "    }\n",
       "\n",
       "    .dataframe tbody tr th {\n",
       "        vertical-align: top;\n",
       "    }\n",
       "\n",
       "    .dataframe thead th {\n",
       "        text-align: right;\n",
       "    }\n",
       "</style>\n",
       "<table border=\"1\" class=\"dataframe\">\n",
       "  <thead>\n",
       "    <tr style=\"text-align: right;\">\n",
       "      <th></th>\n",
       "      <th>Pregnancies</th>\n",
       "      <th>Glucose</th>\n",
       "      <th>BloodPressure</th>\n",
       "      <th>SkinThickness</th>\n",
       "      <th>Insulin</th>\n",
       "      <th>BMI</th>\n",
       "      <th>DiabetesPedigreeFunction</th>\n",
       "      <th>Age</th>\n",
       "      <th>Outcome</th>\n",
       "    </tr>\n",
       "  </thead>\n",
       "  <tbody>\n",
       "    <tr>\n",
       "      <th>0</th>\n",
       "      <td>6</td>\n",
       "      <td>148</td>\n",
       "      <td>72</td>\n",
       "      <td>35</td>\n",
       "      <td>0</td>\n",
       "      <td>33.6</td>\n",
       "      <td>0.627</td>\n",
       "      <td>50</td>\n",
       "      <td>Diabetic</td>\n",
       "    </tr>\n",
       "    <tr>\n",
       "      <th>1</th>\n",
       "      <td>1</td>\n",
       "      <td>85</td>\n",
       "      <td>66</td>\n",
       "      <td>29</td>\n",
       "      <td>0</td>\n",
       "      <td>26.6</td>\n",
       "      <td>0.351</td>\n",
       "      <td>31</td>\n",
       "      <td>Non_Diabetic</td>\n",
       "    </tr>\n",
       "    <tr>\n",
       "      <th>2</th>\n",
       "      <td>8</td>\n",
       "      <td>183</td>\n",
       "      <td>64</td>\n",
       "      <td>0</td>\n",
       "      <td>0</td>\n",
       "      <td>23.3</td>\n",
       "      <td>0.672</td>\n",
       "      <td>32</td>\n",
       "      <td>Diabetic</td>\n",
       "    </tr>\n",
       "    <tr>\n",
       "      <th>3</th>\n",
       "      <td>1</td>\n",
       "      <td>89</td>\n",
       "      <td>66</td>\n",
       "      <td>23</td>\n",
       "      <td>94</td>\n",
       "      <td>28.1</td>\n",
       "      <td>0.167</td>\n",
       "      <td>21</td>\n",
       "      <td>Non_Diabetic</td>\n",
       "    </tr>\n",
       "    <tr>\n",
       "      <th>4</th>\n",
       "      <td>0</td>\n",
       "      <td>137</td>\n",
       "      <td>40</td>\n",
       "      <td>35</td>\n",
       "      <td>168</td>\n",
       "      <td>43.1</td>\n",
       "      <td>2.288</td>\n",
       "      <td>33</td>\n",
       "      <td>Diabetic</td>\n",
       "    </tr>\n",
       "  </tbody>\n",
       "</table>\n",
       "</div>"
      ],
      "text/plain": [
       "   Pregnancies  Glucose  BloodPressure  SkinThickness  Insulin   BMI  \\\n",
       "0            6      148             72             35        0  33.6   \n",
       "1            1       85             66             29        0  26.6   \n",
       "2            8      183             64              0        0  23.3   \n",
       "3            1       89             66             23       94  28.1   \n",
       "4            0      137             40             35      168  43.1   \n",
       "\n",
       "   DiabetesPedigreeFunction  Age       Outcome  \n",
       "0                     0.627   50      Diabetic  \n",
       "1                     0.351   31  Non_Diabetic  \n",
       "2                     0.672   32      Diabetic  \n",
       "3                     0.167   21  Non_Diabetic  \n",
       "4                     2.288   33      Diabetic  "
      ]
     },
     "execution_count": 49,
     "metadata": {},
     "output_type": "execute_result"
    }
   ],
   "source": [
    "df['Outcome'] = df['Outcome'].replace({1:'Diabetic', 0: 'Non_Diabetic'})\n",
    "df.head()"
   ]
  },
  {
   "cell_type": "code",
   "execution_count": 50,
   "id": "88e3eaaf",
   "metadata": {},
   "outputs": [
    {
     "data": {
      "text/plain": [
       "Non_Diabetic    500\n",
       "Diabetic        268\n",
       "Name: Outcome, dtype: int64"
      ]
     },
     "execution_count": 50,
     "metadata": {},
     "output_type": "execute_result"
    }
   ],
   "source": [
    "df['Outcome'].value_counts()"
   ]
  },
  {
   "cell_type": "code",
   "execution_count": 65,
   "id": "b46658da",
   "metadata": {},
   "outputs": [
    {
     "name": "stdout",
     "output_type": "stream",
     "text": [
      "p: 0.3489583333333333\n",
      "sd: 0.47664076087820645\n"
     ]
    }
   ],
   "source": [
    "p = 268/n\n",
    "n = df.shape[0]\n",
    "sd = np.sqrt(p*(1-p))\n",
    "se = sd/np.sqrt(n)\n",
    "print(f\"p: {p}\")\n",
    "print(f\"sd: {sd}\")\n"
   ]
  },
  {
   "cell_type": "code",
   "execution_count": 68,
   "id": "c2e8aa41",
   "metadata": {},
   "outputs": [],
   "source": [
    "z = norm.ppf(.95)"
   ]
  },
  {
   "cell_type": "code",
   "execution_count": 69,
   "id": "2ce6e1c3",
   "metadata": {},
   "outputs": [
    {
     "data": {
      "text/plain": [
       "(0.32066801554727975, 0.3772486511193869)"
      ]
     },
     "execution_count": 69,
     "metadata": {},
     "output_type": "execute_result"
    }
   ],
   "source": [
    "me = z*se\n",
    "(p - me, p + me)"
   ]
  },
  {
   "cell_type": "markdown",
   "id": "e3129888",
   "metadata": {},
   "source": [
    "### Question 15 - Advanced\n",
    "    Use the given dataset to check if diabetic patients have higher average age than non-diabetic patients. Take\n",
    "    a significance level of 5%.\n",
    "    Tasks to be performed:\n",
    "    1. Determine the Hypotheses\n",
    "    2. Perform a Statistical Test\n",
    "    3. Find P-value and conclude the hypothesis"
   ]
  },
  {
   "cell_type": "code",
   "execution_count": 76,
   "id": "1a1907e0",
   "metadata": {},
   "outputs": [
    {
     "name": "stdout",
     "output_type": "stream",
     "text": [
      "31.19\n"
     ]
    }
   ],
   "source": [
    "diabetic_df = df[df['Outcome'] == 'Diabetic']\n",
    "non_diabetic_df = df[df['Outcome'] == 'Non_Diabetic']\n",
    "\n",
    "population_mean = non_diabetic_df['Age'].mean()\n",
    "print(population_mean)"
   ]
  },
  {
   "cell_type": "code",
   "execution_count": null,
   "id": "d26d2665",
   "metadata": {},
   "outputs": [],
   "source": [
    "#H(0): Average Age of Diabetic patients = 31.19\n",
    "#H(a): Average Age of Diabetic > 31.19"
   ]
  },
  {
   "cell_type": "code",
   "execution_count": 85,
   "id": "f9881770",
   "metadata": {},
   "outputs": [
    {
     "name": "stdout",
     "output_type": "stream",
     "text": [
      "8.771982054553721\n",
      "p-value 0.0\n"
     ]
    }
   ],
   "source": [
    "sample_mean = diabetic_df['Age'].mean()\n",
    "std = diabetic_df['Age'].std()\n",
    "se = std/np.sqrt(diabetic_df['Age'].shape[0])\n",
    "z = (sample_mean - population_mean)/se\n",
    "print(z)\n",
    "p_value = 1 - norm.cdf(z)\n",
    "print('p-value',p_value)\n"
   ]
  },
  {
   "cell_type": "code",
   "execution_count": 80,
   "id": "c577d5c7",
   "metadata": {},
   "outputs": [
    {
     "name": "stdout",
     "output_type": "stream",
     "text": [
      "Failed to reject Null Hypothesis\n"
     ]
    }
   ],
   "source": [
    "if p_value < 0.05:\n",
    "    print('Reject Null Hypothesis')\n",
    "else:\n",
    "    print(\"Failed to reject Null Hypothesis\")"
   ]
  },
  {
   "cell_type": "code",
   "execution_count": 86,
   "id": "c7a43adf",
   "metadata": {},
   "outputs": [
    {
     "data": {
      "text/plain": [
       "(6.792688071649956, 1.1006318936217381e-11)"
      ]
     },
     "execution_count": 86,
     "metadata": {},
     "output_type": "execute_result"
    }
   ],
   "source": [
    "sm.stats.ztest(diabetic_df['Age'], non_diabetic_df['Age'])"
   ]
  },
  {
   "cell_type": "markdown",
   "id": "3b3eb5e6",
   "metadata": {},
   "source": [
    "### Question 16 - Intermediate\n",
    "    Use the given dataset to find out what proportion of self-employed people are women.\n",
    "    Tasks to be performed:\n",
    "    1. Load the data\n",
    "    2. Find the value_counts of people that are self-employed\n",
    "    3. Find the value_counts of women that re self employed\n",
    "    4. Construct a 95% confidence interval with statsmodels library for the population proportion of self\u0002employed women"
   ]
  },
  {
   "cell_type": "code",
   "execution_count": 87,
   "id": "50ec9888",
   "metadata": {},
   "outputs": [
    {
     "data": {
      "text/html": [
       "<div>\n",
       "<style scoped>\n",
       "    .dataframe tbody tr th:only-of-type {\n",
       "        vertical-align: middle;\n",
       "    }\n",
       "\n",
       "    .dataframe tbody tr th {\n",
       "        vertical-align: top;\n",
       "    }\n",
       "\n",
       "    .dataframe thead th {\n",
       "        text-align: right;\n",
       "    }\n",
       "</style>\n",
       "<table border=\"1\" class=\"dataframe\">\n",
       "  <thead>\n",
       "    <tr style=\"text-align: right;\">\n",
       "      <th></th>\n",
       "      <th>Age</th>\n",
       "      <th>Gender</th>\n",
       "      <th>Country</th>\n",
       "      <th>self_employed</th>\n",
       "    </tr>\n",
       "  </thead>\n",
       "  <tbody>\n",
       "    <tr>\n",
       "      <th>0</th>\n",
       "      <td>37</td>\n",
       "      <td>female</td>\n",
       "      <td>United States</td>\n",
       "      <td>NaN</td>\n",
       "    </tr>\n",
       "    <tr>\n",
       "      <th>1</th>\n",
       "      <td>44</td>\n",
       "      <td>male</td>\n",
       "      <td>United States</td>\n",
       "      <td>NaN</td>\n",
       "    </tr>\n",
       "    <tr>\n",
       "      <th>2</th>\n",
       "      <td>32</td>\n",
       "      <td>male</td>\n",
       "      <td>Canada</td>\n",
       "      <td>NaN</td>\n",
       "    </tr>\n",
       "    <tr>\n",
       "      <th>3</th>\n",
       "      <td>31</td>\n",
       "      <td>male</td>\n",
       "      <td>United Kingdom</td>\n",
       "      <td>NaN</td>\n",
       "    </tr>\n",
       "    <tr>\n",
       "      <th>4</th>\n",
       "      <td>31</td>\n",
       "      <td>male</td>\n",
       "      <td>United States</td>\n",
       "      <td>NaN</td>\n",
       "    </tr>\n",
       "  </tbody>\n",
       "</table>\n",
       "</div>"
      ],
      "text/plain": [
       "   Age  Gender         Country self_employed\n",
       "0   37  female   United States           NaN\n",
       "1   44    male   United States           NaN\n",
       "2   32    male          Canada           NaN\n",
       "3   31    male  United Kingdom           NaN\n",
       "4   31    male   United States           NaN"
      ]
     },
     "execution_count": 87,
     "metadata": {},
     "output_type": "execute_result"
    }
   ],
   "source": [
    "df = pd.read_csv('survey.csv')[['Age', 'Gender', 'Country', 'self_employed']]\n",
    "df.head()"
   ]
  },
  {
   "cell_type": "code",
   "execution_count": 89,
   "id": "93bf90f4",
   "metadata": {},
   "outputs": [
    {
     "data": {
      "text/plain": [
       "No     1095\n",
       "Yes     146\n",
       "Name: self_employed, dtype: int64"
      ]
     },
     "execution_count": 89,
     "metadata": {},
     "output_type": "execute_result"
    }
   ],
   "source": [
    "df['self_employed'].value_counts()\n",
    "people_self_employed = 146"
   ]
  },
  {
   "cell_type": "code",
   "execution_count": 91,
   "id": "cd328190",
   "metadata": {},
   "outputs": [
    {
     "data": {
      "text/plain": [
       "No     229\n",
       "Yes     24\n",
       "Name: self_employed, dtype: int64"
      ]
     },
     "execution_count": 91,
     "metadata": {},
     "output_type": "execute_result"
    }
   ],
   "source": [
    "df[df['Gender'] == 'female']['self_employed'].value_counts()"
   ]
  },
  {
   "cell_type": "code",
   "execution_count": 104,
   "id": "462d0f54",
   "metadata": {},
   "outputs": [
    {
     "name": "stdout",
     "output_type": "stream",
     "text": [
      "(0.11393096658839982, 0.2148361566992714)\n"
     ]
    }
   ],
   "source": [
    "women_self_employed = 24\n",
    "n = 146\n",
    "\n",
    "p = 24/n\n",
    "\n",
    "std = np.sqrt(p*(1-p))\n",
    "se = std/np.sqrt(n)\n",
    "\n",
    "me = norm.ppf(.95)*se\n",
    "print(f\"({p - me}, {p+ me})\")"
   ]
  },
  {
   "cell_type": "code",
   "execution_count": 98,
   "id": "8c2d8c80",
   "metadata": {},
   "outputs": [
    {
     "data": {
      "text/plain": [
       "(0.10426558663683812, 0.2245015366508331)"
      ]
     },
     "execution_count": 98,
     "metadata": {},
     "output_type": "execute_result"
    }
   ],
   "source": [
    "sm.stats.proportion_confint(24,n)"
   ]
  },
  {
   "cell_type": "markdown",
   "id": "d3e6937d",
   "metadata": {},
   "source": [
    "### Question 17 - Advanced\n",
    "    Use the given dataset to check if self-employed women have higher average age than self-employed men..\n",
    "    Take a significance level of 5%.\n",
    "    Tasks to be performed:\n",
    "    1. Determine the Hypotheses\n",
    "    2. Perform a Statistical Test\n",
    "    3. Find P-value and conclude the hypothesis"
   ]
  },
  {
   "cell_type": "code",
   "execution_count": 107,
   "id": "7aee746b",
   "metadata": {},
   "outputs": [
    {
     "name": "stdout",
     "output_type": "stream",
     "text": [
      "-0.9854897724425256 0.3243835527585025\n",
      "Failed to reject Null Hypothesis\n"
     ]
    }
   ],
   "source": [
    "z, p_value = sm.stats.ztest(df[(df['Gender'] == 'female') & (df['self_employed'] == 'Yes')]['Age'], df[(df['Gender'] == 'male') & (df['self_employed'] == 'Yes')]['Age'])\n",
    "print(z,p_value)\n",
    "if p_value < 0.05:\n",
    "    print('Reject Null Hypothesis')\n",
    "else:\n",
    "    print(\"Failed to reject Null Hypothesis\")"
   ]
  },
  {
   "cell_type": "markdown",
   "id": "5cf4b4bf",
   "metadata": {},
   "source": [
    "### Question 18 - Advanced\n",
    "    Dataset Description:\n",
    "    shopping_data.csv - The dataset contains 5 columns and 200 rows. Here's a brief description of columns in\n",
    "    the dataset:\n",
    "    CustomerID - ID of each customer in serial order\n",
    "    Gender - Gender of each customer\n",
    "    Age - Age of each customer\n",
    "    annual_income - Annual income of each customer\n",
    "    spending_score - Spending score of each customer\n",
    "    A clothing store owner wants to expand his shop. He is trying to figure out whether he should focus more on\n",
    "    mens' or womens' brands. He has the records of the last 200 customers who came in his shop. Does this\n",
    "    record give him any relevant information on whether there is a difference in the expenditure amongst men\n",
    "    and women?\n",
    "    Tasks to be performed:\n",
    "    1. Determine the Hypotheses\n",
    "    2. Perform a Statistical Test\n",
    "    3. Find P-value and conclude the hypothesis"
   ]
  },
  {
   "cell_type": "code",
   "execution_count": 108,
   "id": "07b9715f",
   "metadata": {},
   "outputs": [
    {
     "data": {
      "text/html": [
       "<div>\n",
       "<style scoped>\n",
       "    .dataframe tbody tr th:only-of-type {\n",
       "        vertical-align: middle;\n",
       "    }\n",
       "\n",
       "    .dataframe tbody tr th {\n",
       "        vertical-align: top;\n",
       "    }\n",
       "\n",
       "    .dataframe thead th {\n",
       "        text-align: right;\n",
       "    }\n",
       "</style>\n",
       "<table border=\"1\" class=\"dataframe\">\n",
       "  <thead>\n",
       "    <tr style=\"text-align: right;\">\n",
       "      <th></th>\n",
       "      <th>CustomerID</th>\n",
       "      <th>Gender</th>\n",
       "      <th>Age</th>\n",
       "      <th>annual_income</th>\n",
       "      <th>spending_score</th>\n",
       "    </tr>\n",
       "  </thead>\n",
       "  <tbody>\n",
       "    <tr>\n",
       "      <th>0</th>\n",
       "      <td>1</td>\n",
       "      <td>Male</td>\n",
       "      <td>19</td>\n",
       "      <td>15</td>\n",
       "      <td>39</td>\n",
       "    </tr>\n",
       "    <tr>\n",
       "      <th>1</th>\n",
       "      <td>2</td>\n",
       "      <td>Male</td>\n",
       "      <td>21</td>\n",
       "      <td>15</td>\n",
       "      <td>81</td>\n",
       "    </tr>\n",
       "    <tr>\n",
       "      <th>2</th>\n",
       "      <td>3</td>\n",
       "      <td>Female</td>\n",
       "      <td>20</td>\n",
       "      <td>16</td>\n",
       "      <td>6</td>\n",
       "    </tr>\n",
       "    <tr>\n",
       "      <th>3</th>\n",
       "      <td>4</td>\n",
       "      <td>Female</td>\n",
       "      <td>23</td>\n",
       "      <td>16</td>\n",
       "      <td>77</td>\n",
       "    </tr>\n",
       "    <tr>\n",
       "      <th>4</th>\n",
       "      <td>5</td>\n",
       "      <td>Female</td>\n",
       "      <td>31</td>\n",
       "      <td>17</td>\n",
       "      <td>40</td>\n",
       "    </tr>\n",
       "  </tbody>\n",
       "</table>\n",
       "</div>"
      ],
      "text/plain": [
       "   CustomerID  Gender  Age  annual_income  spending_score\n",
       "0           1    Male   19             15              39\n",
       "1           2    Male   21             15              81\n",
       "2           3  Female   20             16               6\n",
       "3           4  Female   23             16              77\n",
       "4           5  Female   31             17              40"
      ]
     },
     "execution_count": 108,
     "metadata": {},
     "output_type": "execute_result"
    }
   ],
   "source": [
    "df = pd.read_csv('shopping_data.csv')\n",
    "df.head()"
   ]
  },
  {
   "cell_type": "code",
   "execution_count": 113,
   "id": "4f2df539",
   "metadata": {},
   "outputs": [
    {
     "name": "stdout",
     "output_type": "stream",
     "text": [
      "0.8190464150660333 0.4127599324349568\n"
     ]
    }
   ],
   "source": [
    "men_df = df[df['Gender'] == 'Male']['spending_score']\n",
    "women_df = df[df['Gender'] == 'Female']['spending_score']\n",
    "z_value, p_value = sm.stats.ztest(women_df,men_df)\n",
    "print(z_value, p_value)"
   ]
  },
  {
   "cell_type": "markdown",
   "id": "8664d654",
   "metadata": {},
   "source": [
    "### Question 19 - Advanced\n",
    "    Dataset Description:\n",
    "    weatherHistory.csv - The dataset contains 12 columns. Here's a brief description of 5 columns in the\n",
    "    \n",
    "    dataset:\n",
    "    Formatted Date - Date of recorded weather\n",
    "    Weather - Weather of the day\n",
    "    Temperature - Temperature in Celsius\n",
    "    Humidity - Humidity of the day in percentage\n",
    "    Wind_Bearing - Wind bearing in degrees\n",
    "    \n",
    "    A weatherman is analysing a large record of data to check if wind bearing changes between cloudy and clear\n",
    "    weather.\n",
    "    \n",
    "    Tasks to be performed:\n",
    "    1. Determine the Hypotheses\n",
    "    2. Perform a Statistical Test\n",
    "    3. Find P-value and conclude the hypothesis\n"
   ]
  },
  {
   "cell_type": "code",
   "execution_count": 117,
   "id": "3dbbb2e1",
   "metadata": {},
   "outputs": [
    {
     "data": {
      "text/html": [
       "<div>\n",
       "<style scoped>\n",
       "    .dataframe tbody tr th:only-of-type {\n",
       "        vertical-align: middle;\n",
       "    }\n",
       "\n",
       "    .dataframe tbody tr th {\n",
       "        vertical-align: top;\n",
       "    }\n",
       "\n",
       "    .dataframe thead th {\n",
       "        text-align: right;\n",
       "    }\n",
       "</style>\n",
       "<table border=\"1\" class=\"dataframe\">\n",
       "  <thead>\n",
       "    <tr style=\"text-align: right;\">\n",
       "      <th></th>\n",
       "      <th>Formatted Date</th>\n",
       "      <th>Weather</th>\n",
       "      <th>Temperature (C)</th>\n",
       "      <th>Humidity</th>\n",
       "      <th>Wind_Bearing</th>\n",
       "    </tr>\n",
       "  </thead>\n",
       "  <tbody>\n",
       "    <tr>\n",
       "      <th>0</th>\n",
       "      <td>2006-04-01 00:00:00.000 +0200</td>\n",
       "      <td>Partly Cloudy</td>\n",
       "      <td>9.472222</td>\n",
       "      <td>0.89</td>\n",
       "      <td>251</td>\n",
       "    </tr>\n",
       "    <tr>\n",
       "      <th>1</th>\n",
       "      <td>2006-04-01 01:00:00.000 +0200</td>\n",
       "      <td>Partly Cloudy</td>\n",
       "      <td>9.355556</td>\n",
       "      <td>0.86</td>\n",
       "      <td>259</td>\n",
       "    </tr>\n",
       "    <tr>\n",
       "      <th>2</th>\n",
       "      <td>2006-04-01 02:00:00.000 +0200</td>\n",
       "      <td>Mostly Cloudy</td>\n",
       "      <td>9.377778</td>\n",
       "      <td>0.89</td>\n",
       "      <td>204</td>\n",
       "    </tr>\n",
       "    <tr>\n",
       "      <th>3</th>\n",
       "      <td>2006-04-01 03:00:00.000 +0200</td>\n",
       "      <td>Partly Cloudy</td>\n",
       "      <td>8.288889</td>\n",
       "      <td>0.83</td>\n",
       "      <td>269</td>\n",
       "    </tr>\n",
       "    <tr>\n",
       "      <th>4</th>\n",
       "      <td>2006-04-01 04:00:00.000 +0200</td>\n",
       "      <td>Mostly Cloudy</td>\n",
       "      <td>8.755556</td>\n",
       "      <td>0.83</td>\n",
       "      <td>259</td>\n",
       "    </tr>\n",
       "  </tbody>\n",
       "</table>\n",
       "</div>"
      ],
      "text/plain": [
       "                  Formatted Date        Weather  Temperature (C)  Humidity  \\\n",
       "0  2006-04-01 00:00:00.000 +0200  Partly Cloudy         9.472222      0.89   \n",
       "1  2006-04-01 01:00:00.000 +0200  Partly Cloudy         9.355556      0.86   \n",
       "2  2006-04-01 02:00:00.000 +0200  Mostly Cloudy         9.377778      0.89   \n",
       "3  2006-04-01 03:00:00.000 +0200  Partly Cloudy         8.288889      0.83   \n",
       "4  2006-04-01 04:00:00.000 +0200  Mostly Cloudy         8.755556      0.83   \n",
       "\n",
       "   Wind_Bearing  \n",
       "0           251  \n",
       "1           259  \n",
       "2           204  \n",
       "3           269  \n",
       "4           259  "
      ]
     },
     "execution_count": 117,
     "metadata": {},
     "output_type": "execute_result"
    }
   ],
   "source": [
    "df = pd.read_csv('weatherHistory.csv')[['Formatted Date','Weather','Temperature (C)','Humidity','Wind_Bearing']]\n",
    "df.head()"
   ]
  },
  {
   "cell_type": "code",
   "execution_count": 119,
   "id": "3f5ea6c6",
   "metadata": {},
   "outputs": [
    {
     "data": {
      "text/plain": [
       "array(['Partly Cloudy', 'Mostly Cloudy', 'Overcast', 'Foggy',\n",
       "       'Breezy and Mostly Cloudy', 'Clear', 'Breezy and Partly Cloudy',\n",
       "       'Breezy and Overcast', 'Humid and Mostly Cloudy',\n",
       "       'Humid and Partly Cloudy', 'Windy and Foggy', 'Windy and Overcast',\n",
       "       'Breezy and Foggy', 'Windy and Partly Cloudy', 'Breezy',\n",
       "       'Dry and Partly Cloudy', 'Windy and Mostly Cloudy',\n",
       "       'Dangerously Windy and Partly Cloudy', 'Dry', 'Windy',\n",
       "       'Humid and Overcast', 'Light Rain', 'Drizzle', 'Windy and Dry',\n",
       "       'Dry and Mostly Cloudy', 'Breezy and Dry', 'Rain'], dtype=object)"
      ]
     },
     "execution_count": 119,
     "metadata": {},
     "output_type": "execute_result"
    }
   ],
   "source": [
    "df['Weather'].unique()"
   ]
  },
  {
   "cell_type": "code",
   "execution_count": 126,
   "id": "06e76c6f",
   "metadata": {},
   "outputs": [
    {
     "name": "stdout",
     "output_type": "stream",
     "text": [
      "Count of cloudy: 31733\n",
      "Count of clear: 10890\n"
     ]
    }
   ],
   "source": [
    "df_cloudy = df[df['Weather']=='Partly Cloudy']\n",
    "df_clear = df[df['Weather'] == 'Clear']\n",
    "\n",
    "print(f\"Count of cloudy: {df_cloudy.shape[0]}\")\n",
    "print(f\"Count of clear: {df_clear.shape[0]}\")"
   ]
  },
  {
   "cell_type": "code",
   "execution_count": 127,
   "id": "26570f8e",
   "metadata": {},
   "outputs": [
    {
     "name": "stdout",
     "output_type": "stream",
     "text": [
      "9.150465286941111 5.668885216386225e-20\n",
      "Reject Null Hypothesis\n"
     ]
    }
   ],
   "source": [
    "z_value, p_value = sm.stats.ztest(df_cloudy['Wind_Bearing'], df_clear['Wind_Bearing'])\n",
    "print(z_value, p_value)\n",
    "if p_value < 0.05:\n",
    "    print('Reject Null Hypothesis')\n",
    "else:\n",
    "    print(\"Failed to reject Null Hypothesis\")"
   ]
  },
  {
   "cell_type": "code",
   "execution_count": 122,
   "id": "733fb1c5",
   "metadata": {},
   "outputs": [
    {
     "name": "stdout",
     "output_type": "stream",
     "text": [
      "-11.614033264424167 3.4972152738057196e-31\n"
     ]
    }
   ],
   "source": [
    "z_value, p_value = sm.stats.ztest(df_clear['Wind_Bearing'],df_cloudy['Wind_Bearing'])\n",
    "print(z_value, p_value)"
   ]
  },
  {
   "cell_type": "markdown",
   "id": "bdb90b35",
   "metadata": {},
   "source": [
    "### Question 20 - Advanced\n",
    "    According a survey conducted by a multi-national company, 80% of all its employees had health insurance in\n",
    "    2009. The Patient Protection and Affordable Care Act of 2010 allows young people under the age of 26 to\n",
    "    stay on their parents’ health insurance policy. A recent survey of 800 randomly selected employees of a\n",
    "    branch indicated that 83% of them had health insurance. Has the proportion of young employees who have\n",
    "    health insurance increased since 2009? Take a significance level of 5%.\n",
    "    \n",
    "    Tasks to be performed:\n",
    "    1. Determine the hypotheses: This involves stating the null and alternative hypotheses such that they are\n",
    "    mutually exclusive.\n",
    "    2. Formulate an analysis plan: Describe how to use sample data to evaluate the null hypothesis.\n",
    "    3. Analyse sample data: Find the value of the test statistic described in the analysis plan.\n",
    "    4. Interpret results to state a conclusion"
   ]
  },
  {
   "cell_type": "code",
   "execution_count": 131,
   "id": "20a4ebe3",
   "metadata": {},
   "outputs": [
    {
     "name": "stdout",
     "output_type": "stream",
     "text": [
      "Sample standard deviation: 0.014142135623730949\n",
      "z: 2.121320343559637\n",
      "0.01694742676234484\n",
      "Reject Null Hypothesis\n"
     ]
    }
   ],
   "source": [
    "# H(0) = 0.8\n",
    "# H(a) > 0.8\n",
    "\n",
    "p = 0.8\n",
    "p_s = 0.83\n",
    "n = 800\n",
    "\n",
    "ssd = np.sqrt((p*(1-p)))/np.sqrt(n)\n",
    "print(f'Sample standard deviation: {ssd}')\n",
    "z = (p_s - p)/ssd\n",
    "print(f'z: {z}')\n",
    "p_value = 1 - norm.cdf(z)\n",
    "print(p_value)\n",
    "if p_value < 0.05:\n",
    "    print('Reject Null Hypothesis')\n",
    "else:\n",
    "    print(\"Failed to reject Null Hypothesis\")"
   ]
  },
  {
   "cell_type": "code",
   "execution_count": null,
   "id": "c21228b0",
   "metadata": {},
   "outputs": [],
   "source": []
  }
 ],
 "metadata": {
  "kernelspec": {
   "display_name": "Python 3",
   "language": "python",
   "name": "python3"
  },
  "language_info": {
   "codemirror_mode": {
    "name": "ipython",
    "version": 3
   },
   "file_extension": ".py",
   "mimetype": "text/x-python",
   "name": "python",
   "nbconvert_exporter": "python",
   "pygments_lexer": "ipython3",
   "version": "3.8.8"
  }
 },
 "nbformat": 4,
 "nbformat_minor": 5
}
