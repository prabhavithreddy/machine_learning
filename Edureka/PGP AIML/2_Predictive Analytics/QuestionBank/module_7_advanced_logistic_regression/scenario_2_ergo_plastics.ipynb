{
 "cells": [
  {
   "cell_type": "code",
   "execution_count": 7,
   "id": "a2932102",
   "metadata": {},
   "outputs": [],
   "source": [
    "import numpy as np\n",
    "import pandas as pd\n",
    "import matplotlib.pyplot as plt\n",
    "import seaborn as sns\n",
    "import warnings\n",
    "warnings.filterwarnings('ignore')\n",
    "\n",
    "from sklearn.metrics import accuracy_score, f1_score, precision_score, recall_score, roc_curve, roc_auc_score, r2_score, mean_squared_error\n",
    "from sklearn.model_selection import train_test_split\n",
    "\n",
    "\n",
    "from sklearn.preprocessing import LabelEncoder\n",
    "from sklearn.linear_model import LogisticRegression, LinearRegression, Ridge"
   ]
  },
  {
   "cell_type": "markdown",
   "id": "846f8dce",
   "metadata": {},
   "source": [
    "### Scenario-2: Ergo Plastics \n",
    "    Ergo plastics was found in 1973; one of the oldest and largest plastic manufacturing industry across the \n",
    "    world. Recently, they have been developing in a new plastic material which can withstand high pressure and \n",
    "    temperature. They have collected the data in a csv format. Task is to compute how much pressure can stand \n",
    "    a given piece of plastic when applied on it some strength at a fixed temperature. No further information about \n",
    "    the data is available. \n",
    "    \n",
    "    Dataset Description: \n",
    "    • Strength: real [12.4,48.7]\n",
    "    • Temperature: real [200.0,300.0]\n",
    "    • Pressure: real [10.0,20.0]\n",
    "    \n",
    "    Task to be performed: \n",
    "    • Read the dataset with no headers; Then put respective columns names and find the correlation between\n",
    "    the features - Beginner\n",
    "    • Split the data in train-test set and fit a Linear Regression model. Find the coeficients and intercepts -\n",
    "    Beginner\n",
    "    • Find the mean squared error and R2 score of the model over test set and test set Beginner\n",
    "    • Apply Ridge regression over the train set and find mean squared error and R2 score of the model over\n",
    "    test set and test set Intermediate\n",
    "    • Plot the coefficient of ridge model and linear model over a grouped bar graph - Intermediate"
   ]
  },
  {
   "cell_type": "code",
   "execution_count": 3,
   "id": "ddae9518",
   "metadata": {},
   "outputs": [
    {
     "data": {
      "text/html": [
       "<div>\n",
       "<style scoped>\n",
       "    .dataframe tbody tr th:only-of-type {\n",
       "        vertical-align: middle;\n",
       "    }\n",
       "\n",
       "    .dataframe tbody tr th {\n",
       "        vertical-align: top;\n",
       "    }\n",
       "\n",
       "    .dataframe thead th {\n",
       "        text-align: right;\n",
       "    }\n",
       "</style>\n",
       "<table border=\"1\" class=\"dataframe\">\n",
       "  <thead>\n",
       "    <tr style=\"text-align: right;\">\n",
       "      <th></th>\n",
       "      <th>Strength</th>\n",
       "      <th>Temperature</th>\n",
       "      <th>Pressure</th>\n",
       "    </tr>\n",
       "  </thead>\n",
       "  <tbody>\n",
       "    <tr>\n",
       "      <th>0</th>\n",
       "      <td>30.7</td>\n",
       "      <td>240</td>\n",
       "      <td>16</td>\n",
       "    </tr>\n",
       "    <tr>\n",
       "      <th>1</th>\n",
       "      <td>24.7</td>\n",
       "      <td>250</td>\n",
       "      <td>18</td>\n",
       "    </tr>\n",
       "    <tr>\n",
       "      <th>2</th>\n",
       "      <td>30.6</td>\n",
       "      <td>260</td>\n",
       "      <td>16</td>\n",
       "    </tr>\n",
       "    <tr>\n",
       "      <th>3</th>\n",
       "      <td>32.8</td>\n",
       "      <td>240</td>\n",
       "      <td>10</td>\n",
       "    </tr>\n",
       "    <tr>\n",
       "      <th>4</th>\n",
       "      <td>20.7</td>\n",
       "      <td>240</td>\n",
       "      <td>20</td>\n",
       "    </tr>\n",
       "  </tbody>\n",
       "</table>\n",
       "</div>"
      ],
      "text/plain": [
       "   Strength  Temperature  Pressure\n",
       "0      30.7          240        16\n",
       "1      24.7          250        18\n",
       "2      30.6          260        16\n",
       "3      32.8          240        10\n",
       "4      20.7          240        20"
      ]
     },
     "execution_count": 3,
     "metadata": {},
     "output_type": "execute_result"
    }
   ],
   "source": [
    "df = pd.read_csv('plastic.csv', names=['Strength', 'Temperature', 'Pressure'], header=None)\n",
    "df.head()"
   ]
  },
  {
   "cell_type": "code",
   "execution_count": 5,
   "id": "55f1e06d",
   "metadata": {},
   "outputs": [
    {
     "data": {
      "image/png": "[encoded data removed]",
      "text/plain": [
       "<Figure size 432x288 with 2 Axes>"
      ]
     },
     "metadata": {
      "needs_background": "light"
     },
     "output_type": "display_data"
    }
   ],
   "source": [
    "#Corelation between the features\n",
    "sns.heatmap(df.corr(), annot=True)\n",
    "plt.title('Corelation between all the variables')\n",
    "plt.show()"
   ]
  },
  {
   "cell_type": "code",
   "execution_count": 6,
   "id": "9605ced1",
   "metadata": {},
   "outputs": [
    {
     "data": {
      "text/plain": [
       "(-0.5360184616460302, array([-0.78963701,  0.15678221]))"
      ]
     },
     "execution_count": 6,
     "metadata": {},
     "output_type": "execute_result"
    }
   ],
   "source": [
    "X = df.iloc[:, :-1]\n",
    "y = df.iloc[:, -1]\n",
    "\n",
    "X_train, X_test, y_train, y_test = train_test_split(X, y, test_size=0.3, random_state=42)\n",
    "\n",
    "lr = LinearRegression()\n",
    "lr.fit(X_train, y_train)\n",
    "\n",
    "lr.intercept_, lr.coef_"
   ]
  },
  {
   "cell_type": "code",
   "execution_count": 8,
   "id": "85f6c216",
   "metadata": {},
   "outputs": [
    {
     "name": "stdout",
     "output_type": "stream",
     "text": [
      "MeanSquareError: 2.146114607340863, R2 Score: 0.8176086638586801\n"
     ]
    }
   ],
   "source": [
    "#Find the mean squared error and R2 score of the model over test set and test set\n",
    "y_pred = lr.predict(X_test)\n",
    "\n",
    "print(f\"MeanSquareError: {mean_squared_error(y_test, y_pred)}, R2 Score: {r2_score(y_test, y_pred)}\")"
   ]
  },
  {
   "cell_type": "code",
   "execution_count": 11,
   "id": "68a4d7d2",
   "metadata": {},
   "outputs": [
    {
     "name": "stdout",
     "output_type": "stream",
     "text": [
      "-0.5350461703951943 [-0.78958868  0.15677251]\n",
      "MeanSquareError: 2.146164753058906, R2 Score: 0.8176044021363637\n"
     ]
    }
   ],
   "source": [
    "model = Ridge()\n",
    "model.fit(X_train, y_train)\n",
    "\n",
    "print(model.intercept_, model.coef_)\n",
    "\n",
    "#Find the mean squared error and R2 score of the model over test set and test set\n",
    "y_pred = model.predict(X_test)\n",
    "\n",
    "print(f\"MeanSquareError: {mean_squared_error(y_test, y_pred)}, R2 Score: {r2_score(y_test, y_pred)}\")"
   ]
  },
  {
   "cell_type": "code",
   "execution_count": null,
   "id": "8fb2dcc7",
   "metadata": {},
   "outputs": [],
   "source": []
  }
 ],
 "metadata": {
  "kernelspec": {
   "display_name": "Python 3",
   "language": "python",
   "name": "python3"
  },
  "language_info": {
   "codemirror_mode": {
    "name": "ipython",
    "version": 3
   },
   "file_extension": ".py",
   "mimetype": "text/x-python",
   "name": "python",
   "nbconvert_exporter": "python",
   "pygments_lexer": "ipython3",
   "version": "3.8.8"
  }
 },
 "nbformat": 4,
 "nbformat_minor": 5
}
