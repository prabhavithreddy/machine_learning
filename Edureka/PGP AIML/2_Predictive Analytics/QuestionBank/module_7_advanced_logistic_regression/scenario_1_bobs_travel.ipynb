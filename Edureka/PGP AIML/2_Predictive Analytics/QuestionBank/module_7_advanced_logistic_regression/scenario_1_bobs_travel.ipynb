{
 "cells": [
  {
   "cell_type": "code",
   "execution_count": 97,
   "id": "da4e9606",
   "metadata": {},
   "outputs": [],
   "source": [
    "import numpy as np\n",
    "import pandas as pd\n",
    "import matplotlib.pyplot as plt\n",
    "import seaborn as sns\n",
    "import warnings\n",
    "warnings.filterwarnings('ignore')\n",
    "\n",
    "from sklearn.metrics import accuracy_score, f1_score, precision_score, recall_score, roc_curve, roc_auc_score, r2_score\n",
    "from sklearn.model_selection import train_test_split\n",
    "\n",
    "\n",
    "from sklearn.preprocessing import LabelEncoder\n",
    "from sklearn.linear_model import LogisticRegression, LinearRegression, Ridge"
   ]
  },
  {
   "cell_type": "markdown",
   "id": "fdabffdc",
   "metadata": {},
   "source": [
    "### Scenario-1: Bob's Travel \n",
    "    Bob is a young college student who leaves in Nagpur. He takes bus to travel around the city, as well as to go \n",
    "    to college. The bus fare around the city is based on the distance travelled by the passenger. At certain times, \n",
    "    bob found himself short of cash and had to walk back home or to nearest atm for more cash. As a beginner \n",
    "    in data science he thought of collecting the data of travel and fare daily. On a daily basis, he started collecting \n",
    "    the amount money spent on bus fares and distance travelled by him. He did this for around four months and \n",
    "    collected the data in a csv file. On a certain day, he got a birthday party invite from his college friend who \n",
    "    lives 75KM from his home. Could you help him to find out how much money he should keep with himself to \n",
    "    go to his friend's house and come back? \n",
    "    Dataset Description: \n",
    "    • Distance_km: Distance travelled in km(real)\n",
    "    • Fare: Fare in INR\n",
    "    \n",
    "    Task to be Performed: \n",
    "    • Calculate the slope and the intercept by using the given formula of slope upto 2 decimal places -\n",
    "    Beginner\n",
    "    • Plot the regression line using matplotlib - Beginner\n",
    "    • Use scikit learn linear regression to calculate the intercept and slope again without any parameters -\n",
    "    Beginner\n",
    "    • Calculate the R2 score of the model using scikit learn - Beginner\n",
    "    • Use scikit learn linear regression to calculate the intercept and slope again without any parameters -\n",
    "    Beginner\n",
    "    • Can Ridge Regression perform better than Linear Regression? - Advanced\n",
    "    ■ Train the model using alpha= 1000\n",
    "    ■ Predict the fare amount when bob wants to travel 150 KM\n",
    "    ■ Calculate the R2 Score\n",
    "    ■ Why the model produced different values?"
   ]
  },
  {
   "cell_type": "code",
   "execution_count": 3,
   "id": "668ee9a6",
   "metadata": {},
   "outputs": [
    {
     "data": {
      "text/html": [
       "<div>\n",
       "<style scoped>\n",
       "    .dataframe tbody tr th:only-of-type {\n",
       "        vertical-align: middle;\n",
       "    }\n",
       "\n",
       "    .dataframe tbody tr th {\n",
       "        vertical-align: top;\n",
       "    }\n",
       "\n",
       "    .dataframe thead th {\n",
       "        text-align: right;\n",
       "    }\n",
       "</style>\n",
       "<table border=\"1\" class=\"dataframe\">\n",
       "  <thead>\n",
       "    <tr style=\"text-align: right;\">\n",
       "      <th></th>\n",
       "      <th>Distance_km</th>\n",
       "      <th>Fare</th>\n",
       "    </tr>\n",
       "  </thead>\n",
       "  <tbody>\n",
       "    <tr>\n",
       "      <th>0</th>\n",
       "      <td>64.623207</td>\n",
       "      <td>12.840647</td>\n",
       "    </tr>\n",
       "    <tr>\n",
       "      <th>1</th>\n",
       "      <td>76.668010</td>\n",
       "      <td>13.124668</td>\n",
       "    </tr>\n",
       "    <tr>\n",
       "      <th>2</th>\n",
       "      <td>59.081022</td>\n",
       "      <td>13.771331</td>\n",
       "    </tr>\n",
       "    <tr>\n",
       "      <th>3</th>\n",
       "      <td>74.584815</td>\n",
       "      <td>13.938487</td>\n",
       "    </tr>\n",
       "    <tr>\n",
       "      <th>4</th>\n",
       "      <td>59.753260</td>\n",
       "      <td>14.185716</td>\n",
       "    </tr>\n",
       "  </tbody>\n",
       "</table>\n",
       "</div>"
      ],
      "text/plain": [
       "   Distance_km       Fare\n",
       "0    64.623207  12.840647\n",
       "1    76.668010  13.124668\n",
       "2    59.081022  13.771331\n",
       "3    74.584815  13.938487\n",
       "4    59.753260  14.185716"
      ]
     },
     "execution_count": 3,
     "metadata": {},
     "output_type": "execute_result"
    }
   ],
   "source": [
    "df = pd.read_csv('College_Travel.csv')\n",
    "df.head()"
   ]
  },
  {
   "cell_type": "code",
   "execution_count": 80,
   "id": "7ac14e7e",
   "metadata": {},
   "outputs": [
    {
     "name": "stdout",
     "output_type": "stream",
     "text": [
      "Mean Distance: 82.62510529721636, Std Distance: 11.55359975128525, Mean Fare: 21.74525431534134, Std Fare 4.975915951106848\n"
     ]
    }
   ],
   "source": [
    "mean_distance = df['Distance_km'].mean()\n",
    "std_distance = df['Distance_km'].std()\n",
    "mean_fare = df['Fare'].mean()\n",
    "std_fare = df['Fare'].std()\n",
    "\n",
    "print(f\"Mean Distance: {mean_distance}, Std Distance: {std_distance}, Mean Fare: {mean_fare}, Std Fare {std_fare}\")"
   ]
  },
  {
   "cell_type": "code",
   "execution_count": 81,
   "id": "9fe900cc",
   "metadata": {},
   "outputs": [
    {
     "name": "stdout",
     "output_type": "stream",
     "text": [
      "5890.422051327345\n"
     ]
    }
   ],
   "source": [
    "sum_of_products = sum((df['Distance_km'] - mean_distance)*(df['Fare'] - mean_fare))\n",
    "print(sum_of_products)"
   ]
  },
  {
   "cell_type": "code",
   "execution_count": 82,
   "id": "06da9d93",
   "metadata": {},
   "outputs": [
    {
     "name": "stdout",
     "output_type": "stream",
     "text": [
      "r: 0.8610117884342492\n"
     ]
    }
   ],
   "source": [
    "r = sum_of_products/(std_distance*std_fare*(df.shape[0]-1))\n",
    "print(f\"r: {r}\")"
   ]
  },
  {
   "cell_type": "code",
   "execution_count": 83,
   "id": "52a77a9e",
   "metadata": {},
   "outputs": [
    {
     "name": "stdout",
     "output_type": "stream",
     "text": [
      "m: 0.37082142227442294\n"
     ]
    }
   ],
   "source": [
    "m = r*(std_fare/std_distance)\n",
    "print(f'm: {m}')"
   ]
  },
  {
   "cell_type": "code",
   "execution_count": 84,
   "id": "fa527565",
   "metadata": {},
   "outputs": [
    {
     "name": "stdout",
     "output_type": "stream",
     "text": [
      "b: -8.893904746546387\n"
     ]
    }
   ],
   "source": [
    "#y = mx + b\n",
    "#b = (y - mx)\n",
    "\n",
    "b = mean_fare - (m*mean_distance)\n",
    "print(f\"b: {b}\")"
   ]
  },
  {
   "cell_type": "code",
   "execution_count": 85,
   "id": "1a8a2a4a",
   "metadata": {},
   "outputs": [
    {
     "data": {
      "text/plain": [
       "(21.74525431534134, 30.639159061887728)"
      ]
     },
     "execution_count": 85,
     "metadata": {},
     "output_type": "execute_result"
    }
   ],
   "source": [
    "mean_fare , (m*mean_distance)"
   ]
  },
  {
   "cell_type": "code",
   "execution_count": 86,
   "id": "1aa2f9ef",
   "metadata": {},
   "outputs": [
    {
     "data": {
      "text/html": [
       "<div>\n",
       "<style scoped>\n",
       "    .dataframe tbody tr th:only-of-type {\n",
       "        vertical-align: middle;\n",
       "    }\n",
       "\n",
       "    .dataframe tbody tr th {\n",
       "        vertical-align: top;\n",
       "    }\n",
       "\n",
       "    .dataframe thead th {\n",
       "        text-align: right;\n",
       "    }\n",
       "</style>\n",
       "<table border=\"1\" class=\"dataframe\">\n",
       "  <thead>\n",
       "    <tr style=\"text-align: right;\">\n",
       "      <th></th>\n",
       "      <th>Distance_km</th>\n",
       "      <th>Fare</th>\n",
       "      <th>Fare_Pred</th>\n",
       "    </tr>\n",
       "  </thead>\n",
       "  <tbody>\n",
       "    <tr>\n",
       "      <th>0</th>\n",
       "      <td>64.623207</td>\n",
       "      <td>12.840647</td>\n",
       "      <td>15.069765</td>\n",
       "    </tr>\n",
       "    <tr>\n",
       "      <th>1</th>\n",
       "      <td>76.668010</td>\n",
       "      <td>13.124668</td>\n",
       "      <td>19.536236</td>\n",
       "    </tr>\n",
       "    <tr>\n",
       "      <th>2</th>\n",
       "      <td>59.081022</td>\n",
       "      <td>13.771331</td>\n",
       "      <td>13.014604</td>\n",
       "    </tr>\n",
       "    <tr>\n",
       "      <th>3</th>\n",
       "      <td>74.584815</td>\n",
       "      <td>13.938487</td>\n",
       "      <td>18.763742</td>\n",
       "    </tr>\n",
       "    <tr>\n",
       "      <th>4</th>\n",
       "      <td>59.753260</td>\n",
       "      <td>14.185716</td>\n",
       "      <td>13.263884</td>\n",
       "    </tr>\n",
       "  </tbody>\n",
       "</table>\n",
       "</div>"
      ],
      "text/plain": [
       "   Distance_km       Fare  Fare_Pred\n",
       "0    64.623207  12.840647  15.069765\n",
       "1    76.668010  13.124668  19.536236\n",
       "2    59.081022  13.771331  13.014604\n",
       "3    74.584815  13.938487  18.763742\n",
       "4    59.753260  14.185716  13.263884"
      ]
     },
     "execution_count": 86,
     "metadata": {},
     "output_type": "execute_result"
    }
   ],
   "source": [
    "df['Fare_Pred'] = m*df['Distance_km'] + b\n",
    "df.head()"
   ]
  },
  {
   "cell_type": "code",
   "execution_count": 87,
   "id": "2137eade",
   "metadata": {},
   "outputs": [
    {
     "data": {
      "image/png": "[encoded data removed]",
      "text/plain": [
       "<Figure size 432x288 with 1 Axes>"
      ]
     },
     "metadata": {
      "needs_background": "light"
     },
     "output_type": "display_data"
    }
   ],
   "source": [
    "sns.scatterplot(data=df,x='Distance_km', y='Fare')\n",
    "plt.xlabel('Distance')\n",
    "plt.ylabel('Fare')\n",
    "#plt.ylim([0,50])\n",
    "#plt.xlim([0,150])\n",
    "plt.show()"
   ]
  },
  {
   "cell_type": "code",
   "execution_count": 88,
   "id": "6db247ca",
   "metadata": {},
   "outputs": [
    {
     "data": {
      "image/png": "[encoded data removed]",
      "text/plain": [
       "<Figure size 432x288 with 1 Axes>"
      ]
     },
     "metadata": {
      "needs_background": "light"
     },
     "output_type": "display_data"
    }
   ],
   "source": [
    "sns.scatterplot(data=df,x='Distance_km', y='Fare_Pred')\n",
    "plt.xlabel('Distance')\n",
    "plt.ylabel('Fare')\n",
    "#plt.ylim([0,50])\n",
    "#plt.xlim([0,150])\n",
    "plt.show()"
   ]
  },
  {
   "cell_type": "code",
   "execution_count": 89,
   "id": "d1613ea7",
   "metadata": {},
   "outputs": [
    {
     "data": {
      "image/png": "[encoded data removed]",
      "text/plain": [
       "<Figure size 360x360 with 1 Axes>"
      ]
     },
     "metadata": {
      "needs_background": "light"
     },
     "output_type": "display_data"
    }
   ],
   "source": [
    "result = sns.lmplot(data=df, x='Distance_km', y='Fare')\n",
    "plt.ylim([0,50])\n",
    "plt.xlim([0,150])\n",
    "plt.show()"
   ]
  },
  {
   "cell_type": "code",
   "execution_count": 90,
   "id": "004cd879",
   "metadata": {},
   "outputs": [
    {
     "data": {
      "text/plain": [
       "LinearRegression()"
      ]
     },
     "execution_count": 90,
     "metadata": {},
     "output_type": "execute_result"
    }
   ],
   "source": [
    "X = df[['Distance_km']]\n",
    "y = df[['Fare']]\n",
    "lr = LinearRegression()\n",
    "lr.fit(X, y)\n"
   ]
  },
  {
   "cell_type": "code",
   "execution_count": 91,
   "id": "0b7d0cf5",
   "metadata": {},
   "outputs": [
    {
     "data": {
      "text/plain": [
       "(array([[0.37082142]]), array([-8.89390475]), 0.741341299822744)"
      ]
     },
     "execution_count": 91,
     "metadata": {},
     "output_type": "execute_result"
    }
   ],
   "source": [
    "lr.coef_, lr.intercept_, lr.score(X, y)"
   ]
  },
  {
   "cell_type": "code",
   "execution_count": 95,
   "id": "908fcbf2",
   "metadata": {},
   "outputs": [
    {
     "data": {
      "text/plain": [
       "0.741341299822744"
      ]
     },
     "execution_count": 95,
     "metadata": {},
     "output_type": "execute_result"
    }
   ],
   "source": [
    "r2_score(df['Fare'], df['Fare_Pred'])"
   ]
  },
  {
   "cell_type": "code",
   "execution_count": 108,
   "id": "cbb40151",
   "metadata": {},
   "outputs": [],
   "source": [
    "X = df[['Distance_km']]\n",
    "y = df[['Fare']]\n",
    "X_train, X_test, y_train, y_test = train_test_split(X,y,test_size=0.3, random_state=42)"
   ]
  },
  {
   "cell_type": "code",
   "execution_count": 111,
   "id": "414bd966",
   "metadata": {},
   "outputs": [
    {
     "name": "stdout",
     "output_type": "stream",
     "text": [
      "LinearRegression: R2 Score: 0.7434299954747913\n",
      "Ridge: R2 Score: 0.7562836746562807\n"
     ]
    }
   ],
   "source": [
    "models = {'LinearRegression': LinearRegression(), 'Ridge': Ridge(alpha=1000)}\n",
    "for key in models.keys():\n",
    "    model = models[key]\n",
    "    model.fit(X_train, y_train)\n",
    "    \n",
    "    y_pred = model.predict(X_test)\n",
    "    \n",
    "    print(f\"{key}: R2 Score: {r2_score(y_test, y_pred)}\")"
   ]
  },
  {
   "cell_type": "code",
   "execution_count": 112,
   "id": "0d1affc5",
   "metadata": {},
   "outputs": [
    {
     "name": "stdout",
     "output_type": "stream",
     "text": [
      "Predicted value for 150KM for LinearRegression: [[47.58824094]]\n",
      "Predicted value for 150KM for Ridge: [[45.29054058]]\n"
     ]
    }
   ],
   "source": [
    "for key in models.keys():\n",
    "    model = models[key]\n",
    "    y_pred = model.predict([[150]])\n",
    "    print(f\"Predicted value for 150KM for {key}: {y_pred}\")"
   ]
  },
  {
   "cell_type": "code",
   "execution_count": null,
   "id": "665e652d",
   "metadata": {},
   "outputs": [],
   "source": []
  }
 ],
 "metadata": {
  "kernelspec": {
   "display_name": "Python 3",
   "language": "python",
   "name": "python3"
  },
  "language_info": {
   "codemirror_mode": {
    "name": "ipython",
    "version": 3
   },
   "file_extension": ".py",
   "mimetype": "text/x-python",
   "name": "python",
   "nbconvert_exporter": "python",
   "pygments_lexer": "ipython3",
   "version": "3.8.8"
  }
 },
 "nbformat": 4,
 "nbformat_minor": 5
}
