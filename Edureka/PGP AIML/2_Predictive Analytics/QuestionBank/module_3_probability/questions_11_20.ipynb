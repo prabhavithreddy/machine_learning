{
 "cells": [
  {
   "cell_type": "code",
   "execution_count": 2,
   "id": "a9e0c603",
   "metadata": {},
   "outputs": [],
   "source": [
    "import numpy as np\n",
    "import pandas as pd\n",
    "import matplotlib.pyplot as plt\n",
    "import seaborn as sns\n",
    "import warnings\n",
    "warnings.filterwarnings('ignore')"
   ]
  },
  {
   "cell_type": "markdown",
   "id": "807a2e14",
   "metadata": {},
   "source": [
    "### Question 11\n",
    "    (Intermediate) (Bridging Question)\n",
    "    Topics Covered: Marginal Probability\n",
    "    An automobile vendor wants to analyze the cars sold in the past month to further improve its Sales. As a first step, the vendor \n",
    "    wants to find the carbody type (hatchback, sedan, etc.) which was sold the maximum and its pobability amongst all cars sold."
   ]
  },
  {
   "cell_type": "code",
   "execution_count": 3,
   "id": "d24d4093",
   "metadata": {},
   "outputs": [
    {
     "data": {
      "text/html": [
       "<div>\n",
       "<style scoped>\n",
       "    .dataframe tbody tr th:only-of-type {\n",
       "        vertical-align: middle;\n",
       "    }\n",
       "\n",
       "    .dataframe tbody tr th {\n",
       "        vertical-align: top;\n",
       "    }\n",
       "\n",
       "    .dataframe thead th {\n",
       "        text-align: right;\n",
       "    }\n",
       "</style>\n",
       "<table border=\"1\" class=\"dataframe\">\n",
       "  <thead>\n",
       "    <tr style=\"text-align: right;\">\n",
       "      <th></th>\n",
       "      <th>carname</th>\n",
       "      <th>fueltype</th>\n",
       "      <th>aspiration</th>\n",
       "      <th>doornumber</th>\n",
       "      <th>carbody</th>\n",
       "      <th>drivewheel</th>\n",
       "      <th>enginelocation</th>\n",
       "      <th>wheelbase</th>\n",
       "      <th>carlength</th>\n",
       "      <th>carwidth</th>\n",
       "      <th>...</th>\n",
       "      <th>enginesize</th>\n",
       "      <th>fuelsystem</th>\n",
       "      <th>boreratio</th>\n",
       "      <th>stroke</th>\n",
       "      <th>compressionratio</th>\n",
       "      <th>horsepower</th>\n",
       "      <th>peakrpm</th>\n",
       "      <th>citympg</th>\n",
       "      <th>highwaympg</th>\n",
       "      <th>price</th>\n",
       "    </tr>\n",
       "  </thead>\n",
       "  <tbody>\n",
       "    <tr>\n",
       "      <th>0</th>\n",
       "      <td>alfa-romero giulia</td>\n",
       "      <td>gas</td>\n",
       "      <td>std</td>\n",
       "      <td>two</td>\n",
       "      <td>convertible</td>\n",
       "      <td>rwd</td>\n",
       "      <td>front</td>\n",
       "      <td>88.6</td>\n",
       "      <td>168.8</td>\n",
       "      <td>64.1</td>\n",
       "      <td>...</td>\n",
       "      <td>130.0</td>\n",
       "      <td>mpfi</td>\n",
       "      <td>3.47</td>\n",
       "      <td>2.68</td>\n",
       "      <td>9.0</td>\n",
       "      <td>111</td>\n",
       "      <td>5000</td>\n",
       "      <td>21</td>\n",
       "      <td>27</td>\n",
       "      <td>13495.0</td>\n",
       "    </tr>\n",
       "    <tr>\n",
       "      <th>1</th>\n",
       "      <td>alfa-romero stelvio</td>\n",
       "      <td>gas</td>\n",
       "      <td>std</td>\n",
       "      <td>two</td>\n",
       "      <td>convertible</td>\n",
       "      <td>rwd</td>\n",
       "      <td>front</td>\n",
       "      <td>88.6</td>\n",
       "      <td>168.8</td>\n",
       "      <td>64.1</td>\n",
       "      <td>...</td>\n",
       "      <td>130.0</td>\n",
       "      <td>mpfi</td>\n",
       "      <td>3.47</td>\n",
       "      <td>2.68</td>\n",
       "      <td>9.0</td>\n",
       "      <td>111</td>\n",
       "      <td>5000</td>\n",
       "      <td>21</td>\n",
       "      <td>27</td>\n",
       "      <td>16500.0</td>\n",
       "    </tr>\n",
       "    <tr>\n",
       "      <th>2</th>\n",
       "      <td>alfa-romero Quadrifoglio</td>\n",
       "      <td>gas</td>\n",
       "      <td>std</td>\n",
       "      <td>two</td>\n",
       "      <td>hatchback</td>\n",
       "      <td>rwd</td>\n",
       "      <td>front</td>\n",
       "      <td>94.5</td>\n",
       "      <td>171.2</td>\n",
       "      <td>65.5</td>\n",
       "      <td>...</td>\n",
       "      <td>152.0</td>\n",
       "      <td>mpfi</td>\n",
       "      <td>2.68</td>\n",
       "      <td>3.47</td>\n",
       "      <td>9.0</td>\n",
       "      <td>154</td>\n",
       "      <td>5000</td>\n",
       "      <td>19</td>\n",
       "      <td>26</td>\n",
       "      <td>16500.0</td>\n",
       "    </tr>\n",
       "    <tr>\n",
       "      <th>3</th>\n",
       "      <td>audi 100 ls</td>\n",
       "      <td>gas</td>\n",
       "      <td>std</td>\n",
       "      <td>four</td>\n",
       "      <td>sedan</td>\n",
       "      <td>fwd</td>\n",
       "      <td>front</td>\n",
       "      <td>99.8</td>\n",
       "      <td>176.6</td>\n",
       "      <td>66.2</td>\n",
       "      <td>...</td>\n",
       "      <td>109.0</td>\n",
       "      <td>mpfi</td>\n",
       "      <td>3.19</td>\n",
       "      <td>3.40</td>\n",
       "      <td>10.0</td>\n",
       "      <td>102</td>\n",
       "      <td>5500</td>\n",
       "      <td>24</td>\n",
       "      <td>30</td>\n",
       "      <td>13950.0</td>\n",
       "    </tr>\n",
       "    <tr>\n",
       "      <th>4</th>\n",
       "      <td>audi 100ls</td>\n",
       "      <td>gas</td>\n",
       "      <td>std</td>\n",
       "      <td>four</td>\n",
       "      <td>sedan</td>\n",
       "      <td>4wd</td>\n",
       "      <td>front</td>\n",
       "      <td>99.4</td>\n",
       "      <td>176.6</td>\n",
       "      <td>66.4</td>\n",
       "      <td>...</td>\n",
       "      <td>136.0</td>\n",
       "      <td>mpfi</td>\n",
       "      <td>3.19</td>\n",
       "      <td>3.40</td>\n",
       "      <td>8.0</td>\n",
       "      <td>115</td>\n",
       "      <td>5500</td>\n",
       "      <td>18</td>\n",
       "      <td>22</td>\n",
       "      <td>17450.0</td>\n",
       "    </tr>\n",
       "  </tbody>\n",
       "</table>\n",
       "<p>5 rows × 24 columns</p>\n",
       "</div>"
      ],
      "text/plain": [
       "                    carname fueltype aspiration doornumber      carbody  \\\n",
       "0        alfa-romero giulia      gas        std        two  convertible   \n",
       "1       alfa-romero stelvio      gas        std        two  convertible   \n",
       "2  alfa-romero Quadrifoglio      gas        std        two    hatchback   \n",
       "3               audi 100 ls      gas        std       four        sedan   \n",
       "4                audi 100ls      gas        std       four        sedan   \n",
       "\n",
       "  drivewheel enginelocation  wheelbase  carlength  carwidth  ...  enginesize  \\\n",
       "0        rwd          front       88.6      168.8      64.1  ...       130.0   \n",
       "1        rwd          front       88.6      168.8      64.1  ...       130.0   \n",
       "2        rwd          front       94.5      171.2      65.5  ...       152.0   \n",
       "3        fwd          front       99.8      176.6      66.2  ...       109.0   \n",
       "4        4wd          front       99.4      176.6      66.4  ...       136.0   \n",
       "\n",
       "   fuelsystem boreratio stroke  compressionratio horsepower  peakrpm  citympg  \\\n",
       "0        mpfi      3.47   2.68               9.0        111     5000       21   \n",
       "1        mpfi      3.47   2.68               9.0        111     5000       21   \n",
       "2        mpfi      2.68   3.47               9.0        154     5000       19   \n",
       "3        mpfi      3.19   3.40              10.0        102     5500       24   \n",
       "4        mpfi      3.19   3.40               8.0        115     5500       18   \n",
       "\n",
       "   highwaympg    price  \n",
       "0          27  13495.0  \n",
       "1          27  16500.0  \n",
       "2          26  16500.0  \n",
       "3          30  13950.0  \n",
       "4          22  17450.0  \n",
       "\n",
       "[5 rows x 24 columns]"
      ]
     },
     "execution_count": 3,
     "metadata": {},
     "output_type": "execute_result"
    }
   ],
   "source": [
    "df = pd.read_csv('Cars.csv')\n",
    "df.head()"
   ]
  },
  {
   "cell_type": "markdown",
   "id": "c46d43c4",
   "metadata": {},
   "source": [
    "### Find the carbody type which was sold the maximum. Calculate the probability of selling that carbody type amongst all the cars sold."
   ]
  },
  {
   "cell_type": "code",
   "execution_count": 4,
   "id": "6de714e4",
   "metadata": {},
   "outputs": [
    {
     "data": {
      "image/png": "[encoded data removed]",
      "text/plain": [
       "<Figure size 432x288 with 1 Axes>"
      ]
     },
     "metadata": {
      "needs_background": "light"
     },
     "output_type": "display_data"
    }
   ],
   "source": [
    "sns.countplot(df['carbody'])\n",
    "plt.show()"
   ]
  },
  {
   "cell_type": "markdown",
   "id": "d5817292",
   "metadata": {},
   "source": [
    "> Sedan was sold most"
   ]
  },
  {
   "cell_type": "code",
   "execution_count": 5,
   "id": "519b4daf",
   "metadata": {},
   "outputs": [
    {
     "data": {
      "text/plain": [
       "sedan          96\n",
       "hatchback      70\n",
       "wagon          25\n",
       "hardtop         8\n",
       "convertible     6\n",
       "Name: carbody, dtype: int64"
      ]
     },
     "execution_count": 5,
     "metadata": {},
     "output_type": "execute_result"
    }
   ],
   "source": [
    "df['carbody'].value_counts()"
   ]
  },
  {
   "cell_type": "code",
   "execution_count": 6,
   "id": "29a7ebbb",
   "metadata": {},
   "outputs": [],
   "source": [
    "total = df['carbody'].value_counts().sum()"
   ]
  },
  {
   "cell_type": "code",
   "execution_count": 7,
   "id": "634a74be",
   "metadata": {},
   "outputs": [
    {
     "name": "stdout",
     "output_type": "stream",
     "text": [
      "Probability of selling sedan is 0.468\n"
     ]
    }
   ],
   "source": [
    "p_sedan = 96/total\n",
    "print(f'Probability of selling sedan is {np.round(p_sedan,3)}')"
   ]
  },
  {
   "cell_type": "markdown",
   "id": "5ef09c28",
   "metadata": {},
   "source": [
    "### Question 12 -\n",
    "    (Intermediate)\n",
    "    Topics Covered: Joint Probability (Percentage)\n",
    "    An automobile vendor wants to analyze the cars sold in the past month to further improve its Sales. \n",
    "    It has been observed that cars with carbody type as sedan were sold the maximum.\n",
    "    Out of theses sedan type cars, the vendor wants to know how many were using fueltype as gas"
   ]
  },
  {
   "cell_type": "code",
   "execution_count": 14,
   "id": "e4f00408",
   "metadata": {},
   "outputs": [
    {
     "data": {
      "text/html": [
       "<div>\n",
       "<style scoped>\n",
       "    .dataframe tbody tr th:only-of-type {\n",
       "        vertical-align: middle;\n",
       "    }\n",
       "\n",
       "    .dataframe tbody tr th {\n",
       "        vertical-align: top;\n",
       "    }\n",
       "\n",
       "    .dataframe thead th {\n",
       "        text-align: right;\n",
       "    }\n",
       "</style>\n",
       "<table border=\"1\" class=\"dataframe\">\n",
       "  <thead>\n",
       "    <tr style=\"text-align: right;\">\n",
       "      <th>carbody</th>\n",
       "      <th>convertible</th>\n",
       "      <th>hardtop</th>\n",
       "      <th>hatchback</th>\n",
       "      <th>sedan</th>\n",
       "      <th>wagon</th>\n",
       "    </tr>\n",
       "    <tr>\n",
       "      <th>fueltype</th>\n",
       "      <th></th>\n",
       "      <th></th>\n",
       "      <th></th>\n",
       "      <th></th>\n",
       "      <th></th>\n",
       "    </tr>\n",
       "  </thead>\n",
       "  <tbody>\n",
       "    <tr>\n",
       "      <th>diesel</th>\n",
       "      <td>0</td>\n",
       "      <td>1</td>\n",
       "      <td>1</td>\n",
       "      <td>15</td>\n",
       "      <td>3</td>\n",
       "    </tr>\n",
       "    <tr>\n",
       "      <th>gas</th>\n",
       "      <td>6</td>\n",
       "      <td>7</td>\n",
       "      <td>69</td>\n",
       "      <td>81</td>\n",
       "      <td>22</td>\n",
       "    </tr>\n",
       "  </tbody>\n",
       "</table>\n",
       "</div>"
      ],
      "text/plain": [
       "carbody   convertible  hardtop  hatchback  sedan  wagon\n",
       "fueltype                                               \n",
       "diesel              0        1          1     15      3\n",
       "gas                 6        7         69     81     22"
      ]
     },
     "execution_count": 14,
     "metadata": {},
     "output_type": "execute_result"
    }
   ],
   "source": [
    "pd.crosstab( df['fueltype'], df['carbody'],normalize=False)"
   ]
  },
  {
   "cell_type": "markdown",
   "id": "e05780f5",
   "metadata": {},
   "source": [
    "> ### 86 cars where fueltype as gas "
   ]
  },
  {
   "cell_type": "markdown",
   "id": "dd3371aa",
   "metadata": {},
   "source": [
    "### Calculate the percentage of cars sold having fueltype as gas and sedan as its carbody type"
   ]
  },
  {
   "cell_type": "code",
   "execution_count": 26,
   "id": "22f8453d",
   "metadata": {},
   "outputs": [
    {
     "data": {
      "text/plain": [
       "0.4226055919095777"
      ]
     },
     "execution_count": 26,
     "metadata": {},
     "output_type": "execute_result"
    }
   ],
   "source": [
    "join_prob = p_sedan * (185/205)\n",
    "join_prob"
   ]
  },
  {
   "cell_type": "code",
   "execution_count": 28,
   "id": "eba0eb38",
   "metadata": {},
   "outputs": [
    {
     "data": {
      "text/plain": [
       "81"
      ]
     },
     "execution_count": 28,
     "metadata": {},
     "output_type": "execute_result"
    }
   ],
   "source": [
    "df[(df['carbody'] == 'sedan') & (df['fueltype'] == 'gas')]['carname'].count()"
   ]
  },
  {
   "cell_type": "markdown",
   "id": "a2d6827f",
   "metadata": {},
   "source": [
    "### An automobile vendor wants to analyze the cars sold in the past month to further improve its Sales.\n",
    "    Given that the aspiration type is standard (std), what is the probability that the car sold is a four door car (doornumber)?"
   ]
  },
  {
   "cell_type": "code",
   "execution_count": 32,
   "id": "5f229105",
   "metadata": {},
   "outputs": [
    {
     "data": {
      "text/plain": [
       "0.8195121951219512"
      ]
     },
     "execution_count": 32,
     "metadata": {},
     "output_type": "execute_result"
    }
   ],
   "source": [
    "p_aspiration = (df['aspiration'] == 'std').sum()/df.shape[0]\n",
    "p_aspiration"
   ]
  },
  {
   "cell_type": "code",
   "execution_count": 40,
   "id": "a34b8c6c",
   "metadata": {},
   "outputs": [
    {
     "data": {
      "text/plain": [
       "0.45365853658536587"
      ]
     },
     "execution_count": 40,
     "metadata": {},
     "output_type": "execute_result"
    }
   ],
   "source": [
    "p_aspiration_4_door = ((df['aspiration'] == 'std') & (df['doornumber'] == 'four')).sum()/df.shape[0]\n",
    "p_aspiration_4_door"
   ]
  },
  {
   "cell_type": "code",
   "execution_count": 44,
   "id": "8c017a97",
   "metadata": {},
   "outputs": [
    {
     "data": {
      "text/plain": [
       "0.554"
      ]
     },
     "execution_count": 44,
     "metadata": {},
     "output_type": "execute_result"
    }
   ],
   "source": [
    "p_doornumber_aspiration = round(p_aspiration_4_door/p_aspiration,3)\n",
    "p_doornumber_aspiration"
   ]
  },
  {
   "cell_type": "markdown",
   "id": "1c0ca8ed",
   "metadata": {},
   "source": [
    "### Question 14 - Probability Distribution\n",
    "    (Intermediate)\n",
    "    Topics Covered:\n",
    "    Probability Distribution - Bernoulli\n",
    "    Expected Value & Variance of Bernoulli Distribution\n",
    "    Democratic Party has been in power since past decade in the state of XYZ. In the upcoming Electoral Poll, the chances of \n",
    "    Democratic Party winning are 80% against the only other party, Republican.\n",
    "    Consider a random variable X that represents the winning of Democratic party.\n",
    "    1. Plot the probability distribution of X by generating 10000 randon numbers.\n",
    "    2. Calculate X's expected value and variance.\n",
    "    The only possible outcomes in this case are two, Win or Lose, the distribution of winning probability can be \n",
    "    represented using Bernoulli's Distribution"
   ]
  },
  {
   "cell_type": "code",
   "execution_count": 45,
   "id": "67a0aa87",
   "metadata": {},
   "outputs": [
    {
     "data": {
      "text/plain": [
       "<AxesSubplot:xlabel='Bernoulli Distribution', ylabel='Frequency'>"
      ]
     },
     "execution_count": 45,
     "metadata": {},
     "output_type": "execute_result"
    },
    {
     "data": {
      "image/png": "[encoded data removed]",
      "text/plain": [
       "<Figure size 432x288 with 1 Axes>"
      ]
     },
     "metadata": {
      "needs_background": "light"
     },
     "output_type": "display_data"
    }
   ],
   "source": [
    "from scipy.stats import bernoulli\n",
    "\n",
    "data_bern = bernoulli.rvs(size=10000, p=0.8)\n",
    "ax = sns.distplot(data_bern, kde=False, color='blue', \n",
    "                  hist_kws = {'linewidth':15, 'alpha': 1})\n",
    "ax.set(xlabel='Bernoulli Distribution', ylabel='Frequency')\n",
    "ax"
   ]
  },
  {
   "cell_type": "code",
   "execution_count": 46,
   "id": "440c229c",
   "metadata": {},
   "outputs": [
    {
     "name": "stdout",
     "output_type": "stream",
     "text": [
      "0.19999999999999998\n",
      "0.8\n"
     ]
    }
   ],
   "source": [
    "#Finding the bernouilis distribution when x=0 and x=1 with p=0.8\n",
    "print(bernoulli.pmf(0,0.8))\n",
    "print(bernoulli.pmf(1,0.8))"
   ]
  },
  {
   "cell_type": "code",
   "execution_count": 47,
   "id": "2dde22f0",
   "metadata": {},
   "outputs": [
    {
     "name": "stdout",
     "output_type": "stream",
     "text": [
      "0.8\n",
      "0.15999999999999998\n"
     ]
    }
   ],
   "source": [
    "# Finding the mean and variance\n",
    "p=0.8\n",
    "print(bernoulli.mean(p, loc=0))\n",
    "print(bernoulli.var(p, loc=0))\n"
   ]
  },
  {
   "cell_type": "markdown",
   "id": "f7f2313a",
   "metadata": {},
   "source": [
    "### Question 15 - Sample Mean\n",
    "    (Intermediate)\n",
    "    Topics Covered:\n",
    "    Generating random samples\n",
    "    Sample Mean\n",
    "    Mean of Sample Means\n",
    "    Before starting a Weight Loss program, AppyFit Fitness Institute, wants to analyze the performance of the\n",
    "    program using some random data.\n",
    "    It wants to calculate mean loss in weight that can be achieved in a batch. A batch of program consists of 50\n",
    "    participants. It is known from past programs, that the range of weight loss achieved is between 5 kgs to 25 kg.\n",
    "    To help this institute, perform random experiment as described below:\n",
    "    1. Generate random samples of size 50 in the above given range\n",
    "    2. Calculate mean weight loss of these 50 data points\n",
    "    3. Simulate this 1000 times\n",
    "    4. Calculate mean of sample means"
   ]
  },
  {
   "cell_type": "code",
   "execution_count": 50,
   "id": "be0ce6ab",
   "metadata": {},
   "outputs": [
    {
     "data": {
      "text/plain": [
       "array([13,  6, 18, 24, 11, 23, 18, 20, 16, 18, 16, 14, 17, 12,  5, 18, 23,\n",
       "       13, 16,  7, 11,  5, 18, 14,  6, 11, 19, 15,  5, 14,  6, 23, 20,  7,\n",
       "       23, 24,  7, 18,  6,  5,  9, 13, 11,  6, 10, 22, 18,  7, 12, 18])"
      ]
     },
     "execution_count": 50,
     "metadata": {},
     "output_type": "execute_result"
    }
   ],
   "source": [
    "samples = np.random.randint(5,25,50)\n",
    "samples"
   ]
  },
  {
   "cell_type": "code",
   "execution_count": 51,
   "id": "dd7557b4",
   "metadata": {},
   "outputs": [
    {
     "name": "stdout",
     "output_type": "stream",
     "text": [
      "Mean:  13.82\n"
     ]
    }
   ],
   "source": [
    "print(f\"Mean: \",np.mean(samples))"
   ]
  },
  {
   "cell_type": "code",
   "execution_count": 52,
   "id": "c00a4920",
   "metadata": {},
   "outputs": [
    {
     "name": "stdout",
     "output_type": "stream",
     "text": [
      "Simulated Mean: 14.483059999999998\n"
     ]
    }
   ],
   "source": [
    "mean_list = []\n",
    "for i in range(1,1001):\n",
    "    mean_list.append(np.mean(np.random.randint(5,25,50)))\n",
    "print(f'Simulated Mean: {np.mean(mean_list)}')"
   ]
  },
  {
   "cell_type": "markdown",
   "id": "18df2bbd",
   "metadata": {},
   "source": [
    "### Question 16 - Probability Analysis on Covid-19 Data\n",
    "    (Advanced) (Bridging Question)\n",
    "    Topics Covered:\n",
    "    Types of Probabilities: Marginal & Conditional Rules of Probability\n",
    "    Types of Events: Independent & Dependent\n",
    "    The world saw an outbreak of a pandemic in the year 2020, COVID-19. A large amount and variety of data is available to \n",
    "    perform research on this data.\n",
    "    The first step of a Data Science process is performing stattistics on the given data. Thus, start with the process of \n",
    "    calculating various probabilities as described below. \n",
    "    These will help in analyzing the outbreak based on factors such as Age, Gender, etc."
   ]
  },
  {
   "cell_type": "code",
   "execution_count": 54,
   "id": "88af9f0a",
   "metadata": {},
   "outputs": [
    {
     "data": {
      "text/html": [
       "<div>\n",
       "<style scoped>\n",
       "    .dataframe tbody tr th:only-of-type {\n",
       "        vertical-align: middle;\n",
       "    }\n",
       "\n",
       "    .dataframe tbody tr th {\n",
       "        vertical-align: top;\n",
       "    }\n",
       "\n",
       "    .dataframe thead th {\n",
       "        text-align: right;\n",
       "    }\n",
       "</style>\n",
       "<table border=\"1\" class=\"dataframe\">\n",
       "  <thead>\n",
       "    <tr style=\"text-align: right;\">\n",
       "      <th></th>\n",
       "      <th>global_num</th>\n",
       "      <th>sex</th>\n",
       "      <th>birth_year</th>\n",
       "      <th>age</th>\n",
       "      <th>country</th>\n",
       "      <th>province</th>\n",
       "      <th>city</th>\n",
       "      <th>disease</th>\n",
       "      <th>infection_case</th>\n",
       "      <th>infection_order</th>\n",
       "      <th>infected_by</th>\n",
       "      <th>contact_number</th>\n",
       "      <th>symptom_onset_date</th>\n",
       "      <th>confirmed_date</th>\n",
       "      <th>released_date</th>\n",
       "      <th>deceased_date</th>\n",
       "      <th>state</th>\n",
       "    </tr>\n",
       "    <tr>\n",
       "      <th>patient_id</th>\n",
       "      <th></th>\n",
       "      <th></th>\n",
       "      <th></th>\n",
       "      <th></th>\n",
       "      <th></th>\n",
       "      <th></th>\n",
       "      <th></th>\n",
       "      <th></th>\n",
       "      <th></th>\n",
       "      <th></th>\n",
       "      <th></th>\n",
       "      <th></th>\n",
       "      <th></th>\n",
       "      <th></th>\n",
       "      <th></th>\n",
       "      <th></th>\n",
       "      <th></th>\n",
       "    </tr>\n",
       "  </thead>\n",
       "  <tbody>\n",
       "    <tr>\n",
       "      <th>1000000001</th>\n",
       "      <td>2.0</td>\n",
       "      <td>male</td>\n",
       "      <td>1964</td>\n",
       "      <td>50s</td>\n",
       "      <td>Korea</td>\n",
       "      <td>Seoul</td>\n",
       "      <td>Gangseo-gu</td>\n",
       "      <td>NaN</td>\n",
       "      <td>overseas inflow</td>\n",
       "      <td>1.0</td>\n",
       "      <td>NaN</td>\n",
       "      <td>75</td>\n",
       "      <td>2020-01-22</td>\n",
       "      <td>2020-01-23</td>\n",
       "      <td>2020-02-05</td>\n",
       "      <td>NaN</td>\n",
       "      <td>released</td>\n",
       "    </tr>\n",
       "    <tr>\n",
       "      <th>1000000002</th>\n",
       "      <td>5.0</td>\n",
       "      <td>male</td>\n",
       "      <td>1987</td>\n",
       "      <td>30s</td>\n",
       "      <td>Korea</td>\n",
       "      <td>Seoul</td>\n",
       "      <td>Jungnang-gu</td>\n",
       "      <td>NaN</td>\n",
       "      <td>overseas inflow</td>\n",
       "      <td>1.0</td>\n",
       "      <td>NaN</td>\n",
       "      <td>31</td>\n",
       "      <td>NaN</td>\n",
       "      <td>2020-01-30</td>\n",
       "      <td>2020-03-02</td>\n",
       "      <td>NaN</td>\n",
       "      <td>released</td>\n",
       "    </tr>\n",
       "    <tr>\n",
       "      <th>1000000003</th>\n",
       "      <td>6.0</td>\n",
       "      <td>male</td>\n",
       "      <td>1964</td>\n",
       "      <td>50s</td>\n",
       "      <td>Korea</td>\n",
       "      <td>Seoul</td>\n",
       "      <td>Jongno-gu</td>\n",
       "      <td>NaN</td>\n",
       "      <td>contact with patient</td>\n",
       "      <td>2.0</td>\n",
       "      <td>2002000001</td>\n",
       "      <td>17</td>\n",
       "      <td>NaN</td>\n",
       "      <td>2020-01-30</td>\n",
       "      <td>2020-02-19</td>\n",
       "      <td>NaN</td>\n",
       "      <td>released</td>\n",
       "    </tr>\n",
       "    <tr>\n",
       "      <th>1000000004</th>\n",
       "      <td>7.0</td>\n",
       "      <td>male</td>\n",
       "      <td>1991</td>\n",
       "      <td>20s</td>\n",
       "      <td>Korea</td>\n",
       "      <td>Seoul</td>\n",
       "      <td>Mapo-gu</td>\n",
       "      <td>NaN</td>\n",
       "      <td>overseas inflow</td>\n",
       "      <td>1.0</td>\n",
       "      <td>NaN</td>\n",
       "      <td>9</td>\n",
       "      <td>2020-01-26</td>\n",
       "      <td>2020-01-30</td>\n",
       "      <td>2020-02-15</td>\n",
       "      <td>NaN</td>\n",
       "      <td>released</td>\n",
       "    </tr>\n",
       "    <tr>\n",
       "      <th>1000000005</th>\n",
       "      <td>9.0</td>\n",
       "      <td>female</td>\n",
       "      <td>1992</td>\n",
       "      <td>20s</td>\n",
       "      <td>Korea</td>\n",
       "      <td>Seoul</td>\n",
       "      <td>Seongbuk-gu</td>\n",
       "      <td>NaN</td>\n",
       "      <td>contact with patient</td>\n",
       "      <td>2.0</td>\n",
       "      <td>1000000002</td>\n",
       "      <td>2</td>\n",
       "      <td>NaN</td>\n",
       "      <td>2020-01-31</td>\n",
       "      <td>2020-02-24</td>\n",
       "      <td>NaN</td>\n",
       "      <td>released</td>\n",
       "    </tr>\n",
       "  </tbody>\n",
       "</table>\n",
       "</div>"
      ],
      "text/plain": [
       "            global_num     sex birth_year  age country province         city  \\\n",
       "patient_id                                                                     \n",
       "1000000001         2.0    male       1964  50s   Korea    Seoul   Gangseo-gu   \n",
       "1000000002         5.0    male       1987  30s   Korea    Seoul  Jungnang-gu   \n",
       "1000000003         6.0    male       1964  50s   Korea    Seoul    Jongno-gu   \n",
       "1000000004         7.0    male       1991  20s   Korea    Seoul      Mapo-gu   \n",
       "1000000005         9.0  female       1992  20s   Korea    Seoul  Seongbuk-gu   \n",
       "\n",
       "           disease        infection_case  infection_order infected_by  \\\n",
       "patient_id                                                              \n",
       "1000000001     NaN       overseas inflow              1.0         NaN   \n",
       "1000000002     NaN       overseas inflow              1.0         NaN   \n",
       "1000000003     NaN  contact with patient              2.0  2002000001   \n",
       "1000000004     NaN       overseas inflow              1.0         NaN   \n",
       "1000000005     NaN  contact with patient              2.0  1000000002   \n",
       "\n",
       "           contact_number symptom_onset_date confirmed_date released_date  \\\n",
       "patient_id                                                                  \n",
       "1000000001             75         2020-01-22     2020-01-23    2020-02-05   \n",
       "1000000002             31                NaN     2020-01-30    2020-03-02   \n",
       "1000000003             17                NaN     2020-01-30    2020-02-19   \n",
       "1000000004              9         2020-01-26     2020-01-30    2020-02-15   \n",
       "1000000005              2                NaN     2020-01-31    2020-02-24   \n",
       "\n",
       "           deceased_date     state  \n",
       "patient_id                          \n",
       "1000000001           NaN  released  \n",
       "1000000002           NaN  released  \n",
       "1000000003           NaN  released  \n",
       "1000000004           NaN  released  \n",
       "1000000005           NaN  released  "
      ]
     },
     "execution_count": 54,
     "metadata": {},
     "output_type": "execute_result"
    }
   ],
   "source": [
    "df = pd.read_csv('covid19_patient_info.csv', index_col='patient_id')\n",
    "df.head()"
   ]
  },
  {
   "cell_type": "markdown",
   "id": "b784f9ff",
   "metadata": {},
   "source": [
    "    1. Calculate the probability that a patient is *male*\n",
    "    2. Determine the gender which has the higher probability for the specified value of\n",
    "    age. Take *age* as input from user"
   ]
  },
  {
   "cell_type": "code",
   "execution_count": 60,
   "id": "08f7d174",
   "metadata": {},
   "outputs": [
    {
     "name": "stdout",
     "output_type": "stream",
     "text": [
      "probability that a patient is male is: 0.413\n"
     ]
    }
   ],
   "source": [
    "p_male = (df['sex'] == 'male').sum()/df.shape[0]\n",
    "print(f\"probability that a patient is male is: {np.round(p_male,3)}\")"
   ]
  },
  {
   "cell_type": "code",
   "execution_count": 62,
   "id": "557b8ade",
   "metadata": {},
   "outputs": [
    {
     "data": {
      "text/html": [
       "<div>\n",
       "<style scoped>\n",
       "    .dataframe tbody tr th:only-of-type {\n",
       "        vertical-align: middle;\n",
       "    }\n",
       "\n",
       "    .dataframe tbody tr th {\n",
       "        vertical-align: top;\n",
       "    }\n",
       "\n",
       "    .dataframe thead th {\n",
       "        text-align: right;\n",
       "    }\n",
       "</style>\n",
       "<table border=\"1\" class=\"dataframe\">\n",
       "  <thead>\n",
       "    <tr style=\"text-align: right;\">\n",
       "      <th>age</th>\n",
       "      <th>0s</th>\n",
       "      <th>100s</th>\n",
       "      <th>10s</th>\n",
       "      <th>20s</th>\n",
       "      <th>30</th>\n",
       "      <th>30s</th>\n",
       "      <th>40s</th>\n",
       "      <th>50s</th>\n",
       "      <th>60s</th>\n",
       "      <th>70s</th>\n",
       "      <th>80s</th>\n",
       "      <th>90s</th>\n",
       "    </tr>\n",
       "    <tr>\n",
       "      <th>sex</th>\n",
       "      <th></th>\n",
       "      <th></th>\n",
       "      <th></th>\n",
       "      <th></th>\n",
       "      <th></th>\n",
       "      <th></th>\n",
       "      <th></th>\n",
       "      <th></th>\n",
       "      <th></th>\n",
       "      <th></th>\n",
       "      <th></th>\n",
       "      <th></th>\n",
       "    </tr>\n",
       "  </thead>\n",
       "  <tbody>\n",
       "    <tr>\n",
       "      <th>female</th>\n",
       "      <td>26</td>\n",
       "      <td>1</td>\n",
       "      <td>64</td>\n",
       "      <td>442</td>\n",
       "      <td>1</td>\n",
       "      <td>234</td>\n",
       "      <td>290</td>\n",
       "      <td>376</td>\n",
       "      <td>236</td>\n",
       "      <td>129</td>\n",
       "      <td>110</td>\n",
       "      <td>31</td>\n",
       "    </tr>\n",
       "    <tr>\n",
       "      <th>male</th>\n",
       "      <td>34</td>\n",
       "      <td>0</td>\n",
       "      <td>96</td>\n",
       "      <td>417</td>\n",
       "      <td>0</td>\n",
       "      <td>259</td>\n",
       "      <td>193</td>\n",
       "      <td>249</td>\n",
       "      <td>187</td>\n",
       "      <td>81</td>\n",
       "      <td>52</td>\n",
       "      <td>16</td>\n",
       "    </tr>\n",
       "  </tbody>\n",
       "</table>\n",
       "</div>"
      ],
      "text/plain": [
       "age     0s  100s  10s  20s  30  30s  40s  50s  60s  70s  80s  90s\n",
       "sex                                                              \n",
       "female  26     1   64  442   1  234  290  376  236  129  110   31\n",
       "male    34     0   96  417   0  259  193  249  187   81   52   16"
      ]
     },
     "execution_count": 62,
     "metadata": {},
     "output_type": "execute_result"
    }
   ],
   "source": [
    "gender_age_df = pd.crosstab(df['sex'], df['age'], normalize=False)\n",
    "gender_age_df"
   ]
  },
  {
   "cell_type": "code",
   "execution_count": 71,
   "id": "b86cee0f",
   "metadata": {},
   "outputs": [
    {
     "data": {
      "text/plain": [
       "'female'"
      ]
     },
     "execution_count": 71,
     "metadata": {},
     "output_type": "execute_result"
    }
   ],
   "source": [
    "age = 40\n",
    "p_age = gender_age_df[gender_age_df.loc[:, str(age)+\"s\"] == gender_age_df.loc[:, str(age)+\"s\"].max()].index[0]\n",
    "p_age"
   ]
  },
  {
   "cell_type": "markdown",
   "id": "786482de",
   "metadata": {},
   "source": [
    "### Question 17 - Probability Distribution - Uniform\n",
    "    (Advanced)\n",
    "    Topics Covered:\n",
    "    Probability Distribution: Uniform Mean & Variance from distribution Probability from distribution\n",
    "    The thickness x of a protective coating applied to a conducting metal follows a uniform distribution over the interval [22, 42] \n",
    "    microns. Find the mean, variance and also the probability that the coating is less than 35 microns thick. Also, plot the \n",
    "    Uniform Distribution graph for 100 random variables with above specifications"
   ]
  },
  {
   "cell_type": "code",
   "execution_count": null,
   "id": "d1a4bb3a",
   "metadata": {},
   "outputs": [],
   "source": [
    "from scipy.stats import uniform\n",
    "uniform.rvs()"
   ]
  },
  {
   "cell_type": "code",
   "execution_count": 81,
   "id": "08867b98",
   "metadata": {},
   "outputs": [
    {
     "data": {
      "image/png": "[encoded data removed]",
      "text/plain": [
       "<Figure size 432x288 with 1 Axes>"
      ]
     },
     "metadata": {
      "needs_background": "light"
     },
     "output_type": "display_data"
    }
   ],
   "source": [
    "variables = np.random.uniform(22,42,100)\n",
    "sns.distplot(variables)\n",
    "plt.show()"
   ]
  },
  {
   "cell_type": "code",
   "execution_count": 82,
   "id": "1c601cb4",
   "metadata": {},
   "outputs": [
    {
     "name": "stdout",
     "output_type": "stream",
     "text": [
      "Mean: 32.02360015358996, Var: 33.726272942670896\n"
     ]
    }
   ],
   "source": [
    "print(f\"Mean: {np.mean(variables)}, Var: {np.var(variables)}\")"
   ]
  },
  {
   "cell_type": "code",
   "execution_count": 83,
   "id": "f45e3cc8",
   "metadata": {},
   "outputs": [
    {
     "data": {
      "text/plain": [
       "0.61"
      ]
     },
     "execution_count": 83,
     "metadata": {},
     "output_type": "execute_result"
    }
   ],
   "source": [
    "p_less_than_35 = (variables < 35).sum()/len(variables)\n",
    "p_less_than_35"
   ]
  },
  {
   "cell_type": "code",
   "execution_count": 90,
   "id": "a019374a",
   "metadata": {},
   "outputs": [
    {
     "data": {
      "image/png": "[encoded data removed]",
      "text/plain": [
       "<Figure size 432x288 with 1 Axes>"
      ]
     },
     "metadata": {
      "needs_background": "light"
     },
     "output_type": "display_data"
    },
    {
     "name": "stdout",
     "output_type": "stream",
     "text": [
      "Mean: 32.21161596118832, Var: 39.24070556287794\n"
     ]
    },
    {
     "data": {
      "text/plain": [
       "0.63"
      ]
     },
     "execution_count": 90,
     "metadata": {},
     "output_type": "execute_result"
    }
   ],
   "source": [
    "from scipy.stats import uniform\n",
    "variables = uniform.rvs(size=100, loc=22, scale=21)\n",
    "sns.distplot(variables)\n",
    "plt.show()\n",
    "print(f\"Mean: {np.mean(variables)}, Var: {np.var(variables)}\")\n",
    "p_less_than_35 = (variables < 35).sum()/len(variables)\n",
    "p_less_than_35"
   ]
  },
  {
   "cell_type": "code",
   "execution_count": 94,
   "id": "1348add0",
   "metadata": {},
   "outputs": [
    {
     "data": {
      "text/plain": [
       "0.6190476190476191"
      ]
     },
     "execution_count": 94,
     "metadata": {},
     "output_type": "execute_result"
    }
   ],
   "source": [
    "uniform.cdf(35, loc=22, scale=21)"
   ]
  },
  {
   "cell_type": "code",
   "execution_count": 95,
   "id": "66d3e150",
   "metadata": {},
   "outputs": [
    {
     "name": "stdout",
     "output_type": "stream",
     "text": [
      "Mean:  39.5\n",
      "Variance:  126.75\n"
     ]
    }
   ],
   "source": [
    "print(\"Mean: \", uniform.mean(loc=20,scale=39))\n",
    "print(\"Variance: \", uniform.var(loc=20,scale=39))"
   ]
  },
  {
   "cell_type": "markdown",
   "id": "8d6aaee3",
   "metadata": {},
   "source": [
    "### Question 18 - Probability Analysis on Students Data\n",
    "    (Advanced) (Bridging Question)\n",
    "    Topics Covered:\n",
    "    Nornal Distribution\n",
    "    Probability of a range of values (CDF)\n",
    "    For a health inspection in a university, heights of students need to be analyzed. Students' data containing details\n",
    "    such as age, height, weight, scores etc. is provided for the same. The data is available at\n",
    "    https://www.dropbox.com/s/noh3lk3lrh4k2va/students.csv?dl=0\n",
    "    (https://www.dropbox.com/s/noh3lk3lrh4k2va/students.csv?dl=0) in a table named students.csv The attributes\n",
    "    names are self-explanatory such as: stud.id, name, gender, age, height, weight, religion, nc.score, semester,\n",
    "    major, minor, score1, score2, online.tutorial, graduated, salary.\n",
    "    In this question, we will analyze the height variable"
   ]
  },
  {
   "cell_type": "code",
   "execution_count": 97,
   "id": "1fb3f7fd",
   "metadata": {},
   "outputs": [
    {
     "data": {
      "text/html": [
       "<div>\n",
       "<style scoped>\n",
       "    .dataframe tbody tr th:only-of-type {\n",
       "        vertical-align: middle;\n",
       "    }\n",
       "\n",
       "    .dataframe tbody tr th {\n",
       "        vertical-align: top;\n",
       "    }\n",
       "\n",
       "    .dataframe thead th {\n",
       "        text-align: right;\n",
       "    }\n",
       "</style>\n",
       "<table border=\"1\" class=\"dataframe\">\n",
       "  <thead>\n",
       "    <tr style=\"text-align: right;\">\n",
       "      <th></th>\n",
       "      <th>name</th>\n",
       "      <th>gender</th>\n",
       "      <th>age</th>\n",
       "      <th>height</th>\n",
       "      <th>weight</th>\n",
       "      <th>religion</th>\n",
       "      <th>nc.score</th>\n",
       "      <th>semester</th>\n",
       "      <th>major</th>\n",
       "      <th>minor</th>\n",
       "      <th>score1</th>\n",
       "      <th>score2</th>\n",
       "      <th>online.tutorial</th>\n",
       "      <th>graduated</th>\n",
       "      <th>salary</th>\n",
       "    </tr>\n",
       "    <tr>\n",
       "      <th>stud.id</th>\n",
       "      <th></th>\n",
       "      <th></th>\n",
       "      <th></th>\n",
       "      <th></th>\n",
       "      <th></th>\n",
       "      <th></th>\n",
       "      <th></th>\n",
       "      <th></th>\n",
       "      <th></th>\n",
       "      <th></th>\n",
       "      <th></th>\n",
       "      <th></th>\n",
       "      <th></th>\n",
       "      <th></th>\n",
       "      <th></th>\n",
       "    </tr>\n",
       "  </thead>\n",
       "  <tbody>\n",
       "    <tr>\n",
       "      <th>833917</th>\n",
       "      <td>Gonzales, Christina</td>\n",
       "      <td>Female</td>\n",
       "      <td>19</td>\n",
       "      <td>160</td>\n",
       "      <td>64.8</td>\n",
       "      <td>Muslim</td>\n",
       "      <td>1.91</td>\n",
       "      <td>1st</td>\n",
       "      <td>Political Science</td>\n",
       "      <td>Social Sciences</td>\n",
       "      <td>NaN</td>\n",
       "      <td>NaN</td>\n",
       "      <td>0</td>\n",
       "      <td>0</td>\n",
       "      <td>NaN</td>\n",
       "    </tr>\n",
       "    <tr>\n",
       "      <th>898539</th>\n",
       "      <td>Lozano, T'Hani</td>\n",
       "      <td>Female</td>\n",
       "      <td>19</td>\n",
       "      <td>172</td>\n",
       "      <td>73.0</td>\n",
       "      <td>Other</td>\n",
       "      <td>1.56</td>\n",
       "      <td>2nd</td>\n",
       "      <td>Social Sciences</td>\n",
       "      <td>Mathematics and Statistics</td>\n",
       "      <td>NaN</td>\n",
       "      <td>NaN</td>\n",
       "      <td>0</td>\n",
       "      <td>0</td>\n",
       "      <td>NaN</td>\n",
       "    </tr>\n",
       "    <tr>\n",
       "      <th>379678</th>\n",
       "      <td>Williams, Hanh</td>\n",
       "      <td>Female</td>\n",
       "      <td>22</td>\n",
       "      <td>168</td>\n",
       "      <td>70.6</td>\n",
       "      <td>Protestant</td>\n",
       "      <td>1.24</td>\n",
       "      <td>3rd</td>\n",
       "      <td>Social Sciences</td>\n",
       "      <td>Mathematics and Statistics</td>\n",
       "      <td>45.0</td>\n",
       "      <td>46.0</td>\n",
       "      <td>0</td>\n",
       "      <td>0</td>\n",
       "      <td>NaN</td>\n",
       "    </tr>\n",
       "    <tr>\n",
       "      <th>807564</th>\n",
       "      <td>Nem, Denzel</td>\n",
       "      <td>Male</td>\n",
       "      <td>19</td>\n",
       "      <td>183</td>\n",
       "      <td>79.7</td>\n",
       "      <td>Other</td>\n",
       "      <td>1.37</td>\n",
       "      <td>2nd</td>\n",
       "      <td>Environmental Sciences</td>\n",
       "      <td>Mathematics and Statistics</td>\n",
       "      <td>NaN</td>\n",
       "      <td>NaN</td>\n",
       "      <td>0</td>\n",
       "      <td>0</td>\n",
       "      <td>NaN</td>\n",
       "    </tr>\n",
       "    <tr>\n",
       "      <th>383291</th>\n",
       "      <td>Powell, Heather</td>\n",
       "      <td>Female</td>\n",
       "      <td>21</td>\n",
       "      <td>175</td>\n",
       "      <td>71.4</td>\n",
       "      <td>Catholic</td>\n",
       "      <td>1.46</td>\n",
       "      <td>1st</td>\n",
       "      <td>Environmental Sciences</td>\n",
       "      <td>Mathematics and Statistics</td>\n",
       "      <td>NaN</td>\n",
       "      <td>NaN</td>\n",
       "      <td>0</td>\n",
       "      <td>0</td>\n",
       "      <td>NaN</td>\n",
       "    </tr>\n",
       "  </tbody>\n",
       "</table>\n",
       "</div>"
      ],
      "text/plain": [
       "                        name  gender  age  height  weight    religion  \\\n",
       "stud.id                                                                 \n",
       "833917   Gonzales, Christina  Female   19     160    64.8      Muslim   \n",
       "898539        Lozano, T'Hani  Female   19     172    73.0       Other   \n",
       "379678        Williams, Hanh  Female   22     168    70.6  Protestant   \n",
       "807564           Nem, Denzel    Male   19     183    79.7       Other   \n",
       "383291       Powell, Heather  Female   21     175    71.4    Catholic   \n",
       "\n",
       "         nc.score semester                   major  \\\n",
       "stud.id                                              \n",
       "833917       1.91      1st       Political Science   \n",
       "898539       1.56      2nd         Social Sciences   \n",
       "379678       1.24      3rd         Social Sciences   \n",
       "807564       1.37      2nd  Environmental Sciences   \n",
       "383291       1.46      1st  Environmental Sciences   \n",
       "\n",
       "                              minor  score1  score2  online.tutorial  \\\n",
       "stud.id                                                                \n",
       "833917              Social Sciences     NaN     NaN                0   \n",
       "898539   Mathematics and Statistics     NaN     NaN                0   \n",
       "379678   Mathematics and Statistics    45.0    46.0                0   \n",
       "807564   Mathematics and Statistics     NaN     NaN                0   \n",
       "383291   Mathematics and Statistics     NaN     NaN                0   \n",
       "\n",
       "         graduated  salary  \n",
       "stud.id                     \n",
       "833917           0     NaN  \n",
       "898539           0     NaN  \n",
       "379678           0     NaN  \n",
       "807564           0     NaN  \n",
       "383291           0     NaN  "
      ]
     },
     "execution_count": 97,
     "metadata": {},
     "output_type": "execute_result"
    }
   ],
   "source": [
    "df = pd.read_csv('students.csv', index_col=[0])\n",
    "df.head()"
   ]
  },
  {
   "cell_type": "markdown",
   "id": "67ca34d7",
   "metadata": {},
   "source": [
    "1. Plot the distribution of values of column *height* and observe that it follows n\n",
    "ormal distribution\n",
    "2. Calculate the mean & standard deviation of heights\n",
    "3. Calculate the probability that the height is greater that 180 cm and less than 1\n",
    "90 cm"
   ]
  },
  {
   "cell_type": "code",
   "execution_count": 98,
   "id": "a938dc14",
   "metadata": {},
   "outputs": [
    {
     "data": {
      "image/png": "[encoded data removed]",
      "text/plain": [
       "<Figure size 432x288 with 1 Axes>"
      ]
     },
     "metadata": {
      "needs_background": "light"
     },
     "output_type": "display_data"
    }
   ],
   "source": [
    "sns.distplot(df['height'])\n",
    "plt.show()"
   ]
  },
  {
   "cell_type": "code",
   "execution_count": 101,
   "id": "f872f984",
   "metadata": {},
   "outputs": [
    {
     "data": {
      "text/plain": [
       "mean    171.380750\n",
       "var     122.711652\n",
       "std      11.077529\n",
       "Name: height, dtype: float64"
      ]
     },
     "execution_count": 101,
     "metadata": {},
     "output_type": "execute_result"
    }
   ],
   "source": [
    "df['height'].agg(['mean','var','std'])"
   ]
  },
  {
   "cell_type": "code",
   "execution_count": 103,
   "id": "ef710dc9",
   "metadata": {},
   "outputs": [
    {
     "data": {
      "text/plain": [
       "0.1752639883481005"
      ]
     },
     "execution_count": 103,
     "metadata": {},
     "output_type": "execute_result"
    }
   ],
   "source": [
    "p_180_190 = ((df['height'] > 180) & (df['height'] < 190)).sum()/df.shape[0]\n",
    "p_180_190"
   ]
  },
  {
   "cell_type": "code",
   "execution_count": 106,
   "id": "2f07b48d",
   "metadata": {},
   "outputs": [
    {
     "data": {
      "text/plain": [
       "0.16666666666666674"
      ]
     },
     "execution_count": 106,
     "metadata": {},
     "output_type": "execute_result"
    }
   ],
   "source": [
    "uniform.cdf(190, loc=140, scale=60) - uniform.cdf(180, loc=140, scale=60)"
   ]
  },
  {
   "cell_type": "markdown",
   "id": "238df62f",
   "metadata": {},
   "source": [
    "### Question 19 - Poker Prediction\n",
    "(Advanced)\n",
    "Topics Covered:\n",
    "Bayes' Theorem\n",
    "In Casino is analyzing the games of Poker played there in order to build an algorithm that can defeat the best of\n",
    "players."
   ]
  },
  {
   "cell_type": "markdown",
   "id": "1ab34c4c",
   "metadata": {},
   "source": [
    "- Probability that a player is lying = 0.75\n",
    "- Probability that a player is not lying = 0.25\n",
    "- Probability that a player wins when he lied = 0.43\n",
    "- Probability that a player wins when he did not lie = 0.57\n",
    "Calculate the probability that a player was lying given that he has won the game"
   ]
  },
  {
   "cell_type": "code",
   "execution_count": 109,
   "id": "02adf379",
   "metadata": {},
   "outputs": [
    {
     "data": {
      "text/plain": [
       "0.694"
      ]
     },
     "execution_count": 109,
     "metadata": {},
     "output_type": "execute_result"
    }
   ],
   "source": [
    "p_A1 = 0.75\n",
    "p_A2 = 0.25\n",
    "p_B_A1 = 0.43\n",
    "p_B_A2 = 0.57\n",
    "\n",
    "# p(A1/B) = (p(B/A1)*p(A1))/((p(B/A1)*p(A1)) + (p(B/A2)*p(A2)))\n",
    "\n",
    "prob = np.round((0.43*0.75)/((0.43*0.75)+(0.57*0.25)),3)\n",
    "prob"
   ]
  },
  {
   "cell_type": "markdown",
   "id": "38c9c8f4",
   "metadata": {},
   "source": [
    "### Question 20 - Geometric Distribution\n",
    "    (Advanced)\n",
    "    Terminals on an on-line computer system are attached to a communication line on the central computer system.\n",
    "    The probability that any terminal is ready to transmit is 0.03.\n",
    "    1.Find the probability that 8 terminals are polled until the first ready terminal is located.\n",
    "    2.Find the mean & variance \n",
    "    Hint: Use Geometric Distribution. Generate 10000 random samples following the\n",
    "    above specification."
   ]
  },
  {
   "cell_type": "code",
   "execution_count": 114,
   "id": "3c83ca6d",
   "metadata": {},
   "outputs": [
    {
     "data": {
      "image/png": "[encoded data removed]",
      "text/plain": [
       "<Figure size 432x288 with 1 Axes>"
      ]
     },
     "metadata": {
      "needs_background": "light"
     },
     "output_type": "display_data"
    }
   ],
   "source": [
    "from scipy.stats import geom\n",
    "data = geom.rvs(p=0.03, size=10000)\n",
    "\n",
    "sns.distplot(data, bins=30, kde=False, color='green')\n",
    "plt.ylabel('Frequency')\n",
    "plt.xlabel('Geometric Distribution')\n",
    "plt.show()"
   ]
  },
  {
   "cell_type": "code",
   "execution_count": 115,
   "id": "eec9b2d6",
   "metadata": {},
   "outputs": [
    {
     "data": {
      "text/plain": [
       "0.024"
      ]
     },
     "execution_count": 115,
     "metadata": {},
     "output_type": "execute_result"
    }
   ],
   "source": [
    "prob = np.round(geom.pmf(8, 0.03, loc=0),3)\n",
    "prob"
   ]
  },
  {
   "cell_type": "code",
   "execution_count": 116,
   "id": "77322120",
   "metadata": {},
   "outputs": [
    {
     "data": {
      "text/plain": [
       "(33.333333333333336, 1077.7777777777778)"
      ]
     },
     "execution_count": 116,
     "metadata": {},
     "output_type": "execute_result"
    }
   ],
   "source": [
    "geom.mean(0.03, loc=0),geom.var(0.03, loc=0)"
   ]
  },
  {
   "cell_type": "code",
   "execution_count": null,
   "id": "f4981e1a",
   "metadata": {},
   "outputs": [],
   "source": []
  }
 ],
 "metadata": {
  "kernelspec": {
   "display_name": "Python 3",
   "language": "python",
   "name": "python3"
  },
  "language_info": {
   "codemirror_mode": {
    "name": "ipython",
    "version": 3
   },
   "file_extension": ".py",
   "mimetype": "text/x-python",
   "name": "python",
   "nbconvert_exporter": "python",
   "pygments_lexer": "ipython3",
   "version": "3.8.8"
  }
 },
 "nbformat": 4,
 "nbformat_minor": 5
}
