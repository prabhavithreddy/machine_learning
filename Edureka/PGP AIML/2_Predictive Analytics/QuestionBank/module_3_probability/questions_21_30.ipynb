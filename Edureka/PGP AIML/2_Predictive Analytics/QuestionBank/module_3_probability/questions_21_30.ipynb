{
 "cells": [
  {
   "cell_type": "code",
   "execution_count": 1,
   "id": "ef339824",
   "metadata": {},
   "outputs": [],
   "source": [
    "import numpy as np\n",
    "import pandas as pd\n",
    "import matplotlib.pyplot as plt\n",
    "import seaborn as sns\n",
    "import warnings\n",
    "warnings.filterwarnings('ignore')"
   ]
  },
  {
   "cell_type": "markdown",
   "id": "c9b51036",
   "metadata": {},
   "source": [
    "### Question 21 - Random Data\n",
    "    (Advanced) (Bridging Question)\n",
    "    Out[42]: <matplotlib.axes._subplots.AxesSubplot at 0x14c21510>\n",
    "    Probability that 8 terminals are polled until the first ready terminal is loc\n",
    "    ated is 0.024 \n",
    "    Mean: 33.333333333333336 \n",
    "    Variance: 1077.7777777777778 \n",
    "    edureka!\n",
    "    916/29/2020 Module_3_Probability_v1.1\n",
    "    localhost:8888/nbconvert/html/Module_3_Probability_v1.1.ipynb?download=false 32/33\n",
    "    Topics Covered:\n",
    "    Nornal Distribution\n",
    "    Polynomial Regression\n",
    "    Mean square error\n",
    "    DESCRIPTION\n",
    "    Perform the steps as mentioned below to create a random data set and perform linear regression on the data:\n",
    "    1. Set seed to 1\n",
    "    2. Create 200 observations based on Standard Normal Distribution (Mean = 0 & Standard deviation = 1.0) and\n",
    "    store them into variable X\n",
    "    3. Create 200 observations based on Normal Distribution with mean as 0.75 and variance as 0.90 and store\n",
    "    them into variable err\n",
    "    4. Using X and err, generate y as y = -1+0.75*X+err\n",
    "    5. Fit a polynomial regression model as follows:\n",
    "    First, fit & transform X using fit_transform and polynomial features of degree 2 Use this transformed X and y for\n",
    "    fitting a linear regression model Print the values of its coefficients and intercept\n",
    "    1. Predict the values for y using the above model\n",
    "    Use the above model to predict the values of y based on the transformed X\n",
    "    Calculate the Mean Square Error in the predicted y and actual y\n",
    "    Print its value below the existing rows created in Step 5"
   ]
  },
  {
   "cell_type": "code",
   "execution_count": 17,
   "id": "987b6ff5",
   "metadata": {},
   "outputs": [],
   "source": [
    "from sklearn.preprocessing import PolynomialFeatures\n",
    "from sklearn.linear_model import LinearRegression\n",
    "from sklearn.metrics import mean_squared_error"
   ]
  },
  {
   "cell_type": "code",
   "execution_count": 19,
   "id": "01825838",
   "metadata": {},
   "outputs": [],
   "source": [
    "np.random.seed(1)\n",
    "X = np.random.randn(200)\n",
    "std = np.sqrt(0.9)\n",
    "err = np.random.normal(0.75, std, 200)\n",
    "y = -1 + 0.75 * X +err"
   ]
  },
  {
   "cell_type": "code",
   "execution_count": 24,
   "id": "cf7fd3b9",
   "metadata": {},
   "outputs": [
    {
     "name": "stdout",
     "output_type": "stream",
     "text": [
      "[array([ 0.   ,  0.704, -0.046]), -0.211]\n"
     ]
    }
   ],
   "source": [
    "value = []\n",
    "poly = PolynomialFeatures(2)\n",
    "X_poly = poly.fit_transform(X.reshape(-1,1))\n",
    "slm_poly = LinearRegression()\n",
    "slm_poly.fit(X_poly, y)\n",
    "value.append(np.round(slm_poly.coef_,3))\n",
    "value.append(np.round(slm_poly.intercept_,3))\n",
    "print(value)\n"
   ]
  },
  {
   "cell_type": "code",
   "execution_count": 25,
   "id": "56c129b9",
   "metadata": {},
   "outputs": [
    {
     "name": "stdout",
     "output_type": "stream",
     "text": [
      "Mean squared error: 0.96\n"
     ]
    }
   ],
   "source": [
    "predict_poly = slm_poly.predict(X_poly)\n",
    "print(\"Mean squared error: %.2f\" % mean_squared_error(y,predict_poly))"
   ]
  },
  {
   "cell_type": "code",
   "execution_count": null,
   "id": "da6cf700",
   "metadata": {},
   "outputs": [],
   "source": []
  }
 ],
 "metadata": {
  "kernelspec": {
   "display_name": "Python 3",
   "language": "python",
   "name": "python3"
  },
  "language_info": {
   "codemirror_mode": {
    "name": "ipython",
    "version": 3
   },
   "file_extension": ".py",
   "mimetype": "text/x-python",
   "name": "python",
   "nbconvert_exporter": "python",
   "pygments_lexer": "ipython3",
   "version": "3.8.8"
  }
 },
 "nbformat": 4,
 "nbformat_minor": 5
}
