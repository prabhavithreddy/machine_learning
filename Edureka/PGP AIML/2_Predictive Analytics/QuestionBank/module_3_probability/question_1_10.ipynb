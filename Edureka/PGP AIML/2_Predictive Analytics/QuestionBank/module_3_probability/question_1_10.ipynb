{
 "cells": [
  {
   "cell_type": "code",
   "execution_count": 13,
   "id": "9ace6baf",
   "metadata": {},
   "outputs": [],
   "source": [
    "import numpy as np\n",
    "import matplotlib.pyplot as plt"
   ]
  },
  {
   "cell_type": "markdown",
   "id": "83aea51c",
   "metadata": {},
   "source": [
    "### Question 1 - Simple Probability (Beginner)\n",
    "    In the game of Spin the Wheel as shown below, the Red colored stripe represents the Wining of the Lottery!\n",
    "    What's the probability of winning the lottery in a single spin of the wheel?"
   ]
  },
  {
   "cell_type": "code",
   "execution_count": 1,
   "id": "64dd5c3f",
   "metadata": {},
   "outputs": [
    {
     "data": {
      "text/plain": [
       "0.25"
      ]
     },
     "execution_count": 1,
     "metadata": {},
     "output_type": "execute_result"
    }
   ],
   "source": [
    "no_of_red_bars = 3\n",
    "total_no_of_bars = 12\n",
    "probability_of_red = no_of_red_bars/total_no_of_bars\n",
    "probability_of_red"
   ]
  },
  {
   "cell_type": "markdown",
   "id": "a5d58869",
   "metadata": {},
   "source": [
    "### Question 2 - Simple Probability (Beginner)\n",
    "    An online food delivery business wants to analyze the orders received from it's customers on a holiday.\n",
    "    \n",
    "    The orders received on that day for different types of cuisines are as follows:\n",
    "    Only Vegetarian: 15 \n",
    "    International Cuisine: 15 \n",
    "    North Indian Cuisine: 30 \n",
    "    South Indian Cuisine: 30 \n",
    "    Desserts: 10 \n",
    "    Calculate the folowing probabilities:\n",
    "    1. Probability of ordering Only Vegitarian Food\n",
    "    2. Probability of ordering Desserts\n"
   ]
  },
  {
   "cell_type": "code",
   "execution_count": 4,
   "id": "eae27e7f",
   "metadata": {},
   "outputs": [
    {
     "name": "stdout",
     "output_type": "stream",
     "text": [
      "Probability of ordering Only Vegitarian Food: 0.15\n"
     ]
    }
   ],
   "source": [
    "veg = 15\n",
    "total = 100\n",
    "p_veg = veg/100\n",
    "print(f\"Probability of ordering Only Vegitarian Food: {p_veg}\")"
   ]
  },
  {
   "cell_type": "code",
   "execution_count": 5,
   "id": "1cfbff17",
   "metadata": {},
   "outputs": [
    {
     "name": "stdout",
     "output_type": "stream",
     "text": [
      "Probability of ordering Desserts: 0.1\n"
     ]
    }
   ],
   "source": [
    "desserts = 10\n",
    "total = 100\n",
    "desserts = desserts/100\n",
    "print(f\"Probability of ordering Desserts: {desserts}\")"
   ]
  },
  {
   "cell_type": "markdown",
   "id": "5f810752",
   "metadata": {},
   "source": [
    "### Question 3 - Rules of Probability (Addition Rule) (Beginner)\n",
    "\n",
    "    A Bakery has a variety of Dessert items as shown below\n",
    "    Chocolate Cupcakes: 8\n",
    "    Strawberry Cupcakes: 5\n",
    "    Chocolate Donuts: 7\n",
    "    Strawberry Donuts: 4\n",
    "    \n",
    "    What is the probability of getting a cupcake or an item of chocolate?"
   ]
  },
  {
   "cell_type": "code",
   "execution_count": 6,
   "id": "86295560",
   "metadata": {},
   "outputs": [
    {
     "name": "stdout",
     "output_type": "stream",
     "text": [
      "0.8333333333333333\n"
     ]
    }
   ],
   "source": [
    "# P(Cupcake or chocolate) = P(cupcake) + P(chocolate) - P(Cupcake&Chocolate)\n",
    "p_cupcake = 13/24\n",
    "p_chocolate = 15/24\n",
    "p_cupcake_chocolate = 8/24\n",
    "\n",
    "print(p_cupcake + p_chocolate - p_cupcake_chocolate)"
   ]
  },
  {
   "cell_type": "markdown",
   "id": "348d6232",
   "metadata": {},
   "source": [
    "### Question 4 - Rules of Probability (Multiplication Rule - Independent Events) (Beginner)\n",
    "    In a marketing effort, a financial institute offered Credit Card options to its customers as follows:\n",
    "    1. Type of Credit Card out of Shop, Cinema or Travel\n",
    "    2. Option of photo on the Credit card out of Custom, Default or No Photo\n",
    "    \n",
    "    Probabilities of Types of Credit Cards\n",
    "    P(Shop) = 0.37\n",
    "    P(Cinema)= 0.23\n",
    "    P(Travel) = 0.4\n",
    "    \n",
    "    Probabilities of Options of Photo on Credit Card\n",
    "    P(Custom) = 0.53\n",
    "    P(Default) = 0.37\n",
    "    P(No Photo) = 0.1\n",
    "    \n",
    "    What is the probability that a customer selected a Credit Card of type Travel with No Photo option?"
   ]
  },
  {
   "cell_type": "code",
   "execution_count": 8,
   "id": "f79c49de",
   "metadata": {},
   "outputs": [
    {
     "name": "stdout",
     "output_type": "stream",
     "text": [
      "0.04\n"
     ]
    }
   ],
   "source": [
    "p_travel = 0.4\n",
    "p_no_photo = 0.1\n",
    "\n",
    "p_travel_and_no_photo = p_travel * p_no_photo\n",
    "print(\"{:.2f}\".format(p_travel_and_no_photo))"
   ]
  },
  {
   "cell_type": "markdown",
   "id": "0e80ade7",
   "metadata": {},
   "source": [
    "### Question 5 - Rules of Probability (Multiplication Rule - Dependent Events) (Beginner)\n",
    "    State government has started a Housing Lottery Scheme for people from low income group. There are total 1300\n",
    "    applications received. Out of these, 100 will be picked out as winners one after the other in an online event.\n",
    "    When the first card is drawn, a house will be allotted to it & it will be out from the lottery and so on.\n",
    "    The applicants are from three age groups:\n",
    "    25-40: 350\n",
    "    41-60: 750\n",
    "    61 & above:200\n",
    "    What is the probability of drawing applicants from the age group 61 & above in the first two draws?\n"
   ]
  },
  {
   "cell_type": "code",
   "execution_count": 9,
   "id": "0ed494d3",
   "metadata": {},
   "outputs": [
    {
     "name": "stdout",
     "output_type": "stream",
     "text": [
      "0.023568425416000474\n"
     ]
    }
   ],
   "source": [
    "p_61_plus = 200/1300\n",
    "p_61_plus_2 = 199/1299\n",
    "\n",
    "print(p_61_plus*p_61_plus_2)"
   ]
  },
  {
   "cell_type": "markdown",
   "id": "43a93f3f",
   "metadata": {},
   "source": [
    "### Question 6 - Random Variables - Normal Distribution (Beginner)\n",
    "    Generate 10000 random numbers following a Normal Distribution. Plot the distribution graph using 100 number\n",
    "    of bins"
   ]
  },
  {
   "cell_type": "code",
   "execution_count": 16,
   "id": "11586ff0",
   "metadata": {},
   "outputs": [
    {
     "data": {
      "image/png": "[encoded data removed]",
      "text/plain": [
       "<Figure size 432x288 with 1 Axes>"
      ]
     },
     "metadata": {
      "needs_background": "light"
     },
     "output_type": "display_data"
    }
   ],
   "source": [
    "numbers = np.random.randn(10000)\n",
    "plt.hist(numbers, bins=100)\n",
    "plt.show()"
   ]
  },
  {
   "cell_type": "code",
   "execution_count": 17,
   "id": "7447b730",
   "metadata": {},
   "outputs": [
    {
     "name": "stderr",
     "output_type": "stream",
     "text": [
      "C:\\Users\\vlekkala\\Anaconda3\\lib\\site-packages\\seaborn\\distributions.py:2557: FutureWarning: `distplot` is a deprecated function and will be removed in a future version. Please adapt your code to use either `displot` (a figure-level function with similar flexibility) or `histplot` (an axes-level function for histograms).\n",
      "  warnings.warn(msg, FutureWarning)\n"
     ]
    },
    {
     "data": {
      "text/plain": [
       "[Text(0.5, 0, 'Normal Distribution'), Text(0, 0.5, 'Frequency')]"
      ]
     },
     "execution_count": 17,
     "metadata": {},
     "output_type": "execute_result"
    },
    {
     "data": {
      "image/png": "[encoded data removed]",
      "text/plain": [
       "<Figure size 432x288 with 1 Axes>"
      ]
     },
     "metadata": {
      "needs_background": "light"
     },
     "output_type": "display_data"
    }
   ],
   "source": [
    "from scipy.stats import norm\n",
    "import seaborn as sns\n",
    "data = norm.rvs(size=10000, loc=0, scale=1)\n",
    "ax = sns.distplot(data, bins=100, kde=True, color='blue', hist_kws={\"linewidth\":15, 'alpha':1})\n",
    "ax.set(xlabel='Normal Distribution', ylabel='Frequency')"
   ]
  },
  {
   "cell_type": "markdown",
   "id": "32e8e2b2",
   "metadata": {},
   "source": [
    "### Question 7 - Random Variables - Binomial Distribution (Beginner)\n",
    "    A player gets 5 chances to roll a 6 on a fair six-sided dice. What's the probability that the player will not get a 6\n",
    "    even a single time out of 5 chances. Calculate this probability over 10000 such trials.\n",
    "    Hint: Use Binomial random vriables"
   ]
  },
  {
   "cell_type": "code",
   "execution_count": 42,
   "id": "2b9b4b16",
   "metadata": {},
   "outputs": [
    {
     "data": {
      "text/plain": [
       "0.4"
      ]
     },
     "execution_count": 42,
     "metadata": {},
     "output_type": "execute_result"
    }
   ],
   "source": [
    "# probability of success\n",
    "p = 1/6\n",
    "\n",
    "n=5\n",
    "\n",
    "result = sum(np.random.binomial(5,p,10000)==0)/10000\n",
    "result"
   ]
  },
  {
   "cell_type": "markdown",
   "id": "be3b58b8",
   "metadata": {},
   "source": [
    "### Question 8 - Random Variables - Normal Distribution (Beginner)\n",
    "    Generate a set of 10000 random numbers which are Normally Distributed. Plot the normal distribution using\n",
    "    step filed histogram. Use function from scipy.stats libarary to generate random numbers"
   ]
  },
  {
   "cell_type": "code",
   "execution_count": 43,
   "id": "08b51ef2",
   "metadata": {},
   "outputs": [
    {
     "name": "stderr",
     "output_type": "stream",
     "text": [
      "No handles with labels found to put in legend.\n"
     ]
    },
    {
     "data": {
      "image/png": "[encoded data removed]",
      "text/plain": [
       "<Figure size 432x288 with 1 Axes>"
      ]
     },
     "metadata": {
      "needs_background": "light"
     },
     "output_type": "display_data"
    }
   ],
   "source": [
    "from scipy.stats import norm\n",
    "r = norm.rvs(size=10000)\n",
    "\n",
    "fig, ax = plt.subplots(1,1)\n",
    "ax.hist(r, density=True, histtype='stepfilled', alpha=0.2)\n",
    "ax.legend(loc='best', title='Normal Distribution')\n",
    "plt.show()"
   ]
  },
  {
   "cell_type": "markdown",
   "id": "a559636f",
   "metadata": {},
   "source": [
    "### Question 9 - Random Variables - Exponential Distribution (Beginner)\n",
    "    The number of days in advance of the travel travelers purchase their airline tickets are seen to be following an\n",
    "    exponential distribution with the average amount of advance days equal to 15 days. Find the probability that a\n",
    "    traveler will purchase a ticket lesser than ten days in advance. Also find its mean and variance"
   ]
  },
  {
   "cell_type": "code",
   "execution_count": 44,
   "id": "84e57c2a",
   "metadata": {},
   "outputs": [
    {
     "name": "stdout",
     "output_type": "stream",
     "text": [
      "Probability that the traveller purchases ticket in less than 10 days in advance is  0.487\n"
     ]
    }
   ],
   "source": [
    "from scipy.stats import expon\n",
    "\n",
    "prob = np.round(expon.cdf(10,0,15),3)\n",
    "\n",
    "print(\"Probability that the traveller purchases ticket in less than 10 days in advance is \", prob)"
   ]
  },
  {
   "cell_type": "code",
   "execution_count": 45,
   "id": "80b7e519",
   "metadata": {},
   "outputs": [
    {
     "name": "stdout",
     "output_type": "stream",
     "text": [
      "Mean:  15.0\n",
      "Var:  225.0\n"
     ]
    }
   ],
   "source": [
    "print(\"Mean: \", expon.mean(loc=0, scale=15))\n",
    "print(\"Var: \", expon.var(loc=0, scale=15))"
   ]
  },
  {
   "cell_type": "markdown",
   "id": "3a59af30",
   "metadata": {},
   "source": [
    "### Question 10 - Random Variables - Normal Distribution (Beginner)\n",
    "    Suppose that the weight of Navel Oranges is normally distributed with mean µ = 8 ounces, and standard\n",
    "    deviation σ = 1.5 ounces. Find the probability that the oranges weigh less than 8.7 ounces"
   ]
  },
  {
   "cell_type": "code",
   "execution_count": 47,
   "id": "5d9729d2",
   "metadata": {},
   "outputs": [
    {
     "data": {
      "text/plain": [
       "0.6796308090987294"
      ]
     },
     "execution_count": 47,
     "metadata": {},
     "output_type": "execute_result"
    }
   ],
   "source": [
    "import scipy\n",
    "scipy.stats.norm.cdf(8.7, loc=8, scale=1.5)"
   ]
  },
  {
   "cell_type": "code",
   "execution_count": 48,
   "id": "d6cbe9b8",
   "metadata": {},
   "outputs": [
    {
     "data": {
      "text/plain": [
       "0.68"
      ]
     },
     "execution_count": 48,
     "metadata": {},
     "output_type": "execute_result"
    }
   ],
   "source": [
    "from scipy.stats import norm\n",
    "\n",
    "data_normal = norm.rvs(size=1000, loc=8, scale=1.5)\n",
    "#calculate z-score\n",
    "z1 = (8.7-8)/1.5\n",
    "prob = np.round(norm.cdf(z1),3)\n",
    "prob"
   ]
  }
 ],
 "metadata": {
  "kernelspec": {
   "display_name": "Python 3",
   "language": "python",
   "name": "python3"
  },
  "language_info": {
   "codemirror_mode": {
    "name": "ipython",
    "version": 3
   },
   "file_extension": ".py",
   "mimetype": "text/x-python",
   "name": "python",
   "nbconvert_exporter": "python",
   "pygments_lexer": "ipython3",
   "version": "3.8.8"
  }
 },
 "nbformat": 4,
 "nbformat_minor": 5
}
