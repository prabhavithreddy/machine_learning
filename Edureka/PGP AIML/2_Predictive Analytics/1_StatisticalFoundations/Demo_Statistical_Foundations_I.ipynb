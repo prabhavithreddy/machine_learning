{
 "cells": [
  {
   "cell_type": "markdown",
   "metadata": {
    "id": "LGcCg_Ri55C9"
   },
   "source": [
    "#**Demo: Statistical Foundations I**"
   ]
  },
  {
   "cell_type": "markdown",
   "metadata": {
    "id": "RMjg2CqZn2vk"
   },
   "source": [
    "## **Part 1: Why Statistical Analysis is required?**"
   ]
  },
  {
   "cell_type": "markdown",
   "metadata": {
    "id": "b8ZtvI5BlFnT"
   },
   "source": [
    "###**Importing Required Libraries**"
   ]
  },
  {
   "cell_type": "code",
   "execution_count": 1,
   "metadata": {
    "id": "Y5uo_pWwlFnV"
   },
   "outputs": [],
   "source": [
    "#Importing Required Libraries\n",
    "\n",
    "import pandas as pd\n",
    "import numpy as np\n"
   ]
  },
  {
   "cell_type": "code",
   "execution_count": 2,
   "metadata": {
    "colab": {
     "base_uri": "https://localhost:8080/"
    },
    "id": "mEuaMWWgnqUj",
    "outputId": "3874b3a6-70e7-4867-9329-44a58e698195"
   },
   "outputs": [
    {
     "name": "stdout",
     "output_type": "stream",
     "text": [
      "--2021-02-03 11:22:27--  https://www.dropbox.com/s/755hnawo000aeaw/Placement_Data_Full_Class.csv\n",
      "Resolving www.dropbox.com (www.dropbox.com)... 162.125.1.18, 2620:100:601a:18::a27d:712\n",
      "Connecting to www.dropbox.com (www.dropbox.com)|162.125.1.18|:443... connected.\n",
      "HTTP request sent, awaiting response... 301 Moved Permanently\n",
      "Location: /s/raw/755hnawo000aeaw/Placement_Data_Full_Class.csv [following]\n",
      "--2021-02-03 11:22:27--  https://www.dropbox.com/s/raw/755hnawo000aeaw/Placement_Data_Full_Class.csv\n",
      "Reusing existing connection to www.dropbox.com:443.\n",
      "HTTP request sent, awaiting response... 302 Found\n",
      "Location: https://ucc121d6009b4b44b1c73ea585eb.dl.dropboxusercontent.com/cd/0/inline/BINs8wpMIpFQoUuhuLC6C2LUf8ZDvOIgV-bC7AgkJ2IeBjs_K_kS00A_P0xhEWDfJ_YXwP5BqQCC7zwE5pFGDkzFB548vw6GLtXsnjE-cuOOWAhBlzYr8TCy2wfp3F1_XoI/file# [following]\n",
      "--2021-02-03 11:22:28--  https://ucc121d6009b4b44b1c73ea585eb.dl.dropboxusercontent.com/cd/0/inline/BINs8wpMIpFQoUuhuLC6C2LUf8ZDvOIgV-bC7AgkJ2IeBjs_K_kS00A_P0xhEWDfJ_YXwP5BqQCC7zwE5pFGDkzFB548vw6GLtXsnjE-cuOOWAhBlzYr8TCy2wfp3F1_XoI/file\n",
      "Resolving ucc121d6009b4b44b1c73ea585eb.dl.dropboxusercontent.com (ucc121d6009b4b44b1c73ea585eb.dl.dropboxusercontent.com)... 162.125.1.15, 2620:100:6017:15::a27d:20f\n",
      "Connecting to ucc121d6009b4b44b1c73ea585eb.dl.dropboxusercontent.com (ucc121d6009b4b44b1c73ea585eb.dl.dropboxusercontent.com)|162.125.1.15|:443... connected.\n",
      "HTTP request sent, awaiting response... 200 OK\n",
      "Length: 19712 (19K) [text/plain]\n",
      "Saving to: ‘Placement_Data_Full_Class.csv.4’\n",
      "\n",
      "Placement_Data_Full 100%[===================>]  19.25K  --.-KB/s    in 0.006s  \n",
      "\n",
      "2021-02-03 11:22:28 (2.90 MB/s) - ‘Placement_Data_Full_Class.csv.4’ saved [19712/19712]\n",
      "\n"
     ]
    }
   ],
   "source": [
    "!wget https://www.dropbox.com/s/755hnawo000aeaw/Placement_Data_Full_Class.csv"
   ]
  },
  {
   "cell_type": "markdown",
   "metadata": {
    "id": "w_hrLPW0lmB-"
   },
   "source": [
    "### **Understanding the importance of Statistical Analysis**"
   ]
  },
  {
   "cell_type": "code",
   "execution_count": 3,
   "metadata": {
    "colab": {
     "base_uri": "https://localhost:8080/",
     "height": 0
    },
    "id": "W7QvLo8XoTjg",
    "outputId": "d9cdfddb-b0c9-42de-df2d-b079bc86ac7b"
   },
   "outputs": [
    {
     "data": {
      "text/html": [
       "<div>\n",
       "<style scoped>\n",
       "    .dataframe tbody tr th:only-of-type {\n",
       "        vertical-align: middle;\n",
       "    }\n",
       "\n",
       "    .dataframe tbody tr th {\n",
       "        vertical-align: top;\n",
       "    }\n",
       "\n",
       "    .dataframe thead th {\n",
       "        text-align: right;\n",
       "    }\n",
       "</style>\n",
       "<table border=\"1\" class=\"dataframe\">\n",
       "  <thead>\n",
       "    <tr style=\"text-align: right;\">\n",
       "      <th></th>\n",
       "      <th>sl_no</th>\n",
       "      <th>gender</th>\n",
       "      <th>ssc_p</th>\n",
       "      <th>ssc_b</th>\n",
       "      <th>hsc_p</th>\n",
       "      <th>hsc_b</th>\n",
       "      <th>hsc_s</th>\n",
       "      <th>degree_p</th>\n",
       "      <th>degree_t</th>\n",
       "      <th>workex</th>\n",
       "      <th>etest_p</th>\n",
       "      <th>specialisation</th>\n",
       "      <th>mba_p</th>\n",
       "      <th>status</th>\n",
       "      <th>salary</th>\n",
       "    </tr>\n",
       "  </thead>\n",
       "  <tbody>\n",
       "    <tr>\n",
       "      <th>0</th>\n",
       "      <td>1</td>\n",
       "      <td>M</td>\n",
       "      <td>67.00</td>\n",
       "      <td>Others</td>\n",
       "      <td>91.00</td>\n",
       "      <td>Others</td>\n",
       "      <td>Commerce</td>\n",
       "      <td>58.00</td>\n",
       "      <td>Sci&amp;Tech</td>\n",
       "      <td>No</td>\n",
       "      <td>55.0</td>\n",
       "      <td>Mkt&amp;HR</td>\n",
       "      <td>58.80</td>\n",
       "      <td>Placed</td>\n",
       "      <td>270000.0</td>\n",
       "    </tr>\n",
       "    <tr>\n",
       "      <th>1</th>\n",
       "      <td>2</td>\n",
       "      <td>M</td>\n",
       "      <td>79.33</td>\n",
       "      <td>Central</td>\n",
       "      <td>78.33</td>\n",
       "      <td>Others</td>\n",
       "      <td>Science</td>\n",
       "      <td>77.48</td>\n",
       "      <td>Sci&amp;Tech</td>\n",
       "      <td>Yes</td>\n",
       "      <td>86.5</td>\n",
       "      <td>Mkt&amp;Fin</td>\n",
       "      <td>66.28</td>\n",
       "      <td>Placed</td>\n",
       "      <td>200000.0</td>\n",
       "    </tr>\n",
       "    <tr>\n",
       "      <th>2</th>\n",
       "      <td>3</td>\n",
       "      <td>M</td>\n",
       "      <td>65.00</td>\n",
       "      <td>Central</td>\n",
       "      <td>68.00</td>\n",
       "      <td>Central</td>\n",
       "      <td>Arts</td>\n",
       "      <td>64.00</td>\n",
       "      <td>Comm&amp;Mgmt</td>\n",
       "      <td>No</td>\n",
       "      <td>75.0</td>\n",
       "      <td>Mkt&amp;Fin</td>\n",
       "      <td>57.80</td>\n",
       "      <td>Placed</td>\n",
       "      <td>250000.0</td>\n",
       "    </tr>\n",
       "    <tr>\n",
       "      <th>3</th>\n",
       "      <td>4</td>\n",
       "      <td>M</td>\n",
       "      <td>56.00</td>\n",
       "      <td>Central</td>\n",
       "      <td>52.00</td>\n",
       "      <td>Central</td>\n",
       "      <td>Science</td>\n",
       "      <td>52.00</td>\n",
       "      <td>Sci&amp;Tech</td>\n",
       "      <td>No</td>\n",
       "      <td>66.0</td>\n",
       "      <td>Mkt&amp;HR</td>\n",
       "      <td>59.43</td>\n",
       "      <td>Not Placed</td>\n",
       "      <td>NaN</td>\n",
       "    </tr>\n",
       "    <tr>\n",
       "      <th>4</th>\n",
       "      <td>5</td>\n",
       "      <td>M</td>\n",
       "      <td>85.80</td>\n",
       "      <td>Central</td>\n",
       "      <td>73.60</td>\n",
       "      <td>Central</td>\n",
       "      <td>Commerce</td>\n",
       "      <td>73.30</td>\n",
       "      <td>Comm&amp;Mgmt</td>\n",
       "      <td>No</td>\n",
       "      <td>96.8</td>\n",
       "      <td>Mkt&amp;Fin</td>\n",
       "      <td>55.50</td>\n",
       "      <td>Placed</td>\n",
       "      <td>425000.0</td>\n",
       "    </tr>\n",
       "  </tbody>\n",
       "</table>\n",
       "</div>"
      ],
      "text/plain": [
       "   sl_no gender  ssc_p    ssc_b  ...  specialisation  mba_p      status    salary\n",
       "0      1      M  67.00   Others  ...          Mkt&HR  58.80      Placed  270000.0\n",
       "1      2      M  79.33  Central  ...         Mkt&Fin  66.28      Placed  200000.0\n",
       "2      3      M  65.00  Central  ...         Mkt&Fin  57.80      Placed  250000.0\n",
       "3      4      M  56.00  Central  ...          Mkt&HR  59.43  Not Placed       NaN\n",
       "4      5      M  85.80  Central  ...         Mkt&Fin  55.50      Placed  425000.0\n",
       "\n",
       "[5 rows x 15 columns]"
      ]
     },
     "execution_count": 3,
     "metadata": {
      "tags": []
     },
     "output_type": "execute_result"
    }
   ],
   "source": [
    "campus = pd.read_csv('Placement_Data_Full_Class.csv')\n",
    "campus.head()"
   ]
  },
  {
   "cell_type": "code",
   "execution_count": 4,
   "metadata": {
    "colab": {
     "base_uri": "https://localhost:8080/"
    },
    "id": "ERMm5LXAoiEa",
    "outputId": "b8b72f7b-438b-4da3-d578-1f456f2c1392"
   },
   "outputs": [
    {
     "data": {
      "text/plain": [
       "(215, 15)"
      ]
     },
     "execution_count": 4,
     "metadata": {
      "tags": []
     },
     "output_type": "execute_result"
    }
   ],
   "source": [
    "campus.shape"
   ]
  },
  {
   "cell_type": "markdown",
   "metadata": {
    "id": "TUBYGIWEocW3"
   },
   "source": [
    "**Onservation:**\n",
    "The dataset consists of 215 rows and 15 columns. They represent placement information of students along with their educational history.\n"
   ]
  },
  {
   "cell_type": "markdown",
   "metadata": {
    "id": "iGx46Jr8raNs"
   },
   "source": [
    "> **That's all we can tell by looking at this raw data**\n",
    "\n",
    "\n",
    "> We cannot make any useful observations from this data such as any of the below:\n",
    "\n",
    "*- Are the students with first class (above 60%) in Degree more likely to be placed?*\n",
    "\n",
    "*- Do any of the other scores play a significant role in a student getting placed?*\n",
    "\n",
    "*- Is any specific branch being favored by companies during placement?*\n",
    "\n",
    "**Let's create a simple pivot table from this data-**"
   ]
  },
  {
   "cell_type": "code",
   "execution_count": 5,
   "metadata": {
    "colab": {
     "base_uri": "https://localhost:8080/",
     "height": 0
    },
    "id": "2nAVKxjPoWGy",
    "outputId": "c53e96e0-7430-44c0-ede1-10ad4977548a"
   },
   "outputs": [
    {
     "data": {
      "text/html": [
       "<div>\n",
       "<style scoped>\n",
       "    .dataframe tbody tr th:only-of-type {\n",
       "        vertical-align: middle;\n",
       "    }\n",
       "\n",
       "    .dataframe tbody tr th {\n",
       "        vertical-align: top;\n",
       "    }\n",
       "\n",
       "    .dataframe thead th {\n",
       "        text-align: right;\n",
       "    }\n",
       "</style>\n",
       "<table border=\"1\" class=\"dataframe\">\n",
       "  <thead>\n",
       "    <tr style=\"text-align: right;\">\n",
       "      <th>specialisation</th>\n",
       "      <th>Mkt&amp;Fin</th>\n",
       "      <th>Mkt&amp;HR</th>\n",
       "    </tr>\n",
       "    <tr>\n",
       "      <th>status</th>\n",
       "      <th></th>\n",
       "      <th></th>\n",
       "    </tr>\n",
       "  </thead>\n",
       "  <tbody>\n",
       "    <tr>\n",
       "      <th>Not Placed</th>\n",
       "      <td>37.31</td>\n",
       "      <td>62.69</td>\n",
       "    </tr>\n",
       "    <tr>\n",
       "      <th>Placed</th>\n",
       "      <td>64.19</td>\n",
       "      <td>35.81</td>\n",
       "    </tr>\n",
       "  </tbody>\n",
       "</table>\n",
       "</div>"
      ],
      "text/plain": [
       "specialisation  Mkt&Fin  Mkt&HR\n",
       "status                         \n",
       "Not Placed        37.31   62.69\n",
       "Placed            64.19   35.81"
      ]
     },
     "execution_count": 5,
     "metadata": {
      "tags": []
     },
     "output_type": "execute_result"
    }
   ],
   "source": [
    "pt = pd.crosstab(campus['status'], campus['specialisation'], normalize= 'index').round(4)*100\n",
    "pt"
   ]
  },
  {
   "cell_type": "markdown",
   "metadata": {
    "id": "5hoKuBkrtnRH"
   },
   "source": [
    "**Observation:**The % of placement is much higher in Mkt&Fin (64%) as compared to Mkt&HR (36%)\n",
    "\n",
    "**Insight:** The BFSI sector is booming and the jobs related to that field are in more demand\n",
    "\n",
    "**Business Benefit:** The educational institute can plan to increase its intake of students for Mkt&Fin field\n",
    "\n",
    "\n",
    "> **Here, Pivot Table is a type of Statistical Analysis performed on the data which resulted in gettng some useful information from the otherwise unvaluable data.**\n",
    "\n",
    "> **_This is the importance of Statistical Analysis in Businesses._**\n",
    "\n"
   ]
  },
  {
   "cell_type": "markdown",
   "metadata": {
    "id": "DF8hhaAfhMwo"
   },
   "source": [
    "## **Part 2: Measures of Central Tendency**"
   ]
  },
  {
   "cell_type": "markdown",
   "metadata": {
    "id": "FfGXrPmNat5u"
   },
   "source": [
    "The online sector, referred to as “clicks,” has been slowly eating up market share in the past two decades.\n",
    "\n",
    "E-commerce platform allows people to buy products from books, toys, clothes, and shoes to food, furniture, and other household items.\n",
    "\n",
    "ABOUT THE DATA\n",
    "\n",
    "This is a data set of US superstore from 2014-2018\n",
    "\n",
    "Let us understand the attributes of this data set:\n",
    "\n",
    "1. 'Row ID' - This is nothing but Serial No.\n",
    "2. 'Order ID' - ID created when a product order is placed.\n",
    "3. 'Order Date' - Date on which a customer places his/her order.\n",
    "4. 'Ship Date' - Date on which the order is shipped.\n",
    "5. 'Ship Mode' - Mode of shipment of each order.\n",
    "6. 'Customer ID' - ID assigned to each customer who places an order.\n",
    "7. 'Customer Name' - Name of Customer.\n",
    "8. 'Segment' - Section from where the order is placed.\n",
    "9. 'Country' - Country details of this data set. We are looking only for US store data.\n",
    "10. 'City' - Cities of US are listed here.\n",
    "11. 'State' - States of US are listed here.\n",
    "12. 'Postal Code' - pin code\n",
    "13. 'Region' - grouped into region wise\n",
    "14. 'Product ID' - Product ID of each product\n",
    "15. 'Category' - Category to which each product belongs to.\n",
    "16. 'Sub-Category' - Sub-Category of each Category\n",
    "17. 'Product Name' - Name of products.\n",
    "18. 'Sales' - Selling Price of each product.\n",
    "19. 'Quantity' - number of quantity available for a particular product.\n",
    "20. 'Discount' - Discount available on each product.\n",
    "21. 'Profit' - Profit gained on each product.\n",
    "\n"
   ]
  },
  {
   "cell_type": "markdown",
   "metadata": {
    "id": "HSuO_KvtBjfO"
   },
   "source": [
    "###**Tasks to be Performed:**\n",
    "\n",
    "- What is the average sales of products between the year 2014 and 2018 and, also find the average amount of products purchased by customers?\n",
    "- What is the median profit gained between the years 2014 and 2018?\n",
    "- Find out the most sold product in the US\n",
    "\n",
    "\n"
   ]
  },
  {
   "cell_type": "markdown",
   "metadata": {
    "id": "44asn7NjitzA"
   },
   "source": [
    "###**Downloading the dataset from the Dropbox**"
   ]
  },
  {
   "cell_type": "code",
   "execution_count": 6,
   "metadata": {
    "colab": {
     "base_uri": "https://localhost:8080/"
    },
    "id": "hkbHRYqhitzA",
    "outputId": "3ee45993-022c-43ae-9f1d-edbee36eea57"
   },
   "outputs": [
    {
     "name": "stdout",
     "output_type": "stream",
     "text": [
      "--2021-02-03 11:22:29--  https://www.dropbox.com/s/kpzd0uzqczklfly/US%20Superstore%20data.xls\n",
      "Resolving www.dropbox.com (www.dropbox.com)... 162.125.1.18, 2620:100:601a:18::a27d:712\n",
      "Connecting to www.dropbox.com (www.dropbox.com)|162.125.1.18|:443... connected.\n",
      "HTTP request sent, awaiting response... 301 Moved Permanently\n",
      "Location: /s/raw/kpzd0uzqczklfly/US%20Superstore%20data.xls [following]\n",
      "--2021-02-03 11:22:29--  https://www.dropbox.com/s/raw/kpzd0uzqczklfly/US%20Superstore%20data.xls\n",
      "Reusing existing connection to www.dropbox.com:443.\n",
      "HTTP request sent, awaiting response... 302 Found\n",
      "Location: https://uca007a2a79244498704f3900813.dl.dropboxusercontent.com/cd/0/inline/BIPHELOBlD4NWBdXcgBTZSER2KvW832ac1i5ITUNWuDGKMKnjx_sUirbnGk_qnUq-A3VDugiyGcafzFzS27x7pvgH33aIN87pN0BvAUpc_Pmu36-z7xKxcsZBJF5cbUfORc/file# [following]\n",
      "--2021-02-03 11:22:29--  https://uca007a2a79244498704f3900813.dl.dropboxusercontent.com/cd/0/inline/BIPHELOBlD4NWBdXcgBTZSER2KvW832ac1i5ITUNWuDGKMKnjx_sUirbnGk_qnUq-A3VDugiyGcafzFzS27x7pvgH33aIN87pN0BvAUpc_Pmu36-z7xKxcsZBJF5cbUfORc/file\n",
      "Resolving uca007a2a79244498704f3900813.dl.dropboxusercontent.com (uca007a2a79244498704f3900813.dl.dropboxusercontent.com)... 162.125.1.15, 2620:100:6017:15::a27d:20f\n",
      "Connecting to uca007a2a79244498704f3900813.dl.dropboxusercontent.com (uca007a2a79244498704f3900813.dl.dropboxusercontent.com)|162.125.1.15|:443... connected.\n",
      "HTTP request sent, awaiting response... 302 Found\n",
      "Location: /cd/0/inline2/BIPEm6K7UeBtOohgbdwZe0Fv3xxzJi_aaEWBqY9mrPk9RyEtwqwnF5rZ08YWT0oIwTgEoUMiw8BMGzx-fjxU8QtNAIUG50nJsdKZj5QytMk-3W40c3DGFAZcHi-zExwGCP2GpdYRY5AHUiFXKSPrIPx2-7buQMGoFIWDu5ryFJXTIavBmoxUAMqelRBrid7k_FE2hLA9t-hAvJzaQhkUFmfEZaRu2r8b5d7mYF0T6qjRxozJkRfJUKERMw7Nt-QHDT0bnMcq2O5vgT006ZU7erU0t8J3V82kTIrKmV0mRlGP6tkqawrO_Ia3qaeF6repRdmeCC5ujE7Pg0dhl0X0BndDVIrqdoQ46axHpUJbf52qTA/file [following]\n",
      "--2021-02-03 11:22:30--  https://uca007a2a79244498704f3900813.dl.dropboxusercontent.com/cd/0/inline2/BIPEm6K7UeBtOohgbdwZe0Fv3xxzJi_aaEWBqY9mrPk9RyEtwqwnF5rZ08YWT0oIwTgEoUMiw8BMGzx-fjxU8QtNAIUG50nJsdKZj5QytMk-3W40c3DGFAZcHi-zExwGCP2GpdYRY5AHUiFXKSPrIPx2-7buQMGoFIWDu5ryFJXTIavBmoxUAMqelRBrid7k_FE2hLA9t-hAvJzaQhkUFmfEZaRu2r8b5d7mYF0T6qjRxozJkRfJUKERMw7Nt-QHDT0bnMcq2O5vgT006ZU7erU0t8J3V82kTIrKmV0mRlGP6tkqawrO_Ia3qaeF6repRdmeCC5ujE7Pg0dhl0X0BndDVIrqdoQ46axHpUJbf52qTA/file\n",
      "Reusing existing connection to uca007a2a79244498704f3900813.dl.dropboxusercontent.com:443.\n",
      "HTTP request sent, awaiting response... 200 OK\n",
      "Length: 3348992 (3.2M) [application/vnd.ms-excel]\n",
      "Saving to: ‘US Superstore data.xls.2’\n",
      "\n",
      "US Superstore data. 100%[===================>]   3.19M  7.45MB/s    in 0.4s    \n",
      "\n",
      "2021-02-03 11:22:31 (7.45 MB/s) - ‘US Superstore data.xls.2’ saved [3348992/3348992]\n",
      "\n"
     ]
    }
   ],
   "source": [
    "#Downloading the Dataset from the Dropbox\n",
    "\n",
    "!wget https://www.dropbox.com/s/kpzd0uzqczklfly/US%20Superstore%20data.xls"
   ]
  },
  {
   "cell_type": "code",
   "execution_count": 7,
   "metadata": {
    "colab": {
     "base_uri": "https://localhost:8080/",
     "height": 0
    },
    "id": "8k-18--mlTeq",
    "outputId": "483df199-f67c-4fb7-bd01-9d6a84f24114"
   },
   "outputs": [
    {
     "data": {
      "text/html": [
       "<div>\n",
       "<style scoped>\n",
       "    .dataframe tbody tr th:only-of-type {\n",
       "        vertical-align: middle;\n",
       "    }\n",
       "\n",
       "    .dataframe tbody tr th {\n",
       "        vertical-align: top;\n",
       "    }\n",
       "\n",
       "    .dataframe thead th {\n",
       "        text-align: right;\n",
       "    }\n",
       "</style>\n",
       "<table border=\"1\" class=\"dataframe\">\n",
       "  <thead>\n",
       "    <tr style=\"text-align: right;\">\n",
       "      <th></th>\n",
       "      <th>Row ID</th>\n",
       "      <th>Order ID</th>\n",
       "      <th>Order Date</th>\n",
       "      <th>Ship Date</th>\n",
       "      <th>Ship Mode</th>\n",
       "      <th>Customer ID</th>\n",
       "      <th>Customer Name</th>\n",
       "      <th>Segment</th>\n",
       "      <th>Country</th>\n",
       "      <th>City</th>\n",
       "      <th>State</th>\n",
       "      <th>Postal Code</th>\n",
       "      <th>Region</th>\n",
       "      <th>Product ID</th>\n",
       "      <th>Category</th>\n",
       "      <th>Sub-Category</th>\n",
       "      <th>Product Name</th>\n",
       "      <th>Sales</th>\n",
       "      <th>Quantity</th>\n",
       "      <th>Discount</th>\n",
       "      <th>Profit</th>\n",
       "    </tr>\n",
       "  </thead>\n",
       "  <tbody>\n",
       "    <tr>\n",
       "      <th>0</th>\n",
       "      <td>1</td>\n",
       "      <td>CA-2016-152156</td>\n",
       "      <td>2016-11-08</td>\n",
       "      <td>2016-11-11</td>\n",
       "      <td>Second Class</td>\n",
       "      <td>CG-12520</td>\n",
       "      <td>Claire Gute</td>\n",
       "      <td>Consumer</td>\n",
       "      <td>United States</td>\n",
       "      <td>Henderson</td>\n",
       "      <td>Kentucky</td>\n",
       "      <td>42420</td>\n",
       "      <td>South</td>\n",
       "      <td>FUR-BO-10001798</td>\n",
       "      <td>Furniture</td>\n",
       "      <td>Bookcases</td>\n",
       "      <td>Bush Somerset Collection Bookcase</td>\n",
       "      <td>261.9600</td>\n",
       "      <td>2</td>\n",
       "      <td>0.00</td>\n",
       "      <td>41.9136</td>\n",
       "    </tr>\n",
       "    <tr>\n",
       "      <th>1</th>\n",
       "      <td>2</td>\n",
       "      <td>CA-2016-152156</td>\n",
       "      <td>2016-11-08</td>\n",
       "      <td>2016-11-11</td>\n",
       "      <td>Second Class</td>\n",
       "      <td>CG-12520</td>\n",
       "      <td>Claire Gute</td>\n",
       "      <td>Consumer</td>\n",
       "      <td>United States</td>\n",
       "      <td>Henderson</td>\n",
       "      <td>Kentucky</td>\n",
       "      <td>42420</td>\n",
       "      <td>South</td>\n",
       "      <td>FUR-CH-10000454</td>\n",
       "      <td>Furniture</td>\n",
       "      <td>Chairs</td>\n",
       "      <td>Hon Deluxe Fabric Upholstered Stacking Chairs,...</td>\n",
       "      <td>731.9400</td>\n",
       "      <td>3</td>\n",
       "      <td>0.00</td>\n",
       "      <td>219.5820</td>\n",
       "    </tr>\n",
       "    <tr>\n",
       "      <th>2</th>\n",
       "      <td>3</td>\n",
       "      <td>CA-2016-138688</td>\n",
       "      <td>2016-06-12</td>\n",
       "      <td>2016-06-16</td>\n",
       "      <td>Second Class</td>\n",
       "      <td>DV-13045</td>\n",
       "      <td>Darrin Van Huff</td>\n",
       "      <td>Corporate</td>\n",
       "      <td>United States</td>\n",
       "      <td>Los Angeles</td>\n",
       "      <td>California</td>\n",
       "      <td>90036</td>\n",
       "      <td>West</td>\n",
       "      <td>OFF-LA-10000240</td>\n",
       "      <td>Office Supplies</td>\n",
       "      <td>Labels</td>\n",
       "      <td>Self-Adhesive Address Labels for Typewriters b...</td>\n",
       "      <td>14.6200</td>\n",
       "      <td>2</td>\n",
       "      <td>0.00</td>\n",
       "      <td>6.8714</td>\n",
       "    </tr>\n",
       "    <tr>\n",
       "      <th>3</th>\n",
       "      <td>4</td>\n",
       "      <td>US-2015-108966</td>\n",
       "      <td>2015-10-11</td>\n",
       "      <td>2015-10-18</td>\n",
       "      <td>Standard Class</td>\n",
       "      <td>SO-20335</td>\n",
       "      <td>Sean O'Donnell</td>\n",
       "      <td>Consumer</td>\n",
       "      <td>United States</td>\n",
       "      <td>Fort Lauderdale</td>\n",
       "      <td>Florida</td>\n",
       "      <td>33311</td>\n",
       "      <td>South</td>\n",
       "      <td>FUR-TA-10000577</td>\n",
       "      <td>Furniture</td>\n",
       "      <td>Tables</td>\n",
       "      <td>Bretford CR4500 Series Slim Rectangular Table</td>\n",
       "      <td>957.5775</td>\n",
       "      <td>5</td>\n",
       "      <td>0.45</td>\n",
       "      <td>-383.0310</td>\n",
       "    </tr>\n",
       "    <tr>\n",
       "      <th>4</th>\n",
       "      <td>5</td>\n",
       "      <td>US-2015-108966</td>\n",
       "      <td>2015-10-11</td>\n",
       "      <td>2015-10-18</td>\n",
       "      <td>Standard Class</td>\n",
       "      <td>SO-20335</td>\n",
       "      <td>Sean O'Donnell</td>\n",
       "      <td>Consumer</td>\n",
       "      <td>United States</td>\n",
       "      <td>Fort Lauderdale</td>\n",
       "      <td>Florida</td>\n",
       "      <td>33311</td>\n",
       "      <td>South</td>\n",
       "      <td>OFF-ST-10000760</td>\n",
       "      <td>Office Supplies</td>\n",
       "      <td>Storage</td>\n",
       "      <td>Eldon Fold 'N Roll Cart System</td>\n",
       "      <td>22.3680</td>\n",
       "      <td>2</td>\n",
       "      <td>0.20</td>\n",
       "      <td>2.5164</td>\n",
       "    </tr>\n",
       "    <tr>\n",
       "      <th>5</th>\n",
       "      <td>6</td>\n",
       "      <td>CA-2014-115812</td>\n",
       "      <td>2014-06-09</td>\n",
       "      <td>2014-06-14</td>\n",
       "      <td>Standard Class</td>\n",
       "      <td>BH-11710</td>\n",
       "      <td>Brosina Hoffman</td>\n",
       "      <td>Consumer</td>\n",
       "      <td>United States</td>\n",
       "      <td>Los Angeles</td>\n",
       "      <td>California</td>\n",
       "      <td>90032</td>\n",
       "      <td>West</td>\n",
       "      <td>FUR-FU-10001487</td>\n",
       "      <td>Furniture</td>\n",
       "      <td>Furnishings</td>\n",
       "      <td>Eldon Expressions Wood and Plastic Desk Access...</td>\n",
       "      <td>48.8600</td>\n",
       "      <td>7</td>\n",
       "      <td>0.00</td>\n",
       "      <td>14.1694</td>\n",
       "    </tr>\n",
       "    <tr>\n",
       "      <th>6</th>\n",
       "      <td>7</td>\n",
       "      <td>CA-2014-115812</td>\n",
       "      <td>2014-06-09</td>\n",
       "      <td>2014-06-14</td>\n",
       "      <td>Standard Class</td>\n",
       "      <td>BH-11710</td>\n",
       "      <td>Brosina Hoffman</td>\n",
       "      <td>Consumer</td>\n",
       "      <td>United States</td>\n",
       "      <td>Los Angeles</td>\n",
       "      <td>California</td>\n",
       "      <td>90032</td>\n",
       "      <td>West</td>\n",
       "      <td>OFF-AR-10002833</td>\n",
       "      <td>Office Supplies</td>\n",
       "      <td>Art</td>\n",
       "      <td>Newell 322</td>\n",
       "      <td>7.2800</td>\n",
       "      <td>4</td>\n",
       "      <td>0.00</td>\n",
       "      <td>1.9656</td>\n",
       "    </tr>\n",
       "    <tr>\n",
       "      <th>7</th>\n",
       "      <td>8</td>\n",
       "      <td>CA-2014-115812</td>\n",
       "      <td>2014-06-09</td>\n",
       "      <td>2014-06-14</td>\n",
       "      <td>Standard Class</td>\n",
       "      <td>BH-11710</td>\n",
       "      <td>Brosina Hoffman</td>\n",
       "      <td>Consumer</td>\n",
       "      <td>United States</td>\n",
       "      <td>Los Angeles</td>\n",
       "      <td>California</td>\n",
       "      <td>90032</td>\n",
       "      <td>West</td>\n",
       "      <td>TEC-PH-10002275</td>\n",
       "      <td>Technology</td>\n",
       "      <td>Phones</td>\n",
       "      <td>Mitel 5320 IP Phone VoIP phone</td>\n",
       "      <td>907.1520</td>\n",
       "      <td>6</td>\n",
       "      <td>0.20</td>\n",
       "      <td>90.7152</td>\n",
       "    </tr>\n",
       "    <tr>\n",
       "      <th>8</th>\n",
       "      <td>9</td>\n",
       "      <td>CA-2014-115812</td>\n",
       "      <td>2014-06-09</td>\n",
       "      <td>2014-06-14</td>\n",
       "      <td>Standard Class</td>\n",
       "      <td>BH-11710</td>\n",
       "      <td>Brosina Hoffman</td>\n",
       "      <td>Consumer</td>\n",
       "      <td>United States</td>\n",
       "      <td>Los Angeles</td>\n",
       "      <td>California</td>\n",
       "      <td>90032</td>\n",
       "      <td>West</td>\n",
       "      <td>OFF-BI-10003910</td>\n",
       "      <td>Office Supplies</td>\n",
       "      <td>Binders</td>\n",
       "      <td>DXL Angle-View Binders with Locking Rings by S...</td>\n",
       "      <td>18.5040</td>\n",
       "      <td>3</td>\n",
       "      <td>0.20</td>\n",
       "      <td>5.7825</td>\n",
       "    </tr>\n",
       "    <tr>\n",
       "      <th>9</th>\n",
       "      <td>10</td>\n",
       "      <td>CA-2014-115812</td>\n",
       "      <td>2014-06-09</td>\n",
       "      <td>2014-06-14</td>\n",
       "      <td>Standard Class</td>\n",
       "      <td>BH-11710</td>\n",
       "      <td>Brosina Hoffman</td>\n",
       "      <td>Consumer</td>\n",
       "      <td>United States</td>\n",
       "      <td>Los Angeles</td>\n",
       "      <td>California</td>\n",
       "      <td>90032</td>\n",
       "      <td>West</td>\n",
       "      <td>OFF-AP-10002892</td>\n",
       "      <td>Office Supplies</td>\n",
       "      <td>Appliances</td>\n",
       "      <td>Belkin F5C206VTEL 6 Outlet Surge</td>\n",
       "      <td>114.9000</td>\n",
       "      <td>5</td>\n",
       "      <td>0.00</td>\n",
       "      <td>34.4700</td>\n",
       "    </tr>\n",
       "  </tbody>\n",
       "</table>\n",
       "</div>"
      ],
      "text/plain": [
       "   Row ID        Order ID Order Date  ... Quantity Discount    Profit\n",
       "0       1  CA-2016-152156 2016-11-08  ...        2     0.00   41.9136\n",
       "1       2  CA-2016-152156 2016-11-08  ...        3     0.00  219.5820\n",
       "2       3  CA-2016-138688 2016-06-12  ...        2     0.00    6.8714\n",
       "3       4  US-2015-108966 2015-10-11  ...        5     0.45 -383.0310\n",
       "4       5  US-2015-108966 2015-10-11  ...        2     0.20    2.5164\n",
       "5       6  CA-2014-115812 2014-06-09  ...        7     0.00   14.1694\n",
       "6       7  CA-2014-115812 2014-06-09  ...        4     0.00    1.9656\n",
       "7       8  CA-2014-115812 2014-06-09  ...        6     0.20   90.7152\n",
       "8       9  CA-2014-115812 2014-06-09  ...        3     0.20    5.7825\n",
       "9      10  CA-2014-115812 2014-06-09  ...        5     0.00   34.4700\n",
       "\n",
       "[10 rows x 21 columns]"
      ]
     },
     "execution_count": 7,
     "metadata": {
      "tags": []
     },
     "output_type": "execute_result"
    }
   ],
   "source": [
    "df = pd.read_excel('US Superstore data.xls')\n",
    "df.head(10)"
   ]
  },
  {
   "cell_type": "markdown",
   "metadata": {
    "id": "8yB3-EpiPBxb"
   },
   "source": [
    "###**Measures of Central Tendency**"
   ]
  },
  {
   "cell_type": "markdown",
   "metadata": {
    "id": "9vLwEppGYlwB"
   },
   "source": [
    "####**Task 1:**\n",
    "What is the average sales of products between the year 2014 and 2018 and, also find the average amount of products purchased by customers?\n",
    "\n",
    "**Mean**"
   ]
  },
  {
   "cell_type": "code",
   "execution_count": 8,
   "metadata": {
    "colab": {
     "base_uri": "https://localhost:8080/"
    },
    "id": "5m9jLjWpdG39",
    "outputId": "a83ee6d9-a638-4b53-da38-e4e55e06495a"
   },
   "outputs": [
    {
     "data": {
      "text/plain": [
       "Quantity      3.789574\n",
       "Sales       229.858001\n",
       "dtype: float64"
      ]
     },
     "execution_count": 8,
     "metadata": {
      "tags": []
     },
     "output_type": "execute_result"
    }
   ],
   "source": [
    "df[['Quantity','Sales']].mean()"
   ]
  },
  {
   "cell_type": "code",
   "execution_count": 9,
   "metadata": {
    "colab": {
     "base_uri": "https://localhost:8080/"
    },
    "id": "SI7eXTV-e-5W",
    "outputId": "a17dcb7d-4a52-451d-aeb9-1f20081ea4db"
   },
   "outputs": [
    {
     "data": {
      "text/plain": [
       "3.789573744246548"
      ]
     },
     "execution_count": 9,
     "metadata": {
      "tags": []
     },
     "output_type": "execute_result"
    }
   ],
   "source": [
    "#Using method from Numpy\n",
    "np.mean(df.Quantity)"
   ]
  },
  {
   "cell_type": "markdown",
   "metadata": {
    "id": "uIOLOmnhcsEG"
   },
   "source": [
    "####**Task 2:**\n",
    "What is the median profit gained between the years 2014 and 2018?\n",
    "\n",
    "**Median**"
   ]
  },
  {
   "cell_type": "code",
   "execution_count": 10,
   "metadata": {
    "colab": {
     "base_uri": "https://localhost:8080/"
    },
    "id": "H8cTtLg-h4ah",
    "outputId": "0d779024-d30d-4c52-d917-dbb0dbd6cc15"
   },
   "outputs": [
    {
     "data": {
      "text/plain": [
       "8.666499999999996"
      ]
     },
     "execution_count": 10,
     "metadata": {
      "tags": []
     },
     "output_type": "execute_result"
    }
   ],
   "source": [
    "df['Profit'].median()"
   ]
  },
  {
   "cell_type": "code",
   "execution_count": 11,
   "metadata": {
    "colab": {
     "base_uri": "https://localhost:8080/"
    },
    "id": "t49zxomufPyW",
    "outputId": "32bbcebf-fd4c-46bb-ceda-9aa52ddef28b"
   },
   "outputs": [
    {
     "data": {
      "text/plain": [
       "8.666499999999996"
      ]
     },
     "execution_count": 11,
     "metadata": {
      "tags": []
     },
     "output_type": "execute_result"
    }
   ],
   "source": [
    "#Using method from Numpy\n",
    "np.median(df.Profit)"
   ]
  },
  {
   "cell_type": "markdown",
   "metadata": {
    "id": "NFyRKFUrh4zT"
   },
   "source": [
    "####**Task 3:**\n",
    "\n",
    "Find out the most sold product in the US\n",
    "\n",
    "**Mode**"
   ]
  },
  {
   "cell_type": "code",
   "execution_count": 12,
   "metadata": {
    "colab": {
     "base_uri": "https://localhost:8080/"
    },
    "id": "iOG_qejyX706",
    "outputId": "94ebd3b5-0928-4c4a-d386-aa1773e717f2"
   },
   "outputs": [
    {
     "data": {
      "text/plain": [
       "0    Staple envelope\n",
       "dtype: object"
      ]
     },
     "execution_count": 12,
     "metadata": {
      "tags": []
     },
     "output_type": "execute_result"
    }
   ],
   "source": [
    "df['Product Name'].mode()"
   ]
  },
  {
   "cell_type": "markdown",
   "metadata": {
    "id": "jg2MGDlu3Uhc"
   },
   "source": [
    "###**Mean Vs. Median Vs. Mode**"
   ]
  },
  {
   "cell_type": "markdown",
   "metadata": {
    "id": "U9u_YWeAa38y"
   },
   "source": [
    "####**Dataset Description**\n",
    "\n",
    "The data set consists of Placement data of students in a Riverview Engineering College. It includes secondary and higher secondary school percentage and specialization. It also includes degree specialization, type and Work experience and salary offers to the placed students. \n",
    "\n",
    "Perform Descriptive Statistics on it to extract useful insights"
   ]
  },
  {
   "cell_type": "code",
   "execution_count": 13,
   "metadata": {
    "colab": {
     "base_uri": "https://localhost:8080/"
    },
    "id": "ddcI-Ndl3Tte",
    "outputId": "0a4ceed7-4748-4f5a-edaf-7941efba1955"
   },
   "outputs": [
    {
     "name": "stdout",
     "output_type": "stream",
     "text": [
      "--2021-02-03 11:22:32--  https://www.dropbox.com/s/755hnawo000aeaw/Placement_Data_Full_Class.csv\n",
      "Resolving www.dropbox.com (www.dropbox.com)... 162.125.1.18, 2620:100:6017:18::a27d:212\n",
      "Connecting to www.dropbox.com (www.dropbox.com)|162.125.1.18|:443... connected.\n",
      "HTTP request sent, awaiting response... 301 Moved Permanently\n",
      "Location: /s/raw/755hnawo000aeaw/Placement_Data_Full_Class.csv [following]\n",
      "--2021-02-03 11:22:32--  https://www.dropbox.com/s/raw/755hnawo000aeaw/Placement_Data_Full_Class.csv\n",
      "Reusing existing connection to www.dropbox.com:443.\n",
      "HTTP request sent, awaiting response... 302 Found\n",
      "Location: https://ucc121d6009b4b44b1c73ea585eb.dl.dropboxusercontent.com/cd/0/inline/BINs8wpMIpFQoUuhuLC6C2LUf8ZDvOIgV-bC7AgkJ2IeBjs_K_kS00A_P0xhEWDfJ_YXwP5BqQCC7zwE5pFGDkzFB548vw6GLtXsnjE-cuOOWAhBlzYr8TCy2wfp3F1_XoI/file# [following]\n",
      "--2021-02-03 11:22:32--  https://ucc121d6009b4b44b1c73ea585eb.dl.dropboxusercontent.com/cd/0/inline/BINs8wpMIpFQoUuhuLC6C2LUf8ZDvOIgV-bC7AgkJ2IeBjs_K_kS00A_P0xhEWDfJ_YXwP5BqQCC7zwE5pFGDkzFB548vw6GLtXsnjE-cuOOWAhBlzYr8TCy2wfp3F1_XoI/file\n",
      "Resolving ucc121d6009b4b44b1c73ea585eb.dl.dropboxusercontent.com (ucc121d6009b4b44b1c73ea585eb.dl.dropboxusercontent.com)... 162.125.1.15, 2620:100:6017:15::a27d:20f\n",
      "Connecting to ucc121d6009b4b44b1c73ea585eb.dl.dropboxusercontent.com (ucc121d6009b4b44b1c73ea585eb.dl.dropboxusercontent.com)|162.125.1.15|:443... connected.\n",
      "HTTP request sent, awaiting response... 200 OK\n",
      "Length: 19712 (19K) [text/plain]\n",
      "Saving to: ‘Placement_Data_Full_Class.csv.5’\n",
      "\n",
      "Placement_Data_Full 100%[===================>]  19.25K  --.-KB/s    in 0.006s  \n",
      "\n",
      "2021-02-03 11:22:33 (3.21 MB/s) - ‘Placement_Data_Full_Class.csv.5’ saved [19712/19712]\n",
      "\n"
     ]
    }
   ],
   "source": [
    "!wget https://www.dropbox.com/s/755hnawo000aeaw/Placement_Data_Full_Class.csv"
   ]
  },
  {
   "cell_type": "code",
   "execution_count": 14,
   "metadata": {
    "colab": {
     "base_uri": "https://localhost:8080/",
     "height": 0
    },
    "id": "SKGhCr4Q3dT6",
    "outputId": "069bd571-ce48-424a-98f0-d61e7968c72a"
   },
   "outputs": [
    {
     "data": {
      "text/html": [
       "<div>\n",
       "<style scoped>\n",
       "    .dataframe tbody tr th:only-of-type {\n",
       "        vertical-align: middle;\n",
       "    }\n",
       "\n",
       "    .dataframe tbody tr th {\n",
       "        vertical-align: top;\n",
       "    }\n",
       "\n",
       "    .dataframe thead th {\n",
       "        text-align: right;\n",
       "    }\n",
       "</style>\n",
       "<table border=\"1\" class=\"dataframe\">\n",
       "  <thead>\n",
       "    <tr style=\"text-align: right;\">\n",
       "      <th></th>\n",
       "      <th>sl_no</th>\n",
       "      <th>gender</th>\n",
       "      <th>ssc_p</th>\n",
       "      <th>ssc_b</th>\n",
       "      <th>hsc_p</th>\n",
       "      <th>hsc_b</th>\n",
       "      <th>hsc_s</th>\n",
       "      <th>degree_p</th>\n",
       "      <th>degree_t</th>\n",
       "      <th>workex</th>\n",
       "      <th>etest_p</th>\n",
       "      <th>specialisation</th>\n",
       "      <th>mba_p</th>\n",
       "      <th>status</th>\n",
       "      <th>salary</th>\n",
       "    </tr>\n",
       "  </thead>\n",
       "  <tbody>\n",
       "    <tr>\n",
       "      <th>210</th>\n",
       "      <td>211</td>\n",
       "      <td>M</td>\n",
       "      <td>80.6</td>\n",
       "      <td>Others</td>\n",
       "      <td>82.0</td>\n",
       "      <td>Others</td>\n",
       "      <td>Commerce</td>\n",
       "      <td>77.6</td>\n",
       "      <td>Comm&amp;Mgmt</td>\n",
       "      <td>No</td>\n",
       "      <td>91.0</td>\n",
       "      <td>Mkt&amp;Fin</td>\n",
       "      <td>74.49</td>\n",
       "      <td>Placed</td>\n",
       "      <td>400000.0</td>\n",
       "    </tr>\n",
       "    <tr>\n",
       "      <th>211</th>\n",
       "      <td>212</td>\n",
       "      <td>M</td>\n",
       "      <td>58.0</td>\n",
       "      <td>Others</td>\n",
       "      <td>60.0</td>\n",
       "      <td>Others</td>\n",
       "      <td>Science</td>\n",
       "      <td>72.0</td>\n",
       "      <td>Sci&amp;Tech</td>\n",
       "      <td>No</td>\n",
       "      <td>74.0</td>\n",
       "      <td>Mkt&amp;Fin</td>\n",
       "      <td>53.62</td>\n",
       "      <td>Placed</td>\n",
       "      <td>275000.0</td>\n",
       "    </tr>\n",
       "    <tr>\n",
       "      <th>212</th>\n",
       "      <td>213</td>\n",
       "      <td>M</td>\n",
       "      <td>67.0</td>\n",
       "      <td>Others</td>\n",
       "      <td>67.0</td>\n",
       "      <td>Others</td>\n",
       "      <td>Commerce</td>\n",
       "      <td>73.0</td>\n",
       "      <td>Comm&amp;Mgmt</td>\n",
       "      <td>Yes</td>\n",
       "      <td>59.0</td>\n",
       "      <td>Mkt&amp;Fin</td>\n",
       "      <td>69.72</td>\n",
       "      <td>Placed</td>\n",
       "      <td>295000.0</td>\n",
       "    </tr>\n",
       "    <tr>\n",
       "      <th>213</th>\n",
       "      <td>214</td>\n",
       "      <td>F</td>\n",
       "      <td>74.0</td>\n",
       "      <td>Others</td>\n",
       "      <td>66.0</td>\n",
       "      <td>Others</td>\n",
       "      <td>Commerce</td>\n",
       "      <td>58.0</td>\n",
       "      <td>Comm&amp;Mgmt</td>\n",
       "      <td>No</td>\n",
       "      <td>70.0</td>\n",
       "      <td>Mkt&amp;HR</td>\n",
       "      <td>60.23</td>\n",
       "      <td>Placed</td>\n",
       "      <td>204000.0</td>\n",
       "    </tr>\n",
       "    <tr>\n",
       "      <th>214</th>\n",
       "      <td>215</td>\n",
       "      <td>M</td>\n",
       "      <td>62.0</td>\n",
       "      <td>Central</td>\n",
       "      <td>58.0</td>\n",
       "      <td>Others</td>\n",
       "      <td>Science</td>\n",
       "      <td>53.0</td>\n",
       "      <td>Comm&amp;Mgmt</td>\n",
       "      <td>No</td>\n",
       "      <td>89.0</td>\n",
       "      <td>Mkt&amp;HR</td>\n",
       "      <td>60.22</td>\n",
       "      <td>Not Placed</td>\n",
       "      <td>NaN</td>\n",
       "    </tr>\n",
       "  </tbody>\n",
       "</table>\n",
       "</div>"
      ],
      "text/plain": [
       "     sl_no gender  ssc_p    ssc_b  ...  specialisation  mba_p      status    salary\n",
       "210    211      M   80.6   Others  ...         Mkt&Fin  74.49      Placed  400000.0\n",
       "211    212      M   58.0   Others  ...         Mkt&Fin  53.62      Placed  275000.0\n",
       "212    213      M   67.0   Others  ...         Mkt&Fin  69.72      Placed  295000.0\n",
       "213    214      F   74.0   Others  ...          Mkt&HR  60.23      Placed  204000.0\n",
       "214    215      M   62.0  Central  ...          Mkt&HR  60.22  Not Placed       NaN\n",
       "\n",
       "[5 rows x 15 columns]"
      ]
     },
     "execution_count": 14,
     "metadata": {
      "tags": []
     },
     "output_type": "execute_result"
    }
   ],
   "source": [
    "campus = pd.read_csv('Placement_Data_Full_Class.csv')\n",
    "campus.tail()"
   ]
  },
  {
   "cell_type": "code",
   "execution_count": 15,
   "metadata": {
    "colab": {
     "base_uri": "https://localhost:8080/"
    },
    "id": "3BSdtsoO3dZc",
    "outputId": "7c8dffc9-7021-49e1-852e-a7048672f332"
   },
   "outputs": [
    {
     "data": {
      "text/plain": [
       "288655.4054054054"
      ]
     },
     "execution_count": 15,
     "metadata": {
      "tags": []
     },
     "output_type": "execute_result"
    }
   ],
   "source": [
    "campus['salary'].mean()"
   ]
  },
  {
   "cell_type": "markdown",
   "metadata": {
    "id": "sqpw5kC3bjHE"
   },
   "source": [
    "___\n",
    "**Observations:**\n",
    "- The average salary offered to students in Riverview Engineering College is **5,04,743** (5 lacs approx.) \n",
    "___"
   ]
  },
  {
   "cell_type": "code",
   "execution_count": 16,
   "metadata": {
    "colab": {
     "base_uri": "https://localhost:8080/"
    },
    "id": "Uq5DhkV53dQh",
    "outputId": "86d49760-6a53-4395-d84b-fa31435d25f1"
   },
   "outputs": [
    {
     "data": {
      "text/plain": [
       "265000.0"
      ]
     },
     "execution_count": 16,
     "metadata": {
      "tags": []
     },
     "output_type": "execute_result"
    }
   ],
   "source": [
    "campus['salary'].median()"
   ]
  },
  {
   "cell_type": "markdown",
   "metadata": {
    "id": "VGjLoKsgb5KU"
   },
   "source": [
    "___\n",
    "**Observations:**\n",
    "- The median salary is **2,65,000** (2 lac & 65 thousand), which is quite less than the average salary offered to students\n",
    "- From this, we can understand how calculating average can be misleading \n",
    "- We can assume that this is happening because there are outliers in the dataset, which means that **one or two students in the college have been offered a salary much greater than the average students**, which is quite common in every college.\n",
    "___"
   ]
  },
  {
   "cell_type": "markdown",
   "metadata": {
    "id": "_5WSX2TjdN90"
   },
   "source": [
    "Let us check the maximum salary offered to verify our assumption"
   ]
  },
  {
   "cell_type": "code",
   "execution_count": 17,
   "metadata": {
    "colab": {
     "base_uri": "https://localhost:8080/"
    },
    "id": "kn56p_ea3yI2",
    "outputId": "e0d97caf-f3b5-4723-9794-8926369b0f84"
   },
   "outputs": [
    {
     "data": {
      "text/plain": [
       "940000.0"
      ]
     },
     "execution_count": 17,
     "metadata": {
      "tags": []
     },
     "output_type": "execute_result"
    }
   ],
   "source": [
    "campus['salary'].max()"
   ]
  },
  {
   "cell_type": "markdown",
   "metadata": {
    "id": "e90FNEbNdZ_h"
   },
   "source": [
    "___\n",
    "**Observations:**\n",
    "- From above, you can see that the maximum salary offered to a student is **10,000,000** (1 Crore or 10 Million)\n",
    "- This is because the average salary is much more than the median salary offered\n",
    "___"
   ]
  },
  {
   "cell_type": "code",
   "execution_count": 18,
   "metadata": {
    "colab": {
     "base_uri": "https://localhost:8080/"
    },
    "id": "3taa5Kx43udu",
    "outputId": "5da0d726-ccfe-4bd1-a4ba-75390c77236b"
   },
   "outputs": [
    {
     "data": {
      "text/plain": [
       "0    300000.0\n",
       "dtype: float64"
      ]
     },
     "execution_count": 18,
     "metadata": {
      "tags": []
     },
     "output_type": "execute_result"
    }
   ],
   "source": [
    "campus['salary'].mode()"
   ]
  },
  {
   "cell_type": "markdown",
   "metadata": {
    "id": "o8_cNyBKd_xn"
   },
   "source": [
    "___\n",
    "**Observation:**\n",
    "- From above, we can see that the most of the students received a salary of about **3,00,000** (3 lac)\n",
    "___"
   ]
  },
  {
   "cell_type": "markdown",
   "metadata": {
    "id": "7zPKqnXxjdHy"
   },
   "source": [
    "##**Part 3: Data Types**\n",
    "\n"
   ]
  },
  {
   "cell_type": "markdown",
   "metadata": {
    "id": "egOv8WTtjdHz"
   },
   "source": [
    "###**Qualitative Data & Quantitative Data**"
   ]
  },
  {
   "cell_type": "code",
   "execution_count": 19,
   "metadata": {
    "colab": {
     "base_uri": "https://localhost:8080/",
     "height": 0
    },
    "id": "RZX_PE0qjdH1",
    "outputId": "96318acf-543e-448e-c9b3-572fe20e01c5"
   },
   "outputs": [
    {
     "data": {
      "image/png": "[encoded data removed]",
      "text/plain": [
       "<Figure size 432x288 with 1 Axes>"
      ]
     },
     "metadata": {
      "tags": []
     },
     "output_type": "display_data"
    }
   ],
   "source": [
    "import seaborn as sns\n",
    "import matplotlib.pyplot as plt\n",
    "sns.set()\n",
    "\n",
    "sns.barplot(x = 'Region', y = 'Sales', data = df, ci = None)\n",
    "plt.xlabel('Region: A Qualitative Data')\n",
    "plt.ylabel('Sales: Quantitative Data')\n",
    "\n",
    "plt.show()"
   ]
  },
  {
   "cell_type": "markdown",
   "metadata": {
    "id": "M21yytmImdpE"
   },
   "source": [
    "**Observation:** \n",
    "\n",
    "\n",
    "*   Data represented in the form of Categories (X-axis) - Qualitative Data\n",
    "*   Data represented using continuous numrical values (Y-axis) - Quantitative Data\n",
    "\n",
    "\n"
   ]
  },
  {
   "cell_type": "markdown",
   "metadata": {
    "id": "FcpVYup2jdH4"
   },
   "source": [
    "###**Qualitative Data**\n",
    "- Nominal\n",
    "- Ordinal    \n"
   ]
  },
  {
   "cell_type": "markdown",
   "metadata": {
    "id": "5cP3R8CyjdH5"
   },
   "source": [
    "####**Nominal Data**"
   ]
  },
  {
   "cell_type": "code",
   "execution_count": 20,
   "metadata": {
    "colab": {
     "base_uri": "https://localhost:8080/",
     "height": 0
    },
    "id": "BVOQLLRnjdH6",
    "outputId": "5307c273-17a0-4dc3-9306-91f8d4d39810"
   },
   "outputs": [
    {
     "data": {
      "text/html": [
       "<div>\n",
       "<style scoped>\n",
       "    .dataframe tbody tr th:only-of-type {\n",
       "        vertical-align: middle;\n",
       "    }\n",
       "\n",
       "    .dataframe tbody tr th {\n",
       "        vertical-align: top;\n",
       "    }\n",
       "\n",
       "    .dataframe thead th {\n",
       "        text-align: right;\n",
       "    }\n",
       "</style>\n",
       "<table border=\"1\" class=\"dataframe\">\n",
       "  <thead>\n",
       "    <tr style=\"text-align: right;\">\n",
       "      <th></th>\n",
       "      <th>Sub-Category</th>\n",
       "    </tr>\n",
       "  </thead>\n",
       "  <tbody>\n",
       "    <tr>\n",
       "      <th>0</th>\n",
       "      <td>Bookcases</td>\n",
       "    </tr>\n",
       "    <tr>\n",
       "      <th>1</th>\n",
       "      <td>Chairs</td>\n",
       "    </tr>\n",
       "    <tr>\n",
       "      <th>2</th>\n",
       "      <td>Labels</td>\n",
       "    </tr>\n",
       "    <tr>\n",
       "      <th>3</th>\n",
       "      <td>Tables</td>\n",
       "    </tr>\n",
       "    <tr>\n",
       "      <th>4</th>\n",
       "      <td>Storage</td>\n",
       "    </tr>\n",
       "  </tbody>\n",
       "</table>\n",
       "</div>"
      ],
      "text/plain": [
       "  Sub-Category\n",
       "0    Bookcases\n",
       "1       Chairs\n",
       "2       Labels\n",
       "3       Tables\n",
       "4      Storage"
      ]
     },
     "execution_count": 20,
     "metadata": {
      "tags": []
     },
     "output_type": "execute_result"
    }
   ],
   "source": [
    "df_new = pd.DataFrame(df['Sub-Category'])\n",
    "df_new.head()"
   ]
  },
  {
   "cell_type": "markdown",
   "metadata": {
    "id": "UOOoMd_3m9-S"
   },
   "source": [
    "**Observation:** Distinct types of furniture such as *Chairs* or *Tables*, hence Nominal Data."
   ]
  },
  {
   "cell_type": "markdown",
   "metadata": {
    "id": "U9f5dHYXjdH7"
   },
   "source": [
    "####**Ordinal Data**"
   ]
  },
  {
   "cell_type": "code",
   "execution_count": 21,
   "metadata": {
    "colab": {
     "base_uri": "https://localhost:8080/",
     "height": 0
    },
    "id": "KhivAGbIjdH8",
    "outputId": "b702f79e-8100-4218-dbf7-0e46e4dc6358"
   },
   "outputs": [
    {
     "data": {
      "text/html": [
       "<div>\n",
       "<style scoped>\n",
       "    .dataframe tbody tr th:only-of-type {\n",
       "        vertical-align: middle;\n",
       "    }\n",
       "\n",
       "    .dataframe tbody tr th {\n",
       "        vertical-align: top;\n",
       "    }\n",
       "\n",
       "    .dataframe thead th {\n",
       "        text-align: right;\n",
       "    }\n",
       "</style>\n",
       "<table border=\"1\" class=\"dataframe\">\n",
       "  <thead>\n",
       "    <tr style=\"text-align: right;\">\n",
       "      <th></th>\n",
       "      <th>Customer ID</th>\n",
       "      <th>Ship Mode</th>\n",
       "    </tr>\n",
       "  </thead>\n",
       "  <tbody>\n",
       "    <tr>\n",
       "      <th>0</th>\n",
       "      <td>CG-12520</td>\n",
       "      <td>Second Class</td>\n",
       "    </tr>\n",
       "    <tr>\n",
       "      <th>1</th>\n",
       "      <td>CG-12520</td>\n",
       "      <td>Second Class</td>\n",
       "    </tr>\n",
       "    <tr>\n",
       "      <th>2</th>\n",
       "      <td>DV-13045</td>\n",
       "      <td>Second Class</td>\n",
       "    </tr>\n",
       "    <tr>\n",
       "      <th>3</th>\n",
       "      <td>SO-20335</td>\n",
       "      <td>Standard Class</td>\n",
       "    </tr>\n",
       "    <tr>\n",
       "      <th>4</th>\n",
       "      <td>SO-20335</td>\n",
       "      <td>Standard Class</td>\n",
       "    </tr>\n",
       "  </tbody>\n",
       "</table>\n",
       "</div>"
      ],
      "text/plain": [
       "  Customer ID       Ship Mode\n",
       "0    CG-12520    Second Class\n",
       "1    CG-12520    Second Class\n",
       "2    DV-13045    Second Class\n",
       "3    SO-20335  Standard Class\n",
       "4    SO-20335  Standard Class"
      ]
     },
     "execution_count": 21,
     "metadata": {
      "tags": []
     },
     "output_type": "execute_result"
    }
   ],
   "source": [
    "df_new = pd.DataFrame(df[['Customer ID', 'Ship Mode']])\n",
    "df_new.head()"
   ]
  },
  {
   "cell_type": "markdown",
   "metadata": {
    "id": "o52Dl-4qnMpT"
   },
   "source": [
    "**Observation:** Distinct types of shipment methods which can be oredered on the basis of priority, hence Ordinal Data."
   ]
  },
  {
   "cell_type": "markdown",
   "metadata": {
    "id": "5krrJ7m7jdH-"
   },
   "source": [
    "###**Quantitative Data**\n",
    "- Discrete\n",
    "- Continuous   \n"
   ]
  },
  {
   "cell_type": "markdown",
   "metadata": {
    "id": "77zSLgRXjdH_"
   },
   "source": [
    "####**Discrete Data**"
   ]
  },
  {
   "cell_type": "code",
   "execution_count": 22,
   "metadata": {
    "colab": {
     "base_uri": "https://localhost:8080/",
     "height": 0
    },
    "id": "TmBAR_6-jdH_",
    "outputId": "68c01b91-ad17-4885-f4b6-ac3807c82976"
   },
   "outputs": [
    {
     "data": {
      "text/html": [
       "<div>\n",
       "<style scoped>\n",
       "    .dataframe tbody tr th:only-of-type {\n",
       "        vertical-align: middle;\n",
       "    }\n",
       "\n",
       "    .dataframe tbody tr th {\n",
       "        vertical-align: top;\n",
       "    }\n",
       "\n",
       "    .dataframe thead th {\n",
       "        text-align: right;\n",
       "    }\n",
       "</style>\n",
       "<table border=\"1\" class=\"dataframe\">\n",
       "  <thead>\n",
       "    <tr style=\"text-align: right;\">\n",
       "      <th></th>\n",
       "      <th>Customer Name</th>\n",
       "      <th>Quantity</th>\n",
       "    </tr>\n",
       "  </thead>\n",
       "  <tbody>\n",
       "    <tr>\n",
       "      <th>5521</th>\n",
       "      <td>Michael Stewart</td>\n",
       "      <td>4</td>\n",
       "    </tr>\n",
       "    <tr>\n",
       "      <th>942</th>\n",
       "      <td>Rob Williams</td>\n",
       "      <td>4</td>\n",
       "    </tr>\n",
       "    <tr>\n",
       "      <th>1761</th>\n",
       "      <td>Arthur Gainer</td>\n",
       "      <td>6</td>\n",
       "    </tr>\n",
       "    <tr>\n",
       "      <th>2917</th>\n",
       "      <td>Sanjit Engle</td>\n",
       "      <td>1</td>\n",
       "    </tr>\n",
       "    <tr>\n",
       "      <th>7058</th>\n",
       "      <td>William Brown</td>\n",
       "      <td>3</td>\n",
       "    </tr>\n",
       "  </tbody>\n",
       "</table>\n",
       "</div>"
      ],
      "text/plain": [
       "        Customer Name  Quantity\n",
       "5521  Michael Stewart         4\n",
       "942      Rob Williams         4\n",
       "1761    Arthur Gainer         6\n",
       "2917     Sanjit Engle         1\n",
       "7058    William Brown         3"
      ]
     },
     "execution_count": 22,
     "metadata": {
      "tags": []
     },
     "output_type": "execute_result"
    }
   ],
   "source": [
    "df_new = pd.DataFrame(df[['Customer Name','Quantity']])\n",
    "df_new.sample(5)"
   ]
  },
  {
   "cell_type": "markdown",
   "metadata": {
    "id": "bxDk_RRdni9b"
   },
   "source": [
    "**Observation:** Distinct numerical values of Quantity such as *2*, *5*, etc. in a finite range, hence Discrete Data."
   ]
  },
  {
   "cell_type": "markdown",
   "metadata": {
    "id": "atYlvVymjdIB"
   },
   "source": [
    "####**Continuous Data**"
   ]
  },
  {
   "cell_type": "code",
   "execution_count": 23,
   "metadata": {
    "colab": {
     "base_uri": "https://localhost:8080/",
     "height": 0
    },
    "id": "MRwgXwPBjdIC",
    "outputId": "61f617df-4de0-4df4-ae1c-1fa4b69b5206"
   },
   "outputs": [
    {
     "data": {
      "text/html": [
       "<div>\n",
       "<style scoped>\n",
       "    .dataframe tbody tr th:only-of-type {\n",
       "        vertical-align: middle;\n",
       "    }\n",
       "\n",
       "    .dataframe tbody tr th {\n",
       "        vertical-align: top;\n",
       "    }\n",
       "\n",
       "    .dataframe thead th {\n",
       "        text-align: right;\n",
       "    }\n",
       "</style>\n",
       "<table border=\"1\" class=\"dataframe\">\n",
       "  <thead>\n",
       "    <tr style=\"text-align: right;\">\n",
       "      <th></th>\n",
       "      <th>Customer Name</th>\n",
       "      <th>Sales</th>\n",
       "    </tr>\n",
       "  </thead>\n",
       "  <tbody>\n",
       "    <tr>\n",
       "      <th>6910</th>\n",
       "      <td>Vivek Gonzalez</td>\n",
       "      <td>115.960</td>\n",
       "    </tr>\n",
       "    <tr>\n",
       "      <th>2119</th>\n",
       "      <td>Rob Williams</td>\n",
       "      <td>895.920</td>\n",
       "    </tr>\n",
       "    <tr>\n",
       "      <th>494</th>\n",
       "      <td>Rose O'Brian</td>\n",
       "      <td>189.882</td>\n",
       "    </tr>\n",
       "    <tr>\n",
       "      <th>7466</th>\n",
       "      <td>Anna Häberlin</td>\n",
       "      <td>87.840</td>\n",
       "    </tr>\n",
       "    <tr>\n",
       "      <th>2297</th>\n",
       "      <td>Valerie Dominguez</td>\n",
       "      <td>42.950</td>\n",
       "    </tr>\n",
       "  </tbody>\n",
       "</table>\n",
       "</div>"
      ],
      "text/plain": [
       "          Customer Name    Sales\n",
       "6910     Vivek Gonzalez  115.960\n",
       "2119       Rob Williams  895.920\n",
       "494        Rose O'Brian  189.882\n",
       "7466      Anna Häberlin   87.840\n",
       "2297  Valerie Dominguez   42.950"
      ]
     },
     "execution_count": 23,
     "metadata": {
      "tags": []
     },
     "output_type": "execute_result"
    }
   ],
   "source": [
    "df_new = pd.DataFrame(df[['Customer Name','Sales']])\n",
    "df_new.sample(5)"
   ]
  },
  {
   "cell_type": "markdown",
   "metadata": {
    "id": "_2nOSzb4n-CA"
   },
   "source": [
    "**Observation:** Any real value for Sales, hence Continuous Data."
   ]
  },
  {
   "cell_type": "markdown",
   "metadata": {
    "id": "dkzeH1wVyTLE"
   },
   "source": [
    "##**Why Learn Statistics?**\n",
    "\n",
    "- Important for [Data Science Interviews](https://www.edureka.co/blog/interview-questions/data-science-interview-questions/#statistics)\n",
    "- It's a fundamental concept\n",
    "- Your basics must be clear before going on advanced topics"
   ]
  }
 ],
 "metadata": {
  "colab": {
   "collapsed_sections": [
    "RMjg2CqZn2vk",
    "w_hrLPW0lmB-",
    "DF8hhaAfhMwo",
    "uIOLOmnhcsEG",
    "7zPKqnXxjdHy"
   ],
   "name": "Demo_Statistical_Foundations I.ipynb",
   "provenance": []
  },
  "kernelspec": {
   "display_name": "Python 3",
   "language": "python",
   "name": "python3"
  },
  "language_info": {
   "codemirror_mode": {
    "name": "ipython",
    "version": 3
   },
   "file_extension": ".py",
   "mimetype": "text/x-python",
   "name": "python",
   "nbconvert_exporter": "python",
   "pygments_lexer": "ipython3",
   "version": "3.8.8"
  }
 },
 "nbformat": 4,
 "nbformat_minor": 1
}
